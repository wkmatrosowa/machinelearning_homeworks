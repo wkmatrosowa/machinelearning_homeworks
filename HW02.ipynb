{
  "nbformat": 4,
  "nbformat_minor": 0,
  "metadata": {
    "kernelspec": {
      "display_name": "Python 3",
      "language": "python",
      "name": "python3"
    },
    "language_info": {
      "codemirror_mode": {
        "name": "ipython",
        "version": 2
      },
      "file_extension": ".py",
      "mimetype": "text/x-python",
      "name": "python",
      "nbconvert_exporter": "python",
      "pygments_lexer": "ipython2",
      "version": "2.7.6"
    },
    "pycharm": {
      "stem_cell": {
        "cell_type": "raw",
        "source": [],
        "metadata": {
          "collapsed": false
        }
      }
    },
    "colab": {
      "name": "HW02.ipynb",
      "provenance": [],
      "collapsed_sections": [],
      "machine_shape": "hm",
      "include_colab_link": true
    }
  },
  "cells": [
    {
      "cell_type": "markdown",
      "metadata": {
        "id": "view-in-github",
        "colab_type": "text"
      },
      "source": [
        "<a href=\"https://colab.research.google.com/github/wksmirnowa/machinelearning_homeworks/blob/master/HW02.ipynb\" target=\"_parent\"><img src=\"https://colab.research.google.com/assets/colab-badge.svg\" alt=\"Open In Colab\"/></a>"
      ]
    },
    {
      "cell_type": "markdown",
      "metadata": {
        "id": "ZxdnTSTZSJVO",
        "colab_type": "text"
      },
      "source": [
        "Импортируем и разархивируем данные\n"
      ]
    },
    {
      "cell_type": "code",
      "metadata": {
        "id": "_2rVK9gV53vy",
        "colab_type": "code",
        "outputId": "6d70d9e4-3721-44e8-e746-4b8efe14dc12",
        "colab": {
          "base_uri": "https://localhost:8080/",
          "height": 122
        }
      },
      "source": [
        "from google.colab import drive\n",
        "drive.mount('/content/drive')"
      ],
      "execution_count": 1,
      "outputs": [
        {
          "output_type": "stream",
          "text": [
            "Go to this URL in a browser: https://accounts.google.com/o/oauth2/auth?client_id=947318989803-6bn6qk8qdgf4n4g3pfee6491hc0brc4i.apps.googleusercontent.com&redirect_uri=urn%3aietf%3awg%3aoauth%3a2.0%3aoob&response_type=code&scope=email%20https%3a%2f%2fwww.googleapis.com%2fauth%2fdocs.test%20https%3a%2f%2fwww.googleapis.com%2fauth%2fdrive%20https%3a%2f%2fwww.googleapis.com%2fauth%2fdrive.photos.readonly%20https%3a%2f%2fwww.googleapis.com%2fauth%2fpeopleapi.readonly\n",
            "\n",
            "Enter your authorization code:\n",
            "··········\n",
            "Mounted at /content/drive\n"
          ],
          "name": "stdout"
        }
      ]
    },
    {
      "cell_type": "code",
      "metadata": {
        "id": "nVPF4UGs5s9G",
        "colab_type": "code",
        "colab": {}
      },
      "source": [
        "import tarfile\n",
        "data = tarfile.open('/content/drive/My Drive/aclImdb_v1.tar', 'r')\n",
        "data.extractall()"
      ],
      "execution_count": 0,
      "outputs": []
    },
    {
      "cell_type": "markdown",
      "metadata": {
        "id": "Ok2dKhYtR6IQ",
        "colab_type": "text"
      },
      "source": [
        "Импортируем все необходимое сразу"
      ]
    },
    {
      "cell_type": "code",
      "metadata": {
        "id": "RdRBdUBUR_mh",
        "colab_type": "code",
        "colab": {}
      },
      "source": [
        "import numpy as np\n",
        "import os\n",
        "import csv\n",
        "import pandas as pd\n",
        "from sklearn.metrics import roc_auc_score, roc_curve\n",
        "from matplotlib import pyplot\n",
        "from sklearn.feature_extraction.text import CountVectorizer\n",
        "from sklearn.naive_bayes import MultinomialNB\n",
        "from sklearn.linear_model import LogisticRegression\n",
        "from sklearn.svm import LinearSVC\n",
        "from sklearn.tree import DecisionTreeClassifier\n",
        "from sklearn.neighbors import KNeighborsClassifier\n",
        "from sklearn.metrics import *\n",
        "from sklearn.model_selection import train_test_split\n",
        "import seaborn as sns; sns.set()\n",
        "import matplotlib.pyplot as plt\n",
        "%matplotlib inline\n"
      ],
      "execution_count": 0,
      "outputs": []
    },
    {
      "cell_type": "markdown",
      "metadata": {
        "id": "HGup83WLSoqE",
        "colab_type": "text"
      },
      "source": [
        "Запишем тренировочные и тестовые данные в отдельные файлы"
      ]
    },
    {
      "cell_type": "code",
      "metadata": {
        "id": "7irldJffpmxC",
        "colab_type": "code",
        "colab": {}
      },
      "source": [
        "os.chdir('/content/drive/My Drive')"
      ],
      "execution_count": 0,
      "outputs": []
    },
    {
      "cell_type": "code",
      "metadata": {
        "id": "W3Xu_VdypSFf",
        "colab_type": "code",
        "colab": {}
      },
      "source": [
        "train_data = pd.read_csv('train.csv')\n",
        "test_data = pd.read_csv('test.csv')"
      ],
      "execution_count": 0,
      "outputs": []
    },
    {
      "cell_type": "markdown",
      "metadata": {
        "id": "L0CBqSc7x3Pu",
        "colab_type": "text"
      },
      "source": [
        "Так как колаб перестает работать, если дать ему все данные, сократим их размер."
      ]
    },
    {
      "cell_type": "code",
      "metadata": {
        "id": "1T0X_9ft1zns",
        "colab_type": "code",
        "colab": {}
      },
      "source": [
        "train_data = train_data.sample(frac=1).reset_index(drop=True)\n",
        "test_data = test_data.sample(frac=1).reset_index(drop=True)\n",
        "train_data_short = train_data.sample(10000)\n",
        "test_data_short = train_data.sample(10000)"
      ],
      "execution_count": 0,
      "outputs": []
    },
    {
      "cell_type": "code",
      "metadata": {
        "id": "GVBtkYHprcIz",
        "colab_type": "code",
        "outputId": "1d2053c0-d4c3-4658-ca11-dfeaedb985a6",
        "colab": {
          "base_uri": "https://localhost:8080/",
          "height": 34
        }
      },
      "source": [
        "train_data_short.shape"
      ],
      "execution_count": 0,
      "outputs": [
        {
          "output_type": "execute_result",
          "data": {
            "text/plain": [
              "(10000, 3)"
            ]
          },
          "metadata": {
            "tags": []
          },
          "execution_count": 8
        }
      ]
    },
    {
      "cell_type": "code",
      "metadata": {
        "id": "bGItXx7Avwu_",
        "colab_type": "code",
        "outputId": "8e4ff89e-507a-420c-e8fb-7bffe885b08d",
        "colab": {
          "base_uri": "https://localhost:8080/",
          "height": 34
        }
      },
      "source": [
        "test_data_short.shape"
      ],
      "execution_count": 0,
      "outputs": [
        {
          "output_type": "execute_result",
          "data": {
            "text/plain": [
              "(10000, 3)"
            ]
          },
          "metadata": {
            "tags": []
          },
          "execution_count": 9
        }
      ]
    },
    {
      "cell_type": "markdown",
      "metadata": {
        "id": "dVucedyQunWz",
        "colab_type": "text"
      },
      "source": [
        "Переименуем сразу метки pos в 1, а neg в 0, чтобы потом было проще считать ROC кривую."
      ]
    },
    {
      "cell_type": "code",
      "metadata": {
        "id": "GYqxQayQtWra",
        "colab_type": "code",
        "colab": {}
      },
      "source": [
        "test_data_short['Polarity'] = test_data_short['Polarity'].map({'pos': 1, 'neg': 0}) \n",
        "train_data_short['Polarity'] = train_data_short['Polarity'].map({'pos': 1, 'neg': 0}) "
      ],
      "execution_count": 0,
      "outputs": []
    },
    {
      "cell_type": "code",
      "metadata": {
        "id": "g8Ju4Iw_vMXn",
        "colab_type": "code",
        "colab": {}
      },
      "source": [
        "test_data_short.head(5)"
      ],
      "execution_count": 0,
      "outputs": []
    },
    {
      "cell_type": "code",
      "metadata": {
        "id": "0ZvdeWAmuU8w",
        "colab_type": "code",
        "colab": {}
      },
      "source": [
        "train_data_short.head(5)"
      ],
      "execution_count": 0,
      "outputs": []
    },
    {
      "cell_type": "code",
      "metadata": {
        "id": "dmElqXxUwWjo",
        "colab_type": "code",
        "colab": {}
      },
      "source": [
        "test_data_short.drop(['Unnamed: 0'], axis=1, inplace=True)"
      ],
      "execution_count": 0,
      "outputs": []
    },
    {
      "cell_type": "code",
      "metadata": {
        "id": "FSJP-oOzzjAr",
        "colab_type": "code",
        "colab": {}
      },
      "source": [
        "train_data_short.drop(['Unnamed: 0'], axis=1, inplace=True)"
      ],
      "execution_count": 0,
      "outputs": []
    },
    {
      "cell_type": "code",
      "metadata": {
        "id": "fSLp2Foojbjj",
        "colab_type": "code",
        "colab": {}
      },
      "source": [
        "count_vect = CountVectorizer()"
      ],
      "execution_count": 0,
      "outputs": []
    },
    {
      "cell_type": "code",
      "metadata": {
        "id": "zn2ImV8NRKLH",
        "colab_type": "code",
        "outputId": "2ca96df9-8151-42c4-d388-e99fca5594ca",
        "colab": {
          "base_uri": "https://localhost:8080/",
          "height": 34
        }
      },
      "source": [
        "X_train_counts = count_vect.fit_transform(train_data_short.Text)\n",
        "X_train_counts.shape"
      ],
      "execution_count": 20,
      "outputs": [
        {
          "output_type": "execute_result",
          "data": {
            "text/plain": [
              "(10000, 51584)"
            ]
          },
          "metadata": {
            "tags": []
          },
          "execution_count": 20
        }
      ]
    },
    {
      "cell_type": "code",
      "metadata": {
        "id": "CNL6u6EWO_Lr",
        "colab_type": "code",
        "colab": {}
      },
      "source": [
        "X_test = count_vect.transform(test_data_short.Text)"
      ],
      "execution_count": 0,
      "outputs": []
    },
    {
      "cell_type": "markdown",
      "metadata": {
        "id": "Myr4YoTIGo09",
        "colab_type": "text"
      },
      "source": [
        "Сначала я попробовала метод наивного Байеса и линейную регрессию, с нашими данными они сработали в принципе хорошо. Потом я решила попробовать метод ближайшего соседа, метод опорных векторов и деревья решения, но, к сожалению, ни один из этих методов не дал хороших результатов. Я решила оставить в данной тетрадке все опробованные мной методы, чтобы показать, какие результаты я получила.\n",
        "\n",
        "Негативные и позитивные отзывы я выводила только для моделей, сработавших хорошо."
      ]
    },
    {
      "cell_type": "markdown",
      "metadata": {
        "collapsed": false,
        "id": "E_06QDj34Wtt",
        "colab_type": "text"
      },
      "source": [
        "## Метод ближайшего соседа  [Nearest neighbor classifier]\n",
        "\n"
      ]
    },
    {
      "cell_type": "code",
      "metadata": {
        "pycharm": {
          "name": "#%%\n"
        },
        "id": "yEvEbQza4WuC",
        "colab_type": "code",
        "colab": {}
      },
      "source": [
        "clf_KN = KNeighborsClassifier().fit(X_train_counts, test_data_short.Polarity)"
      ],
      "execution_count": 0,
      "outputs": []
    },
    {
      "cell_type": "code",
      "metadata": {
        "pycharm": {
          "name": "#%%\n"
        },
        "id": "jbI4eSxw4WuF",
        "colab_type": "code",
        "colab": {}
      },
      "source": [
        "predicted_KN = clf_KN.predict(X_test)\n",
        "# predicted_proba_KN = clf_KN.predict_proba(X_test)"
      ],
      "execution_count": 0,
      "outputs": []
    },
    {
      "cell_type": "code",
      "metadata": {
        "pycharm": {
          "name": "#%%\n"
        },
        "id": "4F0yeUq34WuH",
        "colab_type": "code",
        "outputId": "5e5b69a2-d80f-4202-de1f-5eab09bc380b",
        "colab": {
          "base_uri": "https://localhost:8080/",
          "height": 85
        }
      },
      "source": [
        "acc = accuracy_score(predicted_KN, test_data_short.Polarity)\n",
        "micro_f1 = f1_score(predicted_KN, test_data_short.Polarity, average = 'micro')\n",
        "micro_p = precision_score(predicted_KN, test_data_short.Polarity, average = 'micro')\n",
        "micro_r = recall_score(predicted_KN, test_data_short.Polarity, average = 'micro')\n",
        "macro_f1 = f1_score(predicted_KN, test_data_short.Polarity, average = 'macro')\n",
        "macro_p = precision_score(predicted_KN, test_data_short.Polarity, average = 'macro')\n",
        "macro_r = recall_score(predicted_KN, test_data_short.Polarity, average = 'macro')\n",
        "print('acc={0:1.4f}'.format(acc))\n",
        "print('micro F1={0:1.4f}, micro P={1:1.4f}, micro R={2:1.4f}'.format(micro_f1, micro_p, micro_r))\n",
        "print('macro F1={0:1.4f}, macro P={1:1.4f}, macro R={2:1.4f}\\n'.format(macro_f1, macro_p, macro_r))"
      ],
      "execution_count": 117,
      "outputs": [
        {
          "output_type": "stream",
          "text": [
            "acc=0.4926\n",
            "micro F1=0.4926, micro P=0.4926, micro R=0.4926\n",
            "macro F1=0.4924, macro P=0.4926, macro R=0.4926\n",
            "\n"
          ],
          "name": "stdout"
        }
      ]
    },
    {
      "cell_type": "code",
      "metadata": {
        "pycharm": {
          "name": "#%%\n"
        },
        "id": "jYyWe06r4WuL",
        "colab_type": "code",
        "outputId": "6df3a5e6-db61-4c8f-ecd4-78dccf75c5dd",
        "colab": {
          "base_uri": "https://localhost:8080/",
          "height": 284
        }
      },
      "source": [
        "sns.heatmap(data=confusion_matrix(test_data_short.Polarity, predicted_KN), annot=True, fmt=\"d\", cbar=False, xticklabels=categories, yticklabels=categories)\n",
        "plt.title(\"Confusion matrix\")\n",
        "plt.show()"
      ],
      "execution_count": 0,
      "outputs": [
        {
          "output_type": "display_data",
          "data": {
            "image/png": "[encoded data removed]",
            "text/plain": [
              "<Figure size 432x288 with 1 Axes>"
            ]
          },
          "metadata": {
            "tags": []
          }
        }
      ]
    },
    {
      "cell_type": "code",
      "metadata": {
        "id": "aYohFEiYGD2s",
        "colab_type": "code",
        "outputId": "5b00f267-ca39-4c4c-8388-4835e7428cca",
        "colab": {
          "base_uri": "https://localhost:8080/",
          "height": 302
        }
      },
      "source": [
        "y_true = test_data_short.Polarity #как было в корпусе\n",
        "y_predicted = predicted_KN #как сработал алгоритм\n",
        "fpr, tpr, _ = roc_curve(y_true, y_predicted)\n",
        "pyplot.plot(fpr, tpr, marker='.', label='Test')\n",
        "pyplot.xlabel('False Positive Rate')\n",
        "pyplot.ylabel('True Positive Rate')\n",
        "pyplot.legend()\n",
        "pyplot.show()\n",
        "\n",
        "print(roc_auc_score(y_true, y_predicted))"
      ],
      "execution_count": 0,
      "outputs": [
        {
          "output_type": "display_data",
          "data": {
            "image/png": "[encoded data removed]",
            "text/plain": [
              "<Figure size 432x288 with 1 Axes>"
            ]
          },
          "metadata": {
            "tags": []
          }
        },
        {
          "output_type": "stream",
          "text": [
            "0.5112975021431042\n"
          ],
          "name": "stdout"
        }
      ]
    },
    {
      "cell_type": "code",
      "metadata": {
        "id": "e8oShzB-fyln",
        "colab_type": "code",
        "colab": {}
      },
      "source": [
        "test_data_short.insert(loc=6, column='prediction_KN', value=predicted_KN)"
      ],
      "execution_count": 0,
      "outputs": []
    },
    {
      "cell_type": "code",
      "metadata": {
        "id": "vr-Uidsqf9FL",
        "colab_type": "code",
        "colab": {}
      },
      "source": [
        "tp = len(test_data_short.loc[(test_data_short.Polarity == 1) & (test_data_short['prediction_KN'] == 1)])\n",
        "fp = len(test_data_short.loc[(test_data_short.Polarity == 0) & (test_data_short['prediction_KN'] == 1)])\n",
        "tn = len(test_data_short.loc[(test_data_short.Polarity == 0) & (test_data_short['prediction_KN'] == 0)])\n",
        "fn = len(test_data_short.loc[(test_data_short.Polarity == 1) & (test_data_short['prediction_KN'] == 0)])"
      ],
      "execution_count": 0,
      "outputs": []
    },
    {
      "cell_type": "code",
      "metadata": {
        "colab_type": "code",
        "outputId": "e8f7f29b-2bc5-4e9e-a682-1c0c5390a6f5",
        "id": "bg55LB6AgLYQ",
        "colab": {
          "base_uri": "https://localhost:8080/",
          "height": 34
        }
      },
      "source": [
        "precision = tp / (tp + fp)\n",
        "precision"
      ],
      "execution_count": 120,
      "outputs": [
        {
          "output_type": "execute_result",
          "data": {
            "text/plain": [
              "0.4918032786885246"
            ]
          },
          "metadata": {
            "tags": []
          },
          "execution_count": 120
        }
      ]
    },
    {
      "cell_type": "code",
      "metadata": {
        "colab_type": "code",
        "outputId": "3d03e770-3fb5-4f4a-8f25-b4d11d72899b",
        "id": "M1kMjQHVgLYk",
        "colab": {
          "base_uri": "https://localhost:8080/",
          "height": 34
        }
      },
      "source": [
        "recall = tp / (tp + fn)\n",
        "recall"
      ],
      "execution_count": 121,
      "outputs": [
        {
          "output_type": "execute_result",
          "data": {
            "text/plain": [
              "0.4744744744744745"
            ]
          },
          "metadata": {
            "tags": []
          },
          "execution_count": 121
        }
      ]
    },
    {
      "cell_type": "code",
      "metadata": {
        "colab_type": "code",
        "outputId": "d9e6614f-422b-4064-ba35-341a2502470b",
        "id": "NeBDVg4dgLY0",
        "colab": {
          "base_uri": "https://localhost:8080/",
          "height": 34
        }
      },
      "source": [
        "f1 = 2 * (precision * recall) / (precision + recall)\n",
        "f1"
      ],
      "execution_count": 122,
      "outputs": [
        {
          "output_type": "execute_result",
          "data": {
            "text/plain": [
              "0.48298349296922766"
            ]
          },
          "metadata": {
            "tags": []
          },
          "execution_count": 122
        }
      ]
    },
    {
      "cell_type": "markdown",
      "metadata": {
        "collapsed": false,
        "id": "FIbs6me84WuR",
        "colab_type": "text"
      },
      "source": [
        "## Метод наивного Байеса  [Multinomial naive Bayes classifier]\n",
        "\t\n",
        "\t\n",
        "\n",
        "\n"
      ]
    },
    {
      "cell_type": "markdown",
      "metadata": {
        "collapsed": false,
        "id": "wHGjC04m4Wub",
        "colab_type": "text"
      },
      "source": [
        "### Мультиномиальный наивный Байсовский классификатор "
      ]
    },
    {
      "cell_type": "code",
      "metadata": {
        "pycharm": {
          "name": "#%%\n"
        },
        "id": "ok6LZuu54Wub",
        "colab_type": "code",
        "colab": {}
      },
      "source": [
        "X_test = count_vect.transform(test_data_short.Text)\n",
        "clf_NB = MultinomialNB().fit(X_train_counts, train_data_short.Polarity)\n",
        "predicted_NB = clf_NB.predict(X_test)\n",
        "predicted_proba_NB = clf_NB.predict_proba(X_test)"
      ],
      "execution_count": 0,
      "outputs": []
    },
    {
      "cell_type": "code",
      "metadata": {
        "pycharm": {
          "name": "#%%\n"
        },
        "id": "nTtNFZCf4Wue",
        "colab_type": "code",
        "outputId": "4934214b-98a3-43bf-b7c6-7ee350db93b5",
        "colab": {
          "base_uri": "https://localhost:8080/",
          "height": 85
        }
      },
      "source": [
        "acc = accuracy_score(predicted_NB, test_data_short.Polarity)\n",
        "micro_f1 = f1_score(predicted_NB, test_data_short.Polarity, average = 'micro')\n",
        "micro_p = precision_score(predicted_NB, test_data_short.Polarity, average = 'micro')\n",
        "micro_r = recall_score(predicted_NB, test_data_short.Polarity, average = 'micro')\n",
        "macro_f1 = f1_score(predicted_NB, test_data_short.Polarity, average = 'macro')\n",
        "macro_p = precision_score(predicted_NB, test_data_short.Polarity, average = 'macro')\n",
        "macro_r = recall_score(predicted_NB, test_data_short.Polarity, average = 'macro')\n",
        "print('acc={0:1.4f}'.format(acc))\n",
        "print('micro F1={0:1.4f}, micro P={1:1.4f}, micro R={2:1.4f}'.format(micro_f1, micro_p, micro_r))\n",
        "print('macro F1={0:1.4f}, macro P={1:1.4f}, macro R={2:1.4f}\\n'.format(macro_f1, macro_p, macro_r))"
      ],
      "execution_count": 71,
      "outputs": [
        {
          "output_type": "stream",
          "text": [
            "acc=0.8790\n",
            "micro F1=0.8790, micro P=0.8790, micro R=0.8790\n",
            "macro F1=0.8789, macro P=0.8790, macro R=0.8803\n",
            "\n"
          ],
          "name": "stdout"
        }
      ]
    },
    {
      "cell_type": "code",
      "metadata": {
        "id": "BqmgJfxupk65",
        "colab_type": "code",
        "colab": {}
      },
      "source": [
        "categories = ['pos', 'neg']"
      ],
      "execution_count": 0,
      "outputs": []
    },
    {
      "cell_type": "code",
      "metadata": {
        "pycharm": {
          "name": "#%%\n"
        },
        "id": "nz61wpjI4Wug",
        "colab_type": "code",
        "outputId": "b6ea810f-cf7e-49bf-cc1c-ef052dcf29b0",
        "colab": {
          "base_uri": "https://localhost:8080/",
          "height": 284
        }
      },
      "source": [
        "sns.heatmap(data=confusion_matrix(test_data_short.Polarity, predicted_NB), annot=True, fmt=\"d\", cbar=False, xticklabels=categories, yticklabels=categories)\n",
        "plt.title(\"Confusion matrix\")\n",
        "plt.show()"
      ],
      "execution_count": 0,
      "outputs": [
        {
          "output_type": "display_data",
          "data": {
            "image/png": "[encoded data removed]",
            "text/plain": [
              "<Figure size 432x288 with 1 Axes>"
            ]
          },
          "metadata": {
            "tags": []
          }
        }
      ]
    },
    {
      "cell_type": "code",
      "metadata": {
        "id": "13cfD5kjpNwZ",
        "colab_type": "code",
        "outputId": "5f91a67c-e1a8-4fbe-b0c3-f193c8c39769",
        "colab": {
          "base_uri": "https://localhost:8080/",
          "height": 302
        }
      },
      "source": [
        "y_true = test_data_short.Polarity #как было в корпусе\n",
        "y_predicted = predicted_NB #как сработал алгоритм\n",
        "fpr, tpr, _ = roc_curve(y_true, y_predicted)\n",
        "pyplot.plot(fpr, tpr, marker='.', label='Test')\n",
        "pyplot.xlabel('False Positive Rate')\n",
        "pyplot.ylabel('True Positive Rate')\n",
        "pyplot.legend()\n",
        "pyplot.show()\n",
        "\n",
        "print(roc_auc_score(y_true, y_predicted))"
      ],
      "execution_count": 0,
      "outputs": [
        {
          "output_type": "display_data",
          "data": {
            "image/png": "[encoded data removed]",
            "text/plain": [
              "<Figure size 432x288 with 1 Axes>"
            ]
          },
          "metadata": {
            "tags": []
          }
        },
        {
          "output_type": "stream",
          "text": [
            "0.8712113393938143\n"
          ],
          "name": "stdout"
        }
      ]
    },
    {
      "cell_type": "code",
      "metadata": {
        "id": "GYma10pBYhMd",
        "colab_type": "code",
        "colab": {}
      },
      "source": [
        "#негативные отзывы\n",
        "probabilities_NB = clf_NB.predict_proba(X_test)[:,1]\n",
        "most_neg = probabilities_NB.argsort()[:15]\n",
        "neg_reviews = []\n",
        "for rev in most_neg:\n",
        "  is_not_repeat = True\n",
        "  for neg in neg_reviews:\n",
        "    if (neg-rev).any():\n",
        "      is_not_repeat = False\n",
        "      break\n",
        "  if is_not_repeat:\n",
        "    neg_reviews.append(rev)\n",
        "def find_text(index: int):\n",
        "  for i, text in enumerate(test_data_short.Text):\n",
        "    if i == index:\n",
        "      return text\n",
        "  return None"
      ],
      "execution_count": 0,
      "outputs": []
    },
    {
      "cell_type": "code",
      "metadata": {
        "id": "9QS_hHgkX8_g",
        "colab_type": "code",
        "colab": {}
      },
      "source": [
        "#позитивные отзывы\n",
        "probabilities_NB = clf_NB.predict_proba(X_test)[:, 1]\n",
        "most_pos = probabilities_NB.argsort()[-15:]\n",
        "pos_reviews = []\n",
        "for rev in most_pos:\n",
        "  is_not_repeat = True\n",
        "  for pos in pos_reviews:\n",
        "    if (pos-rev).any():\n",
        "      is_not_repeat = False\n",
        "      break\n",
        "  if is_not_repeat:\n",
        "    pos_reviews.append(rev)"
      ],
      "execution_count": 0,
      "outputs": []
    },
    {
      "cell_type": "code",
      "metadata": {
        "id": "-K41X_XXYa9Q",
        "colab_type": "code",
        "colab": {
          "base_uri": "https://localhost:8080/",
          "height": 292
        },
        "outputId": "3f5c031d-0e2b-405c-ad19-5b4bb3f44acf"
      },
      "source": [
        "for rev in most_neg: #негативные отзывы\n",
        "  print(find_text(rev))"
      ],
      "execution_count": 50,
      "outputs": [
        {
          "output_type": "stream",
          "text": [
            "Waitress: Honey, here's them eggs you ordered. Honey, like bee, get it? That's called pointless foreshadowing.<br /><br />Edward Basket: Huh? (On the road) Basket: Here's your doll back, little girl. You really shouldn't be so careless with your belongings.<br /><br />Little girl: Yeah, whatever.<br /><br />Crash! Boom! Whoosh! Crackle Basket: I think that something bad is about to happen.<br /><br />(Later) Basket: Mmmm. Vicodin! What the ? (Tears open letter.) Wow! My ex-girl's handwriting has really improved. And look, her missing daughter looks kinda like the girl with the doll I accidentally was sort of responsible for getting killed, in a way. And she kind of has my hairline. I wonder, should I torture myself and go find her? Let's see what my friends at the precinct think.<br /><br />Basket's fellow male cop: HAHAHA. Willow's a funny name.<br /><br />Basket: I think that something bad is about to happen.<br /><br />(On the island) Basket: What's in the sack? AHHH.<br /><br />Tree-named crone: It's not her daughter, though.<br /><br />(In the tavern) Basket: Can you swing that? Big-boned, tree-named tavern wench: Huh? Basket: (smashes a bee). Everything is OK.<br /><br />Sensually pretty, formerly promising actress playing a lusty tavern scullery maid: That's good. Honey's not a plant, though.<br /><br />(On the greensward) Willow: Oh, yeah, and I forgot, you are the father my child, Conan, er, I mean Rowen. (Yawns.) I could have stayed and had a life with you. But I didn't. I wanted to be princess of the beehive, instead. I mean, never mind. (Nods off, jerks awake, widens eyes to anime proportions). Mwah, kiss-kiss. Love ya! What were we talking about? Basket: Who burned it? Who burned it? Who burned it? Who burned it? Who burned it? Willow: Edward. Sniff. Blink. Why. Are. You. Yelling. At. Me? Is it because I jacked your Vicodin? Sniff. Snore. What were we talking about? Basket: I think something bad is about to happen.<br /><br />Willow: My lips hurt.<br /><br />(In the schoolroom) Rose: What is man? Unappealling twins, in unison: Phallic symbol, phallic symbol.<br /><br />Rose: Echo? Echo? Basket: Step away from the bike.<br /><br />Rose: And I'm the good twin.<br /><br />Basket: I think something bad is about to happen.<br /><br />(At the beehives) Basket: Hmmm. Hallo? Ow, ow, ow, oh bother. Silly old bear. Snore.<br /><br />(At the Queen Bee's mansion) Sister Summersisle: You have so much potential. What are you doing here? Weren't you the stud Cher slapped in the face in Moonstruck? (Licks lips.) Basket: I was about to ask you the same thing. Where's the girl? Sister Summersisle: How you drone on. Let's talk about the significance of my superfluous \"s.\" Basket: Look out for that semi-truck barreling toward us! Aaaaah! Oh. Never mind. Goddammit! (Pops another pill.) Mmmm. Thorazine.<br /><br />(Back at the tavern) Big-boned, supercilious tavern wench: I've tried Weightwatchers, Jenny Craig, South Beech, and I still went up a bear-suit size since last year.<br /><br />Tree-named crone: HAHAHA. All the better to roast that nosy cop in, my dear.<br /><br />Big-boned wench: Totally.<br /><br />Basket: That was the last straw that broke the Basket Case's back! Take that, wench! (Slugs her.) (Edward Basket is mysteriously attacked from behind) Voluptuous tavern wench: EEEE! Snap out of it! Leave the island already and take me with you! Do I have to tackle you or what? Snap out of it, I say! EEEE! Basket: Take that, wench! (Courageously kicks her in the face. Her eyes roll back in her head and become cartoon Xs.) Voluptuous wench: Snore (At the Nicolas Cage roast) Ellen Burstyn: And who can forget the part where Basket's cell phone rings in the middle of his bear suit scene and then the call gets dropped. It's like a wireless ad: Help me! Can you hear me now? Hahaha.<br /><br />Kate Beahan: And remember when I produced the bullets I jacked from Basket's gun? He looked so surprised. You should be more careful with your belongings, Nick. Hahaha. And your movie choices.<br /><br />All: The drone must die! Basket: (screaming) Oh, yeah, you bitches? Well, roasting me isn't gonna help your goddamn honey! Aaah. My legs! Honey, (honey, get it?) put down that torch and step away from the Basket Case. Honey! Smokey bear says don't play with matches. Hahaha. What the? Look out for that hurtling semi-truck! Ahh! Oh. Goddammit, these flashbacks from my drug experimentation phase in the seventies are getting old! Where's my heroin? Ouch. Ouch. My watch isn't fireproof. Ouch. I think something bad is about to happen. Can you hear me now? I'm ready for my close up. Goddammit! (Six months later) Voluptuous wench in modern-day slutty attire: I told that eponymous Basket Case to take me with him.<br /><br />Innocent young drone: I like to help people.<br /><br />Volptuous wench: Then get me out of my contract for the sequel! I think something bad is about to happen. EEEEE!\n",
            "Some have praised _Atlantis:_The_Lost_Empire_ as a Disney adventure for adults. I don't think so--at least not for thinking adults.<br /><br />This script suggests a beginning as a live-action movie, that struck someone as the type of crap you cannot sell to adults anymore. The \"crack staff\" of many older adventure movies has been done well before, (think _The Dirty Dozen_) but _Atlantis_ represents one of the worse films in that motif. The characters are weak. Even the background that each member trots out seems stock and awkward at best. An MD/Medicine Man, a tomboy mechanic whose father always wanted sons, if we have not at least seen these before, we have seen mix-and-match quirks before. The story about how one companion, Vinny played by Don Novello (Fr. Guido Sarducci), went from flower stores to demolitions totally unconvincing.<br /><br />Only the main character, Milo Thatch, a young Atlantis-obsessed academic voiced by Michael J. Fox, has any depth to him. Milo's search for Atlantis continues that of his grandfather who raised him. The opening scene shows a much younger Milo giddily perched on a knee, as his grandfather places his pith helmet on his head.<br /><br />And while the characters were thin at best, the best part about _Atlantis_ was the voice talent. Perhaps Milo's depth is no thicker than Fox's charm. Commander Rourke loses nothing being voiced by James Garner. Although Rourke is a pretty stock military type, Garner shows his ability to breath life into characters simply by his delivery. Garner's vocal performance is the high point. I'm sorry to say Leonard Nimoy's Dying King is nothing more than obligatory. Additionally, Don Novello as the demolition expert, Vinny Santorini, was also notable for one or two well-done, funny lines--but I've always liked Father Guido Sarducci, anyway. <br /><br />Also well done was the Computer Animation. The BACKGROUND animation, that is. The character animation has not been this bad for Disney since the minimalism that drove Don Bluth out the door. The character animation does nothing if not make already flat characters appear even flatter. Aside from landscapes, buildings and vehicles there isn't much to impress.<br /><br />The plot was the worst. Some say hackneyed or trite. I'm not so sure about that. Any serviceable plot can be made into something new with the proper treatment. Shakespeare often started from a known story and plot and was famous only for putting on a new coat of paint. So the treatment is the thing. And _Atlantis_ obviously lacks that.<br /><br />I cannot begin to go into all the logic gaps without a spoiler section. The plot was bad. The plot's bridges snap like twine and the ending does not make sense. To add to that, the script and the animation is peppered with annoying sloppiness.<br /><br />** SPOILERS **<br /><br />1. Right at the beginning when Milo reveals that runic or Celtic symbols have been wrongly transliterated and the \"Coast of Ireland\" should read the \"Coast of Iceland\", we begin to have problems. The writers of the script would need to know the British take for Eire or Eireann as \"Ireland\", and completely ignore the older, Latin term Hibernia. But more than this, they need to know of the Vikings conspiracy to call the greener island Iceland and the icier island Greenland. <br /><br />By making it the matter of a mis-tranliterated \"letter\", the writers have doomed themselves to requiring a runic version of English and a post-Roman date on the script. Since this is long after Atlantis was supposed to have sunk into its undersea cave. And without visible clues and less technology than Milo had, made the inscription far less trustworthy.<br /><br />2. The Shepard's Journal could not be written before the sinking of Atlantis, or it would know nothing about the cave or the crystal lying \"in the King's eye\". It must have been written after the sinking, but without even the technology that Milo's expedition had, how the heck did anybody get by the Leviathan. So how could it know more about anything after that? And why would it be written in Atlantian? <br /><br />Automatic writing and clairvoyance or astral travel can explain these things. However clairvoyance and astral travel do not require the shepard to write in Atlantian. So it's got to be some sort automatic writing. Since noone left in Atlantis can read, it must be the spirits of the crystal beaming messages to the surface. This would have made more sense. But could also have been explained within the movie: Milo could have discovered that this power had been calling him all his life--appeared in dreams, etc. This needed to be explored in the movie.<br /><br />3. The Atlantians should simply not be able to comprehend modern languages. No-one expects that the original Indo-Europeans would be able to converse in Europe, anymore than Romans would understand that hard \"c\"s or their day became French \"ch\"s (pronounced like \"sh\"s, no less!)<br /><br />4. Current Atlantians were alive before the cataclysm--when apparently they *could* read, yet now are unable to read what they used to, or operate similar machinery. <br /><br />5. The Mass Illiteracy points out a crucial flaw in the movie. NOTHING seems to have happened to this culture. It seems suspended in air until Milo can rescue it. Even though it appears that life is not a constant struggle for survival, no-one wants to compose poetry or write novels and perhaps it is a combination of Atlantian school systems going downhill toward the end and lack of good fiction that caused Atlantis to fall into illiteracy.<br /><br />5. Kida can be excused for not knowing how to read or operate the machinery if she was so young when the Cataclysm of Stupidity set in--But ANY OF IT **HARDLY** qualifies her father for Deification!! Kashakim's foolishness almost single-handedly wiped his people from existence. Killed a bunch in the cataclysm, stalled progress (not a lot killed here, but he oversaw a massive slide in culture and progress) until someone could take the crystal to kill everybody, if they weren't boiled in lava first because the Giant Robots weren't there to protect them. <br /><br />A bolt of blue electricity should have shattered Kashakim's likeness, when Kida tried joining her father's image to the circle of GREAT Kings of Atlantis! <br /><br />6. Even though Milo was the only one who could read Atlantian, Rourke and others knew enough to look through a book of gibberish and find a page on a crystal--which he knew to be a crystal and not some stylized astrological or \"phases of the sun\" diagram.<br /><br />7. If Milo's grandfather had told Rourke about it, it still does not explain what how Rourke would have suffered from Milo's reading it as part of the book. Ripping out the page--which was dog-eared in Rourke's hand, even though Milo found NO sign of a torn page in the book apparently--only was there to tip off the viewer that \"something was not quite right\". Unless the word \"crystal\" would have set alarms off in Milo's head that somebody would try to steal it, Milo would have suspected nothing. It's just thick-headed foreshadowing.<br /><br />8. The crew's \"double-cross\" was not a character change. We learned that Vinny, Sweet, Audrey and Cookie had been going along with Rourke from the beginning. However, the \"change of heart\" falls flat. It was a change, and needed to be better motivated. Hard to do with characters who weren't given anything to begin with.<br /><br />9. Niggling little bit that the lava flows up over the dome, instead of filling in the rest of the area that we view the sequence from. It's liquid; it will not flow over the protective dome until it fills up all lower areas.<br /><br />10. The ending STINKS!-- and makes no sense other than to appease political correctness. With it's powersource restored, Atlantis is no longer a weak power, needing coddling. The giant robot guardians and the sky-cycles shooting blue lightning suggest that they have less to fear from us than they might. The technology is superior to ours, and definitely to early 20th-century. In the end Milo needs to teach the Atlantians to read, for what? The whole idea is to leave their little quiet, chastened culture alone, not to send it into hyperdrive. <br /><br />** END SPOILERS **<br /><br />Perhaps, the Lost World plot and the turn-of-the-century setting should give me a hint that this is more an homage to pulps. The failures I find with the film agree with this idea. But I am at a loss why I should pay to see thin characters and plot holes simply because many dime novels had them as well. And pulp stories is part of the \"crap they can't sell adults anymore\", anyway. We have become a bit more sophisticated and our pulp needs to grow up as well. Raiders of the Lost Ark lost none of its pulp feel and avoided so much badness.<br /><br />4 out of 10--the movie is enjoyable but as I think about the plot, it seeps ever lower.\n",
            "I can't come up with appropriate enough words to describe the horror I felt sitting in that cinema watching Ramgopal Varma Ki Aag, the director's half-hearted attempt to pay tribute to that classic Bollywood western, Sholay. The biggest problem with Varma's remake is that he doesn't even try to make a credible film. It's evident in every single frame of this movie that Varma's heart is just not in it. What you see on screen is a bad joke at best, a gimmick on the part of the filmmaker, and it pains you to see what little regard he actually shows for a film he claims he's been a fan of all his life.I've seen several bad films over the years, but I can't remember one that's been as much of a torture to sit through as this one. Consider yourself very brave if you're able to survive the entire film, because it tests your patience like few films have before.Varma may borrow his plot and characters from the original film, but his version is trite and hollow and doesn't have any of the spirit and energy of Sholay. Ramgopal Varma Ki Aag is actually a mockery of that timeless gem because it turns out to be everything that the original film was not - way-over-the-top, too-long-too-boring, and entirely mindless. Much-loved moments from Sholay are parodied by Varma and for that you want to wring his neck. One of the most memorable scenes in Sholay in which Dharmendra as Veeru climbs up the watertank and threatens to jump down to his death is turned around in this film with Ajay Devgan playing Hero, pulling a pistol to his head threatening to shoot himself. How you wish he'd pulled the trigger and spared us all the agony.Not only does Ramgopal Varma Ki Aag fail as a remake of Sholay, it's a pretty bad effort even as a stand-alone film. The eardrum-damaging background score sounds more like someone clanging vessels in the kitchen, and the camera-work alternates between dramatic and head-spinning. Partners in this terrible crime of bringing this ridiculous film to screen are the film's mostly dead-as-wood actors. Sushmita Sen as Devi the widow takes both her role and the film too seriously, punctuating her lines with pauses, staring into camera for effect, and generally performing like her life depends upon it. Mohanlal as Narsimha, struggles with his Hindi dialogue and looks embarrassed to be delivering some of the stupidest lines in his illustrious career. Newcomer Prashant Raj playing Jai-equivalent Raj has no acting chops to speak of and can't strum up any of the brooding intensity Amitabh Bachchan brought to the part in the original film.As Hero, the new-age Veeru, Ajay Devgan is entirely hopeless, failing miserably in his attempts at comedy. But the film's weakest link, easily the most shocking casting decision is Nisha Kothari as Ghunghroo, who steps into the shoes of Hema Malini as Basanti, the endearing airhead from Sholay. Nisha Kothari is not only the worst actress in this country, but possibly the worst actress in this whole wide world, she gives the word annoying a whole new meaning, and she makes you want to slit your wrists every time she's on screen. And then, there is Amitabh Bachchan playing Babban Singh, Ramgopal Varma's version of Hindi cinema's most popular villain Gabbar Singh. The only actor in this ensemble who recognises the film's over-the-top tone and plays along accordingly, Bachchan constructs a menacing character who is a treat to watch. He's meant to be a comic book villain who snarls and sneers and hisses and hams, and he does all of that to good effect. But because he's trapped in such a doomed enterprise, his performance doesn't really help elevate the film in any way.No surprises here, I'm going with zero out of ten and two thumbs down for Ramgopal Varma Ki Aag, it one's of those painful movie-watching experiences you wouldn't subject even an enemy to. It's not like Varma hasn't handled a remake before. With Sarkar he gave us a smart, gripping take on The Godfather, and it's a pity he's made this Sholay bhature out of such a much-loved classic. Ramgopal Varma Ki Aag is his worst career decision ever, it's also a dark spot on his resume he'll be embarrassed of forever. I suspect this film will go down in movie history as Ramgopal Varma Ka Daag.\n",
            "There are people out there who will greenlight anything! That is the only explanation I can offer as to why the House of the Dead movie exists. And that's only scary part to the whole movie. It's so bad you'll go off movies forever. I seriously wanted to switch this off and turn the TV over to the Paint Drying channel but I was bound by my word to suffer the whole thing. I don't know why I do these bad things to myself.<br /><br />As if it matters, here's the basic jist of the 'story'. A group of twenty-somethings are so desperate to go out to some island in the Pacific Northwest (Canada actually, because it's cheap) for the 'Rave of the Century' (which consists of about 8 people and un-raving music) that they pay some craggy old fisherman $1000 to take them there after they miss the main ferry. That's gotta be some rave to be worth all that dough! The fisherman warns them that the island is also known as the Island of the Dead (hang on-I thought this was HOUSE of the Dead?) and that they are all doomed yadda yadda yadda.<br /><br />First faults here. Why would a tiny little rave (of the Century my foot!) be held on some remote island? Why would anyone willingly pay loads of money to get it? Why pay even more to the craggy old fisherman to take them back when they could just come back with the others?<br /><br />Once they arrive they discover that the rave (which consists of about 2 tents, a small stage and a port-a-john) has been smashed, there's blood everywhere and no one is around. What would any rationally thinking person do? Run for their lives of course. But no, these clueless, obviously blind people decide to go look for them. Soon enough they discover an old ramshackle house that's 50 times as big on the inside as it is on the outside. Another half hour of stumbling around in the forest follows, as an excuse to kill of some of the lesser characters, and after much tedium they arrive back at the house again. The characters, like the movie, go nowhere.<br /><br />Jammed into this ghastly disaster is a superabundance of gibberish dialogue, heinous acting, mumbo-jumbo exposition and zillions of clips from the once-popular arcade game of the same name. Why this was universally accepted as a good idea with the filmmakers I'll never know. The clips have no reference to any of the scenes and only degrade this trash even further, if that is at all possible.<br /><br />It has nothing to do with the game save for some cheap, throwaway line at the end. It makes Resident Evil look like cinematic glory. Hell, even the Double Dragon movie seems multi-Oscar worthy in comparison to this junk. The only one who comes out of this with his dignity still intact is Jurgen Prochnow. He could have just taken his money and ran but he tries his best with the awful script and brings a tiny bit of pathos to his character. The rest of the cast suck I'm afraid. The characters are idiots and deserve to die.<br /><br />Plus, if you cut out the swearing and pointless nudity, I see no reason why this film cannot be shown on Saturday morning TV. It's not frightening in the slightest. Pirates of the Caribbean is more scary than the skeletal bad guys in this film. And where did all those bad guys come from anyway? There were only a few people on the island to begin with. I guess this justifies the reason they chose to reuse footage over and over. I kid you not, you'll see the same zombie die a dozen times.<br /><br />Who's ultimately to blame for that scandalous waste of celluloid? None other than director Uwe Boll. His control over the movie is non-existent. You can clearly the see actors have no idea what they should be doing and that the zombies aren't really taking it all seriously. The actors seem like they're reading off cue cards as they constantly pause in the middle of long sentences and carry on talking as soon as they see the next card. It all feels very unnatural.<br /><br />Plus the film is shot like a two-part mini-series. I have indeed seen better TV productions. And don't get me started on the editing. The film is an incoherent babble with thousands upon thousands of pointless shots and dozens of meaningless camera pans. No real skill or talent was put into making this at all. It truly baffles and boggles the mind how movies this unfathomably bad can get made and George A. Romero can't even get anyone to take his calls. House of the Dead makes some idiotic reference to Romero in a lazy attempt to be 'post-modern' but it only irritates that they think THIS is in the same league as a REAL zombie movie.<br /><br />For what it's worth, the 1.85:1 anamorphic picture looks great and the Dolby 5.1 soundtrack is clean but very unimpressive and only serves to pronounce the heavily over-used ADR even more. The DVD comes with extras but why torture yourself. Isn't this review warning enough? Stay away! You are all doomed I tell you! Doomed! Doomed!!!\n",
            "Vampires Vs. Zombies starts with the breaking news that the unidentified disease that is spreading across America leaves the sufferer with homicidal & cannibalistic tendencies... Travis Fontaine (C.S. Munro) & his teenage daughter Jenna (Bonny Giroux) listen to the radio as they drive along the isolated backwoods roads to try & escape the disease when Travis runs over a guy who I assume is meant to be a zombie. Slightly further down the road he stops to help Julia (Brinke Stevens) & her teenage daughter Carmilla (Maratama Carlson) who are waving at the side of the road, at this point there is also a third teenage girl named Tessa (Melanie Crystal) sitting in the back of Julia's car bound & gagged. To me this situation would seem strange but Travis, like the trooper he is, takes it all in his stride & agrees to 'take' Carmilla off Julia's hands &, well I don't know actually. So, with a complete stranger, Travis drives off leaving Julia & Tessa. Carmilla seems like a nice girl but she turns out to be a Vampire & she likes to bite people & turn them into Vampires, oh & she's partial to a bit of lesbianism too. Travis, Carmilla & Jenna continue to travel while some guy who calls himself The General (Peter Ruginis) who appears to be some sort of Vampire killer & probably has something to do with it all but the film is such a mess it doesn't really matter & I really don't know how to carry on this plot outline as my head hurts just thinking about it...<br /><br />Co-edited, co-executive produced, written & directed by the supremely untalented Vince D'Amato Vampires Vs. Zombies is one of the worst horror films ever & therefore one of the worst films ever period. The script by D'Amato was apparently based on a classic story entitled 'Carmilla' by Sheridan Le Fanu (he should sue) & is an absolute mess, the holes in the plot & logic are so big you could drive a tank through them! What is the disease that turns people into zombies? Why is Carmilla a Vampire? Who is Julia to her? Who the hell is The General? What does he want? Where are Travis & Jenna going? How can Travis run a man over & yet not have the slightest bit of human emotion over it? What's with the mental ward at the end? There are also some confusing & unnecessary dream sequences just to annoy the viewer even more. There are just so many things wrong with this film, the narrative doesn't make a blind bit of sense, the concept is terrible & never really explained properly plus it's incredibly boring. I have not one positive thing to say about Vampire Vs. Zombies, not one. Forget about any Vampires fighting Zombies because it just doesn't happen, tell me again why is this film called Vampires Vs. Zombies?<br /><br />Director D'Amato has served up one of the most incompetent, rubbishy, badly made, poorly thought out & excruciatingly painful viewing experiences ever made. Vampires Vs. Zombies really has no redeeming qualities at all, there is not one single aspect that I can praise. The gore is really fake looking, there are some blood splats which look like red water, some really cheap staking effects & a half decent climax where the zombies feast on Carmilla's & Jenna's intestines, this fairly gory scene is probably the best part of the whole wretched film but it only lasts for a couple of minutes & in no way makes up for the other turgid 85.<br /><br />The budget on Vampires Vs. Zombies must have been small, in fact did it even have a budget because most of it is set on a road in a couple of cars. This is one of the most badly made horror films it's been my misfortune to watch, the entire thing just sucks. The acting is predictably awful, & I mean awful.<br /><br />There isn't much else left to say, Vampires Vs. Zombies is easily one of the worst films ever made. The (V) next to the title on the IMDb's main page for Vampires Vs. Zoimbies indicates that it went straight to video, well that's far too good for this pile of crap as it deserves to go straight on the nearest fire.\n",
            "I've rented and watched this movie for the 1st time on DVD without reading any reviews about it. So, after 15 minutes of watching I've noticed that something is wrong with this movie; it's TERRIBLE! I mean, in the trailers it looked scary and serious!<br /><br />I think that Eli Roth (Mr. Director) thought that if all the characters in this film were stupid, the movie would be funny...(So stupid, it's funny...? WRONG!) He should watch and learn from better horror-comedies such as:\"Fright Night\", \"The Lost Boys\" and \"The Return Of the Living Dead\"! Those are funny!<br /><br />\"Cabin Fever\" is THE reason why I registered to www.IMDb.com so I can release my thoughts of discontent about it.<br /><br />I've decided to watch the movie a second time >AAARGH!< and make notes for my partial \"review\" to show how foolish the movie is. \"Resident Evil\" (horror) or \"Dude, Where's My Car?\" (comedy) I can watch over and over again and still enjoy! But this...!<br /><br />How bad can a script and a director be??? This bad. Here are the awful scenes in chronological order:<br /><br />In the early scenes we see Henry, who doesn't realize his dog lying on the ground with its tongue hanging out of its mouth and dead-glazed stare is dead!<br /><br />The movie doesn't explain anything about the blonde long-haired kid who like to bite people.<br /><br />And my answer to Marcy's unanswered question (\"What's wrong with the woods?\") is \"nothing\". The script has that bearded guy warn them about the woods just for \"suspense\".<br /><br />Then the \"smartest\" of the 5-pack, Bert, almost gives us an example of how to start a forest fire. He meets now-infected Henry who begs for help and from here on the movie wants to break the record in using the \"F-word\". Bert starts to freak out because Henry looks awfully ill. Bert:\"Don't make me shoot you!\" (he forgets to add: \"...with my BB gun!\")<br /><br />Bert heads back to the cabin but how about that? He meets Marcy and Jeff who were having sex, but now suddenly decide to go out for a walk! Marcy wisely takes out the unguarded campfire Bert had started earlier (A moment of clarity for a change?) Bert doesn't mention a word about Henry because the fool thinks he has killed him with his BB gun.<br /><br />Later, as the Five Estupidos sit around their campfire, another weirdo shows up with his dog. (Maybe that's what the warning about the woods is all about? It's filled with weirdos...and their dogs!?) They let him sit with them only because he has a huge bag filled with cannabis. (Their brains are completely intoxicated! No wonder why they are all so DUMB!) This is the last time we'll see this forgettable character...alive!<br /><br />Henry shows up at their cabin, (NOTE: He was lying all the time a few yards from their cabin!!!) looking worse, almost like a zombie, covered in goo! He says he needs a doctor. But the Young Einsteins refuse to help the poor sucker. He gets into their unlocked truck which of course also has its key in the ignition. Henry almost seems smart enough to drive the Hell away from there but instead starts puking blood all over the dashboard, seats and windows. The Fantastic Five come out running, armed with: a BB Gun, a knife, a baseball bat (*huh? Ever tried playing baseball in the middle of the woods???), a poker, and a (insecticide?) spray-can, ready to combat the single, unarmed and terribly sick man. (clever script!) Bert manages to kill the car with one single shot of his BB Gun, which is only possible in the mind of director Eli Roth. \"What else am I supposed to do?\" Bert yells in his defense. Jeff and Paul try to knock Henry down with their bat and poker but miss and crash the truck's windows instead. Henry walks up to the dumb girls who say: \"He's coming towards us!\" (Thanks for the info, dumb broads, I can see that! But I don't think he wants to do you any harm!) Marcy sprays in his eyes, making Henry yelp! And our \"hero\" Paul touches Henry's arm with a burning log from the campfire, which they recklessly left burning while they were INSIDE the cabin! (Where has all that wisdom gone? I guess the cannabis had started to take its toll!:-) Henry turns into The Human Torch and runs away, screaming.<br /><br />The following day, Bert and Jeff head out for a mechanic. And Marcy decides to \"go for help\" all by herself, in the woods, as Paul stays behind with Karen...Doesn't that sound idiotic? Marcy could have stayed with Karen and Paul because Jeff and Bert were already \"going for help\"!<br /><br />I skip my comments now to how we suddenly see Marcy in a CANOE rowing over a huge and winding river! How did she get a canoe? Does she even know where she's going!? Anyway, she goes to the riverbank and finds a very big and seemingly abandoned cabin and, like in most horror movies, walks inside the cabin saying:\"Hello? Is anyone there?\" Bert suddenly pops up from behind a furniture and scares her (and me at first). And along comes Jeff, as well. How did THEY get here!? Did they swim across the river??? Do you see how brainless the script is!?<br /><br />Deputy Winston meets Paul at the cabin. He somehow doesn't notice the blood on their truck. This happens around 35 minutes of viewing and I have decided to stop torturing myself anymore and popped the DVD out. (Before I take my own eyes out!...Now, THAT's funny!)<br /><br />If you liked this movie, do yourself a favor and watch \"Fright Night\", \"The Lost Boys\", or \"The Return of The Living Dead\". Then you'll see they are MORE entertaining than this...thing. Even the \"Toxic Avenger part 2\", which is also a lousy film, is way MORE funnier than \"Cabin Fever\".\n",
            "You have to respect this movie. It may be \"just a dumb kid's movie\" but it's the #1 most frequently requested film title in online movie forums, requested by people who remember the story but can't remember the title. Therefore what follows is a much-needed, detailed plot description, since I haven't been able to find such a description anywhere else on the Internet.<br /><br />A typical 2-story house is shown in suburbia. 7-year-old Bridget narrates about suspecting something is going on since she and her 11-year-old brother Andrew are getting presents from their parents for no apparent reason. Bridget's present is a stuffed penguin that she immediately names Sweet William. Bridget describes her relatives: Aunt Ruth, a bossy nurse taking care of grandmother, Grams the hugging grandmother who makes dolls out of socks, and her brother Andrew, who's into electronics and is grumpy. Grams accidentally hangs up on the lieutenant-governor, which indicates she's getting in the way while living with the family. The two children eat breakfast while the adults discuss moving Grams to a retirement home. Bridget makes an awful-looking pancake sandwich containing cereal, eggs, bacon, strawberries, and syrup, as Andrew looks on incredulously. The two kids then discuss Grams, and Andrew says bluntly that Grams is being \"put out to pasture.\" Bridget talks with Grams in the attic, has a play tea party with Sweet William in her bedroom, then a living doll unexpectedly pops out of her bedroom closet mirror.<br /><br />Bridget and the living doll become acquainted. The curly-haired living female doll is named Huggins and lives in Huggaland. Bridget gives Huggins a baseball cap from Andrew's room. Huggins hides under some laundry when Bridget's mother comes by, then the mother throws the laundry into the washing machine with Huggins in it. Bridget rescues Huggins and dries her off with a hair drier. They discuss the problem with Grams getting old and having to move away, Huggins says Bridget could talk to the bookworm in Huggaland about it, since he knows everything. They step through the mirror to visit Huggaland, but one of Bridget's tennis shoes becomes lodged in the mirror.<br /><br />Rather than walk around with one shoe, Bridget goes without shoes in Huggaland. They immediately meet Hugsy, a curly-haired living boy doll in Huggaland. Huggins gives Hugsy the baseball cap. They also meet Tickles, Bubbles, Impkins, and Tweaker, and all the dolls sing a song while sitting on a bridge. Hugsy takes Bridget and Huggins in his hugwagon to see the bookworm, who lives atop a stack of giant books. The bookworm consults \"the old encyclopedia\" and finds that old age can be cured by eating the fruit of the \"youngberry tree.\" However, only one such tree exists, and it's in the country of Shrugs, ruled by the mad queen of quartz. The only way to travel to Shrugs is to jump down a deep hole that is located inside a nearby giant book.<br /><br />Bridget and the two dolls gulp three times, jump down the hole, and tumble out. Soon they walk down a sideways sidewalk, hear the sea of glass breaking, and fall off the sidewalk when the sideways gravity ends. They encounter \"the hairy behemoth,\" which looks like a mastodon, has four tusks, and breathes fire out its trunk. But Hugsy boldly goes over and hugs the behemoth, who thereby turns into a baby elephant whose name is Hodgepodge. Hodgepodge had been under a spell by the queen, and owes Hugsy a favor, so they all ride on Hodgepodge's back to the castle. They enter the castle, are surrounded by troll-like beings, the queen (Queen Admira) comes, and Bridget asks for a few youngberries. The queen refuses, then eats one for herself, and brags about her own youthful good looks while looking in a hand mirror. Hodgepodge faints when the queen says he should be \"digested.\" The queen is upset when Bridget mentions that wicked witches should have warts, so the queen freezes Bridget and orders the three others to be taken to the dungeon. But the queen carelessly leaves the key to the youngberry tree's dome by the lock to the dome-lifting apparatus.<br /><br />Hodgepodge wakes up in the dungeon and uses his \"noodle\" (trunk) to pull the jail's door down, thereby freeing himself and the two dolls with him. They find Bridget standing petrified, the dolls hug her, which causes Bridget to be revived. Before they flee, Bridget finds the left-behind key to the youngberry tree dome, lifts the dome off, and they pick some glowing youngberries and put them in a jar. The queen catches them, but the queen's arm is trapped under the descending dome while reaching for the key that Bridget left on the ground. The queen suddenly turns very old since she is deprived of the youth-giving berries, and appears to die. Soon Bridget steps back through the mirror into her bedroom but trips on the bottom of the mirror, spilling the berries onto her floor, and the berries quickly vanish into smoke, one by one. Her mother calls for her and Andrew to say goodbye to Grams, who is leaving for a retirement home. Andrew drops his usual grumpy, standoffish facade and hugs Grams, telling her he loves her and that he doesn't want her to go away. Their father is moved, and decides to keep Grams there after all, and everybody hugs and cries, including Aunt Ruthie, who had been the main person pressuring Grams to move out.<br /><br />Andrew asks Bridget for his St. Louis Cardinals cap, Bridget starts to explain how she gave it to Huggins of Huggaland, but Andrew doesn't want to listen to what he believes are her fantasy stories, so he turns around to look for it in her bedroom. One of the dolls secretly hands the cap back through the mirror to Bridget, Bridget puts the cap on Andrew's head, Andrew is mystified, and leaves her bedroom without saying anything. Bridget cheerfully waves at the mirror.\n",
            "My god, what's going on? a Uwe Boll film and positive comments? Wow!<br /><br />Nice to note that most of the positive reviews are coming from newbies to Boll's work. I myself, as I have stated in previous Uwe Boll reviews, only watch his films in the hope that one day he will actually make something good. I mean..IT MUST HAPPEN ONE DAY!<br /><br />Alas, Seed is not that day. I don't quite know where to start with the lame attempt at a horror film that Seed is. The thing to remember people is that all the sickos in the world are that way due to having watched various sick acts on video or the net.....or so Mr Boll believes. I still can't for the life of me figure out why footage of real animal abuse and killings was needed in the first 10 minutes of this film. I understand the concept that Seed (the killer) is a sicko and enjoys watching such stuff.....but can't understand why Mr Boll thought putting REAL footage in the film would work. Maybe to shock us? Hmmm.....well, I for one am not squeamish and can handle seeing anything on film. I DON'T though, find the use of real animal cruelty footage entertaining in the slightest. If you were trying to shock me, it didn't work. It just reminded me how messed up the world was because such things happen and also because Uwe Boll is allowed to continue making films. This sort of context may have worked for films in the 70/80's (Cannibal Holocaust) but not todays market.<br /><br />With that out of the way, we can move on to the fact that Uwe has managed to give the film a very cheap feel all round like BloodRayne 2. You can just tell that there wasn't a huge amount of money floating around for production.<br /><br />As per usual, Mr Boll does not really care for making a decent story as we are treated to boring shots of police officers watching various videos of Seed's victims in the first 25 mins. Each of these videos ends in a speeded up decomp of the victim. It's all very boring and tedious. I won't comment on the toddler scene as it's laughable and just another cheap 'shock' factor.<br /><br />If you manage to sit through the first 25 mins then you will be treated to the police officers walking through a very dark house in order to catch Seed. The lighting here is horrible and Uwe has the old 'I'm not using a steady cam' fiasco that he did with BloodRayne 2. Watch as the police officers die in ever stupidly increasing ways until such point as Seed is caught. This scene is soooo bloody stupid you have to see it to believe it. The cop actually tells Seed he could have shot him. For some un-be-known reason, the cop doesn't shoot him. Given that Seed is a sicko that kills kids as well as adults, you'd have thought at this point in the script that sense would prevail.<br /><br />From here we are treated to a stupid execution scene, followed by the cops burying Seed alive (and they know he is alive..why not shoot him in the head????), followed by Seed getting out of the ground and then killing some random woman with a hammer and then kidnapping the one of the cop's family.<br /><br />What I'm trying to get across to you all here is that it's just plain STUPID! It's not even Hollywood horror stupid....just plain dumb. Uwe Boll can not direct ****. Anyone with any ounce of taste would agree with that statement. Anyone who watches this film and found it entertaining in any way shape or form needs to take a serious look at themselves as a person. <br /><br />Once again we are treated to a poorly acted, directed, lighted, produced, scripted piece of UB crap.\n",
            "I have never seen any of Spike Lee's prior films, as their trailers never caught my interest. I have seen, and admire Denzel Washington, and Jodie Foster's work, and have several of their DVDs. I was, however, entirely disappointed with this movie. If this film is any indication of Spike Lee's ability as a director, my advice would be to \"get a job\", and stop wasting the time and talent of others. <br /><br />I wonder if some of the other IMDb commentators watched the same movie that I'd seen. I can only assume, from their sappy lovelorn reviews, that their adoration of Spike Lee has blinded them to the banality of this piece of work. I only paid $2.50, in a \"Second Run\" theater, and still felt I'd wasted my money.<br /><br />The IMDb \"Trivia\" page says it all.......<br /><br />* \"Shot in 39 days\" -- How can you expect to shoot a big budget \"Blockbuster\", (as the media hype promised), in such a short time? No wonder there was such a weak performance by all.<br /><br />* \"Ron Howard was first going to direct the film...\" -- He may have done this project some justice, given more time to do so, of course. Though the writing was atrocious, the premise had some merits. <br /><br />OK! maybe not. I'm sorry! This film was so rife with pitiful cliché's, implausible scenes, and lousy characterizations, that maybe even he couldn't have made much of it. (Hey Ron! Be sure to thank Russell...Good call!) <br /><br />* \"Jodie Foster filmed her part in three weeks.\" -- And it showed! Her portrayal of a \"Fixer\", who makes people's problems go away, was as unbelievable as the script she was given. Did she even want to be there?<br /><br />Other Peeves: <br /><br />* How many bank robbers would bother to come to the door, and inform a uniformed police officer that they were inside robbing the bank, and he'd better keep away...or else? <br /><br />* When \"Detective Frazier\", (Denzel Washington), comes into the bank to verify there are no corpses yet, how many bank robbers, without a gun, would have \"led\" a cop, (much less \"let\" a cop) back out to the front door, allowing the police officer to walk behind him? <br /><br />* Det. Frazier later claimed, to have given the robber \"every reason to shoot me.\" Why, then, in their brief struggle, didn't he even try to expose the robber's face? That may have gotten the response he was looking for...a robber would have shot him just to prevent later identification. And why did it take \"Steve, Stevie, Steve-O\", (the robber's accomplice), so long to come and help out? <br /><br />* I understand that these weren't your typical bank robbers. They had a different agenda, and didn't want anyone harmed. But the cops had no reason to think that they wouldn't. To them it was a desperate situation. Why then, when two of the bad guys stepped outside to \"pick up the pizzas?\", were they not taken down. (first of all, how many robbers would have came outside without using a hostage as a shield? Is this Spike Lee's version of NY City, or SNL's?). Taking them down would have reduced the bad guy's numbers, screwed up their plans, and the remaining robbers would more probably have given up. If not, there at least would be fewer bad guys inside. (Give SWAT something to do, or send them home!)<br /><br />* What police department in this country, would have allowed Madeline White, (Jodie Foster), to just waltz right into the bank, and discuss a matter with the robbers, that she would not disclose to them first? She had no authority, no governmental credentials; and besides, this was after all, \"already\" a hostage situation...add one more?<br /><br />* Why wouldn't the Bank CEO, (Christopher Plummer), just have destroyed the incriminating documents a long time ago? Screw sentimentality! The diamonds, he could have sold.<br /><br />* Who was that \"schmuck\", (the character, not the actor), with the Jersey accent, that, conveniently, volunteered, and said he knew the recording was \"100% Albanian\", but yet he himself couldn't speak it.....SIR! PUT YOUR HAND DOWN! And his Ex-wife! What a \"schlump\" she was!!! Both were totally unbelievable. <br /><br />* When interrogating suspects, why did Det. Frazier, continually harass the individuals who were obviously not a part of the heist?, (i.e. - telling the elderly woman she could go, and then she couldn't, then could; then couldn't?) Give me a break! <br /><br />* Who, after seeing the bank robbers demand that the hostages put on jump suites, couldn't deduce their escape plan included coming out of the bank pretending to be some of the hostages? <br /><br />* Near the end of the movie, a false wall was shown to have been built in the supply room, behind which Clive Owens hid out for \"a week\"....where did the materials come from? (the drywall & studs). It was also to be assumed that they cut into the sewer, so he could relieve himself. The bank employees hadn't complained about the smell, all week long? Hello!<br /><br />* After such a debacle; since the documents \"had\" fallen into the robber's hands, what kind of \"references\" was Ms. White expecting to get from the bank CEO, seeing that he was now to be a target for blackmail, due to her failure?<br /><br />* And last, but certainly not least, What's with the \"Electric Glide\" that Denzel did? HOW STUPID! Was that supposed to indicate his \"resolve\" to bring these guys to justice? He looked, rather, like a man who hopped a ride on a shopping cart, while trying to prevent a bowel movement! \"Cheeee-Zheeee\"!!!! <br /><br />Other than the mediocre plot; lousy script; bad acting; and overall pitiful directing......yada, yada, yada. <br /><br />Hopefully this will give enough insight into the movie to help others decide whether to waste their money or not!<br /><br />.\n",
            "Sexo Cannibal, or Devil Hunter as it's more commonly known amongst English speaking audiences, starts with actress & model Laura Crawford (Ursula Buchfellner as Ursula Fellner) checking out locations for her new film along with her assistant Jane (Gisela Hahn). After a long days work Laura is relaxing in the bath of her room when two very dubious character's named Chris (Werner Pochath) & Thomas (Antonio Mayans) burst in & kidnap her having been helped by the treacherous Jane. Laura's agent gets on the blower to rent-a-hero Peter Weston (Al Cliver) who is informed of the situation, the kidnappers have Laura on an isolated island & are demanding a 6 million ransom. Peter is told that he will be paid 200,000 to get her back safely & a further 10% of the 6 million if he brings that back as well, faster than a rat up a drain pipe Peter & his Vietnam Vet buddy helicopter pilot Jack are on the island & deciding on how to save Laura. So, the kidnappers have Laura & Peter has the 6 million but neither want to hand them over that much. Just to complicate things further this particular isolated island is home to a primitive tribe (hell, in all the generations they've lived there they've only managed to build one straw hut, now that's primitive) who worship some cannibal monster dude (Burt Altman) with bulging eyes as a God with human sacrifices & this cannibal has a liking for young, white female flesh & intestines...<br /><br />This Spanish, French & German co-production was co-written & directed by the prolific Jesus Franco who also gets the credit for the music as well. Sexo Cannibal has gained a certain amount of notoriety here in the UK as it was placed on the 'Video Nasties' list in the early 80's under it's alternate Devil Hunter title & therefore officially classed as obscene & banned, having said that I have no idea why as it is one bad film & even Franco, who isn't afraid to be associated with a turkey, decides he wants to hide under the pseudonym of Clifford Brown. I'd imagine even the most die-hard Franco fan would have a hard time defending this thing. The script by Franco, erm sorry I mean Clifford Brown & Julian Esteban as Julius Valery who was obviously another one less than impressed with the finished product & wanted his named removed, is awful. It's as simple & straight forward as that. For a start the film is so boring it's untrue, the kidnap plot is one of the dullest I've ever seen without the slightest bit of tension or excitement involved & the horror side of things don't improve as we get a big black guy with stupid looking over-sized bloodshot eyes plus two tame cannibal scenes. As a horror film Sexo Cannibal fails & as an action adventure it has no more success, this is one to avoid.<br /><br />Director Franco shows his usual incompetence throughout, a decapitated head is achieved by an actor lying on the ground with large leaves placed around the bottom of his neck to try & give the impression it's not attached to anything! The cannibal scenes are poor, the action is lame & it has endless scenes of people randomly walking around the jungle getting from 'A' to 'B' & not really doing anything when they get there either. It becomes incredibly dull & tedious to watch after about 10 minutes & don't forget this thing goes on for 94 minutes in it's uncut state. I also must mention the hilarious scene when Al Cliver is supposed to be climbing a cliff, this is achieved by Franco turning his camera on it's side & having Cliver crawl along the floor! Just look at the way his coat hangs & the way he never grabs onto to anything as he just pulls himself along! The gore isn't that great & as far as Euro cannibal films go this is very tame, there are some gross close ups of the cannibals mouth as it chews bits of meat, a man is impaled on spikes, there's some blood & a handful of intestines. There's a fair bit of nudity in Sexo Cannibal & an unpleasant rape scene.<br /><br />Sexo Cannibal must have had a low budget & I mean low. This is a shoddy poorly made film with awful special effects & rock bottom production values. The only decent thing about it is the jungle setting which at least looks authentic. The music sucks & sound effects become annoying as there is lots of heavy breathing whenever the cannibal is on screen. The acting sucks, the whole thing was obviously dubbed anyway but no one in this thing can act.<br /><br />Sexo Cannibal is a terrible film that commits the fatal mistake of being as boring as hell. The only good things I can say is that it has a certain sleazy atmosphere to it & those close ups of the cannibal chewing meat are pretty gross. Anyone looking for a decent cinematic experience should give Sexo Cannibal as wide a berth as possible, one to avoid.\n",
            "This should be my kind of movie. Even if it sucked, it still should have been right up my alley; hell, I like \"Congo,\" and \"Allan Quatermaine\" movies. I have a soft spot in my heart for silly alien/demon/adventure movies. Let's go over why I decided to watch this in the first place.<br /><br />1. Horror/Sci-fi almost always intrigues me 2. I'm a big fan of archaeology, and this movie does involve a rare treasure. 3. Super-natural enemies with quality FX. 4. Christian Slater and Dorf I generally enjoy. 5. Tara Reid is hot.<br /><br />So this movie had potential, at least in the cheese-horror section of the video store, but boy did it suck ass. The only redeeming aspects are Slater and Dorf, and not everyone finds them as entertaining as I do...I mean, let's face it, both are melodramatic. But now on to some of the many faults.<br /><br />Tara Reid. Even though the movie as a whole is worse, Reid's performance is truly awful. We're not just talking bad, I'm talking about nominating Tara Reid for worst performance of the year. I don't know if she is capable of acting, but playing the museum curator is simply out of her league...completely. Watching her try to carry the roll of educated scientist wasn't much different than what you get watching the setup in bad porn. I mean this isn't just bad, it is laughably bad. Oh, and for those of you curious, she doesn't get naked, only down to a bra in a silly, totally unnecessary love scene.<br /><br />Even with Reid's performance, perhaps the movie could have worked, but the plot is what dominates, and the plot seems written by a 10 year old. I hadn't realized this was a video game adaptation until AFTER watching the DVD, otherwise I would have appreciated the stupidity in real-time. <br /><br />The storyline jumps back and forth from Slater's childhood at an orphanage where he gets flashbacks of something terrible that happened, he has amnesia, of course. In his adult life Slater was recruited by some Unit 713, a paranormal military force that apparently hunts evil or something. Slater had to leave because he was too rebellious, I guess, you never really know unless it was in one of those voice-overs I zoned out during. The movie starts with Slater hunting artifacts, obtaining his latest piece after some dealings with a \"Chilean mercenary force specializing in selling rare antiquities.\" I may have the exact quote wrong, but you get the idea.<br /><br />There is an evil doctor that wants to unleash some hellions on earth (no reason given), experiments on children, super demon/alien-human hybrids, \"photonic\" bullets (the demon things can't stand sunlight) and, of course, Slater and Dorf to try to save everyone.<br /><br />Jesus, I can't even being to wade through the clichéd elements. The script badly needed reworking to narrow the focus and provide SOME depth. I mean, why is this evil scientist so damn evil? Oh right, humans are doomed and he is just trying to save the human race. I guess he's infected? How did that happen? Oh right he has one of the evil demon things in a cage and draws its blood to shoot into himself. How the hell did that happen? Why and where did he get the super slugs (oh yes, they use the old sci-fi stand by of parasitic aliens/demons which \"fuse\" with the spine of their host)Of course, Slater is, like Blade, half super-slug powered, but his slug \"didn't fully fuse due to an electrical shock,\" thank god. Oh, and the people with these \"fused\" spines, have no idea they're half-alien/demon and act as good members of the community until some secret signal is given whence they turn killer zombies. Yeah we get zombies.<br /><br />So lots of crap that could be entertaining, but none of it is.<br /><br />Also, the ending is completely stupid as everything turns out to be not that big of a deal to fix in the first place...at least nothing a little dynamite can't handle.<br /><br />Not the very worst thing you'll see, but a truly bad movie.\n",
            "With the rising popularity of the now iconic Godzilla series, like with any hit cinema event, there was inevitably going to be a crowd of imitators trying to cash in on the success on the big lizard. With Godzilla came the dawn of a rising popularity of the kaiju (giant monster) genre. Many sought after success; a few gained it. One of the few that not only profited, but garnered popularity was Gamera, a giant turtle that could breathe fire in and out and fly by spewing flames from the sockets in his carapace as a means of jet propulsion. But unlike Godzilla, Gamera was marketed as a friend to all children, later fighting other monsters to save kids in peril, and thus Gamera became very popular amongst the kiddies. Unfortunately, that's about the only audience mainstream that the original Gamera series will have any appeal to. While the new Gamera movies directed by Shusuke Kaneko are marvelous, revolutionary monster movies, the original series, including the original, is nothing special.<br /><br />The first Gamera movie, titled in Japan as \"The Giant Monster Gamera\" was clearly a Godzilla want-to-be. Even though the movie was produced in the era of color films, it was shot in black-and-white. Why? To imitate the first Godzilla movie from the 1950s. Gamera also attacks Tokyo. Because Godzilla attacked Tokyo in the first movie. I don't know much about the Japanese version, for the version I am familiar with the Americanized version, where scenes were cut and new footage with American actors were inserted (is it coincidence that the same thing happened with the first Godzilla film?) Now whether this adds or takes away from the film, I cannot say. But \"Gammera the Invincible\" is really nothing more than a ponderous bore that just plods along like the big turtle himself.<br /><br />\"Gammera the Invincible\" is a very routine-orientated movie. The characters are from a stock of science-fiction standards, the story is inane, the monster has no real motive for attacking civilization, the acting is laughable, and so on and so forth. The only thing that differentiates it from the Godzilla series is the ending of the movie, but that's also a detractor since the plan that eventually halts Gamera's rampage is completely phony and ridiculous. Now the rest of the movie and many other entries in this genre also fit that description, but this is a direfully stodgy monster movie.<br /><br />And although Shusuke Kaneko would later transform Gamera into an interesting monster with his trilogy in the 1990s, in the original series, Gamera was not an attractive screen presence. He was neither scary nor sympathetic. He just waddles around like a toddler, swaying with each step, and knocks miniature sets over. As usual, everybody wants to destroy Gamera except for a little kid (Yoshio Uchida who was lazily left out of the credits though he plays a 'central' role) who thinks Gamera is a nice turtle.<br /><br />Most movies in the genre that \"Gammera the Invincible\" is a part of are easy targets for criticism and this one is subject to extra pressure. Even in the company of many other Godzilla-imitators, this Gamera film is not a particularly good entry. And as far as my cinema experience goes, the rest of the movies in the series are either just as boring or worse. Like Godzilla, Gamera would be filmed in color and go on to fight monsters. And like Godzilla, he'd get cheaper and cheaper with every film until it was time to revive the series and make him serious again.<br /><br />It's peculiar. Usually I recommend people to stick with the originals and pass on the remakes. But in the case of Gamera, my verdict is just the opposite. I strongly encourage people to watch the 1990s Gamera trilogy directed by Shusuke Kaneko and to skip over the original series unless interested. The new films are inventive, well-made, exciting, and above all, fun. The original series is a long stream of boredom.\n",
            "Munchies starts in deepest darkest Peru (looks more like a dirt road to me) where archaeologist Simon Watterman (Harvey Korman) & his son Paul (Charles Stratton) are on an expedition. Simon thinks that ancient Aztec buildings were in fact spacecraft control centres & he is on a mission to gain proof that alien lifeforms have visited Earth, while in once such structure he discovers a strange small creature which he sticks in his backpack & takes back home with him to the small American town of Sweetwater in California. Simon feels that the creature is the proof he has been looking for & for some inexplicable reason decides to leave the thing at home while he goes to share his discovery. Simon ask's Paul & his wife Cindy (Nadine Van der Velde) to take care of it. Meanwhile Simon's brother & fast-food businessman Cecil Watterman (Harvey Korman again) steals the creature so his brother won't make any money out of it, but his idiotic stepson Dude (Jon Stafford) has a fight with it & chops it up with a knife but the individual parts grow back into separate little creatures that proceed to cause much havoc amongst the townspeople...<br /><br />Directed by Bettina Hirsch this has to be one of the worst horror comedy's ever, if not the worst. The script by Lance Smith is so unfunny it's painful. Every joke in Munchies misses the target by the proverbial mile, I doubt the humour in this piece of crap would even appeal to pre-teens. There just isn't anything even remotely funny or even amusing in Munchies as far as I'm concerned. The basic story is crap too, they just happen to find this creature running around with no explanation of what it is, why no-ones ever seen it before, how it manages to learn English so quickly & how it learns to drive etc. The whole thing is a big Gremlins (1984) rip-off with none of the elements that made that film so good. The character's are moronic, the stupid Deputy (Charlie Phillips) & his dad (Hardy Rawls), Cecil wearing an embarrassing wig & fake moustache & his air head wife Melvis (Alix Elias) & more besides. They just plain embarrass & are ridiculous, I defy anyone to find any of this rancid rubbish funny. Basically Munchies fails spectacularly at being either a comedy or horror & ends up being, yes you've guessed it, crap.<br /><br />Director Hirsch was obviously working with a low budget here & it shows, the entire thing takes place in two houses, the desert, some caves & a miniature golf course. This is really cheap & incompetent film-making. The special effects on the Munchies themselves are really awful, their just dolls that have no movement unless someone off camera pulls a string attached to it's arm. I cannot stress how bad the effects are, these things wouldn't convince my 4 year old nephew (as proved by me & him yesterday!). Total incompetence all the way, this film sucks.<br /><br />Technically the film is terrible, bad special effects, lame production design, rubbish sets & well, just everything's crap. The acting is rotten through & through, from the cops to Korman who has two roles both of which prove he can't act & isn't funny.<br /><br />Munchies is a really bad film that fails in everything that it tries to achieve, sure watch it if you want I won't stop you but just don't say you weren't warned! My advice would be to watch Gremlins again instead, but the decision is yours!\n",
            "Title: Zombie 3 (1988) <br /><br />Directors: Mostly Lucio Fulci, but also Claudio Fragasso and Bruno Mattei <br /><br />Cast: Ottaviano DellAcqua, Massimo Vani, Beatrice Ring, Deran Serafin <br /><br />Review: <br /><br />To review this flick and get some good background of it, I gotta start by the beginning. And the beginning of this is really George Romeros Dawn of the Dead. When Dawn came out in 79, Lucio Fulci decided to make an indirect sequel to it and call it Zombie 2. That film is the one we know as plain ole Zombie. You know the one in which the zombie fights with the shark! OK so, after that flick (named Zombie 2 in Italy) came out and made a huge chunk of cash, the Italians decided, heck. Lets make some more zombie flicks! These things are raking in the dough! So Zombie 3 was born. Confused yet? The story on this one is really just a rehash of stories we've seen in a lot of American zombie flicks that we have seen before this one, the best comparison that comes to mind is Return of the Living Dead. Lets see...there's the government making experiments with a certain toxic gas that will turn people into zombies. Canister gets released into the general population and shebang! We get loads of zombies yearning for human flesh. A bunch of people start running away from the zombies and end up in an old abandoned hotel. They gotta fight the zombies to survive.<br /><br />There was a lot of trouble during the filming of this movie. First and foremost, Lucio Fulci the beloved godfather of gore from Italy was sick. So he couldn't really finish this film the way that he wanted to. The film was then handed down to two lesser directors Bruno Mattei (Hell of the Living Dead) and Claudio Fragasso (Zombie 4). They did their best to spice up a film that was already not so good. You see Fulci himself didn't really have his heart and soul on this flick. He was disenchanted with it. He gave the flick over to the producers and basically said: \"Do whatever the hell you want with it!\" And god love them, they did.<br /><br />And that is why ladies and gents we have such a crappy zombie flick with the great Fulci credited as its \"director\". The main problem in my opinion is that its just such a pointless bore! There's no substance to it whatsoever! After the first few minutes in which some terrorists steal the toxic gas and accidentally release it, the rest of the flick is just a bunch of empty soulless characters with no personality whatsoever running from the zombies. Now in some cases this can prove to be fun, if #1 the zombie make up and zombie action is actually good and fun and #2 there's a lot of gore and guts involved.<br /><br />Here we get neither! Well there's some inspired moments in there, like for example when some eagles get infected by the gas and they start attacking people. That was cool. There's also a scene involving a flying zombie head (wich by the way defies all logic and explanation) and a scene with zombies coming out of the pool of the abandoned hotel and munching off a poor girls legs. But aside from that...the rest of the flick just falls flat on its ass.<br /><br />Endless upon endless scenes that don't do jack to move the already non existent plot along. That was my main gripe with this flick. The sets look unfinished and the art direction is practically non-existent. I hate it when everything looks so damn unfinished! I like my b-movies, but this one just really went even below that! Its closer to a z-level flick, if you ask me.<br /><br />The zombie make up? Pure crap. The zombies are all Asian actors (the movie was filmed in the Philippines) so you get a bunch of Asian looking zombies. But thats not a big problem since they movie was set in the phillipine islands anyway. Its the look of the zombies that really sucks! They all died with the same clothes on for some reason. And what passes for zombie make up here is a bunch of black make up (more like smudges) on their faces. One or two zombies had slightly more complex make up, but it still wasn't good enough to impress. Its just a bunch of goo pointlessly splattered on the actors faces. So not only is this flick slowly paced but the zombies look like crap. These are supposed to be dead folks! Anyhows, for those expecting the usual coolness in a Fulci flick don't come expecting it here cause this is mostly somebody else's flick. And those two involved (Mattei and Fragasso) didn't really put there heart and souls into it. In fact, when you see the extras on the DVD you will see that when Fragasso is asked about his recollections and his feelings on this here flick, he doesn't even take it to seriously. You can tell he is ashamed of it and in many occasions he says they \"just had a job to do and they did it\". And that my friends, is the last nail on this flick. There's no love, and no heart put into making this film. Therefore you get a half assed, crappy zombie flick.<br /><br />Only for completest or people who want to have or see every zombie flick ever made. Everybody else, don't even bother! Rating: 1 out of 5\n",
            "Scarecrow is set in the small American town of Emerald Grove where high school student Lester Dwervick (Tim Young) is considered the local nerdy geek by teachers & fellow students alike. The poor kid suffers daily humiliation, bullying, teasing & general esteem destroying abuse at the hands of his peers. Unfortunately he doesn't find much support at home since his mom is a slut & after Lester annoys one of her blokes he chases him into a corn field & strangles the poor kid. However something magical happens (no, the film doesn't suddenly become good), Lester's spirit gets transfered into the corn fields scarecrow which he then uses as a body to gain revenge on those who tormented him & made his life hell...<br /><br />Co-written, co-produced & directed by Emmanuel Itier who according to the IMDb credit list also has a role in the film as someone called Mr. Duforq although I don't remember any character of this name, I suppose anyone who ends up looking at the IMDb pages for Scarecrow will probably already be aware of it's terrible reputation & I have to say it pretty much well deserved since it's terrible. The script by Itier, Bill Cunningham & Jason White uses the often told story of one of life's losers who gets picked upon & tormented for no good reason getting their revenge by supernatural means in a relatively straight forward teen slasher flick. We've seen it all before, we've seen killer scarecrows before, we've seen faceless teens being killed off one-by-one before, we've seen one of life's losers get his revenge before, we've seen wise cracking villains who make jokes as they kill before & we've seen incompetent small town Sheriff's make matters even worse before. The only real question to answer about Scarecrow is whether it's any fun to watch on a dumb teen slasher type level? The answer is a resounding no to be honest. The film has terrible character's, awful dialogue, an inconsistent & predictable story, it has some cheesy one-liners like when the scarecrow kills someone with a shovel he ask's 'can you dig it?' & the so-called twist ending which is geared towards leaving things open for a sequel is just lame. The film moves along at a reasonable pace but it isn't that exciting & the kills are forgettable. You know I'm still trying to work out how someone can be stabbed & killed with a stick of corn...<br /><br />Director Itier doesn't do a particularly good job here, the kill scenes are poorly handled with no build up whatsoever which means there's never any tension as within two seconds of a character being introduced they are killed off. Also I'm not happy with the killer scarecrow dude doing all these back-flips & somersaults through the air in scenes which feel like they belong in The Matrix (1999) or some Japanese kung-fu flick! To give it some credit the actual scarecrow mask looks really good & he looks pretty cool but he is given little to do except spout bad one-liners & twirl around a bit. Don't you think that being tied to a wooden stake in the middle of a corn filed all day would have been boring? I know he's a killer scarecrow but I still say he would have been bored just hanging around on a wooden stick all day! There's no nudity & the gore isn't anything to write home about, there's a decapitation, someones face is burnt, someone is killed with a stick of corn, someone gets a shovel stuck in their throat, some sickles are stuck in people's heads, someone has their heart ripped out & someone has a metal thing stuck through the back of their head which comes out of their mouth.<br /><br />With a supposed budget of about $250,000 this was apparently shot in 8 days, well at least they didn't waste any time on unimportant things like story & character development. Technically this is pretty much point, shoot & hope for the best stuff. If you look at the guy on the floor who has just had his heart ripped out you can clearly see him still breathing... The acting sucks, the guy who played Lester's mum's bloke is wearing the most stupid looking wig & fake moustache ever because he played two roles in the film & the makers needed to disguise him but they just ended up making him look ridiculous & don't get me started on his accent...<br /><br />Scarecrow has a few fun moments & the actual scarecrow himself is a nice creation with good special make-up effects but as a whole the film is poorly made, badly acted, silly, too predictable & very cheesy. If you want to see a great killer scarecrow flick then check out Scarecrows (1988). Not to be confused with the Gene Hackman & Al Pacino film Scarecrow (1973) or the upcoming horror flick Scarecrow (2008) which is currently in production. Scarecrow proved popular enough on home video to spawn two more straight to video sequels, Scarecrow Slayer (2003) & Scarecrow Gone Wild (2004).\n"
          ],
          "name": "stdout"
        }
      ]
    },
    {
      "cell_type": "code",
      "metadata": {
        "id": "EJP0Q7tHYSdN",
        "colab_type": "code",
        "colab": {
          "base_uri": "https://localhost:8080/",
          "height": 292
        },
        "outputId": "0b6f7453-b592-4551-d62f-010f47330b75"
      },
      "source": [
        "for rev in most_pos: #позитивные отзывы\n",
        "  print(find_text(rev))"
      ],
      "execution_count": 51,
      "outputs": [
        {
          "output_type": "stream",
          "text": [
            "The bittersweet twist to this movie contains a wonderful element of romanticism that evokes an impetuous passion! These characteristics of idealistic imagery which \"Moonstruck\" possesses, spur on an end result of a resounding thumbs up verdict by virtually every prominent critic in Hollywood. Let me describe the circumstances to this film, simply put, they are \"yesteryear\". \"Moonstruck\" is a cohesive film which sparks the naivety of an old Italian neighborhood in New York City. New York City has always been one big melting pot that is galvanized by many bicker-some mannerisms which are indicative of typical New Yorkers, this includes a lot of Italian Americans living in New York as well! The mid and late eighties brought on an abrupt conclusion to many strong associations with various cultural stereotypes. Ethnicity polarization was a firmly embedded scourge in American history that was far more prevalent several generations before this movie was made. These generalizing proclivities still exist today, however, they are more mollified and less identifiable! For this Italian family of a bygone era, confusion, indecisiveness, agitation, and yes, of course, love, all have the comical camaraderie of an utterly human understanding to them! The kindred spirits with everyone in \"Moonstruck\" seems to be that of comprehending individual frailties. One might wonder about Cher playing the lead role, as she is more known as an entertainer than a big box office first billing star in a movie. In \"Moonstruck\", however, I think she was incredibly well suited to her role, and came off as thoroughly believable in a relatively unbelievable situation. All of the characters in \"Moonstruck\" are very rough around the edges, really tough, and not afraid to have a formidable duel with adversity. The most hilarious aspect to their lives is imperfection, and they are thoroughly aware of the fact that weathering the storm definitely serves a constructive purpose! I thought the acting in this movie was sensational. All relationships in this movie garner an auspicious potential to vividly illuminate because everybody knows how everybody else's basic nature is really like!! For this family, nothing is glamorous, nothing is pretentiously romantic, and nothing is overly emotional (just moderately so). The fact is, this entire family is plainly and perpetually afflicted and overcome by an extremely zealous and candid cupid in all of their lives. Taking moon beams literally can indeed have a pleasantly enervating impact on one's resolve, masqueraded mystique, and resistance to the proverbial am ore'. Thus signifying everything!! The homey and mercurial tenet in this film is basically one of ; Be honest, get angry; Be honest, get confrontational; Be honest, get distorted and emphatic; Most importantly; Be honest, and fall in love!! This is Cher's best performance ever as an actress!! Nicholas Cage, Danny Aiello, and Olympia Dukakis, were wonderfully flawed in \"Moonstruck\" Such performances by these three were perfectly appropriate for the kinetic energy of the characters in this movie! Director, Norman Jewison (Famous for \"Cincinnati Kid\", \"Thomas Crowne Affair\", and most famous for \"In The Heat Of The Night\" which won the academy award for best picture in 1967) depicts many keen and humanistic instincts in the process of purveying the deliberate incongruity to this film! I am Italian American in descent, (Partially anyways) Cher is not Italian, and, for that matter, neither is the writer nor the director! I guess since non-Italians like eating our food, they may as well use our culture to make a fabulous film too! It is refreshing to know that a film can be marvelous and have an incredibly happy ending!! For those of you who didn't like this movie, I just have one thing to say \"Snap Out Of It!!\" This movie \"Moonstruck\" is totally happy go lucky!! Totally eighties!! and Totally five stars!! See it!!\n",
            "The only reason I knew of Midnight Cowboy was because it was in the AFI Critic's Top 100. For a top 100 it is not a very well known movie; indeed, I had to look hard to find a copy, I got the DVD version for about half-price. Surprisingly it was only rated M15+ (the uncut version).<br /><br />I doubt many will take notice of this review (more like comment) so I'll make it brief.<br /><br />This is perhaps one of the strangest movies I've seen, partly because of the use of montages, artistic filming (very art-house) and the unusual theme. There are many things in the film I still don't understand (I've seen it twice), and it makes for an emotionally confusing film.<br /><br />The filming and acting were very good, and it is the larger than life characters which make this film memorable. The main character is Joe Buck, a 'cowboy' from Texas who moves to New York to become a male prostitute. He meets the crippled conman Enrico 'Ratso' Rizzo and, of course they become friends going through the usual escapades. What makes the film interesting is the two characters are so different.<br /><br />I felt the film didn't really develop the relationship between Buck and Enrico Rizzo for the audience to have any real emotional connection, although the ending is certainly quite sad and tragic. You probably already know what happens by reading the reviews, but its pretty obvious from the start.<br /><br />I personally think the film beautifully and poignantly explores its main themes. The deprivation of humanity (shown by the darkness of the city streets, the breaking-down tenements). Most of the characters in the film exist beyond the law (a conman, giggolo.etc) yet you can't help liking them. Joe Buck is endearing because he is so naive and optimistic, while we begin to feel pity for Ratso later in the film.<br /><br />I think the film was rated so high because it was certainly very ground-breaking for its period. At the time (And even now) it was definitely not a typical movie (quite art-house). At a time when the cinema was dominated by tired westerns, musicals and dramas a film with such an unusual theme as Midnight Cowboy pops up.<br /><br />On a personal level, I must say I quite liked the film. The imagery conveyed a dream-like quality. I particularly liked the scene at the party, the music, images etc stay in your mind for a long time after watching. However, as a movie for entertainment's sake it was a bit lacking (not really my style of movie) in thrills. This is a film to be savoured and appreciated, rather than a cheap thrills action flick.<br /><br />Although I would hardly consider myself qualified to analyse this film, the characters and their motives were quite interesting. From what I understand from the flashbacks, Joe Buck was sexually abused as a child by his grandmother, although it still doesn't seem to be relevant to the story. He is a happy-go-lucky young stud, who suppresses his darker memories. The religious connotations in the film are also puzzling. Some have suggested a homosexual connection between Buck and Ratso, although I fail to see where they have got the idea from. The theme of homo-sexuality in general is more than touched upon in their conversation, and later in Joe Buck's encounter with a lonely old man, but it has little to do with the main story.<br /><br />Certainly from a technical point of view one of the finest films of the decade (it has more of a 70s feel to it than a 60s feel) and revolutionary for its time touching on subjects few other films dared to do. While it has a simple, sentimental story to it (disguised by a hard edge) the beauty of the film is in the strange, often psychedelic sequences.\n",
            "David and Bathsheba is a lavish Hollywood Biblical picture produced out of 20th Century Fox by Darryl F. Zanuck, directed by Henry King and starring Gregory Peck {King David}, Susan Hayward (Bathsheba), Raymond Massey (Nathan), Kieron Moore (Uriah) and Jayne Meadows (Michal).<br /><br />The film is based around the second Old Testament book of Samuel from the Holy Bible. It follows King David, who as a child had slain the giant Goliath, and now we find him in adulthood as the second King of Israel. A tough and assured King, David however has affairs of the heart causing great problems. For once he spies Bathsheba taking a shower {re;bath}, it 's the start of a journey encompassing adultery and betrayal; a journey that will end in the judgement of God being called upon.<br /><br />Typically for the genre, David & Bathsheba is a large, grandiose production. From its excellent set designs to it's positively gorgeous Technicolor photography {Leon Shamroy}, it has enough quality to warrant sitting along side the best the genre has to offer as regards production values. Untypically, tho, the film is sedately paced and relies on 99% of its worth being driven purely by dialogue. This is not one for action fans or anyone who needs some swash to go with their buckle. This is a very humanist picture, in fact lets not beat around the burning bush here, it's a Biblical love story flecked with sins of the heart. But that is no bad thing at all, because breaking it down we find it's very well acted {Peck has a stoic yet vulnerable thing going on real well & Hayward is pushing it to the max}, and it be a fine story directed with knowing skill by the often forgotten Henry King. And although some of the dialogue is admittedly cringe inducing, the character flow is never interrupted as Phillip Dunne's (The Ghost and Mrs. Muir) Oscar nominated screenplay holds the attention throughout.<br /><br />Sometimes a forgotten picture in terms of the Biblical/Swords & Sandals genres (most likely because it is a talky piece that has heart as its main selling point), but really it's well worth the time of anyone interested in the most lavish of genres. 7/10\n",
            "The film version of Alice Walker's hugely emotive and influential 1983 novel (written largely as letters from the central character Celie to God) was a massive Oscar success, and rightly so.<br /><br />In the role of the abused and awakened Celie, Whoopi Goldberg gave her best screen performance by miles. Not far behind her was Oprah Winfrey as Sofia, the fiery woman tamed by fate. Others in the cast fleshed out the characters Walker had introduced so clearly on the page - Danny Glover as Albert, Celie's abusive husband; Margaret Avery as Shug, a force of change for the good; Willard Pugh and Rae Dawn Chong as Harpo and Squeak; Susan Beaubian as Corrine, the preacher's wife; and the much-missed Carl Anderson (otherwise best known as Judas in the 1973 film of Jesus Christ Superstar) as preacher Samuel.<br /><br />Beautifully paced and sensitively written, 'The Color Purple' does justice to its source while opening out the story to involve viewers of a feature-length drama.\n",
            "I saw this film at the Adelaide Film Festival '07 and was thoroughly intrigued for all 106 minutes. I like documentaries, but often find them dragging with about 25 minutes to go. Forbidden Lie$ powered on though, never losing my interest.<br /><br />The film's subject is Norma Khoury, a Jordanian woman who found fame and fortune in 2001 with the publication of her book Forbidden Love, a biographical story of sorts concerning a Muslim friend of hers who was murdered by her family for having a relationship with a Christian man. A few years later though, a few journalists started poking holes in the story, leading the public to believe it was fraud. The film covers this quickly but thoroughly in the beginning, and from there we spend most of our time in the company of Norma as she tries to convince us that her novel is more than fiction.<br /><br />Director Anna Broinowski has found a truly fascinating woman to study, and she conducts endless interviews with Khoury as she seeks the truth. As always in life, the truth is not so easy to find. Norma fears for her life, worried about violent backlash over the unsavoury portrait her novel paints of Jordanian Muslims. She refuses to return to Jordan and show us the facts. Broinowski is not deterred however, and slowly puts the pieces together in front of us.<br /><br />The result is an incredible look inside the mind of a con artist. Naturally, what we find there makes little sense and is extremely difficult to follow, and ultimately we don't know whether to believe Norma or not. She's either a rather unfairly put-upon woman trying to survive, or a fantastic spinster. The web of lies, truths and half-truths she turns through the film is brilliant.<br /><br />The film uses much interview footage, as well as dramatisations to tell it's story, and Broinowski uses these dramatisations to show us why people like Norma are able to exist: we want to be conned. We go to the cinema every day and allow ourselves to believe what's happening on the screen is real. That might just be me reading into things a bit too much, it didn't come up in the Q&A with Brionowski after the film, but that's what I took away from it.<br /><br />This is a great Australian film, and must receive an international release, and a swag of awards if you ask me. Certainly the best film I saw at AFF07.<br /><br />Go see it, if you get the chance.\n",
            "A year or so ago, I was watching the TV news when a story was broadcast about a zombie movie being filmed in my area. Since then I have paid particular attention to this movie called 'Fido' as it finished production and began playing at festivals. Two weeks ago Fido began playing in my local theater. And, just yesterday, I read a newspaper article which stated Fido is not attracting audiences in it's limited release, with the exception of our local theater. In fact, here it is outdrawing all other shows at The Paramount Theater, including 300. Of course, this makes sense as many locals want to see their city on screen or spot themselves roaming around in zombie make-up. And for any other locals who haven't seen Fido yet but are considering it, I can say there are many images on screen, from the school to city park to the forbidden zone, that you will recognize. In fact, they make the Okanagan Valley look beautiful. That's right beautiful scenery in a zombie movie! However, Fido itself is a very good movie. Yes, despite its flaws, it is better then most of the 20 other movies playing in my local market. Fido is best described as an episode of Lassie in which the collie has been replaced by a member of the undead. This is a clever premise. And the movie even goes further by taking advantage of the 1950's emphasize on conformity and playing up the cold-war paranoia which led to McCarthyism. Furthermore, it builds on the notion that zombies can be tamed or trained which George Romero first introduced in Day Of The Dead.<br /><br />K'Sun Ray plays a small town boy who's mother (Carrie-Ann Moss) longs for a zombie servant so she can be like all the other house wives on her block. However, his dad (Dylan Baker) is against the idea as he once had to kill his own 'zombie father'. Eventually, the family does acquire a zombie named 'Fido' (played by Billy Connolly), and adjusts to life with the undead. Billy Connolly was inspired casting. He is able to convey Fido's confusion, longing, hatred, and loyalty through only his eyes, lumbering body, and grunts. Connolly shows that he can play understated characters better than his outrageously comedic ones. This is his best role since Mrs. Brown.<br /><br />Fido follows in the footsteps of other recent zomcoms such as Shawn Of The Dead and Zombie Honeymoon. Being someone who appreciates Bruce Campbell and Misty Mundae movies more than Eli Roth and Jigsaw ones, I prefer humor over gore in my horror. However, I understand the criticism of those horror fans who feel there is not enough 'undead carnage' in Fido. Yet, I am sure patient viewers will be rewarded by the films gentle humor.<br /><br />The movie does break down in it's third act. It's as if the writers were so wrapped up in the cute premise of domesticated zombies in the 1950s, they forgot about the story arc. However, given my interest in horror comedies and my appreciation for seeing the neighborhood on screen, I rate Fido 9 out of 10.\n",
            "Eric Stoltz delivers an extraordinary performance as Joel Garcia, a successful young novelist who winds up paralyzed and in a special hospital for the recently disabled after breaking his neck in a hiking accident. While learning to cope and adjust with the gravity of his new limited physical condition Joel befriends slick, fast-talking, charming womanizer Raymond (an amazing Wesley Snipes) and boorish, surly, racist biker Bloss (a terrific William Forsythe), who feels threatened by the diverse multi-ethnic array of fellow patients he's forced to share a room with. Joel also receives substantial support from his loyal and loving, but married girlfriend Anna (radiantly played by Helen Hunt). But he still must come to terms with being disabled on his own.<br /><br />This remarkable movie's key triumph is its laudably stubborn refusal to neither sanitize nor sentimentalize the severity of what these men are going through. Directors Neil Jimenez (who also wrote the thoughtful and insightful script) and Micheal Steinberg relate the story with exceptional taste, wit and warmth, specifically addressing with disarming candor and matter-of-factness how being handicapped irrevocably alters one's lifestyle, including and especially your sex life (this point is most powerfully made in a striking sequence when Joel and Anna try and fail to make love in a motel room). Besides the expected poignancy, the film further provides a surprising surplus of wickedly funny raw, earthy humor that's highlighted by the uproarious sequence with Joel and Bloss making a secret nocturnal expedition to a strip club. The uniformly superb acting qualifies as another significant plus: Stoltz, Snipes, Forsythe and Hunt are all outstanding, with stand-out supporting turns by Grace Zabriskie as Bloss' doting, amiable mother and Elisabeth Pena and William Allen Young as compassionate hospital nurses. Despite the grim subject matter, the film ultimately proves to be a very moving, positive and uplifting cinematic testament to the astonishing strength and durability of the human spirit. A simply wonderful little gem of a drama.\n",
            "It has said that The Movies and Baseball both thrived during The Great Depression. It appears that the grim realities of a Nation caught up in the aftermath of this Economic Disaster created a need for occasional relief for the populace. A temporary escape could be found in the on going soap opera that is Baseball.<br /><br />Likewise, an occasional excursion of 2 or 3 hours into the darkened auditoriums of the Cinema. The presence of a Radio in just about everyone's house hold kept Depression Era America at once attuned to World's Events and provided many a Drama and (especially) Comedy Shows for a pleasant interlude from harsh reality.<br /><br />The literature of the time also flourished at all levels. The juvenile reading habits helped to create the Comic Book as we know it, what with all the fantastic characters and super exciting adventures. But the Comic Book just did not magically appear, all fully developed with all the colorful 4 color pages, all by itself. There were mediums that were ancestral to them. Obviously,the Newspaper Comic Strip was one parent, providing the visual/narrative method of story telling.<br /><br />The other direct ancestor was the Pulp Magazine. The inexpensive, prose story publications that carried a great deal of stories of the same adventure characters in on going, though not necessarily serialized, tales. The pulp medium had been around for some decades and introduced us to Edgar Rice Borrough's TARZAN and Johnston McCulley's ZORRO. The 1930's brought forth a bumper crop as feature characters like THE SHADOW, THE AVENGER, G8's BATTLE ACES and THE SPIDER,MASTER of MEN all found their way to the news stands, among many others.<br /><br />One other was DOC SAVAGE, a full-blooded super hero of the written story; the covers of the pulps had perhaps, the only \"picture\" of the hero. Possessing extraordinary strength, super keen senses and a protean genius class intellect, Doc was the prototype Super Hero.<br /><br />He also assembled 5 of his former Army Buddies into a small, free lancing team of adventurers. Each of them was an expert in a given field. So we had a top rated: Chemist, Lawyer, Construction Engineer, Electrical Engineer, Geologist-Archaeologist-Paleontologist, etc.<br /><br />The Doc Savage stories were very popular in the 1930's and '40's, and were published into the middle '50's. Then they went into a hiatus for a good 12-15 years. Then the brainstorm came about to repackage the old novels in new \"container\", the paperback book. A fresh look to the cover art was introduced, featuring a highly stylized series of paintings of a very muscular Doc, with a perpetually ripped shirt.<br /><br />The re-introduction proved to be highly successful, with the publication of a title a month (and for a while more). Soon, there was a rumor of a Doc Savage movie! But when, by what Producer? Well, the venerable \"Man of Bronze\" was back on the news stands for over 10 years before any real project got put together. It was veteran Stop-action Animator and Producer of top Special Effects films, Geoprge Pal, who did the film along with Warner Brothers.<br /><br />When DOC SAVAGE, MAN OF BRONZE arrived in the Movie Houses, it boasted of a well casted team of actors, albeit a largely \"No Name\" as far familiarity with the viewers. With former Tarzan of TV,Ron Ely's nearly perfect casting in the lead, up and coming Beauty of a Starlette, Pamela Hensley in the female lead and veteran character Paul Wexler (as the villainous, Captain Seas); no other name would have been recognized. And, just maybe that was a plus in this case.<br /><br />The story does a fine job of both getting most of the audience acquainted with the incredible group and at the same time get a plot going. Use of narration, by Paul Frees, and short film clips are the method pursued to move the introduction along to the main body of the story.<br /><br />From the very start, there are hints that this story will go with the same sort of manufactured \"Camp\" humor as the Batman TV series. Some really great looking early scenes involving Doc and the whole crew doing their individual specialties are thrown toward humor by the Paul Frees narration and the unexpected, unlikely outcomes. (For Example, an experiment of Doc's with a miniature rocket/missile turns out to be part of a method of catching fish, a small one at that.) The whole story unfolds like that, hitting the viewer with a little 'Camp' every so often, as to keep reminding us not to take it too seriously. We are also puzzled about Mr. George Pal's being the Producer(his last). He who had been so well known for Special Effects, surely a factor that could be put to good use in a sci-fi action setting of the Pulp Character's world.<br /><br />I can remember seeing it quite vividly. Mrs. Ryan (Deanna) was in the Hospital, just having given birth to our 2nd child, Michelle(08/14/75). Our older girl, Jennifer, was visiting her Grandmother, so after visiting hours were over in the Maternity Ward, it was straight over to the old Marquette Theatre, 63rd & Kedzie, here in Chicago.<br /><br />Having seen it and being a guy with a good familiarity with Doc, I was sort of let down by the final product. I could accept a little of this 'Camp' business, but would not have objected if Mr.Pal would have seen fit to let it all hang out and have some real neat Dinosaurs and Volcanoes to give it all a little more Pulp/Comic/Serial type excitement.<br /><br />And yet, the cast, headed-up by Mr. Ely and the others, made the whole film likable, if not lovable. The sets and locations were, as far as we can see, very much like those of a '30's serial or adventure flick which would be enjoyable to about anyone.<br /><br />And maybe that's just what they were trying for with this DOC SAVAGE, MAN of BRONZE.\n",
            "The Write Word<br /><br />What you see is what you get. Not really! What Madhur Bhandarkar's brave and brilliant 'Page 3' does is destroy the myth attached to the glam and glitterati that colour the pages of our newspapers and whose lives(read party habits) we follow with such maniacal fervour which only our intrinsic voyeuristic streak can explain. <br /><br />The page 3 phenomenon is as deplorable as it is enigmatic. How exactly did it gain such control over the printed word and when did it start to encroach into the front page is subject for another debate. Bhandarkar cleverly avoids that. He is concerned only with the mechanisms of this grotesque existence. And in doing that, he pieces together the various elements of this way of life. Like Robert Altman(although I'm not comparing Bhandarkar to Altman's genius), Bhandarkar uses myriad characters to further his motive. Whether it is a page 3 wannabe NRI, the gate-crashers, the newly-rich, an upcoming model, a socialite politician or an erotic novella authoress; all the characters are introduced with an objective and each of them has a separate character-sketch, even if their parts may be miniscule. And therein lays the film's appeal. <br /><br />Konkona Sen Sharma plays Madhavi Sharma, a young and talented journalist who covers page 3 for Nation Today. Initially content with her job, she soon begins to see the ugliness of this underbelly that is covered by its fake and cosmetic profligacy. But Bhandarkar resists the temptation to make this subject into a moral-policing movie and avoids concentrating on one character alone. Hence the movie is not only about Madhavi, but also equally about Deepak Suri(Boman Irani)- Madhavi's editor who passively accepts his role as a cog of a larger machinery, Anjali Thapar(Soni Razdan)- a socialite suffocating from the social pollution, Abhijeet(Rehan Engineer)- a homosexual make-up artist and Madhavi's roommates Pearl(Sandhya Mridul)- the sassy airhostess and Gayatri(Tara Sharma)-an aspiring actress. It seems like an impossible task to assimilate so many characters(and more) in one story, but full credit to Nina Arora and Manoj Tyagi for penning a tight screenplay. The dialogues by Sanjeev Datta and Bhandarkar have been written with great attention to detail. <br /><br />Any narrative, no matter how good, can fall flat with the lack of genuine performances. Thankfully, 'Page 3' brims with actors and not stars. Konkona goes through her author-backed role with effortless ease. Ditto Boman. Sandhya Mridul gets the best written part, but almost overdoes it. Atul Kulkarni is wasted though with an underwritten character. At times, the director seems too keen to incorporate as much as possible(paedophilia, homosexuality, etc.). But the contexts in which they are used do not make them look rushed. <br /><br />Ultimately, Bhandarkar's attempt is to satiate our voyeurism, but he takes it a step further. He takes us inside the photographs and exposes us to the gruesome realities of this sect of humanity that strangely seems to be living in a different and remote world. These are the same people that indulged in new-year's revelry while a few hundred kilometers away their fellow countrymen had been ravaged by nature's ferocity! Clever writing, skillfully incorporated songs, able performances and a genuine feeling of sincerity are what make this film worthy in spite of its lack of finesse and poor production values. 'Page 3' is an optimum way to enter a new year of cinema.<br /><br />- Abhishek Bandekar<br /><br />Rating- ****<br /><br />* Poor ** Average *** Good **** Very Good ***** Excellent<br /><br />29th January, 2005\n",
            "Back when musicals weren't showcases for choreographers, we had wonderful movies such as this one.<br /><br />Being a big fan of both Wodehouse and Fred Astaire I was delighted to finally see this movie. Not quite a blend of Wodehouse and Hollywood, but close enough. Some of the American vaudeville humour, the slapstick not the witty banter, clash with Wodehouse's British sense of humour. But on the whole, the American style banter makes the American characters seem real rather than cardboard caricatures.<br /><br />Some inventive staging for the dance numbers, including the wonderful fairground with revolving floors and funhouse mirrors, more than make up for the lack of a Busby Berkley over the top dance number. They seem a lot more realistic, if you could ever imagine people starting to sing and dance as realistic.<br /><br />The lack of Ginger Rogers and Eric Blore don't hurt the movie, instead they allow different character dynamics to emerge. It's also nice not to have a wise cracking, headstrong love interest. Instead we have a gentle headstrong love interest, far more in keeping with Wodehouses' young aristocratic females.\n",
            "Having previously seen the abridged print presented by David Shepard, I finally got a hold of a complete--or nearer complete version, which was about 56 minutes compared to the 30-minute version more widely distributed. The Shepard print for Image Entertainment is certainly of superior quality, and the best parts are there, but it's nonetheless good to see the rest of the film and fill in some loose story ends.<br /><br />In the Shepard print, the film ends with Mary stating, \"You see, I've changed my mind--I'm never going home.\" Yet, in the complete version, Mary and Kenneth Driscoll end their relationship soon after that scene  Mary returns home to the country  and Driscoll rekindles his relationship with Vivian. This additional footage develops the character Vivian, who had little relevance in the Shepard version. Moreover, in the complete version, the film begins in the New Jersey countryside with Mary, where she reads and fantasizes about her ideal lover. She's disappointed by the reality of the advances by farm \"chore boy\" Johnny Applebloom (a character completely absent from the Shepard version), but after her affair with Driscoll, she returns to the country to presumably and eventually become a farmer's wife.<br /><br />Regardless of the print, 'A Girl's Folly' is a good little film for 1917, made by one of the top directors of the 1910s Maurice Tourneur. In it, Tourneur takes plenty of jabs at his own business, including by playing a caricature of himself--the director of the film-within-the-film. The two leads also give quality performances by early screen-acting standards: Robert Warwick, an actor playing a skirt-chasing star, and Doris Kenyon, as an ingénue aspiring to play an ingénue on the screen.<br /><br />Self-referential films, which made film-making the focus of the films, were nothing new by now. Mack Sennett had already parodied this type of film three years prior with 'Mabel's Dramatic Career'. Several aspects of this one stand out, though. Frances Marion's intertitles are humorous, including illustrations of the actors on a chessboard with a hand directing them--remarkable for 1917. I especially liked the film's final title cards where two observers remark on the film's happy ending: \"Gee but ain't that romantick!\" And, the other replies, \"Romance, nuthin!  That's movin' pictures!\" Fellow female screenwriter Anita Loos made a similar self-referential conclusion to another film from 1917 'Wild and Woolly'. Both writers helped change the role of their professions in the business and art.<br /><br />Some of the photography by Tourneur and John van den Broek is good, especially concerning the film-making business. The use of mirrors in several scenes is a nice reinforcement of the film's self-reflexivity. Furthermore, the editing is exceptional. The quick crosscutting during the studio scenes is especially salient; it serves to punctuate the hectic pace filmmakers work at, especially back then.\n",
            "After gorging myself on a variety of seemingly immature movies purchased on ex-rental DVDs, I figured that the time was right for a little serious drama and who better to provide it than Sam Mendes? For a number of reasons, \"American Beauty\" doesn't appeal to me as much as this film which is easily the darkest thing that Tom Hanks has ever done and probably one of the most underrated films of the last decade. For this is not a simple gangster tale lifted from its graphic novel origins, and is simply wonderful to watch because of it. And despite my usual allergy to any film with Tom Hanks' name on it (still can't watch \"Big\" without wanting a cat to kick), I'm glad I gave this a try because this is one of those movies that you'll kick yourself for if you miss it.<br /><br />Normally squeaky-clean Hanks plays Michael Sullivan, a devoted family man and father of two sons growing up during Prohibition in the early 1930's. He is also a professional hit-man to mob boss John Rooney (Paul Newman) but has managed to keep his job a secret from his sons. But after his eldest (Tyler Hoechlin) witnesses his dad involved in a mob killing, the pair are forced to go on the run as John seeks to tidy the matter up. Soon, father and son are pursued to Chicago where a fellow hit-man (a menacing Jude Law) is waiting for them.<br /><br />On the face of it, it reads like a pretty standard gangster film but as I've said, this isn't really about gangsters at all. It's about the relationship between a father and son thrown together in the most tragic of circumstances. Hanks is (*grits teeth*) superb as the tortured man who finds out that everything has its price and little Hoechlin is also good as Sullivan's son. In all honesty, there is not a single performance that I could single out as weaker than the others - the cast is pretty much faultless. As is the cinematography and costumes (and it's not often I praise costumes!) which recreates the 30's with stunning effect. There has been so much effort to get everything right and it pays off in spades. This could easily have looked rubbish - they admit that the early 30's look was difficult to put down - but it doesn't and that deserves every bit of credit. Chicago especially looks fantastic, lined with hundreds of rickety cars from the era and filled with people in monochrome suits and hats. True time-travel, even if a little CGI is needed.<br /><br />The story is also a winner, offering a human face to what is often seen as a stereotypical genre of movie villain. Law is surprisingly menacing as the almost mechanical killer Maguire and proves that you don't have to be Cagney or De Niro or Brando to play a gangster. The film is decidedly noir-ish, driving rain and ill-lit warehouses predominate but at least violence and killing are (finally) seen to have an emotional and psychological impact on those who perpetrate and those who merely witness such acts. The whole thing is evocative of a previous age and previous movies but it sweeps away the old and refreshes with a modern tale of redemption amid the Tommy-Gun shootouts and extortion rackets. It can feel a little slow in places, especially if you're used to masses of gun-play in movies like most modern audiences (like yours truly) but sometimes, words can speak louder than actions. Mendes has delivered a fine follow-up to his Oscar-winning debut, a film which is as intelligent as it is beautiful to watch. \"Road To Perdition\" may not be to everyone's tastes but this is one DVD I shall not be exchanging anytime soon.\n",
            "Those childhood memories...when things were new, and we were filled with curiosity about the world around us; as we took those initial first steps in the long journey we call life.<br /><br />One of the initial memories I have from childhood is this animated program \"Galaxy Express 999,\" about a young boy named Tetsuro, who goes on a train ride around the galaxy, in the hopes of gaining a mechanical body in order to avenge the senseless death of his mother at the hands of cold-hearted, trophy gathering mechanical hunters. Accompanying Tetsuro on his journey is Maetel, a woman of exquisite golden beauty who reminds him of the mother he lost all those years ago...<br /><br />Back in the early-80's, as a boy who attended kindergarten and the early years of elementary school in Seoul, South Korea, \"Galaxy Express 999\" was a phenomenally popular animated program imported from Japan, which inspired young boys who tuned in to dream of countless adventures in their often tumultuous and exciting journey through life that awaited them. The memories of tuning into this animated program on weekdays between 8 to 9pm before bed time...<br /><br />Those were some wonderful memories, never to be had again...<br /><br />As I moved to America, and while residing here for over 2 decades, I sometimes wondered about that time and place, in a country thousands of miles away divided from America by an enormously vast ocean, of this childhood program, with its hit theme song, and of the boy named Tetsuro, his protective companion Maetel, the enigmatic train conductor, and of the spacefaring train Galaxy Express 999.<br /><br />Many, many years passed...<br /><br />Last summer while I was in Korea, I was able to track down a copy of the original \"Galaxy Express 999\" (1979) on DVD, and it brought back a lot of nostalgic, heartfelt memories. \"Galaxy Express 999\" remains as captivating as the first time you discovered it all those years ago, opening up those nostalgic memories of new discoveries, an important stepping stone for young boys who tuned in and embarked on their life's journey into manhood.<br /><br />Here's to wonderful memories. \"Good-bye, Maetel. Good-bye, Galaxy Express 999...<br /><br />Good-bye, to my childhood.\"<br /><br />10/10\n",
            "This film, was one of my childhood favorites and I must say that, unlike some other films I liked in that period The Thief of Bagdad has held on to it's quality while I grew up. This is not merely a film to be enjoyed by children, it can be watched and enjoyed by adults as well. The only drawback there is, is that one can not see past the bad' effects (compared to the effects nowadays) like one could when one was a child. I remembered nothing of those effects, of course it had been about ten years since I'd seen this film, when I was about eleven years old. Who then watches effects? One only seeks good stories and entertainment and this is exactly what this film provides. In my mind this film is one of the first great adventure films of the 20th century. Coming to think of it I feel like the Indiana Jones films are quite a like this film. There is comedy, romance and adventure all in one, which creates a wonderful mixture that will capture you from the beginning until the end and although the film is old and the music and style of the films is clearly not modern, it succeeds in not being dusty and old. All of that is mainly due to the great story, the good directing and the good acting performances of the actors. In that department Sabu (as Abu) and Conrad Veidt (as Jaffar) stand out, providing the comedic and the chilling elements of the film for the most part. Great film and although an 'oldie', definitely a goldie'. I hope someone has the brain and guts to release this one on DVD someday.<br /><br />8 out of 10\n",
            "I was one of many that expected to see a glorified, Yankee-doodle dandy portrayal of a day that (as famously quoted) should live in infamy, rather than glory. How wrong I was. These guys were there, right in the middle of it, and the pictures they returned are both amazing and heartbreaking. And yet it all occurred on a chance trip to the world trade centre on September 11, 2001.<br /><br />Two French filmmakers were compiling a documentary about life as a NY firefighter, particularly from the perspective of a young rookie coming up through the ranks. At the beginning we see much of this footage, just to remind us that there was no thought to producing a film about terrorism. This was intended to be a film about regular people earning an honest living helping others, and the beauty of the film is that it never loses this edge.<br /><br />While investigating a suspect gas line (I think, my memory's a little hazy on that), we suddenly hear a plane fly overhead. The camera pans up to reveal a commercial jet torpedoing itself into one of the towers. What must the cameraman have been thinking at this time? Recognising the importance of the footage the camera stays on, and possibly realizing the same thing, the FDNY allow the camera to follow them into the building.<br /><br />What follows is a true view from the front-lines. We see the commitment of the FDNY, their reactions (the stunned silence after hearing the first person fall to their death is chilling) as well as the collapse of the one of the buildings from the inside, while a second camera captures the events from the outside.<br /><br />If it wasn't for the horrific event they were covering, the footage alone would be any young doco-maker's dream come true. Quite simply, the footage deserves to be preserved for all time. But what really sets this film apart is the genuine humanity that it brings to the viewer. We see firefighters charging in without hesitation, people of different races helping one another escape to wave of rubble and even the concern of the filmmakers for one another (they are brothers) as they cannot reach one another in the confusion. There are amazing sights as well as amazing human stories in this film, something Hollywood could never duplicate (even though it's trying).<br /><br />9/11 isn't a film about politics. Nor is it a film about religion, nationality or even jihad for that matter. 9/11 is a film about people, and a true indication of the best and worst that we are capable of. 9/11 is quite simply one of the most important films I've ever seen, and would be the only film to be born from this event if it were up to me. You can't duplicate this.\n"
          ],
          "name": "stdout"
        }
      ]
    },
    {
      "cell_type": "code",
      "metadata": {
        "id": "RdV6B6PZarYf",
        "colab_type": "code",
        "colab": {}
      },
      "source": [
        "test_data_short.insert(loc=2, column='prediction_NB', value=predicted_NB)"
      ],
      "execution_count": 0,
      "outputs": []
    },
    {
      "cell_type": "code",
      "metadata": {
        "id": "xwiyr3LlbIf4",
        "colab_type": "code",
        "colab": {}
      },
      "source": [
        "test_data_short.head(5)"
      ],
      "execution_count": 0,
      "outputs": []
    },
    {
      "cell_type": "markdown",
      "metadata": {
        "id": "8K23rcCIdeEp",
        "colab_type": "text"
      },
      "source": [
        "Когда я попробовала посчитать здесь метрики, я увидела, что мои метрики слегка отличаются от метрик, сделанных автоматически"
      ]
    },
    {
      "cell_type": "code",
      "metadata": {
        "id": "GkWjMaD7eWiO",
        "colab_type": "code",
        "colab": {}
      },
      "source": [
        "tp = len(test_data_short.loc[(test_data_short.Polarity == 1) & (test_data_short['prediction_NB'] == 1)])\n",
        "fp = len(test_data_short.loc[(test_data_short.Polarity == 0) & (test_data_short['prediction_NB'] == 1)])\n",
        "tn = len(test_data_short.loc[(test_data_short.Polarity == 0) & (test_data_short['prediction_NB'] == 0)])\n",
        "fn = len(test_data_short.loc[(test_data_short.Polarity == 1) & (test_data_short['prediction_NB'] == 0)])"
      ],
      "execution_count": 0,
      "outputs": []
    },
    {
      "cell_type": "code",
      "metadata": {
        "id": "mRyyUGPGaUop",
        "colab_type": "code",
        "colab": {
          "base_uri": "https://localhost:8080/",
          "height": 34
        },
        "outputId": "9dc3c2cc-3236-4c7c-978b-8dae082f265e"
      },
      "source": [
        "precision = tp / (tp + fp)\n",
        "precision"
      ],
      "execution_count": 88,
      "outputs": [
        {
          "output_type": "execute_result",
          "data": {
            "text/plain": [
              "0.9018899978764069"
            ]
          },
          "metadata": {
            "tags": []
          },
          "execution_count": 88
        }
      ]
    },
    {
      "cell_type": "code",
      "metadata": {
        "id": "tEa-IZaaaVs4",
        "colab_type": "code",
        "colab": {
          "base_uri": "https://localhost:8080/",
          "height": 34
        },
        "outputId": "8d0c0fc1-318c-4125-d8d1-8de809079592"
      },
      "source": [
        "recall = tp / (tp + fn)\n",
        "recall"
      ],
      "execution_count": 89,
      "outputs": [
        {
          "output_type": "execute_result",
          "data": {
            "text/plain": [
              "0.8502502502502503"
            ]
          },
          "metadata": {
            "tags": []
          },
          "execution_count": 89
        }
      ]
    },
    {
      "cell_type": "code",
      "metadata": {
        "id": "W-cvpl4kaYeR",
        "colab_type": "code",
        "colab": {
          "base_uri": "https://localhost:8080/",
          "height": 34
        },
        "outputId": "df0e1853-e9c6-48b7-dc4f-a55c0940121f"
      },
      "source": [
        "f1 = 2 * (precision * recall) / (precision + recall)\n",
        "f1"
      ],
      "execution_count": 90,
      "outputs": [
        {
          "output_type": "execute_result",
          "data": {
            "text/plain": [
              "0.8753091508656223"
            ]
          },
          "metadata": {
            "tags": []
          },
          "execution_count": 90
        }
      ]
    },
    {
      "cell_type": "markdown",
      "metadata": {
        "collapsed": false,
        "id": "AHDq3QdR4Wul",
        "colab_type": "text"
      },
      "source": [
        "## Логистическая регрессия (метод максимальной энтропии [MaxEnt])\n",
        "\n",
        "Эта модель сработала лучше всех остальных по качеству, считаю, что это лучший классификатор."
      ]
    },
    {
      "cell_type": "code",
      "metadata": {
        "pycharm": {
          "name": "#%%\n"
        },
        "id": "c7r6WNnU4Wup",
        "colab_type": "code",
        "colab": {}
      },
      "source": [
        "clf_LR = LogisticRegression(max_iter=10000).fit(X_train_counts, train_data_short.Polarity)\n",
        "predicted_LR = clf_LR.predict(X_test)"
      ],
      "execution_count": 0,
      "outputs": []
    },
    {
      "cell_type": "code",
      "metadata": {
        "pycharm": {
          "name": "#%%\n"
        },
        "id": "AUSOjXMj4Wur",
        "colab_type": "code",
        "outputId": "39a14c06-db1d-4108-9dec-2fe8692ed469",
        "colab": {
          "base_uri": "https://localhost:8080/",
          "height": 85
        }
      },
      "source": [
        "acc = accuracy_score(predicted_LR, test_data_short.Polarity)\n",
        "micro_f1 = f1_score(predicted_LR, test_data_short.Polarity, average = 'micro')\n",
        "micro_p = precision_score(predicted_LR, test_data_short.Polarity, average = 'micro')\n",
        "micro_r = recall_score(predicted_LR, test_data_short.Polarity, average = 'micro')\n",
        "macro_f1 = f1_score(predicted_LR, test_data_short.Polarity, average = 'macro')\n",
        "macro_p = precision_score(predicted_LR, test_data_short.Polarity, average = 'macro')\n",
        "macro_r = recall_score(predicted_LR, test_data_short.Polarity, average = 'macro')\n",
        "print('acc={0:1.4f}'.format(acc))\n",
        "print('micro F1={0:1.4f}, micro P={1:1.4f}, micro R={2:1.4f}'.format(micro_f1, micro_p, micro_r))\n",
        "print('macro F1={0:1.4f}, macro P={1:1.4f}, macro R={2:1.4f}\\n'.format(macro_f1, macro_p, macro_r))"
      ],
      "execution_count": 0,
      "outputs": [
        {
          "output_type": "stream",
          "text": [
            "acc=0.9181\n",
            "micro F1=0.9181, micro P=0.9181, micro R=0.9181\n",
            "macro F1=0.9181, macro P=0.9181, macro R=0.9183\n",
            "\n"
          ],
          "name": "stdout"
        }
      ]
    },
    {
      "cell_type": "code",
      "metadata": {
        "pycharm": {
          "name": "#%%\n"
        },
        "id": "MqGU1lb94Wut",
        "colab_type": "code",
        "outputId": "1d60a592-a999-4771-b49a-e72815c46d61",
        "colab": {
          "base_uri": "https://localhost:8080/",
          "height": 284
        }
      },
      "source": [
        "sns.heatmap(data=confusion_matrix(test_data_short.Polarity, predicted_LR), annot=True, fmt=\"d\", cbar=False, xticklabels=categories, yticklabels=categories)\n",
        "plt.title(\"Confusion matrix\")\n",
        "plt.show()"
      ],
      "execution_count": 0,
      "outputs": [
        {
          "output_type": "display_data",
          "data": {
            "image/png": "[encoded data removed]",
            "text/plain": [
              "<Figure size 432x288 with 1 Axes>"
            ]
          },
          "metadata": {
            "tags": []
          }
        }
      ]
    },
    {
      "cell_type": "code",
      "metadata": {
        "id": "ATVvhz0M0jpw",
        "colab_type": "code",
        "outputId": "820dfbc6-442d-4ecd-ec5a-13360ffc726e",
        "colab": {
          "base_uri": "https://localhost:8080/",
          "height": 302
        }
      },
      "source": [
        "y_true = test_data_short.Polarity #как было в корпусе\n",
        "y_predicted = predicted_LR #как сработал алгоритм\n",
        "fpr, tpr, _ = roc_curve(y_true, y_predicted)\n",
        "pyplot.plot(fpr, tpr, marker='.', label='Test')\n",
        "pyplot.xlabel('False Positive Rate')\n",
        "pyplot.ylabel('True Positive Rate')\n",
        "pyplot.legend()\n",
        "pyplot.show()\n",
        "\n",
        "print(roc_auc_score(y_true, y_predicted))"
      ],
      "execution_count": 0,
      "outputs": [
        {
          "output_type": "display_data",
          "data": {
            "image/png": "[encoded data removed]",
            "text/plain": [
              "<Figure size 432x288 with 1 Axes>"
            ]
          },
          "metadata": {
            "tags": []
          }
        },
        {
          "output_type": "stream",
          "text": [
            "0.918095786895326\n"
          ],
          "name": "stdout"
        }
      ]
    },
    {
      "cell_type": "code",
      "metadata": {
        "id": "47G0D91E_XzA",
        "colab_type": "code",
        "colab": {}
      },
      "source": [
        "probabilities_LR = clf_LR.predict_proba(X_test)[:,1]\n",
        "most_neg = probabilities_LR.argsort()[:15]\n",
        "neg_reviews = []\n",
        "for rev in most_neg:\n",
        "  is_not_repeat = True\n",
        "  for neg in neg_reviews:\n",
        "    if (neg-rev).any():\n",
        "      is_not_repeat = False\n",
        "      break\n",
        "  if is_not_repeat:\n",
        "    neg_reviews.append(rev)\n",
        "def find_text(index: int):\n",
        "  for i, text in enumerate(test_data_short.Text):\n",
        "    if i == index:\n",
        "      return text\n",
        "  return None"
      ],
      "execution_count": 0,
      "outputs": []
    },
    {
      "cell_type": "code",
      "metadata": {
        "id": "F5bUilekQavQ",
        "colab_type": "code",
        "colab": {
          "base_uri": "https://localhost:8080/",
          "height": 292
        },
        "outputId": "d5804d08-916e-4c48-c0fd-24037d146418"
      },
      "source": [
        "for rev in most_neg: #негативные\n",
        "  print(find_text(rev))"
      ],
      "execution_count": 41,
      "outputs": [
        {
          "output_type": "stream",
          "text": [
            "I have never seen any of Spike Lee's prior films, as their trailers never caught my interest. I have seen, and admire Denzel Washington, and Jodie Foster's work, and have several of their DVDs. I was, however, entirely disappointed with this movie. If this film is any indication of Spike Lee's ability as a director, my advice would be to \"get a job\", and stop wasting the time and talent of others. <br /><br />I wonder if some of the other IMDb commentators watched the same movie that I'd seen. I can only assume, from their sappy lovelorn reviews, that their adoration of Spike Lee has blinded them to the banality of this piece of work. I only paid $2.50, in a \"Second Run\" theater, and still felt I'd wasted my money.<br /><br />The IMDb \"Trivia\" page says it all.......<br /><br />* \"Shot in 39 days\" -- How can you expect to shoot a big budget \"Blockbuster\", (as the media hype promised), in such a short time? No wonder there was such a weak performance by all.<br /><br />* \"Ron Howard was first going to direct the film...\" -- He may have done this project some justice, given more time to do so, of course. Though the writing was atrocious, the premise had some merits. <br /><br />OK! maybe not. I'm sorry! This film was so rife with pitiful cliché's, implausible scenes, and lousy characterizations, that maybe even he couldn't have made much of it. (Hey Ron! Be sure to thank Russell...Good call!) <br /><br />* \"Jodie Foster filmed her part in three weeks.\" -- And it showed! Her portrayal of a \"Fixer\", who makes people's problems go away, was as unbelievable as the script she was given. Did she even want to be there?<br /><br />Other Peeves: <br /><br />* How many bank robbers would bother to come to the door, and inform a uniformed police officer that they were inside robbing the bank, and he'd better keep away...or else? <br /><br />* When \"Detective Frazier\", (Denzel Washington), comes into the bank to verify there are no corpses yet, how many bank robbers, without a gun, would have \"led\" a cop, (much less \"let\" a cop) back out to the front door, allowing the police officer to walk behind him? <br /><br />* Det. Frazier later claimed, to have given the robber \"every reason to shoot me.\" Why, then, in their brief struggle, didn't he even try to expose the robber's face? That may have gotten the response he was looking for...a robber would have shot him just to prevent later identification. And why did it take \"Steve, Stevie, Steve-O\", (the robber's accomplice), so long to come and help out? <br /><br />* I understand that these weren't your typical bank robbers. They had a different agenda, and didn't want anyone harmed. But the cops had no reason to think that they wouldn't. To them it was a desperate situation. Why then, when two of the bad guys stepped outside to \"pick up the pizzas?\", were they not taken down. (first of all, how many robbers would have came outside without using a hostage as a shield? Is this Spike Lee's version of NY City, or SNL's?). Taking them down would have reduced the bad guy's numbers, screwed up their plans, and the remaining robbers would more probably have given up. If not, there at least would be fewer bad guys inside. (Give SWAT something to do, or send them home!)<br /><br />* What police department in this country, would have allowed Madeline White, (Jodie Foster), to just waltz right into the bank, and discuss a matter with the robbers, that she would not disclose to them first? She had no authority, no governmental credentials; and besides, this was after all, \"already\" a hostage situation...add one more?<br /><br />* Why wouldn't the Bank CEO, (Christopher Plummer), just have destroyed the incriminating documents a long time ago? Screw sentimentality! The diamonds, he could have sold.<br /><br />* Who was that \"schmuck\", (the character, not the actor), with the Jersey accent, that, conveniently, volunteered, and said he knew the recording was \"100% Albanian\", but yet he himself couldn't speak it.....SIR! PUT YOUR HAND DOWN! And his Ex-wife! What a \"schlump\" she was!!! Both were totally unbelievable. <br /><br />* When interrogating suspects, why did Det. Frazier, continually harass the individuals who were obviously not a part of the heist?, (i.e. - telling the elderly woman she could go, and then she couldn't, then could; then couldn't?) Give me a break! <br /><br />* Who, after seeing the bank robbers demand that the hostages put on jump suites, couldn't deduce their escape plan included coming out of the bank pretending to be some of the hostages? <br /><br />* Near the end of the movie, a false wall was shown to have been built in the supply room, behind which Clive Owens hid out for \"a week\"....where did the materials come from? (the drywall & studs). It was also to be assumed that they cut into the sewer, so he could relieve himself. The bank employees hadn't complained about the smell, all week long? Hello!<br /><br />* After such a debacle; since the documents \"had\" fallen into the robber's hands, what kind of \"references\" was Ms. White expecting to get from the bank CEO, seeing that he was now to be a target for blackmail, due to her failure?<br /><br />* And last, but certainly not least, What's with the \"Electric Glide\" that Denzel did? HOW STUPID! Was that supposed to indicate his \"resolve\" to bring these guys to justice? He looked, rather, like a man who hopped a ride on a shopping cart, while trying to prevent a bowel movement! \"Cheeee-Zheeee\"!!!! <br /><br />Other than the mediocre plot; lousy script; bad acting; and overall pitiful directing......yada, yada, yada. <br /><br />Hopefully this will give enough insight into the movie to help others decide whether to waste their money or not!<br /><br />.\n",
            "I made the big mistake of actually watching this whole movie a few nights ago. God I'm still trying to recover. This movie does not even deserve a 1.4 average. IMDb needs to have 0 vote ratings possible for movies that really deserve it like this one. A 1.4 is TOO HIGH.<br /><br />I had heard how awful this movie was, but I really did not think a movie could actually be that bad, especially in this day and era. I figured all of the cheesy god awful movies were only from the 1950s and 1960s. My god was I wrong. Trust me folks, this movie REALLY IS THAT BAD. It is beyond horrible; it is beyond pathetic; it is beyond any type of word that I can think of for it. BATTLEFIELD EARTH looks like Best Picture of the Year compared to this movie. SNAKE ISLAND (which up until now was the worst movie I'd ever seen) looks like it deserves a few Oscars compared to this pathetic effort.<br /><br />I seriously can not believe that the makers of this movie thought this was a legitimate serious effort of producing a Hollywood movie. This has no business being called a movie. In the first 25 seconds of the film, I seriously thought I was watching some high school theater class attempting to make a short movie. Or better yet, I thought it was some Saturday night Live ripoff skit of the real thing. I mean, it looks exactly like that. The acting is horrible; the whole movie almost looks like it was shot with a 20 year old VHS video camera. the special effects.......well good lord Bewitched from back in the day had better special effects than this movie. The scene where he gets shot at the door is beyond laughable and beyond cheesy. I mean seriously, my Intro to Acting class from 4 years ago in college, all of us could have put together a better movie than this. And the worst part of the entire movie, where Arthur is naked in the bathroom. Oh my god I almost thew up right there. I have a strong stomach, but wow that was horrible. Some people should never be naked, and he's one of them. The plot of this movie just seems to go absolutely nowhere. They talk about legal issues that we never hear about again; Ben talks about getting into music that we never hear about again; arthur says he is looking for a job and money for college and the next thing we see is he's running a porn shop. Everything about the movie is just horrible.<br /><br />This really doesn't have much to do with my critique, but just so everyone knows, I am not a gay man. I DO however support gay rights and believe we should all be treated as equals. And I would support any gay person in my church, unlike the cruel priest in this movie, who by the way seems to cuss every other word. (WHERE IS THE F*(#*ing white out?) hahaha But I didn't want anyone to think I hated this movie just because of it being about two gay guys. It has nothing to do with that: This would have been just as horrible of a movie if it was Ben & Jill instead of Ben & Arthur.<br /><br />I just watched this movie to see if it really was as bad as they say. And yes it was even WORSE than I had read. Let this be a warning to everyone: ONLY watch this movie if you want to just sit back and laugh at how pathetic some movies in the 21st century can still be. If you watch this movie and are actually expecting a good movie or some entertainment, I have no sympathy for you whatsoever.<br /><br />On a final thought: How in the world are there 7 movies ranked BELOW this on IMDb? There is no way there are 7 movies out there that are worse than this!\n",
            "Pier Paolo Pasolini, or Pee-pee-pee as I prefer to call him (due to his love of showing male genitals), is perhaps THE most overrated European Marxist director - and they are thick on the ground. How anyone can see \"art\" in this messy, cheap sex-romp concoction is beyond me. Some of the \"stories\" here could have come straight out of a soft-core porn film, and I am not even so much referring to the nudity but the simplistic and banal, often pointless stories. Anyone who enjoyed this relatively watchable but dumb oddity should really sink his teeth into the \"Der Schulmaedchenreport\" soft-porn German 70s movie series, because that's what \"Decameron\" looks like to me.<br /><br />Besides, the movie is sloppy on nearly all levels, from start to finish: <br /><br />1. Editing. An example: at 1 hour:15 minutes:45 seconds there is a chasing scene that is put quite clearly in the wrong place. It was supposed to be placed about a minute later, but I guess that Pasolini must have hired boozed-up editors who have little time for the \"fine details\" of movie-making. Pee-pee-pee's fans would probably counter this by saying that it was placed there intentionally - which I very much doubt. Besides, even if that were true, that would be even worse, because that story gains absolutely nothing by making it harder to follow. (This isn't exactly \"Eraserhead\" or one of Tarantino's broken-form films...) <br /><br />2. Acting. Vey sloppy. Triple Pee's fans (all 8 of them) proudly declare how 3P-O uses \"real people instead of actors\". (Aren't actors people? Or are they Martians? Sure, many actors have sub-par IQs but does that mean we should treat them with contempt...?) Other directors have used amateurs and succeeded (such as Alan Parker or De Niro), so why are PPP's amateurs so utterly awful in his movies? The answer is once again appalling sloppiness. Pasolini is sloppy in everything, and that includes trying to get as much out of his toothless amateurs as he can. He is a lazy director, an IMperfectionist if you like. The anti-Kubrick, I suppose... Pee-pee-pee's principal goal when casting must have been to find as many toothless old people as possible (and young men that are to his liking). In Pasolini's world there is a simple formula: lack of teeth + strange face = realism. It's all well and fine to have them toothless, but at least try to eke out some at least semi-decent performances out of these inexperienced neo-thespians, otherwise you're an amateur yourself - an amateur director, in Pasolini's case. Whether 3P-0 wasn't capable of this feat or simply didn't care doesn't change anything. (Who knows... maybe he didn't even notice the awful acting?) <br /><br />3. Audio. The synchronization. If 3P-0 felt that microphones are too much of a hassle when filming a movie, then he ought to have at least made a concerted effort in post-production, i.e. getting all these bum actors to say their lines on cue in the studio, so that we the viewers wouldn't have to watch mouths move while the elusive dialogue floats elsewhere in the movie.<br /><br />4. Lack of concept. We have close to a dozen stories which aren't connected in any meaningful way. Some are anti-Church (more on that later), while some are merely sex yarns i.e. cheap male (sometimes gay) fantasies designed to titillate and nothing else. The stories and characters are not amusing (if at all) on an intelligent level, but on the basest level. 10 year-old kids can laugh here... And there is nothing wrong with that, but then don't call it exalted, intellectual art! <br /><br />5. As a result of point 4, there is also a lack of logic in the order of the stories. That goes without saying. Pee-pee-pee could have arranged the order in any other way, and we would have had the exact same movie. This also means that you can feel free to start from the middle then go back to the beginning, etc. \"Decameron\" is like a bowl of spaghetti that way: when you start eating it you can begin with any thread you want, it makes no difference at all.<br /><br />6. The pointlessness of the stories' resolutions. Most stories end with a cheap gag/joke, i.e. some damn dumb punchline straight out of a porn comic-book, whereas some stories don't even have a conclusion: they merely end. Finito. At best, the stories are watchable semi-anecdotes, barely any deeper meaning there - unless you find \"deep\" meanings in a porno. There is, of course, nothing easier than looking for and finding \"meaning\" where there is an absence of it. Hence even any hardcore porn film can be philosophized/mused over endlessly. It's easy and fun. Try it, oh ye 8 PPP fans! <br /><br />As for the Church-bashing... Some viewers get all excited about his attack on Catholicism and what-not. In principal, that's all well and fine - after all, I'm an atheist myself - but what those people ignore is the simple but essential fact that Pasolini was a Marxist. It's like the pot calling the kettle black. A Marxist criticizing the Church for hypocrisy and stupidity? Where does he get the nerve? Besides, Pasolini wasn't an atheist, hence his high-and-mighty and self-righteous stance isn't justified. After all, Marxists are believers: they merely substituted the accepted god with the idea of a Utopia, which is merely another supernatural wishful-thinking fantasy. Hence I cannot get excited about PPP's anti-religion antics.<br /><br />This sophomoric humpdorama anthology ends with Pasolini saying rather pretentiously: \"I wonder... Why produce a work of art when it's nice just to dream about it?\" He wasn't actually referring to this silly little movie as art, was he...? In case he was - the poor deluded man - then I have to wonder why he didn't just leave it at dreaming, and NOT make all those bad movies...<br /><br />Wanna read my altered subtitles of Bergman movies? E-mail me.\n",
            "Sexo Cannibal, or Devil Hunter as it's more commonly known amongst English speaking audiences, starts with actress & model Laura Crawford (Ursula Buchfellner as Ursula Fellner) checking out locations for her new film along with her assistant Jane (Gisela Hahn). After a long days work Laura is relaxing in the bath of her room when two very dubious character's named Chris (Werner Pochath) & Thomas (Antonio Mayans) burst in & kidnap her having been helped by the treacherous Jane. Laura's agent gets on the blower to rent-a-hero Peter Weston (Al Cliver) who is informed of the situation, the kidnappers have Laura on an isolated island & are demanding a 6 million ransom. Peter is told that he will be paid 200,000 to get her back safely & a further 10% of the 6 million if he brings that back as well, faster than a rat up a drain pipe Peter & his Vietnam Vet buddy helicopter pilot Jack are on the island & deciding on how to save Laura. So, the kidnappers have Laura & Peter has the 6 million but neither want to hand them over that much. Just to complicate things further this particular isolated island is home to a primitive tribe (hell, in all the generations they've lived there they've only managed to build one straw hut, now that's primitive) who worship some cannibal monster dude (Burt Altman) with bulging eyes as a God with human sacrifices & this cannibal has a liking for young, white female flesh & intestines...<br /><br />This Spanish, French & German co-production was co-written & directed by the prolific Jesus Franco who also gets the credit for the music as well. Sexo Cannibal has gained a certain amount of notoriety here in the UK as it was placed on the 'Video Nasties' list in the early 80's under it's alternate Devil Hunter title & therefore officially classed as obscene & banned, having said that I have no idea why as it is one bad film & even Franco, who isn't afraid to be associated with a turkey, decides he wants to hide under the pseudonym of Clifford Brown. I'd imagine even the most die-hard Franco fan would have a hard time defending this thing. The script by Franco, erm sorry I mean Clifford Brown & Julian Esteban as Julius Valery who was obviously another one less than impressed with the finished product & wanted his named removed, is awful. It's as simple & straight forward as that. For a start the film is so boring it's untrue, the kidnap plot is one of the dullest I've ever seen without the slightest bit of tension or excitement involved & the horror side of things don't improve as we get a big black guy with stupid looking over-sized bloodshot eyes plus two tame cannibal scenes. As a horror film Sexo Cannibal fails & as an action adventure it has no more success, this is one to avoid.<br /><br />Director Franco shows his usual incompetence throughout, a decapitated head is achieved by an actor lying on the ground with large leaves placed around the bottom of his neck to try & give the impression it's not attached to anything! The cannibal scenes are poor, the action is lame & it has endless scenes of people randomly walking around the jungle getting from 'A' to 'B' & not really doing anything when they get there either. It becomes incredibly dull & tedious to watch after about 10 minutes & don't forget this thing goes on for 94 minutes in it's uncut state. I also must mention the hilarious scene when Al Cliver is supposed to be climbing a cliff, this is achieved by Franco turning his camera on it's side & having Cliver crawl along the floor! Just look at the way his coat hangs & the way he never grabs onto to anything as he just pulls himself along! The gore isn't that great & as far as Euro cannibal films go this is very tame, there are some gross close ups of the cannibals mouth as it chews bits of meat, a man is impaled on spikes, there's some blood & a handful of intestines. There's a fair bit of nudity in Sexo Cannibal & an unpleasant rape scene.<br /><br />Sexo Cannibal must have had a low budget & I mean low. This is a shoddy poorly made film with awful special effects & rock bottom production values. The only decent thing about it is the jungle setting which at least looks authentic. The music sucks & sound effects become annoying as there is lots of heavy breathing whenever the cannibal is on screen. The acting sucks, the whole thing was obviously dubbed anyway but no one in this thing can act.<br /><br />Sexo Cannibal is a terrible film that commits the fatal mistake of being as boring as hell. The only good things I can say is that it has a certain sleazy atmosphere to it & those close ups of the cannibal chewing meat are pretty gross. Anyone looking for a decent cinematic experience should give Sexo Cannibal as wide a berth as possible, one to avoid.\n",
            "Munchies starts in deepest darkest Peru (looks more like a dirt road to me) where archaeologist Simon Watterman (Harvey Korman) & his son Paul (Charles Stratton) are on an expedition. Simon thinks that ancient Aztec buildings were in fact spacecraft control centres & he is on a mission to gain proof that alien lifeforms have visited Earth, while in once such structure he discovers a strange small creature which he sticks in his backpack & takes back home with him to the small American town of Sweetwater in California. Simon feels that the creature is the proof he has been looking for & for some inexplicable reason decides to leave the thing at home while he goes to share his discovery. Simon ask's Paul & his wife Cindy (Nadine Van der Velde) to take care of it. Meanwhile Simon's brother & fast-food businessman Cecil Watterman (Harvey Korman again) steals the creature so his brother won't make any money out of it, but his idiotic stepson Dude (Jon Stafford) has a fight with it & chops it up with a knife but the individual parts grow back into separate little creatures that proceed to cause much havoc amongst the townspeople...<br /><br />Directed by Bettina Hirsch this has to be one of the worst horror comedy's ever, if not the worst. The script by Lance Smith is so unfunny it's painful. Every joke in Munchies misses the target by the proverbial mile, I doubt the humour in this piece of crap would even appeal to pre-teens. There just isn't anything even remotely funny or even amusing in Munchies as far as I'm concerned. The basic story is crap too, they just happen to find this creature running around with no explanation of what it is, why no-ones ever seen it before, how it manages to learn English so quickly & how it learns to drive etc. The whole thing is a big Gremlins (1984) rip-off with none of the elements that made that film so good. The character's are moronic, the stupid Deputy (Charlie Phillips) & his dad (Hardy Rawls), Cecil wearing an embarrassing wig & fake moustache & his air head wife Melvis (Alix Elias) & more besides. They just plain embarrass & are ridiculous, I defy anyone to find any of this rancid rubbish funny. Basically Munchies fails spectacularly at being either a comedy or horror & ends up being, yes you've guessed it, crap.<br /><br />Director Hirsch was obviously working with a low budget here & it shows, the entire thing takes place in two houses, the desert, some caves & a miniature golf course. This is really cheap & incompetent film-making. The special effects on the Munchies themselves are really awful, their just dolls that have no movement unless someone off camera pulls a string attached to it's arm. I cannot stress how bad the effects are, these things wouldn't convince my 4 year old nephew (as proved by me & him yesterday!). Total incompetence all the way, this film sucks.<br /><br />Technically the film is terrible, bad special effects, lame production design, rubbish sets & well, just everything's crap. The acting is rotten through & through, from the cops to Korman who has two roles both of which prove he can't act & isn't funny.<br /><br />Munchies is a really bad film that fails in everything that it tries to achieve, sure watch it if you want I won't stop you but just don't say you weren't warned! My advice would be to watch Gremlins again instead, but the decision is yours!\n",
            "There are people out there who will greenlight anything! That is the only explanation I can offer as to why the House of the Dead movie exists. And that's only scary part to the whole movie. It's so bad you'll go off movies forever. I seriously wanted to switch this off and turn the TV over to the Paint Drying channel but I was bound by my word to suffer the whole thing. I don't know why I do these bad things to myself.<br /><br />As if it matters, here's the basic jist of the 'story'. A group of twenty-somethings are so desperate to go out to some island in the Pacific Northwest (Canada actually, because it's cheap) for the 'Rave of the Century' (which consists of about 8 people and un-raving music) that they pay some craggy old fisherman $1000 to take them there after they miss the main ferry. That's gotta be some rave to be worth all that dough! The fisherman warns them that the island is also known as the Island of the Dead (hang on-I thought this was HOUSE of the Dead?) and that they are all doomed yadda yadda yadda.<br /><br />First faults here. Why would a tiny little rave (of the Century my foot!) be held on some remote island? Why would anyone willingly pay loads of money to get it? Why pay even more to the craggy old fisherman to take them back when they could just come back with the others?<br /><br />Once they arrive they discover that the rave (which consists of about 2 tents, a small stage and a port-a-john) has been smashed, there's blood everywhere and no one is around. What would any rationally thinking person do? Run for their lives of course. But no, these clueless, obviously blind people decide to go look for them. Soon enough they discover an old ramshackle house that's 50 times as big on the inside as it is on the outside. Another half hour of stumbling around in the forest follows, as an excuse to kill of some of the lesser characters, and after much tedium they arrive back at the house again. The characters, like the movie, go nowhere.<br /><br />Jammed into this ghastly disaster is a superabundance of gibberish dialogue, heinous acting, mumbo-jumbo exposition and zillions of clips from the once-popular arcade game of the same name. Why this was universally accepted as a good idea with the filmmakers I'll never know. The clips have no reference to any of the scenes and only degrade this trash even further, if that is at all possible.<br /><br />It has nothing to do with the game save for some cheap, throwaway line at the end. It makes Resident Evil look like cinematic glory. Hell, even the Double Dragon movie seems multi-Oscar worthy in comparison to this junk. The only one who comes out of this with his dignity still intact is Jurgen Prochnow. He could have just taken his money and ran but he tries his best with the awful script and brings a tiny bit of pathos to his character. The rest of the cast suck I'm afraid. The characters are idiots and deserve to die.<br /><br />Plus, if you cut out the swearing and pointless nudity, I see no reason why this film cannot be shown on Saturday morning TV. It's not frightening in the slightest. Pirates of the Caribbean is more scary than the skeletal bad guys in this film. And where did all those bad guys come from anyway? There were only a few people on the island to begin with. I guess this justifies the reason they chose to reuse footage over and over. I kid you not, you'll see the same zombie die a dozen times.<br /><br />Who's ultimately to blame for that scandalous waste of celluloid? None other than director Uwe Boll. His control over the movie is non-existent. You can clearly the see actors have no idea what they should be doing and that the zombies aren't really taking it all seriously. The actors seem like they're reading off cue cards as they constantly pause in the middle of long sentences and carry on talking as soon as they see the next card. It all feels very unnatural.<br /><br />Plus the film is shot like a two-part mini-series. I have indeed seen better TV productions. And don't get me started on the editing. The film is an incoherent babble with thousands upon thousands of pointless shots and dozens of meaningless camera pans. No real skill or talent was put into making this at all. It truly baffles and boggles the mind how movies this unfathomably bad can get made and George A. Romero can't even get anyone to take his calls. House of the Dead makes some idiotic reference to Romero in a lazy attempt to be 'post-modern' but it only irritates that they think THIS is in the same league as a REAL zombie movie.<br /><br />For what it's worth, the 1.85:1 anamorphic picture looks great and the Dolby 5.1 soundtrack is clean but very unimpressive and only serves to pronounce the heavily over-used ADR even more. The DVD comes with extras but why torture yourself. Isn't this review warning enough? Stay away! You are all doomed I tell you! Doomed! Doomed!!!\n",
            "Less than 10 minutes into this film I wanted it to end as it was painful. All this \"horror\" movie was about was a group of whiny bitches doing stupid things for 90 minutes, arguing, crying and screaming. Do not let the positive reviews fool you as this really is a terrible movie and you really shouldn't watch it.<br /><br />The movies plot had potential to be something great, but it just doesn't happen. A group of five \"teenage\" girls are driving home one night when they find themselves being pursued by a crazed female driver who wants to kill them. Two minutes into the movie, and the characters are already arguing and this doesn't stop. All we have for 90 minutes is a bunch of girls whining, crying, screaming, \"acting\" and arguing. None of the dialogue is even remotely interesting too, so you don't get to really know these characters or enjoy them.<br /><br />The acting was terrible and I was shocked to find out that these characters were meant to be teenagers. None of these women looked a day under 20, and one of them easily looked like she was nearly 30 years old. At least get people who look the age. None of them gave even remotely decent performances, and just seemed like they were picked off the street or were friends of the director with no acting abilities. The \"actress\" who played the killer overdone it, but she at least showed something that the other girls didn't - a little bit of talent.<br /><br />The characters don't help things because these girls are a bunch of whiny, stupid bitches. That is all I can really say about them, and it did not help that they ALL survived. If I have to go into detail, in one scene the girls are being chased by the killer and having their car knocked a lot. One girl injures herself and is whining about it...four of them aren't wearing seat-belts...what do you expect? One of your friends is being brutally attacked by the killer...and you all just happen to be conveniently \"too hurt\" to help? Whatever.<br /><br />The filming of the movie is absolutely terrible. I don't care if this movie had a budget the size of a peanut, the filming was terrible and it was like watching a pirated version of a movie. The cameraman was clearly in the car with the girls, pushed up against a window somewhere and the amount of times the camera blurred out, shook and brushed up against an \"actress\" was horrendous. It was also grainy, and at times you couldn't hear what characters were saying (not that it was anything worth listening to).<br /><br />Supposedly the killers car in the movie (that supposedly got hit, even though we only heard the accident) is actually the directors car in real life. No wonder they didn't show the car getting hit! This movie is so cheap, they can't even show a car getting a little scratched up. Oh, gotta mention the soundtrack also...if that's what it was. It was horrid...sad one second, then hard rock the next. <br /><br />At the end of the day, Five Across The Eyes just feels like a terrible home-movie filmed in the middle of the road at night with a bunch of stupid girls screaming and arguing for 90 minutes. It doesn't help when the script is terrible, the scares/tension/suspense and (hardly even any gore to make up for it) are absent, the acting is terrible and the picture quality and filming are horrendous.<br /><br />This was a horrible low-budget movie. Avoid it at all costs.<br /><br />1/10\n",
            "This is crap....utter crap. I cannot believe any company could even get people to work on a film like this. Full Moon has a number of awful films, but this has got to be the worst. First off, the plot doesn't exist. It's odd. It's like, they took an idea for the story, and kind of never really got around to developing it. They seemed to have just wasted a lot of time filming outside shots while the two \"heroes\" drove around in the desert, and Bradbury talks nonsense for about 10 minutes. There were two scenes in the movie (when Dez and Dazzy are driving, and when Dez and Bradbury are driving) where it just went on and on and on...it was almost like 2 music videos in the place where there should have been some dialog or action. They just drove for about 5 minutes, with nothing but music and shots of the surrounding landscape.<br /><br />Next, we come to the acting, which is simply horrible. First off, the girl who plays Dazzy is just a beast. She is so scary looking, I wanted to look away when she was on screen! Horrible casting. Then, you have the guy who played Dez, who couldn't act if his life depended on it. His \"crying\" is actually funny, and his madman antics are even funnier. The guy who plays the desk clerk at the hotel is just as bad, as is the guy who plays Bradbury. There was no acting that deserves any recognition in this movie whatsoever.<br /><br />The makeup effects...hmmm, can anyone say pathetic? The \"effects\" were so fake, they were laughable. The crazy little robot looking catepillar thing grabs onto someone, they cut away, and when they come back, the guy has a completely fake looking flesh wound. Nice. Did they run out of money on the makeup budget or what?! I must say the druggie chick who is in the one girl's apartment...nice makeup there too. I think they were going for a drugged look, and I think she was supposed to have a black guy, but it looked more like cheap zombie makeup for halloween.<br /><br />This movie is just horrible from the start. The story is stupid and very, very unoriginal, the direction looks as tho it was performed by a 10 year old, the acting is the lowest of the low, and so on. STAY AWAY from this movie at all costs. It's only 70 minutes long in the first place, and atleast 20 minutes of that is taken up by either music and no dialog or the character sitting around in the hotel. Do not waste your time on this piece of garbage.\n",
            "Flight of Fury starts as General Tom Barnes (Angus MacInnes) organises an unofficial test flight of the X-77, a new stealth fighter jet with the ability to literally turn invisible. General Barnes gives his top pilot Colonel Ratcher (Steve Toussaint) the job & everything goes well until the X-77 disappears, even more literally than Barnes wanted as Ratcher flies it to Northern Afghanistan & delivers it to a terrorist group known as the Black Sunday lead by Peter Stone (Vincenzo Nicoli) who plans to use the X-77 to fly into US airspace undetected & drop some bombs which will kills lots of people. General Barnes is worried by the loss of his plane & sends in one man army John Sands (co-writer & executive producer Steven Seagal) to get it back & kill all the bad guy's in the process...<br /><br />This American, British & Romanian co-production was directed by Michael Keusch & was the third film in which he directed Seagal after the equally awful Shadow Man (2006) & Attack Force (2007), luckily someone decided the partnership wasn't working & an unsuspecting public have thankfully been spared any further collaboration's between the two. Apparently Flight of Fury is an almost scene-for-scene word-for-word remake of Black Thunder (1988) starring Michael Dudikoff with many of the same character's even sharing the same name so exactly the same dialogue could be used without the makers even having to change things like names although I must admit I have never seen Black Thunder & therefore cannot compare the two. Flight of Fury is a terrible film, the poorly made & written waste of time that Seagal specialises in these days. It's boring even though it's not that slow, the character's are poor, it's full of clichés, things happen at random, the plot is poor, the reasoning behind events are none existent & it's a very lazy production overall as it never once convinces the viewer that they are anywhere near Afghanistan or that proper military procedures are being followed. The action scenes are lame & there's no real excitement in it, the villains are boring as are the heroes & it's right down there with the worst Seagal has made.<br /><br />Flight of Fury seems to be made up largely of stock footage which isn't even matched up that well, the background can change, peoples clothes change, the area changes, the sky & the quality of film changes very abruptly as it's all too obvious we are watching clips from other (better) films spliced in. Hell, Seagal never even goes anywhere near a plane in this. The action scenes consist of shoot-outs so badly edited it's hard to tell who is who & of course Seagal breaking peoples arms. The whole production feels very cheap & shoddy.<br /><br />The IMDb reckons this had a budget of about $12,000,000 which I think is total rubbish, I mean if so where did all the money go? Although set in Afghanistan which is a war torn arid desert Flight of Fury looks like it was filmed down my local woods, it was actually shot in Romania & the Romanian countryside does not make a convincing Afghanistan. The acting is terrible as one would expect & Seagal looks dubbed again.<br /><br />Flight of Fury is a terrible action film that is boring, amateurish & is an almost scene-for-scene remake of another film anyway. Another really lazy & poorly produced action thriller from Seagal, why do I even bother any more?\n",
            "...though for a film that seems to be trying to market itself as a horror, there was a distinct lack of blood.<br /><br />There was also a distinct lack of skilled directing, acting, editing, and script-writing.<br /><br />Jeremy London put in one of most appalling performances I've ever seen - his \"descent into the maelström\" of madness is achingly self-aware and clumsy. Oh look at him twitch! Oh look at him drink strong spirits! Oh look at him raise his brow, and cock his head at a jaunty angle! Oh look at his unwashed, greasy dark hair! Oh listen to his affectedly husky voice! He must be a tortured artist/writer/genius! Oh, yes, out comes the poet-shirt - it's another boy who thinks he's Byron. (Or Poe.) Oh for the love of... did someone give this guy a manual on \"How To Act Good\" or did they just pull him out of a cardboard box somewhere, the defunct little plastic toy-prize in a discontinued brand of bargain-bin cereal. Okay, that was a stupid line - but that's only because London's performance has melted my brain with its awfulness.<br /><br />Katherine Heigl is cute, and very briar rose, but has yet to grow into her acting shoes in this film - she delivered her lines like she was being held up, in fact, her whole performance was very wooden, her poses as stiff as her lines - who knows, perhaps she was just reacting to, and trying to neutralise, Jeremy London's flailing excesses, but if that's the case, she takes it too far.<br /><br />Notable is Arie Verveen as Poe - while his character's role is confused, he delivers the best performance of the piece. He, quite simply, looks right, but it's more than that - he has some sort of depth, I believed that he had a life beyond the dismal two-dimensional quality of the rest of the characters. Huh, maybe it's just because I like Poe, and could thus just let my mind wander and invent while he was on screen - whatever, he had an interest factor otherwise missing.<br /><br />The rest of the characters are a faceless blur - there are all the usual caricatures: the perky blonde best-friend who's a bit of a floozy; the smitten local cop who's a bit of a dork; the protective older man who perhaps has too much un-fatherly interest in our heroine; the scheming old witch, etc., etc., yawn, yawn. <br /><br />As with the 'distinct lack of blood for a horror movie' issue, none of the themes that they mention (and that London's character mentions - so scathingly - in his attack on Poe's writing) are followed through on. As another reviewer said - there was potential here: murder, incest, - genuinely shocking stuff, but instead they skirt away from the issues, and cut away from the violence (a raised candlestick swinging through the air - closing in on it's victim - then---cut to black! This is fine in a Noirish traditional horror, indeed, it's expected, and is fondly received when it happens - it's a dear convention, especially when accompanied by fake lightning bolts and intense Siouxie eye makeup - but in 'Descendant' it just comes across as clumsy, or as though the editor got queasy at the last minute and cut it out.) This could have either been a very tense psychological thriller - the horror of palingenesis/delusion/madness - or a simple (and fun) slasher movie: it tries to be both, or neither (something new and exciting!), but either way it fails dismally. The only horror element of this entire movie is it's epic dullness.<br /><br />I think the editor (if there was one at all) must have been drunk when s/he chopped this thing up - there are awkwardly foreshortened scenes; scenes that appeared to be out of order (but that could have just been the poor script). LIkewise the director & cinematographer - there were some very strange shots and framing that I think were meant to be tributes to Hitchcock or Browning, but just ended up looking silly (again, fine in a noir, but this was trying to be something else.)<br /><br />The whole thing perhaps may have been funny (in that way that previous reviewers have mentioned - \"OMG how did this get made?!?\") if I had been in the mood for some trash- bagging, unfortunately for me I had settled on the couch, with the lights down low, with the express intention of scaring myself silly - this is a very poor film, and I'm afraid I can't recommend it to people, not even for laughs.<br /><br />Please, please, don't waste your time or money on this - either borrow a real horror/thriller film, or find yourself a copy of Poe's fantastical tales, either way, you'll have a far more enjoyable and frightening night than you could ever hope to achieve with this rubbish.\n",
            "I mean of all the obscure, overlooked, low budget horror movies waiting to be re-discovered in a DVD release, why pick THE FOREST? I love ultra low budget direct to home video or other alternative release horror. I love 80s hacker horror. I love backwoods slashers with fools wandering off into the night to be chased, murdered and eaten by psychopaths. I am all for the idea of non-professionals working on a horror movie as a way to maybe break into the industry or just making a movie because they want to make one. I am all for using found public locations, non-actors, no name talent behind the camera and in the studio. NO PROBLEM! The most evocative image from THE FOREST is it's opening shot of a couple walking in the distance across a forest into the woods: We see them as tiny, vulnerable creatures entering a dank gloomy world where humans may not be the top of the food chain or most feared predator. Then the film takes a dive & never recovers -- we briefly meet the backpacking couple just as they realize that they are being stalked. They get separated, both are butchered, and then we meet the movie's protagonists as they drive their car in a traffic jam. They meet up with their respective mates and decide to take a camping trip. Sounds of snoring fill the room as people who came over to watch a movie fiddle with their cell phones text messaging people not there telling them how much the movie sucks.<br /><br />This film is too slow, this movie is too boring, and this movie is too talky. Which wouldn't be such a bad thing if the writers had given the people something to say other than the most stupid, asinine and unnecessary things. You know your horror movie is in trouble when the character with the most interesting lines is the droopy-faced park ranger who warns everyone away from the Cannibal Woods. And speaking of these \"woods\" they look about as far away from civilization as the overgrown vacant lot behind the soccer fields, only with bigger rocks and a stream flowing through it. There are impressive shots of the forest primeval, but no real sense of being out in the middle of it. If any one of the characters just sat down on the trail and waited long enough someone would amble by.<br /><br />What is worse about the film is that it fails to generate any human interest: I don't know who these couples are and don't care what happens to them. The hermit cannibal slasher guy is uninteresting even when pretending to saw freshly cooked meat off the leg of one of his victims to serve grisly bites to her boyfriend, who just happens to seek shelter in his cave. The irony of which is the epitome of \"underwhelming\". Coupled with a deliberately ominous synthesizer music score, cinematography that suspiciously looks like someone strapped a camera on a dog and it follow people's movements, a lack of appreciable gore, nudity, lurid thrills and unwholesome atmosphere and what we have here is a horror movie that isn't even as frightening as a PBS educational TV show about how magnets work.<br /><br />I don't mean to \"dish it out\" to the people behind this film, since they obviously went into the project with next to nothing, did not push themselves to be creative and ended up with just another boring movie about some maggot chasing women through the woods with a knife. There is nothing wrong with that concept, what is wrong is the unimaginative and utterly pedestrian way this was executed, right down to the utterly pointless conclusion when the film simply peters out at about the 80 minute mark. The best thing that you can say about THE FOREST is that it is over relatively quickly and there isn't much to command a repeat screening -- Hence my confusion at why anyone would feel the need for a DVD release. It was fine as a Prism Video rental years oddity, as a DVD it will be $5.99 rack fare inside a month of hitting the shelves. There is little or no urgency to see the film, unless you are considering making your own ultra low budget backwoods hacker set in a public park where nobody can charge you money for filming there. Here is a guide of steps to avoid making.<br /><br />With all that said and done, the film did have one interesting sequence, or rather one sequence that was so pathetic and ineptly thought out that it becomes an enigma in an otherwise cut & dried film: The madman comes home to find his wife in bed with the local contractor. He dispatches his beloved, arms himself with a kitchen knife that looks like it was made just to be used in a horror film and takes off after the interloper. The guy corners and attacks his quarry, who sidesteps & runs away, only to have the psycho materialize in his footsteps with a bigger, badder weapon. The psycho attacks again, and the guy gets away. The psycho materializes AGAIN, and once more the guy gets away. Then AGAIN! Finally on the fifth try the psycho trips the dude so to fall on some sort of a bladed contraption. How did he keep materializing armed with bigger badder weapons like that? Is there some supernatural element to this psycho? Since the film never makes it clear either way the scene is just an enigma, staged to build some tension. It's purpose remains unclear. The whole film is like that really, existing without any need to be made and executed in such a ham-fisted, uninteresting manner that one cannot help but wonder what the point of it was.<br /><br />3/10, and ample evidence that just because you can release a movie on DVD that doesn't mean you necessarily should.\n",
            "How they got Al Pacino to play in this movie is beyond me. This movie is absolutely terrible. I discovered, after reading some of the other reviews, that a couple of people actually enjoyed this film, which deeply puzzles me, because I do not see how anyone in their right mind could possibly enjoy a movie as awful as Revolution. It's not just that it's a bad movie, with a lame plot and overall strangeness that is extremely unpleasant, but it seems as if the filmmakers were either mentally retarded (which is a very possible explanation as to why this movie sucks like it does, though it probably still sucks even compared to other films made by retards) or deliberately made every illogical decision to make this movie suck as much as possible. For example, we see Donald Sutherland running around with a huge, fat ugly mole on his face. He does not normally have a mole. The mole does not add to his character. It is extremely ugly and distracting. It's not like Robert De Niro's mole; it's much worse. Why the hell has he got that mole? It's as if the filmmakers just said, \"Let's see, how could we make this movie even worse than it already is? I know, let's give Mr. Sutherland a giant, ugly-ass mole right on his face.\"<br /><br />Another example of the filmmakers' stupidity is the character Ned. We see, for the first three-quarters of the movie, young Ned. At one point, \"six months later\" appears on the screen. We see Ned again, and it is, of course, the same actor playing the boy. Five minutes later, \"three weeks later\" appears on the screen, and all of a sudden we've got a different actor playing as the now older Ned. What, do they think we're idiots? Good God! Again, it's like the filmmakers are saying, \"How can we possibly make it any worse? I don't think we can...Oh wait! I just had a terrible idea!\" I know a kid doesn't grow much in half a year, which is fine, but he at least grows more than he does in three weeks. Just don't get another actor to play Ned, or at least get him to play the five minutes when he's three weeks younger. Furthermore, the kid who plays the \"older\" Ned does not look any older than \"young\" Ned. As a matter of fact, he just looks completely different, much skinnier, and no taller or older than the original actor, which is very confusing, as I, like any rational human being, thought at first that it was a new and different character.<br /><br />What, did the first kid die while they were filming the movie? Because he was in it for the first hour and a half, and then all of a sudden, three weeks later, the guy from Lock Stock and Two Smoking Barrels is playing Ned for the last five minutes of the movie. And even if the original actor did die, the filmmakers should have at least gotten an actor who looks like him to play the remainder of his role, and re-shoot the measly five minutes of \"six months later\" scenes. Better yet, just scrap the movie completely, never finish it and never release, never even tell anybody about it, because by that point they should have realized that their movie sucks and in finishing it they would only waste more money and time and succeed in making one of the worst movies of all time.<br /><br />I'm not saying that this movie is so bad you shouldn't watch it; it's so bad that you SHOULD watch it, just to see how badly it sucks. It's terrible, terrible.\n",
            "Worst film ever, this is a statement that people here on IMDb often throw around. Whether it's an Uwe Boll movie, bad classics like Manos The Hands Of Fate or the latest no brains summer action fest from Michael Bay, people are often quick to jump to the sudden conclusion that on the board they're posting that there is nothing worse in the movie world.<br /><br />I envy these people, because they're blissfully ignorant and unaware of how deep the rabbit hole of crap movie making really goes. There are films out there so bad, so hideous, so unintentionally hilarious and so ridiculous that cults form around them to celebrate their awfulness and their discussion boards are the kindest places on the internet due to everyone agreeing unanimously that said film is really that bad.<br /><br />Ladies and Gentlemen, i present to you Ben and Arthur, an 85 minute gay epic that is so utterly bad that it's a lot like a violent car crash, you know it's awful but you can't stop looking at it. The brainchild of self proclaimed \"hollywood actor, director\" and may i add beached whale Sam Mraovich, this film is legendarily terrible. Let me give you a hint of how ego driven this project was. Mr Mraovich not only directed this film, he wrote it, produced it, executive produced it, scored it, edited it and then finally starred in it. This is a man so blinded by his own ego and so believing of his non existent genius that like someone with an ugly child he fails to recognise just how catastrophic his bastard creation really is.<br /><br />Everything in this film fails on an epic level, the acting is the worst you will ever witness, the plot is the most ridiculous, the editing and cinematography is the most amateur and even the music is like nails on a chalkboard. I'm aware i've gone on a bit of a tangent here, but please believe me that this film is really as bad as i describe it, i would say this film is horse crap squished into a film reel, but the truth is it wasn't even shot on film, it was shot on a digital camcorder not much better than the one sitting in your closet right now gathering dust. Don't get me wrong, i forgive low budgets for films provided the concept is interesting, for example as much as i disliked it The Blair Witch Project proved that low budgets can still lead to an atmospheric interesting film. Ben and Arthur does not have a good concept to fall back on, even if this film was shot on a budget of 20 million with Hollywoods finest actors it would still suck, the plot is that atrocious, and the characters are even worse. One of the main characters Arthur who is portrayed by non other than Sam Mraovich is one of the most whiny loathsome little turds ever put in a film. You'll dislike him within 5 minutes of the start of the film and by the end of the film that hate will have turned into outright loathing. Apparently Mr Mraovich forgot that we're supposed to root for the hero.<br /><br />I don't want to spoil all the gut busting hilarity you'll experience watching this film (which i urge you not to pay for) so i will give you two tame mild examples of how stupid this film is, tame and mild as in amongst the least offending mistakes in the movie. In one cut we hear one of the main characters say how \"they know a good lawyer and will give HIM a call\" the shot fades out then fades back in and this HIM they spoke of earlier is actually a woman, quite a spectacular mistake to make in post production i think. The second is simple, seconds after seeing this transsexual lawyer the characters are told to fly to Vermont, we then cut to a shot of a plane landing amongst palm trees in a sunny area. I've never been to Vermont personally but i'm certain you won't find any palm trees there.<br /><br />Imagine this kind of stupid amateur inconsistency stretched to nearly an hour and a half combined with ridiculous dialogue and plot and then multiply it by 10 and it still won't fully prepare you for Ben and Arthur. Imagine the absolute worst film you've seen in your life and imagine it being even worse and you still won't be on the same level as Ben and Arthur, this film is really that bad.<br /><br />However we should be glad in a way, films like this are a true rarity. They give us hope that one day we can become film makers ourselves or that we can be screenwriters. Simply because we'll have a new found sense of confidence due to the fact that we'll know that nothing we produce no matter how amateur could be as much of a suck fest as this.<br /><br />The real worst movie of all time has finally been discovered, and it is called Ben and Arthur.\n",
            "When the film began, I was shocked to see it was filmed using a cheap video camera! In fact, the camera shakes and looks worse than the average home movie. Even direct to DVD films should have production values better than this! Heck, a large percentage of the home videos uploaded to YouTube have better production values! All too often, the film seriously appears to be made by sticking the camera on a tripod and turning it on--with no camera person! Closeups and anything resembling camera-work are absent in some scenes where they might have worked and in others there are too many or poorly framed closeups. Yecch! <br /><br />The film is about two gay men who want to become married. As if was made almost a decade ago, their only option was marrying in Vermont--times have definitely changed. However, the recent acceptance of gay marriage cannot in any way be attributed to this film--if anything, it set the gay marriage supporters back instead of helping as the movie stinks and never really tries to seriously address the issue. According to the film, religious people are one-dimensional idiots who carry Bibles EVERYWHERE and shoot people as well as wives who have gay husbands are narrow-minded when they learn their spouses have been living a lie--go figure. I'm sure glad it gives an honest chance to both sides on the issue! <br /><br />The bottom line--nothing about the film shows any professionalism at all and I even hesitate to call this a film. It's more like a home movie and doesn't even merit a listing on IMDb or even inclusion on IMDb's Bottom 100 list of the worst rated films of all time. The acting is horrible, the writing is horrible, the direction (if there even is any) is horrible, the camera-work is horrible and the plot is horrible. It's a home movie!! There is nothing positive I can say about this in any way except that it makes the films of Ed Wood seem like Oscar contenders in comparison and I am sure the ghost of Mr. Wood is smiling every time someone watches this mess! <br /><br />I don't care if you are gay or straight--this film is not worth your time and I don't know how they managed to create DVDs of it. I assume one of the actors burns them on his home computer during his free time! Seriously, this gives new meaning to the word 'bad'!<br /><br />By the way, if the one lady in the film WAS a real lawyer, wouldn't the ability to read be an important prerequisite?! I'm just sayin'.<br /><br />Finally, with gay marriage being such a serious and important topic, can't we have a film that's BETTER than THIS that addresses the issue?! This one, sadly, only invites laughter.\n",
            "This should be my kind of movie. Even if it sucked, it still should have been right up my alley; hell, I like \"Congo,\" and \"Allan Quatermaine\" movies. I have a soft spot in my heart for silly alien/demon/adventure movies. Let's go over why I decided to watch this in the first place.<br /><br />1. Horror/Sci-fi almost always intrigues me 2. I'm a big fan of archaeology, and this movie does involve a rare treasure. 3. Super-natural enemies with quality FX. 4. Christian Slater and Dorf I generally enjoy. 5. Tara Reid is hot.<br /><br />So this movie had potential, at least in the cheese-horror section of the video store, but boy did it suck ass. The only redeeming aspects are Slater and Dorf, and not everyone finds them as entertaining as I do...I mean, let's face it, both are melodramatic. But now on to some of the many faults.<br /><br />Tara Reid. Even though the movie as a whole is worse, Reid's performance is truly awful. We're not just talking bad, I'm talking about nominating Tara Reid for worst performance of the year. I don't know if she is capable of acting, but playing the museum curator is simply out of her league...completely. Watching her try to carry the roll of educated scientist wasn't much different than what you get watching the setup in bad porn. I mean this isn't just bad, it is laughably bad. Oh, and for those of you curious, she doesn't get naked, only down to a bra in a silly, totally unnecessary love scene.<br /><br />Even with Reid's performance, perhaps the movie could have worked, but the plot is what dominates, and the plot seems written by a 10 year old. I hadn't realized this was a video game adaptation until AFTER watching the DVD, otherwise I would have appreciated the stupidity in real-time. <br /><br />The storyline jumps back and forth from Slater's childhood at an orphanage where he gets flashbacks of something terrible that happened, he has amnesia, of course. In his adult life Slater was recruited by some Unit 713, a paranormal military force that apparently hunts evil or something. Slater had to leave because he was too rebellious, I guess, you never really know unless it was in one of those voice-overs I zoned out during. The movie starts with Slater hunting artifacts, obtaining his latest piece after some dealings with a \"Chilean mercenary force specializing in selling rare antiquities.\" I may have the exact quote wrong, but you get the idea.<br /><br />There is an evil doctor that wants to unleash some hellions on earth (no reason given), experiments on children, super demon/alien-human hybrids, \"photonic\" bullets (the demon things can't stand sunlight) and, of course, Slater and Dorf to try to save everyone.<br /><br />Jesus, I can't even being to wade through the clichéd elements. The script badly needed reworking to narrow the focus and provide SOME depth. I mean, why is this evil scientist so damn evil? Oh right, humans are doomed and he is just trying to save the human race. I guess he's infected? How did that happen? Oh right he has one of the evil demon things in a cage and draws its blood to shoot into himself. How the hell did that happen? Why and where did he get the super slugs (oh yes, they use the old sci-fi stand by of parasitic aliens/demons which \"fuse\" with the spine of their host)Of course, Slater is, like Blade, half super-slug powered, but his slug \"didn't fully fuse due to an electrical shock,\" thank god. Oh, and the people with these \"fused\" spines, have no idea they're half-alien/demon and act as good members of the community until some secret signal is given whence they turn killer zombies. Yeah we get zombies.<br /><br />So lots of crap that could be entertaining, but none of it is.<br /><br />Also, the ending is completely stupid as everything turns out to be not that big of a deal to fix in the first place...at least nothing a little dynamite can't handle.<br /><br />Not the very worst thing you'll see, but a truly bad movie.\n"
          ],
          "name": "stdout"
        }
      ]
    },
    {
      "cell_type": "code",
      "metadata": {
        "id": "U6mxpfeRQsn7",
        "colab_type": "code",
        "colab": {}
      },
      "source": [
        "probabilities_LR = clf_LR.predict_proba(X_test)[:,1]\n",
        "most_pos = probabilities_LR.argsort()[-15:]\n",
        "pos_reviews = []\n",
        "for rev in most_pos:\n",
        "  is_not_repeat = True\n",
        "  for pos in pos_reviews:\n",
        "    if (pos-rev).any():\n",
        "      is_not_repeat = False\n",
        "      break\n",
        "  if is_not_repeat:\n",
        "    pos_reviews.append(rev)\n",
        "def find_text(index: int):\n",
        "  for i, text in enumerate(test_data_short.Text):\n",
        "    if i == index:\n",
        "      return text\n",
        "  return None"
      ],
      "execution_count": 0,
      "outputs": []
    },
    {
      "cell_type": "code",
      "metadata": {
        "id": "q-9AoQN6Q3cw",
        "colab_type": "code",
        "colab": {
          "base_uri": "https://localhost:8080/",
          "height": 292
        },
        "outputId": "e14b5552-1633-4806-a9f4-f3f1effbb6d2"
      },
      "source": [
        "for rev in most_pos: #позитивные\n",
        "  print(find_text(rev))"
      ],
      "execution_count": 47,
      "outputs": [
        {
          "output_type": "stream",
          "text": [
            "{Possible spoilers coming up... you've been forewarned.}<br /><br />This is absolutely one of my all time favorite musicals and movie musicals! (The other is Damn Yankees with Gwen Verdon, Tab Hunter and Ray Walston) As we all know, sometimes the luster (not to mention the songs) of a show are lost in its transition from stage to screen. This is, for the most part, DEFINITELY not the case here.<br /><br />The sets are divine, bright and colorful, the characters are bigger than life and you can't help but love them, and Michael Kidd's choreography is absolutely stunning. (So glad to know they used the original Broadway choreographer)<br /><br />All of the actors \"bounce the ball\" (that is, have unbeatable chemistry) to perfection in this film. Frank and Marlon are absolutely believable as the proprietor of the oldest established permanent floating crap game in New York, and the most notorious gambler who bets on even the most minute things-- such as his fever going up to 104 if he doesn't take penicillin. Sweet, fresh faced Jean Simmons is perfect for the role of Sarah (although it is true, her singing pipes are not as outstanding as that of Isabel Bigley or Josie de Guzman)-- the mission doll with a heart of gold and a drive to heal all. And last but certainly not least (on my list anyway) is Miss Vivian Blaine, reprising her Broadway role as Miss Adelaide-- the Hot Box lead singer and dancer who would like to finally end her 14 year engagement to Nathan with marriage, and rid herself of the psychosomatic cold he's given her.<br /><br />First off, kudos to Stubby Kaye and B.S. Pulley as they reprise their Broadway roles as Nicely-Nicely Johnson and Benny Southstreet. There were never two more loveable gamblers than these guys.<br /><br />Brando is superb, as usual, and though he's not got the voice of Robert Alda or Peter Gallagher, you forget it-- as he has this sense of determination to bring all he can to his role as Sky Masterson. \"Luck Be A Lady\" gives me chills every time I see him perform the number. Especially enjoyable is hearing him say \"Daddy... I got cider in my ear.\"<br /><br />Simmons is charming and pleasant in a role well suited to her looks, voice and the way she carries herself. You long so dearly for her not only to win Sky (or, toward the end, believe him), but to help people overcome their gambling, drinking and other sins, and live a life with God. Her rendition of \"If I Were A Bell\" is splendid, to say the least!<br /><br />Sinatra is the man. He is so perfect for the role of Nathan Detroit-- and here he sings parts that Sam Levene from the Broadway cast never could (terrific actor, but the chap was tone deaf... go figure). I really enjoyed the addition of the song \"Adelaide\"... wish some guy would sing like that to ME. Frankie's cool, slick demeanor transcends the boundaries of this movie. But most importantly, you want him to marry Adelaide.<br /><br />And speaking of Adelaide, Vivian Blaine is just sheer perfection in this role. From the accent to her belting out \"Adelaide's Lament\", she's just terrific. And she's also my favorite part of the entire movie. She really makes you feel for Adelaide... especially when she cries right before and then again during \"Sue Me\". I still haven't decided whether I like \"Pet Me Poppa\" better than \"Bushel and a Peck\"... maybe I like them equally. Either way, she does fantastic with those as well as \"Take Back Your Mink.\" (I'm sad that they left out \"hollanderize\" from the film...) She's absolutely MARVELOUS, not to mention hilarious, and my favorite part of the entire film.<br /><br />One of the best things about this movie is their lingo. It's a mixture of high class and street slang. Never do they use \"It's\", \"I'll\" or \"That's.\" It's always \"It is\", \"I will\" and \"That is.\" Overall, Guys & Dolls is one of my favorite all time movies and musicals, and it's one that you should take time to watch every time it comes on. My only complaint? No \"Marry The Man Today.\" Now THAT'S a good song.\n",
            "This is a superbly imaginative low budget Sci-fi movie from cult director Vincenzo Natali. The film plays out like a crossing of Phillip K Dick with Hitchcock and Cronenberg and the film takes on a unique feel like nothing you would have seen. The film is superbly shot, I love the cinematography in this, it feels fresh and original. Plot-wise the film explores similar themes to films like Total Recall, Dark City and the Matrix and its pretty staple Sci-fi stuff. Morgan Sullivan (Jeremy Northam) is a suburbanite who is bored with his life and has decided to take a job as a company spy for Digicorp, a large technological corporation. He meets up with a recruitment officer at the beginning who brings Sullivan on board and instructs him on what he has to do. It basically involves going to conferences of rival companies and recording them via a satellite transmission device disguised as a pen. It also means that he must take on a different persona and keep it a secret from his wife. After his first job things become strange, his habits change, his personality begins to differ and he suffers pains in his neck and headaches as well as nightmares. He encounters a beautiful woman named Rita Foster (played by an intriguingly cast Lucy Liu.) he takes an instant attraction to. However when he goes in his next job and sees her again she reveals herself to be an agent of some sort who reveals that his job is not quite what it seems. He finds out later on that he and the rest of the people attending the conference all work for Digicorp. The conferences are all covers to allow the company men to brainwash their spies. Sullivan, whose alternate name is Jack Thursby has been given an antidote to Digicorps drugging and while the rest of the spies at the latest conference drift off into what seems like a brain-dead day dream while the speakers drone on (the speakers send all the attendants to sleep via subliminal messages.) suddenly the rooms lights turn off and workers at Digicorp come in shining lights in all the occupants eyes to ensure they are not conscious and then in a fairly nightmarish situation they bring in head sets for each member which send messages into the brain and brainwash the precipitants into believing they are someone else. Digicorp are using these people as puppets and creating personalities and lives for these people while wiping their own existence. Sullivan now must pretend that he entirely believes he is now Jack Thursby. Digicorp want to steal information from their rivals Samways and they want their own puppets to do it, they now effectively control what these spies do, except for Sullivan. When Samways get a hold of Sullivan and discover he has not actually been brainwashed they decide to use him as a pawn to spy on Digicorp, make Sullivan a double agent. They know that Digicorp have sent Thursby to them to work his way into Samways and work his way up the system until he can get into a situation to download important company information that could shut the company down. Samways realises he had been planted and decide they will play along with Digicorp and allow Thursby to infiltrate their databanks but they will give Digicorp a dodgy disc that will ruin their system. The plot begins to twist and turn as both companies are using Sullivan as a pawn. He is stuck in the middle and Rita Foster is a mystery as he tries to work out why she is helping him. When a mysterious third party becomes involved, the person it is revealed that Foster works for, Sullivan must decide whether to go to this freelance agent, who could guarantee him a new life and safety or to stick with one of the companies he works for. The tension all builds to a stonking climax as it seems just about everyone wants to dispose of him once his usefulness has expires. The cast are great. Northam is superb and the subtlety in his performance is excellent. He brings a great visual aspect to his performance, his eyes tell a story and we see a great subtle change as his character changes from Sullivan to Thursby. Lucy Liu is just sexy beyond belief and her presence gives a great dynamic to the film because it seems strange casting but works because of that fact. The rest of the cast are also good.<br /><br />Director Natali whose previous film was the cult classic sci-fi flick Cube, has a real visual flair. He paces the film superbly as well and has given it a great look. For a low budget film it features some imaginative visual effects and although the CGI isn't great it never begins too much of a centre piece to effect the film negatively. The film really does bring feelings of The Matrix and other great sci-fi films, it is up there with them. The plot nearly becomes too convoluted at times but in truth that helps in a film like this, that is where the Cronenberg and Lynch influence is evident. The film has you constantly working out what is going on and genuinely surprises as it goes along. This is overall an obvious cult classic and I can see this being incredibly popular when it is released in the states. ****1/2<br /><br />\n",
            "Obsession comes in many flavors, and exists for a variety of reasons; for some it may be nothing more than a compulsive disorder, but for others it may be an avenue of survival. Lack of nurturing, combined with an inability to negotiate even the simplest necessities of daily life or the basic social requirements, may compel even a genius to enthusiastically embrace that which provides a personal comfort zone. And in extreme cases, the object of that satisfaction may become a manifested obsession, driving that individual on until what began as a means of survival becomes the very impetus of his undoing, and as we discover in `The Luzhin Defence,' directed by Marleen Gorris, a high level of intelligence will not insure a satisfactory resolution to the problem, and in fact, may actually exacerbate the situation. Obsession, it seems, has no prejudice or preference; moreover, it gives no quarter.<br /><br />\tAt an Italian resort in the 1920's, Alexander Luzhin (John Turturro) is one of many who have gathered there for a chess tournament, the winner of which will be the World Champion. Luzhin is a Master of the game, but he is vulnerable in that chess has long since ceased to be a game to him; rather, it is his obsession, that one thing discovered in childhood that saw him though his total ineptness in seemingly all areas of life, and enabled him to cope with the subtle disenfranchisements of his immediate family. So Luzhin is a genius with an Achilles heel, a flaw which perhaps only one other person knows about and understands, and furthermore realizes can be exploited for his own personal gain at this very tournament. That man is Valentinov (Stuart Wilson), Luzhin's former mentor, who after an absence of some years has suddenly reappeared and made himself known to Luzhin.<br /><br />\tValentinov is an unwelcomed, disconcerting presence to Luzhin, and once again life threatens to overwhelm him. Not only is he about to face a formidable opponent in the tournament, Turati (Fabio Sartor), against whom in a previous match he emerged with a draw after fourteen hours, but he is also attempting to resolve a new element in his life-- his feelings for a young woman he's just met at the resort, Natalia (Emily Watson). And, genius though he may be, dark clouds are gathering above him that just may push Luzhin even deeper into the obsession that has been the saving grace, as well the curse, of his entire life.<br /><br />\tTo tell Luzhin's story, Gorris effectively uses flashbacks to gradually reveal the elements of his childhood that very quickly led to his obsession with chess. And as his background is established, it affords the insights that allow the audience to more fully understand who Luzhin is and how he got to this point in his life. For the scenes of his childhood, Gorris textures them with an appropriately dark atmosphere and a subtle sense of foreboding that carries on into, and underlies, the present, more pastoral setting of the resort. The transitions through which she weaves the past together with the present are nicely handled, and with the pace Gorris sets it makes for a riveting, yet unrushed presentation that works extremely well. She also underplays the menace produced by the presence of Valentinov, concentrating on the drama rather than the suspense, which ultimately serves to heighten the overall impact of the film, making Luzhin's tragedy all the more believable and unsettling.<br /><br />\tThe single element that makes this film so memorable, however, is the affecting performance of John Turturro. For this film to work, Luzhin must be absolutely believable; one false or feigned moment would be disastrous, as it would take the viewer out of the story immediately. It doesn't happen, however, and the film does work, because the Luzhin Turturro creates is impeccably honest and true-to-life. He captures Luzhin's genius, as well as his inadequacies, and presents his character in terms that are exceptionally telling and very real. It's a performance equal to, if not surpassing, Geoffrey Rush's portrayal of David Helfgott in `Shine.' And when you compare his work here with other characters he's created, from Sid Lidz in `Unstrung Heroes' to Pete in `O Brother Where Art Thou?' to Al Fountain in `Box of Moonlight,' you realize what an incredible range Turturro has as an actor, and what a remarkable artist he truly is.<br /><br />\tAs Natalia, Emily Watson is excellent, as well, turning in a fairly reserved performance through which she develops and presents her character quite nicely. Though she has to be somewhat outgoing to relate to Luzhin, Watson manages to do it in an introspective way that is entirely effective. Most importantly, because of the detail she brings to her performance, it makes her accelerated relationship with Luzhin believable and lends total credibility to the story. You have but to look into Watson's eyes to know that the feelings she's conveying are real. It's a terrific bit of work from a talented and gifted actor.<br /><br />\tThe supporting cast includes Geraldine James (Vera), Christopher Thompson (Stassard), Peter Blythe (Ilya), Orla Brady (Anna), Mark Tandy (Luzhin's Father), Kelly Hunter (Luzhin's Mother), Alexander Hunting (Young Luzhin) and Luigi Petrucci (Santucci). Well crafted and delivered, `The Luzhin Defence' is an emotionally involving film, presented with a restrained compassion that evokes a sense of sorrow and perhaps a reflection upon man's inhumanity to man. We don't need a movie, of course, to tell us that there is cruelty in the world; but we are well served by the medium of the cinema when it reminds us of something we should never forget, inasmuch as we all have the ability to effect positive change, and to make a difference in the lives of those around us. I rate this one 9/10. <br /><br /> <br /><br /> <br /><br />\n",
            "What a wonderful, fanciful movie \"Stardust\" is.<br /><br />I could easily end it with that one statement and suffice to say, one could take it as a very strong recommendation to go see it.<br /><br />At a time when Hollywood seems bent on forcing remakes and sequels down our throats, \"Stardust\" makes us remember why we go to the movies in the first place - to escape reality for a couple of hours and explore other lives, other times, or other planets. Ironically, \"Stardust\" takes us to all three places effortlessly and with a childlike glee we all long for.<br /><br />\"Stardust\" is full of all the characters we remember as children: princes, witches, pirates, ghosts and scoundrels. It has the damsel in distress, the hero, the rogues, the obstacles, spells, antidotes, charms, and even a touch of light-speed to make it quasi modern.<br /><br />\"Stardust\" is about a man from the town of Wall, which is conveniently situated next to a wall that separates their town from a magical kingdom. The only way past the wall is through a breech that is diligently guarded by a scruffy old codger (played wonderfully by David Kelly). One day a young man from Wall named Ben Barnes out maneuvers the old guard and escapes through the breech. He happens upon an enchanted kingdom called Stormhold where he meets a chained (and very sexy) young lady named Una. She is held captive by a witch and leashed by an unbreakable chain. While the witch is away, Una seduces Ben and sends him on his way. Ben returns to Wall without incident and continues his life. But nine months later he is summoned to the wall breech where the old guard hands him what you might expect - a baby boy.<br /><br />The boy, named Tristan grows up to be a rather hapless young man (Charlie Cox) who is smitten with a girl way out of his league and also betrothed to another. Nevertheless, the young lady (named Victoria and played Sienna Miller) goes out once with Tristain and he confesses his love to her. After they espy a falling star, she tells him he can have her if he retrieves the star and brings it back to her. He agrees and sets out on his quest, which will take him to the other side of the wall.<br /><br />Meanwhile in the kingdom of Stormhold, the old king (perfectly played by Peter O'Toole) is dying. He calls his remaining living sons to tell them who shall succeed him to the throne. His sons' names are Primus, Secondus, Sextmus, and Septimus. The other sons where killed by the other brothers in a humorous competition to see who lives to get the throne.<br /><br />Anyway, he tosses his ruby charm to the sky and Voila, that what brings the star to earth.<br /><br />The star crashes in the form of a beautiful woman named Yvaine (Clare Danes) and she, of course, is wearing the charm. But little does she know she is now being persuaded by Tristain, the Princes, and also an aging witch named Lamia (Michelle Pfeiffer) who wants to cut out the stars heart to regain her own youth.<br /><br />Complicated? Yes. But it all comes together as the adventure unfolds.<br /><br />Tristain is the first to find Yvaine but is so blinded by his devotion to Victoria he doesn't recognize the growing bond between he and Yvaine. His initial interest lie only in returning Yvaine to Victoria as proof of his love. But he must get past the princes and Lamia first. The princes aren't that big an issue as they are constantly trying to kill each other - and just as in \"Pirates of the Caribbean\" - never has death been so funny. <br /><br />But Tristain also encounters the witch who enslaved his mother (though he doesn't know it's his mother) and a band of flying pirates led by Robert DeNiro.<br /><br />His is the most important character in the movie and DeNiro plays it to a tee. He steals the movie with his toughness and soon we learn an undercover secret that will leave audiences on the floor with laughter. Though his role is small in length, DeNiro is extraordinary!<br /><br />Michelle Pfeiffer is wonderful as Lamia - a sexy evil witch. Claire Danes is most appropriate as the confused and distressed Yvaine. She makes a perfect damsel. Jason Flemyng, Adam Buston, Rupert Everett, and Mark Strong add the perfect dose of levity as the fighting princes whom, as they die return as ghosts ala \"Blithe Spirit\" and \"High Spirits\".<br /><br />Moreover director Matthew Vaughn, whose only other directing experience was \"Layer Cake\", weaves an enchanting tale that everyone will enjoy.<br /><br />\"Stardust\" may be too complex for young children, but anyone over the age of 13 will want to see this movie multiple times. It's that good. \"Stardust\" is what movies are supposed to be. Perfectly written, perfectly cast, perfectly directed, and perfectly acted. In other words...perfect.\n",
            "Back in 2004 I saw \"True\", Tom Tykwer's contribution to Paris Je T'aime. When I saw it I loved it and became thrilled. It became my favorite short film and made me appreciate the format so much. Of course I wanted to watch the whole film, and I would even check who was attached, etc.<br /><br />Yesterday I finally saw it, courtesy of the internet.<br /><br />First of all I must say that it looks AWESOME. The photography is BEAUTIFUL in every short and shot, at the worst being nothing special - but still brilliant and clear. Later I read the trivia here, and maybe it's how scanning in 6K gives more justice to all the DP's work. My special favorites are the \"Quais de Seine\" first scene (that sunlight!), the Sin City-esquire (but better for me) \"Quartier de la Madeleine\", and \"14th Arrondisement\" - but you know, what the hell I like them all: \"True\" or \"Faubourg Saint-Denis\" still makes me nervous with those brilliant colours (my eyes, they tremble!) and \"Quartier Latin\" is gold imprisoned on silver. Beautiful.<br /><br />Yes, these are some BEAUTIFUL short films.<br /><br />Now let's get onto the content. I very much (and I mean VERY MUCH) like the eclecticism that is so successfully felt. You never have have the same themes or treatment between two shorts, and I think the formula is restrictive enough to let all these artists explore beautiful and deepening things inside the shorts. I loved coming from a simple love story into a crazy-Chinese-musical-in-Paris-with-Barbet-Schroeder into a social commentary into a terror comedy into a humble monologue. I love surprises! And this film has them! It's great they took a chance to let all these director's flesh out things that are not usual in mainstream cinema (which I have come to heavily despise). It's not heavily experimental, but I can breath the breathing space these people had.<br /><br />I like the small time and I love the acting. I love the simplicity and I love the love. I like the simple feelings and the beauty and the eclecticism and in general it's a film that is very very very nice to see, alone or with someone. To simply feel. It left me feeling very good.<br /><br />There is something about the earnestness in it... it's so frank...<br /><br />What I didn't like? Well, for me there are two shorts that aren't exactly the best - \"Quais de Seine\" (which is good natured, sure, and maybe even necessary, but feels too much like a commercial?) and \"Père-Lachaise\" that even though I love the acting, I felt it's themes were forced. But that of course, is just me. \"Tour Eiffel\" I also didn't love but I think is probably because of my very different sensibility from that of Sylvain Chomet? I don't know if this film has a special interest for people who already know the actor's and directors, and so they can delight in their interaction, in the surprises (look out for Alexander Payne in a funny role) and basically in \"what will this director do with this?\" great question. I enjoyed it very much in that way.<br /><br />I repeat now: Most shorts I loved and all of them together form a beautiful and energetic mix. I definitely recommend it. Definitely!!! So, watch it if you like Eclectic Beautiful Love!\n",
            "Only once in a while do we get an R-rated comedy that gets everyone's time and attention. It's an even rarer case when the critics will like it. I just came back from The 40 Year-Old Virgin and I can honestly say, it was one of the biggest laughs of my life. I went to a 10:35 showing and every row was filled. Not only that, everyone laughed their ass off the whole time through. It's two hours of non-stop laughing. I dare you to see this film and to not laugh.<br /><br />The plot is simple. A man is forty years old and he is a virgin. Yet, behind this simple, five second joke, we are given a deep, complex story that is not only one of the funniest you'll ever witness, but has genuine lessons behind it. Steve Carell stars as Andy Stitzer, The 40 Year-Old Virgin. We have known Steve Carell, as, in my opinion, one of the best scene thieves of all time. Stealing hilarious scenes from Bruce Almighty and especially Anchorman, Steve Carell has come a long way, as finally, and proudly, is given his moment to shine as the star. No one will forget his name once they witness this pervasively funny, gut-busting, roll-in-the-aisle hilarious comedy.<br /><br />The beauty about the film is it isn't 100% stupid. The brilliant writing of Judd Apatow and Steve Carell genuinely has purpose and it's not just one hell of a story to tell. Behind the crudeness and vulgar non-stop ride of the film comes an important lesson to be learned. Although not presented in the best way possible, the film gives us more than a purely enjoyable time. Its gut-busting attitude will have you laughing the whole time through, while we simultaneously see the real life struggles of people like Andy and his fellow co-workers. The end couldn't have been better. Not only does it deliver what we are promised but it gives one of the most memorable finishing numbers a comedy has ever seen. It would have been perfect if there was Vince Vaughn and Owen Wilson in there cameoing somehow, but you can't win 'em all, now can you.<br /><br />Finally, I think as Roger Ebert put it, Catherine Keener gives an unexplainable perfect performance as Trish, the one woman Andy has his heart truly for. Not only does she also give us laughs but it is crazy to see how brightly she fuels the story. She was cast perfected in the role and her and Carell have terrific, not to mention, hilarious chemistry on screen.<br /><br />Canadian ratings-wise, once again, Ontario slips away with a 14A, while British Columbia, Alberta, and Manitoba all slapped The 40 Year-Old Virgin with an 18A. The same thing happened with Four Brothers, in my opinion, the second best film of the year, and I can honestly say that I love Ontario more and more so for that. To all you fellow teenagers out there in the States: Good luck sneaking in! <br /><br />Overall, Steve Carell gives one of the funniest performances I've ever seen and just about everyone in the cast distributes to the non-stop laughter. Everyone will love the 40 Year-Old Virgin this summer and I encourage everyone to see it as fast as humanly possible. It is the best comedy of the year, hands down. It beats all over The Longest Yard, The Wedding Crashers, and of course Apatow and Carell's last memorable comedy, Anchorman.<br /><br />It is a comic masterpiece and deserves the remarkable amount of praise from the critics who have been loving it. Every single one of my favourite critics loved it and it deserves a spot on the IMDb Top 250 right away. Steve Carell is a huge star. Watch one of the brightest ones of the summer right now.<br /><br />My Rating: 9/10 <br /><br />Objectively  9/10 <br /><br />Subjectively  10/10 <br /><br />Eliason A.\n",
            "Raggedy Ann and Raggedy Andy THE MOVIE is about dolls that come to life when the humans aren't around. In this adventure they must rescue a kidnapped french doll named Babette from the captain of pirates. On their way they journey though Deep Dark Woods, Taffy Pit, and even Looney Land. Will the aide of their new friend The Camel With Wrinkled Knees help them or just slow them down with his hallucinations of his friends leaving him? How will they escape the Kookoo king and his henchmen!? What will their owner Marcella say when she sees her 7th birthday present doll gone along with her other toys? Delightful surprises await the two adventurers.<br /><br />All scores are out of a possible 10: Story: 8 - Very cute. Dolls that come to life when the master isn't around. Not just that because they go out into many many different places, but they are in an imaginary world so anything can happen. Meeting new characters, going to different places finding new friends, its great. The characters all work so well in this too and who doesn't love pirates?! Acting: 8 - Every character suits their voice so well. Specifically the Marlon Brando taffy pit enemy, The Greed. The french doll has a very uptight french accent, the evil Hitler-esquire king Kookoo (whos got hair that resembles Simpson's Sideshow Bob) plays his role very well, and the sorrow old black man voice for Camel works perfectly. Why is it that old dubbed animation was soo much better than new ones? Music: 10 - Nothing short of perfection here. The songs have been in my head for years, and re-watching it nearly 20 years later, i can still remember each and every one of them and will now be able to know exactly where these tunes come from. Joe Raposo of \"Sesame Street\" fame did an excellent job with the songs for this and everyone sings real well.<br /><br />Editing: 6 - Heh, this is where it'll get confusing. I mean how far did the Raggedy's walk anyway? A lot of events just seem to occur one after another and there's no telling WHO the other dolls and toys were as you never see them in the real world of the movie, but it does follow some sort of path and you know they'll eventually get to where they need to go, its just pretty hard to follow at times.<br /><br />Uniqueness: 8 - Between this and Unico i'd have to say there's parts in both movies i will never forget no matter how hard i try to. Mainly the scary parts. I've probably mentioned already how older movies were Much creepier than animation of today but this takes the cake in the scary factor. Outside of the South Park movie and some Disney films there's almost no animated musicals, or good ones of that coming out so its very unique.<br /><br />Worth: 8- Its classic. Worth the hunt to get a good copy thats for sure, but the VHS copies are probably all stretched out by now. The DVD version is sold on Ebay all the time and it'll definitely be something you'll watch more than once. If anything get it for the nostalgia purposes.<br /><br />Overall Score (Not an average): 8 - Its a wonderful timeless musical made in the late 70s and can still be enjoyed today. Its characters are all unique and the songs are great. So great you might find yourself humming them time and time again. Give your favorite stuffed animal a hug today! Reviewer's Insight (Including bias): This isn't like the Raggedy Ann TV series made a decade later. This was way more darker and real world. The effects in this seem like a lot of other acid-trip cartoons from the 70's, in particular, Yellow Submarine. Still, its given me memories I'll never forget, and might still influence things today. It wasn't easy to find but it'll remain a treasure to keep in my collection of DVDs and videos forever.\n",
            "The quintessential Georgian film of Georgi Danelia, Ne goryuy (1969) aka Don't Grieve is loosely based on the novel by French writer Claude Tillier (1801-1844) \"Mon oncle Benjamin\" The novel takes place in the country side of the 18th Century France. The Great French Revolution is still ahead but some of its stormy signs are present in society. Benjamin, the local doctor is a soul of a local society, the educated, friendly, democratic person who often treats the poor for free. It makes him very popular with the locals but most certainly does not help with his bank account. He is in love with a beautiful Manette who is also crazy about him but is being watched closely by her father who called his daughter \"his small capital\" and is determined to protect her virginity until the moment the marriage contract has been signed... I never read the book, and from description it sounds like a charming very French novel but I am fascinated with the results of moving the characters and some plot elements from 18th Century France to the beginning of 20th century Georgia-Grusiya. I would think that it was Danelia who came up with all the colorful memorable characters that feel so much at home in his native Georgia-Grusiya, the land of long and wonderful traditions, including Art of making and drinking wine, rare music talent that all Georgians seem to possess, very unique humor, and high code of honor. When we watched the film last night together with my husband, he said, what a great example of an Art film, and I so agree with him. Don't Grieve is a perfect Art movie, visually beautiful, deep but funny, at times sad and philosophical but never in a preachy arrogant way but optimistic, celebrating life with all its beauty and sadness, full of interest, loving irony and understanding for its slightly eccentric but very human characters. What is the most important, the film is warm and gentle, it does not look down at its viewers as some of the Art pictures do. You don't have to be a movie buff to love it, to live with it, to smile and sigh at it, to follow the good-hearted young Doctor Benjamin (first role in a Danelia film of famous singer and actor Wachtang Kikabidze with whom Danelia would go on to make two more films including one of my all time favorites, Mimino) on his journey through the roads and mountains of Georgia. Or to be a guest on one of a kind party where the friends gather to celebrate life of the old doctor Levan who wanted to be a guest on his own wake, to hear what his friends have to say about him when he dies while he is still alive, and who gets to choose which color he prefers for his coffin. When I watched the film I thought that it is a sort of movie that Federico Fellini might have liked. I was not surprised at all to find the article about Danelia where he names Fellini his number one director. I also found out that according Danelia, the famous Soviet directors, Leonid Gaiday (the creator of many beloved comedies) and Sergei Paraszhanov (the visionary whom I don't have to introduce loved another Danelia's film, fairy tale about American boy Huck Finn, Sovsem propashchiy) felt and spoke negatively about Don't Grieve while Fellini praised it highly. I dare go a little further and just guess that perhaps Maestro Fellini kept in mind some images and the very aura and atmosphere of Don't Grieve when he was making Amrarcord in 1973. Just a thought, because there is something essential that connects both films. Both Artists came back to their roots, to the places that they love deeply, to the people they remembered, loved and wanted to honor. Both films have a lot of smiles through the tears. Both are Art movies that would get directly to the hearts of the viewers. Both are masterworks.<br /><br />I think I am going to add Georgi Danelia to the list of my favorite directors. He has made some of the brilliant pictures in my most favorite genre of dramedy, even tragicomedies that are funny and bitter sweet, poignant and subtle, earthy and uplifting, gentle and shining. When I looked up the list of the movies he has written/directed, I was amazed at the fact that he has not made a single bad film since he started back in 1960 with the Award winning story of a young boy, Seryozha. Many of Danelia's films are among my favorites, as I am sure they are among his legions of fans. The man behind 'Seryozha, Sovsem propashchiy (1972) which is an adaptation of Mark Twain The Adventures of Huckleberry Finn, 33, Ya shagayu po Moskve (1964) aka Walking the Streets of Moscow, Ne goryuy (1969) aka Don't grieve, Afonya (1975), Mimino (1977), Osenniy marafon (1979) aka Autumn Marathon or Sad Comedy which is a very fitting title for this movie as well as for the whole genre that Danelia practically invented, and the cult favorite for over 20 years Kin-Dza-Dza (1986), is brilliant and deserves our true love and genuine gratitude for the unforgettable moments of cinematic happiness.\n",
            "/* slight spoilers */<br /><br />Way back, before Evangelion was made, before Hideaki Anno was an idol and household name for many anime fans, and before Gainax had reached the status of fanfavorite, Gunbuster was made. With only Wings of Honneamise made by Gainax at that time, and the famous Otakon shorts or course, Gunbuster had some tough acts to follow up. It didn't make it easier on itself by picking out a genre that was already done countless times before, space opera.<br /><br />Luckily, Gainax decided to put it out as a six-part OAV (direct to video) series. This allows the series to have a bigger scope than would have been possible if it was made into a film. This also prevents it from becoming too boring and overly long, with lots of pointless battles and filler along the way. Besides that, they made some effort to stay clear from the tested space opera mechanics used in Macross or Gundam, and many other popular space operas.<br /><br />For one, the shows starts out pretty light, with Noriko in the Okinawa High School for mechapiloting. Noriko is the daughter of a respected ship commander who died in battle, when she was still a little kid. This makes her life at the academy quite hard, as some of her fellow classmates start to suspect that Noriko is favored by the professors. The first episode is pretty much a comedy drama, with a very tight focus on the characters and setting of the school. Things quickly change when the threat of an alien invasion is announced, and Noriko and Kazumi (best girl in class) are chosen to help the assembled fleet out.<br /><br />The middle bulk of Gunbuster leaves our female lead in space, focusing on both personal drama and action. A couple more characters are introduced, and parts of Noriko's past are dragged up again. Besides that, the alien threat becomes more imminent every minute, and the Gunbuster, mankind's final hope, is presented. Smart as writer Okada was, he incorporated the principles of time dilation, to spice things up a bit. In short, time moves slower for those who travel at the speed of light. This means that Noriko can be part of a war that takes almost a century to complete. Also the dramatic aspect of this is accentuated, when Noriko sees her friends again on her return to base, who have aged considerably more than her. The science might not be perfect, but it's presented in a pretty believable way, with even some SD science theatre shorts in between the episodes, where Noriko, Kazumi and their coach give a short description of the scientific principles used in the series.<br /><br />The animation, for a series made in the 80s, is definitely good. The designs are retro 80s style of course, but it has it's charm. Animation is fluent enough and the character designs are nice, although the costumes do betray<br /><br />some of the fanservice fascination Gainax will later exploit to the fullest. The mechas throughout the shows are pretty cool too, with the Gunbuster as the ultimate killing machine, strong and vast. The last episode was entirely done in black and white. While it's generally believed (but not confirmed) that this was done for budget reasons, it lends a whole different atmosphere to the series, which is suited perfectly for the latter part.<br /><br />The music is very typical space opera fair. Too bombastic in places, very generic, and definitely not worth buying. It does fit the series for the most part, but it can become quite annoying at times. Tanaka is not really a famous composer, and the only other respectable series he's worked on is Dragon Half. If you think 80s anime music, you will know what to expect.<br /><br />As the series progresses, the focus slowly shifts from drama to space opera to epic battle, but in such a way the viewer will hardly notice this. Step by step the drama will be toned down, and the battles will take the front row. Neither aspect is ever left completely out though. With the last episode in sight, Noriko and crew are fighting for the further existence of human kind, and with the last battle in sight, certain questions are presented to the audience, concerning to position of the human race in the galaxy, and how far it can go to guarantee self-preservation. While they are never answered later on, they still present some interesting food for thought. The last episode is very epic, with a nice, but quite predictable ending, though not all endings should contain numerous outlandish twists of course. Again, it fits the series.<br /><br />Gunbuster may sound like your average space opera anime at first, with alien invasions, huge battles, and some personal drama, and for the bigger part, it is. But it is done exceptionally well for a change. Instead of going for a steady mix of former elements, six episodes long, Gunbuster presents us a change from small scale drama to large scale epic heroism. Along the way we meet with some various interesting and well fleshed-out characters, which mutual relationships changing heavily due to the time dilation phenomenon. The show is very tightly written, although it does tend to slip up at some points. Overly dramatic occurrences and too cheesy mecha attacks could have been easily avoided. Overall, the trip Gunbuster takes you on is a very relaxed, sometimes sad, sometimes heroic one. It might not have shattered the boundaries and limits of the space opera genre, but at least it bend them a little. Highly enjoyable anime classic, but not without flaws.<br /><br />***/*****\n",
            "This is a great little film, that's very unique, and creative, with some great plot twists and wonderful performances!. All the characters are great, and the story while bizarre, is fascinating and very interesting, plus Nicole Kidman is simply amazing in this!. It's very hard to describe this movie, because it really is quite bizarre, it's a comedy/romance, one minute then it turns into a thriller the next, however it was still very entertaining all the same, plus Nicole's Russian accent was fantastic, and extremely convincing. Chaplin and Kidman had very good chemistry together, and i loved Vincent Cassel's performance!, plus some of the plot twists really took me by surprise!. The ending was very cute, and it's unpredictable throughout!, plus this movie is quite underrated as well!. You will feel sorry for Chaplin and the way that he is scammed, and i thought all the characters were really likable, plus the finale is especially good.This is Nicole's movie though, and she carries it with her incredibly sexy performance!. This is a great little film, that's very unique, and creative, with some great plot twists and wonderful performances!, i highly recommend this one!. The Direction is very good!. Jez Butterworth does a very good job here, with great camera work, solid angles and keeping the film at a fast pace!. The Acting is wonderful!. Nicole Kidman, is stunningly gorgeous!, and is amazing as always, she is incredibly sexy, very likable, had one of the coolest accents, added a lot of presence, had very good chemistry with Ben Chaplin, and had a very mysterious character!, she was amazing. (Kidman Rules!!!!). Ben Chaplin is great here, he is extremely likable, had a cool character, had very good chemistry with Kidman, the only thing i didn't like was him taking out his anger out on Kidman, even though what she did was wrong, and i loved how he got revenge in the end!. Vincent Cassel is fantastic as the main villain, yes he was OTT, but he was very intense and quite creepy at times, this role was perfect for him. Mathieu Kassovitz is OK here, but didn't have much to do. Rest of the cast are fine. Overall i highly recommend this one!. ***1/2 out of 5\n",
            "\"Pushing Daisies\" for sure is one of the best TV shows of its genre in the last 5 years, agree you with that or not. Bryan Fuller, the creator, has an amazing creative mind. He's the mind behind other great TV Shows as \"Dead Like Me\" (2003), \"Wonderfalls\" (2004), and the other one not as great as these ones, but also interesting, \"Heroes\" (2006). It's a mix of the marvelous worlds Brian Fuller created in previous TV shows, mixing once again an amazing fantasy world with real kinds of people disguised into colorful images and exaggerated feelings, something that a fairytale always is. So, being a kind of fairytale, you cannot expect more than a unrealistic world and unexpected situations, or also situations a lot expected but not in a way that it would usually be told.<br /><br />A gift always comes with a curse, and what is sweet can also be bitter. That's so, Ned (Lee Pace), The Piemaker, is a simple guy with an interesting gift other than being an amazing chef: he can give life to the dead with just a touch. This could be a power that everybody would die - or live - for if wasn't for another simple and very sad thing: he can also gives the forever dead if he touches it again. The curse of this amazing gift doesn't stops there... everything has a compensation and if he brings anything to life for more than one minute, another specie of that one would die instantly. He's a guy full of unfortunate events in life in a way that he grown up introspectively, always afraid to touch everything and lose once more things he one day used to love. Till the day he could finally be close to his biggest childhood love, Chuck (Anna Friel), if wasn't for another sad fact: she was dead. He gave her life again and she loves him so much as he does, but this love is untouchable. The truly kiss of death. And that's how this beautiful modern fairytale starts.<br /><br />When I heard about \"Pushing Daisies\" for the first time it was promoted as something very familiar (or maybe some kind of tribute) to everything that Tim Burton has created since \"Pee-Wee's Big Adventure\" (1985) to \"Big Fish\" (2003) and \"Charlie And The Cholate Factory\" (2005). The results could not be better. The world around The Pie Hole was magnificent. The stories around Ned and Detective Cod (Chi McBride) to solve unsolved crimes can be a lot common in TV, but this is just a way to guide people thru amazing stories surrounding characters as Chuck and Olive (Kristin Chenoweth) in a wonderful world full of beautiful and dreamy images that you can almost sense the taste of the colors. Not only that, you are merged into a bunch of amazing and charismatic gentle characters, even those ones with the most deep dark humors.<br /><br />Forgetting the trivial concept of murders and unsolved crimes, the show brights and is triumphant in a lot of other things. The actors here are top of note. Lee Pace is tender, soft and contained as the character asks for. Anna Friel is the muse of the show as her character is supposed to be. But the most superb times are always with the supporting actors as Chi McBride (Detective Emmerson Cod), Swoozie Kurtz (as Lilly Charles), Ellen Greene (as Vivian Charles) and Kristin Chenoweth (as Olive Snook). Swoozie Kurtz shines performing a so dried character drowned in a impossible dark humor that could frighten a clown, for sure she has the best dialogs and her expressions and body languages are mesmerizing. But if the best dialogs are given by Swoozie and her character, the best funny moments are given by Kristin Chenoweth. Seems that she's improvising all the time, she's so naturally fun that every single scene is a show aside. Kristin shines so bright in the show that winning the 2009 Emmy for her supporting role in the show was totally fair and deserved. Also there's the chemistry between actors and their characters, that are also amazing.<br /><br />There are no words to express what this TV Show really is and what it was meant to be. For those ones who think this show is a waste of time or claimed to find no sense in it, for sure needs to open their minds and comeback to a time that they probably never had: childhood.<br /><br />Truth be told... TV has never been so daring in a TV Show as with this amazing one. \"Pushing Daisies\" was a huge step forward in terms of great artistic entertainment and its sudden death was a lot disrespectful. It's true that TV doesn't respect great TV shows as those ones Bryan Fuller created - except \"Heroes\" that's still on air and is far from being so amazing as the other ones.\n",
            "Mukhsin is a beautiful movie about a first love story. Everyone probably has one, and this is writer-director Yasmin Ahmad's story of hers, with a boy called Mukhsin. We know that her movies have been semi-autobiographical of sorts, having scenes drawn upon her personal experiences, and it is indeed this sharing and translating of these emotions to the big screen, that has her films always exude a warm sincerity and honesty. Mukhsin is no different, and probably the most polished ad confident work to date (though I must add, as a personal bias, that Sepet still has a special place in my heart).<br /><br />Our favourite family is back - Pak Atan, Mak Inom, Orked and Kak Yam, though this time, we go back to when Orked is age 10. The characters are all younger from the movies we've journeyed with them, from Rabun to Gubra, and here, Sharifah Amani's sisters Sharifah Aryana and Sharifah Aleya take on the roles of Orked and Mak Inom respectively, which perhaps accounted for their excellent chemistry together on screen, nevermind that their not playing sibling roles. The only constant it seems is Kak Yam, played by Adibah Noor, and even Pak Atan has hair on his head! Through Mukshin the movie, we come full circle with the characters, and the world that Yasmin has introduced us to. We come to learn of and understand the family a little bit more, set in the days when they're still living in their kampung (revisited back in Rabun), where Orked attends a Chinese school, and packs some serious combination of punches (and you wonder about that burst of energy in Gubra, well, she had it in her since young!). The perennial tomboy and doted child of the family, she prefers playing with the boys in games, rather than mindless \"masak-masak\" with the girls, and favourite outings include going with the family to football matches.<br /><br />The arrival of a boy called Mukhsin (Mohd Syafie Naswip) to the village provides a cool peer for Orked to hang out and do stuff with - cycling through the villages, climbing trees, flying kites. And as what is desired to be explored, the crossing of that line between friendship and romance, both beautiful emotions.<br /><br />Mukhsin does have its cheeky moments which liven up the story, and bring about laughter, because some of the incidents, we would have experienced it ourselves, and sometimes serve as a throwback to our own recollection of childhood. In short, those scenes screamed \"fun\"! We observe the life in a typical kampung, where some neighbours are very nice, while others, the nosy parkers and rumour mongers, spreading ill gossip stemming from envy. There are 2 additional family dynamics seen, one from an immediate neighbour, and the other from Mukhsin's own, both of which serve as adequate subplots, and contrast to Orked's own.<br /><br />As always, Yasmin's movies are filled with excellent music, and for Mukhsin, it has something special, the song \"Hujan\" as penned by her father, as well as \"Ne Me Quitte Pas\", aptly used in the movie Given that the Yasmin's movies to date have been centred around the same characters, the beauty of it is that you can watch them as stand alone, or when watched and pieced together, makes a compelling family drama dealing with separate themes and universal issues like interracial romance, love, and forgiveness. Fans will definitely see the many links in Mukhsin back to the earlier movies, while new audiences will surely be curious to find out certain whys and significance of recurring characters or events, like that pudgy boy who steals glances at Orked.<br /><br />And speaking of whys, parts of Mukhsin too is curiously open, which probably is distinctive of Yasmin's style, or deliberately left as such. I thought that as a story about childhood, recollected from memory, then there are details which will be left out for sure. And subtly, I felt that Mukhsin exhibited this perfectly, with not so detailed details, and the focus on what can be remembered in significant episodes between the two.<br /><br />Another highly recommended movie, and a rare one that I feel is suitable for all ages - bring along your kid brother or sister!\n",
            "When the Bourne Identity arrived five years ago I have to confess that I didn't think much of it. At the time I was eleven years old, so perhaps I was too young to really get into the storyline and understand the whole scenario. Two years ago when the Bourne Supremacy arrived I thought it was a better movie than Identity but still didn't think it was as good as I expected it to be judging by the trailers. Over the past two years I had been told numerous times that the Bourne movies were amazing, many a time I had to bite my tongue and not say what I really thought about the movies. Until two months ago I couldn't have given a damn about the Bourne Ultimatum, I really had no intentions of watching it. But then I decided to go back and re-watch the first two before I came to any abrupt decisions. So I went out and bought both the original movies. And what a surprise it was to me when I was gripped by them. Identity I found the superior of the two, but Supremacy isn't far behind. They're both slick, action packed and thrilling pieces of cinema that I have watched numerous times since I bought them. Because of this I was first in line today to see the Bourne Ultimatum. And boy did Bourne Ultimatum not disappoint! <br /><br />Matt Damon was never one of my favourite actors until he appeared in the Bourne movies, I'd seen him in the Talented Mr Ripley, but I never thought much of him in general. However, it appears he was born to play Bourne (pardon the pun). Throughout this series we have seen the character change before our very eyes, in this movie we see Matt Damon at his very best, even better than he was in The Departed and I thought he was one of the best things in The Departed. You really do find yourself caring for the character and hoping that he finds out everything. Matt Damon plays the role with a quiet intensity and you always find his character extremely believable. The supporting cast of the movie were also absolutely outstanding. Joan Allen was one of my favourite things in Bourne Supremacy, here she excels herself. Her character is also very believable and she has some superbly acted moments towards the end of the movie. Julia Stiles turns up again as Nicky and finally we learn a bit about her character. Julia Stiles is a very underrated actress and I think she deserves a lot more roles, well decent roles, than she gets. David Strathairn is a newcomer to this series as Noah Vosen, he's definitely the bad guy of the movie and he really excels. He's definitely the nastiest character we've met, and some of the decisions he makes are truly nasty. Strathairn relishes the role and he too gets some superb scenes in the movie. Special mention must also go to Albert Finney who makes the most of his all too brief screen time, I will not say anything about the character, that's best left as a surprise, but trust me his scenes are some of the highlights of the movie.<br /><br />The Bourne movies have always had a strict focus on the storyline more than the action sequences, this isn't to say the trilogy lacks action sequences, good god no there's loads of them dotted all throughout the movies. But running throughout the movie is a very well written and well acted storyline. This storyline concludes in the best way imaginable in this movie. As I watched Supremacy the night before I saw Ultimatum it was nice because I could notice certain little parts. That very final scene in Supremacy, in New York, a lot more important that I ever imagined at the time. Won't spoil it for people but I recommend checking up on Supremacy before you see Ultimatum. Unfortunately though for a lot of people they will go to see Ultimatum purely because of the action sequences. This is the part where I should condemn such people and say they should see it for the storyline, but I'd be lying if I didn't say that my favourite parts of the Bourne series as a whole are the car chases. The mini car chase in Identity is one of my favourite car chases of all time. Well the action in Ultimatum has to be the best of the Bourne series. In fact the movie kicks off with an action sequence in Moscow. So in the duration of the movie we get numerous punch ups, all very violent and shockingly brutal. A bike chase that is absolutely amazing, many foot chases which are even more amazing, a thrilling car chase that is unforgettable, and oh so much more! But the highlight for me has to be the scene in Waterloo station, won't ruin it but for some reason had me gripped.<br /><br />So any flaws for the movie? In my eyes no, but if you are not a fan of the Bourne series or have not seen the previous two then I wouldn't recommend Ultimatum for you. The movie doesn't try to win over any new fans as it sticks to what the franchise does best and just adds a nice bit more storyline and action sequences on top. The Bourne Ultimatum is undoubtedly the best of the series and the best blockbuster of 2007. As a James Bond fanatic it is a great honour for me to say that Ultimatum is a lot better than a majority of the Bond movies, and trust me it takes a lot for me to say that. While Bourne as a whole might not be a better franchise than the Bond series, it is definitely nearly its equal.\n",
            "I had lost faith in Sooraj R. Barjatya after the movie Main Prem Ki Deewani hoon, then a year back now I saw promos for Vivah which looked good. But I didn't want to waste my hard earned money watching it in cinema. When the film first came out on DVD I rented it and watched and I loved the movie and took back my words for Sooraj. I just finished watching it yesterday again and this time I thought I have to review this movie. Sooraj R. BarjatyaGot it right this time, okay I was not a huge fan of Hum App Ke Hai Kaun. But I have always loved Manie Pyar kiya, after Manie Pyar kiya to me I think Vivah is Barjatyas best work. I hardly ever cry in a movie but this movie made me feel like crying. If you have ever been in love before then there will be many moments that will touch you in this movie, the movie is just too sweet and will have you falling in love with it, my view a much underrated movie.<br /><br />The story of this movie you might call desi and very old times, but to me it seemed modern because the two couples which are getting an arrange marriage are aware it's an old tradition. It's done in present times, lots of people don't believe in this arrange marriage, but I do. The journey between the engagement and wedding which will always be special and this movie shows it clearly. When Prem meets Poonam for the first time, they show it how it is and that's reality and my parents where saying that's how they got married and it showed it in a way which is so real yes people the way Prem and Poonam meet in this movie is how most marriages happen. It was a very sweet, you feel nervous yet excited, the song \"Do Ajnabe\" shows that very well. Getting back to the story yes it's a journey which you soon get glued to between Prem and Poonam (Shahid Kapoor and Amrita Rao) and there families. A twist occurs in this movie which is really good, the last 30mins you all will be reaching for the tissue box.<br /><br />What makes this film so amazing is the chemistry between Prem and Poonam, how they fall for each other is too sweet. Simple boy and Simple Girl, when they first meet during and after the song \"Do Anjane Ajnabe\" It's very sweet to watch, She hardly says anything and Prem does all the talking being honest with her about his past and the girl he liked and him smoking. Then it leads on to them all having a family trip and then that's when they really do fall for each other. It makes you just want to watch the couple and watch all the sweet moments they have. Another factor is that Poonam chichi is really mean to her and you feel sorry for Poonam because she has been treated bad and makes you want to see her happy and when she finally finds happiness, you too start feeling happy with her the movie basically makes you fall in love with Poonam more then just Prem. When she finds happiness through Prem you want her to stay happy and also hope nothing goes wrong because the character is shown as a sweet simple girl. Which brings me to performances and Amrita Roa as Poonam is amazing in the movie, her best work till date you will fall in love with this innocent character and root her on to find happiness. Shahid Kapoor as Prem is amazing too, he is Poonam support in the film, he is her happiness the movie, together they share an amazing chemistry and I have never seen a cuter couple since SRK and Kajol. If Ishq Vishk didn't touch you to telling you how cute they are together this surely will. \"Mujhe Haq hai\" the song and before that is amazing chemistry they show. Scenes which touched me was when Prem takes Poonam to his room and shows her that's where they will be staying and he opens her up and they have a moment between them which is too sweet. Again if you have ever been in love with someone that much these scenes you can defiantly connect to. The film is just the sweetest thing you will see ever.<br /><br />The direction is spot on, to me a good movie is basically something that can pull me in and stop me believe for this hours what is being seen here is fake and there is a camera filing them. To me this film pulled me in and for those three hours I felt really connected to the movie. The songs you will only truly like when you have seen the movie as they are songs placed in the situation after I saw the movie I been playing the songs non stop! The music is amazing, the story is simply amazing too what more can I ask for?<br /><br />What I can finally say it, rarely do we get a movie that makes us feel good, this movie after you have seen it will make you feel really good and make you want to be a better person. Its basically the sweetest journey ever, its basically showing you they journey between engagement and marriage and many people say it's the bestest part of your lifeWell this movie actually shows you way do people actually say that? Why do people actually say that the journey is just that amazing! Watch this movie and you will find out why the journey is amazing!\n",
            "ANCHORS AWEIGH sees two eager young sailors, Joe Brady (Gene Kelly) and Clarence Doolittle/Brooklyn (Frank Sinatra), get a special four-day shore leave. Eager to get to the girls, particularly Joe's Lola, neither Joe nor Brooklyn figure on the interruption of little Navy-mad Donald (Dean Stockwell) and his Aunt Susie (Kathryn Grayson). Unexperienced in the ways of females and courting, Brooklyn quickly enlists Joe to help him win Aunt Susie over. Along the way, however, Joe finds himself falling for the gal he thinks belongs to his best friend. How is Brooklyn going to take this betrayal? And does Joe end up with Susie, who loves him too?<br /><br />The first and second times I saw ANCHORS AWEIGH, I also saw it at the same time as I did ON THE TOWN, the Kelly/Sinatra collaboration from 1949. Both times I felt that ANCHORS AWEIGH was the better film in terms of plotting and structure--all the dances and songs fit the moment in the plot, and they develop the characters and story rather than hamper them. Yet, both times I came away feeling that ON THE TOWN is the better film overall. Having now seen both films a third time, I still stand by that judgement. Somehow ON THE TOWN, as a film and a piece of entertainment, is just lighter, gayer, purely and simply *happier*. The numbers are more outrageous and less integral to the plot, and yet somehow it works better than all the dances and singing in ANCHORS AWEIGH. I'm not quite sure why this is. The typical argument is that the latter film is over-long: at almost two and a half hours, this is certainly a valid criticism to make. I certainly felt the length the first two times I saw it! However, it's also a film that grows on you--the more you see it, the shorter it feels and the more you appreciate the technical mastery involved in its making. And yet, something just doesn't hang together quite right. It feels almost as if the script was pored over, and *every* single moment when Kelly could break into dance or Sinatra into song was noted, and that's exactly what happened. No opportunity to shoehorn a musical number in was given up... and that's probably the film's biggest weakness. It has 16 numbers (give or take a few), and no matter how big a fan you are of Kelly or Sinatra, this really starts to turn one numb after a while. (Contrast this, for example, with the ten numbers in ON THE TOWN.) You might well feel that each song, each dance, can't be taken out of the film without leaving it lacking... and that's true. But that's also because the writers weren't more restrained in adding them in in the first place.<br /><br />All this long preamble doesn't mean there's nothing good about ANCHORS AWEIGH. The musical *is* splashy with great songs bursting out all over, like the duets between Kelly and Sinatra ('We Hate To Leave', 'I Begged Her' and 'If You Knew Susie'), the singing of Sinatra ('What Makes The Sunset', 'The Charm Of You', and the best of all, 'I Fall In Love Too Easily'), and without a doubt the always inventive, always breathtaking dancing of Kelly. It's also hard to miss with a cast of this calibre. Grayson is sweet and seems to improve on each viewing (her voice becoming stunning rather than frightening); Jose Iturbi's role is written sympathetically and he does a great job with it; even Clarence's own Brooklyn, Pamela Britton, is cute and charming... as close as one could get to Betty Garrett without being Garrett herself! Sinatra is adorable with those blue eyes and curls of his, and plays the innocent boy-man wonderfully (a role he reprises in ON THE TOWN). His singing is, as usual, simply faultless from enunciation through to timing and phrasing. His solo numbers might seem to drag a little, but when you've got the voice of a century, showcasing it is probably as good a reason as any to slow up the rest of the film!<br /><br />Gene Kelly's sheer genius in this film is worthy of its own paragraph. Third in the billing behind Sinatra and Grayson respectively, ANCHORS AWEIGH really is Kelly's film. His Joe Brady is a believable, real character--he's tough on the outside, glib and willing to lie when necessary to win a gal, but he's actually the biggest softy on the inside. Kelly makes this charming rather than cloying, but also gives Joe a real edge that you see in the scene when Joe chases Brooklyn around the room with a genuinely murderous look on his face and his breakfast tray in his hands. And the *dancing*--again, the film suffers from the 'too much of a good thing spoils the effect' syndrome, as it does with Sinatra's singing. But once again, if it's Gene Kelly doing the softshoe, or tapping across the screen in a sailor's outfit or dressed up as a bandit chief... might as well err on the side of overdoing it! All of Kelly's dances are breathtaking, be it the pared-down simplicity of his tap number with Sinatra to 'I Begged Her', his 'Mexican Hat Dance' with the sweet wide-eyed little girl, or his lavish Spanish-influenced dance 'La Cumparsita'. Of course, the classic image left in audiences' minds for all time would be Kelly in his red, white and blue sailor suit, dancing with Jerry Mouse of 'Tom & Jerry' fame. A well-deserved golden film memory, to be sure--it's not often that one can say you're impressed by the special effects in a film made in 1945, given the saturation of CGI in the contemporary film market. But Gene and Jerry still look great, with Kelly always hitting his spots and looking exactly where he needs to look. It *would* turn out that just about the only people who could really keep up with Gene Kelly would be Kelly himself (in COVER GIRL) and a cartoon animation. <br /><br />It's doubtless that this first daring, inventive Kelly dance with Jerry has reserved a place for ANCHORS AWEIGH in film history and the hearts of classic film buffs. But it's also notable for being the first of three Kelly/Sinatra film collaborations, and though rather too drawn-out, still a great couple of hours of entertainment. Watch it first, then again and maybe again--it'll grow on you before you realise it! 7.5/10\n"
          ],
          "name": "stdout"
        }
      ]
    },
    {
      "cell_type": "code",
      "metadata": {
        "id": "2NvjRaK9cgs9",
        "colab_type": "code",
        "colab": {}
      },
      "source": [
        "test_data_short.insert(loc=3, column='prediction_LR', value=predicted_LR)"
      ],
      "execution_count": 0,
      "outputs": []
    },
    {
      "cell_type": "code",
      "metadata": {
        "id": "56Lw1dgVc3L2",
        "colab_type": "code",
        "colab": {
          "base_uri": "https://localhost:8080/",
          "height": 204
        },
        "outputId": "678b3c9e-8b46-4271-e108-ff0f1a98ed3e"
      },
      "source": [
        "test_data_short.head(5)"
      ],
      "execution_count": 77,
      "outputs": [
        {
          "output_type": "execute_result",
          "data": {
            "text/html": [
              "<div>\n",
              "<style scoped>\n",
              "    .dataframe tbody tr th:only-of-type {\n",
              "        vertical-align: middle;\n",
              "    }\n",
              "\n",
              "    .dataframe tbody tr th {\n",
              "        vertical-align: top;\n",
              "    }\n",
              "\n",
              "    .dataframe thead th {\n",
              "        text-align: right;\n",
              "    }\n",
              "</style>\n",
              "<table border=\"1\" class=\"dataframe\">\n",
              "  <thead>\n",
              "    <tr style=\"text-align: right;\">\n",
              "      <th></th>\n",
              "      <th>Text</th>\n",
              "      <th>Polarity</th>\n",
              "      <th>prediction_NB</th>\n",
              "      <th>prediction_LR</th>\n",
              "    </tr>\n",
              "  </thead>\n",
              "  <tbody>\n",
              "    <tr>\n",
              "      <th>23004</th>\n",
              "      <td>Well, I hate hollywood, but love cinema so i h...</td>\n",
              "      <td>0</td>\n",
              "      <td>0</td>\n",
              "      <td>0</td>\n",
              "    </tr>\n",
              "    <tr>\n",
              "      <th>3543</th>\n",
              "      <td>***1/2 Scarlett Johansson, Woody Allen, Hugh J...</td>\n",
              "      <td>1</td>\n",
              "      <td>1</td>\n",
              "      <td>1</td>\n",
              "    </tr>\n",
              "    <tr>\n",
              "      <th>3135</th>\n",
              "      <td>Pretty good film from Preminger; labyrinthine ...</td>\n",
              "      <td>1</td>\n",
              "      <td>1</td>\n",
              "      <td>1</td>\n",
              "    </tr>\n",
              "    <tr>\n",
              "      <th>3835</th>\n",
              "      <td>I actually like Asylum movies. I've made it a ...</td>\n",
              "      <td>0</td>\n",
              "      <td>0</td>\n",
              "      <td>0</td>\n",
              "    </tr>\n",
              "    <tr>\n",
              "      <th>18045</th>\n",
              "      <td>While watching this movie, I came up with a sc...</td>\n",
              "      <td>0</td>\n",
              "      <td>0</td>\n",
              "      <td>0</td>\n",
              "    </tr>\n",
              "  </tbody>\n",
              "</table>\n",
              "</div>"
            ],
            "text/plain": [
              "                                                    Text  ...  prediction_LR\n",
              "23004  Well, I hate hollywood, but love cinema so i h...  ...              0\n",
              "3543   ***1/2 Scarlett Johansson, Woody Allen, Hugh J...  ...              1\n",
              "3135   Pretty good film from Preminger; labyrinthine ...  ...              1\n",
              "3835   I actually like Asylum movies. I've made it a ...  ...              0\n",
              "18045  While watching this movie, I came up with a sc...  ...              0\n",
              "\n",
              "[5 rows x 4 columns]"
            ]
          },
          "metadata": {
            "tags": []
          },
          "execution_count": 77
        }
      ]
    },
    {
      "cell_type": "markdown",
      "metadata": {
        "id": "PO1NRpYEdEWK",
        "colab_type": "text"
      },
      "source": [
        "Когда я попробовала посчитать метрики, то увидела, что посчитанные мною метрики немного меньше посчитанных автоматически, но разница здесь не сильно большая."
      ]
    },
    {
      "cell_type": "code",
      "metadata": {
        "id": "6vELc8hicxuo",
        "colab_type": "code",
        "colab": {}
      },
      "source": [
        "tp = len(test_data_short.loc[(test_data_short.Polarity == 1) & (test_data_short['prediction_LR'] == 1)])\n",
        "fp = len(test_data_short.loc[(test_data_short.Polarity == 0) & (test_data_short['prediction_LR'] == 1)])\n",
        "tn = len(test_data_short.loc[(test_data_short.Polarity == 0) & (test_data_short['prediction_LR'] == 0)])\n",
        "fn = len(test_data_short.loc[(test_data_short.Polarity == 1) & (test_data_short['prediction_LR'] == 0)])"
      ],
      "execution_count": 0,
      "outputs": []
    },
    {
      "cell_type": "code",
      "metadata": {
        "id": "9VYu_MR1coHF",
        "colab_type": "code",
        "colab": {
          "base_uri": "https://localhost:8080/",
          "height": 34
        },
        "outputId": "61e3a1e5-238b-4daf-add6-82946c93794b"
      },
      "source": [
        "precision = tp / (tp + fp)\n",
        "precision"
      ],
      "execution_count": 92,
      "outputs": [
        {
          "output_type": "execute_result",
          "data": {
            "text/plain": [
              "0.912007874015748"
            ]
          },
          "metadata": {
            "tags": []
          },
          "execution_count": 92
        }
      ]
    },
    {
      "cell_type": "code",
      "metadata": {
        "id": "S4OnA-4Ocquf",
        "colab_type": "code",
        "colab": {
          "base_uri": "https://localhost:8080/",
          "height": 34
        },
        "outputId": "13058981-8d29-4823-e953-7c8c78918171"
      },
      "source": [
        "recall = tp / (tp + fn)\n",
        "recall"
      ],
      "execution_count": 93,
      "outputs": [
        {
          "output_type": "execute_result",
          "data": {
            "text/plain": [
              "0.9275275275275275"
            ]
          },
          "metadata": {
            "tags": []
          },
          "execution_count": 93
        }
      ]
    },
    {
      "cell_type": "code",
      "metadata": {
        "id": "XvHgVvczctZc",
        "colab_type": "code",
        "colab": {
          "base_uri": "https://localhost:8080/",
          "height": 34
        },
        "outputId": "ce6e911a-cd8f-4944-8e8c-2a811e0ed46e"
      },
      "source": [
        "f1 = 2 * (precision * recall) / (precision + recall)\n",
        "f1"
      ],
      "execution_count": 94,
      "outputs": [
        {
          "output_type": "execute_result",
          "data": {
            "text/plain": [
              "0.9197022332506203"
            ]
          },
          "metadata": {
            "tags": []
          },
          "execution_count": 94
        }
      ]
    },
    {
      "cell_type": "markdown",
      "metadata": {
        "collapsed": false,
        "id": "rdCjfnRk4Wuz",
        "colab_type": "text"
      },
      "source": [
        "## Метод опорных векторов [Support vector machine, SVM]"
      ]
    },
    {
      "cell_type": "code",
      "metadata": {
        "pycharm": {
          "name": "#%%\n"
        },
        "id": "Wg2Zplpp4Wuz",
        "colab_type": "code",
        "outputId": "3f4699a3-7470-4366-9343-4a073fdba127",
        "colab": {
          "base_uri": "https://localhost:8080/",
          "height": 71
        }
      },
      "source": [
        "clf_SVM = LinearSVC(max_iter=10000).fit(X_train_counts, test_data_short.Polarity)\n",
        "predicted_SVM = clf_SVM.predict(X_test)"
      ],
      "execution_count": 109,
      "outputs": [
        {
          "output_type": "stream",
          "text": [
            "/usr/local/lib/python3.6/dist-packages/sklearn/svm/_base.py:947: ConvergenceWarning: Liblinear failed to converge, increase the number of iterations.\n",
            "  \"the number of iterations.\", ConvergenceWarning)\n"
          ],
          "name": "stderr"
        }
      ]
    },
    {
      "cell_type": "code",
      "metadata": {
        "pycharm": {
          "name": "#%%\n"
        },
        "id": "T4xaQbcI4Wu2",
        "colab_type": "code",
        "outputId": "5e1c6cc2-f55a-447f-f5f5-949fb2010e98",
        "colab": {
          "base_uri": "https://localhost:8080/",
          "height": 85
        }
      },
      "source": [
        "acc = accuracy_score(predicted_SVM, test_data_short.Polarity)\n",
        "micro_f1 = f1_score(predicted_SVM, test_data_short.Polarity, average = 'micro')\n",
        "micro_p = precision_score(predicted_SVM, test_data_short.Polarity, average = 'micro')\n",
        "micro_r = recall_score(predicted_SVM, test_data_short.Polarity, average = 'micro')\n",
        "macro_f1 = f1_score(predicted_SVM, test_data_short.Polarity, average = 'macro')\n",
        "macro_p = precision_score(predicted_SVM, test_data_short.Polarity, average = 'macro')\n",
        "macro_r = recall_score(predicted_SVM, test_data_short.Polarity, average = 'macro')\n",
        "print('acc={0:1.4f}'.format(acc))\n",
        "print('micro F1={0:1.4f}, micro P={1:1.4f}, micro R={2:1.4f}'.format(micro_f1, micro_p, micro_r))\n",
        "print('macro F1={0:1.4f}, macro P={1:1.4f}, macro R={2:1.4f}\\n'.format(macro_f1, macro_p, macro_r))"
      ],
      "execution_count": 0,
      "outputs": [
        {
          "output_type": "stream",
          "text": [
            "acc=0.4972\n",
            "micro F1=0.4972, micro P=0.4972, micro R=0.4972\n",
            "macro F1=0.4972, macro P=0.4972, macro R=0.4972\n",
            "\n"
          ],
          "name": "stdout"
        }
      ]
    },
    {
      "cell_type": "code",
      "metadata": {
        "pycharm": {
          "name": "#%%\n"
        },
        "id": "RQ2b0WSS4Wu4",
        "colab_type": "code",
        "outputId": "93d073ef-daa2-4f66-9922-c95462fc6d63",
        "colab": {
          "base_uri": "https://localhost:8080/",
          "height": 284
        }
      },
      "source": [
        "sns.heatmap(data=confusion_matrix(test_data_short.Polarity, predicted_SVM), annot=True, fmt=\"d\", cbar=False, xticklabels=categories, yticklabels=categories)\n",
        "plt.title(\"Confusion matrix\")\n",
        "plt.show()"
      ],
      "execution_count": 0,
      "outputs": [
        {
          "output_type": "display_data",
          "data": {
            "image/png": "[encoded data removed]",
            "text/plain": [
              "<Figure size 432x288 with 1 Axes>"
            ]
          },
          "metadata": {
            "tags": []
          }
        }
      ]
    },
    {
      "cell_type": "code",
      "metadata": {
        "id": "mM-wKGPv2lDb",
        "colab_type": "code",
        "outputId": "2c606aaf-a4d2-45d4-88f3-1d8976b2e412",
        "colab": {
          "base_uri": "https://localhost:8080/",
          "height": 302
        }
      },
      "source": [
        "y_true = test_data_short.Polarity #как было в корпусе\n",
        "y_predicted = predicted_SVM #как сработал алгоритм\n",
        "fpr, tpr, _ = roc_curve(y_true, y_predicted)\n",
        "pyplot.plot(fpr, tpr, marker='.', label='Test')\n",
        "pyplot.xlabel('False Positive Rate')\n",
        "pyplot.ylabel('True Positive Rate')\n",
        "pyplot.legend()\n",
        "pyplot.show()\n",
        "\n",
        "print(roc_auc_score(y_true, y_predicted))"
      ],
      "execution_count": 0,
      "outputs": [
        {
          "output_type": "display_data",
          "data": {
            "image/png": "[encoded data removed]",
            "text/plain": [
              "<Figure size 432x288 with 1 Axes>"
            ]
          },
          "metadata": {
            "tags": []
          }
        },
        {
          "output_type": "stream",
          "text": [
            "0.49719967955194877\n"
          ],
          "name": "stdout"
        }
      ]
    },
    {
      "cell_type": "code",
      "metadata": {
        "id": "f77CNtL7ffT-",
        "colab_type": "code",
        "colab": {}
      },
      "source": [
        "test_data_short.insert(loc=5, column='prediction_SVM', value=predicted_SVM)"
      ],
      "execution_count": 0,
      "outputs": []
    },
    {
      "cell_type": "code",
      "metadata": {
        "colab_type": "code",
        "id": "k06fuABweXJz",
        "colab": {}
      },
      "source": [
        "tp = len(test_data_short.loc[(test_data_short.Polarity == 1) & (test_data_short['prediction_SVM'] == 1)])\n",
        "fp = len(test_data_short.loc[(test_data_short.Polarity == 0) & (test_data_short['prediction_SVM'] == 1)])\n",
        "tn = len(test_data_short.loc[(test_data_short.Polarity == 0) & (test_data_short['prediction_SVM'] == 0)])\n",
        "fn = len(test_data_short.loc[(test_data_short.Polarity == 1) & (test_data_short['prediction_SVM'] == 0)])"
      ],
      "execution_count": 0,
      "outputs": []
    },
    {
      "cell_type": "code",
      "metadata": {
        "colab_type": "code",
        "outputId": "4fd5cbb3-5dfe-4ac2-dd27-39cd874ba02d",
        "id": "810sllT8eXJ5",
        "colab": {
          "base_uri": "https://localhost:8080/",
          "height": 34
        }
      },
      "source": [
        "precision = tp / (tp + fp)\n",
        "precision"
      ],
      "execution_count": 112,
      "outputs": [
        {
          "output_type": "execute_result",
          "data": {
            "text/plain": [
              "0.4991873222267371"
            ]
          },
          "metadata": {
            "tags": []
          },
          "execution_count": 112
        }
      ]
    },
    {
      "cell_type": "code",
      "metadata": {
        "colab_type": "code",
        "outputId": "48640011-1f83-4b65-dbbc-093e568295b1",
        "id": "cQ9vl2cNeXJ_",
        "colab": {
          "base_uri": "https://localhost:8080/",
          "height": 34
        }
      },
      "source": [
        "recall = tp / (tp + fn)\n",
        "recall"
      ],
      "execution_count": 113,
      "outputs": [
        {
          "output_type": "execute_result",
          "data": {
            "text/plain": [
              "0.4918918918918919"
            ]
          },
          "metadata": {
            "tags": []
          },
          "execution_count": 113
        }
      ]
    },
    {
      "cell_type": "code",
      "metadata": {
        "colab_type": "code",
        "outputId": "0b8fdac4-7faf-49a8-8e07-36df283ae0e3",
        "id": "51R2tt8neXKF",
        "colab": {
          "base_uri": "https://localhost:8080/",
          "height": 34
        }
      },
      "source": [
        "f1 = 2 * (precision * recall) / (precision + recall)\n",
        "f1"
      ],
      "execution_count": 114,
      "outputs": [
        {
          "output_type": "execute_result",
          "data": {
            "text/plain": [
              "0.49551275587375215"
            ]
          },
          "metadata": {
            "tags": []
          },
          "execution_count": 114
        }
      ]
    },
    {
      "cell_type": "markdown",
      "metadata": {
        "collapsed": false,
        "id": "bH6nP0OG4Wu8",
        "colab_type": "text"
      },
      "source": [
        "## Деревья решений \n",
        "\n",
        "Уже по метрикам становится понятно, что продолжать работать дальше с этим методом бессмысленно."
      ]
    },
    {
      "cell_type": "code",
      "metadata": {
        "pycharm": {
          "name": "#%%\n"
        },
        "id": "iFRSMRQX4Wu9",
        "colab_type": "code",
        "colab": {}
      },
      "source": [
        "clf_T = DecisionTreeClassifier().fit(X_train_counts, test_data_short.Polarity)\n",
        "predicted_T = clf_T.predict(X_test)"
      ],
      "execution_count": 0,
      "outputs": []
    },
    {
      "cell_type": "code",
      "metadata": {
        "pycharm": {
          "name": "#%%\n"
        },
        "id": "nP-4f6mS4Wu_",
        "colab_type": "code",
        "outputId": "29ebbd29-d5af-4f47-ba37-45303656e124",
        "colab": {
          "base_uri": "https://localhost:8080/",
          "height": 85
        }
      },
      "source": [
        "acc = accuracy_score(predicted_T, test_data_short.Polarity)\n",
        "micro_f1 = f1_score(predicted_T, test_data_short.Polarity, average = 'micro')\n",
        "micro_p = precision_score(predicted_T, test_data_short.Polarity, average = 'micro')\n",
        "micro_r = recall_score(predicted_T, test_data_short.Polarity, average = 'micro')\n",
        "macro_f1 = f1_score(predicted_T, test_data_short.Polarity, average = 'macro')\n",
        "macro_p = precision_score(predicted_T, test_data_short.Polarity, average = 'macro')\n",
        "macro_r = recall_score(predicted_T, test_data_short.Polarity, average = 'macro')\n",
        "print('acc={0:1.4f}'.format(acc))\n",
        "print('micro F1={0:1.4f}, micro P={1:1.4f}, micro R={2:1.4f}'.format(micro_f1, micro_p, micro_r))\n",
        "print('macro F1={0:1.4f}, macro P={1:1.4f}, macro R={2:1.4f}\\n'.format(macro_f1, macro_p, macro_r))"
      ],
      "execution_count": 96,
      "outputs": [
        {
          "output_type": "stream",
          "text": [
            "acc=0.4908\n",
            "micro F1=0.4908, micro P=0.4908, micro R=0.4908\n",
            "macro F1=0.4908, macro P=0.4908, macro R=0.4908\n",
            "\n"
          ],
          "name": "stdout"
        }
      ]
    },
    {
      "cell_type": "code",
      "metadata": {
        "id": "KFnspLS3fFMt",
        "colab_type": "code",
        "colab": {}
      },
      "source": [
        "# test_data_short.drop('prediction_T', axis=1, inplace=True)"
      ],
      "execution_count": 0,
      "outputs": []
    },
    {
      "cell_type": "code",
      "metadata": {
        "id": "zV3hL7m2eyrU",
        "colab_type": "code",
        "colab": {}
      },
      "source": [
        "test_data_short.insert(loc=4, column='prediction_T', value=predicted_T)"
      ],
      "execution_count": 0,
      "outputs": []
    },
    {
      "cell_type": "code",
      "metadata": {
        "colab_type": "code",
        "id": "kRRHAIbfelgs",
        "colab": {}
      },
      "source": [
        "tp = len(test_data_short.loc[(test_data_short.Polarity == 1) & (test_data_short['prediction_T'] == 1)])\n",
        "fp = len(test_data_short.loc[(test_data_short.Polarity == 0) & (test_data_short['prediction_T'] == 1)])\n",
        "tn = len(test_data_short.loc[(test_data_short.Polarity == 0) & (test_data_short['prediction_T'] == 0)])\n",
        "fn = len(test_data_short.loc[(test_data_short.Polarity == 1) & (test_data_short['prediction_T'] == 0)])"
      ],
      "execution_count": 0,
      "outputs": []
    },
    {
      "cell_type": "code",
      "metadata": {
        "colab_type": "code",
        "outputId": "1898df43-f514-4d99-f242-145ab77f3bab",
        "id": "4pLX0X-Pelgw",
        "colab": {
          "base_uri": "https://localhost:8080/",
          "height": 34
        }
      },
      "source": [
        "precision = tp / (tp + fp)\n",
        "precision"
      ],
      "execution_count": 105,
      "outputs": [
        {
          "output_type": "execute_result",
          "data": {
            "text/plain": [
              "0.4902786129484867"
            ]
          },
          "metadata": {
            "tags": []
          },
          "execution_count": 105
        }
      ]
    },
    {
      "cell_type": "code",
      "metadata": {
        "colab_type": "code",
        "outputId": "deb0616a-464a-459f-ec48-589fb537e72a",
        "id": "Zlt8CeRlelg0",
        "colab": {
          "base_uri": "https://localhost:8080/",
          "height": 34
        }
      },
      "source": [
        "recall = tp / (tp + fn)\n",
        "recall"
      ],
      "execution_count": 106,
      "outputs": [
        {
          "output_type": "execute_result",
          "data": {
            "text/plain": [
              "0.4896896896896897"
            ]
          },
          "metadata": {
            "tags": []
          },
          "execution_count": 106
        }
      ]
    },
    {
      "cell_type": "code",
      "metadata": {
        "colab_type": "code",
        "outputId": "d1477369-44af-4951-a79b-a449434578ef",
        "id": "TqKmGaRzelhC",
        "colab": {
          "base_uri": "https://localhost:8080/",
          "height": 34
        }
      },
      "source": [
        "f1 = 2 * (precision * recall) / (precision + recall)\n",
        "f1"
      ],
      "execution_count": 107,
      "outputs": [
        {
          "output_type": "execute_result",
          "data": {
            "text/plain": [
              "0.4899839743589744"
            ]
          },
          "metadata": {
            "tags": []
          },
          "execution_count": 107
        }
      ]
    }
  ]
}