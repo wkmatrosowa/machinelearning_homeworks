{
  "nbformat": 4,
  "nbformat_minor": 0,
  "metadata": {
    "kernelspec": {
      "name": "python3",
      "display_name": "Python 3"
    },
    "language_info": {
      "codemirror_mode": {
        "name": "ipython",
        "version": 3
      },
      "file_extension": ".py",
      "mimetype": "text/x-python",
      "name": "python",
      "nbconvert_exporter": "python",
      "pygments_lexer": "ipython3",
      "version": "3.7.4"
    },
    "colab": {
      "name": "HW03_ML_validation.ipynb",
      "provenance": [],
      "collapsed_sections": [],
      "include_colab_link": true
    },
    "accelerator": "GPU"
  },
  "cells": [
    {
      "cell_type": "markdown",
      "metadata": {
        "id": "view-in-github",
        "colab_type": "text"
      },
      "source": [
        "<a href=\"https://colab.research.google.com/github/wksmirnowa/machinelearning_homeworks/blob/master/HW03_crossvalidation.ipynb\" target=\"_parent\"><img src=\"https://colab.research.google.com/assets/colab-badge.svg\" alt=\"Open In Colab\"/></a>"
      ]
    },
    {
      "cell_type": "code",
      "metadata": {
        "_cell_guid": "79c7e3d0-c299-4dcb-8224-4455121ee9b0",
        "_kg_hide-input": true,
        "_uuid": "d629ff2d2480ee46fbb7e2d37f6b5fab8052498a",
        "id": "gNqhEZ7dM0ij",
        "colab_type": "code",
        "outputId": "fd6a2b52-d27f-4989-bfaa-e3f7e89fa068",
        "colab": {
          "base_uri": "https://localhost:8080/",
          "height": 71
        }
      },
      "source": [
        "import time\n",
        "import datetime\n",
        "import numpy as np\n",
        "import pandas as pd\n",
        "pd.set_option('max_columns', None)\n",
        "import seaborn\n",
        "import plotly.offline as py\n",
        "py.init_notebook_mode(connected=True)\n",
        "import warnings\n",
        "warnings.filterwarnings('ignore')\n",
        "from pprint import pprint"
      ],
      "execution_count": 1,
      "outputs": [
        {
          "output_type": "stream",
          "text": [
            "/usr/local/lib/python3.6/dist-packages/statsmodels/tools/_testing.py:19: FutureWarning: pandas.util.testing is deprecated. Use the functions in the public API at pandas.testing instead.\n",
            "  import pandas.util.testing as tm\n"
          ],
          "name": "stderr"
        },
        {
          "output_type": "display_data",
          "data": {
            "text/html": [
              "        <script type=\"text/javascript\">\n",
              "        window.PlotlyConfig = {MathJaxConfig: 'local'};\n",
              "        if (window.MathJax) {MathJax.Hub.Config({SVG: {font: \"STIX-Web\"}});}\n",
              "        if (typeof require !== 'undefined') {\n",
              "        require.undef(\"plotly\");\n",
              "        requirejs.config({\n",
              "            paths: {\n",
              "                'plotly': ['https://cdn.plot.ly/plotly-latest.min']\n",
              "            }\n",
              "        });\n",
              "        require(['plotly'], function(Plotly) {\n",
              "            window._Plotly = Plotly;\n",
              "        });\n",
              "        }\n",
              "        </script>\n",
              "        "
            ]
          },
          "metadata": {
            "tags": []
          }
        }
      ]
    },
    {
      "cell_type": "code",
      "metadata": {
        "_cell_guid": "79c7e3d0-c299-4dcb-8224-4455121ee9b0",
        "_kg_hide-input": true,
        "_uuid": "d629ff2d2480ee46fbb7e2d37f6b5fab8052498a",
        "id": "VQDU81XzM0iq",
        "colab_type": "code",
        "colab": {}
      },
      "source": [
        "from scipy import stats\n",
        "from scipy.sparse import csr_matrix\n",
        "from sklearn import preprocessing\n",
        "from sklearn.model_selection import train_test_split, StratifiedKFold, KFold, cross_val_score, GridSearchCV, RepeatedStratifiedKFold\n",
        "from sklearn.preprocessing import StandardScaler\n",
        "from sklearn import model_selection\n",
        "from sklearn.metrics import *\n",
        "from sklearn import linear_model\n",
        "from sklearn.linear_model import LogisticRegression\n",
        "from sklearn.tree import DecisionTreeClassifier\n",
        "from sklearn.ensemble import RandomForestClassifier\n",
        "from sklearn.datasets import fetch_20newsgroups #импортируем корпус 20newsgroups\n",
        "from sklearn.datasets import make_classification\n",
        "from sklearn.feature_extraction.text import CountVectorizer\n"
      ],
      "execution_count": 0,
      "outputs": []
    },
    {
      "cell_type": "code",
      "metadata": {
        "id": "wRC4wlxzNIV0",
        "colab_type": "code",
        "outputId": "c9256e6a-ea9e-4f32-cae4-6a1cd8a44add",
        "colab": {
          "base_uri": "https://localhost:8080/",
          "height": 204
        }
      },
      "source": [
        "!pip install eli5"
      ],
      "execution_count": 3,
      "outputs": [
        {
          "output_type": "stream",
          "text": [
            "Requirement already satisfied: eli5 in /usr/local/lib/python3.6/dist-packages (0.10.1)\n",
            "Requirement already satisfied: six in /usr/local/lib/python3.6/dist-packages (from eli5) (1.12.0)\n",
            "Requirement already satisfied: scikit-learn>=0.18 in /usr/local/lib/python3.6/dist-packages (from eli5) (0.22.2.post1)\n",
            "Requirement already satisfied: attrs>16.0.0 in /usr/local/lib/python3.6/dist-packages (from eli5) (19.3.0)\n",
            "Requirement already satisfied: scipy in /usr/local/lib/python3.6/dist-packages (from eli5) (1.4.1)\n",
            "Requirement already satisfied: numpy>=1.9.0 in /usr/local/lib/python3.6/dist-packages (from eli5) (1.18.4)\n",
            "Requirement already satisfied: tabulate>=0.7.7 in /usr/local/lib/python3.6/dist-packages (from eli5) (0.8.7)\n",
            "Requirement already satisfied: jinja2 in /usr/local/lib/python3.6/dist-packages (from eli5) (2.11.2)\n",
            "Requirement already satisfied: graphviz in /usr/local/lib/python3.6/dist-packages (from eli5) (0.10.1)\n",
            "Requirement already satisfied: joblib>=0.11 in /usr/local/lib/python3.6/dist-packages (from scikit-learn>=0.18->eli5) (0.14.1)\n",
            "Requirement already satisfied: MarkupSafe>=0.23 in /usr/local/lib/python3.6/dist-packages (from jinja2->eli5) (1.1.1)\n"
          ],
          "name": "stdout"
        }
      ]
    },
    {
      "cell_type": "code",
      "metadata": {
        "_cell_guid": "79c7e3d0-c299-4dcb-8224-4455121ee9b0",
        "_kg_hide-input": true,
        "_uuid": "d629ff2d2480ee46fbb7e2d37f6b5fab8052498a",
        "id": "IvBvoekyM0iu",
        "colab_type": "code",
        "outputId": "bef4ffc3-a6e5-4005-9954-e5e8f0f94e78",
        "colab": {
          "base_uri": "https://localhost:8080/",
          "height": 34
        }
      },
      "source": [
        "import eli5"
      ],
      "execution_count": 3,
      "outputs": [
        {
          "output_type": "stream",
          "text": [
            "Using TensorFlow backend.\n"
          ],
          "name": "stderr"
        }
      ]
    },
    {
      "cell_type": "code",
      "metadata": {
        "id": "XZ4bwOhfPJid",
        "colab_type": "code",
        "colab": {}
      },
      "source": [
        "# # Если нужен доступ к данным из kaggle\n",
        "# !pip install -q kaggle\n",
        "# !mkdir -p ~/.kaggle\n",
        "# !cp kaggle.json ~/.kaggle/\n",
        "# !ls ~/.kaggle\n",
        "# !chmod 600 /root/.kaggle/kaggle.json"
      ],
      "execution_count": 0,
      "outputs": []
    },
    {
      "cell_type": "code",
      "metadata": {
        "id": "TKr2dLGcO_iX",
        "colab_type": "code",
        "colab": {}
      },
      "source": [
        "# !kaggle kernels pull artgor/how-to-not-overfit"
      ],
      "execution_count": 0,
      "outputs": []
    },
    {
      "cell_type": "markdown",
      "metadata": {
        "id": "M0_ANMEHlUuV",
        "colab_type": "text"
      },
      "source": [
        "Посмотрим на данные"
      ]
    },
    {
      "cell_type": "code",
      "metadata": {
        "id": "PF2jR0Afjzjo",
        "colab_type": "code",
        "outputId": "51e1a823-8d34-4b28-bf99-be2d181021e6",
        "colab": {
          "base_uri": "https://localhost:8080/",
          "height": 51
        }
      },
      "source": [
        "newsgroups_train = fetch_20newsgroups(subset='train')"
      ],
      "execution_count": 0,
      "outputs": [
        {
          "output_type": "stream",
          "text": [
            "Downloading 20news dataset. This may take a few minutes.\n",
            "Downloading dataset from https://ndownloader.figshare.com/files/5975967 (14 MB)\n"
          ],
          "name": "stderr"
        }
      ]
    },
    {
      "cell_type": "code",
      "metadata": {
        "id": "7rAl6R4HkpMd",
        "colab_type": "code",
        "outputId": "4c2ca7b4-027d-4e6d-8aff-385903d7be95",
        "colab": {
          "base_uri": "https://localhost:8080/",
          "height": 357
        }
      },
      "source": [
        "pprint(list(newsgroups_train.target_names))"
      ],
      "execution_count": 0,
      "outputs": [
        {
          "output_type": "stream",
          "text": [
            "['alt.atheism',\n",
            " 'comp.graphics',\n",
            " 'comp.os.ms-windows.misc',\n",
            " 'comp.sys.ibm.pc.hardware',\n",
            " 'comp.sys.mac.hardware',\n",
            " 'comp.windows.x',\n",
            " 'misc.forsale',\n",
            " 'rec.autos',\n",
            " 'rec.motorcycles',\n",
            " 'rec.sport.baseball',\n",
            " 'rec.sport.hockey',\n",
            " 'sci.crypt',\n",
            " 'sci.electronics',\n",
            " 'sci.med',\n",
            " 'sci.space',\n",
            " 'soc.religion.christian',\n",
            " 'talk.politics.guns',\n",
            " 'talk.politics.mideast',\n",
            " 'talk.politics.misc',\n",
            " 'talk.religion.misc']\n"
          ],
          "name": "stdout"
        }
      ]
    },
    {
      "cell_type": "markdown",
      "metadata": {
        "id": "KQz2jJBVlW-c",
        "colab_type": "text"
      },
      "source": [
        "Выберем 4 темы"
      ]
    },
    {
      "cell_type": "code",
      "metadata": {
        "id": "WayNJinHlDvD",
        "colab_type": "code",
        "colab": {}
      },
      "source": [
        "categories = ['sci.med', 'sci.space', 'sci.electronics', 'comp.graphics']\n",
        "data_train = fetch_20newsgroups(subset='train', categories=categories, shuffle=True, random_state=42)\n",
        "data_test = fetch_20newsgroups(subset='test', categories=categories, shuffle=True, random_state=42)"
      ],
      "execution_count": 0,
      "outputs": []
    },
    {
      "cell_type": "code",
      "metadata": {
        "id": "46iVRC4mloPG",
        "colab_type": "code",
        "outputId": "ef341b9d-4481-49bf-fd2f-27c2d67c8264",
        "colab": {
          "base_uri": "https://localhost:8080/",
          "height": 34
        }
      },
      "source": [
        "len(data_train.data), len(data_test.data)"
      ],
      "execution_count": 6,
      "outputs": [
        {
          "output_type": "execute_result",
          "data": {
            "text/plain": [
              "(2362, 1572)"
            ]
          },
          "metadata": {
            "tags": []
          },
          "execution_count": 6
        }
      ]
    },
    {
      "cell_type": "markdown",
      "metadata": {
        "id": "LKsI-aZXl5i6",
        "colab_type": "text"
      },
      "source": [
        "Векторизуем с помощью CountVectorizer, обучим несколько моделей сначала без кросс-валидации и оценим с помощью macro_f1. Также добавим функцию results для проверки на тесте и трейне. "
      ]
    },
    {
      "cell_type": "code",
      "metadata": {
        "id": "HXjw_-4xxUo1",
        "colab_type": "code",
        "colab": {}
      },
      "source": [
        "count_vect = CountVectorizer()\n",
        "y_train = data_train.target\n",
        "y_test = data_test.target\n",
        "X_train = count_vect.fit_transform(data_train.data) \n",
        "X_test = count_vect.transform(data_test.data) "
      ],
      "execution_count": 0,
      "outputs": []
    },
    {
      "cell_type": "code",
      "metadata": {
        "id": "O7KDBONZDHr6",
        "colab_type": "code",
        "colab": {}
      },
      "source": [
        "def show_macro_f1(true, predicted):\n",
        "  macro_f1 = f1_score(true, predicted, average = 'macro')\n",
        "  print('macro F1={0:1.4f}'.format(macro_f1))"
      ],
      "execution_count": 0,
      "outputs": []
    },
    {
      "cell_type": "code",
      "metadata": {
        "id": "IKxfUSP99hhy",
        "colab_type": "code",
        "colab": {}
      },
      "source": [
        "def results(model=None, X_train=X_train, X_test=X_test):\n",
        "  model_fit = model.fit(X_train, y_train)\n",
        "  train_preds = model_fit.predict_proba(X_train)[:, 1]\n",
        "  test_preds = model_fit.predict_proba(X_test)[:, 1]\n",
        "  print('result on train: {}'.format(f1_score(y_train, np.round(train_preds), average = 'macro')))\n",
        "  print('result on test: {}'.format(f1_score(y_test, np.round(test_preds), average = 'macro')))"
      ],
      "execution_count": 0,
      "outputs": []
    },
    {
      "cell_type": "markdown",
      "metadata": {
        "id": "0bdtkOuitTqt",
        "colab_type": "text"
      },
      "source": [
        "## Кросс-валидация"
      ]
    },
    {
      "cell_type": "code",
      "metadata": {
        "_uuid": "8f3eef02d6beac1b76f88c75bb842da9a313f592",
        "id": "5IONIe_3M0kG",
        "colab_type": "code",
        "colab": {}
      },
      "source": [
        "n_fold = 10\n",
        "folds = KFold(n_splits=n_fold, shuffle=True, random_state=0)\n",
        "stratified_folds = StratifiedKFold(n_splits=n_fold, shuffle=True, random_state=0)\n",
        "repeated_folds = RepeatedStratifiedKFold(n_splits=n_fold, n_repeats=20, random_state=0)"
      ],
      "execution_count": 0,
      "outputs": []
    },
    {
      "cell_type": "code",
      "metadata": {
        "id": "aWz0juoz_62M",
        "colab_type": "code",
        "colab": {}
      },
      "source": [
        "def make_grid_search(model=None, params_grid={'': []}, scoring='', n_jobs=0, folds=folds):\n",
        "  grid_search = GridSearchCV(model, param_grid=params_grid, cv=folds, scoring=scoring, n_jobs=n_jobs)\n",
        "  grid_search.fit(X_train, y_train)\n",
        "  print(f'Best score: {grid_search.best_score_}')\n",
        "  print(f'Best parameters: {grid_search.best_params_}')\n"
      ],
      "execution_count": 0,
      "outputs": []
    },
    {
      "cell_type": "markdown",
      "metadata": {
        "id": "CIsHkxQ3kEld",
        "colab_type": "text"
      },
      "source": [
        "## eli5"
      ]
    },
    {
      "cell_type": "code",
      "metadata": {
        "id": "D9SXeZZZ1qnL",
        "colab_type": "code",
        "colab": {}
      },
      "source": [
        "def get_word_by_index(feature):\n",
        "\n",
        "  index_to_word = {v:k for k, v in count_vect.vocabulary_.items()}\n",
        "  feature = int(feature.strip('x'))\n",
        "  return index_to_word[feature]\n",
        "\n",
        "def analyze_features(model=None, n=10, categories=categories):\n",
        "\n",
        "  if model == model_DT or model == best_model_DT:\n",
        "    explain_weights = eli5.formatters.as_dataframe.explain_decision_tree(model)\n",
        "\n",
        "  explain_weights = eli5.formatters.as_dataframe.explain_weights_df(model)\n",
        "\n",
        "  if 'target' not in explain_weights.columns:\n",
        "    explain_weights['word'] = explain_weights.feature.apply(get_word_by_index)\n",
        "    explain_weights = explain_weights.nlargest(n, 'weight')\n",
        "    explain_weights.reset_index(drop=True, inplace=True)\n",
        "\n",
        "    return explain_weights\n",
        "\n",
        "  target_features = []\n",
        "\n",
        "  for target in explain_weights.target.unique():\n",
        "    features = explain_weights.loc[explain_weights.target == target]\n",
        "    features = features.nlargest(n, 'weight')\n",
        "    features = features.loc[features.feature != '<BIAS>']\n",
        "    features['word'] = features.feature.apply(get_word_by_index)\n",
        "    features['category'] = categories[target]\n",
        "    target_features.append(features)\n",
        "\n",
        "  table = pd.concat(target_features, axis=0)\n",
        "  table.reset_index(drop=True, inplace=True)\n",
        "\n",
        "  return table"
      ],
      "execution_count": 0,
      "outputs": []
    },
    {
      "cell_type": "markdown",
      "metadata": {
        "id": "SNh-W6ers-LZ",
        "colab_type": "text"
      },
      "source": [
        "## Логистическая регрессия"
      ]
    },
    {
      "cell_type": "markdown",
      "metadata": {
        "id": "_8bMLHc-tXSf",
        "colab_type": "text"
      },
      "source": [
        "До применения кросс-валидации."
      ]
    },
    {
      "cell_type": "code",
      "metadata": {
        "id": "tkwsp5-_0I2j",
        "colab_type": "code",
        "colab": {}
      },
      "source": [
        "model_LR = LogisticRegression().fit(X_train, y_train)\n",
        "predicted_LR = model_LR.predict(X_test)"
      ],
      "execution_count": 0,
      "outputs": []
    },
    {
      "cell_type": "code",
      "metadata": {
        "id": "jxu4Cppy0RJE",
        "colab_type": "code",
        "outputId": "d979eacc-08fb-4e5c-cd46-3d46194de3b9",
        "colab": {
          "base_uri": "https://localhost:8080/",
          "height": 34
        }
      },
      "source": [
        "show_macro_f1(y_test, predicted_LR)"
      ],
      "execution_count": 113,
      "outputs": [
        {
          "output_type": "stream",
          "text": [
            "macro F1=0.8643\n"
          ],
          "name": "stdout"
        }
      ]
    },
    {
      "cell_type": "code",
      "metadata": {
        "id": "yI2dVGMUFpoZ",
        "colab_type": "code",
        "colab": {
          "base_uri": "https://localhost:8080/",
          "height": 51
        },
        "outputId": "92a9fc61-121e-4e8c-a04b-ee9bee946dde"
      },
      "source": [
        "results(model_LR)"
      ],
      "execution_count": 114,
      "outputs": [
        {
          "output_type": "stream",
          "text": [
            "result on train: 0.37399150743099785\n",
            "result on test: 0.32768927596034947\n"
          ],
          "name": "stdout"
        }
      ]
    },
    {
      "cell_type": "markdown",
      "metadata": {
        "id": "J0XQjJZttaHT",
        "colab_type": "text"
      },
      "source": [
        "После"
      ]
    },
    {
      "cell_type": "code",
      "metadata": {
        "id": "DnFKJiffEwUP",
        "colab_type": "code",
        "outputId": "31348b2a-6380-4082-a76c-5a70d8bdb986",
        "colab": {
          "base_uri": "https://localhost:8080/",
          "height": 1000
        }
      },
      "source": [
        "%%time\n",
        "\n",
        "LR = linear_model.LogisticRegression()\n",
        "parameters_LR = {'class_weight' : ['balanced', None],\n",
        "                  'penalty' : ['l2', 'l1'],\n",
        "                  'solver' : ['liblinear', 'saga'],\n",
        "                  'C' : [0.15, 1.0, 10.0, 100.0],\n",
        "                  'max_iter': [10,50,100]\n",
        "                 }\n",
        "\n",
        "make_grid_search(LR, parameters_LR, 'f1_macro')"
      ],
      "execution_count": 0,
      "outputs": [
        {
          "output_type": "stream",
          "text": [
            "Fitting 5 folds for each of 96 candidates, totalling 480 fits\n",
            "[CV] C=0.15, class_weight=balanced, max_iter=10, penalty=l2, solver=liblinear \n"
          ],
          "name": "stdout"
        },
        {
          "output_type": "stream",
          "text": [
            "[Parallel(n_jobs=1)]: Using backend SequentialBackend with 1 concurrent workers.\n"
          ],
          "name": "stderr"
        },
        {
          "output_type": "stream",
          "text": [
            "[CV]  C=0.15, class_weight=balanced, max_iter=10, penalty=l2, solver=liblinear, score=0.945, total=   0.5s\n",
            "[CV] C=0.15, class_weight=balanced, max_iter=10, penalty=l2, solver=liblinear \n"
          ],
          "name": "stdout"
        },
        {
          "output_type": "stream",
          "text": [
            "[Parallel(n_jobs=1)]: Done   1 out of   1 | elapsed:    0.5s remaining:    0.0s\n"
          ],
          "name": "stderr"
        },
        {
          "output_type": "stream",
          "text": [
            "[CV]  C=0.15, class_weight=balanced, max_iter=10, penalty=l2, solver=liblinear, score=0.932, total=   0.5s\n",
            "[CV] C=0.15, class_weight=balanced, max_iter=10, penalty=l2, solver=liblinear \n"
          ],
          "name": "stdout"
        },
        {
          "output_type": "stream",
          "text": [
            "[Parallel(n_jobs=1)]: Done   2 out of   2 | elapsed:    1.0s remaining:    0.0s\n"
          ],
          "name": "stderr"
        },
        {
          "output_type": "stream",
          "text": [
            "[CV]  C=0.15, class_weight=balanced, max_iter=10, penalty=l2, solver=liblinear, score=0.928, total=   0.6s\n",
            "[CV] C=0.15, class_weight=balanced, max_iter=10, penalty=l2, solver=liblinear \n"
          ],
          "name": "stdout"
        },
        {
          "output_type": "stream",
          "text": [
            "[Parallel(n_jobs=1)]: Done   3 out of   3 | elapsed:    1.6s remaining:    0.0s\n"
          ],
          "name": "stderr"
        },
        {
          "output_type": "stream",
          "text": [
            "[CV]  C=0.15, class_weight=balanced, max_iter=10, penalty=l2, solver=liblinear, score=0.928, total=   0.6s\n",
            "[CV] C=0.15, class_weight=balanced, max_iter=10, penalty=l2, solver=liblinear \n"
          ],
          "name": "stdout"
        },
        {
          "output_type": "stream",
          "text": [
            "[Parallel(n_jobs=1)]: Done   4 out of   4 | elapsed:    2.2s remaining:    0.0s\n"
          ],
          "name": "stderr"
        },
        {
          "output_type": "stream",
          "text": [
            "[CV]  C=0.15, class_weight=balanced, max_iter=10, penalty=l2, solver=liblinear, score=0.939, total=   0.5s\n",
            "[CV] C=0.15, class_weight=balanced, max_iter=10, penalty=l2, solver=saga \n",
            "[CV]  C=0.15, class_weight=balanced, max_iter=10, penalty=l2, solver=saga, score=0.539, total=   0.2s\n",
            "[CV] C=0.15, class_weight=balanced, max_iter=10, penalty=l2, solver=saga \n",
            "[CV]  C=0.15, class_weight=balanced, max_iter=10, penalty=l2, solver=saga, score=0.467, total=   0.1s\n",
            "[CV] C=0.15, class_weight=balanced, max_iter=10, penalty=l2, solver=saga \n",
            "[CV]  C=0.15, class_weight=balanced, max_iter=10, penalty=l2, solver=saga, score=0.506, total=   0.1s\n",
            "[CV] C=0.15, class_weight=balanced, max_iter=10, penalty=l2, solver=saga \n",
            "[CV]  C=0.15, class_weight=balanced, max_iter=10, penalty=l2, solver=saga, score=0.506, total=   0.1s\n",
            "[CV] C=0.15, class_weight=balanced, max_iter=10, penalty=l2, solver=saga \n",
            "[CV]  C=0.15, class_weight=balanced, max_iter=10, penalty=l2, solver=saga, score=0.496, total=   0.1s\n",
            "[CV] C=0.15, class_weight=balanced, max_iter=10, penalty=l1, solver=liblinear \n",
            "[CV]  C=0.15, class_weight=balanced, max_iter=10, penalty=l1, solver=liblinear, score=0.846, total=   0.2s\n",
            "[CV] C=0.15, class_weight=balanced, max_iter=10, penalty=l1, solver=liblinear \n",
            "[CV]  C=0.15, class_weight=balanced, max_iter=10, penalty=l1, solver=liblinear, score=0.873, total=   0.2s\n",
            "[CV] C=0.15, class_weight=balanced, max_iter=10, penalty=l1, solver=liblinear \n",
            "[CV]  C=0.15, class_weight=balanced, max_iter=10, penalty=l1, solver=liblinear, score=0.898, total=   0.2s\n",
            "[CV] C=0.15, class_weight=balanced, max_iter=10, penalty=l1, solver=liblinear \n",
            "[CV]  C=0.15, class_weight=balanced, max_iter=10, penalty=l1, solver=liblinear, score=0.896, total=   0.2s\n",
            "[CV] C=0.15, class_weight=balanced, max_iter=10, penalty=l1, solver=liblinear \n",
            "[CV]  C=0.15, class_weight=balanced, max_iter=10, penalty=l1, solver=liblinear, score=0.886, total=   0.2s\n",
            "[CV] C=0.15, class_weight=balanced, max_iter=10, penalty=l1, solver=saga \n",
            "[CV]  C=0.15, class_weight=balanced, max_iter=10, penalty=l1, solver=saga, score=0.522, total=   1.1s\n",
            "[CV] C=0.15, class_weight=balanced, max_iter=10, penalty=l1, solver=saga \n",
            "[CV]  C=0.15, class_weight=balanced, max_iter=10, penalty=l1, solver=saga, score=0.438, total=   1.1s\n",
            "[CV] C=0.15, class_weight=balanced, max_iter=10, penalty=l1, solver=saga \n",
            "[CV]  C=0.15, class_weight=balanced, max_iter=10, penalty=l1, solver=saga, score=0.483, total=   1.1s\n",
            "[CV] C=0.15, class_weight=balanced, max_iter=10, penalty=l1, solver=saga \n",
            "[CV]  C=0.15, class_weight=balanced, max_iter=10, penalty=l1, solver=saga, score=0.481, total=   1.1s\n",
            "[CV] C=0.15, class_weight=balanced, max_iter=10, penalty=l1, solver=saga \n",
            "[CV]  C=0.15, class_weight=balanced, max_iter=10, penalty=l1, solver=saga, score=0.479, total=   1.0s\n",
            "[CV] C=0.15, class_weight=balanced, max_iter=50, penalty=l2, solver=liblinear \n",
            "[CV]  C=0.15, class_weight=balanced, max_iter=50, penalty=l2, solver=liblinear, score=0.945, total=   0.6s\n",
            "[CV] C=0.15, class_weight=balanced, max_iter=50, penalty=l2, solver=liblinear \n",
            "[CV]  C=0.15, class_weight=balanced, max_iter=50, penalty=l2, solver=liblinear, score=0.934, total=   0.6s\n",
            "[CV] C=0.15, class_weight=balanced, max_iter=50, penalty=l2, solver=liblinear \n",
            "[CV]  C=0.15, class_weight=balanced, max_iter=50, penalty=l2, solver=liblinear, score=0.928, total=   0.6s\n",
            "[CV] C=0.15, class_weight=balanced, max_iter=50, penalty=l2, solver=liblinear \n",
            "[CV]  C=0.15, class_weight=balanced, max_iter=50, penalty=l2, solver=liblinear, score=0.930, total=   0.7s\n",
            "[CV] C=0.15, class_weight=balanced, max_iter=50, penalty=l2, solver=liblinear \n",
            "[CV]  C=0.15, class_weight=balanced, max_iter=50, penalty=l2, solver=liblinear, score=0.936, total=   0.7s\n",
            "[CV] C=0.15, class_weight=balanced, max_iter=50, penalty=l2, solver=saga \n",
            "[CV]  C=0.15, class_weight=balanced, max_iter=50, penalty=l2, solver=saga, score=0.658, total=   0.6s\n",
            "[CV] C=0.15, class_weight=balanced, max_iter=50, penalty=l2, solver=saga \n",
            "[CV]  C=0.15, class_weight=balanced, max_iter=50, penalty=l2, solver=saga, score=0.655, total=   0.5s\n",
            "[CV] C=0.15, class_weight=balanced, max_iter=50, penalty=l2, solver=saga \n",
            "[CV]  C=0.15, class_weight=balanced, max_iter=50, penalty=l2, solver=saga, score=0.693, total=   0.5s\n",
            "[CV] C=0.15, class_weight=balanced, max_iter=50, penalty=l2, solver=saga \n",
            "[CV]  C=0.15, class_weight=balanced, max_iter=50, penalty=l2, solver=saga, score=0.674, total=   0.5s\n",
            "[CV] C=0.15, class_weight=balanced, max_iter=50, penalty=l2, solver=saga \n",
            "[CV]  C=0.15, class_weight=balanced, max_iter=50, penalty=l2, solver=saga, score=0.710, total=   0.5s\n",
            "[CV] C=0.15, class_weight=balanced, max_iter=50, penalty=l1, solver=liblinear \n",
            "[CV]  C=0.15, class_weight=balanced, max_iter=50, penalty=l1, solver=liblinear, score=0.846, total=   0.3s\n",
            "[CV] C=0.15, class_weight=balanced, max_iter=50, penalty=l1, solver=liblinear \n",
            "[CV]  C=0.15, class_weight=balanced, max_iter=50, penalty=l1, solver=liblinear, score=0.869, total=   0.2s\n",
            "[CV] C=0.15, class_weight=balanced, max_iter=50, penalty=l1, solver=liblinear \n",
            "[CV]  C=0.15, class_weight=balanced, max_iter=50, penalty=l1, solver=liblinear, score=0.896, total=   0.2s\n",
            "[CV] C=0.15, class_weight=balanced, max_iter=50, penalty=l1, solver=liblinear \n",
            "[CV]  C=0.15, class_weight=balanced, max_iter=50, penalty=l1, solver=liblinear, score=0.894, total=   0.2s\n",
            "[CV] C=0.15, class_weight=balanced, max_iter=50, penalty=l1, solver=liblinear \n",
            "[CV]  C=0.15, class_weight=balanced, max_iter=50, penalty=l1, solver=liblinear, score=0.888, total=   0.2s\n",
            "[CV] C=0.15, class_weight=balanced, max_iter=50, penalty=l1, solver=saga \n",
            "[CV]  C=0.15, class_weight=balanced, max_iter=50, penalty=l1, solver=saga, score=0.605, total=   4.5s\n",
            "[CV] C=0.15, class_weight=balanced, max_iter=50, penalty=l1, solver=saga \n",
            "[CV]  C=0.15, class_weight=balanced, max_iter=50, penalty=l1, solver=saga, score=0.611, total=   4.5s\n",
            "[CV] C=0.15, class_weight=balanced, max_iter=50, penalty=l1, solver=saga \n",
            "[CV]  C=0.15, class_weight=balanced, max_iter=50, penalty=l1, solver=saga, score=0.636, total=   4.3s\n",
            "[CV] C=0.15, class_weight=balanced, max_iter=50, penalty=l1, solver=saga \n",
            "[CV]  C=0.15, class_weight=balanced, max_iter=50, penalty=l1, solver=saga, score=0.621, total=   4.5s\n",
            "[CV] C=0.15, class_weight=balanced, max_iter=50, penalty=l1, solver=saga \n",
            "[CV]  C=0.15, class_weight=balanced, max_iter=50, penalty=l1, solver=saga, score=0.653, total=   4.2s\n",
            "[CV] C=0.15, class_weight=balanced, max_iter=100, penalty=l2, solver=liblinear \n",
            "[CV]  C=0.15, class_weight=balanced, max_iter=100, penalty=l2, solver=liblinear, score=0.945, total=   0.6s\n",
            "[CV] C=0.15, class_weight=balanced, max_iter=100, penalty=l2, solver=liblinear \n",
            "[CV]  C=0.15, class_weight=balanced, max_iter=100, penalty=l2, solver=liblinear, score=0.934, total=   0.6s\n",
            "[CV] C=0.15, class_weight=balanced, max_iter=100, penalty=l2, solver=liblinear \n",
            "[CV]  C=0.15, class_weight=balanced, max_iter=100, penalty=l2, solver=liblinear, score=0.928, total=   0.6s\n",
            "[CV] C=0.15, class_weight=balanced, max_iter=100, penalty=l2, solver=liblinear \n",
            "[CV]  C=0.15, class_weight=balanced, max_iter=100, penalty=l2, solver=liblinear, score=0.930, total=   0.7s\n",
            "[CV] C=0.15, class_weight=balanced, max_iter=100, penalty=l2, solver=liblinear \n",
            "[CV]  C=0.15, class_weight=balanced, max_iter=100, penalty=l2, solver=liblinear, score=0.936, total=   0.7s\n",
            "[CV] C=0.15, class_weight=balanced, max_iter=100, penalty=l2, solver=saga \n",
            "[CV]  C=0.15, class_weight=balanced, max_iter=100, penalty=l2, solver=saga, score=0.755, total=   1.1s\n",
            "[CV] C=0.15, class_weight=balanced, max_iter=100, penalty=l2, solver=saga \n",
            "[CV]  C=0.15, class_weight=balanced, max_iter=100, penalty=l2, solver=saga, score=0.717, total=   1.0s\n",
            "[CV] C=0.15, class_weight=balanced, max_iter=100, penalty=l2, solver=saga \n",
            "[CV]  C=0.15, class_weight=balanced, max_iter=100, penalty=l2, solver=saga, score=0.767, total=   1.0s\n",
            "[CV] C=0.15, class_weight=balanced, max_iter=100, penalty=l2, solver=saga \n",
            "[CV]  C=0.15, class_weight=balanced, max_iter=100, penalty=l2, solver=saga, score=0.752, total=   1.1s\n",
            "[CV] C=0.15, class_weight=balanced, max_iter=100, penalty=l2, solver=saga \n",
            "[CV]  C=0.15, class_weight=balanced, max_iter=100, penalty=l2, solver=saga, score=0.744, total=   1.0s\n",
            "[CV] C=0.15, class_weight=balanced, max_iter=100, penalty=l1, solver=liblinear \n",
            "[CV]  C=0.15, class_weight=balanced, max_iter=100, penalty=l1, solver=liblinear, score=0.846, total=   0.2s\n",
            "[CV] C=0.15, class_weight=balanced, max_iter=100, penalty=l1, solver=liblinear \n",
            "[CV]  C=0.15, class_weight=balanced, max_iter=100, penalty=l1, solver=liblinear, score=0.869, total=   0.2s\n",
            "[CV] C=0.15, class_weight=balanced, max_iter=100, penalty=l1, solver=liblinear \n",
            "[CV]  C=0.15, class_weight=balanced, max_iter=100, penalty=l1, solver=liblinear, score=0.896, total=   0.3s\n",
            "[CV] C=0.15, class_weight=balanced, max_iter=100, penalty=l1, solver=liblinear \n",
            "[CV]  C=0.15, class_weight=balanced, max_iter=100, penalty=l1, solver=liblinear, score=0.894, total=   0.2s\n",
            "[CV] C=0.15, class_weight=balanced, max_iter=100, penalty=l1, solver=liblinear \n",
            "[CV]  C=0.15, class_weight=balanced, max_iter=100, penalty=l1, solver=liblinear, score=0.888, total=   0.2s\n",
            "[CV] C=0.15, class_weight=balanced, max_iter=100, penalty=l1, solver=saga \n",
            "[CV]  C=0.15, class_weight=balanced, max_iter=100, penalty=l1, solver=saga, score=0.666, total=   8.6s\n",
            "[CV] C=0.15, class_weight=balanced, max_iter=100, penalty=l1, solver=saga \n",
            "[CV]  C=0.15, class_weight=balanced, max_iter=100, penalty=l1, solver=saga, score=0.649, total=   8.5s\n",
            "[CV] C=0.15, class_weight=balanced, max_iter=100, penalty=l1, solver=saga \n",
            "[CV]  C=0.15, class_weight=balanced, max_iter=100, penalty=l1, solver=saga, score=0.712, total=   8.2s\n",
            "[CV] C=0.15, class_weight=balanced, max_iter=100, penalty=l1, solver=saga \n",
            "[CV]  C=0.15, class_weight=balanced, max_iter=100, penalty=l1, solver=saga, score=0.699, total=   8.1s\n",
            "[CV] C=0.15, class_weight=balanced, max_iter=100, penalty=l1, solver=saga \n",
            "[CV]  C=0.15, class_weight=balanced, max_iter=100, penalty=l1, solver=saga, score=0.697, total=   7.8s\n",
            "[CV] C=0.15, class_weight=None, max_iter=10, penalty=l2, solver=liblinear \n",
            "[CV]  C=0.15, class_weight=None, max_iter=10, penalty=l2, solver=liblinear, score=0.945, total=   0.6s\n",
            "[CV] C=0.15, class_weight=None, max_iter=10, penalty=l2, solver=liblinear \n",
            "[CV]  C=0.15, class_weight=None, max_iter=10, penalty=l2, solver=liblinear, score=0.930, total=   0.5s\n",
            "[CV] C=0.15, class_weight=None, max_iter=10, penalty=l2, solver=liblinear \n",
            "[CV]  C=0.15, class_weight=None, max_iter=10, penalty=l2, solver=liblinear, score=0.928, total=   0.5s\n",
            "[CV] C=0.15, class_weight=None, max_iter=10, penalty=l2, solver=liblinear \n",
            "[CV]  C=0.15, class_weight=None, max_iter=10, penalty=l2, solver=liblinear, score=0.930, total=   0.6s\n",
            "[CV] C=0.15, class_weight=None, max_iter=10, penalty=l2, solver=liblinear \n",
            "[CV]  C=0.15, class_weight=None, max_iter=10, penalty=l2, solver=liblinear, score=0.936, total=   0.6s\n",
            "[CV] C=0.15, class_weight=None, max_iter=10, penalty=l2, solver=saga .\n",
            "[CV]  C=0.15, class_weight=None, max_iter=10, penalty=l2, solver=saga, score=0.533, total=   0.2s\n",
            "[CV] C=0.15, class_weight=None, max_iter=10, penalty=l2, solver=saga .\n",
            "[CV]  C=0.15, class_weight=None, max_iter=10, penalty=l2, solver=saga, score=0.452, total=   0.1s\n",
            "[CV] C=0.15, class_weight=None, max_iter=10, penalty=l2, solver=saga .\n",
            "[CV]  C=0.15, class_weight=None, max_iter=10, penalty=l2, solver=saga, score=0.508, total=   0.1s\n",
            "[CV] C=0.15, class_weight=None, max_iter=10, penalty=l2, solver=saga .\n",
            "[CV]  C=0.15, class_weight=None, max_iter=10, penalty=l2, solver=saga, score=0.502, total=   0.1s\n",
            "[CV] C=0.15, class_weight=None, max_iter=10, penalty=l2, solver=saga .\n",
            "[CV]  C=0.15, class_weight=None, max_iter=10, penalty=l2, solver=saga, score=0.494, total=   0.1s\n",
            "[CV] C=0.15, class_weight=None, max_iter=10, penalty=l1, solver=liblinear \n",
            "[CV]  C=0.15, class_weight=None, max_iter=10, penalty=l1, solver=liblinear, score=0.848, total=   0.2s\n",
            "[CV] C=0.15, class_weight=None, max_iter=10, penalty=l1, solver=liblinear \n",
            "[CV]  C=0.15, class_weight=None, max_iter=10, penalty=l1, solver=liblinear, score=0.875, total=   0.1s\n",
            "[CV] C=0.15, class_weight=None, max_iter=10, penalty=l1, solver=liblinear \n",
            "[CV]  C=0.15, class_weight=None, max_iter=10, penalty=l1, solver=liblinear, score=0.896, total=   0.2s\n",
            "[CV] C=0.15, class_weight=None, max_iter=10, penalty=l1, solver=liblinear \n",
            "[CV]  C=0.15, class_weight=None, max_iter=10, penalty=l1, solver=liblinear, score=0.896, total=   0.2s\n",
            "[CV] C=0.15, class_weight=None, max_iter=10, penalty=l1, solver=liblinear \n",
            "[CV]  C=0.15, class_weight=None, max_iter=10, penalty=l1, solver=liblinear, score=0.886, total=   0.2s\n",
            "[CV] C=0.15, class_weight=None, max_iter=10, penalty=l1, solver=saga .\n",
            "[CV]  C=0.15, class_weight=None, max_iter=10, penalty=l1, solver=saga, score=0.510, total=   1.2s\n",
            "[CV] C=0.15, class_weight=None, max_iter=10, penalty=l1, solver=saga .\n",
            "[CV]  C=0.15, class_weight=None, max_iter=10, penalty=l1, solver=saga, score=0.431, total=   1.1s\n",
            "[CV] C=0.15, class_weight=None, max_iter=10, penalty=l1, solver=saga .\n",
            "[CV]  C=0.15, class_weight=None, max_iter=10, penalty=l1, solver=saga, score=0.475, total=   1.1s\n",
            "[CV] C=0.15, class_weight=None, max_iter=10, penalty=l1, solver=saga .\n",
            "[CV]  C=0.15, class_weight=None, max_iter=10, penalty=l1, solver=saga, score=0.489, total=   1.1s\n",
            "[CV] C=0.15, class_weight=None, max_iter=10, penalty=l1, solver=saga .\n",
            "[CV]  C=0.15, class_weight=None, max_iter=10, penalty=l1, solver=saga, score=0.462, total=   1.0s\n",
            "[CV] C=0.15, class_weight=None, max_iter=50, penalty=l2, solver=liblinear \n",
            "[CV]  C=0.15, class_weight=None, max_iter=50, penalty=l2, solver=liblinear, score=0.945, total=   0.6s\n",
            "[CV] C=0.15, class_weight=None, max_iter=50, penalty=l2, solver=liblinear \n",
            "[CV]  C=0.15, class_weight=None, max_iter=50, penalty=l2, solver=liblinear, score=0.934, total=   0.6s\n",
            "[CV] C=0.15, class_weight=None, max_iter=50, penalty=l2, solver=liblinear \n",
            "[CV]  C=0.15, class_weight=None, max_iter=50, penalty=l2, solver=liblinear, score=0.928, total=   0.5s\n",
            "[CV] C=0.15, class_weight=None, max_iter=50, penalty=l2, solver=liblinear \n",
            "[CV]  C=0.15, class_weight=None, max_iter=50, penalty=l2, solver=liblinear, score=0.930, total=   0.7s\n",
            "[CV] C=0.15, class_weight=None, max_iter=50, penalty=l2, solver=liblinear \n",
            "[CV]  C=0.15, class_weight=None, max_iter=50, penalty=l2, solver=liblinear, score=0.939, total=   0.7s\n",
            "[CV] C=0.15, class_weight=None, max_iter=50, penalty=l2, solver=saga .\n",
            "[CV]  C=0.15, class_weight=None, max_iter=50, penalty=l2, solver=saga, score=0.666, total=   0.5s\n",
            "[CV] C=0.15, class_weight=None, max_iter=50, penalty=l2, solver=saga .\n",
            "[CV]  C=0.15, class_weight=None, max_iter=50, penalty=l2, solver=saga, score=0.641, total=   0.5s\n",
            "[CV] C=0.15, class_weight=None, max_iter=50, penalty=l2, solver=saga .\n",
            "[CV]  C=0.15, class_weight=None, max_iter=50, penalty=l2, solver=saga, score=0.693, total=   0.5s\n",
            "[CV] C=0.15, class_weight=None, max_iter=50, penalty=l2, solver=saga .\n",
            "[CV]  C=0.15, class_weight=None, max_iter=50, penalty=l2, solver=saga, score=0.672, total=   0.5s\n",
            "[CV] C=0.15, class_weight=None, max_iter=50, penalty=l2, solver=saga .\n",
            "[CV]  C=0.15, class_weight=None, max_iter=50, penalty=l2, solver=saga, score=0.699, total=   0.6s\n",
            "[CV] C=0.15, class_weight=None, max_iter=50, penalty=l1, solver=liblinear \n",
            "[CV]  C=0.15, class_weight=None, max_iter=50, penalty=l1, solver=liblinear, score=0.846, total=   0.3s\n",
            "[CV] C=0.15, class_weight=None, max_iter=50, penalty=l1, solver=liblinear \n",
            "[CV]  C=0.15, class_weight=None, max_iter=50, penalty=l1, solver=liblinear, score=0.869, total=   0.3s\n",
            "[CV] C=0.15, class_weight=None, max_iter=50, penalty=l1, solver=liblinear \n",
            "[CV]  C=0.15, class_weight=None, max_iter=50, penalty=l1, solver=liblinear, score=0.896, total=   0.3s\n",
            "[CV] C=0.15, class_weight=None, max_iter=50, penalty=l1, solver=liblinear \n",
            "[CV]  C=0.15, class_weight=None, max_iter=50, penalty=l1, solver=liblinear, score=0.894, total=   0.2s\n",
            "[CV] C=0.15, class_weight=None, max_iter=50, penalty=l1, solver=liblinear \n",
            "[CV]  C=0.15, class_weight=None, max_iter=50, penalty=l1, solver=liblinear, score=0.890, total=   0.2s\n",
            "[CV] C=0.15, class_weight=None, max_iter=50, penalty=l1, solver=saga .\n",
            "[CV]  C=0.15, class_weight=None, max_iter=50, penalty=l1, solver=saga, score=0.613, total=   4.4s\n",
            "[CV] C=0.15, class_weight=None, max_iter=50, penalty=l1, solver=saga .\n",
            "[CV]  C=0.15, class_weight=None, max_iter=50, penalty=l1, solver=saga, score=0.594, total=   4.4s\n",
            "[CV] C=0.15, class_weight=None, max_iter=50, penalty=l1, solver=saga .\n",
            "[CV]  C=0.15, class_weight=None, max_iter=50, penalty=l1, solver=saga, score=0.636, total=   4.8s\n",
            "[CV] C=0.15, class_weight=None, max_iter=50, penalty=l1, solver=saga .\n",
            "[CV]  C=0.15, class_weight=None, max_iter=50, penalty=l1, solver=saga, score=0.614, total=   4.7s\n",
            "[CV] C=0.15, class_weight=None, max_iter=50, penalty=l1, solver=saga .\n",
            "[CV]  C=0.15, class_weight=None, max_iter=50, penalty=l1, solver=saga, score=0.644, total=   4.3s\n",
            "[CV] C=0.15, class_weight=None, max_iter=100, penalty=l2, solver=liblinear \n",
            "[CV]  C=0.15, class_weight=None, max_iter=100, penalty=l2, solver=liblinear, score=0.945, total=   0.6s\n",
            "[CV] C=0.15, class_weight=None, max_iter=100, penalty=l2, solver=liblinear \n",
            "[CV]  C=0.15, class_weight=None, max_iter=100, penalty=l2, solver=liblinear, score=0.934, total=   0.6s\n",
            "[CV] C=0.15, class_weight=None, max_iter=100, penalty=l2, solver=liblinear \n",
            "[CV]  C=0.15, class_weight=None, max_iter=100, penalty=l2, solver=liblinear, score=0.928, total=   0.6s\n",
            "[CV] C=0.15, class_weight=None, max_iter=100, penalty=l2, solver=liblinear \n",
            "[CV]  C=0.15, class_weight=None, max_iter=100, penalty=l2, solver=liblinear, score=0.930, total=   0.8s\n",
            "[CV] C=0.15, class_weight=None, max_iter=100, penalty=l2, solver=liblinear \n",
            "[CV]  C=0.15, class_weight=None, max_iter=100, penalty=l2, solver=liblinear, score=0.939, total=   0.7s\n",
            "[CV] C=0.15, class_weight=None, max_iter=100, penalty=l2, solver=saga \n",
            "[CV]  C=0.15, class_weight=None, max_iter=100, penalty=l2, solver=saga, score=0.751, total=   1.1s\n",
            "[CV] C=0.15, class_weight=None, max_iter=100, penalty=l2, solver=saga \n",
            "[CV]  C=0.15, class_weight=None, max_iter=100, penalty=l2, solver=saga, score=0.698, total=   1.0s\n",
            "[CV] C=0.15, class_weight=None, max_iter=100, penalty=l2, solver=saga \n",
            "[CV]  C=0.15, class_weight=None, max_iter=100, penalty=l2, solver=saga, score=0.765, total=   1.0s\n",
            "[CV] C=0.15, class_weight=None, max_iter=100, penalty=l2, solver=saga \n",
            "[CV]  C=0.15, class_weight=None, max_iter=100, penalty=l2, solver=saga, score=0.752, total=   1.0s\n",
            "[CV] C=0.15, class_weight=None, max_iter=100, penalty=l2, solver=saga \n",
            "[CV]  C=0.15, class_weight=None, max_iter=100, penalty=l2, solver=saga, score=0.744, total=   1.0s\n",
            "[CV] C=0.15, class_weight=None, max_iter=100, penalty=l1, solver=liblinear \n",
            "[CV]  C=0.15, class_weight=None, max_iter=100, penalty=l1, solver=liblinear, score=0.846, total=   0.2s\n",
            "[CV] C=0.15, class_weight=None, max_iter=100, penalty=l1, solver=liblinear \n",
            "[CV]  C=0.15, class_weight=None, max_iter=100, penalty=l1, solver=liblinear, score=0.867, total=   0.2s\n",
            "[CV] C=0.15, class_weight=None, max_iter=100, penalty=l1, solver=liblinear \n",
            "[CV]  C=0.15, class_weight=None, max_iter=100, penalty=l1, solver=liblinear, score=0.896, total=   0.3s\n",
            "[CV] C=0.15, class_weight=None, max_iter=100, penalty=l1, solver=liblinear \n",
            "[CV]  C=0.15, class_weight=None, max_iter=100, penalty=l1, solver=liblinear, score=0.894, total=   0.2s\n",
            "[CV] C=0.15, class_weight=None, max_iter=100, penalty=l1, solver=liblinear \n",
            "[CV]  C=0.15, class_weight=None, max_iter=100, penalty=l1, solver=liblinear, score=0.890, total=   0.2s\n",
            "[CV] C=0.15, class_weight=None, max_iter=100, penalty=l1, solver=saga \n",
            "[CV]  C=0.15, class_weight=None, max_iter=100, penalty=l1, solver=saga, score=0.670, total=   8.3s\n",
            "[CV] C=0.15, class_weight=None, max_iter=100, penalty=l1, solver=saga \n",
            "[CV]  C=0.15, class_weight=None, max_iter=100, penalty=l1, solver=saga, score=0.643, total=   8.4s\n",
            "[CV] C=0.15, class_weight=None, max_iter=100, penalty=l1, solver=saga \n",
            "[CV]  C=0.15, class_weight=None, max_iter=100, penalty=l1, solver=saga, score=0.706, total=   8.1s\n",
            "[CV] C=0.15, class_weight=None, max_iter=100, penalty=l1, solver=saga \n",
            "[CV]  C=0.15, class_weight=None, max_iter=100, penalty=l1, solver=saga, score=0.697, total=   8.3s\n",
            "[CV] C=0.15, class_weight=None, max_iter=100, penalty=l1, solver=saga \n",
            "[CV]  C=0.15, class_weight=None, max_iter=100, penalty=l1, solver=saga, score=0.693, total=   7.6s\n",
            "[CV] C=1.0, class_weight=balanced, max_iter=10, penalty=l2, solver=liblinear \n",
            "[CV]  C=1.0, class_weight=balanced, max_iter=10, penalty=l2, solver=liblinear, score=0.945, total=   0.6s\n",
            "[CV] C=1.0, class_weight=balanced, max_iter=10, penalty=l2, solver=liblinear \n",
            "[CV]  C=1.0, class_weight=balanced, max_iter=10, penalty=l2, solver=liblinear, score=0.928, total=   0.5s\n",
            "[CV] C=1.0, class_weight=balanced, max_iter=10, penalty=l2, solver=liblinear \n",
            "[CV]  C=1.0, class_weight=balanced, max_iter=10, penalty=l2, solver=liblinear, score=0.930, total=   0.5s\n",
            "[CV] C=1.0, class_weight=balanced, max_iter=10, penalty=l2, solver=liblinear \n",
            "[CV]  C=1.0, class_weight=balanced, max_iter=10, penalty=l2, solver=liblinear, score=0.928, total=   0.7s\n",
            "[CV] C=1.0, class_weight=balanced, max_iter=10, penalty=l2, solver=liblinear \n",
            "[CV]  C=1.0, class_weight=balanced, max_iter=10, penalty=l2, solver=liblinear, score=0.936, total=   0.6s\n",
            "[CV] C=1.0, class_weight=balanced, max_iter=10, penalty=l2, solver=saga \n",
            "[CV]  C=1.0, class_weight=balanced, max_iter=10, penalty=l2, solver=saga, score=0.535, total=   0.2s\n",
            "[CV] C=1.0, class_weight=balanced, max_iter=10, penalty=l2, solver=saga \n",
            "[CV]  C=1.0, class_weight=balanced, max_iter=10, penalty=l2, solver=saga, score=0.471, total=   0.1s\n",
            "[CV] C=1.0, class_weight=balanced, max_iter=10, penalty=l2, solver=saga \n",
            "[CV]  C=1.0, class_weight=balanced, max_iter=10, penalty=l2, solver=saga, score=0.504, total=   0.1s\n",
            "[CV] C=1.0, class_weight=balanced, max_iter=10, penalty=l2, solver=saga \n",
            "[CV]  C=1.0, class_weight=balanced, max_iter=10, penalty=l2, solver=saga, score=0.506, total=   0.1s\n",
            "[CV] C=1.0, class_weight=balanced, max_iter=10, penalty=l2, solver=saga \n",
            "[CV]  C=1.0, class_weight=balanced, max_iter=10, penalty=l2, solver=saga, score=0.500, total=   0.1s\n",
            "[CV] C=1.0, class_weight=balanced, max_iter=10, penalty=l1, solver=liblinear \n",
            "[CV]  C=1.0, class_weight=balanced, max_iter=10, penalty=l1, solver=liblinear, score=0.905, total=   0.2s\n",
            "[CV] C=1.0, class_weight=balanced, max_iter=10, penalty=l1, solver=liblinear \n",
            "[CV]  C=1.0, class_weight=balanced, max_iter=10, penalty=l1, solver=liblinear, score=0.907, total=   0.2s\n",
            "[CV] C=1.0, class_weight=balanced, max_iter=10, penalty=l1, solver=liblinear \n",
            "[CV]  C=1.0, class_weight=balanced, max_iter=10, penalty=l1, solver=liblinear, score=0.939, total=   0.2s\n",
            "[CV] C=1.0, class_weight=balanced, max_iter=10, penalty=l1, solver=liblinear \n",
            "[CV]  C=1.0, class_weight=balanced, max_iter=10, penalty=l1, solver=liblinear, score=0.922, total=   0.2s\n",
            "[CV] C=1.0, class_weight=balanced, max_iter=10, penalty=l1, solver=liblinear \n",
            "[CV]  C=1.0, class_weight=balanced, max_iter=10, penalty=l1, solver=liblinear, score=0.936, total=   0.2s\n",
            "[CV] C=1.0, class_weight=balanced, max_iter=10, penalty=l1, solver=saga \n",
            "[CV]  C=1.0, class_weight=balanced, max_iter=10, penalty=l1, solver=saga, score=0.535, total=   6.0s\n",
            "[CV] C=1.0, class_weight=balanced, max_iter=10, penalty=l1, solver=saga \n",
            "[CV]  C=1.0, class_weight=balanced, max_iter=10, penalty=l1, solver=saga, score=0.471, total=   6.0s\n",
            "[CV] C=1.0, class_weight=balanced, max_iter=10, penalty=l1, solver=saga \n",
            "[CV]  C=1.0, class_weight=balanced, max_iter=10, penalty=l1, solver=saga, score=0.500, total=   5.9s\n",
            "[CV] C=1.0, class_weight=balanced, max_iter=10, penalty=l1, solver=saga \n",
            "[CV]  C=1.0, class_weight=balanced, max_iter=10, penalty=l1, solver=saga, score=0.483, total=   6.0s\n",
            "[CV] C=1.0, class_weight=balanced, max_iter=10, penalty=l1, solver=saga \n",
            "[CV]  C=1.0, class_weight=balanced, max_iter=10, penalty=l1, solver=saga, score=0.496, total=   5.9s\n",
            "[CV] C=1.0, class_weight=balanced, max_iter=50, penalty=l2, solver=liblinear \n",
            "[CV]  C=1.0, class_weight=balanced, max_iter=50, penalty=l2, solver=liblinear, score=0.939, total=   0.8s\n",
            "[CV] C=1.0, class_weight=balanced, max_iter=50, penalty=l2, solver=liblinear \n",
            "[CV]  C=1.0, class_weight=balanced, max_iter=50, penalty=l2, solver=liblinear, score=0.930, total=   0.9s\n",
            "[CV] C=1.0, class_weight=balanced, max_iter=50, penalty=l2, solver=liblinear \n",
            "[CV]  C=1.0, class_weight=balanced, max_iter=50, penalty=l2, solver=liblinear, score=0.934, total=   0.7s\n",
            "[CV] C=1.0, class_weight=balanced, max_iter=50, penalty=l2, solver=liblinear \n",
            "[CV]  C=1.0, class_weight=balanced, max_iter=50, penalty=l2, solver=liblinear, score=0.928, total=   0.8s\n",
            "[CV] C=1.0, class_weight=balanced, max_iter=50, penalty=l2, solver=liblinear \n",
            "[CV]  C=1.0, class_weight=balanced, max_iter=50, penalty=l2, solver=liblinear, score=0.943, total=   0.8s\n",
            "[CV] C=1.0, class_weight=balanced, max_iter=50, penalty=l2, solver=saga \n",
            "[CV]  C=1.0, class_weight=balanced, max_iter=50, penalty=l2, solver=saga, score=0.658, total=   0.6s\n",
            "[CV] C=1.0, class_weight=balanced, max_iter=50, penalty=l2, solver=saga \n",
            "[CV]  C=1.0, class_weight=balanced, max_iter=50, penalty=l2, solver=saga, score=0.653, total=   0.5s\n",
            "[CV] C=1.0, class_weight=balanced, max_iter=50, penalty=l2, solver=saga \n",
            "[CV]  C=1.0, class_weight=balanced, max_iter=50, penalty=l2, solver=saga, score=0.693, total=   0.5s\n",
            "[CV] C=1.0, class_weight=balanced, max_iter=50, penalty=l2, solver=saga \n",
            "[CV]  C=1.0, class_weight=balanced, max_iter=50, penalty=l2, solver=saga, score=0.674, total=   0.6s\n",
            "[CV] C=1.0, class_weight=balanced, max_iter=50, penalty=l2, solver=saga \n",
            "[CV]  C=1.0, class_weight=balanced, max_iter=50, penalty=l2, solver=saga, score=0.710, total=   0.6s\n",
            "[CV] C=1.0, class_weight=balanced, max_iter=50, penalty=l1, solver=liblinear \n",
            "[CV]  C=1.0, class_weight=balanced, max_iter=50, penalty=l1, solver=liblinear, score=0.901, total=   6.1s\n",
            "[CV] C=1.0, class_weight=balanced, max_iter=50, penalty=l1, solver=liblinear \n",
            "[CV]  C=1.0, class_weight=balanced, max_iter=50, penalty=l1, solver=liblinear, score=0.903, total=   5.8s\n",
            "[CV] C=1.0, class_weight=balanced, max_iter=50, penalty=l1, solver=liblinear \n",
            "[CV]  C=1.0, class_weight=balanced, max_iter=50, penalty=l1, solver=liblinear, score=0.936, total=   0.3s\n",
            "[CV] C=1.0, class_weight=balanced, max_iter=50, penalty=l1, solver=liblinear \n",
            "[CV]  C=1.0, class_weight=balanced, max_iter=50, penalty=l1, solver=liblinear, score=0.919, total=   0.4s\n",
            "[CV] C=1.0, class_weight=balanced, max_iter=50, penalty=l1, solver=liblinear \n",
            "[CV]  C=1.0, class_weight=balanced, max_iter=50, penalty=l1, solver=liblinear, score=0.930, total=   5.6s\n",
            "[CV] C=1.0, class_weight=balanced, max_iter=50, penalty=l1, solver=saga \n",
            "[CV]  C=1.0, class_weight=balanced, max_iter=50, penalty=l1, solver=saga, score=0.649, total=  27.7s\n",
            "[CV] C=1.0, class_weight=balanced, max_iter=50, penalty=l1, solver=saga \n",
            "[CV]  C=1.0, class_weight=balanced, max_iter=50, penalty=l1, solver=saga, score=0.647, total=  27.0s\n",
            "[CV] C=1.0, class_weight=balanced, max_iter=50, penalty=l1, solver=saga \n",
            "[CV]  C=1.0, class_weight=balanced, max_iter=50, penalty=l1, solver=saga, score=0.680, total=  26.8s\n",
            "[CV] C=1.0, class_weight=balanced, max_iter=50, penalty=l1, solver=saga \n",
            "[CV]  C=1.0, class_weight=balanced, max_iter=50, penalty=l1, solver=saga, score=0.655, total=  28.0s\n",
            "[CV] C=1.0, class_weight=balanced, max_iter=50, penalty=l1, solver=saga \n",
            "[CV]  C=1.0, class_weight=balanced, max_iter=50, penalty=l1, solver=saga, score=0.699, total=  26.1s\n",
            "[CV] C=1.0, class_weight=balanced, max_iter=100, penalty=l2, solver=liblinear \n",
            "[CV]  C=1.0, class_weight=balanced, max_iter=100, penalty=l2, solver=liblinear, score=0.939, total=   0.8s\n",
            "[CV] C=1.0, class_weight=balanced, max_iter=100, penalty=l2, solver=liblinear \n",
            "[CV]  C=1.0, class_weight=balanced, max_iter=100, penalty=l2, solver=liblinear, score=0.930, total=   0.8s\n",
            "[CV] C=1.0, class_weight=balanced, max_iter=100, penalty=l2, solver=liblinear \n",
            "[CV]  C=1.0, class_weight=balanced, max_iter=100, penalty=l2, solver=liblinear, score=0.934, total=   0.7s\n",
            "[CV] C=1.0, class_weight=balanced, max_iter=100, penalty=l2, solver=liblinear \n",
            "[CV]  C=1.0, class_weight=balanced, max_iter=100, penalty=l2, solver=liblinear, score=0.928, total=   0.8s\n",
            "[CV] C=1.0, class_weight=balanced, max_iter=100, penalty=l2, solver=liblinear \n",
            "[CV]  C=1.0, class_weight=balanced, max_iter=100, penalty=l2, solver=liblinear, score=0.943, total=   0.8s\n",
            "[CV] C=1.0, class_weight=balanced, max_iter=100, penalty=l2, solver=saga \n",
            "[CV]  C=1.0, class_weight=balanced, max_iter=100, penalty=l2, solver=saga, score=0.751, total=   1.1s\n",
            "[CV] C=1.0, class_weight=balanced, max_iter=100, penalty=l2, solver=saga \n",
            "[CV]  C=1.0, class_weight=balanced, max_iter=100, penalty=l2, solver=saga, score=0.717, total=   1.1s\n",
            "[CV] C=1.0, class_weight=balanced, max_iter=100, penalty=l2, solver=saga \n",
            "[CV]  C=1.0, class_weight=balanced, max_iter=100, penalty=l2, solver=saga, score=0.767, total=   1.1s\n",
            "[CV] C=1.0, class_weight=balanced, max_iter=100, penalty=l2, solver=saga \n",
            "[CV]  C=1.0, class_weight=balanced, max_iter=100, penalty=l2, solver=saga, score=0.748, total=   1.1s\n",
            "[CV] C=1.0, class_weight=balanced, max_iter=100, penalty=l2, solver=saga \n",
            "[CV]  C=1.0, class_weight=balanced, max_iter=100, penalty=l2, solver=saga, score=0.744, total=   1.1s\n",
            "[CV] C=1.0, class_weight=balanced, max_iter=100, penalty=l1, solver=liblinear \n",
            "[CV]  C=1.0, class_weight=balanced, max_iter=100, penalty=l1, solver=liblinear, score=0.896, total=  12.6s\n",
            "[CV] C=1.0, class_weight=balanced, max_iter=100, penalty=l1, solver=liblinear \n",
            "[CV]  C=1.0, class_weight=balanced, max_iter=100, penalty=l1, solver=liblinear, score=0.903, total=  14.6s\n",
            "[CV] C=1.0, class_weight=balanced, max_iter=100, penalty=l1, solver=liblinear \n",
            "[CV]  C=1.0, class_weight=balanced, max_iter=100, penalty=l1, solver=liblinear, score=0.936, total=   0.3s\n",
            "[CV] C=1.0, class_weight=balanced, max_iter=100, penalty=l1, solver=liblinear \n",
            "[CV]  C=1.0, class_weight=balanced, max_iter=100, penalty=l1, solver=liblinear, score=0.919, total=   0.3s\n",
            "[CV] C=1.0, class_weight=balanced, max_iter=100, penalty=l1, solver=liblinear \n",
            "[CV]  C=1.0, class_weight=balanced, max_iter=100, penalty=l1, solver=liblinear, score=0.934, total=  12.3s\n",
            "[CV] C=1.0, class_weight=balanced, max_iter=100, penalty=l1, solver=saga \n",
            "[CV]  C=1.0, class_weight=balanced, max_iter=100, penalty=l1, solver=saga, score=0.742, total=  50.8s\n",
            "[CV] C=1.0, class_weight=balanced, max_iter=100, penalty=l1, solver=saga \n",
            "[CV]  C=1.0, class_weight=balanced, max_iter=100, penalty=l1, solver=saga, score=0.706, total=  50.7s\n",
            "[CV] C=1.0, class_weight=balanced, max_iter=100, penalty=l1, solver=saga \n",
            "[CV]  C=1.0, class_weight=balanced, max_iter=100, penalty=l1, solver=saga, score=0.748, total=  50.8s\n",
            "[CV] C=1.0, class_weight=balanced, max_iter=100, penalty=l1, solver=saga \n",
            "[CV]  C=1.0, class_weight=balanced, max_iter=100, penalty=l1, solver=saga, score=0.739, total=  51.0s\n",
            "[CV] C=1.0, class_weight=balanced, max_iter=100, penalty=l1, solver=saga \n",
            "[CV]  C=1.0, class_weight=balanced, max_iter=100, penalty=l1, solver=saga, score=0.735, total=  48.6s\n",
            "[CV] C=1.0, class_weight=None, max_iter=10, penalty=l2, solver=liblinear \n",
            "[CV]  C=1.0, class_weight=None, max_iter=10, penalty=l2, solver=liblinear, score=0.943, total=   0.6s\n",
            "[CV] C=1.0, class_weight=None, max_iter=10, penalty=l2, solver=liblinear \n",
            "[CV]  C=1.0, class_weight=None, max_iter=10, penalty=l2, solver=liblinear, score=0.928, total=   0.5s\n",
            "[CV] C=1.0, class_weight=None, max_iter=10, penalty=l2, solver=liblinear \n",
            "[CV]  C=1.0, class_weight=None, max_iter=10, penalty=l2, solver=liblinear, score=0.930, total=   0.6s\n",
            "[CV] C=1.0, class_weight=None, max_iter=10, penalty=l2, solver=liblinear \n",
            "[CV]  C=1.0, class_weight=None, max_iter=10, penalty=l2, solver=liblinear, score=0.928, total=   0.6s\n",
            "[CV] C=1.0, class_weight=None, max_iter=10, penalty=l2, solver=liblinear \n",
            "[CV]  C=1.0, class_weight=None, max_iter=10, penalty=l2, solver=liblinear, score=0.943, total=   0.6s\n",
            "[CV] C=1.0, class_weight=None, max_iter=10, penalty=l2, solver=saga ..\n",
            "[CV]  C=1.0, class_weight=None, max_iter=10, penalty=l2, solver=saga, score=0.543, total=   0.2s\n",
            "[CV] C=1.0, class_weight=None, max_iter=10, penalty=l2, solver=saga ..\n",
            "[CV]  C=1.0, class_weight=None, max_iter=10, penalty=l2, solver=saga, score=0.459, total=   0.1s\n",
            "[CV] C=1.0, class_weight=None, max_iter=10, penalty=l2, solver=saga ..\n",
            "[CV]  C=1.0, class_weight=None, max_iter=10, penalty=l2, solver=saga, score=0.508, total=   0.1s\n",
            "[CV] C=1.0, class_weight=None, max_iter=10, penalty=l2, solver=saga ..\n",
            "[CV]  C=1.0, class_weight=None, max_iter=10, penalty=l2, solver=saga, score=0.504, total=   0.1s\n",
            "[CV] C=1.0, class_weight=None, max_iter=10, penalty=l2, solver=saga ..\n",
            "[CV]  C=1.0, class_weight=None, max_iter=10, penalty=l2, solver=saga, score=0.496, total=   0.1s\n",
            "[CV] C=1.0, class_weight=None, max_iter=10, penalty=l1, solver=liblinear \n",
            "[CV]  C=1.0, class_weight=None, max_iter=10, penalty=l1, solver=liblinear, score=0.899, total=   0.2s\n",
            "[CV] C=1.0, class_weight=None, max_iter=10, penalty=l1, solver=liblinear \n",
            "[CV]  C=1.0, class_weight=None, max_iter=10, penalty=l1, solver=liblinear, score=0.909, total=   0.2s\n",
            "[CV] C=1.0, class_weight=None, max_iter=10, penalty=l1, solver=liblinear \n",
            "[CV]  C=1.0, class_weight=None, max_iter=10, penalty=l1, solver=liblinear, score=0.936, total=   0.2s\n",
            "[CV] C=1.0, class_weight=None, max_iter=10, penalty=l1, solver=liblinear \n",
            "[CV]  C=1.0, class_weight=None, max_iter=10, penalty=l1, solver=liblinear, score=0.922, total=   0.2s\n",
            "[CV] C=1.0, class_weight=None, max_iter=10, penalty=l1, solver=liblinear \n",
            "[CV]  C=1.0, class_weight=None, max_iter=10, penalty=l1, solver=liblinear, score=0.941, total=   0.2s\n",
            "[CV] C=1.0, class_weight=None, max_iter=10, penalty=l1, solver=saga ..\n",
            "[CV]  C=1.0, class_weight=None, max_iter=10, penalty=l1, solver=saga, score=0.518, total=   6.2s\n",
            "[CV] C=1.0, class_weight=None, max_iter=10, penalty=l1, solver=saga ..\n",
            "[CV]  C=1.0, class_weight=None, max_iter=10, penalty=l1, solver=saga, score=0.444, total=   6.1s\n",
            "[CV] C=1.0, class_weight=None, max_iter=10, penalty=l1, solver=saga ..\n",
            "[CV]  C=1.0, class_weight=None, max_iter=10, penalty=l1, solver=saga, score=0.494, total=   6.0s\n",
            "[CV] C=1.0, class_weight=None, max_iter=10, penalty=l1, solver=saga ..\n",
            "[CV]  C=1.0, class_weight=None, max_iter=10, penalty=l1, solver=saga, score=0.500, total=   6.2s\n",
            "[CV] C=1.0, class_weight=None, max_iter=10, penalty=l1, solver=saga ..\n",
            "[CV]  C=1.0, class_weight=None, max_iter=10, penalty=l1, solver=saga, score=0.483, total=   6.1s\n",
            "[CV] C=1.0, class_weight=None, max_iter=50, penalty=l2, solver=liblinear \n",
            "[CV]  C=1.0, class_weight=None, max_iter=50, penalty=l2, solver=liblinear, score=0.939, total=   0.7s\n",
            "[CV] C=1.0, class_weight=None, max_iter=50, penalty=l2, solver=liblinear \n",
            "[CV]  C=1.0, class_weight=None, max_iter=50, penalty=l2, solver=liblinear, score=0.930, total=   0.8s\n",
            "[CV] C=1.0, class_weight=None, max_iter=50, penalty=l2, solver=liblinear \n",
            "[CV]  C=1.0, class_weight=None, max_iter=50, penalty=l2, solver=liblinear, score=0.934, total=   0.6s\n",
            "[CV] C=1.0, class_weight=None, max_iter=50, penalty=l2, solver=liblinear \n",
            "[CV]  C=1.0, class_weight=None, max_iter=50, penalty=l2, solver=liblinear, score=0.928, total=   0.8s\n",
            "[CV] C=1.0, class_weight=None, max_iter=50, penalty=l2, solver=liblinear \n",
            "[CV]  C=1.0, class_weight=None, max_iter=50, penalty=l2, solver=liblinear, score=0.943, total=   0.7s\n",
            "[CV] C=1.0, class_weight=None, max_iter=50, penalty=l2, solver=saga ..\n",
            "[CV]  C=1.0, class_weight=None, max_iter=50, penalty=l2, solver=saga, score=0.666, total=   0.6s\n",
            "[CV] C=1.0, class_weight=None, max_iter=50, penalty=l2, solver=saga ..\n",
            "[CV]  C=1.0, class_weight=None, max_iter=50, penalty=l2, solver=saga, score=0.643, total=   0.5s\n",
            "[CV] C=1.0, class_weight=None, max_iter=50, penalty=l2, solver=saga ..\n",
            "[CV]  C=1.0, class_weight=None, max_iter=50, penalty=l2, solver=saga, score=0.693, total=   0.5s\n",
            "[CV] C=1.0, class_weight=None, max_iter=50, penalty=l2, solver=saga ..\n",
            "[CV]  C=1.0, class_weight=None, max_iter=50, penalty=l2, solver=saga, score=0.669, total=   0.5s\n",
            "[CV] C=1.0, class_weight=None, max_iter=50, penalty=l2, solver=saga ..\n",
            "[CV]  C=1.0, class_weight=None, max_iter=50, penalty=l2, solver=saga, score=0.699, total=   0.5s\n",
            "[CV] C=1.0, class_weight=None, max_iter=50, penalty=l1, solver=liblinear \n",
            "[CV]  C=1.0, class_weight=None, max_iter=50, penalty=l1, solver=liblinear, score=0.899, total=   0.6s\n",
            "[CV] C=1.0, class_weight=None, max_iter=50, penalty=l1, solver=liblinear \n",
            "[CV]  C=1.0, class_weight=None, max_iter=50, penalty=l1, solver=liblinear, score=0.905, total=   0.5s\n",
            "[CV] C=1.0, class_weight=None, max_iter=50, penalty=l1, solver=liblinear \n",
            "[CV]  C=1.0, class_weight=None, max_iter=50, penalty=l1, solver=liblinear, score=0.936, total=   0.3s\n",
            "[CV] C=1.0, class_weight=None, max_iter=50, penalty=l1, solver=liblinear \n",
            "[CV]  C=1.0, class_weight=None, max_iter=50, penalty=l1, solver=liblinear, score=0.919, total=   0.3s\n",
            "[CV] C=1.0, class_weight=None, max_iter=50, penalty=l1, solver=liblinear \n",
            "[CV]  C=1.0, class_weight=None, max_iter=50, penalty=l1, solver=liblinear, score=0.928, total=   0.6s\n",
            "[CV] C=1.0, class_weight=None, max_iter=50, penalty=l1, solver=saga ..\n",
            "[CV]  C=1.0, class_weight=None, max_iter=50, penalty=l1, solver=saga, score=0.655, total=  27.2s\n",
            "[CV] C=1.0, class_weight=None, max_iter=50, penalty=l1, solver=saga ..\n",
            "[CV]  C=1.0, class_weight=None, max_iter=50, penalty=l1, solver=saga, score=0.632, total=  27.1s\n",
            "[CV] C=1.0, class_weight=None, max_iter=50, penalty=l1, solver=saga ..\n",
            "[CV]  C=1.0, class_weight=None, max_iter=50, penalty=l1, solver=saga, score=0.682, total=  27.0s\n",
            "[CV] C=1.0, class_weight=None, max_iter=50, penalty=l1, solver=saga ..\n",
            "[CV]  C=1.0, class_weight=None, max_iter=50, penalty=l1, solver=saga, score=0.661, total=  27.7s\n",
            "[CV] C=1.0, class_weight=None, max_iter=50, penalty=l1, solver=saga ..\n",
            "[CV]  C=1.0, class_weight=None, max_iter=50, penalty=l1, solver=saga, score=0.684, total=  27.5s\n",
            "[CV] C=1.0, class_weight=None, max_iter=100, penalty=l2, solver=liblinear \n",
            "[CV]  C=1.0, class_weight=None, max_iter=100, penalty=l2, solver=liblinear, score=0.939, total=   0.8s\n",
            "[CV] C=1.0, class_weight=None, max_iter=100, penalty=l2, solver=liblinear \n",
            "[CV]  C=1.0, class_weight=None, max_iter=100, penalty=l2, solver=liblinear, score=0.930, total=   0.8s\n",
            "[CV] C=1.0, class_weight=None, max_iter=100, penalty=l2, solver=liblinear \n",
            "[CV]  C=1.0, class_weight=None, max_iter=100, penalty=l2, solver=liblinear, score=0.934, total=   0.7s\n",
            "[CV] C=1.0, class_weight=None, max_iter=100, penalty=l2, solver=liblinear \n",
            "[CV]  C=1.0, class_weight=None, max_iter=100, penalty=l2, solver=liblinear, score=0.928, total=   0.9s\n",
            "[CV] C=1.0, class_weight=None, max_iter=100, penalty=l2, solver=liblinear \n",
            "[CV]  C=1.0, class_weight=None, max_iter=100, penalty=l2, solver=liblinear, score=0.943, total=   0.8s\n",
            "[CV] C=1.0, class_weight=None, max_iter=100, penalty=l2, solver=saga .\n",
            "[CV]  C=1.0, class_weight=None, max_iter=100, penalty=l2, solver=saga, score=0.753, total=   1.1s\n",
            "[CV] C=1.0, class_weight=None, max_iter=100, penalty=l2, solver=saga .\n",
            "[CV]  C=1.0, class_weight=None, max_iter=100, penalty=l2, solver=saga, score=0.700, total=   1.0s\n",
            "[CV] C=1.0, class_weight=None, max_iter=100, penalty=l2, solver=saga .\n",
            "[CV]  C=1.0, class_weight=None, max_iter=100, penalty=l2, solver=saga, score=0.765, total=   1.0s\n",
            "[CV] C=1.0, class_weight=None, max_iter=100, penalty=l2, solver=saga .\n",
            "[CV]  C=1.0, class_weight=None, max_iter=100, penalty=l2, solver=saga, score=0.752, total=   1.0s\n",
            "[CV] C=1.0, class_weight=None, max_iter=100, penalty=l2, solver=saga .\n",
            "[CV]  C=1.0, class_weight=None, max_iter=100, penalty=l2, solver=saga, score=0.746, total=   1.0s\n",
            "[CV] C=1.0, class_weight=None, max_iter=100, penalty=l1, solver=liblinear \n",
            "[CV]  C=1.0, class_weight=None, max_iter=100, penalty=l1, solver=liblinear, score=0.901, total=   0.8s\n",
            "[CV] C=1.0, class_weight=None, max_iter=100, penalty=l1, solver=liblinear \n",
            "[CV]  C=1.0, class_weight=None, max_iter=100, penalty=l1, solver=liblinear, score=0.903, total=   0.8s\n",
            "[CV] C=1.0, class_weight=None, max_iter=100, penalty=l1, solver=liblinear \n",
            "[CV]  C=1.0, class_weight=None, max_iter=100, penalty=l1, solver=liblinear, score=0.936, total=   0.3s\n",
            "[CV] C=1.0, class_weight=None, max_iter=100, penalty=l1, solver=liblinear \n",
            "[CV]  C=1.0, class_weight=None, max_iter=100, penalty=l1, solver=liblinear, score=0.919, total=   0.3s\n",
            "[CV] C=1.0, class_weight=None, max_iter=100, penalty=l1, solver=liblinear \n",
            "[CV]  C=1.0, class_weight=None, max_iter=100, penalty=l1, solver=liblinear, score=0.926, total=   1.0s\n",
            "[CV] C=1.0, class_weight=None, max_iter=100, penalty=l1, solver=saga .\n",
            "[CV]  C=1.0, class_weight=None, max_iter=100, penalty=l1, solver=saga, score=0.742, total=  52.7s\n",
            "[CV] C=1.0, class_weight=None, max_iter=100, penalty=l1, solver=saga .\n",
            "[CV]  C=1.0, class_weight=None, max_iter=100, penalty=l1, solver=saga, score=0.696, total=  52.1s\n",
            "[CV] C=1.0, class_weight=None, max_iter=100, penalty=l1, solver=saga .\n",
            "[CV]  C=1.0, class_weight=None, max_iter=100, penalty=l1, solver=saga, score=0.750, total=  51.7s\n",
            "[CV] C=1.0, class_weight=None, max_iter=100, penalty=l1, solver=saga .\n",
            "[CV]  C=1.0, class_weight=None, max_iter=100, penalty=l1, solver=saga, score=0.746, total=  51.4s\n",
            "[CV] C=1.0, class_weight=None, max_iter=100, penalty=l1, solver=saga .\n",
            "[CV]  C=1.0, class_weight=None, max_iter=100, penalty=l1, solver=saga, score=0.735, total=  48.6s\n",
            "[CV] C=10.0, class_weight=balanced, max_iter=10, penalty=l2, solver=liblinear \n",
            "[CV]  C=10.0, class_weight=balanced, max_iter=10, penalty=l2, solver=liblinear, score=0.930, total=   0.6s\n",
            "[CV] C=10.0, class_weight=balanced, max_iter=10, penalty=l2, solver=liblinear \n",
            "[CV]  C=10.0, class_weight=balanced, max_iter=10, penalty=l2, solver=liblinear, score=0.926, total=   0.6s\n",
            "[CV] C=10.0, class_weight=balanced, max_iter=10, penalty=l2, solver=liblinear \n",
            "[CV]  C=10.0, class_weight=balanced, max_iter=10, penalty=l2, solver=liblinear, score=0.930, total=   0.5s\n",
            "[CV] C=10.0, class_weight=balanced, max_iter=10, penalty=l2, solver=liblinear \n",
            "[CV]  C=10.0, class_weight=balanced, max_iter=10, penalty=l2, solver=liblinear, score=0.917, total=   0.7s\n",
            "[CV] C=10.0, class_weight=balanced, max_iter=10, penalty=l2, solver=liblinear \n",
            "[CV]  C=10.0, class_weight=balanced, max_iter=10, penalty=l2, solver=liblinear, score=0.934, total=   0.5s\n",
            "[CV] C=10.0, class_weight=balanced, max_iter=10, penalty=l2, solver=saga \n",
            "[CV]  C=10.0, class_weight=balanced, max_iter=10, penalty=l2, solver=saga, score=0.543, total=   0.2s\n",
            "[CV] C=10.0, class_weight=balanced, max_iter=10, penalty=l2, solver=saga \n",
            "[CV]  C=10.0, class_weight=balanced, max_iter=10, penalty=l2, solver=saga, score=0.471, total=   0.1s\n",
            "[CV] C=10.0, class_weight=balanced, max_iter=10, penalty=l2, solver=saga \n",
            "[CV]  C=10.0, class_weight=balanced, max_iter=10, penalty=l2, solver=saga, score=0.517, total=   0.1s\n",
            "[CV] C=10.0, class_weight=balanced, max_iter=10, penalty=l2, solver=saga \n",
            "[CV]  C=10.0, class_weight=balanced, max_iter=10, penalty=l2, solver=saga, score=0.492, total=   0.1s\n",
            "[CV] C=10.0, class_weight=balanced, max_iter=10, penalty=l2, solver=saga \n",
            "[CV]  C=10.0, class_weight=balanced, max_iter=10, penalty=l2, solver=saga, score=0.500, total=   0.1s\n",
            "[CV] C=10.0, class_weight=balanced, max_iter=10, penalty=l1, solver=liblinear \n",
            "[CV]  C=10.0, class_weight=balanced, max_iter=10, penalty=l1, solver=liblinear, score=0.924, total=   0.2s\n",
            "[CV] C=10.0, class_weight=balanced, max_iter=10, penalty=l1, solver=liblinear \n",
            "[CV]  C=10.0, class_weight=balanced, max_iter=10, penalty=l1, solver=liblinear, score=0.934, total=   0.2s\n",
            "[CV] C=10.0, class_weight=balanced, max_iter=10, penalty=l1, solver=liblinear \n",
            "[CV]  C=10.0, class_weight=balanced, max_iter=10, penalty=l1, solver=liblinear, score=0.936, total=   0.2s\n",
            "[CV] C=10.0, class_weight=balanced, max_iter=10, penalty=l1, solver=liblinear \n",
            "[CV]  C=10.0, class_weight=balanced, max_iter=10, penalty=l1, solver=liblinear, score=0.926, total=   0.2s\n",
            "[CV] C=10.0, class_weight=balanced, max_iter=10, penalty=l1, solver=liblinear \n",
            "[CV]  C=10.0, class_weight=balanced, max_iter=10, penalty=l1, solver=liblinear, score=0.945, total=   0.2s\n",
            "[CV] C=10.0, class_weight=balanced, max_iter=10, penalty=l1, solver=saga \n",
            "[CV]  C=10.0, class_weight=balanced, max_iter=10, penalty=l1, solver=saga, score=0.541, total=  17.2s\n",
            "[CV] C=10.0, class_weight=balanced, max_iter=10, penalty=l1, solver=saga \n",
            "[CV]  C=10.0, class_weight=balanced, max_iter=10, penalty=l1, solver=saga, score=0.471, total=  16.6s\n",
            "[CV] C=10.0, class_weight=balanced, max_iter=10, penalty=l1, solver=saga \n",
            "[CV]  C=10.0, class_weight=balanced, max_iter=10, penalty=l1, solver=saga, score=0.508, total=  16.4s\n",
            "[CV] C=10.0, class_weight=balanced, max_iter=10, penalty=l1, solver=saga \n",
            "[CV]  C=10.0, class_weight=balanced, max_iter=10, penalty=l1, solver=saga, score=0.502, total=  16.8s\n",
            "[CV] C=10.0, class_weight=balanced, max_iter=10, penalty=l1, solver=saga \n",
            "[CV]  C=10.0, class_weight=balanced, max_iter=10, penalty=l1, solver=saga, score=0.498, total=  17.5s\n",
            "[CV] C=10.0, class_weight=balanced, max_iter=50, penalty=l2, solver=liblinear \n",
            "[CV]  C=10.0, class_weight=balanced, max_iter=50, penalty=l2, solver=liblinear, score=0.934, total=   0.9s\n",
            "[CV] C=10.0, class_weight=balanced, max_iter=50, penalty=l2, solver=liblinear \n",
            "[CV]  C=10.0, class_weight=balanced, max_iter=50, penalty=l2, solver=liblinear, score=0.930, total=   0.9s\n",
            "[CV] C=10.0, class_weight=balanced, max_iter=50, penalty=l2, solver=liblinear \n",
            "[CV]  C=10.0, class_weight=balanced, max_iter=50, penalty=l2, solver=liblinear, score=0.941, total=   0.9s\n",
            "[CV] C=10.0, class_weight=balanced, max_iter=50, penalty=l2, solver=liblinear \n",
            "[CV]  C=10.0, class_weight=balanced, max_iter=50, penalty=l2, solver=liblinear, score=0.928, total=   0.9s\n",
            "[CV] C=10.0, class_weight=balanced, max_iter=50, penalty=l2, solver=liblinear \n",
            "[CV]  C=10.0, class_weight=balanced, max_iter=50, penalty=l2, solver=liblinear, score=0.941, total=   0.9s\n",
            "[CV] C=10.0, class_weight=balanced, max_iter=50, penalty=l2, solver=saga \n",
            "[CV]  C=10.0, class_weight=balanced, max_iter=50, penalty=l2, solver=saga, score=0.664, total=   0.6s\n",
            "[CV] C=10.0, class_weight=balanced, max_iter=50, penalty=l2, solver=saga \n",
            "[CV]  C=10.0, class_weight=balanced, max_iter=50, penalty=l2, solver=saga, score=0.655, total=   0.5s\n",
            "[CV] C=10.0, class_weight=balanced, max_iter=50, penalty=l2, solver=saga \n",
            "[CV]  C=10.0, class_weight=balanced, max_iter=50, penalty=l2, solver=saga, score=0.693, total=   0.5s\n",
            "[CV] C=10.0, class_weight=balanced, max_iter=50, penalty=l2, solver=saga \n",
            "[CV]  C=10.0, class_weight=balanced, max_iter=50, penalty=l2, solver=saga, score=0.676, total=   0.5s\n",
            "[CV] C=10.0, class_weight=balanced, max_iter=50, penalty=l2, solver=saga \n",
            "[CV]  C=10.0, class_weight=balanced, max_iter=50, penalty=l2, solver=saga, score=0.712, total=   0.6s\n",
            "[CV] C=10.0, class_weight=balanced, max_iter=50, penalty=l1, solver=liblinear \n",
            "[CV]  C=10.0, class_weight=balanced, max_iter=50, penalty=l1, solver=liblinear, score=0.907, total=  17.9s\n",
            "[CV] C=10.0, class_weight=balanced, max_iter=50, penalty=l1, solver=liblinear \n",
            "[CV]  C=10.0, class_weight=balanced, max_iter=50, penalty=l1, solver=liblinear, score=0.920, total=  17.3s\n",
            "[CV] C=10.0, class_weight=balanced, max_iter=50, penalty=l1, solver=liblinear \n",
            "[CV]  C=10.0, class_weight=balanced, max_iter=50, penalty=l1, solver=liblinear, score=0.941, total=  10.9s\n",
            "[CV] C=10.0, class_weight=balanced, max_iter=50, penalty=l1, solver=liblinear \n",
            "[CV]  C=10.0, class_weight=balanced, max_iter=50, penalty=l1, solver=liblinear, score=0.928, total=  17.4s\n",
            "[CV] C=10.0, class_weight=balanced, max_iter=50, penalty=l1, solver=liblinear \n",
            "[CV]  C=10.0, class_weight=balanced, max_iter=50, penalty=l1, solver=liblinear, score=0.939, total=   9.9s\n",
            "[CV] C=10.0, class_weight=balanced, max_iter=50, penalty=l1, solver=saga \n",
            "[CV]  C=10.0, class_weight=balanced, max_iter=50, penalty=l1, solver=saga, score=0.658, total= 1.4min\n",
            "[CV] C=10.0, class_weight=balanced, max_iter=50, penalty=l1, solver=saga \n",
            "[CV]  C=10.0, class_weight=balanced, max_iter=50, penalty=l1, solver=saga, score=0.651, total= 1.4min\n",
            "[CV] C=10.0, class_weight=balanced, max_iter=50, penalty=l1, solver=saga \n",
            "[CV]  C=10.0, class_weight=balanced, max_iter=50, penalty=l1, solver=saga, score=0.691, total= 1.4min\n",
            "[CV] C=10.0, class_weight=balanced, max_iter=50, penalty=l1, solver=saga \n",
            "[CV]  C=10.0, class_weight=balanced, max_iter=50, penalty=l1, solver=saga, score=0.674, total= 1.4min\n",
            "[CV] C=10.0, class_weight=balanced, max_iter=50, penalty=l1, solver=saga \n",
            "[CV]  C=10.0, class_weight=balanced, max_iter=50, penalty=l1, solver=saga, score=0.710, total= 1.4min\n",
            "[CV] C=10.0, class_weight=balanced, max_iter=100, penalty=l2, solver=liblinear \n",
            "[CV]  C=10.0, class_weight=balanced, max_iter=100, penalty=l2, solver=liblinear, score=0.934, total=   0.9s\n",
            "[CV] C=10.0, class_weight=balanced, max_iter=100, penalty=l2, solver=liblinear \n",
            "[CV]  C=10.0, class_weight=balanced, max_iter=100, penalty=l2, solver=liblinear, score=0.930, total=   0.9s\n",
            "[CV] C=10.0, class_weight=balanced, max_iter=100, penalty=l2, solver=liblinear \n",
            "[CV]  C=10.0, class_weight=balanced, max_iter=100, penalty=l2, solver=liblinear, score=0.941, total=   0.9s\n",
            "[CV] C=10.0, class_weight=balanced, max_iter=100, penalty=l2, solver=liblinear \n",
            "[CV]  C=10.0, class_weight=balanced, max_iter=100, penalty=l2, solver=liblinear, score=0.928, total=   0.9s\n",
            "[CV] C=10.0, class_weight=balanced, max_iter=100, penalty=l2, solver=liblinear \n",
            "[CV]  C=10.0, class_weight=balanced, max_iter=100, penalty=l2, solver=liblinear, score=0.941, total=   0.9s\n",
            "[CV] C=10.0, class_weight=balanced, max_iter=100, penalty=l2, solver=saga \n",
            "[CV]  C=10.0, class_weight=balanced, max_iter=100, penalty=l2, solver=saga, score=0.751, total=   1.2s\n",
            "[CV] C=10.0, class_weight=balanced, max_iter=100, penalty=l2, solver=saga \n",
            "[CV]  C=10.0, class_weight=balanced, max_iter=100, penalty=l2, solver=saga, score=0.717, total=   1.1s\n",
            "[CV] C=10.0, class_weight=balanced, max_iter=100, penalty=l2, solver=saga \n",
            "[CV]  C=10.0, class_weight=balanced, max_iter=100, penalty=l2, solver=saga, score=0.767, total=   1.1s\n",
            "[CV] C=10.0, class_weight=balanced, max_iter=100, penalty=l2, solver=saga \n",
            "[CV]  C=10.0, class_weight=balanced, max_iter=100, penalty=l2, solver=saga, score=0.750, total=   1.1s\n",
            "[CV] C=10.0, class_weight=balanced, max_iter=100, penalty=l2, solver=saga \n",
            "[CV]  C=10.0, class_weight=balanced, max_iter=100, penalty=l2, solver=saga, score=0.744, total=   1.1s\n",
            "[CV] C=10.0, class_weight=balanced, max_iter=100, penalty=l1, solver=liblinear \n",
            "[CV]  C=10.0, class_weight=balanced, max_iter=100, penalty=l1, solver=liblinear, score=0.901, total=  39.7s\n",
            "[CV] C=10.0, class_weight=balanced, max_iter=100, penalty=l1, solver=liblinear \n",
            "[CV]  C=10.0, class_weight=balanced, max_iter=100, penalty=l1, solver=liblinear, score=0.918, total=  38.7s\n",
            "[CV] C=10.0, class_weight=balanced, max_iter=100, penalty=l1, solver=liblinear \n",
            "[CV]  C=10.0, class_weight=balanced, max_iter=100, penalty=l1, solver=liblinear, score=0.939, total=  20.4s\n",
            "[CV] C=10.0, class_weight=balanced, max_iter=100, penalty=l1, solver=liblinear \n",
            "[CV]  C=10.0, class_weight=balanced, max_iter=100, penalty=l1, solver=liblinear, score=0.930, total=  38.9s\n",
            "[CV] C=10.0, class_weight=balanced, max_iter=100, penalty=l1, solver=liblinear \n",
            "[CV]  C=10.0, class_weight=balanced, max_iter=100, penalty=l1, solver=liblinear, score=0.941, total=  22.8s\n",
            "[CV] C=10.0, class_weight=balanced, max_iter=100, penalty=l1, solver=saga \n",
            "[CV]  C=10.0, class_weight=balanced, max_iter=100, penalty=l1, solver=saga, score=0.753, total= 2.7min\n",
            "[CV] C=10.0, class_weight=balanced, max_iter=100, penalty=l1, solver=saga \n",
            "[CV]  C=10.0, class_weight=balanced, max_iter=100, penalty=l1, solver=saga, score=0.719, total= 2.7min\n",
            "[CV] C=10.0, class_weight=balanced, max_iter=100, penalty=l1, solver=saga \n",
            "[CV]  C=10.0, class_weight=balanced, max_iter=100, penalty=l1, solver=saga, score=0.767, total= 2.6min\n",
            "[CV] C=10.0, class_weight=balanced, max_iter=100, penalty=l1, solver=saga \n",
            "[CV]  C=10.0, class_weight=balanced, max_iter=100, penalty=l1, solver=saga, score=0.746, total= 2.6min\n",
            "[CV] C=10.0, class_weight=balanced, max_iter=100, penalty=l1, solver=saga \n",
            "[CV]  C=10.0, class_weight=balanced, max_iter=100, penalty=l1, solver=saga, score=0.742, total= 2.7min\n",
            "[CV] C=10.0, class_weight=None, max_iter=10, penalty=l2, solver=liblinear \n",
            "[CV]  C=10.0, class_weight=None, max_iter=10, penalty=l2, solver=liblinear, score=0.928, total=   0.6s\n",
            "[CV] C=10.0, class_weight=None, max_iter=10, penalty=l2, solver=liblinear \n",
            "[CV]  C=10.0, class_weight=None, max_iter=10, penalty=l2, solver=liblinear, score=0.928, total=   0.5s\n",
            "[CV] C=10.0, class_weight=None, max_iter=10, penalty=l2, solver=liblinear \n",
            "[CV]  C=10.0, class_weight=None, max_iter=10, penalty=l2, solver=liblinear, score=0.932, total=   0.6s\n",
            "[CV] C=10.0, class_weight=None, max_iter=10, penalty=l2, solver=liblinear \n",
            "[CV]  C=10.0, class_weight=None, max_iter=10, penalty=l2, solver=liblinear, score=0.919, total=   0.6s\n",
            "[CV] C=10.0, class_weight=None, max_iter=10, penalty=l2, solver=liblinear \n",
            "[CV]  C=10.0, class_weight=None, max_iter=10, penalty=l2, solver=liblinear, score=0.936, total=   0.6s\n",
            "[CV] C=10.0, class_weight=None, max_iter=10, penalty=l2, solver=saga .\n",
            "[CV]  C=10.0, class_weight=None, max_iter=10, penalty=l2, solver=saga, score=0.533, total=   0.2s\n",
            "[CV] C=10.0, class_weight=None, max_iter=10, penalty=l2, solver=saga .\n",
            "[CV]  C=10.0, class_weight=None, max_iter=10, penalty=l2, solver=saga, score=0.461, total=   0.1s\n",
            "[CV] C=10.0, class_weight=None, max_iter=10, penalty=l2, solver=saga .\n",
            "[CV]  C=10.0, class_weight=None, max_iter=10, penalty=l2, solver=saga, score=0.517, total=   0.1s\n",
            "[CV] C=10.0, class_weight=None, max_iter=10, penalty=l2, solver=saga .\n",
            "[CV]  C=10.0, class_weight=None, max_iter=10, penalty=l2, solver=saga, score=0.500, total=   0.1s\n",
            "[CV] C=10.0, class_weight=None, max_iter=10, penalty=l2, solver=saga .\n",
            "[CV]  C=10.0, class_weight=None, max_iter=10, penalty=l2, solver=saga, score=0.500, total=   0.1s\n",
            "[CV] C=10.0, class_weight=None, max_iter=10, penalty=l1, solver=liblinear \n",
            "[CV]  C=10.0, class_weight=None, max_iter=10, penalty=l1, solver=liblinear, score=0.926, total=   0.2s\n",
            "[CV] C=10.0, class_weight=None, max_iter=10, penalty=l1, solver=liblinear \n",
            "[CV]  C=10.0, class_weight=None, max_iter=10, penalty=l1, solver=liblinear, score=0.939, total=   0.2s\n",
            "[CV] C=10.0, class_weight=None, max_iter=10, penalty=l1, solver=liblinear \n",
            "[CV]  C=10.0, class_weight=None, max_iter=10, penalty=l1, solver=liblinear, score=0.936, total=   0.2s\n",
            "[CV] C=10.0, class_weight=None, max_iter=10, penalty=l1, solver=liblinear \n",
            "[CV]  C=10.0, class_weight=None, max_iter=10, penalty=l1, solver=liblinear, score=0.924, total=   0.2s\n",
            "[CV] C=10.0, class_weight=None, max_iter=10, penalty=l1, solver=liblinear \n",
            "[CV]  C=10.0, class_weight=None, max_iter=10, penalty=l1, solver=liblinear, score=0.943, total=   0.2s\n",
            "[CV] C=10.0, class_weight=None, max_iter=10, penalty=l1, solver=saga .\n",
            "[CV]  C=10.0, class_weight=None, max_iter=10, penalty=l1, solver=saga, score=0.545, total=  17.0s\n",
            "[CV] C=10.0, class_weight=None, max_iter=10, penalty=l1, solver=saga .\n",
            "[CV]  C=10.0, class_weight=None, max_iter=10, penalty=l1, solver=saga, score=0.452, total=  16.8s\n",
            "[CV] C=10.0, class_weight=None, max_iter=10, penalty=l1, solver=saga .\n",
            "[CV]  C=10.0, class_weight=None, max_iter=10, penalty=l1, solver=saga, score=0.521, total=  16.1s\n",
            "[CV] C=10.0, class_weight=None, max_iter=10, penalty=l1, solver=saga .\n",
            "[CV]  C=10.0, class_weight=None, max_iter=10, penalty=l1, solver=saga, score=0.494, total=  16.7s\n",
            "[CV] C=10.0, class_weight=None, max_iter=10, penalty=l1, solver=saga .\n",
            "[CV]  C=10.0, class_weight=None, max_iter=10, penalty=l1, solver=saga, score=0.492, total=  16.8s\n",
            "[CV] C=10.0, class_weight=None, max_iter=50, penalty=l2, solver=liblinear \n",
            "[CV]  C=10.0, class_weight=None, max_iter=50, penalty=l2, solver=liblinear, score=0.932, total=   0.8s\n",
            "[CV] C=10.0, class_weight=None, max_iter=50, penalty=l2, solver=liblinear \n",
            "[CV]  C=10.0, class_weight=None, max_iter=50, penalty=l2, solver=liblinear, score=0.930, total=   0.9s\n",
            "[CV] C=10.0, class_weight=None, max_iter=50, penalty=l2, solver=liblinear \n",
            "[CV]  C=10.0, class_weight=None, max_iter=50, penalty=l2, solver=liblinear, score=0.941, total=   0.8s\n",
            "[CV] C=10.0, class_weight=None, max_iter=50, penalty=l2, solver=liblinear \n",
            "[CV]  C=10.0, class_weight=None, max_iter=50, penalty=l2, solver=liblinear, score=0.928, total=   0.8s\n",
            "[CV] C=10.0, class_weight=None, max_iter=50, penalty=l2, solver=liblinear \n",
            "[CV]  C=10.0, class_weight=None, max_iter=50, penalty=l2, solver=liblinear, score=0.941, total=   0.8s\n",
            "[CV] C=10.0, class_weight=None, max_iter=50, penalty=l2, solver=saga .\n",
            "[CV]  C=10.0, class_weight=None, max_iter=50, penalty=l2, solver=saga, score=0.666, total=   0.6s\n",
            "[CV] C=10.0, class_weight=None, max_iter=50, penalty=l2, solver=saga .\n",
            "[CV]  C=10.0, class_weight=None, max_iter=50, penalty=l2, solver=saga, score=0.645, total=   0.5s\n",
            "[CV] C=10.0, class_weight=None, max_iter=50, penalty=l2, solver=saga .\n",
            "[CV]  C=10.0, class_weight=None, max_iter=50, penalty=l2, solver=saga, score=0.689, total=   0.5s\n",
            "[CV] C=10.0, class_weight=None, max_iter=50, penalty=l2, solver=saga .\n",
            "[CV]  C=10.0, class_weight=None, max_iter=50, penalty=l2, solver=saga, score=0.667, total=   0.5s\n",
            "[CV] C=10.0, class_weight=None, max_iter=50, penalty=l2, solver=saga .\n",
            "[CV]  C=10.0, class_weight=None, max_iter=50, penalty=l2, solver=saga, score=0.697, total=   0.5s\n",
            "[CV] C=10.0, class_weight=None, max_iter=50, penalty=l1, solver=liblinear \n",
            "[CV]  C=10.0, class_weight=None, max_iter=50, penalty=l1, solver=liblinear, score=0.899, total=  14.7s\n",
            "[CV] C=10.0, class_weight=None, max_iter=50, penalty=l1, solver=liblinear \n",
            "[CV]  C=10.0, class_weight=None, max_iter=50, penalty=l1, solver=liblinear, score=0.926, total=  19.3s\n",
            "[CV] C=10.0, class_weight=None, max_iter=50, penalty=l1, solver=liblinear \n",
            "[CV]  C=10.0, class_weight=None, max_iter=50, penalty=l1, solver=liblinear, score=0.945, total=   9.3s\n",
            "[CV] C=10.0, class_weight=None, max_iter=50, penalty=l1, solver=liblinear \n",
            "[CV]  C=10.0, class_weight=None, max_iter=50, penalty=l1, solver=liblinear, score=0.928, total=  15.8s\n",
            "[CV] C=10.0, class_weight=None, max_iter=50, penalty=l1, solver=liblinear \n",
            "[CV]  C=10.0, class_weight=None, max_iter=50, penalty=l1, solver=liblinear, score=0.939, total=  10.4s\n",
            "[CV] C=10.0, class_weight=None, max_iter=50, penalty=l1, solver=saga .\n",
            "[CV]  C=10.0, class_weight=None, max_iter=50, penalty=l1, solver=saga, score=0.664, total= 1.4min\n",
            "[CV] C=10.0, class_weight=None, max_iter=50, penalty=l1, solver=saga .\n",
            "[CV]  C=10.0, class_weight=None, max_iter=50, penalty=l1, solver=saga, score=0.641, total= 1.4min\n",
            "[CV] C=10.0, class_weight=None, max_iter=50, penalty=l1, solver=saga .\n",
            "[CV]  C=10.0, class_weight=None, max_iter=50, penalty=l1, solver=saga, score=0.691, total= 1.4min\n",
            "[CV] C=10.0, class_weight=None, max_iter=50, penalty=l1, solver=saga .\n",
            "[CV]  C=10.0, class_weight=None, max_iter=50, penalty=l1, solver=saga, score=0.667, total= 1.4min\n",
            "[CV] C=10.0, class_weight=None, max_iter=50, penalty=l1, solver=saga .\n",
            "[CV]  C=10.0, class_weight=None, max_iter=50, penalty=l1, solver=saga, score=0.699, total= 1.4min\n",
            "[CV] C=10.0, class_weight=None, max_iter=100, penalty=l2, solver=liblinear \n",
            "[CV]  C=10.0, class_weight=None, max_iter=100, penalty=l2, solver=liblinear, score=0.932, total=   0.9s\n",
            "[CV] C=10.0, class_weight=None, max_iter=100, penalty=l2, solver=liblinear \n",
            "[CV]  C=10.0, class_weight=None, max_iter=100, penalty=l2, solver=liblinear, score=0.930, total=   0.9s\n",
            "[CV] C=10.0, class_weight=None, max_iter=100, penalty=l2, solver=liblinear \n",
            "[CV]  C=10.0, class_weight=None, max_iter=100, penalty=l2, solver=liblinear, score=0.941, total=   0.8s\n",
            "[CV] C=10.0, class_weight=None, max_iter=100, penalty=l2, solver=liblinear \n",
            "[CV]  C=10.0, class_weight=None, max_iter=100, penalty=l2, solver=liblinear, score=0.928, total=   0.8s\n",
            "[CV] C=10.0, class_weight=None, max_iter=100, penalty=l2, solver=liblinear \n",
            "[CV]  C=10.0, class_weight=None, max_iter=100, penalty=l2, solver=liblinear, score=0.941, total=   0.9s\n",
            "[CV] C=10.0, class_weight=None, max_iter=100, penalty=l2, solver=saga \n",
            "[CV]  C=10.0, class_weight=None, max_iter=100, penalty=l2, solver=saga, score=0.753, total=   1.1s\n",
            "[CV] C=10.0, class_weight=None, max_iter=100, penalty=l2, solver=saga \n",
            "[CV]  C=10.0, class_weight=None, max_iter=100, penalty=l2, solver=saga, score=0.700, total=   1.0s\n",
            "[CV] C=10.0, class_weight=None, max_iter=100, penalty=l2, solver=saga \n",
            "[CV]  C=10.0, class_weight=None, max_iter=100, penalty=l2, solver=saga, score=0.767, total=   1.1s\n",
            "[CV] C=10.0, class_weight=None, max_iter=100, penalty=l2, solver=saga \n",
            "[CV]  C=10.0, class_weight=None, max_iter=100, penalty=l2, solver=saga, score=0.752, total=   1.0s\n",
            "[CV] C=10.0, class_weight=None, max_iter=100, penalty=l2, solver=saga \n",
            "[CV]  C=10.0, class_weight=None, max_iter=100, penalty=l2, solver=saga, score=0.746, total=   1.0s\n",
            "[CV] C=10.0, class_weight=None, max_iter=100, penalty=l1, solver=liblinear \n",
            "[CV]  C=10.0, class_weight=None, max_iter=100, penalty=l1, solver=liblinear, score=0.905, total=  43.1s\n",
            "[CV] C=10.0, class_weight=None, max_iter=100, penalty=l1, solver=liblinear \n",
            "[CV]  C=10.0, class_weight=None, max_iter=100, penalty=l1, solver=liblinear, score=0.924, total=  37.0s\n",
            "[CV] C=10.0, class_weight=None, max_iter=100, penalty=l1, solver=liblinear \n",
            "[CV]  C=10.0, class_weight=None, max_iter=100, penalty=l1, solver=liblinear, score=0.939, total=  22.4s\n",
            "[CV] C=10.0, class_weight=None, max_iter=100, penalty=l1, solver=liblinear \n",
            "[CV]  C=10.0, class_weight=None, max_iter=100, penalty=l1, solver=liblinear, score=0.930, total=  40.1s\n",
            "[CV] C=10.0, class_weight=None, max_iter=100, penalty=l1, solver=liblinear \n",
            "[CV]  C=10.0, class_weight=None, max_iter=100, penalty=l1, solver=liblinear, score=0.936, total=  22.6s\n",
            "[CV] C=10.0, class_weight=None, max_iter=100, penalty=l1, solver=saga \n",
            "[CV]  C=10.0, class_weight=None, max_iter=100, penalty=l1, solver=saga, score=0.751, total= 2.7min\n",
            "[CV] C=10.0, class_weight=None, max_iter=100, penalty=l1, solver=saga \n",
            "[CV]  C=10.0, class_weight=None, max_iter=100, penalty=l1, solver=saga, score=0.698, total= 2.7min\n",
            "[CV] C=10.0, class_weight=None, max_iter=100, penalty=l1, solver=saga \n",
            "[CV]  C=10.0, class_weight=None, max_iter=100, penalty=l1, solver=saga, score=0.763, total= 2.6min\n",
            "[CV] C=10.0, class_weight=None, max_iter=100, penalty=l1, solver=saga \n",
            "[CV]  C=10.0, class_weight=None, max_iter=100, penalty=l1, solver=saga, score=0.752, total= 2.7min\n",
            "[CV] C=10.0, class_weight=None, max_iter=100, penalty=l1, solver=saga \n",
            "[CV]  C=10.0, class_weight=None, max_iter=100, penalty=l1, solver=saga, score=0.746, total= 2.6min\n",
            "[CV] C=100.0, class_weight=balanced, max_iter=10, penalty=l2, solver=liblinear \n",
            "[CV]  C=100.0, class_weight=balanced, max_iter=10, penalty=l2, solver=liblinear, score=0.922, total=   0.6s\n",
            "[CV] C=100.0, class_weight=balanced, max_iter=10, penalty=l2, solver=liblinear \n",
            "[CV]  C=100.0, class_weight=balanced, max_iter=10, penalty=l2, solver=liblinear, score=0.928, total=   0.5s\n",
            "[CV] C=100.0, class_weight=balanced, max_iter=10, penalty=l2, solver=liblinear \n",
            "[CV]  C=100.0, class_weight=balanced, max_iter=10, penalty=l2, solver=liblinear, score=0.934, total=   0.5s\n",
            "[CV] C=100.0, class_weight=balanced, max_iter=10, penalty=l2, solver=liblinear \n",
            "[CV]  C=100.0, class_weight=balanced, max_iter=10, penalty=l2, solver=liblinear, score=0.917, total=   0.7s\n",
            "[CV] C=100.0, class_weight=balanced, max_iter=10, penalty=l2, solver=liblinear \n",
            "[CV]  C=100.0, class_weight=balanced, max_iter=10, penalty=l2, solver=liblinear, score=0.936, total=   0.5s\n",
            "[CV] C=100.0, class_weight=balanced, max_iter=10, penalty=l2, solver=saga \n",
            "[CV]  C=100.0, class_weight=balanced, max_iter=10, penalty=l2, solver=saga, score=0.539, total=   0.2s\n",
            "[CV] C=100.0, class_weight=balanced, max_iter=10, penalty=l2, solver=saga \n",
            "[CV]  C=100.0, class_weight=balanced, max_iter=10, penalty=l2, solver=saga, score=0.465, total=   0.1s\n",
            "[CV] C=100.0, class_weight=balanced, max_iter=10, penalty=l2, solver=saga \n",
            "[CV]  C=100.0, class_weight=balanced, max_iter=10, penalty=l2, solver=saga, score=0.506, total=   0.1s\n",
            "[CV] C=100.0, class_weight=balanced, max_iter=10, penalty=l2, solver=saga \n",
            "[CV]  C=100.0, class_weight=balanced, max_iter=10, penalty=l2, solver=saga, score=0.492, total=   0.1s\n",
            "[CV] C=100.0, class_weight=balanced, max_iter=10, penalty=l2, solver=saga \n",
            "[CV]  C=100.0, class_weight=balanced, max_iter=10, penalty=l2, solver=saga, score=0.506, total=   0.1s\n",
            "[CV] C=100.0, class_weight=balanced, max_iter=10, penalty=l1, solver=liblinear \n",
            "[CV]  C=100.0, class_weight=balanced, max_iter=10, penalty=l1, solver=liblinear, score=0.920, total=   0.3s\n",
            "[CV] C=100.0, class_weight=balanced, max_iter=10, penalty=l1, solver=liblinear \n",
            "[CV]  C=100.0, class_weight=balanced, max_iter=10, penalty=l1, solver=liblinear, score=0.930, total=   0.3s\n",
            "[CV] C=100.0, class_weight=balanced, max_iter=10, penalty=l1, solver=liblinear \n",
            "[CV]  C=100.0, class_weight=balanced, max_iter=10, penalty=l1, solver=liblinear, score=0.932, total=   0.3s\n",
            "[CV] C=100.0, class_weight=balanced, max_iter=10, penalty=l1, solver=liblinear \n",
            "[CV]  C=100.0, class_weight=balanced, max_iter=10, penalty=l1, solver=liblinear, score=0.928, total=   0.3s\n",
            "[CV] C=100.0, class_weight=balanced, max_iter=10, penalty=l1, solver=liblinear \n",
            "[CV]  C=100.0, class_weight=balanced, max_iter=10, penalty=l1, solver=liblinear, score=0.941, total=   0.3s\n",
            "[CV] C=100.0, class_weight=balanced, max_iter=10, penalty=l1, solver=saga \n",
            "[CV]  C=100.0, class_weight=balanced, max_iter=10, penalty=l1, solver=saga, score=0.537, total=  17.8s\n",
            "[CV] C=100.0, class_weight=balanced, max_iter=10, penalty=l1, solver=saga \n",
            "[CV]  C=100.0, class_weight=balanced, max_iter=10, penalty=l1, solver=saga, score=0.461, total=  18.2s\n",
            "[CV] C=100.0, class_weight=balanced, max_iter=10, penalty=l1, solver=saga \n",
            "[CV]  C=100.0, class_weight=balanced, max_iter=10, penalty=l1, solver=saga, score=0.504, total=  16.8s\n",
            "[CV] C=100.0, class_weight=balanced, max_iter=10, penalty=l1, solver=saga \n",
            "[CV]  C=100.0, class_weight=balanced, max_iter=10, penalty=l1, solver=saga, score=0.500, total=  17.6s\n",
            "[CV] C=100.0, class_weight=balanced, max_iter=10, penalty=l1, solver=saga \n",
            "[CV]  C=100.0, class_weight=balanced, max_iter=10, penalty=l1, solver=saga, score=0.502, total=  17.5s\n",
            "[CV] C=100.0, class_weight=balanced, max_iter=50, penalty=l2, solver=liblinear \n",
            "[CV]  C=100.0, class_weight=balanced, max_iter=50, penalty=l2, solver=liblinear, score=0.934, total=   0.9s\n",
            "[CV] C=100.0, class_weight=balanced, max_iter=50, penalty=l2, solver=liblinear \n",
            "[CV]  C=100.0, class_weight=balanced, max_iter=50, penalty=l2, solver=liblinear, score=0.934, total=   0.7s\n",
            "[CV] C=100.0, class_weight=balanced, max_iter=50, penalty=l2, solver=liblinear \n",
            "[CV]  C=100.0, class_weight=balanced, max_iter=50, penalty=l2, solver=liblinear, score=0.934, total=   0.8s\n",
            "[CV] C=100.0, class_weight=balanced, max_iter=50, penalty=l2, solver=liblinear \n",
            "[CV]  C=100.0, class_weight=balanced, max_iter=50, penalty=l2, solver=liblinear, score=0.915, total=   0.8s\n",
            "[CV] C=100.0, class_weight=balanced, max_iter=50, penalty=l2, solver=liblinear \n",
            "[CV]  C=100.0, class_weight=balanced, max_iter=50, penalty=l2, solver=liblinear, score=0.941, total=   0.8s\n",
            "[CV] C=100.0, class_weight=balanced, max_iter=50, penalty=l2, solver=saga \n",
            "[CV]  C=100.0, class_weight=balanced, max_iter=50, penalty=l2, solver=saga, score=0.662, total=   0.6s\n",
            "[CV] C=100.0, class_weight=balanced, max_iter=50, penalty=l2, solver=saga \n",
            "[CV]  C=100.0, class_weight=balanced, max_iter=50, penalty=l2, solver=saga, score=0.653, total=   0.5s\n",
            "[CV] C=100.0, class_weight=balanced, max_iter=50, penalty=l2, solver=saga \n",
            "[CV]  C=100.0, class_weight=balanced, max_iter=50, penalty=l2, solver=saga, score=0.691, total=   0.5s\n",
            "[CV] C=100.0, class_weight=balanced, max_iter=50, penalty=l2, solver=saga \n",
            "[CV]  C=100.0, class_weight=balanced, max_iter=50, penalty=l2, solver=saga, score=0.676, total=   0.5s\n",
            "[CV] C=100.0, class_weight=balanced, max_iter=50, penalty=l2, solver=saga \n",
            "[CV]  C=100.0, class_weight=balanced, max_iter=50, penalty=l2, solver=saga, score=0.710, total=   0.5s\n",
            "[CV] C=100.0, class_weight=balanced, max_iter=50, penalty=l1, solver=liblinear \n",
            "[CV]  C=100.0, class_weight=balanced, max_iter=50, penalty=l1, solver=liblinear, score=0.922, total=  31.9s\n",
            "[CV] C=100.0, class_weight=balanced, max_iter=50, penalty=l1, solver=liblinear \n",
            "[CV]  C=100.0, class_weight=balanced, max_iter=50, penalty=l1, solver=liblinear, score=0.937, total=  13.9s\n",
            "[CV] C=100.0, class_weight=balanced, max_iter=50, penalty=l1, solver=liblinear \n",
            "[CV]  C=100.0, class_weight=balanced, max_iter=50, penalty=l1, solver=liblinear, score=0.941, total=  33.0s\n",
            "[CV] C=100.0, class_weight=balanced, max_iter=50, penalty=l1, solver=liblinear \n",
            "[CV]  C=100.0, class_weight=balanced, max_iter=50, penalty=l1, solver=liblinear, score=0.941, total=  34.0s\n",
            "[CV] C=100.0, class_weight=balanced, max_iter=50, penalty=l1, solver=liblinear \n",
            "[CV]  C=100.0, class_weight=balanced, max_iter=50, penalty=l1, solver=liblinear, score=0.934, total=  12.9s\n",
            "[CV] C=100.0, class_weight=balanced, max_iter=50, penalty=l1, solver=saga \n",
            "[CV]  C=100.0, class_weight=balanced, max_iter=50, penalty=l1, solver=saga, score=0.660, total= 1.5min\n",
            "[CV] C=100.0, class_weight=balanced, max_iter=50, penalty=l1, solver=saga \n",
            "[CV]  C=100.0, class_weight=balanced, max_iter=50, penalty=l1, solver=saga, score=0.655, total= 1.5min\n",
            "[CV] C=100.0, class_weight=balanced, max_iter=50, penalty=l1, solver=saga \n",
            "[CV]  C=100.0, class_weight=balanced, max_iter=50, penalty=l1, solver=saga, score=0.693, total= 1.4min\n",
            "[CV] C=100.0, class_weight=balanced, max_iter=50, penalty=l1, solver=saga \n",
            "[CV]  C=100.0, class_weight=balanced, max_iter=50, penalty=l1, solver=saga, score=0.674, total= 1.4min\n",
            "[CV] C=100.0, class_weight=balanced, max_iter=50, penalty=l1, solver=saga \n",
            "[CV]  C=100.0, class_weight=balanced, max_iter=50, penalty=l1, solver=saga, score=0.710, total= 1.5min\n",
            "[CV] C=100.0, class_weight=balanced, max_iter=100, penalty=l2, solver=liblinear \n",
            "[CV]  C=100.0, class_weight=balanced, max_iter=100, penalty=l2, solver=liblinear, score=0.934, total=   0.9s\n",
            "[CV] C=100.0, class_weight=balanced, max_iter=100, penalty=l2, solver=liblinear \n",
            "[CV]  C=100.0, class_weight=balanced, max_iter=100, penalty=l2, solver=liblinear, score=0.934, total=   0.8s\n",
            "[CV] C=100.0, class_weight=balanced, max_iter=100, penalty=l2, solver=liblinear \n",
            "[CV]  C=100.0, class_weight=balanced, max_iter=100, penalty=l2, solver=liblinear, score=0.934, total=   0.8s\n",
            "[CV] C=100.0, class_weight=balanced, max_iter=100, penalty=l2, solver=liblinear \n",
            "[CV]  C=100.0, class_weight=balanced, max_iter=100, penalty=l2, solver=liblinear, score=0.915, total=   0.9s\n",
            "[CV] C=100.0, class_weight=balanced, max_iter=100, penalty=l2, solver=liblinear \n",
            "[CV]  C=100.0, class_weight=balanced, max_iter=100, penalty=l2, solver=liblinear, score=0.941, total=   0.9s\n",
            "[CV] C=100.0, class_weight=balanced, max_iter=100, penalty=l2, solver=saga \n",
            "[CV]  C=100.0, class_weight=balanced, max_iter=100, penalty=l2, solver=saga, score=0.751, total=   1.1s\n",
            "[CV] C=100.0, class_weight=balanced, max_iter=100, penalty=l2, solver=saga \n",
            "[CV]  C=100.0, class_weight=balanced, max_iter=100, penalty=l2, solver=saga, score=0.717, total=   1.1s\n",
            "[CV] C=100.0, class_weight=balanced, max_iter=100, penalty=l2, solver=saga \n",
            "[CV]  C=100.0, class_weight=balanced, max_iter=100, penalty=l2, solver=saga, score=0.767, total=   1.0s\n",
            "[CV] C=100.0, class_weight=balanced, max_iter=100, penalty=l2, solver=saga \n",
            "[CV]  C=100.0, class_weight=balanced, max_iter=100, penalty=l2, solver=saga, score=0.752, total=   1.0s\n",
            "[CV] C=100.0, class_weight=balanced, max_iter=100, penalty=l2, solver=saga \n",
            "[CV]  C=100.0, class_weight=balanced, max_iter=100, penalty=l2, solver=saga, score=0.744, total=   1.1s\n",
            "[CV] C=100.0, class_weight=balanced, max_iter=100, penalty=l1, solver=liblinear \n",
            "[CV]  C=100.0, class_weight=balanced, max_iter=100, penalty=l1, solver=liblinear, score=0.922, total=  32.5s\n",
            "[CV] C=100.0, class_weight=balanced, max_iter=100, penalty=l1, solver=liblinear \n",
            "[CV]  C=100.0, class_weight=balanced, max_iter=100, penalty=l1, solver=liblinear, score=0.930, total= 1.2min\n",
            "[CV] C=100.0, class_weight=balanced, max_iter=100, penalty=l1, solver=liblinear \n",
            "[CV]  C=100.0, class_weight=balanced, max_iter=100, penalty=l1, solver=liblinear, score=0.939, total= 1.1min\n",
            "[CV] C=100.0, class_weight=balanced, max_iter=100, penalty=l1, solver=liblinear \n",
            "[CV]  C=100.0, class_weight=balanced, max_iter=100, penalty=l1, solver=liblinear, score=0.934, total=  58.9s\n",
            "[CV] C=100.0, class_weight=balanced, max_iter=100, penalty=l1, solver=liblinear \n",
            "[CV]  C=100.0, class_weight=balanced, max_iter=100, penalty=l1, solver=liblinear, score=0.947, total=  36.5s\n",
            "[CV] C=100.0, class_weight=balanced, max_iter=100, penalty=l1, solver=saga \n",
            "[CV]  C=100.0, class_weight=balanced, max_iter=100, penalty=l1, solver=saga, score=0.748, total= 3.0min\n",
            "[CV] C=100.0, class_weight=balanced, max_iter=100, penalty=l1, solver=saga \n",
            "[CV]  C=100.0, class_weight=balanced, max_iter=100, penalty=l1, solver=saga, score=0.719, total= 3.0min\n",
            "[CV] C=100.0, class_weight=balanced, max_iter=100, penalty=l1, solver=saga \n",
            "[CV]  C=100.0, class_weight=balanced, max_iter=100, penalty=l1, solver=saga, score=0.767, total= 2.8min\n",
            "[CV] C=100.0, class_weight=balanced, max_iter=100, penalty=l1, solver=saga \n",
            "[CV]  C=100.0, class_weight=balanced, max_iter=100, penalty=l1, solver=saga, score=0.748, total= 2.8min\n",
            "[CV] C=100.0, class_weight=balanced, max_iter=100, penalty=l1, solver=saga \n",
            "[CV]  C=100.0, class_weight=balanced, max_iter=100, penalty=l1, solver=saga, score=0.742, total= 2.9min\n",
            "[CV] C=100.0, class_weight=None, max_iter=10, penalty=l2, solver=liblinear \n",
            "[CV]  C=100.0, class_weight=None, max_iter=10, penalty=l2, solver=liblinear, score=0.934, total=   0.6s\n",
            "[CV] C=100.0, class_weight=None, max_iter=10, penalty=l2, solver=liblinear \n",
            "[CV]  C=100.0, class_weight=None, max_iter=10, penalty=l2, solver=liblinear, score=0.928, total=   0.5s\n",
            "[CV] C=100.0, class_weight=None, max_iter=10, penalty=l2, solver=liblinear \n",
            "[CV]  C=100.0, class_weight=None, max_iter=10, penalty=l2, solver=liblinear, score=0.934, total=   0.6s\n",
            "[CV] C=100.0, class_weight=None, max_iter=10, penalty=l2, solver=liblinear \n",
            "[CV]  C=100.0, class_weight=None, max_iter=10, penalty=l2, solver=liblinear, score=0.917, total=   0.6s\n",
            "[CV] C=100.0, class_weight=None, max_iter=10, penalty=l2, solver=liblinear \n",
            "[CV]  C=100.0, class_weight=None, max_iter=10, penalty=l2, solver=liblinear, score=0.934, total=   0.6s\n",
            "[CV] C=100.0, class_weight=None, max_iter=10, penalty=l2, solver=saga \n",
            "[CV]  C=100.0, class_weight=None, max_iter=10, penalty=l2, solver=saga, score=0.529, total=   0.2s\n",
            "[CV] C=100.0, class_weight=None, max_iter=10, penalty=l2, solver=saga \n",
            "[CV]  C=100.0, class_weight=None, max_iter=10, penalty=l2, solver=saga, score=0.459, total=   0.1s\n",
            "[CV] C=100.0, class_weight=None, max_iter=10, penalty=l2, solver=saga \n",
            "[CV]  C=100.0, class_weight=None, max_iter=10, penalty=l2, solver=saga, score=0.502, total=   0.1s\n",
            "[CV] C=100.0, class_weight=None, max_iter=10, penalty=l2, solver=saga \n",
            "[CV]  C=100.0, class_weight=None, max_iter=10, penalty=l2, solver=saga, score=0.508, total=   0.1s\n",
            "[CV] C=100.0, class_weight=None, max_iter=10, penalty=l2, solver=saga \n",
            "[CV]  C=100.0, class_weight=None, max_iter=10, penalty=l2, solver=saga, score=0.492, total=   0.1s\n",
            "[CV] C=100.0, class_weight=None, max_iter=10, penalty=l1, solver=liblinear \n",
            "[CV]  C=100.0, class_weight=None, max_iter=10, penalty=l1, solver=liblinear, score=0.924, total=   0.3s\n",
            "[CV] C=100.0, class_weight=None, max_iter=10, penalty=l1, solver=liblinear \n",
            "[CV]  C=100.0, class_weight=None, max_iter=10, penalty=l1, solver=liblinear, score=0.928, total=   0.3s\n",
            "[CV] C=100.0, class_weight=None, max_iter=10, penalty=l1, solver=liblinear \n",
            "[CV]  C=100.0, class_weight=None, max_iter=10, penalty=l1, solver=liblinear, score=0.941, total=   0.3s\n",
            "[CV] C=100.0, class_weight=None, max_iter=10, penalty=l1, solver=liblinear \n",
            "[CV]  C=100.0, class_weight=None, max_iter=10, penalty=l1, solver=liblinear, score=0.919, total=   0.3s\n",
            "[CV] C=100.0, class_weight=None, max_iter=10, penalty=l1, solver=liblinear \n",
            "[CV]  C=100.0, class_weight=None, max_iter=10, penalty=l1, solver=liblinear, score=0.934, total=   0.3s\n",
            "[CV] C=100.0, class_weight=None, max_iter=10, penalty=l1, solver=saga \n",
            "[CV]  C=100.0, class_weight=None, max_iter=10, penalty=l1, solver=saga, score=0.539, total=  17.6s\n",
            "[CV] C=100.0, class_weight=None, max_iter=10, penalty=l1, solver=saga \n",
            "[CV]  C=100.0, class_weight=None, max_iter=10, penalty=l1, solver=saga, score=0.450, total=  17.3s\n",
            "[CV] C=100.0, class_weight=None, max_iter=10, penalty=l1, solver=saga \n",
            "[CV]  C=100.0, class_weight=None, max_iter=10, penalty=l1, solver=saga, score=0.511, total=  16.6s\n",
            "[CV] C=100.0, class_weight=None, max_iter=10, penalty=l1, solver=saga \n",
            "[CV]  C=100.0, class_weight=None, max_iter=10, penalty=l1, solver=saga, score=0.500, total=  17.1s\n",
            "[CV] C=100.0, class_weight=None, max_iter=10, penalty=l1, solver=saga \n",
            "[CV]  C=100.0, class_weight=None, max_iter=10, penalty=l1, solver=saga, score=0.502, total=  17.5s\n",
            "[CV] C=100.0, class_weight=None, max_iter=50, penalty=l2, solver=liblinear \n",
            "[CV]  C=100.0, class_weight=None, max_iter=50, penalty=l2, solver=liblinear, score=0.928, total=   0.7s\n",
            "[CV] C=100.0, class_weight=None, max_iter=50, penalty=l2, solver=liblinear \n",
            "[CV]  C=100.0, class_weight=None, max_iter=50, penalty=l2, solver=liblinear, score=0.930, total=   1.0s\n",
            "[CV] C=100.0, class_weight=None, max_iter=50, penalty=l2, solver=liblinear \n",
            "[CV]  C=100.0, class_weight=None, max_iter=50, penalty=l2, solver=liblinear, score=0.939, total=   0.7s\n",
            "[CV] C=100.0, class_weight=None, max_iter=50, penalty=l2, solver=liblinear \n",
            "[CV]  C=100.0, class_weight=None, max_iter=50, penalty=l2, solver=liblinear, score=0.915, total=   0.9s\n",
            "[CV] C=100.0, class_weight=None, max_iter=50, penalty=l2, solver=liblinear \n",
            "[CV]  C=100.0, class_weight=None, max_iter=50, penalty=l2, solver=liblinear, score=0.939, total=   0.9s\n",
            "[CV] C=100.0, class_weight=None, max_iter=50, penalty=l2, solver=saga \n",
            "[CV]  C=100.0, class_weight=None, max_iter=50, penalty=l2, solver=saga, score=0.666, total=   0.6s\n",
            "[CV] C=100.0, class_weight=None, max_iter=50, penalty=l2, solver=saga \n",
            "[CV]  C=100.0, class_weight=None, max_iter=50, penalty=l2, solver=saga, score=0.641, total=   0.5s\n",
            "[CV] C=100.0, class_weight=None, max_iter=50, penalty=l2, solver=saga \n",
            "[CV]  C=100.0, class_weight=None, max_iter=50, penalty=l2, solver=saga, score=0.691, total=   0.5s\n",
            "[CV] C=100.0, class_weight=None, max_iter=50, penalty=l2, solver=saga \n",
            "[CV]  C=100.0, class_weight=None, max_iter=50, penalty=l2, solver=saga, score=0.667, total=   0.5s\n",
            "[CV] C=100.0, class_weight=None, max_iter=50, penalty=l2, solver=saga \n",
            "[CV]  C=100.0, class_weight=None, max_iter=50, penalty=l2, solver=saga, score=0.697, total=   0.5s\n",
            "[CV] C=100.0, class_weight=None, max_iter=50, penalty=l1, solver=liblinear \n",
            "[CV]  C=100.0, class_weight=None, max_iter=50, penalty=l1, solver=liblinear, score=0.924, total=  26.7s\n",
            "[CV] C=100.0, class_weight=None, max_iter=50, penalty=l1, solver=liblinear \n",
            "[CV]  C=100.0, class_weight=None, max_iter=50, penalty=l1, solver=liblinear, score=0.930, total=  41.4s\n",
            "[CV] C=100.0, class_weight=None, max_iter=50, penalty=l1, solver=liblinear \n",
            "[CV]  C=100.0, class_weight=None, max_iter=50, penalty=l1, solver=liblinear, score=0.939, total=  14.2s\n",
            "[CV] C=100.0, class_weight=None, max_iter=50, penalty=l1, solver=liblinear \n",
            "[CV]  C=100.0, class_weight=None, max_iter=50, penalty=l1, solver=liblinear, score=0.934, total=  24.6s\n",
            "[CV] C=100.0, class_weight=None, max_iter=50, penalty=l1, solver=liblinear \n",
            "[CV]  C=100.0, class_weight=None, max_iter=50, penalty=l1, solver=liblinear, score=0.934, total=  12.1s\n",
            "[CV] C=100.0, class_weight=None, max_iter=50, penalty=l1, solver=saga \n",
            "[CV]  C=100.0, class_weight=None, max_iter=50, penalty=l1, solver=saga, score=0.664, total= 1.5min\n",
            "[CV] C=100.0, class_weight=None, max_iter=50, penalty=l1, solver=saga \n",
            "[CV]  C=100.0, class_weight=None, max_iter=50, penalty=l1, solver=saga, score=0.641, total= 1.5min\n",
            "[CV] C=100.0, class_weight=None, max_iter=50, penalty=l1, solver=saga \n",
            "[CV]  C=100.0, class_weight=None, max_iter=50, penalty=l1, solver=saga, score=0.693, total= 1.4min\n",
            "[CV] C=100.0, class_weight=None, max_iter=50, penalty=l1, solver=saga \n",
            "[CV]  C=100.0, class_weight=None, max_iter=50, penalty=l1, solver=saga, score=0.667, total= 1.5min\n",
            "[CV] C=100.0, class_weight=None, max_iter=50, penalty=l1, solver=saga \n",
            "[CV]  C=100.0, class_weight=None, max_iter=50, penalty=l1, solver=saga, score=0.699, total= 1.5min\n",
            "[CV] C=100.0, class_weight=None, max_iter=100, penalty=l2, solver=liblinear \n",
            "[CV]  C=100.0, class_weight=None, max_iter=100, penalty=l2, solver=liblinear, score=0.928, total=   0.8s\n",
            "[CV] C=100.0, class_weight=None, max_iter=100, penalty=l2, solver=liblinear \n",
            "[CV]  C=100.0, class_weight=None, max_iter=100, penalty=l2, solver=liblinear, score=0.930, total=   1.1s\n",
            "[CV] C=100.0, class_weight=None, max_iter=100, penalty=l2, solver=liblinear \n",
            "[CV]  C=100.0, class_weight=None, max_iter=100, penalty=l2, solver=liblinear, score=0.939, total=   0.7s\n",
            "[CV] C=100.0, class_weight=None, max_iter=100, penalty=l2, solver=liblinear \n",
            "[CV]  C=100.0, class_weight=None, max_iter=100, penalty=l2, solver=liblinear, score=0.915, total=   0.9s\n",
            "[CV] C=100.0, class_weight=None, max_iter=100, penalty=l2, solver=liblinear \n",
            "[CV]  C=100.0, class_weight=None, max_iter=100, penalty=l2, solver=liblinear, score=0.939, total=   0.9s\n",
            "[CV] C=100.0, class_weight=None, max_iter=100, penalty=l2, solver=saga \n",
            "[CV]  C=100.0, class_weight=None, max_iter=100, penalty=l2, solver=saga, score=0.751, total=   1.1s\n",
            "[CV] C=100.0, class_weight=None, max_iter=100, penalty=l2, solver=saga \n",
            "[CV]  C=100.0, class_weight=None, max_iter=100, penalty=l2, solver=saga, score=0.696, total=   1.0s\n",
            "[CV] C=100.0, class_weight=None, max_iter=100, penalty=l2, solver=saga \n",
            "[CV]  C=100.0, class_weight=None, max_iter=100, penalty=l2, solver=saga, score=0.765, total=   1.0s\n",
            "[CV] C=100.0, class_weight=None, max_iter=100, penalty=l2, solver=saga \n",
            "[CV]  C=100.0, class_weight=None, max_iter=100, penalty=l2, solver=saga, score=0.754, total=   1.0s\n",
            "[CV] C=100.0, class_weight=None, max_iter=100, penalty=l2, solver=saga \n",
            "[CV]  C=100.0, class_weight=None, max_iter=100, penalty=l2, solver=saga, score=0.746, total=   1.1s\n",
            "[CV] C=100.0, class_weight=None, max_iter=100, penalty=l1, solver=liblinear \n",
            "[CV]  C=100.0, class_weight=None, max_iter=100, penalty=l1, solver=liblinear, score=0.932, total= 1.4min\n",
            "[CV] C=100.0, class_weight=None, max_iter=100, penalty=l1, solver=liblinear \n",
            "[CV]  C=100.0, class_weight=None, max_iter=100, penalty=l1, solver=liblinear, score=0.934, total= 1.1min\n",
            "[CV] C=100.0, class_weight=None, max_iter=100, penalty=l1, solver=liblinear \n",
            "[CV]  C=100.0, class_weight=None, max_iter=100, penalty=l1, solver=liblinear, score=0.939, total=  56.1s\n",
            "[CV] C=100.0, class_weight=None, max_iter=100, penalty=l1, solver=liblinear \n",
            "[CV]  C=100.0, class_weight=None, max_iter=100, penalty=l1, solver=liblinear, score=0.943, total=  58.2s\n",
            "[CV] C=100.0, class_weight=None, max_iter=100, penalty=l1, solver=liblinear \n",
            "[CV]  C=100.0, class_weight=None, max_iter=100, penalty=l1, solver=liblinear, score=0.939, total=  32.4s\n",
            "[CV] C=100.0, class_weight=None, max_iter=100, penalty=l1, solver=saga \n",
            "[CV]  C=100.0, class_weight=None, max_iter=100, penalty=l1, solver=saga, score=0.753, total= 3.0min\n",
            "[CV] C=100.0, class_weight=None, max_iter=100, penalty=l1, solver=saga \n",
            "[CV]  C=100.0, class_weight=None, max_iter=100, penalty=l1, solver=saga, score=0.696, total= 2.9min\n",
            "[CV] C=100.0, class_weight=None, max_iter=100, penalty=l1, solver=saga \n",
            "[CV]  C=100.0, class_weight=None, max_iter=100, penalty=l1, solver=saga, score=0.767, total= 2.8min\n",
            "[CV] C=100.0, class_weight=None, max_iter=100, penalty=l1, solver=saga \n",
            "[CV]  C=100.0, class_weight=None, max_iter=100, penalty=l1, solver=saga, score=0.752, total= 2.9min\n",
            "[CV] C=100.0, class_weight=None, max_iter=100, penalty=l1, solver=saga \n",
            "[CV]  C=100.0, class_weight=None, max_iter=100, penalty=l1, solver=saga, score=0.746, total= 2.8min\n"
          ],
          "name": "stdout"
        },
        {
          "output_type": "stream",
          "text": [
            "[Parallel(n_jobs=1)]: Done 480 out of 480 | elapsed: 131.2min finished\n"
          ],
          "name": "stderr"
        },
        {
          "output_type": "stream",
          "text": [
            "Best score: 0.9373445730461892\n",
            "Best parameters: {'C': 100.0, 'class_weight': None, 'max_iter': 100, 'penalty': 'l1', 'solver': 'liblinear'}\n",
            "CPU times: user 2h 12min 36s, sys: 1min 15s, total: 2h 13min 51s\n",
            "Wall time: 2h 12min 33s\n"
          ],
          "name": "stdout"
        }
      ]
    },
    {
      "cell_type": "markdown",
      "metadata": {
        "id": "2tKdpC-rXxF-",
        "colab_type": "text"
      },
      "source": [
        "Попробуем применить эти параметры и снова обучить модель"
      ]
    },
    {
      "cell_type": "code",
      "metadata": {
        "id": "cLyLlbOdnC9l",
        "colab_type": "code",
        "colab": {
          "base_uri": "https://localhost:8080/",
          "height": 51
        },
        "outputId": "083ec856-34f9-464d-cf4c-4e577f557bd2"
      },
      "source": [
        "%%time\n",
        "best_model_LR = LogisticRegression(penalty='l1', C=100.0, solver='liblinear', max_iter=100).fit(X_train, y_train)\n",
        "predicted_LR = best_model_LR.predict(X_test)"
      ],
      "execution_count": 218,
      "outputs": [
        {
          "output_type": "stream",
          "text": [
            "CPU times: user 1min 13s, sys: 9.55 ms, total: 1min 13s\n",
            "Wall time: 1min 13s\n"
          ],
          "name": "stdout"
        }
      ]
    },
    {
      "cell_type": "code",
      "metadata": {
        "id": "RVMYm0Tens3B",
        "colab_type": "code",
        "outputId": "d2699ba0-8391-42db-a08e-72ac278eac52",
        "colab": {
          "base_uri": "https://localhost:8080/",
          "height": 34
        }
      },
      "source": [
        "show_macro_f1(y_test, predicted_LR)"
      ],
      "execution_count": 219,
      "outputs": [
        {
          "output_type": "stream",
          "text": [
            "macro F1=0.8775\n"
          ],
          "name": "stdout"
        }
      ]
    },
    {
      "cell_type": "code",
      "metadata": {
        "id": "SgY4RjWs-EMe",
        "colab_type": "code",
        "outputId": "3674ded2-6c3c-4bd5-97ad-1ca5954653b2",
        "colab": {
          "base_uri": "https://localhost:8080/",
          "height": 51
        }
      },
      "source": [
        "results(best_model_LR)"
      ],
      "execution_count": 220,
      "outputs": [
        {
          "output_type": "stream",
          "text": [
            "result on train: 0.37399150743099785\n",
            "result on test: 0.33004405157827177\n"
          ],
          "name": "stdout"
        }
      ]
    },
    {
      "cell_type": "markdown",
      "metadata": {
        "id": "g4qJ8_KFtu6n",
        "colab_type": "text"
      },
      "source": [
        "У логистической регрессии f1 макро было macro F1=0.8643, стало с новыми параметрами macro F1=8787.\n",
        "\n",
        "Посмотрим на вклад различных признаков."
      ]
    },
    {
      "cell_type": "code",
      "metadata": {
        "id": "gXEr7xZzmUWa",
        "colab_type": "code",
        "colab": {
          "base_uri": "https://localhost:8080/",
          "height": 1000
        },
        "outputId": "191c7a4e-4e79-42f6-aa77-3b227fe25684"
      },
      "source": [
        "analyze_features(model=best_model_LR)"
      ],
      "execution_count": 241,
      "outputs": [
        {
          "output_type": "execute_result",
          "data": {
            "text/html": [
              "<div>\n",
              "<style scoped>\n",
              "    .dataframe tbody tr th:only-of-type {\n",
              "        vertical-align: middle;\n",
              "    }\n",
              "\n",
              "    .dataframe tbody tr th {\n",
              "        vertical-align: top;\n",
              "    }\n",
              "\n",
              "    .dataframe thead th {\n",
              "        text-align: right;\n",
              "    }\n",
              "</style>\n",
              "<table border=\"1\" class=\"dataframe\">\n",
              "  <thead>\n",
              "    <tr style=\"text-align: right;\">\n",
              "      <th></th>\n",
              "      <th>target</th>\n",
              "      <th>feature</th>\n",
              "      <th>weight</th>\n",
              "      <th>word</th>\n",
              "      <th>category</th>\n",
              "    </tr>\n",
              "  </thead>\n",
              "  <tbody>\n",
              "    <tr>\n",
              "      <th>0</th>\n",
              "      <td>0</td>\n",
              "      <td>x5018</td>\n",
              "      <td>5.103071</td>\n",
              "      <td>abrash</td>\n",
              "      <td>sci.med</td>\n",
              "    </tr>\n",
              "    <tr>\n",
              "      <th>1</th>\n",
              "      <td>0</td>\n",
              "      <td>x29783</td>\n",
              "      <td>4.131556</td>\n",
              "      <td>rumours</td>\n",
              "      <td>sci.med</td>\n",
              "    </tr>\n",
              "    <tr>\n",
              "      <th>2</th>\n",
              "      <td>0</td>\n",
              "      <td>x15849</td>\n",
              "      <td>3.833022</td>\n",
              "      <td>fractals</td>\n",
              "      <td>sci.med</td>\n",
              "    </tr>\n",
              "    <tr>\n",
              "      <th>3</th>\n",
              "      <td>0</td>\n",
              "      <td>x27100</td>\n",
              "      <td>3.551435</td>\n",
              "      <td>pov</td>\n",
              "      <td>sci.med</td>\n",
              "    </tr>\n",
              "    <tr>\n",
              "      <th>4</th>\n",
              "      <td>0</td>\n",
              "      <td>x2983</td>\n",
              "      <td>3.022023</td>\n",
              "      <td>486</td>\n",
              "      <td>sci.med</td>\n",
              "    </tr>\n",
              "    <tr>\n",
              "      <th>5</th>\n",
              "      <td>0</td>\n",
              "      <td>x30836</td>\n",
              "      <td>2.890158</td>\n",
              "      <td>shograf</td>\n",
              "      <td>sci.med</td>\n",
              "    </tr>\n",
              "    <tr>\n",
              "      <th>6</th>\n",
              "      <td>0</td>\n",
              "      <td>x7989</td>\n",
              "      <td>2.846358</td>\n",
              "      <td>bmp</td>\n",
              "      <td>sci.med</td>\n",
              "    </tr>\n",
              "    <tr>\n",
              "      <th>7</th>\n",
              "      <td>0</td>\n",
              "      <td>x2699</td>\n",
              "      <td>2.841036</td>\n",
              "      <td>3do</td>\n",
              "      <td>sci.med</td>\n",
              "    </tr>\n",
              "    <tr>\n",
              "      <th>8</th>\n",
              "      <td>0</td>\n",
              "      <td>x6163</td>\n",
              "      <td>2.742146</td>\n",
              "      <td>animation</td>\n",
              "      <td>sci.med</td>\n",
              "    </tr>\n",
              "    <tr>\n",
              "      <th>9</th>\n",
              "      <td>0</td>\n",
              "      <td>x18958</td>\n",
              "      <td>2.536434</td>\n",
              "      <td>ineed</td>\n",
              "      <td>sci.med</td>\n",
              "    </tr>\n",
              "    <tr>\n",
              "      <th>10</th>\n",
              "      <td>1</td>\n",
              "      <td>x14837</td>\n",
              "      <td>4.861042</td>\n",
              "      <td>exploding</td>\n",
              "      <td>sci.space</td>\n",
              "    </tr>\n",
              "    <tr>\n",
              "      <th>11</th>\n",
              "      <td>1</td>\n",
              "      <td>x7373</td>\n",
              "      <td>4.275975</td>\n",
              "      <td>battery</td>\n",
              "      <td>sci.space</td>\n",
              "    </tr>\n",
              "    <tr>\n",
              "      <th>12</th>\n",
              "      <td>1</td>\n",
              "      <td>x4082</td>\n",
              "      <td>4.209142</td>\n",
              "      <td>8051</td>\n",
              "      <td>sci.space</td>\n",
              "    </tr>\n",
              "    <tr>\n",
              "      <th>13</th>\n",
              "      <td>1</td>\n",
              "      <td>x37275</td>\n",
              "      <td>4.146655</td>\n",
              "      <td>yxy4145</td>\n",
              "      <td>sci.space</td>\n",
              "    </tr>\n",
              "    <tr>\n",
              "      <th>14</th>\n",
              "      <td>1</td>\n",
              "      <td>x12601</td>\n",
              "      <td>4.013029</td>\n",
              "      <td>differential</td>\n",
              "      <td>sci.space</td>\n",
              "    </tr>\n",
              "    <tr>\n",
              "      <th>15</th>\n",
              "      <td>1</td>\n",
              "      <td>x13891</td>\n",
              "      <td>3.828524</td>\n",
              "      <td>electronics</td>\n",
              "      <td>sci.space</td>\n",
              "    </tr>\n",
              "    <tr>\n",
              "      <th>16</th>\n",
              "      <td>1</td>\n",
              "      <td>x9841</td>\n",
              "      <td>3.780117</td>\n",
              "      <td>circuit</td>\n",
              "      <td>sci.space</td>\n",
              "    </tr>\n",
              "    <tr>\n",
              "      <th>17</th>\n",
              "      <td>1</td>\n",
              "      <td>x9061</td>\n",
              "      <td>3.770697</td>\n",
              "      <td>car</td>\n",
              "      <td>sci.space</td>\n",
              "    </tr>\n",
              "    <tr>\n",
              "      <th>18</th>\n",
              "      <td>1</td>\n",
              "      <td>x27030</td>\n",
              "      <td>3.277843</td>\n",
              "      <td>positive</td>\n",
              "      <td>sci.space</td>\n",
              "    </tr>\n",
              "    <tr>\n",
              "      <th>19</th>\n",
              "      <td>1</td>\n",
              "      <td>x9139</td>\n",
              "      <td>3.265210</td>\n",
              "      <td>cars</td>\n",
              "      <td>sci.space</td>\n",
              "    </tr>\n",
              "    <tr>\n",
              "      <th>20</th>\n",
              "      <td>2</td>\n",
              "      <td>x29672</td>\n",
              "      <td>5.109849</td>\n",
              "      <td>roxonal</td>\n",
              "      <td>sci.electronics</td>\n",
              "    </tr>\n",
              "    <tr>\n",
              "      <th>21</th>\n",
              "      <td>2</td>\n",
              "      <td>x13062</td>\n",
              "      <td>4.826127</td>\n",
              "      <td>doctor</td>\n",
              "      <td>sci.electronics</td>\n",
              "    </tr>\n",
              "    <tr>\n",
              "      <th>22</th>\n",
              "      <td>2</td>\n",
              "      <td>x20736</td>\n",
              "      <td>4.326054</td>\n",
              "      <td>krillean</td>\n",
              "      <td>sci.electronics</td>\n",
              "    </tr>\n",
              "    <tr>\n",
              "      <th>23</th>\n",
              "      <td>2</td>\n",
              "      <td>x12815</td>\n",
              "      <td>3.824609</td>\n",
              "      <td>disease</td>\n",
              "      <td>sci.electronics</td>\n",
              "    </tr>\n",
              "    <tr>\n",
              "      <th>24</th>\n",
              "      <td>2</td>\n",
              "      <td>x28104</td>\n",
              "      <td>3.740977</td>\n",
              "      <td>radford</td>\n",
              "      <td>sci.electronics</td>\n",
              "    </tr>\n",
              "    <tr>\n",
              "      <th>25</th>\n",
              "      <td>2</td>\n",
              "      <td>x37258</td>\n",
              "      <td>3.712426</td>\n",
              "      <td>ysu</td>\n",
              "      <td>sci.electronics</td>\n",
              "    </tr>\n",
              "    <tr>\n",
              "      <th>26</th>\n",
              "      <td>2</td>\n",
              "      <td>x34166</td>\n",
              "      <td>3.679874</td>\n",
              "      <td>tradition</td>\n",
              "      <td>sci.electronics</td>\n",
              "    </tr>\n",
              "    <tr>\n",
              "      <th>27</th>\n",
              "      <td>2</td>\n",
              "      <td>x34330</td>\n",
              "      <td>3.565953</td>\n",
              "      <td>treatment</td>\n",
              "      <td>sci.electronics</td>\n",
              "    </tr>\n",
              "    <tr>\n",
              "      <th>28</th>\n",
              "      <td>2</td>\n",
              "      <td>x34630</td>\n",
              "      <td>3.430495</td>\n",
              "      <td>twitching</td>\n",
              "      <td>sci.electronics</td>\n",
              "    </tr>\n",
              "    <tr>\n",
              "      <th>29</th>\n",
              "      <td>2</td>\n",
              "      <td>x9390</td>\n",
              "      <td>3.412535</td>\n",
              "      <td>centrifuge</td>\n",
              "      <td>sci.electronics</td>\n",
              "    </tr>\n",
              "    <tr>\n",
              "      <th>30</th>\n",
              "      <td>3</td>\n",
              "      <td>x26706</td>\n",
              "      <td>6.066481</td>\n",
              "      <td>planets</td>\n",
              "      <td>comp.graphics</td>\n",
              "    </tr>\n",
              "    <tr>\n",
              "      <th>31</th>\n",
              "      <td>3</td>\n",
              "      <td>x29847</td>\n",
              "      <td>5.465152</td>\n",
              "      <td>ryukoku</td>\n",
              "      <td>comp.graphics</td>\n",
              "    </tr>\n",
              "    <tr>\n",
              "      <th>32</th>\n",
              "      <td>3</td>\n",
              "      <td>x27174</td>\n",
              "      <td>4.855135</td>\n",
              "      <td>prb</td>\n",
              "      <td>comp.graphics</td>\n",
              "    </tr>\n",
              "    <tr>\n",
              "      <th>33</th>\n",
              "      <td>3</td>\n",
              "      <td>x25295</td>\n",
              "      <td>4.195833</td>\n",
              "      <td>orbit</td>\n",
              "      <td>comp.graphics</td>\n",
              "    </tr>\n",
              "    <tr>\n",
              "      <th>34</th>\n",
              "      <td>3</td>\n",
              "      <td>x16081</td>\n",
              "      <td>3.978768</td>\n",
              "      <td>funding</td>\n",
              "      <td>comp.graphics</td>\n",
              "    </tr>\n",
              "    <tr>\n",
              "      <th>35</th>\n",
              "      <td>3</td>\n",
              "      <td>x23516</td>\n",
              "      <td>3.664017</td>\n",
              "      <td>moon</td>\n",
              "      <td>comp.graphics</td>\n",
              "    </tr>\n",
              "    <tr>\n",
              "      <th>36</th>\n",
              "      <td>3</td>\n",
              "      <td>x25445</td>\n",
              "      <td>3.588309</td>\n",
              "      <td>otago</td>\n",
              "      <td>comp.graphics</td>\n",
              "    </tr>\n",
              "    <tr>\n",
              "      <th>37</th>\n",
              "      <td>3</td>\n",
              "      <td>x31160</td>\n",
              "      <td>3.436672</td>\n",
              "      <td>sky</td>\n",
              "      <td>comp.graphics</td>\n",
              "    </tr>\n",
              "    <tr>\n",
              "      <th>38</th>\n",
              "      <td>3</td>\n",
              "      <td>x32707</td>\n",
              "      <td>3.331984</td>\n",
              "      <td>sunset</td>\n",
              "      <td>comp.graphics</td>\n",
              "    </tr>\n",
              "    <tr>\n",
              "      <th>39</th>\n",
              "      <td>3</td>\n",
              "      <td>x31595</td>\n",
              "      <td>3.309371</td>\n",
              "      <td>space</td>\n",
              "      <td>comp.graphics</td>\n",
              "    </tr>\n",
              "  </tbody>\n",
              "</table>\n",
              "</div>"
            ],
            "text/plain": [
              "    target feature    weight          word         category\n",
              "0        0   x5018  5.103071        abrash          sci.med\n",
              "1        0  x29783  4.131556       rumours          sci.med\n",
              "2        0  x15849  3.833022      fractals          sci.med\n",
              "3        0  x27100  3.551435           pov          sci.med\n",
              "4        0   x2983  3.022023           486          sci.med\n",
              "5        0  x30836  2.890158       shograf          sci.med\n",
              "6        0   x7989  2.846358           bmp          sci.med\n",
              "7        0   x2699  2.841036           3do          sci.med\n",
              "8        0   x6163  2.742146     animation          sci.med\n",
              "9        0  x18958  2.536434         ineed          sci.med\n",
              "10       1  x14837  4.861042     exploding        sci.space\n",
              "11       1   x7373  4.275975       battery        sci.space\n",
              "12       1   x4082  4.209142          8051        sci.space\n",
              "13       1  x37275  4.146655       yxy4145        sci.space\n",
              "14       1  x12601  4.013029  differential        sci.space\n",
              "15       1  x13891  3.828524   electronics        sci.space\n",
              "16       1   x9841  3.780117       circuit        sci.space\n",
              "17       1   x9061  3.770697           car        sci.space\n",
              "18       1  x27030  3.277843      positive        sci.space\n",
              "19       1   x9139  3.265210          cars        sci.space\n",
              "20       2  x29672  5.109849       roxonal  sci.electronics\n",
              "21       2  x13062  4.826127        doctor  sci.electronics\n",
              "22       2  x20736  4.326054      krillean  sci.electronics\n",
              "23       2  x12815  3.824609       disease  sci.electronics\n",
              "24       2  x28104  3.740977       radford  sci.electronics\n",
              "25       2  x37258  3.712426           ysu  sci.electronics\n",
              "26       2  x34166  3.679874     tradition  sci.electronics\n",
              "27       2  x34330  3.565953     treatment  sci.electronics\n",
              "28       2  x34630  3.430495     twitching  sci.electronics\n",
              "29       2   x9390  3.412535    centrifuge  sci.electronics\n",
              "30       3  x26706  6.066481       planets    comp.graphics\n",
              "31       3  x29847  5.465152       ryukoku    comp.graphics\n",
              "32       3  x27174  4.855135           prb    comp.graphics\n",
              "33       3  x25295  4.195833         orbit    comp.graphics\n",
              "34       3  x16081  3.978768       funding    comp.graphics\n",
              "35       3  x23516  3.664017          moon    comp.graphics\n",
              "36       3  x25445  3.588309         otago    comp.graphics\n",
              "37       3  x31160  3.436672           sky    comp.graphics\n",
              "38       3  x32707  3.331984        sunset    comp.graphics\n",
              "39       3  x31595  3.309371         space    comp.graphics"
            ]
          },
          "metadata": {
            "tags": []
          },
          "execution_count": 241
        }
      ]
    },
    {
      "cell_type": "markdown",
      "metadata": {
        "id": "3hkLPngmwXFZ",
        "colab_type": "text"
      },
      "source": [
        "## Деревья решений"
      ]
    },
    {
      "cell_type": "markdown",
      "metadata": {
        "id": "UpC8uQVBzzmk",
        "colab_type": "text"
      },
      "source": [
        "До подбора параметров"
      ]
    },
    {
      "cell_type": "code",
      "metadata": {
        "id": "IVNGV7TMwbT-",
        "colab_type": "code",
        "colab": {}
      },
      "source": [
        "model_DT = DecisionTreeClassifier().fit(X_train, y_train)\n",
        "predicted_DT = model_DT.predict(X_test)"
      ],
      "execution_count": 0,
      "outputs": []
    },
    {
      "cell_type": "code",
      "metadata": {
        "id": "RUf0HrBcwfbC",
        "colab_type": "code",
        "outputId": "cb577b7a-8eda-46b9-d0d5-47427a377425",
        "colab": {
          "base_uri": "https://localhost:8080/",
          "height": 34
        }
      },
      "source": [
        "show_macro_f1(y_test, predicted_DT)"
      ],
      "execution_count": 189,
      "outputs": [
        {
          "output_type": "stream",
          "text": [
            "macro F1=0.7323\n"
          ],
          "name": "stdout"
        }
      ]
    },
    {
      "cell_type": "code",
      "metadata": {
        "id": "BhODgd6mMpx3",
        "colab_type": "code",
        "colab": {
          "base_uri": "https://localhost:8080/",
          "height": 51
        },
        "outputId": "c158f5fa-2a55-428b-d3d4-9a86e922bf32"
      },
      "source": [
        "results(model_DT)"
      ],
      "execution_count": 190,
      "outputs": [
        {
          "output_type": "stream",
          "text": [
            "result on train: 0.37399150743099785\n",
            "result on test: 0.27718783216075316\n"
          ],
          "name": "stdout"
        }
      ]
    },
    {
      "cell_type": "markdown",
      "metadata": {
        "id": "TBeLKcNFz1yk",
        "colab_type": "text"
      },
      "source": [
        "После"
      ]
    },
    {
      "cell_type": "code",
      "metadata": {
        "id": "L_sPqMGIH_Yj",
        "colab_type": "code",
        "outputId": "95ad5d1d-2762-4c9f-c438-e87d203ea580",
        "colab": {
          "base_uri": "https://localhost:8080/",
          "height": 51
        }
      },
      "source": [
        "DT = DecisionTreeClassifier()\n",
        "parameters_DT = {'splitter' : ['best', 'random'],\n",
        "                  'max_depth' : [10, 20, 30, 50, 100]}\n",
        "\n",
        "make_grid_search(DT, parameters_DT, 'f1_macro', n_jobs=5)"
      ],
      "execution_count": 243,
      "outputs": [
        {
          "output_type": "stream",
          "text": [
            "Best score: 0.7913258813478542\n",
            "Best parameters: {'max_depth': 50, 'splitter': 'random'}\n"
          ],
          "name": "stdout"
        }
      ]
    },
    {
      "cell_type": "code",
      "metadata": {
        "id": "RE2lasKiyzPa",
        "colab_type": "code",
        "colab": {}
      },
      "source": [
        "best_model_DT = DecisionTreeClassifier(max_depth=50, splitter='random').fit(X_train, y_train)\n",
        "predicted_DT = best_model_DT.predict(X_test)"
      ],
      "execution_count": 0,
      "outputs": []
    },
    {
      "cell_type": "code",
      "metadata": {
        "id": "VuWFsL8Ky6Se",
        "colab_type": "code",
        "outputId": "b89b4da5-be72-41ff-a19b-bd55424899b0",
        "colab": {
          "base_uri": "https://localhost:8080/",
          "height": 34
        }
      },
      "source": [
        "show_macro_f1(y_test, predicted_DT)"
      ],
      "execution_count": 245,
      "outputs": [
        {
          "output_type": "stream",
          "text": [
            "macro F1=0.7345\n"
          ],
          "name": "stdout"
        }
      ]
    },
    {
      "cell_type": "code",
      "metadata": {
        "id": "wq8rCM_U-b58",
        "colab_type": "code",
        "outputId": "39f13ef9-e586-4b37-99e5-0f8644cabd4f",
        "colab": {
          "base_uri": "https://localhost:8080/",
          "height": 51
        }
      },
      "source": [
        "results(best_model_DT)"
      ],
      "execution_count": 193,
      "outputs": [
        {
          "output_type": "stream",
          "text": [
            "result on train: 0.3571230845279288\n",
            "result on test: 0.27605427420936646\n"
          ],
          "name": "stdout"
        }
      ]
    },
    {
      "cell_type": "markdown",
      "metadata": {
        "id": "l4UHjmEmMEux",
        "colab_type": "text"
      },
      "source": [
        "Макро f1 было 0.7323, стало 0.7345, то улучшения совсем маленькие. В любом случае посмотрим на вклад признаков."
      ]
    },
    {
      "cell_type": "code",
      "metadata": {
        "id": "WHgQnMkqHVH4",
        "colab_type": "code",
        "colab": {
          "base_uri": "https://localhost:8080/",
          "height": 359
        },
        "outputId": "b2460cb0-2de8-4c59-97df-ab86e11f6681"
      },
      "source": [
        "features = pd.DataFrame(X_train.toarray())\n",
        "feature_imps = pd.DataFrame()\n",
        "feature_imps[\"feature\"] = features.columns\n",
        "feature_imps[\"importance\"] = best_model_DT.feature_importances_\n",
        "feature_imps[[\"feature\", \"importance\"]].sort_values(by='importance', ascending=False)[:10]"
      ],
      "execution_count": 242,
      "outputs": [
        {
          "output_type": "execute_result",
          "data": {
            "text/html": [
              "<div>\n",
              "<style scoped>\n",
              "    .dataframe tbody tr th:only-of-type {\n",
              "        vertical-align: middle;\n",
              "    }\n",
              "\n",
              "    .dataframe tbody tr th {\n",
              "        vertical-align: top;\n",
              "    }\n",
              "\n",
              "    .dataframe thead th {\n",
              "        text-align: right;\n",
              "    }\n",
              "</style>\n",
              "<table border=\"1\" class=\"dataframe\">\n",
              "  <thead>\n",
              "    <tr style=\"text-align: right;\">\n",
              "      <th></th>\n",
              "      <th>feature</th>\n",
              "      <th>importance</th>\n",
              "    </tr>\n",
              "  </thead>\n",
              "  <tbody>\n",
              "    <tr>\n",
              "      <th>31595</th>\n",
              "      <td>31595</td>\n",
              "      <td>0.130002</td>\n",
              "    </tr>\n",
              "    <tr>\n",
              "      <th>16895</th>\n",
              "      <td>16895</td>\n",
              "      <td>0.084205</td>\n",
              "    </tr>\n",
              "    <tr>\n",
              "      <th>26643</th>\n",
              "      <td>26643</td>\n",
              "      <td>0.047640</td>\n",
              "    </tr>\n",
              "    <tr>\n",
              "      <th>12815</th>\n",
              "      <td>12815</td>\n",
              "      <td>0.035789</td>\n",
              "    </tr>\n",
              "    <tr>\n",
              "      <th>25295</th>\n",
              "      <td>25295</td>\n",
              "      <td>0.034852</td>\n",
              "    </tr>\n",
              "    <tr>\n",
              "      <th>9841</th>\n",
              "      <td>9841</td>\n",
              "      <td>0.031601</td>\n",
              "    </tr>\n",
              "    <tr>\n",
              "      <th>13062</th>\n",
              "      <td>13062</td>\n",
              "      <td>0.031318</td>\n",
              "    </tr>\n",
              "    <tr>\n",
              "      <th>15356</th>\n",
              "      <td>15356</td>\n",
              "      <td>0.023421</td>\n",
              "    </tr>\n",
              "    <tr>\n",
              "      <th>32752</th>\n",
              "      <td>32752</td>\n",
              "      <td>0.022965</td>\n",
              "    </tr>\n",
              "    <tr>\n",
              "      <th>27174</th>\n",
              "      <td>27174</td>\n",
              "      <td>0.021674</td>\n",
              "    </tr>\n",
              "  </tbody>\n",
              "</table>\n",
              "</div>"
            ],
            "text/plain": [
              "       feature  importance\n",
              "31595    31595    0.130002\n",
              "16895    16895    0.084205\n",
              "26643    26643    0.047640\n",
              "12815    12815    0.035789\n",
              "25295    25295    0.034852\n",
              "9841      9841    0.031601\n",
              "13062    13062    0.031318\n",
              "15356    15356    0.023421\n",
              "32752    32752    0.022965\n",
              "27174    27174    0.021674"
            ]
          },
          "metadata": {
            "tags": []
          },
          "execution_count": 242
        }
      ]
    },
    {
      "cell_type": "markdown",
      "metadata": {
        "id": "YlFOSsRLMPCP",
        "colab_type": "text"
      },
      "source": [
        "## Случайный лес"
      ]
    },
    {
      "cell_type": "markdown",
      "metadata": {
        "id": "LkBKg3-aMSRZ",
        "colab_type": "text"
      },
      "source": [
        "До кросс-валидации"
      ]
    },
    {
      "cell_type": "code",
      "metadata": {
        "id": "MiXGiA39MWKw",
        "colab_type": "code",
        "colab": {}
      },
      "source": [
        "model_RF = RandomForestClassifier().fit(X_train, y_train)\n",
        "predicted_RF = model_RF.predict(X_test)"
      ],
      "execution_count": 0,
      "outputs": []
    },
    {
      "cell_type": "code",
      "metadata": {
        "id": "qs43ThDaMhRJ",
        "colab_type": "code",
        "colab": {
          "base_uri": "https://localhost:8080/",
          "height": 34
        },
        "outputId": "1fd797fc-97af-4123-901c-7715def586dd"
      },
      "source": [
        "show_macro_f1(y_test, predicted_RF)"
      ],
      "execution_count": 198,
      "outputs": [
        {
          "output_type": "stream",
          "text": [
            "macro F1=0.8219\n"
          ],
          "name": "stdout"
        }
      ]
    },
    {
      "cell_type": "code",
      "metadata": {
        "id": "gqM3wbmEMxJm",
        "colab_type": "code",
        "colab": {
          "base_uri": "https://localhost:8080/",
          "height": 51
        },
        "outputId": "b088c9d5-95ca-45a9-bff6-22183b6441c0"
      },
      "source": [
        "results(model_RF)"
      ],
      "execution_count": 199,
      "outputs": [
        {
          "output_type": "stream",
          "text": [
            "result on train: 0.37399150743099785\n",
            "result on test: 0.22641844250891202\n"
          ],
          "name": "stdout"
        }
      ]
    },
    {
      "cell_type": "markdown",
      "metadata": {
        "id": "CDWh3fyaMbkf",
        "colab_type": "text"
      },
      "source": [
        "После"
      ]
    },
    {
      "cell_type": "code",
      "metadata": {
        "id": "S_7cd9b_sMZK",
        "colab_type": "code",
        "colab": {
          "base_uri": "https://localhost:8080/",
          "height": 51
        },
        "outputId": "dc903744-f06f-4f3c-bc3d-908c86eef1c2"
      },
      "source": [
        "RF = RandomForestClassifier()\n",
        "parameters_RF = {'n_estimators' : [10, 20, 30, 50, 100], 'criterion': ['gini', 'entropy'], 'min_samples_leaf': [3, 5, 7, 10],'max_features': ['auto', 'sqrt', 'log2']}\n",
        "\n",
        "make_grid_search(RF, parameters_RF, 'f1_macro', n_jobs=1)"
      ],
      "execution_count": 53,
      "outputs": [
        {
          "output_type": "stream",
          "text": [
            "Best score: 0.8994840462063676\n",
            "Best parameters: {'criterion': 'gini', 'max_features': 'auto', 'min_samples_leaf': 3, 'n_estimators': 100}\n"
          ],
          "name": "stdout"
        }
      ]
    },
    {
      "cell_type": "code",
      "metadata": {
        "id": "K3Slhj1BtgGK",
        "colab_type": "code",
        "colab": {}
      },
      "source": [
        "best_model_RF = RandomForestClassifier(criterion='gini', max_features='auto', min_samples_leaf=3, n_estimators=100).fit(X_train, y_train)\n",
        "predicted_RF = best_model_RF.predict(X_test)"
      ],
      "execution_count": 0,
      "outputs": []
    },
    {
      "cell_type": "code",
      "metadata": {
        "id": "rXL1Uw9btl9z",
        "colab_type": "code",
        "colab": {
          "base_uri": "https://localhost:8080/",
          "height": 34
        },
        "outputId": "0265bae5-3979-456f-d53f-e6b940ecc7e6"
      },
      "source": [
        "show_macro_f1(y_test, predicted_RF)"
      ],
      "execution_count": 201,
      "outputs": [
        {
          "output_type": "stream",
          "text": [
            "macro F1=0.8354\n"
          ],
          "name": "stdout"
        }
      ]
    },
    {
      "cell_type": "code",
      "metadata": {
        "id": "CjjVWGjqtrwy",
        "colab_type": "code",
        "colab": {
          "base_uri": "https://localhost:8080/",
          "height": 51
        },
        "outputId": "91cffd78-11fe-46dd-e085-61464675d2f3"
      },
      "source": [
        "results(best_model_RF)"
      ],
      "execution_count": 202,
      "outputs": [
        {
          "output_type": "stream",
          "text": [
            "result on train: 0.2980757256736496\n",
            "result on test: 0.1685397368411885\n"
          ],
          "name": "stdout"
        }
      ]
    },
    {
      "cell_type": "markdown",
      "metadata": {
        "id": "ihv0IFfnYbkR",
        "colab_type": "text"
      },
      "source": [
        "До macro f1 было 0.8219, после стало 0.8354, то есть, к сожалению, мы снова не наблюдаем большого улучшения качества. Посмотрим на признаки:"
      ]
    },
    {
      "cell_type": "code",
      "metadata": {
        "id": "_5eAtp6Ftuu4",
        "colab_type": "code",
        "colab": {
          "base_uri": "https://localhost:8080/",
          "height": 359
        },
        "outputId": "e61148d2-f5f8-45de-f272-ead0fc03066f"
      },
      "source": [
        "analyze_features(best_model_RF)"
      ],
      "execution_count": 246,
      "outputs": [
        {
          "output_type": "execute_result",
          "data": {
            "text/html": [
              "<div>\n",
              "<style scoped>\n",
              "    .dataframe tbody tr th:only-of-type {\n",
              "        vertical-align: middle;\n",
              "    }\n",
              "\n",
              "    .dataframe tbody tr th {\n",
              "        vertical-align: top;\n",
              "    }\n",
              "\n",
              "    .dataframe thead th {\n",
              "        text-align: right;\n",
              "    }\n",
              "</style>\n",
              "<table border=\"1\" class=\"dataframe\">\n",
              "  <thead>\n",
              "    <tr style=\"text-align: right;\">\n",
              "      <th></th>\n",
              "      <th>feature</th>\n",
              "      <th>weight</th>\n",
              "      <th>std</th>\n",
              "      <th>word</th>\n",
              "    </tr>\n",
              "  </thead>\n",
              "  <tbody>\n",
              "    <tr>\n",
              "      <th>0</th>\n",
              "      <td>x31595</td>\n",
              "      <td>0.024378</td>\n",
              "      <td>0.044016</td>\n",
              "      <td>space</td>\n",
              "    </tr>\n",
              "    <tr>\n",
              "      <th>1</th>\n",
              "      <td>x16895</td>\n",
              "      <td>0.019884</td>\n",
              "      <td>0.035311</td>\n",
              "      <td>graphics</td>\n",
              "    </tr>\n",
              "    <tr>\n",
              "      <th>2</th>\n",
              "      <td>x25295</td>\n",
              "      <td>0.014714</td>\n",
              "      <td>0.025689</td>\n",
              "      <td>orbit</td>\n",
              "    </tr>\n",
              "    <tr>\n",
              "      <th>3</th>\n",
              "      <td>x24027</td>\n",
              "      <td>0.010067</td>\n",
              "      <td>0.021048</td>\n",
              "      <td>nasa</td>\n",
              "    </tr>\n",
              "    <tr>\n",
              "      <th>4</th>\n",
              "      <td>x26643</td>\n",
              "      <td>0.009861</td>\n",
              "      <td>0.022463</td>\n",
              "      <td>pitt</td>\n",
              "    </tr>\n",
              "    <tr>\n",
              "      <th>5</th>\n",
              "      <td>x21046</td>\n",
              "      <td>0.006964</td>\n",
              "      <td>0.016391</td>\n",
              "      <td>launch</td>\n",
              "    </tr>\n",
              "    <tr>\n",
              "      <th>6</th>\n",
              "      <td>x22678</td>\n",
              "      <td>0.006117</td>\n",
              "      <td>0.013201</td>\n",
              "      <td>medical</td>\n",
              "    </tr>\n",
              "    <tr>\n",
              "      <th>7</th>\n",
              "      <td>x16314</td>\n",
              "      <td>0.006112</td>\n",
              "      <td>0.018539</td>\n",
              "      <td>geb</td>\n",
              "    </tr>\n",
              "    <tr>\n",
              "      <th>8</th>\n",
              "      <td>x31131</td>\n",
              "      <td>0.006036</td>\n",
              "      <td>0.016936</td>\n",
              "      <td>skepticism</td>\n",
              "    </tr>\n",
              "    <tr>\n",
              "      <th>9</th>\n",
              "      <td>x27108</td>\n",
              "      <td>0.005851</td>\n",
              "      <td>0.010288</td>\n",
              "      <td>power</td>\n",
              "    </tr>\n",
              "  </tbody>\n",
              "</table>\n",
              "</div>"
            ],
            "text/plain": [
              "  feature    weight       std        word\n",
              "0  x31595  0.024378  0.044016       space\n",
              "1  x16895  0.019884  0.035311    graphics\n",
              "2  x25295  0.014714  0.025689       orbit\n",
              "3  x24027  0.010067  0.021048        nasa\n",
              "4  x26643  0.009861  0.022463        pitt\n",
              "5  x21046  0.006964  0.016391      launch\n",
              "6  x22678  0.006117  0.013201     medical\n",
              "7  x16314  0.006112  0.018539         geb\n",
              "8  x31131  0.006036  0.016936  skepticism\n",
              "9  x27108  0.005851  0.010288       power"
            ]
          },
          "metadata": {
            "tags": []
          },
          "execution_count": 246
        }
      ]
    },
    {
      "cell_type": "markdown",
      "metadata": {
        "id": "hwBwmTZRw9Wq",
        "colab_type": "text"
      },
      "source": [
        "*Используйте параметры CountVectorizer, для того, чтобы уменьшить количество признаков и убрать нерелевантные (например числа, токены слишком низкой или высокой документной частотой, и т.д.), постарайтесь добиться улучшения результатов работы моделей (снова выводите результаты модели на трейне и на тесте, чтобы видеть, уменьшается ли переобучение)*"
      ]
    },
    {
      "cell_type": "markdown",
      "metadata": {
        "id": "5JjjRr5YY44m",
        "colab_type": "text"
      },
      "source": [
        "Попробуем ограничить частотность, добавить биграммы и стоп-слова."
      ]
    },
    {
      "cell_type": "code",
      "metadata": {
        "id": "VyUHj5exIw78",
        "colab_type": "code",
        "colab": {}
      },
      "source": [
        "count_vect = CountVectorizer(max_df=200, min_df=3, ngram_range=(1,2), stop_words='english')\n",
        "y_train = data_train.target\n",
        "y_test = data_test.target\n",
        "X_train = count_vect.fit_transform(data_train.data) \n",
        "X_test = count_vect.transform(data_test.data) "
      ],
      "execution_count": 0,
      "outputs": []
    },
    {
      "cell_type": "code",
      "metadata": {
        "id": "0S3AZQTBNPMW",
        "colab_type": "code",
        "colab": {
          "base_uri": "https://localhost:8080/",
          "height": 51
        },
        "outputId": "bce41f82-ef30-4b38-9905-95964c9f971f"
      },
      "source": [
        "%%time\n",
        "best_model_LR = LogisticRegression(penalty='l1', C=100.0, solver='liblinear', max_iter=100).fit(X_train, y_train)\n",
        "predicted_LR = best_model_LR.predict(X_test)"
      ],
      "execution_count": 278,
      "outputs": [
        {
          "output_type": "stream",
          "text": [
            "CPU times: user 28.4 s, sys: 8.85 ms, total: 28.5 s\n",
            "Wall time: 28.5 s\n"
          ],
          "name": "stdout"
        }
      ]
    },
    {
      "cell_type": "code",
      "metadata": {
        "id": "vVFUllXMNVJk",
        "colab_type": "code",
        "colab": {
          "base_uri": "https://localhost:8080/",
          "height": 34
        },
        "outputId": "2a6dafd6-10f6-4c1c-a78d-940e7d8257f2"
      },
      "source": [
        "show_macro_f1(y_test, predicted_LR)"
      ],
      "execution_count": 279,
      "outputs": [
        {
          "output_type": "stream",
          "text": [
            "macro F1=0.8652\n"
          ],
          "name": "stdout"
        }
      ]
    },
    {
      "cell_type": "code",
      "metadata": {
        "id": "gAm8-qZKNWS1",
        "colab_type": "code",
        "colab": {
          "base_uri": "https://localhost:8080/",
          "height": 51
        },
        "outputId": "5b49ffcb-5351-4832-d7dd-851ac760cea7"
      },
      "source": [
        "results(best_model_LR)"
      ],
      "execution_count": 280,
      "outputs": [
        {
          "output_type": "stream",
          "text": [
            "result on train: 0.37399150743099785\n",
            "result on test: 0.32881675082684036\n"
          ],
          "name": "stdout"
        }
      ]
    },
    {
      "cell_type": "code",
      "metadata": {
        "id": "6VCq2Om0NDqe",
        "colab_type": "code",
        "colab": {}
      },
      "source": [
        "best_model_DT = DecisionTreeClassifier(max_depth=50, splitter='random').fit(X_train, y_train)\n",
        "predicted_DT = best_model_DT.predict(X_test)"
      ],
      "execution_count": 0,
      "outputs": []
    },
    {
      "cell_type": "code",
      "metadata": {
        "id": "rP7JRP3jNKSZ",
        "colab_type": "code",
        "colab": {
          "base_uri": "https://localhost:8080/",
          "height": 34
        },
        "outputId": "bd7b25dd-9b48-48ae-e4f2-c77c8ac6ed27"
      },
      "source": [
        "show_macro_f1(y_test, predicted_DT)"
      ],
      "execution_count": 282,
      "outputs": [
        {
          "output_type": "stream",
          "text": [
            "macro F1=0.6932\n"
          ],
          "name": "stdout"
        }
      ]
    },
    {
      "cell_type": "code",
      "metadata": {
        "id": "Bl0CERRiNGf4",
        "colab_type": "code",
        "colab": {
          "base_uri": "https://localhost:8080/",
          "height": 51
        },
        "outputId": "77927b1a-4f76-44a9-a625-07d7abaec848"
      },
      "source": [
        "results(best_model_DT)"
      ],
      "execution_count": 283,
      "outputs": [
        {
          "output_type": "stream",
          "text": [
            "result on train: 0.3285428858677131\n",
            "result on test: 0.2705484733216819\n"
          ],
          "name": "stdout"
        }
      ]
    },
    {
      "cell_type": "code",
      "metadata": {
        "id": "Nj-RBas8M5xg",
        "colab_type": "code",
        "colab": {}
      },
      "source": [
        "best_model_RF = RandomForestClassifier(criterion='gini', max_features='auto', min_samples_leaf=3, n_estimators=100).fit(X_train, y_train)\n",
        "predicted_RF = best_model_RF.predict(X_test)"
      ],
      "execution_count": 0,
      "outputs": []
    },
    {
      "cell_type": "code",
      "metadata": {
        "id": "EVp3G2BiNI2O",
        "colab_type": "code",
        "colab": {
          "base_uri": "https://localhost:8080/",
          "height": 34
        },
        "outputId": "c3ec2d6d-7704-4883-a7c4-7b10c40d2881"
      },
      "source": [
        "show_macro_f1(y_test, predicted_RF)"
      ],
      "execution_count": 285,
      "outputs": [
        {
          "output_type": "stream",
          "text": [
            "macro F1=0.8711\n"
          ],
          "name": "stdout"
        }
      ]
    },
    {
      "cell_type": "code",
      "metadata": {
        "id": "FNOaYv6oM-d1",
        "colab_type": "code",
        "colab": {
          "base_uri": "https://localhost:8080/",
          "height": 51
        },
        "outputId": "80f3d2d0-7f4a-4420-e13e-790a73fd2f74"
      },
      "source": [
        "results(best_model_RF)"
      ],
      "execution_count": 286,
      "outputs": [
        {
          "output_type": "stream",
          "text": [
            "result on train: 0.29503204468132427\n",
            "result on test: 0.16752626485394972\n"
          ],
          "name": "stdout"
        }
      ]
    },
    {
      "cell_type": "markdown",
      "metadata": {
        "id": "YfSfkvvIY-5e",
        "colab_type": "text"
      },
      "source": [
        "У деревьев решений F1 мера немного ухудшилась: было 0.7334, стало 0.6932. То же можно наблюдать у логрегрессии: ее F1 мера стала 0.8652, хотя была 0.8775. Случайный лес, наоборот, показал прирост: мера была 0.8354, стала 0.8711. При этом при изменении разных параметров CountVectorizer я неизменно получала более низкий результат для логрегрессии и деревьев решений, поэтому можно сделать вывод, что эти два классификатора работают лучше, когда параметры векторайзера не трогают."
      ]
    }
  ]
}