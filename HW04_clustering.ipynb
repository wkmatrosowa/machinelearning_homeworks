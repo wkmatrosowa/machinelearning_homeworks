{
  "nbformat": 4,
  "nbformat_minor": 0,
  "metadata": {
    "kernelspec": {
      "display_name": "Python 3",
      "language": "python",
      "name": "python3"
    },
    "language_info": {
      "codemirror_mode": {
        "name": "ipython",
        "version": 3
      },
      "file_extension": ".py",
      "mimetype": "text/x-python",
      "name": "python",
      "nbconvert_exporter": "python",
      "pygments_lexer": "ipython3",
      "version": "3.6.5"
    },
    "colab": {
      "name": "HW04_clustering.ipynb",
      "provenance": [],
      "collapsed_sections": [],
      "toc_visible": true,
      "include_colab_link": true
    },
    "accelerator": "GPU"
  },
  "cells": [
    {
      "cell_type": "markdown",
      "metadata": {
        "id": "view-in-github",
        "colab_type": "text"
      },
      "source": [
        "<a href=\"https://colab.research.google.com/github/wksmirnowa/machinelearning_homeworks/blob/master/HW04_clustering.ipynb\" target=\"_parent\"><img src=\"https://colab.research.google.com/assets/colab-badge.svg\" alt=\"Open In Colab\"/></a>"
      ]
    },
    {
      "cell_type": "markdown",
      "metadata": {
        "id": "rhR-r0gwODyQ",
        "colab_type": "text"
      },
      "source": [
        "# Кластеризация\n",
        "\n",
        "## Импорты и подготовка"
      ]
    },
    {
      "cell_type": "code",
      "metadata": {
        "id": "qL0HW1q223EH",
        "colab_type": "code",
        "outputId": "74970444-0749-41bf-94fc-a00e2c3bc734",
        "colab": {
          "base_uri": "https://localhost:8080/",
          "height": 71
        }
      },
      "source": [
        "# !jupyter nbconvert --to html '/content/drive/My Drive/Colab Notebooks/HW04_clustering.ipynb'"
      ],
      "execution_count": 0,
      "outputs": [
        {
          "output_type": "stream",
          "text": [
            "[NbConvertApp] Converting notebook /content/drive/My Drive/Colab Notebooks/HW04_clustering.ipynb to html\n",
            "[NbConvertApp] Writing 363662 bytes to /content/drive/My Drive/Colab Notebooks/HW04_clustering.html\n"
          ],
          "name": "stdout"
        }
      ]
    },
    {
      "cell_type": "code",
      "metadata": {
        "id": "u9JcOOzM57bg",
        "colab_type": "code",
        "outputId": "06793a90-9c99-4bbc-a641-e93592be7793",
        "colab": {
          "base_uri": "https://localhost:8080/",
          "height": 122
        }
      },
      "source": [
        "from google.colab import drive\n",
        "drive.mount('/content/drive')"
      ],
      "execution_count": 4,
      "outputs": [
        {
          "output_type": "stream",
          "text": [
            "Go to this URL in a browser: https://accounts.google.com/o/oauth2/auth?client_id=947318989803-6bn6qk8qdgf4n4g3pfee6491hc0brc4i.apps.googleusercontent.com&redirect_uri=urn%3aietf%3awg%3aoauth%3a2.0%3aoob&response_type=code&scope=email%20https%3a%2f%2fwww.googleapis.com%2fauth%2fdocs.test%20https%3a%2f%2fwww.googleapis.com%2fauth%2fdrive%20https%3a%2f%2fwww.googleapis.com%2fauth%2fdrive.photos.readonly%20https%3a%2f%2fwww.googleapis.com%2fauth%2fpeopleapi.readonly\n",
            "\n",
            "Enter your authorization code:\n",
            "··········\n",
            "Mounted at /content/drive\n"
          ],
          "name": "stdout"
        }
      ]
    },
    {
      "cell_type": "code",
      "metadata": {
        "id": "f6rVL4oKx7zx",
        "colab_type": "code",
        "colab": {}
      },
      "source": [
        "import pandas as pd\n",
        "from sklearn.cluster import AffinityPropagation, \\\n",
        "                            KMeans, MiniBatchKMeans, Birch, MeanShift, DBSCAN\n",
        "from sklearn.metrics import adjusted_rand_score, adjusted_mutual_info_score, \\\n",
        "                            silhouette_score\n",
        "\n",
        "from sklearn.feature_extraction.text import CountVectorizer, TfidfVectorizer\n",
        "from sklearn.decomposition import TruncatedSVD, NMF\n",
        "from sklearn.ensemble import IsolationForest\n",
        "from sklearn.covariance import EllipticEnvelope\n",
        "from sklearn.svm import OneClassSVM\n",
        "from sklearn import metrics\n",
        "from sklearn.datasets import make_blobs\n",
        "import warnings\n",
        "warnings.filterwarnings(\"ignore\")"
      ],
      "execution_count": 0,
      "outputs": []
    },
    {
      "cell_type": "code",
      "metadata": {
        "id": "VW8HfFlK8TLS",
        "colab_type": "code",
        "colab": {}
      },
      "source": [
        "def show_metrics(X, y, labels):\n",
        "  print(\"Homogeneity: %0.3f\" % metrics.homogeneity_score(y, labels)) # проверяет, что в кластере объекты одного класса\n",
        "  print(\"Completeness: %0.3f\" % metrics.completeness_score(y, labels)) # проверяет, что объекты класса только в одном кластере\n",
        "  print(\"V-measure: %0.3f\" % metrics.v_measure_score(y, labels)) # превращает обе метрики в одну \n",
        "  print(\"Adjusted Rand Index: %0.3f\" % metrics.adjusted_rand_score(y, labels))\n",
        "  print(\"Adjusted Mutual Information: %0.3f\" % metrics.adjusted_mutual_info_score(y, labels))\n",
        "  print(\"Silhouette Coefficient: %0.3f\" % metrics.silhouette_score(X, labels))"
      ],
      "execution_count": 0,
      "outputs": []
    },
    {
      "cell_type": "code",
      "metadata": {
        "id": "NdpUgutMABs2",
        "colab_type": "code",
        "colab": {}
      },
      "source": [
        "def clasterisation(X, cluster_model):\n",
        "  cluster_model.fit(X)\n",
        "  labels = cluster_model.labels_\n",
        "  return labels"
      ],
      "execution_count": 0,
      "outputs": []
    },
    {
      "cell_type": "code",
      "metadata": {
        "id": "xFPZmH1Rx70n",
        "colab_type": "code",
        "colab": {}
      },
      "source": [
        "data = pd.read_csv('/content/drive/My Drive/data.csv')"
      ],
      "execution_count": 0,
      "outputs": []
    },
    {
      "cell_type": "code",
      "metadata": {
        "id": "rDuY2sJix709",
        "colab_type": "code",
        "outputId": "56a41e96-f43b-47b3-9f3f-54f95a58be24",
        "colab": {
          "base_uri": "https://localhost:8080/",
          "height": 513
        }
      },
      "source": [
        "data.head(5)"
      ],
      "execution_count": 0,
      "outputs": [
        {
          "output_type": "execute_result",
          "data": {
            "text/html": [
              "<div>\n",
              "<style scoped>\n",
              "    .dataframe tbody tr th:only-of-type {\n",
              "        vertical-align: middle;\n",
              "    }\n",
              "\n",
              "    .dataframe tbody tr th {\n",
              "        vertical-align: top;\n",
              "    }\n",
              "\n",
              "    .dataframe thead th {\n",
              "        text-align: right;\n",
              "    }\n",
              "</style>\n",
              "<table border=\"1\" class=\"dataframe\">\n",
              "  <thead>\n",
              "    <tr style=\"text-align: right;\">\n",
              "      <th></th>\n",
              "      <th>item_id</th>\n",
              "      <th>user_id</th>\n",
              "      <th>region</th>\n",
              "      <th>city</th>\n",
              "      <th>parent_category_name</th>\n",
              "      <th>category_name</th>\n",
              "      <th>param_1</th>\n",
              "      <th>param_2</th>\n",
              "      <th>param_3</th>\n",
              "      <th>title</th>\n",
              "      <th>description</th>\n",
              "      <th>price</th>\n",
              "      <th>item_seq_number</th>\n",
              "      <th>activation_date</th>\n",
              "      <th>user_type</th>\n",
              "      <th>image</th>\n",
              "      <th>image_top_1</th>\n",
              "    </tr>\n",
              "  </thead>\n",
              "  <tbody>\n",
              "    <tr>\n",
              "      <th>0</th>\n",
              "      <td>793dd3d5f0f0</td>\n",
              "      <td>9467e0341c0e</td>\n",
              "      <td>Алтайский край</td>\n",
              "      <td>Барнаул</td>\n",
              "      <td>Личные вещи</td>\n",
              "      <td>Детская одежда и обувь</td>\n",
              "      <td>Для девочек</td>\n",
              "      <td>Платья и юбки</td>\n",
              "      <td>146-152 см (10-12 лет)</td>\n",
              "      <td>Платье праздничное для девочки</td>\n",
              "      <td>Очень красивое торг</td>\n",
              "      <td>1500.0</td>\n",
              "      <td>106</td>\n",
              "      <td>2017-04-12</td>\n",
              "      <td>Company</td>\n",
              "      <td>ace7b2b7f066a6b6ff244f90d030c2c1a1bf118dd0e1ac...</td>\n",
              "      <td>573.0</td>\n",
              "    </tr>\n",
              "    <tr>\n",
              "      <th>1</th>\n",
              "      <td>f8c965d9b668</td>\n",
              "      <td>1905516660f5</td>\n",
              "      <td>Свердловская область</td>\n",
              "      <td>Каменск-Уральский</td>\n",
              "      <td>Для дома и дачи</td>\n",
              "      <td>Мебель и интерьер</td>\n",
              "      <td>Кровати, диваны и кресла</td>\n",
              "      <td>NaN</td>\n",
              "      <td>NaN</td>\n",
              "      <td>Кровать двухспальная</td>\n",
              "      <td>Двуспальная кровать 140х200 с металлическим ка...</td>\n",
              "      <td>5700.0</td>\n",
              "      <td>10</td>\n",
              "      <td>2017-04-15</td>\n",
              "      <td>Private</td>\n",
              "      <td>b38ef24dd5b876ed626bd98241e228e4e19e4160d33abe...</td>\n",
              "      <td>1439.0</td>\n",
              "    </tr>\n",
              "    <tr>\n",
              "      <th>2</th>\n",
              "      <td>2f153c00d561</td>\n",
              "      <td>b4dc4849fdd4</td>\n",
              "      <td>Самарская область</td>\n",
              "      <td>Самара</td>\n",
              "      <td>Бытовая электроника</td>\n",
              "      <td>Телефоны</td>\n",
              "      <td>Samsung</td>\n",
              "      <td>NaN</td>\n",
              "      <td>NaN</td>\n",
              "      <td>Samsung S3 mini gt-i8190</td>\n",
              "      <td>Продам телефон самсунг 2 ядра, 1 гиг оперативн...</td>\n",
              "      <td>1500.0</td>\n",
              "      <td>6</td>\n",
              "      <td>2017-04-12</td>\n",
              "      <td>Private</td>\n",
              "      <td>8530cc0c8d5dc6d212497dffd610d89b92a7db952934db...</td>\n",
              "      <td>2932.0</td>\n",
              "    </tr>\n",
              "    <tr>\n",
              "      <th>3</th>\n",
              "      <td>7fc5eea56915</td>\n",
              "      <td>02c14d39fdb4</td>\n",
              "      <td>Саратовская область</td>\n",
              "      <td>Саратов</td>\n",
              "      <td>Личные вещи</td>\n",
              "      <td>Одежда, обувь, аксессуары</td>\n",
              "      <td>Женская одежда</td>\n",
              "      <td>Платья и юбки</td>\n",
              "      <td>44–46 (M)</td>\n",
              "      <td>Красивое платье на одно плечо, в идеале размер м</td>\n",
              "      <td>Заказывала в Сша, прекрасное качество, в деле ...</td>\n",
              "      <td>1000.0</td>\n",
              "      <td>1280</td>\n",
              "      <td>2017-04-13</td>\n",
              "      <td>Company</td>\n",
              "      <td>eb21745ba276d3b00b05856a58fe719e31a82419c0221a...</td>\n",
              "      <td>386.0</td>\n",
              "    </tr>\n",
              "    <tr>\n",
              "      <th>4</th>\n",
              "      <td>b01000d29ea3</td>\n",
              "      <td>b17f14110367</td>\n",
              "      <td>Удмуртия</td>\n",
              "      <td>Ижевск</td>\n",
              "      <td>Личные вещи</td>\n",
              "      <td>Детская одежда и обувь</td>\n",
              "      <td>Для мальчиков</td>\n",
              "      <td>Шапки, варежки, шарфы</td>\n",
              "      <td>NaN</td>\n",
              "      <td>Стильная панама</td>\n",
              "      <td>Состояние новой. Размер до года- полтора.  По ...</td>\n",
              "      <td>150.0</td>\n",
              "      <td>145</td>\n",
              "      <td>2017-04-14</td>\n",
              "      <td>Company</td>\n",
              "      <td>5bf1001fa681b96f121ad8047c85e3747f3dac37830dd0...</td>\n",
              "      <td>209.0</td>\n",
              "    </tr>\n",
              "  </tbody>\n",
              "</table>\n",
              "</div>"
            ],
            "text/plain": [
              "        item_id  ... image_top_1\n",
              "0  793dd3d5f0f0  ...       573.0\n",
              "1  f8c965d9b668  ...      1439.0\n",
              "2  2f153c00d561  ...      2932.0\n",
              "3  7fc5eea56915  ...       386.0\n",
              "4  b01000d29ea3  ...       209.0\n",
              "\n",
              "[5 rows x 17 columns]"
            ]
          },
          "metadata": {
            "tags": []
          },
          "execution_count": 4
        }
      ]
    },
    {
      "cell_type": "code",
      "metadata": {
        "id": "HGrYT_uIx71W",
        "colab_type": "code",
        "colab": {}
      },
      "source": [
        "data = data[['category_name', 'title']]"
      ],
      "execution_count": 0,
      "outputs": []
    },
    {
      "cell_type": "code",
      "metadata": {
        "id": "g2rcuB9Ux72w",
        "colab_type": "code",
        "outputId": "8b34cd25-cc9e-4a23-f64d-b6977495cf80",
        "colab": {
          "base_uri": "https://localhost:8080/",
          "height": 34
        }
      },
      "source": [
        "data.shape"
      ],
      "execution_count": 0,
      "outputs": [
        {
          "output_type": "execute_result",
          "data": {
            "text/plain": [
              "(254219, 2)"
            ]
          },
          "metadata": {
            "tags": []
          },
          "execution_count": 9
        }
      ]
    },
    {
      "cell_type": "code",
      "metadata": {
        "id": "GMZQDaTgx73Z",
        "colab_type": "code",
        "colab": {}
      },
      "source": [
        "pd.set_option('display.max_rows', 500)"
      ],
      "execution_count": 0,
      "outputs": []
    },
    {
      "cell_type": "markdown",
      "metadata": {
        "id": "PpSZysSXx73c",
        "colab_type": "text"
      },
      "source": [
        "## Задание 1."
      ]
    },
    {
      "cell_type": "markdown",
      "metadata": {
        "id": "SxQHVRL6x73o",
        "colab_type": "text"
      },
      "source": [
        "### AffinityPropagation"
      ]
    },
    {
      "cell_type": "code",
      "metadata": {
        "id": "sizL4hIqx731",
        "colab_type": "code",
        "colab": {}
      },
      "source": [
        "sample = data.sample(frac=0.01)"
      ],
      "execution_count": 0,
      "outputs": []
    },
    {
      "cell_type": "code",
      "metadata": {
        "id": "F_YLVHuex74L",
        "colab_type": "code",
        "outputId": "b8d355da-8135-45b4-d960-6688d8557c59",
        "colab": {
          "base_uri": "https://localhost:8080/",
          "height": 34
        }
      },
      "source": [
        "sample.shape"
      ],
      "execution_count": 0,
      "outputs": [
        {
          "output_type": "execute_result",
          "data": {
            "text/plain": [
              "(2542, 2)"
            ]
          },
          "metadata": {
            "tags": []
          },
          "execution_count": 17
        }
      ]
    },
    {
      "cell_type": "code",
      "metadata": {
        "id": "WyTwLY_T7_yX",
        "colab_type": "code",
        "colab": {}
      },
      "source": [
        "cv = CountVectorizer(max_df=300, min_df=2, max_features=500, ngram_range=(1,2))\n",
        "tfidf = TfidfVectorizer(max_df=300, min_df=2, max_features=500, ngram_range=(1,2))\n",
        "X_cv = cv.fit_transform(sample['title'])\n",
        "X_tfidf = tfidf.fit_transform(sample['title'])"
      ],
      "execution_count": 0,
      "outputs": []
    },
    {
      "cell_type": "code",
      "metadata": {
        "id": "VkI0teGB89yp",
        "colab_type": "code",
        "colab": {}
      },
      "source": [
        "y = sample['category_name']"
      ],
      "execution_count": 0,
      "outputs": []
    },
    {
      "cell_type": "code",
      "metadata": {
        "id": "CvgUPZepx75h",
        "colab_type": "code",
        "colab": {}
      },
      "source": [
        "cluster_AP = AffinityPropagation(damping=0.9, preference=-10, \n",
        "                              max_iter=400, verbose=2)"
      ],
      "execution_count": 0,
      "outputs": []
    },
    {
      "cell_type": "code",
      "metadata": {
        "id": "prTkgo0bBvF2",
        "colab_type": "code",
        "outputId": "bc1ba760-edae-41b3-849b-61a1eae37c9e",
        "colab": {
          "base_uri": "https://localhost:8080/",
          "height": 68
        }
      },
      "source": [
        "%%time\n",
        "labels_AP_cv = clasterisation(X=X_cv, cluster_model=cluster_AP)"
      ],
      "execution_count": 0,
      "outputs": [
        {
          "output_type": "stream",
          "text": [
            "Converged after 278 iterations.\n",
            "CPU times: user 37.4 s, sys: 17.4 ms, total: 37.4 s\n",
            "Wall time: 37.4 s\n"
          ],
          "name": "stdout"
        }
      ]
    },
    {
      "cell_type": "code",
      "metadata": {
        "id": "QC3R6J1IMm6O",
        "colab_type": "code",
        "outputId": "c29c8d5b-1b89-4d9e-bb3a-41bcb27bcd6f",
        "colab": {
          "base_uri": "https://localhost:8080/",
          "height": 119
        }
      },
      "source": [
        "show_metrics(X=X_cv, y=y, labels=labels_AP_cv)"
      ],
      "execution_count": 0,
      "outputs": [
        {
          "output_type": "stream",
          "text": [
            "Homogeneity: 0.322\n",
            "Completeness: 0.371\n",
            "V-measure: 0.344\n",
            "Adjusted Rand Index: -0.022\n",
            "Adjusted Mutual Information: 0.246\n",
            "Silhouette Coefficient: 0.280\n"
          ],
          "name": "stdout"
        }
      ]
    },
    {
      "cell_type": "code",
      "metadata": {
        "id": "hsdN7Bt_B8jR",
        "colab_type": "code",
        "outputId": "98bce661-bbe9-4c30-84ed-475d9a646a67",
        "colab": {
          "base_uri": "https://localhost:8080/",
          "height": 68
        }
      },
      "source": [
        "%%time\n",
        "labels_AP_tfidf = clasterisation(X=X_tfidf, cluster_model=cluster_AP)"
      ],
      "execution_count": 0,
      "outputs": [
        {
          "output_type": "stream",
          "text": [
            "Converged after 31 iterations.\n",
            "CPU times: user 4.73 s, sys: 1.97 ms, total: 4.73 s\n",
            "Wall time: 4.74 s\n"
          ],
          "name": "stdout"
        }
      ]
    },
    {
      "cell_type": "code",
      "metadata": {
        "id": "2frd5a5-CKQj",
        "colab_type": "code",
        "outputId": "5a7d7b54-6724-49e1-be50-aa84872b1953",
        "colab": {
          "base_uri": "https://localhost:8080/",
          "height": 119
        }
      },
      "source": [
        "show_metrics(X=X_tfidf, y=y, labels=labels_AP_tfidf)"
      ],
      "execution_count": 0,
      "outputs": [
        {
          "output_type": "stream",
          "text": [
            "Homogeneity: 0.651\n",
            "Completeness: 0.329\n",
            "V-measure: 0.437\n",
            "Adjusted Rand Index: 0.022\n",
            "Adjusted Mutual Information: 0.124\n",
            "Silhouette Coefficient: -0.288\n"
          ],
          "name": "stdout"
        }
      ]
    },
    {
      "cell_type": "code",
      "metadata": {
        "id": "xLU4hecc_IWh",
        "colab_type": "code",
        "outputId": "3593e588-4fbd-480d-8038-4e1328956e00",
        "colab": {
          "base_uri": "https://localhost:8080/",
          "height": 34
        }
      },
      "source": [
        "len(set(labels_AP_cv))"
      ],
      "execution_count": 0,
      "outputs": [
        {
          "output_type": "execute_result",
          "data": {
            "text/plain": [
              "75"
            ]
          },
          "metadata": {
            "tags": []
          },
          "execution_count": 111
        }
      ]
    },
    {
      "cell_type": "code",
      "metadata": {
        "id": "GTgnYAPeJpoq",
        "colab_type": "code",
        "outputId": "a6279306-c688-4c6b-92f9-5f59693bdcff",
        "colab": {
          "base_uri": "https://localhost:8080/",
          "height": 34
        }
      },
      "source": [
        "len(set(labels_AP_tfidf))"
      ],
      "execution_count": 0,
      "outputs": [
        {
          "output_type": "execute_result",
          "data": {
            "text/plain": [
              "585"
            ]
          },
          "metadata": {
            "tags": []
          },
          "execution_count": 112
        }
      ]
    },
    {
      "cell_type": "code",
      "metadata": {
        "id": "QJr8OgNm_PBU",
        "colab_type": "code",
        "colab": {}
      },
      "source": [
        "sample['cluster_cv'] = labels_AP_cv"
      ],
      "execution_count": 0,
      "outputs": []
    },
    {
      "cell_type": "code",
      "metadata": {
        "id": "_YmVvW2FgZZY",
        "colab_type": "code",
        "colab": {}
      },
      "source": [
        "sample['cluster_tfidf'] = labels_AP_tfidf"
      ],
      "execution_count": 0,
      "outputs": []
    },
    {
      "cell_type": "markdown",
      "metadata": {
        "id": "3IG1MjEJhEJU",
        "colab_type": "text"
      },
      "source": [
        "У TfidfVectorizer выше Homogeneity, а у CountVectorizer – коэффициент силуэтов и Completeness. Это интересно потому, что какие-то метрики лучше у одного векторайзера, какие-то – у другого, то есть победителя по метрикам выбрать трудно. Но с точки зрения человеческого взгляда на раскластеризованные данные CountVectorizer, то есть векторайзер с более высоким коэффициентом силуэтов, выигрывает, потому что в целом лучше выделяет кластеры (чуть больше в целом похожих объявлений попадаются в одном кластере)."
      ]
    },
    {
      "cell_type": "code",
      "metadata": {
        "id": "fIxCLUtH_U2f",
        "colab_type": "code",
        "outputId": "cbccb4be-5fb4-4162-9fd8-a887b77244cc",
        "colab": {
          "base_uri": "https://localhost:8080/",
          "height": 359
        }
      },
      "source": [
        "sample[sample.cluster_cv==50].head(10)"
      ],
      "execution_count": 0,
      "outputs": [
        {
          "output_type": "execute_result",
          "data": {
            "text/html": [
              "<div>\n",
              "<style scoped>\n",
              "    .dataframe tbody tr th:only-of-type {\n",
              "        vertical-align: middle;\n",
              "    }\n",
              "\n",
              "    .dataframe tbody tr th {\n",
              "        vertical-align: top;\n",
              "    }\n",
              "\n",
              "    .dataframe thead th {\n",
              "        text-align: right;\n",
              "    }\n",
              "</style>\n",
              "<table border=\"1\" class=\"dataframe\">\n",
              "  <thead>\n",
              "    <tr style=\"text-align: right;\">\n",
              "      <th></th>\n",
              "      <th>category_name</th>\n",
              "      <th>title</th>\n",
              "      <th>cluster_cv</th>\n",
              "      <th>cluster_tfidf</th>\n",
              "    </tr>\n",
              "  </thead>\n",
              "  <tbody>\n",
              "    <tr>\n",
              "      <th>134365</th>\n",
              "      <td>Одежда, обувь, аксессуары</td>\n",
              "      <td>Новая сумочка GoldFish KP-02</td>\n",
              "      <td>50</td>\n",
              "      <td>21</td>\n",
              "    </tr>\n",
              "    <tr>\n",
              "      <th>223572</th>\n",
              "      <td>Товары для детей и игрушки</td>\n",
              "      <td>Коляска 2в1 индиана лен. Новая. коричневый</td>\n",
              "      <td>50</td>\n",
              "      <td>436</td>\n",
              "    </tr>\n",
              "    <tr>\n",
              "      <th>215729</th>\n",
              "      <td>Одежда, обувь, аксессуары</td>\n",
              "      <td>Новая водолазка</td>\n",
              "      <td>50</td>\n",
              "      <td>119</td>\n",
              "    </tr>\n",
              "    <tr>\n",
              "      <th>128927</th>\n",
              "      <td>Одежда, обувь, аксессуары</td>\n",
              "      <td>Новая юбка, об 102 см</td>\n",
              "      <td>50</td>\n",
              "      <td>192</td>\n",
              "    </tr>\n",
              "    <tr>\n",
              "      <th>56493</th>\n",
              "      <td>Красота и здоровье</td>\n",
              "      <td>Трость как новая</td>\n",
              "      <td>50</td>\n",
              "      <td>247</td>\n",
              "    </tr>\n",
              "    <tr>\n",
              "      <th>100405</th>\n",
              "      <td>Мебель и интерьер</td>\n",
              "      <td>Новая люстра</td>\n",
              "      <td>50</td>\n",
              "      <td>163</td>\n",
              "    </tr>\n",
              "    <tr>\n",
              "      <th>215354</th>\n",
              "      <td>Детская одежда и обувь</td>\n",
              "      <td>Стильная новая парка.98-110</td>\n",
              "      <td>50</td>\n",
              "      <td>491</td>\n",
              "    </tr>\n",
              "    <tr>\n",
              "      <th>5468</th>\n",
              "      <td>Мебель и интерьер</td>\n",
              "      <td>Кухня угловая новая с выставки</td>\n",
              "      <td>50</td>\n",
              "      <td>300</td>\n",
              "    </tr>\n",
              "    <tr>\n",
              "      <th>84386</th>\n",
              "      <td>Охота и рыбалка</td>\n",
              "      <td>Коптильня заводская почти новая.Пр-во Италия</td>\n",
              "      <td>50</td>\n",
              "      <td>377</td>\n",
              "    </tr>\n",
              "    <tr>\n",
              "      <th>181550</th>\n",
              "      <td>Бытовая техника</td>\n",
              "      <td>Новая, ну или почти новая</td>\n",
              "      <td>50</td>\n",
              "      <td>379</td>\n",
              "    </tr>\n",
              "  </tbody>\n",
              "</table>\n",
              "</div>"
            ],
            "text/plain": [
              "                     category_name  ... cluster_tfidf\n",
              "134365   Одежда, обувь, аксессуары  ...            21\n",
              "223572  Товары для детей и игрушки  ...           436\n",
              "215729   Одежда, обувь, аксессуары  ...           119\n",
              "128927   Одежда, обувь, аксессуары  ...           192\n",
              "56493           Красота и здоровье  ...           247\n",
              "100405           Мебель и интерьер  ...           163\n",
              "215354      Детская одежда и обувь  ...           491\n",
              "5468             Мебель и интерьер  ...           300\n",
              "84386              Охота и рыбалка  ...           377\n",
              "181550             Бытовая техника  ...           379\n",
              "\n",
              "[10 rows x 4 columns]"
            ]
          },
          "metadata": {
            "tags": []
          },
          "execution_count": 115
        }
      ]
    },
    {
      "cell_type": "code",
      "metadata": {
        "id": "17r3XaLcgfRy",
        "colab_type": "code",
        "outputId": "0765fb64-6553-4067-9315-2c17e4b11393",
        "colab": {
          "base_uri": "https://localhost:8080/",
          "height": 348
        }
      },
      "source": [
        "sample[sample.cluster_tfidf==50].head(10)"
      ],
      "execution_count": 0,
      "outputs": [
        {
          "output_type": "execute_result",
          "data": {
            "text/html": [
              "<div>\n",
              "<style scoped>\n",
              "    .dataframe tbody tr th:only-of-type {\n",
              "        vertical-align: middle;\n",
              "    }\n",
              "\n",
              "    .dataframe tbody tr th {\n",
              "        vertical-align: top;\n",
              "    }\n",
              "\n",
              "    .dataframe thead th {\n",
              "        text-align: right;\n",
              "    }\n",
              "</style>\n",
              "<table border=\"1\" class=\"dataframe\">\n",
              "  <thead>\n",
              "    <tr style=\"text-align: right;\">\n",
              "      <th></th>\n",
              "      <th>category_name</th>\n",
              "      <th>title</th>\n",
              "      <th>cluster_cv</th>\n",
              "      <th>cluster_tfidf</th>\n",
              "    </tr>\n",
              "  </thead>\n",
              "  <tbody>\n",
              "    <tr>\n",
              "      <th>248337</th>\n",
              "      <td>Коммерческая недвижимость</td>\n",
              "      <td>Сниму помещение свободного назначения</td>\n",
              "      <td>53</td>\n",
              "      <td>50</td>\n",
              "    </tr>\n",
              "    <tr>\n",
              "      <th>190165</th>\n",
              "      <td>Предложение услуг</td>\n",
              "      <td>Манипулятор вездеход</td>\n",
              "      <td>0</td>\n",
              "      <td>50</td>\n",
              "    </tr>\n",
              "    <tr>\n",
              "      <th>204605</th>\n",
              "      <td>Детская одежда и обувь</td>\n",
              "      <td>Зимний комбенизон</td>\n",
              "      <td>0</td>\n",
              "      <td>50</td>\n",
              "    </tr>\n",
              "    <tr>\n",
              "      <th>230993</th>\n",
              "      <td>Оборудование для бизнеса</td>\n",
              "      <td>Алкотестре</td>\n",
              "      <td>0</td>\n",
              "      <td>50</td>\n",
              "    </tr>\n",
              "    <tr>\n",
              "      <th>236930</th>\n",
              "      <td>Игры, приставки и программы</td>\n",
              "      <td>X box 360 обмен</td>\n",
              "      <td>0</td>\n",
              "      <td>50</td>\n",
              "    </tr>\n",
              "    <tr>\n",
              "      <th>3621</th>\n",
              "      <td>Одежда, обувь, аксессуары</td>\n",
              "      <td>Джинсы женские большой размер 44</td>\n",
              "      <td>3</td>\n",
              "      <td>50</td>\n",
              "    </tr>\n",
              "    <tr>\n",
              "      <th>49339</th>\n",
              "      <td>Одежда, обувь, аксессуары</td>\n",
              "      <td>Выходные босоножки, с гипюровыми ставками и ше...</td>\n",
              "      <td>74</td>\n",
              "      <td>50</td>\n",
              "    </tr>\n",
              "    <tr>\n",
              "      <th>208422</th>\n",
              "      <td>Автомобили</td>\n",
              "      <td>ГАЗ ГАЗель, 2005</td>\n",
              "      <td>0</td>\n",
              "      <td>50</td>\n",
              "    </tr>\n",
              "  </tbody>\n",
              "</table>\n",
              "</div>"
            ],
            "text/plain": [
              "                      category_name  ... cluster_tfidf\n",
              "248337    Коммерческая недвижимость  ...            50\n",
              "190165            Предложение услуг  ...            50\n",
              "204605       Детская одежда и обувь  ...            50\n",
              "230993     Оборудование для бизнеса  ...            50\n",
              "236930  Игры, приставки и программы  ...            50\n",
              "3621      Одежда, обувь, аксессуары  ...            50\n",
              "49339     Одежда, обувь, аксессуары  ...            50\n",
              "208422                   Автомобили  ...            50\n",
              "\n",
              "[8 rows x 4 columns]"
            ]
          },
          "metadata": {
            "tags": []
          },
          "execution_count": 116
        }
      ]
    },
    {
      "cell_type": "markdown",
      "metadata": {
        "id": "ZQv2zExUx7_g",
        "colab_type": "text"
      },
      "source": [
        "### KMeans"
      ]
    },
    {
      "cell_type": "code",
      "metadata": {
        "id": "f2lFfbnYK5CG",
        "colab_type": "code",
        "colab": {}
      },
      "source": [
        "cv = CountVectorizer(max_df=300, min_df=2, max_features=500, ngram_range=(2,2))\n",
        "tfidf = TfidfVectorizer(max_df=300, min_df=2, max_features=500, ngram_range=(2,2))\n",
        "X_cv = cv.fit_transform(sample['title'])\n",
        "X_tfidf = tfidf.fit_transform(sample['title'])"
      ],
      "execution_count": 0,
      "outputs": []
    },
    {
      "cell_type": "code",
      "metadata": {
        "id": "WwtorKDXN2Zn",
        "colab_type": "code",
        "colab": {}
      },
      "source": [
        "cluster_KMeans = KMeans(n_clusters=47, random_state=0, max_iter=1000, n_jobs=5, algorithm='full')"
      ],
      "execution_count": 0,
      "outputs": []
    },
    {
      "cell_type": "code",
      "metadata": {
        "id": "-6DryR_TNzM-",
        "colab_type": "code",
        "outputId": "5b257063-48d6-4393-85c8-c2306bd2a7b1",
        "colab": {
          "base_uri": "https://localhost:8080/",
          "height": 51
        }
      },
      "source": [
        "%%time\n",
        "labels_KMeans_cv = clasterisation(X=X_cv, cluster_model=cluster_KMeans)"
      ],
      "execution_count": 0,
      "outputs": [
        {
          "output_type": "stream",
          "text": [
            "CPU times: user 52.3 ms, sys: 55.1 ms, total: 107 ms\n",
            "Wall time: 2.91 s\n"
          ],
          "name": "stdout"
        }
      ]
    },
    {
      "cell_type": "code",
      "metadata": {
        "id": "8Fc7WhxoN9Ff",
        "colab_type": "code",
        "outputId": "63b7254d-5226-4352-bf9b-b5e3891adb8d",
        "colab": {
          "base_uri": "https://localhost:8080/",
          "height": 51
        }
      },
      "source": [
        "%%time\n",
        "labels_KMeans_tfidf = clasterisation(X=X_tfidf, cluster_model=cluster_KMeans)"
      ],
      "execution_count": 0,
      "outputs": [
        {
          "output_type": "stream",
          "text": [
            "CPU times: user 28.2 ms, sys: 4.06 ms, total: 32.3 ms\n",
            "Wall time: 832 ms\n"
          ],
          "name": "stdout"
        }
      ]
    },
    {
      "cell_type": "code",
      "metadata": {
        "id": "oVjQyFc_OrCO",
        "colab_type": "code",
        "outputId": "0f0270da-0315-4d9d-8777-a2c45b00c331",
        "colab": {
          "base_uri": "https://localhost:8080/",
          "height": 119
        }
      },
      "source": [
        "show_metrics(X=X_cv, y=y, labels=labels_KMeans_cv)"
      ],
      "execution_count": 0,
      "outputs": [
        {
          "output_type": "stream",
          "text": [
            "Homogeneity: 0.144\n",
            "Completeness: 0.535\n",
            "V-measure: 0.227\n",
            "Adjusted Rand Index: 0.016\n",
            "Adjusted Mutual Information: 0.160\n",
            "Silhouette Coefficient: 0.580\n"
          ],
          "name": "stdout"
        }
      ]
    },
    {
      "cell_type": "code",
      "metadata": {
        "id": "OvXN4cQEOvSk",
        "colab_type": "code",
        "outputId": "663cf83b-c927-4e34-f980-a2645a936b3b",
        "colab": {
          "base_uri": "https://localhost:8080/",
          "height": 119
        }
      },
      "source": [
        "show_metrics(X=X_tfidf, y=y, labels=labels_KMeans_tfidf)"
      ],
      "execution_count": 0,
      "outputs": [
        {
          "output_type": "stream",
          "text": [
            "Homogeneity: 0.156\n",
            "Completeness: 0.506\n",
            "V-measure: 0.239\n",
            "Adjusted Rand Index: 0.012\n",
            "Adjusted Mutual Information: 0.168\n",
            "Silhouette Coefficient: 0.623\n"
          ],
          "name": "stdout"
        }
      ]
    },
    {
      "cell_type": "code",
      "metadata": {
        "id": "8MsXS2h2lDrC",
        "colab_type": "code",
        "outputId": "45a0fbc9-5c87-4e7d-d9a6-e3c2f90c2580",
        "colab": {
          "base_uri": "https://localhost:8080/",
          "height": 34
        }
      },
      "source": [
        "len(set(labels_KMeans_cv))"
      ],
      "execution_count": 0,
      "outputs": [
        {
          "output_type": "execute_result",
          "data": {
            "text/plain": [
              "47"
            ]
          },
          "metadata": {
            "tags": []
          },
          "execution_count": 103
        }
      ]
    },
    {
      "cell_type": "code",
      "metadata": {
        "id": "kvupx27klEVB",
        "colab_type": "code",
        "outputId": "03749672-0d89-4f71-c162-6e96039b6e61",
        "colab": {
          "base_uri": "https://localhost:8080/",
          "height": 34
        }
      },
      "source": [
        "len(set(labels_KMeans_tfidf))"
      ],
      "execution_count": 0,
      "outputs": [
        {
          "output_type": "execute_result",
          "data": {
            "text/plain": [
              "47"
            ]
          },
          "metadata": {
            "tags": []
          },
          "execution_count": 104
        }
      ]
    },
    {
      "cell_type": "code",
      "metadata": {
        "id": "njZBrhUPky9J",
        "colab_type": "code",
        "colab": {}
      },
      "source": [
        "sample['cluster_cv'] = labels_KMeans_cv"
      ],
      "execution_count": 0,
      "outputs": []
    },
    {
      "cell_type": "code",
      "metadata": {
        "id": "sI7BRK-Pk1gR",
        "colab_type": "code",
        "colab": {}
      },
      "source": [
        "sample['cluster_tfidf'] = labels_KMeans_tfidf"
      ],
      "execution_count": 0,
      "outputs": []
    },
    {
      "cell_type": "markdown",
      "metadata": {
        "id": "4mP9HkQLlX2T",
        "colab_type": "text"
      },
      "source": [
        "Высокий коэффициет силуэтов и человеческий взгляд на данные показывают, что кластеризация прошла достаточно успешно и у того, и у другого векторайзера – много похожих объявлений в одном кластере. Они также сработали очень похоже. Победителем в этом раунде выбираю TfidfVectorizer, потому что у него лучше силуэты и Homogeneity."
      ]
    },
    {
      "cell_type": "code",
      "metadata": {
        "id": "kaB3pwToktp5",
        "colab_type": "code",
        "outputId": "b14b28f3-7e86-4a9c-f07a-667f3d1e135d",
        "colab": {
          "base_uri": "https://localhost:8080/",
          "height": 359
        }
      },
      "source": [
        "sample[sample.cluster_cv==13].head(10)"
      ],
      "execution_count": 0,
      "outputs": [
        {
          "output_type": "execute_result",
          "data": {
            "text/html": [
              "<div>\n",
              "<style scoped>\n",
              "    .dataframe tbody tr th:only-of-type {\n",
              "        vertical-align: middle;\n",
              "    }\n",
              "\n",
              "    .dataframe tbody tr th {\n",
              "        vertical-align: top;\n",
              "    }\n",
              "\n",
              "    .dataframe thead th {\n",
              "        text-align: right;\n",
              "    }\n",
              "</style>\n",
              "<table border=\"1\" class=\"dataframe\">\n",
              "  <thead>\n",
              "    <tr style=\"text-align: right;\">\n",
              "      <th></th>\n",
              "      <th>category_name</th>\n",
              "      <th>title</th>\n",
              "      <th>cluster_cv</th>\n",
              "      <th>cluster_tfidf</th>\n",
              "    </tr>\n",
              "  </thead>\n",
              "  <tbody>\n",
              "    <tr>\n",
              "      <th>141619</th>\n",
              "      <td>Детская одежда и обувь</td>\n",
              "      <td>Ботинки для девочки Kapika</td>\n",
              "      <td>13</td>\n",
              "      <td>5</td>\n",
              "    </tr>\n",
              "    <tr>\n",
              "      <th>234179</th>\n",
              "      <td>Детская одежда и обувь</td>\n",
              "      <td>Плащ для девочки</td>\n",
              "      <td>13</td>\n",
              "      <td>5</td>\n",
              "    </tr>\n",
              "    <tr>\n",
              "      <th>173580</th>\n",
              "      <td>Детская одежда и обувь</td>\n",
              "      <td>Жилет утепленный monna rosa, для девочки, 100 мик</td>\n",
              "      <td>13</td>\n",
              "      <td>5</td>\n",
              "    </tr>\n",
              "    <tr>\n",
              "      <th>105098</th>\n",
              "      <td>Детская одежда и обувь</td>\n",
              "      <td>Сапоги adidas для девочки</td>\n",
              "      <td>13</td>\n",
              "      <td>5</td>\n",
              "    </tr>\n",
              "    <tr>\n",
              "      <th>231506</th>\n",
              "      <td>Детская одежда и обувь</td>\n",
              "      <td>Туфли для девочки</td>\n",
              "      <td>13</td>\n",
              "      <td>5</td>\n",
              "    </tr>\n",
              "    <tr>\n",
              "      <th>149907</th>\n",
              "      <td>Детская одежда и обувь</td>\n",
              "      <td>To be Too песочник для девочки</td>\n",
              "      <td>13</td>\n",
              "      <td>5</td>\n",
              "    </tr>\n",
              "    <tr>\n",
              "      <th>198442</th>\n",
              "      <td>Детская одежда и обувь</td>\n",
              "      <td>Платье нарядное для девочки (на выпускной в са...</td>\n",
              "      <td>13</td>\n",
              "      <td>5</td>\n",
              "    </tr>\n",
              "    <tr>\n",
              "      <th>234307</th>\n",
              "      <td>Детская одежда и обувь</td>\n",
              "      <td>Брючки для девочки</td>\n",
              "      <td>13</td>\n",
              "      <td>5</td>\n",
              "    </tr>\n",
              "    <tr>\n",
              "      <th>153356</th>\n",
              "      <td>Детская одежда и обувь</td>\n",
              "      <td>Кроссовки для девочки</td>\n",
              "      <td>13</td>\n",
              "      <td>5</td>\n",
              "    </tr>\n",
              "    <tr>\n",
              "      <th>34503</th>\n",
              "      <td>Велосипеды</td>\n",
              "      <td>Велосипед для девочки</td>\n",
              "      <td>13</td>\n",
              "      <td>5</td>\n",
              "    </tr>\n",
              "  </tbody>\n",
              "</table>\n",
              "</div>"
            ],
            "text/plain": [
              "                 category_name  ... cluster_tfidf\n",
              "141619  Детская одежда и обувь  ...             5\n",
              "234179  Детская одежда и обувь  ...             5\n",
              "173580  Детская одежда и обувь  ...             5\n",
              "105098  Детская одежда и обувь  ...             5\n",
              "231506  Детская одежда и обувь  ...             5\n",
              "149907  Детская одежда и обувь  ...             5\n",
              "198442  Детская одежда и обувь  ...             5\n",
              "234307  Детская одежда и обувь  ...             5\n",
              "153356  Детская одежда и обувь  ...             5\n",
              "34503               Велосипеды  ...             5\n",
              "\n",
              "[10 rows x 4 columns]"
            ]
          },
          "metadata": {
            "tags": []
          },
          "execution_count": 125
        }
      ]
    },
    {
      "cell_type": "code",
      "metadata": {
        "id": "fG2LlQaVkwSl",
        "colab_type": "code",
        "outputId": "c59922af-f478-4a98-cb5b-2aa10c661188",
        "colab": {
          "base_uri": "https://localhost:8080/",
          "height": 359
        }
      },
      "source": [
        "sample[sample.cluster_tfidf==5].head(10)"
      ],
      "execution_count": 0,
      "outputs": [
        {
          "output_type": "execute_result",
          "data": {
            "text/html": [
              "<div>\n",
              "<style scoped>\n",
              "    .dataframe tbody tr th:only-of-type {\n",
              "        vertical-align: middle;\n",
              "    }\n",
              "\n",
              "    .dataframe tbody tr th {\n",
              "        vertical-align: top;\n",
              "    }\n",
              "\n",
              "    .dataframe thead th {\n",
              "        text-align: right;\n",
              "    }\n",
              "</style>\n",
              "<table border=\"1\" class=\"dataframe\">\n",
              "  <thead>\n",
              "    <tr style=\"text-align: right;\">\n",
              "      <th></th>\n",
              "      <th>category_name</th>\n",
              "      <th>title</th>\n",
              "      <th>cluster_cv</th>\n",
              "      <th>cluster_tfidf</th>\n",
              "    </tr>\n",
              "  </thead>\n",
              "  <tbody>\n",
              "    <tr>\n",
              "      <th>141619</th>\n",
              "      <td>Детская одежда и обувь</td>\n",
              "      <td>Ботинки для девочки Kapika</td>\n",
              "      <td>13</td>\n",
              "      <td>5</td>\n",
              "    </tr>\n",
              "    <tr>\n",
              "      <th>234179</th>\n",
              "      <td>Детская одежда и обувь</td>\n",
              "      <td>Плащ для девочки</td>\n",
              "      <td>13</td>\n",
              "      <td>5</td>\n",
              "    </tr>\n",
              "    <tr>\n",
              "      <th>173580</th>\n",
              "      <td>Детская одежда и обувь</td>\n",
              "      <td>Жилет утепленный monna rosa, для девочки, 100 мик</td>\n",
              "      <td>13</td>\n",
              "      <td>5</td>\n",
              "    </tr>\n",
              "    <tr>\n",
              "      <th>105098</th>\n",
              "      <td>Детская одежда и обувь</td>\n",
              "      <td>Сапоги adidas для девочки</td>\n",
              "      <td>13</td>\n",
              "      <td>5</td>\n",
              "    </tr>\n",
              "    <tr>\n",
              "      <th>231506</th>\n",
              "      <td>Детская одежда и обувь</td>\n",
              "      <td>Туфли для девочки</td>\n",
              "      <td>13</td>\n",
              "      <td>5</td>\n",
              "    </tr>\n",
              "    <tr>\n",
              "      <th>149907</th>\n",
              "      <td>Детская одежда и обувь</td>\n",
              "      <td>To be Too песочник для девочки</td>\n",
              "      <td>13</td>\n",
              "      <td>5</td>\n",
              "    </tr>\n",
              "    <tr>\n",
              "      <th>198442</th>\n",
              "      <td>Детская одежда и обувь</td>\n",
              "      <td>Платье нарядное для девочки (на выпускной в са...</td>\n",
              "      <td>13</td>\n",
              "      <td>5</td>\n",
              "    </tr>\n",
              "    <tr>\n",
              "      <th>234307</th>\n",
              "      <td>Детская одежда и обувь</td>\n",
              "      <td>Брючки для девочки</td>\n",
              "      <td>13</td>\n",
              "      <td>5</td>\n",
              "    </tr>\n",
              "    <tr>\n",
              "      <th>153356</th>\n",
              "      <td>Детская одежда и обувь</td>\n",
              "      <td>Кроссовки для девочки</td>\n",
              "      <td>13</td>\n",
              "      <td>5</td>\n",
              "    </tr>\n",
              "    <tr>\n",
              "      <th>34503</th>\n",
              "      <td>Велосипеды</td>\n",
              "      <td>Велосипед для девочки</td>\n",
              "      <td>13</td>\n",
              "      <td>5</td>\n",
              "    </tr>\n",
              "  </tbody>\n",
              "</table>\n",
              "</div>"
            ],
            "text/plain": [
              "                 category_name  ... cluster_tfidf\n",
              "141619  Детская одежда и обувь  ...             5\n",
              "234179  Детская одежда и обувь  ...             5\n",
              "173580  Детская одежда и обувь  ...             5\n",
              "105098  Детская одежда и обувь  ...             5\n",
              "231506  Детская одежда и обувь  ...             5\n",
              "149907  Детская одежда и обувь  ...             5\n",
              "198442  Детская одежда и обувь  ...             5\n",
              "234307  Детская одежда и обувь  ...             5\n",
              "153356  Детская одежда и обувь  ...             5\n",
              "34503               Велосипеды  ...             5\n",
              "\n",
              "[10 rows x 4 columns]"
            ]
          },
          "metadata": {
            "tags": []
          },
          "execution_count": 126
        }
      ]
    },
    {
      "cell_type": "markdown",
      "metadata": {
        "id": "dfOknonPx8Ab",
        "colab_type": "text"
      },
      "source": [
        "### MiniBatchKMeans"
      ]
    },
    {
      "cell_type": "code",
      "metadata": {
        "id": "0EV4VaEcFLKD",
        "colab_type": "code",
        "colab": {}
      },
      "source": [
        "cv = CountVectorizer(max_df=400, min_df=2, max_features=500, ngram_range=(1,2))\n",
        "tfidf = TfidfVectorizer(max_df=400, min_df=2, max_features=500, ngram_range=(1,2))\n",
        "X_cv = cv.fit_transform(sample['title'])\n",
        "X_tfidf = tfidf.fit_transform(sample['title'])"
      ],
      "execution_count": 0,
      "outputs": []
    },
    {
      "cell_type": "code",
      "metadata": {
        "scrolled": true,
        "id": "Woc2tZL0x8A3",
        "colab_type": "code",
        "colab": {}
      },
      "source": [
        "cluster_MBKMeans = MiniBatchKMeans(n_clusters=1000, init_size=5000, \\\n",
        "                                   verbose=2, max_iter=1000, batch_size=1000, random_state=42, \\\n",
        "                                   max_no_improvement=200, reassignment_ratio=0.3)"
      ],
      "execution_count": 0,
      "outputs": []
    },
    {
      "cell_type": "code",
      "metadata": {
        "id": "y-lUxOZdJ_Xh",
        "colab_type": "code",
        "colab": {
          "base_uri": "https://localhost:8080/",
          "height": 1000
        },
        "outputId": "2619f3c3-1295-4bc3-8595-e601c0328025"
      },
      "source": [
        "%%time\n",
        "labels_MBKMeans_cv = clasterisation(X=X_cv, cluster_model=cluster_MBKMeans)"
      ],
      "execution_count": 132,
      "outputs": [
        {
          "output_type": "stream",
          "text": [
            "Init 1/3 with method: k-means++\n",
            "Inertia for init 1/3: 76.980854\n",
            "Init 2/3 with method: k-means++\n",
            "Inertia for init 2/3: 75.820979\n",
            "Init 3/3 with method: k-means++\n",
            "Inertia for init 3/3: 84.236766\n",
            "Minibatch iteration 1/3000: mean batch inertia: 0.043279, ewa inertia: 0.043279 \n",
            "Minibatch iteration 2/3000: mean batch inertia: 0.043528, ewa inertia: 0.043475 \n",
            "Minibatch iteration 3/3000: mean batch inertia: 0.039146, ewa inertia: 0.040070 \n",
            "Minibatch iteration 4/3000: mean batch inertia: 0.046436, ewa inertia: 0.045076 \n",
            "Minibatch iteration 5/3000: mean batch inertia: 0.036471, ewa inertia: 0.038309 \n",
            "Minibatch iteration 6/3000: mean batch inertia: 0.035039, ewa inertia: 0.035737 \n",
            "Minibatch iteration 7/3000: mean batch inertia: 0.042755, ewa inertia: 0.041256 \n",
            "Minibatch iteration 8/3000: mean batch inertia: 0.032278, ewa inertia: 0.034195 \n",
            "Minibatch iteration 9/3000: mean batch inertia: 0.047878, ewa inertia: 0.044956 \n",
            "[MiniBatchKMeans] Reassigning 500 cluster centers.\n",
            "Minibatch iteration 10/3000: mean batch inertia: 0.047090, ewa inertia: 0.046635 \n",
            "Minibatch iteration 11/3000: mean batch inertia: 0.307421, ewa inertia: 0.251736 \n",
            "Minibatch iteration 12/3000: mean batch inertia: 0.282218, ewa inertia: 0.275709 \n",
            "Minibatch iteration 13/3000: mean batch inertia: 0.302624, ewa inertia: 0.296877 \n",
            "Minibatch iteration 14/3000: mean batch inertia: 0.284555, ewa inertia: 0.287186 \n",
            "Minibatch iteration 15/3000: mean batch inertia: 0.236560, ewa inertia: 0.247370 \n",
            "[MiniBatchKMeans] Reassigning 500 cluster centers.\n",
            "Minibatch iteration 16/3000: mean batch inertia: 0.246657, ewa inertia: 0.246809 \n",
            "Minibatch iteration 17/3000: mean batch inertia: 0.290164, ewa inertia: 0.280906 \n",
            "Minibatch iteration 18/3000: mean batch inertia: 0.298161, ewa inertia: 0.294477 \n",
            "Minibatch iteration 19/3000: mean batch inertia: 0.259368, ewa inertia: 0.266865 \n",
            "[MiniBatchKMeans] Reassigning 500 cluster centers.\n",
            "Minibatch iteration 20/3000: mean batch inertia: 0.285090, ewa inertia: 0.281199 \n",
            "Minibatch iteration 21/3000: mean batch inertia: 0.346303, ewa inertia: 0.332401 \n",
            "Minibatch iteration 22/3000: mean batch inertia: 0.319424, ewa inertia: 0.322195 \n",
            "[MiniBatchKMeans] Reassigning 500 cluster centers.\n",
            "Minibatch iteration 23/3000: mean batch inertia: 0.295780, ewa inertia: 0.301420 \n",
            "Minibatch iteration 24/3000: mean batch inertia: 0.344872, ewa inertia: 0.335593 \n",
            "Minibatch iteration 25/3000: mean batch inertia: 0.347012, ewa inertia: 0.344574 \n",
            "[MiniBatchKMeans] Reassigning 500 cluster centers.\n",
            "Minibatch iteration 26/3000: mean batch inertia: 0.318733, ewa inertia: 0.324251 \n",
            "Minibatch iteration 27/3000: mean batch inertia: 0.356971, ewa inertia: 0.349984 \n",
            "Minibatch iteration 28/3000: mean batch inertia: 0.399100, ewa inertia: 0.388612 \n",
            "[MiniBatchKMeans] Reassigning 500 cluster centers.\n",
            "Minibatch iteration 29/3000: mean batch inertia: 0.330233, ewa inertia: 0.342698 \n",
            "Minibatch iteration 30/3000: mean batch inertia: 0.398427, ewa inertia: 0.386527 \n",
            "Minibatch iteration 31/3000: mean batch inertia: 0.348195, ewa inertia: 0.356380 \n",
            "Minibatch iteration 32/3000: mean batch inertia: 0.308280, ewa inertia: 0.318551 \n",
            "[MiniBatchKMeans] Reassigning 500 cluster centers.\n",
            "Minibatch iteration 33/3000: mean batch inertia: 0.363503, ewa inertia: 0.353905 \n",
            "Minibatch iteration 34/3000: mean batch inertia: 0.392110, ewa inertia: 0.383952 \n",
            "Minibatch iteration 35/3000: mean batch inertia: 0.347957, ewa inertia: 0.355643 \n",
            "Minibatch iteration 36/3000: mean batch inertia: 0.371439, ewa inertia: 0.368066 \n",
            "[MiniBatchKMeans] Reassigning 500 cluster centers.\n",
            "Minibatch iteration 37/3000: mean batch inertia: 0.346202, ewa inertia: 0.350871 \n",
            "Minibatch iteration 38/3000: mean batch inertia: 0.348770, ewa inertia: 0.349218 \n",
            "Minibatch iteration 39/3000: mean batch inertia: 0.366947, ewa inertia: 0.363162 \n",
            "Minibatch iteration 40/3000: mean batch inertia: 0.395230, ewa inertia: 0.388383 \n",
            "[MiniBatchKMeans] Reassigning 500 cluster centers.\n",
            "Minibatch iteration 41/3000: mean batch inertia: 0.344879, ewa inertia: 0.354168 \n",
            "Minibatch iteration 42/3000: mean batch inertia: 0.360200, ewa inertia: 0.358912 \n",
            "Minibatch iteration 43/3000: mean batch inertia: 0.371535, ewa inertia: 0.368839 \n",
            "Minibatch iteration 44/3000: mean batch inertia: 0.361082, ewa inertia: 0.362738 \n",
            "Minibatch iteration 45/3000: mean batch inertia: 0.350416, ewa inertia: 0.353047 \n",
            "[MiniBatchKMeans] Reassigning 500 cluster centers.\n",
            "Minibatch iteration 46/3000: mean batch inertia: 0.358755, ewa inertia: 0.357537 \n",
            "Minibatch iteration 47/3000: mean batch inertia: 0.360611, ewa inertia: 0.359954 \n",
            "Minibatch iteration 48/3000: mean batch inertia: 0.388536, ewa inertia: 0.382433 \n",
            "Minibatch iteration 49/3000: mean batch inertia: 0.407020, ewa inertia: 0.401770 \n",
            "Minibatch iteration 50/3000: mean batch inertia: 0.396431, ewa inertia: 0.397571 \n",
            "[MiniBatchKMeans] Reassigning 500 cluster centers.\n",
            "Minibatch iteration 51/3000: mean batch inertia: 0.361632, ewa inertia: 0.369306 \n",
            "Minibatch iteration 52/3000: mean batch inertia: 0.346641, ewa inertia: 0.351480 \n",
            "Minibatch iteration 53/3000: mean batch inertia: 0.399809, ewa inertia: 0.389489 \n",
            "Minibatch iteration 54/3000: mean batch inertia: 0.422811, ewa inertia: 0.415696 \n",
            "Minibatch iteration 55/3000: mean batch inertia: 0.391260, ewa inertia: 0.396478 \n",
            "Minibatch iteration 56/3000: mean batch inertia: 0.372673, ewa inertia: 0.377756 \n",
            "[MiniBatchKMeans] Reassigning 500 cluster centers.\n",
            "Minibatch iteration 57/3000: mean batch inertia: 0.325398, ewa inertia: 0.336578 \n",
            "Minibatch iteration 58/3000: mean batch inertia: 0.397666, ewa inertia: 0.384622 \n",
            "Minibatch iteration 59/3000: mean batch inertia: 0.442645, ewa inertia: 0.430256 \n",
            "Minibatch iteration 60/3000: mean batch inertia: 0.357676, ewa inertia: 0.373174 \n",
            "Minibatch iteration 61/3000: mean batch inertia: 0.378854, ewa inertia: 0.377641 \n",
            "Minibatch iteration 62/3000: mean batch inertia: 0.368650, ewa inertia: 0.370570 \n",
            "[MiniBatchKMeans] Reassigning 500 cluster centers.\n",
            "Minibatch iteration 63/3000: mean batch inertia: 0.360108, ewa inertia: 0.362342 \n",
            "Minibatch iteration 64/3000: mean batch inertia: 0.396934, ewa inertia: 0.389547 \n",
            "Minibatch iteration 65/3000: mean batch inertia: 0.379267, ewa inertia: 0.381462 \n",
            "Minibatch iteration 66/3000: mean batch inertia: 0.397765, ewa inertia: 0.394284 \n",
            "Minibatch iteration 67/3000: mean batch inertia: 0.346902, ewa inertia: 0.357020 \n",
            "Minibatch iteration 68/3000: mean batch inertia: 0.367493, ewa inertia: 0.365257 \n",
            "[MiniBatchKMeans] Reassigning 500 cluster centers.\n",
            "Minibatch iteration 69/3000: mean batch inertia: 0.396603, ewa inertia: 0.389910 \n",
            "Minibatch iteration 70/3000: mean batch inertia: 0.372054, ewa inertia: 0.375867 \n",
            "Minibatch iteration 71/3000: mean batch inertia: 0.320432, ewa inertia: 0.332269 \n",
            "Minibatch iteration 72/3000: mean batch inertia: 0.355098, ewa inertia: 0.350223 \n",
            "Minibatch iteration 73/3000: mean batch inertia: 0.356258, ewa inertia: 0.354969 \n",
            "Minibatch iteration 74/3000: mean batch inertia: 0.362951, ewa inertia: 0.361247 \n",
            "[MiniBatchKMeans] Reassigning 500 cluster centers.\n",
            "Minibatch iteration 75/3000: mean batch inertia: 0.316697, ewa inertia: 0.326209 \n",
            "Minibatch iteration 76/3000: mean batch inertia: 0.352922, ewa inertia: 0.347218 \n",
            "Minibatch iteration 77/3000: mean batch inertia: 0.379336, ewa inertia: 0.372478 \n",
            "Minibatch iteration 78/3000: mean batch inertia: 0.363105, ewa inertia: 0.365106 \n",
            "Minibatch iteration 79/3000: mean batch inertia: 0.376461, ewa inertia: 0.374036 \n",
            "Minibatch iteration 80/3000: mean batch inertia: 0.370427, ewa inertia: 0.371197 \n",
            "Minibatch iteration 81/3000: mean batch inertia: 0.348856, ewa inertia: 0.353626 \n",
            "[MiniBatchKMeans] Reassigning 500 cluster centers.\n",
            "Minibatch iteration 82/3000: mean batch inertia: 0.398218, ewa inertia: 0.388697 \n",
            "Minibatch iteration 83/3000: mean batch inertia: 0.351070, ewa inertia: 0.359104 \n",
            "Minibatch iteration 84/3000: mean batch inertia: 0.389090, ewa inertia: 0.382687 \n",
            "Minibatch iteration 85/3000: mean batch inertia: 0.354675, ewa inertia: 0.360656 \n",
            "Minibatch iteration 86/3000: mean batch inertia: 0.386263, ewa inertia: 0.380795 \n",
            "Minibatch iteration 87/3000: mean batch inertia: 0.366331, ewa inertia: 0.369419 \n",
            "Minibatch iteration 88/3000: mean batch inertia: 0.357340, ewa inertia: 0.359919 \n",
            "[MiniBatchKMeans] Reassigning 500 cluster centers.\n",
            "Minibatch iteration 89/3000: mean batch inertia: 0.357310, ewa inertia: 0.357867 \n",
            "Minibatch iteration 90/3000: mean batch inertia: 0.391165, ewa inertia: 0.384055 \n",
            "Minibatch iteration 91/3000: mean batch inertia: 0.397301, ewa inertia: 0.394472 \n",
            "Minibatch iteration 92/3000: mean batch inertia: 0.397760, ewa inertia: 0.397058 \n",
            "Minibatch iteration 93/3000: mean batch inertia: 0.383046, ewa inertia: 0.386038 \n",
            "Minibatch iteration 94/3000: mean batch inertia: 0.376831, ewa inertia: 0.378797 \n",
            "Minibatch iteration 95/3000: mean batch inertia: 0.385556, ewa inertia: 0.384113 \n",
            "Minibatch iteration 96/3000: mean batch inertia: 0.364764, ewa inertia: 0.368895 \n",
            "[MiniBatchKMeans] Reassigning 500 cluster centers.\n",
            "Minibatch iteration 97/3000: mean batch inertia: 0.352788, ewa inertia: 0.356228 \n",
            "Minibatch iteration 98/3000: mean batch inertia: 0.413205, ewa inertia: 0.401039 \n",
            "Minibatch iteration 99/3000: mean batch inertia: 0.421572, ewa inertia: 0.417188 \n",
            "Minibatch iteration 100/3000: mean batch inertia: 0.361179, ewa inertia: 0.373138 \n",
            "Minibatch iteration 101/3000: mean batch inertia: 0.399745, ewa inertia: 0.394063 \n",
            "Minibatch iteration 102/3000: mean batch inertia: 0.381801, ewa inertia: 0.384420 \n",
            "Minibatch iteration 103/3000: mean batch inertia: 0.380230, ewa inertia: 0.381125 \n",
            "Minibatch iteration 104/3000: mean batch inertia: 0.370624, ewa inertia: 0.372866 \n",
            "Minibatch iteration 105/3000: mean batch inertia: 0.355951, ewa inertia: 0.359563 \n",
            "[MiniBatchKMeans] Reassigning 500 cluster centers.\n",
            "Minibatch iteration 106/3000: mean batch inertia: 0.371686, ewa inertia: 0.369097 \n",
            "Minibatch iteration 107/3000: mean batch inertia: 0.372741, ewa inertia: 0.371963 \n",
            "Minibatch iteration 108/3000: mean batch inertia: 0.353830, ewa inertia: 0.357702 \n",
            "Minibatch iteration 109/3000: mean batch inertia: 0.404321, ewa inertia: 0.394367 \n",
            "Minibatch iteration 110/3000: mean batch inertia: 0.344310, ewa inertia: 0.354999 \n",
            "Minibatch iteration 111/3000: mean batch inertia: 0.376351, ewa inertia: 0.371792 \n",
            "Minibatch iteration 112/3000: mean batch inertia: 0.339220, ewa inertia: 0.346175 \n",
            "Minibatch iteration 113/3000: mean batch inertia: 0.371139, ewa inertia: 0.365809 \n",
            "[MiniBatchKMeans] Reassigning 500 cluster centers.\n",
            "Minibatch iteration 114/3000: mean batch inertia: 0.384092, ewa inertia: 0.380188 \n",
            "Minibatch iteration 115/3000: mean batch inertia: 0.414996, ewa inertia: 0.407563 \n",
            "Minibatch iteration 116/3000: mean batch inertia: 0.374259, ewa inertia: 0.381370 \n",
            "Minibatch iteration 117/3000: mean batch inertia: 0.379470, ewa inertia: 0.379876 \n",
            "Minibatch iteration 118/3000: mean batch inertia: 0.358575, ewa inertia: 0.363123 \n",
            "Minibatch iteration 119/3000: mean batch inertia: 0.378713, ewa inertia: 0.375384 \n",
            "Minibatch iteration 120/3000: mean batch inertia: 0.349906, ewa inertia: 0.355346 \n",
            "Minibatch iteration 121/3000: mean batch inertia: 0.338169, ewa inertia: 0.341837 \n",
            "Minibatch iteration 122/3000: mean batch inertia: 0.334942, ewa inertia: 0.336414 \n",
            "Minibatch iteration 123/3000: mean batch inertia: 0.391260, ewa inertia: 0.379549 \n",
            "[MiniBatchKMeans] Reassigning 500 cluster centers.\n",
            "Minibatch iteration 124/3000: mean batch inertia: 0.309379, ewa inertia: 0.324362 \n",
            "Minibatch iteration 125/3000: mean batch inertia: 0.407540, ewa inertia: 0.389779 \n",
            "Minibatch iteration 126/3000: mean batch inertia: 0.397154, ewa inertia: 0.395580 \n",
            "Minibatch iteration 127/3000: mean batch inertia: 0.410370, ewa inertia: 0.407212 \n",
            "Minibatch iteration 128/3000: mean batch inertia: 0.408093, ewa inertia: 0.407905 \n",
            "Minibatch iteration 129/3000: mean batch inertia: 0.391727, ewa inertia: 0.395182 \n",
            "Minibatch iteration 130/3000: mean batch inertia: 0.386189, ewa inertia: 0.388109 \n",
            "Minibatch iteration 131/3000: mean batch inertia: 0.434622, ewa inertia: 0.424690 \n",
            "Minibatch iteration 132/3000: mean batch inertia: 0.390042, ewa inertia: 0.397440 \n",
            "Minibatch iteration 133/3000: mean batch inertia: 0.394816, ewa inertia: 0.395376 \n",
            "[MiniBatchKMeans] Reassigning 500 cluster centers.\n",
            "Minibatch iteration 134/3000: mean batch inertia: 0.430446, ewa inertia: 0.422958 \n",
            "Minibatch iteration 135/3000: mean batch inertia: 0.356422, ewa inertia: 0.370629 \n",
            "Minibatch iteration 136/3000: mean batch inertia: 0.352914, ewa inertia: 0.356696 \n",
            "Minibatch iteration 137/3000: mean batch inertia: 0.392924, ewa inertia: 0.385188 \n",
            "Minibatch iteration 138/3000: mean batch inertia: 0.388814, ewa inertia: 0.388040 \n",
            "Minibatch iteration 139/3000: mean batch inertia: 0.289060, ewa inertia: 0.310195 \n",
            "Minibatch iteration 140/3000: mean batch inertia: 0.385417, ewa inertia: 0.369355 \n",
            "Minibatch iteration 141/3000: mean batch inertia: 0.402048, ewa inertia: 0.395067 \n",
            "Minibatch iteration 142/3000: mean batch inertia: 0.381210, ewa inertia: 0.384169 \n",
            "Minibatch iteration 143/3000: mean batch inertia: 0.334357, ewa inertia: 0.344993 \n",
            "Minibatch iteration 144/3000: mean batch inertia: 0.364549, ewa inertia: 0.360373 \n",
            "[MiniBatchKMeans] Reassigning 500 cluster centers.\n",
            "Minibatch iteration 145/3000: mean batch inertia: 0.337968, ewa inertia: 0.342752 \n",
            "Minibatch iteration 146/3000: mean batch inertia: 0.397221, ewa inertia: 0.385591 \n",
            "Minibatch iteration 147/3000: mean batch inertia: 0.386529, ewa inertia: 0.386328 \n",
            "Minibatch iteration 148/3000: mean batch inertia: 0.378200, ewa inertia: 0.379936 \n",
            "Minibatch iteration 149/3000: mean batch inertia: 0.387423, ewa inertia: 0.385824 \n",
            "Minibatch iteration 150/3000: mean batch inertia: 0.376543, ewa inertia: 0.378524 \n",
            "Minibatch iteration 151/3000: mean batch inertia: 0.395847, ewa inertia: 0.392148 \n",
            "Minibatch iteration 152/3000: mean batch inertia: 0.398758, ewa inertia: 0.397346 \n",
            "Minibatch iteration 153/3000: mean batch inertia: 0.368408, ewa inertia: 0.374587 \n",
            "Minibatch iteration 154/3000: mean batch inertia: 0.342123, ewa inertia: 0.349055 \n",
            "Minibatch iteration 155/3000: mean batch inertia: 0.369360, ewa inertia: 0.365024 \n",
            "Minibatch iteration 156/3000: mean batch inertia: 0.393201, ewa inertia: 0.387185 \n",
            "[MiniBatchKMeans] Reassigning 500 cluster centers.\n",
            "Minibatch iteration 157/3000: mean batch inertia: 0.360277, ewa inertia: 0.366023 \n",
            "Minibatch iteration 158/3000: mean batch inertia: 0.399581, ewa inertia: 0.392416 \n",
            "Minibatch iteration 159/3000: mean batch inertia: 0.385442, ewa inertia: 0.386931 \n",
            "Minibatch iteration 160/3000: mean batch inertia: 0.373552, ewa inertia: 0.376409 \n",
            "Minibatch iteration 161/3000: mean batch inertia: 0.356653, ewa inertia: 0.360872 \n",
            "Minibatch iteration 162/3000: mean batch inertia: 0.407711, ewa inertia: 0.397709 \n",
            "Minibatch iteration 163/3000: mean batch inertia: 0.341421, ewa inertia: 0.353440 \n",
            "Minibatch iteration 164/3000: mean batch inertia: 0.396518, ewa inertia: 0.387319 \n",
            "Minibatch iteration 165/3000: mean batch inertia: 0.364014, ewa inertia: 0.368990 \n",
            "Minibatch iteration 166/3000: mean batch inertia: 0.366952, ewa inertia: 0.367387 \n",
            "Minibatch iteration 167/3000: mean batch inertia: 0.414672, ewa inertia: 0.404575 \n",
            "Minibatch iteration 168/3000: mean batch inertia: 0.392026, ewa inertia: 0.394706 \n",
            "[MiniBatchKMeans] Reassigning 500 cluster centers.\n",
            "Minibatch iteration 169/3000: mean batch inertia: 0.402173, ewa inertia: 0.400578 \n",
            "Minibatch iteration 170/3000: mean batch inertia: 0.371184, ewa inertia: 0.377460 \n",
            "Minibatch iteration 171/3000: mean batch inertia: 0.376348, ewa inertia: 0.376586 \n",
            "Minibatch iteration 172/3000: mean batch inertia: 0.368953, ewa inertia: 0.370582 \n",
            "Minibatch iteration 173/3000: mean batch inertia: 0.374130, ewa inertia: 0.373373 \n",
            "Minibatch iteration 174/3000: mean batch inertia: 0.350235, ewa inertia: 0.355176 \n",
            "Minibatch iteration 175/3000: mean batch inertia: 0.345175, ewa inertia: 0.347311 \n",
            "Minibatch iteration 176/3000: mean batch inertia: 0.401587, ewa inertia: 0.389997 \n",
            "Minibatch iteration 177/3000: mean batch inertia: 0.384462, ewa inertia: 0.385644 \n",
            "Minibatch iteration 178/3000: mean batch inertia: 0.388519, ewa inertia: 0.387905 \n",
            "Minibatch iteration 179/3000: mean batch inertia: 0.348702, ewa inertia: 0.357073 \n",
            "Minibatch iteration 180/3000: mean batch inertia: 0.342164, ewa inertia: 0.345347 \n",
            "Minibatch iteration 181/3000: mean batch inertia: 0.369056, ewa inertia: 0.363994 \n",
            "[MiniBatchKMeans] Reassigning 500 cluster centers.\n",
            "Minibatch iteration 182/3000: mean batch inertia: 0.378447, ewa inertia: 0.375361 \n",
            "Minibatch iteration 183/3000: mean batch inertia: 0.386151, ewa inertia: 0.383847 \n",
            "Minibatch iteration 184/3000: mean batch inertia: 0.369990, ewa inertia: 0.372949 \n",
            "Minibatch iteration 185/3000: mean batch inertia: 0.394562, ewa inertia: 0.389947 \n",
            "Minibatch iteration 186/3000: mean batch inertia: 0.334584, ewa inertia: 0.346405 \n",
            "Minibatch iteration 187/3000: mean batch inertia: 0.372777, ewa inertia: 0.367146 \n",
            "Minibatch iteration 188/3000: mean batch inertia: 0.348615, ewa inertia: 0.352572 \n",
            "Minibatch iteration 189/3000: mean batch inertia: 0.371372, ewa inertia: 0.367358 \n",
            "Minibatch iteration 190/3000: mean batch inertia: 0.372656, ewa inertia: 0.371525 \n",
            "Minibatch iteration 191/3000: mean batch inertia: 0.377867, ewa inertia: 0.376513 \n",
            "Minibatch iteration 192/3000: mean batch inertia: 0.364927, ewa inertia: 0.367401 \n",
            "Minibatch iteration 193/3000: mean batch inertia: 0.378412, ewa inertia: 0.376061 \n",
            "Minibatch iteration 194/3000: mean batch inertia: 0.351842, ewa inertia: 0.357014 \n",
            "Minibatch iteration 195/3000: mean batch inertia: 0.384356, ewa inertia: 0.378518 \n",
            "[MiniBatchKMeans] Reassigning 500 cluster centers.\n",
            "Minibatch iteration 196/3000: mean batch inertia: 0.332748, ewa inertia: 0.342521 \n",
            "Minibatch iteration 197/3000: mean batch inertia: 0.389848, ewa inertia: 0.379742 \n",
            "Minibatch iteration 198/3000: mean batch inertia: 0.402942, ewa inertia: 0.397989 \n",
            "Minibatch iteration 199/3000: mean batch inertia: 0.391852, ewa inertia: 0.393162 \n",
            "Minibatch iteration 200/3000: mean batch inertia: 0.380687, ewa inertia: 0.383351 \n",
            "Minibatch iteration 201/3000: mean batch inertia: 0.401374, ewa inertia: 0.397526 \n",
            "Minibatch iteration 202/3000: mean batch inertia: 0.397067, ewa inertia: 0.397165 \n",
            "Minibatch iteration 203/3000: mean batch inertia: 0.357396, ewa inertia: 0.365888 \n",
            "Minibatch iteration 204/3000: mean batch inertia: 0.352314, ewa inertia: 0.355213 \n",
            "Minibatch iteration 205/3000: mean batch inertia: 0.400953, ewa inertia: 0.391186 \n",
            "Minibatch iteration 206/3000: mean batch inertia: 0.369044, ewa inertia: 0.373772 \n",
            "Minibatch iteration 207/3000: mean batch inertia: 0.395687, ewa inertia: 0.391008 \n",
            "Minibatch iteration 208/3000: mean batch inertia: 0.408636, ewa inertia: 0.404872 \n",
            "Converged (lack of improvement in inertia) at iteration 208/3000\n",
            "Computing label assignment and total inertia\n",
            "CPU times: user 5.89 s, sys: 20.8 ms, total: 5.91 s\n",
            "Wall time: 5.9 s\n"
          ],
          "name": "stdout"
        }
      ]
    },
    {
      "cell_type": "code",
      "metadata": {
        "id": "_288Bg7iKD0j",
        "colab_type": "code",
        "colab": {
          "base_uri": "https://localhost:8080/",
          "height": 1000
        },
        "outputId": "fc3dc856-e2db-4471-91e8-b309095a5a7b"
      },
      "source": [
        "%%time\n",
        "labels_MBKMeans_tfidf = clasterisation(X=X_tfidf, cluster_model=cluster_MBKMeans)"
      ],
      "execution_count": 133,
      "outputs": [
        {
          "output_type": "stream",
          "text": [
            "Init 1/3 with method: k-means++\n",
            "Inertia for init 1/3: 13.471714\n",
            "Init 2/3 with method: k-means++\n",
            "Inertia for init 2/3: 14.997625\n",
            "Init 3/3 with method: k-means++\n",
            "Inertia for init 3/3: 14.501479\n",
            "Minibatch iteration 1/3000: mean batch inertia: 0.012609, ewa inertia: 0.012609 \n",
            "Minibatch iteration 2/3000: mean batch inertia: 0.010126, ewa inertia: 0.010657 \n",
            "Minibatch iteration 3/3000: mean batch inertia: 0.009550, ewa inertia: 0.009786 \n",
            "Minibatch iteration 4/3000: mean batch inertia: 0.009082, ewa inertia: 0.009232 \n",
            "Minibatch iteration 5/3000: mean batch inertia: 0.008572, ewa inertia: 0.008713 \n",
            "Minibatch iteration 6/3000: mean batch inertia: 0.009336, ewa inertia: 0.009203 \n",
            "Minibatch iteration 7/3000: mean batch inertia: 0.007931, ewa inertia: 0.008203 \n",
            "Minibatch iteration 8/3000: mean batch inertia: 0.008459, ewa inertia: 0.008405 \n",
            "Minibatch iteration 9/3000: mean batch inertia: 0.007702, ewa inertia: 0.007852 \n",
            "[MiniBatchKMeans] Reassigning 500 cluster centers.\n",
            "Minibatch iteration 10/3000: mean batch inertia: 0.008635, ewa inertia: 0.008468 \n",
            "Minibatch iteration 11/3000: mean batch inertia: 0.112656, ewa inertia: 0.090409 \n",
            "Minibatch iteration 12/3000: mean batch inertia: 0.091116, ewa inertia: 0.090965 \n",
            "Minibatch iteration 13/3000: mean batch inertia: 0.097667, ewa inertia: 0.096236 \n",
            "Minibatch iteration 14/3000: mean batch inertia: 0.097613, ewa inertia: 0.097319 \n",
            "Minibatch iteration 15/3000: mean batch inertia: 0.076964, ewa inertia: 0.081311 \n",
            "[MiniBatchKMeans] Reassigning 500 cluster centers.\n",
            "Minibatch iteration 16/3000: mean batch inertia: 0.077737, ewa inertia: 0.078500 \n",
            "Minibatch iteration 17/3000: mean batch inertia: 0.097785, ewa inertia: 0.093667 \n",
            "Minibatch iteration 18/3000: mean batch inertia: 0.099633, ewa inertia: 0.098359 \n",
            "Minibatch iteration 19/3000: mean batch inertia: 0.090633, ewa inertia: 0.092283 \n",
            "[MiniBatchKMeans] Reassigning 500 cluster centers.\n",
            "Minibatch iteration 20/3000: mean batch inertia: 0.096653, ewa inertia: 0.095720 \n",
            "Minibatch iteration 21/3000: mean batch inertia: 0.115199, ewa inertia: 0.111040 \n",
            "Minibatch iteration 22/3000: mean batch inertia: 0.115770, ewa inertia: 0.114760 \n",
            "[MiniBatchKMeans] Reassigning 500 cluster centers.\n",
            "Minibatch iteration 23/3000: mean batch inertia: 0.098359, ewa inertia: 0.101861 \n",
            "Minibatch iteration 24/3000: mean batch inertia: 0.111219, ewa inertia: 0.109221 \n",
            "Minibatch iteration 25/3000: mean batch inertia: 0.110305, ewa inertia: 0.110074 \n",
            "[MiniBatchKMeans] Reassigning 500 cluster centers.\n",
            "Minibatch iteration 26/3000: mean batch inertia: 0.104034, ewa inertia: 0.105324 \n",
            "Minibatch iteration 27/3000: mean batch inertia: 0.117445, ewa inertia: 0.114857 \n",
            "Minibatch iteration 28/3000: mean batch inertia: 0.121047, ewa inertia: 0.119725 \n",
            "[MiniBatchKMeans] Reassigning 500 cluster centers.\n",
            "Minibatch iteration 29/3000: mean batch inertia: 0.105813, ewa inertia: 0.108783 \n",
            "Minibatch iteration 30/3000: mean batch inertia: 0.121422, ewa inertia: 0.118723 \n",
            "Minibatch iteration 31/3000: mean batch inertia: 0.108363, ewa inertia: 0.110575 \n",
            "[MiniBatchKMeans] Reassigning 500 cluster centers.\n",
            "Minibatch iteration 32/3000: mean batch inertia: 0.105325, ewa inertia: 0.106446 \n",
            "Minibatch iteration 33/3000: mean batch inertia: 0.119775, ewa inertia: 0.116929 \n",
            "Minibatch iteration 34/3000: mean batch inertia: 0.122531, ewa inertia: 0.121335 \n",
            "[MiniBatchKMeans] Reassigning 500 cluster centers.\n",
            "Minibatch iteration 35/3000: mean batch inertia: 0.111435, ewa inertia: 0.113549 \n",
            "Minibatch iteration 36/3000: mean batch inertia: 0.117701, ewa inertia: 0.116814 \n",
            "Minibatch iteration 37/3000: mean batch inertia: 0.121295, ewa inertia: 0.120338 \n",
            "[MiniBatchKMeans] Reassigning 500 cluster centers.\n",
            "Minibatch iteration 38/3000: mean batch inertia: 0.110950, ewa inertia: 0.112955 \n",
            "Minibatch iteration 39/3000: mean batch inertia: 0.134230, ewa inertia: 0.129687 \n",
            "Minibatch iteration 40/3000: mean batch inertia: 0.118516, ewa inertia: 0.120901 \n",
            "[MiniBatchKMeans] Reassigning 500 cluster centers.\n",
            "Minibatch iteration 41/3000: mean batch inertia: 0.119348, ewa inertia: 0.119680 \n",
            "Minibatch iteration 42/3000: mean batch inertia: 0.122020, ewa inertia: 0.121520 \n",
            "Minibatch iteration 43/3000: mean batch inertia: 0.110273, ewa inertia: 0.112674 \n",
            "[MiniBatchKMeans] Reassigning 500 cluster centers.\n",
            "Minibatch iteration 44/3000: mean batch inertia: 0.118338, ewa inertia: 0.117129 \n",
            "Minibatch iteration 45/3000: mean batch inertia: 0.114677, ewa inertia: 0.115201 \n",
            "Minibatch iteration 46/3000: mean batch inertia: 0.111958, ewa inertia: 0.112651 \n",
            "[MiniBatchKMeans] Reassigning 500 cluster centers.\n",
            "Minibatch iteration 47/3000: mean batch inertia: 0.114915, ewa inertia: 0.114431 \n",
            "Minibatch iteration 48/3000: mean batch inertia: 0.130026, ewa inertia: 0.126696 \n",
            "Minibatch iteration 49/3000: mean batch inertia: 0.122426, ewa inertia: 0.123337 \n",
            "[MiniBatchKMeans] Reassigning 500 cluster centers.\n",
            "Minibatch iteration 50/3000: mean batch inertia: 0.114440, ewa inertia: 0.116340 \n",
            "Minibatch iteration 51/3000: mean batch inertia: 0.116816, ewa inertia: 0.116714 \n",
            "Minibatch iteration 52/3000: mean batch inertia: 0.132234, ewa inertia: 0.128920 \n",
            "[MiniBatchKMeans] Reassigning 500 cluster centers.\n",
            "Minibatch iteration 53/3000: mean batch inertia: 0.110142, ewa inertia: 0.114152 \n",
            "Minibatch iteration 54/3000: mean batch inertia: 0.105354, ewa inertia: 0.107233 \n",
            "Minibatch iteration 55/3000: mean batch inertia: 0.119338, ewa inertia: 0.116753 \n",
            "[MiniBatchKMeans] Reassigning 500 cluster centers.\n",
            "Minibatch iteration 56/3000: mean batch inertia: 0.114881, ewa inertia: 0.115281 \n",
            "Minibatch iteration 57/3000: mean batch inertia: 0.124033, ewa inertia: 0.122164 \n",
            "Minibatch iteration 58/3000: mean batch inertia: 0.118549, ewa inertia: 0.119321 \n",
            "[MiniBatchKMeans] Reassigning 500 cluster centers.\n",
            "Minibatch iteration 59/3000: mean batch inertia: 0.115232, ewa inertia: 0.116105 \n",
            "Minibatch iteration 60/3000: mean batch inertia: 0.128344, ewa inertia: 0.125731 \n",
            "Minibatch iteration 61/3000: mean batch inertia: 0.129861, ewa inertia: 0.128979 \n",
            "[MiniBatchKMeans] Reassigning 500 cluster centers.\n",
            "Minibatch iteration 62/3000: mean batch inertia: 0.108804, ewa inertia: 0.113112 \n",
            "Minibatch iteration 63/3000: mean batch inertia: 0.116913, ewa inertia: 0.116101 \n",
            "Minibatch iteration 64/3000: mean batch inertia: 0.113255, ewa inertia: 0.113863 \n",
            "[MiniBatchKMeans] Reassigning 500 cluster centers.\n",
            "Minibatch iteration 65/3000: mean batch inertia: 0.131960, ewa inertia: 0.128096 \n",
            "Minibatch iteration 66/3000: mean batch inertia: 0.130387, ewa inertia: 0.129898 \n",
            "Minibatch iteration 67/3000: mean batch inertia: 0.118997, ewa inertia: 0.121325 \n",
            "[MiniBatchKMeans] Reassigning 500 cluster centers.\n",
            "Minibatch iteration 68/3000: mean batch inertia: 0.112121, ewa inertia: 0.114086 \n",
            "Minibatch iteration 69/3000: mean batch inertia: 0.110596, ewa inertia: 0.111342 \n",
            "Minibatch iteration 70/3000: mean batch inertia: 0.125670, ewa inertia: 0.122610 \n",
            "[MiniBatchKMeans] Reassigning 500 cluster centers.\n",
            "Minibatch iteration 71/3000: mean batch inertia: 0.102108, ewa inertia: 0.106485 \n",
            "Minibatch iteration 72/3000: mean batch inertia: 0.109177, ewa inertia: 0.108602 \n",
            "Minibatch iteration 73/3000: mean batch inertia: 0.115330, ewa inertia: 0.113893 \n",
            "[MiniBatchKMeans] Reassigning 500 cluster centers.\n",
            "Minibatch iteration 74/3000: mean batch inertia: 0.115463, ewa inertia: 0.115128 \n",
            "Minibatch iteration 75/3000: mean batch inertia: 0.125165, ewa inertia: 0.123022 \n",
            "Minibatch iteration 76/3000: mean batch inertia: 0.122439, ewa inertia: 0.122564 \n",
            "[MiniBatchKMeans] Reassigning 500 cluster centers.\n",
            "Minibatch iteration 77/3000: mean batch inertia: 0.120320, ewa inertia: 0.120799 \n",
            "Minibatch iteration 78/3000: mean batch inertia: 0.120443, ewa inertia: 0.120519 \n",
            "Minibatch iteration 79/3000: mean batch inertia: 0.114261, ewa inertia: 0.115598 \n",
            "[MiniBatchKMeans] Reassigning 500 cluster centers.\n",
            "Minibatch iteration 80/3000: mean batch inertia: 0.113416, ewa inertia: 0.113882 \n",
            "Minibatch iteration 81/3000: mean batch inertia: 0.122132, ewa inertia: 0.120370 \n",
            "Minibatch iteration 82/3000: mean batch inertia: 0.117415, ewa inertia: 0.118046 \n",
            "[MiniBatchKMeans] Reassigning 500 cluster centers.\n",
            "Minibatch iteration 83/3000: mean batch inertia: 0.118628, ewa inertia: 0.118503 \n",
            "Minibatch iteration 84/3000: mean batch inertia: 0.127853, ewa inertia: 0.125856 \n",
            "Minibatch iteration 85/3000: mean batch inertia: 0.123928, ewa inertia: 0.124340 \n",
            "[MiniBatchKMeans] Reassigning 500 cluster centers.\n",
            "Minibatch iteration 86/3000: mean batch inertia: 0.108228, ewa inertia: 0.111668 \n",
            "Minibatch iteration 87/3000: mean batch inertia: 0.125936, ewa inertia: 0.122890 \n",
            "Minibatch iteration 88/3000: mean batch inertia: 0.112676, ewa inertia: 0.114857 \n",
            "[MiniBatchKMeans] Reassigning 500 cluster centers.\n",
            "Minibatch iteration 89/3000: mean batch inertia: 0.106190, ewa inertia: 0.108041 \n",
            "Minibatch iteration 90/3000: mean batch inertia: 0.114320, ewa inertia: 0.112980 \n",
            "Minibatch iteration 91/3000: mean batch inertia: 0.125061, ewa inertia: 0.122482 \n",
            "[MiniBatchKMeans] Reassigning 500 cluster centers.\n",
            "Minibatch iteration 92/3000: mean batch inertia: 0.135348, ewa inertia: 0.132601 \n",
            "Minibatch iteration 93/3000: mean batch inertia: 0.107871, ewa inertia: 0.113151 \n",
            "Minibatch iteration 94/3000: mean batch inertia: 0.123851, ewa inertia: 0.121566 \n",
            "[MiniBatchKMeans] Reassigning 500 cluster centers.\n",
            "Minibatch iteration 95/3000: mean batch inertia: 0.121477, ewa inertia: 0.121496 \n",
            "Minibatch iteration 96/3000: mean batch inertia: 0.110330, ewa inertia: 0.112714 \n",
            "Minibatch iteration 97/3000: mean batch inertia: 0.115058, ewa inertia: 0.114557 \n",
            "[MiniBatchKMeans] Reassigning 500 cluster centers.\n",
            "Minibatch iteration 98/3000: mean batch inertia: 0.114025, ewa inertia: 0.114139 \n",
            "Minibatch iteration 99/3000: mean batch inertia: 0.129040, ewa inertia: 0.125858 \n",
            "Minibatch iteration 100/3000: mean batch inertia: 0.118618, ewa inertia: 0.120164 \n",
            "[MiniBatchKMeans] Reassigning 500 cluster centers.\n",
            "Minibatch iteration 101/3000: mean batch inertia: 0.124008, ewa inertia: 0.123188 \n",
            "Minibatch iteration 102/3000: mean batch inertia: 0.106264, ewa inertia: 0.109878 \n",
            "Minibatch iteration 103/3000: mean batch inertia: 0.107945, ewa inertia: 0.108357 \n",
            "[MiniBatchKMeans] Reassigning 500 cluster centers.\n",
            "Minibatch iteration 104/3000: mean batch inertia: 0.104357, ewa inertia: 0.105212 \n",
            "Minibatch iteration 105/3000: mean batch inertia: 0.112964, ewa inertia: 0.111309 \n",
            "Minibatch iteration 106/3000: mean batch inertia: 0.123767, ewa inertia: 0.121107 \n",
            "[MiniBatchKMeans] Reassigning 500 cluster centers.\n",
            "Minibatch iteration 107/3000: mean batch inertia: 0.122148, ewa inertia: 0.121926 \n",
            "Minibatch iteration 108/3000: mean batch inertia: 0.121699, ewa inertia: 0.121748 \n",
            "Minibatch iteration 109/3000: mean batch inertia: 0.121366, ewa inertia: 0.121447 \n",
            "[MiniBatchKMeans] Reassigning 500 cluster centers.\n",
            "Minibatch iteration 110/3000: mean batch inertia: 0.108772, ewa inertia: 0.111479 \n",
            "Minibatch iteration 111/3000: mean batch inertia: 0.120714, ewa inertia: 0.118742 \n",
            "Minibatch iteration 112/3000: mean batch inertia: 0.120710, ewa inertia: 0.120289 \n",
            "Minibatch iteration 113/3000: mean batch inertia: 0.125672, ewa inertia: 0.124523 \n",
            "[MiniBatchKMeans] Reassigning 500 cluster centers.\n",
            "Minibatch iteration 114/3000: mean batch inertia: 0.116323, ewa inertia: 0.118074 \n",
            "Minibatch iteration 115/3000: mean batch inertia: 0.110308, ewa inertia: 0.111966 \n",
            "Minibatch iteration 116/3000: mean batch inertia: 0.114071, ewa inertia: 0.113621 \n",
            "Minibatch iteration 117/3000: mean batch inertia: 0.113235, ewa inertia: 0.113317 \n",
            "[MiniBatchKMeans] Reassigning 500 cluster centers.\n",
            "Minibatch iteration 118/3000: mean batch inertia: 0.116484, ewa inertia: 0.115807 \n",
            "Minibatch iteration 119/3000: mean batch inertia: 0.121107, ewa inertia: 0.119975 \n",
            "Minibatch iteration 120/3000: mean batch inertia: 0.114536, ewa inertia: 0.115698 \n",
            "Minibatch iteration 121/3000: mean batch inertia: 0.114627, ewa inertia: 0.114856 \n",
            "[MiniBatchKMeans] Reassigning 500 cluster centers.\n",
            "Minibatch iteration 122/3000: mean batch inertia: 0.122198, ewa inertia: 0.120630 \n",
            "Minibatch iteration 123/3000: mean batch inertia: 0.112869, ewa inertia: 0.114526 \n",
            "Minibatch iteration 124/3000: mean batch inertia: 0.124051, ewa inertia: 0.122018 \n",
            "Minibatch iteration 125/3000: mean batch inertia: 0.124163, ewa inertia: 0.123705 \n",
            "[MiniBatchKMeans] Reassigning 500 cluster centers.\n",
            "Minibatch iteration 126/3000: mean batch inertia: 0.119956, ewa inertia: 0.120756 \n",
            "Minibatch iteration 127/3000: mean batch inertia: 0.116795, ewa inertia: 0.117641 \n",
            "Minibatch iteration 128/3000: mean batch inertia: 0.118417, ewa inertia: 0.118251 \n",
            "Minibatch iteration 129/3000: mean batch inertia: 0.129636, ewa inertia: 0.127205 \n",
            "[MiniBatchKMeans] Reassigning 500 cluster centers.\n",
            "Minibatch iteration 130/3000: mean batch inertia: 0.109233, ewa inertia: 0.113071 \n",
            "Minibatch iteration 131/3000: mean batch inertia: 0.124460, ewa inertia: 0.122028 \n",
            "Minibatch iteration 132/3000: mean batch inertia: 0.117811, ewa inertia: 0.118711 \n",
            "Minibatch iteration 133/3000: mean batch inertia: 0.119031, ewa inertia: 0.118963 \n",
            "[MiniBatchKMeans] Reassigning 500 cluster centers.\n",
            "Minibatch iteration 134/3000: mean batch inertia: 0.118090, ewa inertia: 0.118276 \n",
            "Minibatch iteration 135/3000: mean batch inertia: 0.119986, ewa inertia: 0.119621 \n",
            "Minibatch iteration 136/3000: mean batch inertia: 0.123423, ewa inertia: 0.122611 \n",
            "Minibatch iteration 137/3000: mean batch inertia: 0.135566, ewa inertia: 0.132800 \n",
            "[MiniBatchKMeans] Reassigning 500 cluster centers.\n",
            "Minibatch iteration 138/3000: mean batch inertia: 0.125318, ewa inertia: 0.126915 \n",
            "Minibatch iteration 139/3000: mean batch inertia: 0.112497, ewa inertia: 0.115576 \n",
            "Minibatch iteration 140/3000: mean batch inertia: 0.127641, ewa inertia: 0.125064 \n",
            "Minibatch iteration 141/3000: mean batch inertia: 0.131466, ewa inertia: 0.130099 \n",
            "[MiniBatchKMeans] Reassigning 500 cluster centers.\n",
            "Minibatch iteration 142/3000: mean batch inertia: 0.127118, ewa inertia: 0.127755 \n",
            "Minibatch iteration 143/3000: mean batch inertia: 0.121851, ewa inertia: 0.123112 \n",
            "Minibatch iteration 144/3000: mean batch inertia: 0.110746, ewa inertia: 0.113387 \n",
            "Minibatch iteration 145/3000: mean batch inertia: 0.120476, ewa inertia: 0.118962 \n",
            "[MiniBatchKMeans] Reassigning 500 cluster centers.\n",
            "Minibatch iteration 146/3000: mean batch inertia: 0.121773, ewa inertia: 0.121173 \n",
            "Minibatch iteration 147/3000: mean batch inertia: 0.122671, ewa inertia: 0.122351 \n",
            "Minibatch iteration 148/3000: mean batch inertia: 0.118599, ewa inertia: 0.119401 \n",
            "Minibatch iteration 149/3000: mean batch inertia: 0.108464, ewa inertia: 0.110799 \n",
            "[MiniBatchKMeans] Reassigning 500 cluster centers.\n",
            "Minibatch iteration 150/3000: mean batch inertia: 0.132829, ewa inertia: 0.128125 \n",
            "Minibatch iteration 151/3000: mean batch inertia: 0.122480, ewa inertia: 0.123685 \n",
            "Minibatch iteration 152/3000: mean batch inertia: 0.125323, ewa inertia: 0.124974 \n",
            "Minibatch iteration 153/3000: mean batch inertia: 0.122391, ewa inertia: 0.122942 \n",
            "[MiniBatchKMeans] Reassigning 500 cluster centers.\n",
            "Minibatch iteration 154/3000: mean batch inertia: 0.124371, ewa inertia: 0.124066 \n",
            "Minibatch iteration 155/3000: mean batch inertia: 0.113838, ewa inertia: 0.116022 \n",
            "Minibatch iteration 156/3000: mean batch inertia: 0.124821, ewa inertia: 0.122942 \n",
            "Minibatch iteration 157/3000: mean batch inertia: 0.118356, ewa inertia: 0.119335 \n",
            "[MiniBatchKMeans] Reassigning 500 cluster centers.\n",
            "Minibatch iteration 158/3000: mean batch inertia: 0.104461, ewa inertia: 0.107637 \n",
            "Minibatch iteration 159/3000: mean batch inertia: 0.132213, ewa inertia: 0.126966 \n",
            "Minibatch iteration 160/3000: mean batch inertia: 0.118171, ewa inertia: 0.120049 \n",
            "Minibatch iteration 161/3000: mean batch inertia: 0.116224, ewa inertia: 0.117041 \n",
            "[MiniBatchKMeans] Reassigning 500 cluster centers.\n",
            "Minibatch iteration 162/3000: mean batch inertia: 0.120847, ewa inertia: 0.120034 \n",
            "Minibatch iteration 163/3000: mean batch inertia: 0.118113, ewa inertia: 0.118523 \n",
            "Minibatch iteration 164/3000: mean batch inertia: 0.127893, ewa inertia: 0.125892 \n",
            "Minibatch iteration 165/3000: mean batch inertia: 0.121322, ewa inertia: 0.122298 \n",
            "[MiniBatchKMeans] Reassigning 500 cluster centers.\n",
            "Minibatch iteration 166/3000: mean batch inertia: 0.136846, ewa inertia: 0.133740 \n",
            "Minibatch iteration 167/3000: mean batch inertia: 0.114798, ewa inertia: 0.118843 \n",
            "Minibatch iteration 168/3000: mean batch inertia: 0.117488, ewa inertia: 0.117777 \n",
            "Minibatch iteration 169/3000: mean batch inertia: 0.119789, ewa inertia: 0.119360 \n",
            "[MiniBatchKMeans] Reassigning 500 cluster centers.\n",
            "Minibatch iteration 170/3000: mean batch inertia: 0.124326, ewa inertia: 0.123266 \n",
            "Minibatch iteration 171/3000: mean batch inertia: 0.123691, ewa inertia: 0.123600 \n",
            "Minibatch iteration 172/3000: mean batch inertia: 0.134895, ewa inertia: 0.132484 \n",
            "Minibatch iteration 173/3000: mean batch inertia: 0.120841, ewa inertia: 0.123327 \n",
            "[MiniBatchKMeans] Reassigning 500 cluster centers.\n",
            "Minibatch iteration 174/3000: mean batch inertia: 0.114108, ewa inertia: 0.116076 \n",
            "Minibatch iteration 175/3000: mean batch inertia: 0.127612, ewa inertia: 0.125149 \n",
            "Minibatch iteration 176/3000: mean batch inertia: 0.106525, ewa inertia: 0.110502 \n",
            "Minibatch iteration 177/3000: mean batch inertia: 0.123866, ewa inertia: 0.121012 \n",
            "[MiniBatchKMeans] Reassigning 500 cluster centers.\n",
            "Minibatch iteration 178/3000: mean batch inertia: 0.116989, ewa inertia: 0.117848 \n",
            "Minibatch iteration 179/3000: mean batch inertia: 0.120810, ewa inertia: 0.120178 \n",
            "Minibatch iteration 180/3000: mean batch inertia: 0.114580, ewa inertia: 0.115775 \n",
            "Minibatch iteration 181/3000: mean batch inertia: 0.122496, ewa inertia: 0.121061 \n",
            "[MiniBatchKMeans] Reassigning 500 cluster centers.\n",
            "Minibatch iteration 182/3000: mean batch inertia: 0.114395, ewa inertia: 0.115818 \n",
            "Minibatch iteration 183/3000: mean batch inertia: 0.115238, ewa inertia: 0.115362 \n",
            "Minibatch iteration 184/3000: mean batch inertia: 0.135862, ewa inertia: 0.131485 \n",
            "Minibatch iteration 185/3000: mean batch inertia: 0.123588, ewa inertia: 0.125274 \n",
            "[MiniBatchKMeans] Reassigning 500 cluster centers.\n",
            "Minibatch iteration 186/3000: mean batch inertia: 0.128491, ewa inertia: 0.127805 \n",
            "Minibatch iteration 187/3000: mean batch inertia: 0.125815, ewa inertia: 0.126240 \n",
            "Minibatch iteration 188/3000: mean batch inertia: 0.118136, ewa inertia: 0.119867 \n",
            "Minibatch iteration 189/3000: mean batch inertia: 0.117137, ewa inertia: 0.117720 \n",
            "[MiniBatchKMeans] Reassigning 500 cluster centers.\n",
            "Minibatch iteration 190/3000: mean batch inertia: 0.119165, ewa inertia: 0.118857 \n",
            "Minibatch iteration 191/3000: mean batch inertia: 0.129778, ewa inertia: 0.127446 \n",
            "Minibatch iteration 192/3000: mean batch inertia: 0.108605, ewa inertia: 0.112628 \n",
            "Minibatch iteration 193/3000: mean batch inertia: 0.125411, ewa inertia: 0.122682 \n",
            "[MiniBatchKMeans] Reassigning 500 cluster centers.\n",
            "Minibatch iteration 194/3000: mean batch inertia: 0.131891, ewa inertia: 0.129924 \n",
            "Minibatch iteration 195/3000: mean batch inertia: 0.118730, ewa inertia: 0.121120 \n",
            "Minibatch iteration 196/3000: mean batch inertia: 0.118553, ewa inertia: 0.119101 \n",
            "Minibatch iteration 197/3000: mean batch inertia: 0.120247, ewa inertia: 0.120003 \n",
            "[MiniBatchKMeans] Reassigning 500 cluster centers.\n",
            "Minibatch iteration 198/3000: mean batch inertia: 0.109984, ewa inertia: 0.112123 \n",
            "Minibatch iteration 199/3000: mean batch inertia: 0.131268, ewa inertia: 0.127180 \n",
            "Minibatch iteration 200/3000: mean batch inertia: 0.121451, ewa inertia: 0.122674 \n",
            "Minibatch iteration 201/3000: mean batch inertia: 0.125350, ewa inertia: 0.124778 \n",
            "[MiniBatchKMeans] Reassigning 500 cluster centers.\n",
            "Minibatch iteration 202/3000: mean batch inertia: 0.112493, ewa inertia: 0.115116 \n",
            "Minibatch iteration 203/3000: mean batch inertia: 0.116408, ewa inertia: 0.116132 \n",
            "Minibatch iteration 204/3000: mean batch inertia: 0.106438, ewa inertia: 0.108508 \n",
            "Minibatch iteration 205/3000: mean batch inertia: 0.129402, ewa inertia: 0.124940 \n",
            "[MiniBatchKMeans] Reassigning 500 cluster centers.\n",
            "Minibatch iteration 206/3000: mean batch inertia: 0.120306, ewa inertia: 0.121296 \n",
            "Minibatch iteration 207/3000: mean batch inertia: 0.112424, ewa inertia: 0.114318 \n",
            "Minibatch iteration 208/3000: mean batch inertia: 0.129757, ewa inertia: 0.126460 \n",
            "Minibatch iteration 209/3000: mean batch inertia: 0.137584, ewa inertia: 0.135209 \n",
            "Converged (lack of improvement in inertia) at iteration 209/3000\n",
            "Computing label assignment and total inertia\n",
            "CPU times: user 5.88 s, sys: 29.9 ms, total: 5.9 s\n",
            "Wall time: 5.88 s\n"
          ],
          "name": "stdout"
        }
      ]
    },
    {
      "cell_type": "code",
      "metadata": {
        "id": "5dGLWvrwKMvA",
        "colab_type": "code",
        "colab": {
          "base_uri": "https://localhost:8080/",
          "height": 119
        },
        "outputId": "8b47e7f0-fbf0-49c7-c042-19c02df5914a"
      },
      "source": [
        "show_metrics(X=X_cv, y=y, labels=labels_MBKMeans_cv)"
      ],
      "execution_count": 134,
      "outputs": [
        {
          "output_type": "stream",
          "text": [
            "Homogeneity: 0.657\n",
            "Completeness: 0.384\n",
            "V-measure: 0.484\n",
            "Adjusted Rand Index: -0.004\n",
            "Adjusted Mutual Information: 0.206\n",
            "Silhouette Coefficient: 0.604\n"
          ],
          "name": "stdout"
        }
      ]
    },
    {
      "cell_type": "code",
      "metadata": {
        "id": "pcn-5K1sKNiD",
        "colab_type": "code",
        "colab": {
          "base_uri": "https://localhost:8080/",
          "height": 119
        },
        "outputId": "e762331f-5567-4f83-d38b-841a84312929"
      },
      "source": [
        "show_metrics(X=X_tfidf, y=y, labels=labels_MBKMeans_tfidf)"
      ],
      "execution_count": 135,
      "outputs": [
        {
          "output_type": "stream",
          "text": [
            "Homogeneity: 0.659\n",
            "Completeness: 0.387\n",
            "V-measure: 0.488\n",
            "Adjusted Rand Index: -0.004\n",
            "Adjusted Mutual Information: 0.217\n",
            "Silhouette Coefficient: 0.625\n"
          ],
          "name": "stdout"
        }
      ]
    },
    {
      "cell_type": "code",
      "metadata": {
        "id": "JGTyHvY9Ff-C",
        "colab_type": "code",
        "colab": {
          "base_uri": "https://localhost:8080/",
          "height": 34
        },
        "outputId": "979353d8-17d8-497f-ade9-c039baebe60a"
      },
      "source": [
        "len(set(labels_MBKMeans_cv))"
      ],
      "execution_count": 136,
      "outputs": [
        {
          "output_type": "execute_result",
          "data": {
            "text/plain": [
              "666"
            ]
          },
          "metadata": {
            "tags": []
          },
          "execution_count": 136
        }
      ]
    },
    {
      "cell_type": "code",
      "metadata": {
        "id": "7OyescCIFgjU",
        "colab_type": "code",
        "colab": {
          "base_uri": "https://localhost:8080/",
          "height": 34
        },
        "outputId": "cb33ff16-f46f-4884-aa99-edb4d8b2bbbb"
      },
      "source": [
        "len(set(labels_MBKMeans_cv))"
      ],
      "execution_count": 137,
      "outputs": [
        {
          "output_type": "execute_result",
          "data": {
            "text/plain": [
              "666"
            ]
          },
          "metadata": {
            "tags": []
          },
          "execution_count": 137
        }
      ]
    },
    {
      "cell_type": "code",
      "metadata": {
        "id": "uoN4ZBNBFjFl",
        "colab_type": "code",
        "colab": {}
      },
      "source": [
        "sample['cluster_cv'] = labels_MBKMeans_cv"
      ],
      "execution_count": 0,
      "outputs": []
    },
    {
      "cell_type": "code",
      "metadata": {
        "id": "MIzBjq0AFjhz",
        "colab_type": "code",
        "colab": {}
      },
      "source": [
        "sample['cluster_tfidf'] = labels_MBKMeans_tfidf"
      ],
      "execution_count": 0,
      "outputs": []
    },
    {
      "cell_type": "code",
      "metadata": {
        "id": "jjZiaaXVFlx-",
        "colab_type": "code",
        "colab": {
          "base_uri": "https://localhost:8080/",
          "height": 266
        },
        "outputId": "b8592bb5-8efa-412b-ac13-65b9a8e2ffcf"
      },
      "source": [
        "sample[sample.cluster_cv==10].head(10)"
      ],
      "execution_count": 140,
      "outputs": [
        {
          "output_type": "execute_result",
          "data": {
            "text/html": [
              "<div>\n",
              "<style scoped>\n",
              "    .dataframe tbody tr th:only-of-type {\n",
              "        vertical-align: middle;\n",
              "    }\n",
              "\n",
              "    .dataframe tbody tr th {\n",
              "        vertical-align: top;\n",
              "    }\n",
              "\n",
              "    .dataframe thead th {\n",
              "        text-align: right;\n",
              "    }\n",
              "</style>\n",
              "<table border=\"1\" class=\"dataframe\">\n",
              "  <thead>\n",
              "    <tr style=\"text-align: right;\">\n",
              "      <th></th>\n",
              "      <th>category_name</th>\n",
              "      <th>title</th>\n",
              "      <th>cluster_cv</th>\n",
              "      <th>cluster_tfidf</th>\n",
              "    </tr>\n",
              "  </thead>\n",
              "  <tbody>\n",
              "    <tr>\n",
              "      <th>193410</th>\n",
              "      <td>Дома, дачи, коттеджи</td>\n",
              "      <td>Дом 120 м² на участке 10 сот.</td>\n",
              "      <td>10</td>\n",
              "      <td>139</td>\n",
              "    </tr>\n",
              "    <tr>\n",
              "      <th>38470</th>\n",
              "      <td>Дома, дачи, коттеджи</td>\n",
              "      <td>Дом 154 м² на участке 11 сот.</td>\n",
              "      <td>10</td>\n",
              "      <td>139</td>\n",
              "    </tr>\n",
              "    <tr>\n",
              "      <th>53796</th>\n",
              "      <td>Дома, дачи, коттеджи</td>\n",
              "      <td>Дом 56 м² на участке 30 сот.</td>\n",
              "      <td>10</td>\n",
              "      <td>139</td>\n",
              "    </tr>\n",
              "    <tr>\n",
              "      <th>198427</th>\n",
              "      <td>Дома, дачи, коттеджи</td>\n",
              "      <td>Коттедж 145 м² на участке 15 сот.</td>\n",
              "      <td>10</td>\n",
              "      <td>498</td>\n",
              "    </tr>\n",
              "    <tr>\n",
              "      <th>151199</th>\n",
              "      <td>Дома, дачи, коттеджи</td>\n",
              "      <td>Дом 100 м² на участке 12 сот.</td>\n",
              "      <td>10</td>\n",
              "      <td>139</td>\n",
              "    </tr>\n",
              "    <tr>\n",
              "      <th>38100</th>\n",
              "      <td>Дома, дачи, коттеджи</td>\n",
              "      <td>Дом 35 м² на участке 15 сот.</td>\n",
              "      <td>10</td>\n",
              "      <td>139</td>\n",
              "    </tr>\n",
              "    <tr>\n",
              "      <th>79777</th>\n",
              "      <td>Дома, дачи, коттеджи</td>\n",
              "      <td>Дом 35 м² на участке 62 сот.</td>\n",
              "      <td>10</td>\n",
              "      <td>139</td>\n",
              "    </tr>\n",
              "  </tbody>\n",
              "</table>\n",
              "</div>"
            ],
            "text/plain": [
              "               category_name  ... cluster_tfidf\n",
              "193410  Дома, дачи, коттеджи  ...           139\n",
              "38470   Дома, дачи, коттеджи  ...           139\n",
              "53796   Дома, дачи, коттеджи  ...           139\n",
              "198427  Дома, дачи, коттеджи  ...           498\n",
              "151199  Дома, дачи, коттеджи  ...           139\n",
              "38100   Дома, дачи, коттеджи  ...           139\n",
              "79777   Дома, дачи, коттеджи  ...           139\n",
              "\n",
              "[7 rows x 4 columns]"
            ]
          },
          "metadata": {
            "tags": []
          },
          "execution_count": 140
        }
      ]
    },
    {
      "cell_type": "code",
      "metadata": {
        "id": "1jD5SrH4FmTl",
        "colab_type": "code",
        "colab": {
          "base_uri": "https://localhost:8080/",
          "height": 359
        },
        "outputId": "1b69f9ab-20c1-4746-8359-3c312abc42b6"
      },
      "source": [
        "sample[sample.cluster_tfidf==10].head(10)"
      ],
      "execution_count": 141,
      "outputs": [
        {
          "output_type": "execute_result",
          "data": {
            "text/html": [
              "<div>\n",
              "<style scoped>\n",
              "    .dataframe tbody tr th:only-of-type {\n",
              "        vertical-align: middle;\n",
              "    }\n",
              "\n",
              "    .dataframe tbody tr th {\n",
              "        vertical-align: top;\n",
              "    }\n",
              "\n",
              "    .dataframe thead th {\n",
              "        text-align: right;\n",
              "    }\n",
              "</style>\n",
              "<table border=\"1\" class=\"dataframe\">\n",
              "  <thead>\n",
              "    <tr style=\"text-align: right;\">\n",
              "      <th></th>\n",
              "      <th>category_name</th>\n",
              "      <th>title</th>\n",
              "      <th>cluster_cv</th>\n",
              "      <th>cluster_tfidf</th>\n",
              "    </tr>\n",
              "  </thead>\n",
              "  <tbody>\n",
              "    <tr>\n",
              "      <th>104912</th>\n",
              "      <td>Детская одежда и обувь</td>\n",
              "      <td>Туфли Eli</td>\n",
              "      <td>151</td>\n",
              "      <td>10</td>\n",
              "    </tr>\n",
              "    <tr>\n",
              "      <th>174785</th>\n",
              "      <td>Одежда, обувь, аксессуары</td>\n",
              "      <td>Туфли чёрные</td>\n",
              "      <td>151</td>\n",
              "      <td>10</td>\n",
              "    </tr>\n",
              "    <tr>\n",
              "      <th>27565</th>\n",
              "      <td>Детская одежда и обувь</td>\n",
              "      <td>Туфли</td>\n",
              "      <td>151</td>\n",
              "      <td>10</td>\n",
              "    </tr>\n",
              "    <tr>\n",
              "      <th>144353</th>\n",
              "      <td>Одежда, обувь, аксессуары</td>\n",
              "      <td>Туфли</td>\n",
              "      <td>151</td>\n",
              "      <td>10</td>\n",
              "    </tr>\n",
              "    <tr>\n",
              "      <th>145504</th>\n",
              "      <td>Одежда, обувь, аксессуары</td>\n",
              "      <td>Туфли Tipe Etacchi</td>\n",
              "      <td>151</td>\n",
              "      <td>10</td>\n",
              "    </tr>\n",
              "    <tr>\n",
              "      <th>114149</th>\n",
              "      <td>Одежда, обувь, аксессуары</td>\n",
              "      <td>Туфли</td>\n",
              "      <td>151</td>\n",
              "      <td>10</td>\n",
              "    </tr>\n",
              "    <tr>\n",
              "      <th>23708</th>\n",
              "      <td>Одежда, обувь, аксессуары</td>\n",
              "      <td>Туфли carlo pazolini</td>\n",
              "      <td>151</td>\n",
              "      <td>10</td>\n",
              "    </tr>\n",
              "    <tr>\n",
              "      <th>229504</th>\n",
              "      <td>Одежда, обувь, аксессуары</td>\n",
              "      <td>Туфли (Испания)</td>\n",
              "      <td>151</td>\n",
              "      <td>10</td>\n",
              "    </tr>\n",
              "    <tr>\n",
              "      <th>35920</th>\n",
              "      <td>Одежда, обувь, аксессуары</td>\n",
              "      <td>Туфли nouchka</td>\n",
              "      <td>151</td>\n",
              "      <td>10</td>\n",
              "    </tr>\n",
              "    <tr>\n",
              "      <th>145530</th>\n",
              "      <td>Одежда, обувь, аксессуары</td>\n",
              "      <td>Туфли</td>\n",
              "      <td>151</td>\n",
              "      <td>10</td>\n",
              "    </tr>\n",
              "  </tbody>\n",
              "</table>\n",
              "</div>"
            ],
            "text/plain": [
              "                    category_name  ... cluster_tfidf\n",
              "104912     Детская одежда и обувь  ...            10\n",
              "174785  Одежда, обувь, аксессуары  ...            10\n",
              "27565      Детская одежда и обувь  ...            10\n",
              "144353  Одежда, обувь, аксессуары  ...            10\n",
              "145504  Одежда, обувь, аксессуары  ...            10\n",
              "114149  Одежда, обувь, аксессуары  ...            10\n",
              "23708   Одежда, обувь, аксессуары  ...            10\n",
              "229504  Одежда, обувь, аксессуары  ...            10\n",
              "35920   Одежда, обувь, аксессуары  ...            10\n",
              "145530  Одежда, обувь, аксессуары  ...            10\n",
              "\n",
              "[10 rows x 4 columns]"
            ]
          },
          "metadata": {
            "tags": []
          },
          "execution_count": 141
        }
      ]
    },
    {
      "cell_type": "markdown",
      "metadata": {
        "id": "S2r9EdQAnJDZ",
        "colab_type": "text"
      },
      "source": [
        "По метрикам с небольшим отрывом побеждает TfidfVectorizer, хотя в целом оба векторайзера плюс-минус одинаково отработали.\n",
        "\n",
        "Общий вывод такой: оба векторайзера хороши, TfidfVectorizer в общем побеждает, но с совсем небольшим отрывом по метрикам."
      ]
    },
    {
      "cell_type": "markdown",
      "metadata": {
        "id": "GcgC-RwpJ5Vk",
        "colab_type": "text"
      },
      "source": [
        "## Задание 2."
      ]
    },
    {
      "cell_type": "code",
      "metadata": {
        "id": "bBWhlnLnKxJL",
        "colab_type": "code",
        "colab": {}
      },
      "source": [
        "tfidf = TfidfVectorizer(max_df=300, min_df=2, max_features=500, ngram_range=(1,2))\n",
        "X = tfidf.fit_transform(sample['title'])\n",
        "svd = TruncatedSVD(50, random_state=0)\n",
        "X_svd = svd.fit_transform(X_cv)\n",
        "nmf = NMF(50, random_state=0)\n",
        "X_nmf = nmf.fit_transform(X_cv)"
      ],
      "execution_count": 0,
      "outputs": []
    },
    {
      "cell_type": "code",
      "metadata": {
        "id": "Xf6egfBMLsg9",
        "colab_type": "code",
        "colab": {
          "base_uri": "https://localhost:8080/",
          "height": 68
        },
        "outputId": "dc973406-317c-4742-a334-6d5cc33ea7d7"
      },
      "source": [
        "%%time\n",
        "labels_AP_svd = clasterisation(X=X_svd, cluster_model=cluster_AP)"
      ],
      "execution_count": 160,
      "outputs": [
        {
          "output_type": "stream",
          "text": [
            "Converged after 191 iterations.\n",
            "CPU times: user 22.3 s, sys: 130 ms, total: 22.5 s\n",
            "Wall time: 22.4 s\n"
          ],
          "name": "stdout"
        }
      ]
    },
    {
      "cell_type": "code",
      "metadata": {
        "id": "S0Yh2Ul6Lx7g",
        "colab_type": "code",
        "colab": {
          "base_uri": "https://localhost:8080/",
          "height": 119
        },
        "outputId": "bff729fd-15b9-4c1d-9448-726942291b12"
      },
      "source": [
        "show_metrics(X=X_svd, y=y, labels=labels_AP_svd)"
      ],
      "execution_count": 161,
      "outputs": [
        {
          "output_type": "stream",
          "text": [
            "Homogeneity: 0.301\n",
            "Completeness: 0.407\n",
            "V-measure: 0.346\n",
            "Adjusted Rand Index: -0.001\n",
            "Adjusted Mutual Information: 0.272\n",
            "Silhouette Coefficient: 0.673\n"
          ],
          "name": "stdout"
        }
      ]
    },
    {
      "cell_type": "code",
      "metadata": {
        "id": "0Ka0XeXeL5eh",
        "colab_type": "code",
        "colab": {
          "base_uri": "https://localhost:8080/",
          "height": 68
        },
        "outputId": "5626f878-04c4-48d2-a64c-3d61a1a0079b"
      },
      "source": [
        "%%time\n",
        "labels_AP_nmf = clasterisation(X=X_nmf, cluster_model=cluster_AP)"
      ],
      "execution_count": 162,
      "outputs": [
        {
          "output_type": "stream",
          "text": [
            "Converged after 71 iterations.\n",
            "CPU times: user 8.96 s, sys: 103 ms, total: 9.06 s\n",
            "Wall time: 8.94 s\n"
          ],
          "name": "stdout"
        }
      ]
    },
    {
      "cell_type": "code",
      "metadata": {
        "id": "F_LHm_IzMESC",
        "colab_type": "code",
        "colab": {
          "base_uri": "https://localhost:8080/",
          "height": 119
        },
        "outputId": "ce2de595-34b4-49a6-8a1f-3b1345438372"
      },
      "source": [
        "show_metrics(X=X_nmf, y=y, labels=labels_AP_nmf)"
      ],
      "execution_count": 163,
      "outputs": [
        {
          "output_type": "stream",
          "text": [
            "Homogeneity: 0.071\n",
            "Completeness: 0.763\n",
            "V-measure: 0.129\n",
            "Adjusted Rand Index: 0.015\n",
            "Adjusted Mutual Information: 0.117\n",
            "Silhouette Coefficient: 0.422\n"
          ],
          "name": "stdout"
        }
      ]
    },
    {
      "cell_type": "markdown",
      "metadata": {
        "id": "sHGCCZ9lNZv1",
        "colab_type": "text"
      },
      "source": [
        "C AffinityPropagation по нескольким метрикам побеждает SVD "
      ]
    },
    {
      "cell_type": "code",
      "metadata": {
        "id": "18pkXQRlL1XG",
        "colab_type": "code",
        "colab": {
          "base_uri": "https://localhost:8080/",
          "height": 51
        },
        "outputId": "9a0296e9-42aa-4d46-e6c0-815cbc469df9"
      },
      "source": [
        "%%time\n",
        "labels_KMeans_svd = clasterisation(X=X_svd, cluster_model=cluster_KMeans)"
      ],
      "execution_count": 164,
      "outputs": [
        {
          "output_type": "stream",
          "text": [
            "CPU times: user 35.3 ms, sys: 5.05 ms, total: 40.4 ms\n",
            "Wall time: 391 ms\n"
          ],
          "name": "stdout"
        }
      ]
    },
    {
      "cell_type": "code",
      "metadata": {
        "id": "KNrCpmeuMLvx",
        "colab_type": "code",
        "colab": {
          "base_uri": "https://localhost:8080/",
          "height": 119
        },
        "outputId": "06908766-d8a9-494f-fb95-063c1e0b35be"
      },
      "source": [
        "show_metrics(X=X_svd, y=y, labels=labels_KMeans_svd)"
      ],
      "execution_count": 165,
      "outputs": [
        {
          "output_type": "stream",
          "text": [
            "Homogeneity: 0.291\n",
            "Completeness: 0.396\n",
            "V-measure: 0.335\n",
            "Adjusted Rand Index: -0.004\n",
            "Adjusted Mutual Information: 0.260\n",
            "Silhouette Coefficient: 0.669\n"
          ],
          "name": "stdout"
        }
      ]
    },
    {
      "cell_type": "code",
      "metadata": {
        "id": "q5yb9RctMKdz",
        "colab_type": "code",
        "colab": {
          "base_uri": "https://localhost:8080/",
          "height": 51
        },
        "outputId": "0b3f8764-7370-4f50-b93f-3cfb1af8c47b"
      },
      "source": [
        "%%time\n",
        "labels_KMeans_nmf = clasterisation(X=X_nmf, cluster_model=cluster_KMeans)"
      ],
      "execution_count": 166,
      "outputs": [
        {
          "output_type": "stream",
          "text": [
            "CPU times: user 40.6 ms, sys: 1.27 ms, total: 41.8 ms\n",
            "Wall time: 388 ms\n"
          ],
          "name": "stdout"
        }
      ]
    },
    {
      "cell_type": "code",
      "metadata": {
        "id": "-TfSi7rDMMRy",
        "colab_type": "code",
        "colab": {
          "base_uri": "https://localhost:8080/",
          "height": 119
        },
        "outputId": "5a13ec8c-8b55-49dc-e257-caa127ab6964"
      },
      "source": [
        "show_metrics(X=X_nmf, y=y, labels=labels_KMeans_nmf)"
      ],
      "execution_count": 167,
      "outputs": [
        {
          "output_type": "stream",
          "text": [
            "Homogeneity: 0.295\n",
            "Completeness: 0.391\n",
            "V-measure: 0.336\n",
            "Adjusted Rand Index: -0.006\n",
            "Adjusted Mutual Information: 0.259\n",
            "Silhouette Coefficient: 0.696\n"
          ],
          "name": "stdout"
        }
      ]
    },
    {
      "cell_type": "markdown",
      "metadata": {
        "id": "3Q63-maeN6nI",
        "colab_type": "text"
      },
      "source": [
        "C KMeans по нескольким метрикам с совсем маленьким отрывом побеждает NMF "
      ]
    },
    {
      "cell_type": "code",
      "metadata": {
        "id": "0XZyyWmPLHZi",
        "colab_type": "code",
        "colab": {
          "base_uri": "https://localhost:8080/",
          "height": 1000
        },
        "outputId": "fae23e22-b980-4a32-fcbf-8e1e9f68c982"
      },
      "source": [
        "%%time\n",
        "labels_MBKMeans_svd = clasterisation(X=X_svd, cluster_model=cluster_MBKMeans)"
      ],
      "execution_count": 168,
      "outputs": [
        {
          "output_type": "stream",
          "text": [
            "Init 1/3 with method: k-means++\n",
            "Inertia for init 1/3: 0.012165\n",
            "Init 2/3 with method: k-means++\n",
            "Inertia for init 2/3: 0.010730\n",
            "Init 3/3 with method: k-means++\n",
            "Inertia for init 3/3: 0.013154\n",
            "Minibatch iteration 1/3000: mean batch inertia: 0.000008, ewa inertia: 0.000008 \n",
            "Minibatch iteration 2/3000: mean batch inertia: 0.000006, ewa inertia: 0.000007 \n",
            "Minibatch iteration 3/3000: mean batch inertia: 0.000007, ewa inertia: 0.000007 \n",
            "Minibatch iteration 4/3000: mean batch inertia: 0.000006, ewa inertia: 0.000006 \n",
            "Minibatch iteration 5/3000: mean batch inertia: 0.000006, ewa inertia: 0.000006 \n",
            "Minibatch iteration 6/3000: mean batch inertia: 0.000006, ewa inertia: 0.000006 \n",
            "Minibatch iteration 7/3000: mean batch inertia: 0.000006, ewa inertia: 0.000006 \n",
            "Minibatch iteration 8/3000: mean batch inertia: 0.000004, ewa inertia: 0.000005 \n",
            "Minibatch iteration 9/3000: mean batch inertia: 0.000008, ewa inertia: 0.000007 \n",
            "[MiniBatchKMeans] Reassigning 500 cluster centers.\n",
            "Minibatch iteration 10/3000: mean batch inertia: 0.000008, ewa inertia: 0.000008 \n",
            "Minibatch iteration 11/3000: mean batch inertia: 0.043814, ewa inertia: 0.034460 \n",
            "Minibatch iteration 12/3000: mean batch inertia: 0.043213, ewa inertia: 0.041344 \n",
            "Minibatch iteration 13/3000: mean batch inertia: 0.034161, ewa inertia: 0.035695 \n",
            "Minibatch iteration 14/3000: mean batch inertia: 0.034243, ewa inertia: 0.034553 \n",
            "Minibatch iteration 15/3000: mean batch inertia: 0.021601, ewa inertia: 0.024366 \n",
            "[MiniBatchKMeans] Reassigning 500 cluster centers.\n",
            "Minibatch iteration 16/3000: mean batch inertia: 0.027078, ewa inertia: 0.026499 \n",
            "Minibatch iteration 17/3000: mean batch inertia: 0.038034, ewa inertia: 0.035571 \n",
            "Minibatch iteration 18/3000: mean batch inertia: 0.040674, ewa inertia: 0.039584 \n",
            "Minibatch iteration 19/3000: mean batch inertia: 0.032492, ewa inertia: 0.034006 \n",
            "[MiniBatchKMeans] Reassigning 500 cluster centers.\n",
            "Minibatch iteration 20/3000: mean batch inertia: 0.031105, ewa inertia: 0.031724 \n",
            "Minibatch iteration 21/3000: mean batch inertia: 0.045404, ewa inertia: 0.042483 \n",
            "Minibatch iteration 22/3000: mean batch inertia: 0.042158, ewa inertia: 0.042227 \n",
            "[MiniBatchKMeans] Reassigning 500 cluster centers.\n",
            "Minibatch iteration 23/3000: mean batch inertia: 0.032453, ewa inertia: 0.034540 \n",
            "Minibatch iteration 24/3000: mean batch inertia: 0.048658, ewa inertia: 0.045643 \n",
            "Minibatch iteration 25/3000: mean batch inertia: 0.048741, ewa inertia: 0.048079 \n",
            "[MiniBatchKMeans] Reassigning 500 cluster centers.\n",
            "Minibatch iteration 26/3000: mean batch inertia: 0.045541, ewa inertia: 0.046083 \n",
            "Minibatch iteration 27/3000: mean batch inertia: 0.045731, ewa inertia: 0.045806 \n",
            "Minibatch iteration 28/3000: mean batch inertia: 0.063129, ewa inertia: 0.059430 \n",
            "[MiniBatchKMeans] Reassigning 500 cluster centers.\n",
            "Minibatch iteration 29/3000: mean batch inertia: 0.038145, ewa inertia: 0.042690 \n",
            "Minibatch iteration 30/3000: mean batch inertia: 0.055713, ewa inertia: 0.052932 \n",
            "Minibatch iteration 31/3000: mean batch inertia: 0.056348, ewa inertia: 0.055618 \n",
            "[MiniBatchKMeans] Reassigning 500 cluster centers.\n",
            "Minibatch iteration 32/3000: mean batch inertia: 0.035900, ewa inertia: 0.040110 \n",
            "Minibatch iteration 33/3000: mean batch inertia: 0.060321, ewa inertia: 0.056006 \n",
            "Minibatch iteration 34/3000: mean batch inertia: 0.067563, ewa inertia: 0.065096 \n",
            "[MiniBatchKMeans] Reassigning 500 cluster centers.\n",
            "Minibatch iteration 35/3000: mean batch inertia: 0.059123, ewa inertia: 0.060398 \n",
            "Minibatch iteration 36/3000: mean batch inertia: 0.049793, ewa inertia: 0.052058 \n",
            "Minibatch iteration 37/3000: mean batch inertia: 0.053498, ewa inertia: 0.053190 \n",
            "Minibatch iteration 38/3000: mean batch inertia: 0.042244, ewa inertia: 0.044581 \n",
            "[MiniBatchKMeans] Reassigning 500 cluster centers.\n",
            "Minibatch iteration 39/3000: mean batch inertia: 0.055659, ewa inertia: 0.053293 \n",
            "Minibatch iteration 40/3000: mean batch inertia: 0.055474, ewa inertia: 0.055009 \n",
            "Minibatch iteration 41/3000: mean batch inertia: 0.051857, ewa inertia: 0.052530 \n",
            "Minibatch iteration 42/3000: mean batch inertia: 0.043604, ewa inertia: 0.045510 \n",
            "[MiniBatchKMeans] Reassigning 500 cluster centers.\n",
            "Minibatch iteration 43/3000: mean batch inertia: 0.054352, ewa inertia: 0.052464 \n",
            "Minibatch iteration 44/3000: mean batch inertia: 0.054126, ewa inertia: 0.053771 \n",
            "Minibatch iteration 45/3000: mean batch inertia: 0.042333, ewa inertia: 0.044775 \n",
            "Minibatch iteration 46/3000: mean batch inertia: 0.043556, ewa inertia: 0.043816 \n",
            "[MiniBatchKMeans] Reassigning 500 cluster centers.\n",
            "Minibatch iteration 47/3000: mean batch inertia: 0.038198, ewa inertia: 0.039398 \n",
            "Minibatch iteration 48/3000: mean batch inertia: 0.068018, ewa inertia: 0.061907 \n",
            "Minibatch iteration 49/3000: mean batch inertia: 0.067020, ewa inertia: 0.065928 \n",
            "Minibatch iteration 50/3000: mean batch inertia: 0.053130, ewa inertia: 0.055862 \n",
            "Minibatch iteration 51/3000: mean batch inertia: 0.054863, ewa inertia: 0.055076 \n",
            "[MiniBatchKMeans] Reassigning 500 cluster centers.\n",
            "Minibatch iteration 52/3000: mean batch inertia: 0.046428, ewa inertia: 0.048274 \n",
            "Minibatch iteration 53/3000: mean batch inertia: 0.067809, ewa inertia: 0.063638 \n",
            "Minibatch iteration 54/3000: mean batch inertia: 0.063540, ewa inertia: 0.063561 \n",
            "Minibatch iteration 55/3000: mean batch inertia: 0.065585, ewa inertia: 0.065153 \n",
            "Minibatch iteration 56/3000: mean batch inertia: 0.063611, ewa inertia: 0.063941 \n",
            "[MiniBatchKMeans] Reassigning 500 cluster centers.\n",
            "Minibatch iteration 57/3000: mean batch inertia: 0.047561, ewa inertia: 0.051059 \n",
            "Minibatch iteration 58/3000: mean batch inertia: 0.051521, ewa inertia: 0.051423 \n",
            "Minibatch iteration 59/3000: mean batch inertia: 0.051333, ewa inertia: 0.051352 \n",
            "Minibatch iteration 60/3000: mean batch inertia: 0.047101, ewa inertia: 0.048009 \n",
            "Minibatch iteration 61/3000: mean batch inertia: 0.042669, ewa inertia: 0.043809 \n",
            "[MiniBatchKMeans] Reassigning 500 cluster centers.\n",
            "Minibatch iteration 62/3000: mean batch inertia: 0.061872, ewa inertia: 0.058015 \n",
            "Minibatch iteration 63/3000: mean batch inertia: 0.052008, ewa inertia: 0.053291 \n",
            "Minibatch iteration 64/3000: mean batch inertia: 0.045943, ewa inertia: 0.047512 \n",
            "Minibatch iteration 65/3000: mean batch inertia: 0.058750, ewa inertia: 0.056350 \n",
            "Minibatch iteration 66/3000: mean batch inertia: 0.047281, ewa inertia: 0.049218 \n",
            "[MiniBatchKMeans] Reassigning 500 cluster centers.\n",
            "Minibatch iteration 67/3000: mean batch inertia: 0.051429, ewa inertia: 0.050957 \n",
            "Minibatch iteration 68/3000: mean batch inertia: 0.046961, ewa inertia: 0.047814 \n",
            "Minibatch iteration 69/3000: mean batch inertia: 0.044603, ewa inertia: 0.045288 \n",
            "Minibatch iteration 70/3000: mean batch inertia: 0.056034, ewa inertia: 0.053739 \n",
            "Minibatch iteration 71/3000: mean batch inertia: 0.043826, ewa inertia: 0.045943 \n",
            "[MiniBatchKMeans] Reassigning 500 cluster centers.\n",
            "Minibatch iteration 72/3000: mean batch inertia: 0.056266, ewa inertia: 0.054061 \n",
            "Minibatch iteration 73/3000: mean batch inertia: 0.071838, ewa inertia: 0.068043 \n",
            "Minibatch iteration 74/3000: mean batch inertia: 0.047242, ewa inertia: 0.051684 \n",
            "Minibatch iteration 75/3000: mean batch inertia: 0.071725, ewa inertia: 0.067445 \n",
            "Minibatch iteration 76/3000: mean batch inertia: 0.058153, ewa inertia: 0.060137 \n",
            "Minibatch iteration 77/3000: mean batch inertia: 0.043666, ewa inertia: 0.047183 \n",
            "[MiniBatchKMeans] Reassigning 500 cluster centers.\n",
            "Minibatch iteration 78/3000: mean batch inertia: 0.046513, ewa inertia: 0.046656 \n",
            "Minibatch iteration 79/3000: mean batch inertia: 0.050976, ewa inertia: 0.050054 \n",
            "Minibatch iteration 80/3000: mean batch inertia: 0.043494, ewa inertia: 0.044895 \n",
            "Minibatch iteration 81/3000: mean batch inertia: 0.057669, ewa inertia: 0.054941 \n",
            "Minibatch iteration 82/3000: mean batch inertia: 0.041643, ewa inertia: 0.044483 \n",
            "Minibatch iteration 83/3000: mean batch inertia: 0.058191, ewa inertia: 0.055264 \n",
            "[MiniBatchKMeans] Reassigning 500 cluster centers.\n",
            "Minibatch iteration 84/3000: mean batch inertia: 0.035736, ewa inertia: 0.039906 \n",
            "Minibatch iteration 85/3000: mean batch inertia: 0.046726, ewa inertia: 0.045270 \n",
            "Minibatch iteration 86/3000: mean batch inertia: 0.058385, ewa inertia: 0.055585 \n",
            "Minibatch iteration 87/3000: mean batch inertia: 0.063122, ewa inertia: 0.061512 \n",
            "Minibatch iteration 88/3000: mean batch inertia: 0.058190, ewa inertia: 0.058899 \n",
            "Minibatch iteration 89/3000: mean batch inertia: 0.055540, ewa inertia: 0.056258 \n",
            "Minibatch iteration 90/3000: mean batch inertia: 0.059260, ewa inertia: 0.058619 \n",
            "[MiniBatchKMeans] Reassigning 500 cluster centers.\n",
            "Minibatch iteration 91/3000: mean batch inertia: 0.050270, ewa inertia: 0.052053 \n",
            "Minibatch iteration 92/3000: mean batch inertia: 0.056342, ewa inertia: 0.055426 \n",
            "Minibatch iteration 93/3000: mean batch inertia: 0.057318, ewa inertia: 0.056914 \n",
            "Minibatch iteration 94/3000: mean batch inertia: 0.047241, ewa inertia: 0.049306 \n",
            "Minibatch iteration 95/3000: mean batch inertia: 0.037228, ewa inertia: 0.039807 \n",
            "Minibatch iteration 96/3000: mean batch inertia: 0.045226, ewa inertia: 0.044069 \n",
            "Minibatch iteration 97/3000: mean batch inertia: 0.050527, ewa inertia: 0.049148 \n",
            "[MiniBatchKMeans] Reassigning 500 cluster centers.\n",
            "Minibatch iteration 98/3000: mean batch inertia: 0.039367, ewa inertia: 0.041455 \n",
            "Minibatch iteration 99/3000: mean batch inertia: 0.054834, ewa inertia: 0.051977 \n",
            "Minibatch iteration 100/3000: mean batch inertia: 0.061286, ewa inertia: 0.059298 \n",
            "Minibatch iteration 101/3000: mean batch inertia: 0.061325, ewa inertia: 0.060892 \n",
            "Minibatch iteration 102/3000: mean batch inertia: 0.054181, ewa inertia: 0.055614 \n",
            "Minibatch iteration 103/3000: mean batch inertia: 0.057476, ewa inertia: 0.057078 \n",
            "Minibatch iteration 104/3000: mean batch inertia: 0.062748, ewa inertia: 0.061538 \n",
            "Minibatch iteration 105/3000: mean batch inertia: 0.049452, ewa inertia: 0.052033 \n",
            "[MiniBatchKMeans] Reassigning 500 cluster centers.\n",
            "Minibatch iteration 106/3000: mean batch inertia: 0.064581, ewa inertia: 0.061901 \n",
            "Minibatch iteration 107/3000: mean batch inertia: 0.046817, ewa inertia: 0.050038 \n",
            "Minibatch iteration 108/3000: mean batch inertia: 0.061926, ewa inertia: 0.059387 \n",
            "Minibatch iteration 109/3000: mean batch inertia: 0.062752, ewa inertia: 0.062034 \n",
            "Minibatch iteration 110/3000: mean batch inertia: 0.057423, ewa inertia: 0.058407 \n",
            "Minibatch iteration 111/3000: mean batch inertia: 0.045409, ewa inertia: 0.048184 \n",
            "Minibatch iteration 112/3000: mean batch inertia: 0.071211, ewa inertia: 0.066294 \n",
            "Minibatch iteration 113/3000: mean batch inertia: 0.055195, ewa inertia: 0.057565 \n",
            "[MiniBatchKMeans] Reassigning 500 cluster centers.\n",
            "Minibatch iteration 114/3000: mean batch inertia: 0.055899, ewa inertia: 0.056254 \n",
            "Minibatch iteration 115/3000: mean batch inertia: 0.059042, ewa inertia: 0.058447 \n",
            "Minibatch iteration 116/3000: mean batch inertia: 0.047102, ewa inertia: 0.049525 \n",
            "Minibatch iteration 117/3000: mean batch inertia: 0.056906, ewa inertia: 0.055330 \n",
            "Minibatch iteration 118/3000: mean batch inertia: 0.046301, ewa inertia: 0.048229 \n",
            "Minibatch iteration 119/3000: mean batch inertia: 0.047692, ewa inertia: 0.047807 \n",
            "Minibatch iteration 120/3000: mean batch inertia: 0.039441, ewa inertia: 0.041227 \n",
            "Minibatch iteration 121/3000: mean batch inertia: 0.046133, ewa inertia: 0.045085 \n",
            "Minibatch iteration 122/3000: mean batch inertia: 0.047883, ewa inertia: 0.047286 \n",
            "[MiniBatchKMeans] Reassigning 500 cluster centers.\n",
            "Minibatch iteration 123/3000: mean batch inertia: 0.038193, ewa inertia: 0.040134 \n",
            "Minibatch iteration 124/3000: mean batch inertia: 0.047167, ewa inertia: 0.045665 \n",
            "Minibatch iteration 125/3000: mean batch inertia: 0.056400, ewa inertia: 0.054108 \n",
            "Minibatch iteration 126/3000: mean batch inertia: 0.048267, ewa inertia: 0.049514 \n",
            "Minibatch iteration 127/3000: mean batch inertia: 0.046522, ewa inertia: 0.047161 \n",
            "Minibatch iteration 128/3000: mean batch inertia: 0.039547, ewa inertia: 0.041173 \n",
            "Minibatch iteration 129/3000: mean batch inertia: 0.053429, ewa inertia: 0.050812 \n",
            "Minibatch iteration 130/3000: mean batch inertia: 0.051066, ewa inertia: 0.051011 \n",
            "Minibatch iteration 131/3000: mean batch inertia: 0.051526, ewa inertia: 0.051416 \n",
            "[MiniBatchKMeans] Reassigning 500 cluster centers.\n",
            "Minibatch iteration 132/3000: mean batch inertia: 0.055088, ewa inertia: 0.054304 \n",
            "Minibatch iteration 133/3000: mean batch inertia: 0.056110, ewa inertia: 0.055724 \n",
            "Minibatch iteration 134/3000: mean batch inertia: 0.055622, ewa inertia: 0.055644 \n",
            "Minibatch iteration 135/3000: mean batch inertia: 0.048950, ewa inertia: 0.050379 \n",
            "Minibatch iteration 136/3000: mean batch inertia: 0.062213, ewa inertia: 0.059686 \n",
            "Minibatch iteration 137/3000: mean batch inertia: 0.040712, ewa inertia: 0.044763 \n",
            "Minibatch iteration 138/3000: mean batch inertia: 0.060726, ewa inertia: 0.057318 \n",
            "Minibatch iteration 139/3000: mean batch inertia: 0.061909, ewa inertia: 0.060928 \n",
            "Minibatch iteration 140/3000: mean batch inertia: 0.066101, ewa inertia: 0.064996 \n",
            "Minibatch iteration 141/3000: mean batch inertia: 0.051851, ewa inertia: 0.054657 \n",
            "[MiniBatchKMeans] Reassigning 500 cluster centers.\n",
            "Minibatch iteration 142/3000: mean batch inertia: 0.058913, ewa inertia: 0.058004 \n",
            "Minibatch iteration 143/3000: mean batch inertia: 0.057612, ewa inertia: 0.057696 \n",
            "Minibatch iteration 144/3000: mean batch inertia: 0.049498, ewa inertia: 0.051248 \n",
            "Minibatch iteration 145/3000: mean batch inertia: 0.050235, ewa inertia: 0.050452 \n",
            "Minibatch iteration 146/3000: mean batch inertia: 0.054032, ewa inertia: 0.053267 \n",
            "Minibatch iteration 147/3000: mean batch inertia: 0.052486, ewa inertia: 0.052653 \n",
            "Minibatch iteration 148/3000: mean batch inertia: 0.058843, ewa inertia: 0.057521 \n",
            "Minibatch iteration 149/3000: mean batch inertia: 0.049080, ewa inertia: 0.050883 \n",
            "Minibatch iteration 150/3000: mean batch inertia: 0.051027, ewa inertia: 0.050996 \n",
            "Minibatch iteration 151/3000: mean batch inertia: 0.049636, ewa inertia: 0.049926 \n",
            "Minibatch iteration 152/3000: mean batch inertia: 0.055502, ewa inertia: 0.054312 \n",
            "[MiniBatchKMeans] Reassigning 500 cluster centers.\n",
            "Minibatch iteration 153/3000: mean batch inertia: 0.058255, ewa inertia: 0.057413 \n",
            "Minibatch iteration 154/3000: mean batch inertia: 0.064653, ewa inertia: 0.063107 \n",
            "Minibatch iteration 155/3000: mean batch inertia: 0.052329, ewa inertia: 0.054630 \n",
            "Minibatch iteration 156/3000: mean batch inertia: 0.046927, ewa inertia: 0.048572 \n",
            "Minibatch iteration 157/3000: mean batch inertia: 0.051407, ewa inertia: 0.050802 \n",
            "Minibatch iteration 158/3000: mean batch inertia: 0.053627, ewa inertia: 0.053023 \n",
            "Minibatch iteration 159/3000: mean batch inertia: 0.047509, ewa inertia: 0.048687 \n",
            "Minibatch iteration 160/3000: mean batch inertia: 0.050912, ewa inertia: 0.050437 \n",
            "Minibatch iteration 161/3000: mean batch inertia: 0.053440, ewa inertia: 0.052799 \n",
            "Minibatch iteration 162/3000: mean batch inertia: 0.056189, ewa inertia: 0.055465 \n",
            "Minibatch iteration 163/3000: mean batch inertia: 0.059116, ewa inertia: 0.058337 \n",
            "[MiniBatchKMeans] Reassigning 500 cluster centers.\n",
            "Minibatch iteration 164/3000: mean batch inertia: 0.048396, ewa inertia: 0.050519 \n",
            "Minibatch iteration 165/3000: mean batch inertia: 0.063434, ewa inertia: 0.060676 \n",
            "Minibatch iteration 166/3000: mean batch inertia: 0.058634, ewa inertia: 0.059070 \n",
            "Minibatch iteration 167/3000: mean batch inertia: 0.061981, ewa inertia: 0.061359 \n",
            "Minibatch iteration 168/3000: mean batch inertia: 0.056496, ewa inertia: 0.057534 \n",
            "Minibatch iteration 169/3000: mean batch inertia: 0.040999, ewa inertia: 0.044530 \n",
            "Minibatch iteration 170/3000: mean batch inertia: 0.051290, ewa inertia: 0.049847 \n",
            "Minibatch iteration 171/3000: mean batch inertia: 0.056498, ewa inertia: 0.055078 \n",
            "Minibatch iteration 172/3000: mean batch inertia: 0.045056, ewa inertia: 0.047196 \n",
            "Minibatch iteration 173/3000: mean batch inertia: 0.040556, ewa inertia: 0.041974 \n",
            "Minibatch iteration 174/3000: mean batch inertia: 0.050685, ewa inertia: 0.048825 \n",
            "Minibatch iteration 175/3000: mean batch inertia: 0.054584, ewa inertia: 0.053354 \n",
            "[MiniBatchKMeans] Reassigning 500 cluster centers.\n",
            "Minibatch iteration 176/3000: mean batch inertia: 0.049674, ewa inertia: 0.050459 \n",
            "Minibatch iteration 177/3000: mean batch inertia: 0.047063, ewa inertia: 0.047788 \n",
            "Minibatch iteration 178/3000: mean batch inertia: 0.056288, ewa inertia: 0.054473 \n",
            "Minibatch iteration 179/3000: mean batch inertia: 0.050447, ewa inertia: 0.051307 \n",
            "Minibatch iteration 180/3000: mean batch inertia: 0.058232, ewa inertia: 0.056754 \n",
            "Minibatch iteration 181/3000: mean batch inertia: 0.059913, ewa inertia: 0.059239 \n",
            "Minibatch iteration 182/3000: mean batch inertia: 0.057313, ewa inertia: 0.057724 \n",
            "Minibatch iteration 183/3000: mean batch inertia: 0.052756, ewa inertia: 0.053817 \n",
            "Minibatch iteration 184/3000: mean batch inertia: 0.032594, ewa inertia: 0.037126 \n",
            "Minibatch iteration 185/3000: mean batch inertia: 0.040212, ewa inertia: 0.039553 \n",
            "Minibatch iteration 186/3000: mean batch inertia: 0.061794, ewa inertia: 0.057045 \n",
            "Minibatch iteration 187/3000: mean batch inertia: 0.053382, ewa inertia: 0.054164 \n",
            "[MiniBatchKMeans] Reassigning 500 cluster centers.\n",
            "Minibatch iteration 188/3000: mean batch inertia: 0.045590, ewa inertia: 0.047421 \n",
            "Minibatch iteration 189/3000: mean batch inertia: 0.043739, ewa inertia: 0.044525 \n",
            "Minibatch iteration 190/3000: mean batch inertia: 0.056282, ewa inertia: 0.053771 \n",
            "Minibatch iteration 191/3000: mean batch inertia: 0.051007, ewa inertia: 0.051597 \n",
            "Minibatch iteration 192/3000: mean batch inertia: 0.050762, ewa inertia: 0.050940 \n",
            "Minibatch iteration 193/3000: mean batch inertia: 0.048455, ewa inertia: 0.048986 \n",
            "Minibatch iteration 194/3000: mean batch inertia: 0.048726, ewa inertia: 0.048782 \n",
            "Minibatch iteration 195/3000: mean batch inertia: 0.054139, ewa inertia: 0.052995 \n",
            "Minibatch iteration 196/3000: mean batch inertia: 0.045572, ewa inertia: 0.047157 \n",
            "Minibatch iteration 197/3000: mean batch inertia: 0.047234, ewa inertia: 0.047217 \n",
            "Minibatch iteration 198/3000: mean batch inertia: 0.051676, ewa inertia: 0.050724 \n",
            "Minibatch iteration 199/3000: mean batch inertia: 0.050783, ewa inertia: 0.050770 \n",
            "Minibatch iteration 200/3000: mean batch inertia: 0.047690, ewa inertia: 0.048348 \n",
            "[MiniBatchKMeans] Reassigning 500 cluster centers.\n",
            "Minibatch iteration 201/3000: mean batch inertia: 0.052053, ewa inertia: 0.051262 \n",
            "Minibatch iteration 202/3000: mean batch inertia: 0.048621, ewa inertia: 0.049185 \n",
            "Minibatch iteration 203/3000: mean batch inertia: 0.053986, ewa inertia: 0.052961 \n",
            "Minibatch iteration 204/3000: mean batch inertia: 0.053561, ewa inertia: 0.053433 \n",
            "Minibatch iteration 205/3000: mean batch inertia: 0.052739, ewa inertia: 0.052887 \n",
            "Minibatch iteration 206/3000: mean batch inertia: 0.049601, ewa inertia: 0.050303 \n",
            "Minibatch iteration 207/3000: mean batch inertia: 0.048027, ewa inertia: 0.048513 \n",
            "Minibatch iteration 208/3000: mean batch inertia: 0.068787, ewa inertia: 0.064458 \n",
            "Converged (lack of improvement in inertia) at iteration 208/3000\n",
            "Computing label assignment and total inertia\n",
            "CPU times: user 13.3 s, sys: 7.74 s, total: 21.1 s\n",
            "Wall time: 10.9 s\n"
          ],
          "name": "stdout"
        }
      ]
    },
    {
      "cell_type": "code",
      "metadata": {
        "id": "IipFBNT1MdQO",
        "colab_type": "code",
        "colab": {
          "base_uri": "https://localhost:8080/",
          "height": 119
        },
        "outputId": "840fffd8-e033-4786-f96b-cf069a775308"
      },
      "source": [
        "show_metrics(X=X_svd, y=y, labels=labels_MBKMeans_svd)"
      ],
      "execution_count": 169,
      "outputs": [
        {
          "output_type": "stream",
          "text": [
            "Homogeneity: 0.654\n",
            "Completeness: 0.379\n",
            "V-measure: 0.480\n",
            "Adjusted Rand Index: -0.004\n",
            "Adjusted Mutual Information: 0.197\n",
            "Silhouette Coefficient: 0.599\n"
          ],
          "name": "stdout"
        }
      ]
    },
    {
      "cell_type": "code",
      "metadata": {
        "id": "dWRj6o_qMYS0",
        "colab_type": "code",
        "colab": {
          "base_uri": "https://localhost:8080/",
          "height": 1000
        },
        "outputId": "f52fb495-6998-485d-e796-ab331080e261"
      },
      "source": [
        "%%time\n",
        "labels_MBKMeans_nmf = clasterisation(X=X_nmf, cluster_model=cluster_MBKMeans)"
      ],
      "execution_count": 170,
      "outputs": [
        {
          "output_type": "stream",
          "text": [
            "Init 1/3 with method: k-means++\n",
            "Inertia for init 1/3: 0.000145\n",
            "Init 2/3 with method: k-means++\n",
            "Inertia for init 2/3: 0.000135\n",
            "Init 3/3 with method: k-means++\n",
            "Inertia for init 3/3: 0.000145\n",
            "Minibatch iteration 1/3000: mean batch inertia: 0.000000, ewa inertia: 0.000000 \n",
            "Minibatch iteration 2/3000: mean batch inertia: 0.000000, ewa inertia: 0.000000 \n",
            "Minibatch iteration 3/3000: mean batch inertia: 0.000000, ewa inertia: 0.000000 \n",
            "Minibatch iteration 4/3000: mean batch inertia: 0.000000, ewa inertia: 0.000000 \n",
            "Minibatch iteration 5/3000: mean batch inertia: 0.000000, ewa inertia: 0.000000 \n",
            "Minibatch iteration 6/3000: mean batch inertia: 0.000000, ewa inertia: 0.000000 \n",
            "Minibatch iteration 7/3000: mean batch inertia: 0.000000, ewa inertia: 0.000000 \n",
            "Minibatch iteration 8/3000: mean batch inertia: 0.000000, ewa inertia: 0.000000 \n",
            "Minibatch iteration 9/3000: mean batch inertia: 0.000000, ewa inertia: 0.000000 \n",
            "[MiniBatchKMeans] Reassigning 500 cluster centers.\n",
            "Minibatch iteration 10/3000: mean batch inertia: 0.000000, ewa inertia: 0.000000 \n",
            "Minibatch iteration 11/3000: mean batch inertia: 0.003072, ewa inertia: 0.002416 \n",
            "Minibatch iteration 12/3000: mean batch inertia: 0.003566, ewa inertia: 0.003321 \n",
            "Minibatch iteration 13/3000: mean batch inertia: 0.003426, ewa inertia: 0.003404 \n",
            "Minibatch iteration 14/3000: mean batch inertia: 0.002726, ewa inertia: 0.002871 \n",
            "Minibatch iteration 15/3000: mean batch inertia: 0.001925, ewa inertia: 0.002127 \n",
            "[MiniBatchKMeans] Reassigning 500 cluster centers.\n",
            "Minibatch iteration 16/3000: mean batch inertia: 0.002451, ewa inertia: 0.002382 \n",
            "Minibatch iteration 17/3000: mean batch inertia: 0.003129, ewa inertia: 0.002969 \n",
            "Minibatch iteration 18/3000: mean batch inertia: 0.004484, ewa inertia: 0.004160 \n",
            "Minibatch iteration 19/3000: mean batch inertia: 0.002739, ewa inertia: 0.003043 \n",
            "[MiniBatchKMeans] Reassigning 500 cluster centers.\n",
            "Minibatch iteration 20/3000: mean batch inertia: 0.002832, ewa inertia: 0.002877 \n",
            "Minibatch iteration 21/3000: mean batch inertia: 0.003245, ewa inertia: 0.003167 \n",
            "Minibatch iteration 22/3000: mean batch inertia: 0.004101, ewa inertia: 0.003902 \n",
            "[MiniBatchKMeans] Reassigning 500 cluster centers.\n",
            "Minibatch iteration 23/3000: mean batch inertia: 0.002379, ewa inertia: 0.002704 \n",
            "Minibatch iteration 24/3000: mean batch inertia: 0.003919, ewa inertia: 0.003660 \n",
            "Minibatch iteration 25/3000: mean batch inertia: 0.004484, ewa inertia: 0.004308 \n",
            "[MiniBatchKMeans] Reassigning 500 cluster centers.\n",
            "Minibatch iteration 26/3000: mean batch inertia: 0.003772, ewa inertia: 0.003887 \n",
            "Minibatch iteration 27/3000: mean batch inertia: 0.002836, ewa inertia: 0.003060 \n",
            "Minibatch iteration 28/3000: mean batch inertia: 0.005203, ewa inertia: 0.004745 \n",
            "[MiniBatchKMeans] Reassigning 500 cluster centers.\n",
            "Minibatch iteration 29/3000: mean batch inertia: 0.002926, ewa inertia: 0.003314 \n",
            "Minibatch iteration 30/3000: mean batch inertia: 0.004327, ewa inertia: 0.004110 \n",
            "Minibatch iteration 31/3000: mean batch inertia: 0.004192, ewa inertia: 0.004175 \n",
            "[MiniBatchKMeans] Reassigning 500 cluster centers.\n",
            "Minibatch iteration 32/3000: mean batch inertia: 0.003145, ewa inertia: 0.003365 \n",
            "Minibatch iteration 33/3000: mean batch inertia: 0.004491, ewa inertia: 0.004250 \n",
            "Minibatch iteration 34/3000: mean batch inertia: 0.004563, ewa inertia: 0.004496 \n",
            "[MiniBatchKMeans] Reassigning 500 cluster centers.\n",
            "Minibatch iteration 35/3000: mean batch inertia: 0.004407, ewa inertia: 0.004426 \n",
            "Minibatch iteration 36/3000: mean batch inertia: 0.004065, ewa inertia: 0.004143 \n",
            "Minibatch iteration 37/3000: mean batch inertia: 0.004569, ewa inertia: 0.004478 \n",
            "[MiniBatchKMeans] Reassigning 500 cluster centers.\n",
            "Minibatch iteration 38/3000: mean batch inertia: 0.003101, ewa inertia: 0.003395 \n",
            "Minibatch iteration 39/3000: mean batch inertia: 0.004354, ewa inertia: 0.004149 \n",
            "Minibatch iteration 40/3000: mean batch inertia: 0.004239, ewa inertia: 0.004219 \n",
            "[MiniBatchKMeans] Reassigning 500 cluster centers.\n",
            "Minibatch iteration 41/3000: mean batch inertia: 0.003533, ewa inertia: 0.003679 \n",
            "Minibatch iteration 42/3000: mean batch inertia: 0.005529, ewa inertia: 0.005134 \n",
            "Minibatch iteration 43/3000: mean batch inertia: 0.004448, ewa inertia: 0.004594 \n",
            "[MiniBatchKMeans] Reassigning 500 cluster centers.\n",
            "Minibatch iteration 44/3000: mean batch inertia: 0.004508, ewa inertia: 0.004526 \n",
            "Minibatch iteration 45/3000: mean batch inertia: 0.003741, ewa inertia: 0.003909 \n",
            "Minibatch iteration 46/3000: mean batch inertia: 0.003412, ewa inertia: 0.003518 \n",
            "[MiniBatchKMeans] Reassigning 500 cluster centers.\n",
            "Minibatch iteration 47/3000: mean batch inertia: 0.003549, ewa inertia: 0.003542 \n",
            "Minibatch iteration 48/3000: mean batch inertia: 0.005937, ewa inertia: 0.005426 \n",
            "Minibatch iteration 49/3000: mean batch inertia: 0.003305, ewa inertia: 0.003758 \n",
            "[MiniBatchKMeans] Reassigning 500 cluster centers.\n",
            "Minibatch iteration 50/3000: mean batch inertia: 0.003622, ewa inertia: 0.003651 \n",
            "Minibatch iteration 51/3000: mean batch inertia: 0.004204, ewa inertia: 0.004086 \n",
            "Minibatch iteration 52/3000: mean batch inertia: 0.003956, ewa inertia: 0.003984 \n",
            "Minibatch iteration 53/3000: mean batch inertia: 0.003733, ewa inertia: 0.003786 \n",
            "[MiniBatchKMeans] Reassigning 500 cluster centers.\n",
            "Minibatch iteration 54/3000: mean batch inertia: 0.005311, ewa inertia: 0.004986 \n",
            "Minibatch iteration 55/3000: mean batch inertia: 0.003863, ewa inertia: 0.004103 \n",
            "Minibatch iteration 56/3000: mean batch inertia: 0.004222, ewa inertia: 0.004196 \n",
            "Minibatch iteration 57/3000: mean batch inertia: 0.004154, ewa inertia: 0.004163 \n",
            "[MiniBatchKMeans] Reassigning 500 cluster centers.\n",
            "Minibatch iteration 58/3000: mean batch inertia: 0.003614, ewa inertia: 0.003731 \n",
            "Minibatch iteration 59/3000: mean batch inertia: 0.004365, ewa inertia: 0.004230 \n",
            "Minibatch iteration 60/3000: mean batch inertia: 0.004738, ewa inertia: 0.004630 \n",
            "Minibatch iteration 61/3000: mean batch inertia: 0.005541, ewa inertia: 0.005346 \n",
            "[MiniBatchKMeans] Reassigning 500 cluster centers.\n",
            "Minibatch iteration 62/3000: mean batch inertia: 0.005769, ewa inertia: 0.005679 \n",
            "Minibatch iteration 63/3000: mean batch inertia: 0.004559, ewa inertia: 0.004798 \n",
            "Minibatch iteration 64/3000: mean batch inertia: 0.004612, ewa inertia: 0.004652 \n",
            "Minibatch iteration 65/3000: mean batch inertia: 0.004334, ewa inertia: 0.004402 \n",
            "[MiniBatchKMeans] Reassigning 500 cluster centers.\n",
            "Minibatch iteration 66/3000: mean batch inertia: 0.004530, ewa inertia: 0.004503 \n",
            "Minibatch iteration 67/3000: mean batch inertia: 0.003370, ewa inertia: 0.003612 \n",
            "Minibatch iteration 68/3000: mean batch inertia: 0.003699, ewa inertia: 0.003681 \n",
            "Minibatch iteration 69/3000: mean batch inertia: 0.002316, ewa inertia: 0.002607 \n",
            "[MiniBatchKMeans] Reassigning 500 cluster centers.\n",
            "Minibatch iteration 70/3000: mean batch inertia: 0.003714, ewa inertia: 0.003478 \n",
            "Minibatch iteration 71/3000: mean batch inertia: 0.005548, ewa inertia: 0.005106 \n",
            "Minibatch iteration 72/3000: mean batch inertia: 0.003146, ewa inertia: 0.003565 \n",
            "Minibatch iteration 73/3000: mean batch inertia: 0.005375, ewa inertia: 0.004989 \n",
            "[MiniBatchKMeans] Reassigning 500 cluster centers.\n",
            "Minibatch iteration 74/3000: mean batch inertia: 0.003251, ewa inertia: 0.003622 \n",
            "Minibatch iteration 75/3000: mean batch inertia: 0.005206, ewa inertia: 0.004868 \n",
            "Minibatch iteration 76/3000: mean batch inertia: 0.004298, ewa inertia: 0.004420 \n",
            "Minibatch iteration 77/3000: mean batch inertia: 0.005230, ewa inertia: 0.005057 \n",
            "Minibatch iteration 78/3000: mean batch inertia: 0.003270, ewa inertia: 0.003652 \n",
            "[MiniBatchKMeans] Reassigning 500 cluster centers.\n",
            "Minibatch iteration 79/3000: mean batch inertia: 0.006740, ewa inertia: 0.006081 \n",
            "Minibatch iteration 80/3000: mean batch inertia: 0.004424, ewa inertia: 0.004778 \n",
            "Minibatch iteration 81/3000: mean batch inertia: 0.003878, ewa inertia: 0.004070 \n",
            "Minibatch iteration 82/3000: mean batch inertia: 0.003070, ewa inertia: 0.003283 \n",
            "Minibatch iteration 83/3000: mean batch inertia: 0.003696, ewa inertia: 0.003608 \n",
            "[MiniBatchKMeans] Reassigning 500 cluster centers.\n",
            "Minibatch iteration 84/3000: mean batch inertia: 0.003628, ewa inertia: 0.003624 \n",
            "Minibatch iteration 85/3000: mean batch inertia: 0.004605, ewa inertia: 0.004396 \n",
            "Minibatch iteration 86/3000: mean batch inertia: 0.004901, ewa inertia: 0.004793 \n",
            "Minibatch iteration 87/3000: mean batch inertia: 0.003464, ewa inertia: 0.003748 \n",
            "Minibatch iteration 88/3000: mean batch inertia: 0.003492, ewa inertia: 0.003547 \n",
            "[MiniBatchKMeans] Reassigning 500 cluster centers.\n",
            "Minibatch iteration 89/3000: mean batch inertia: 0.003341, ewa inertia: 0.003385 \n",
            "Minibatch iteration 90/3000: mean batch inertia: 0.004824, ewa inertia: 0.004517 \n",
            "Minibatch iteration 91/3000: mean batch inertia: 0.003799, ewa inertia: 0.003952 \n",
            "Minibatch iteration 92/3000: mean batch inertia: 0.003071, ewa inertia: 0.003259 \n",
            "Minibatch iteration 93/3000: mean batch inertia: 0.003202, ewa inertia: 0.003214 \n",
            "Minibatch iteration 94/3000: mean batch inertia: 0.003988, ewa inertia: 0.003823 \n",
            "[MiniBatchKMeans] Reassigning 500 cluster centers.\n",
            "Minibatch iteration 95/3000: mean batch inertia: 0.004181, ewa inertia: 0.004104 \n",
            "Minibatch iteration 96/3000: mean batch inertia: 0.003624, ewa inertia: 0.003727 \n",
            "Minibatch iteration 97/3000: mean batch inertia: 0.003965, ewa inertia: 0.003915 \n",
            "Minibatch iteration 98/3000: mean batch inertia: 0.003904, ewa inertia: 0.003906 \n",
            "Minibatch iteration 99/3000: mean batch inertia: 0.004576, ewa inertia: 0.004433 \n",
            "Minibatch iteration 100/3000: mean batch inertia: 0.004476, ewa inertia: 0.004467 \n",
            "[MiniBatchKMeans] Reassigning 500 cluster centers.\n",
            "Minibatch iteration 101/3000: mean batch inertia: 0.004678, ewa inertia: 0.004633 \n",
            "Minibatch iteration 102/3000: mean batch inertia: 0.003492, ewa inertia: 0.003736 \n",
            "Minibatch iteration 103/3000: mean batch inertia: 0.004808, ewa inertia: 0.004579 \n",
            "Minibatch iteration 104/3000: mean batch inertia: 0.003931, ewa inertia: 0.004069 \n",
            "Minibatch iteration 105/3000: mean batch inertia: 0.004594, ewa inertia: 0.004482 \n",
            "Minibatch iteration 106/3000: mean batch inertia: 0.004803, ewa inertia: 0.004735 \n",
            "[MiniBatchKMeans] Reassigning 500 cluster centers.\n",
            "Minibatch iteration 107/3000: mean batch inertia: 0.003943, ewa inertia: 0.004112 \n",
            "Minibatch iteration 108/3000: mean batch inertia: 0.005139, ewa inertia: 0.004920 \n",
            "Minibatch iteration 109/3000: mean batch inertia: 0.005126, ewa inertia: 0.005082 \n",
            "Minibatch iteration 110/3000: mean batch inertia: 0.003788, ewa inertia: 0.004064 \n",
            "Minibatch iteration 111/3000: mean batch inertia: 0.004969, ewa inertia: 0.004776 \n",
            "Minibatch iteration 112/3000: mean batch inertia: 0.004289, ewa inertia: 0.004393 \n",
            "Minibatch iteration 113/3000: mean batch inertia: 0.004668, ewa inertia: 0.004610 \n",
            "[MiniBatchKMeans] Reassigning 500 cluster centers.\n",
            "Minibatch iteration 114/3000: mean batch inertia: 0.005001, ewa inertia: 0.004918 \n",
            "Minibatch iteration 115/3000: mean batch inertia: 0.004310, ewa inertia: 0.004440 \n",
            "Minibatch iteration 116/3000: mean batch inertia: 0.003398, ewa inertia: 0.003621 \n",
            "Minibatch iteration 117/3000: mean batch inertia: 0.003795, ewa inertia: 0.003757 \n",
            "Minibatch iteration 118/3000: mean batch inertia: 0.004672, ewa inertia: 0.004477 \n",
            "Minibatch iteration 119/3000: mean batch inertia: 0.003241, ewa inertia: 0.003505 \n",
            "Minibatch iteration 120/3000: mean batch inertia: 0.003453, ewa inertia: 0.003464 \n",
            "[MiniBatchKMeans] Reassigning 500 cluster centers.\n",
            "Minibatch iteration 121/3000: mean batch inertia: 0.004548, ewa inertia: 0.004316 \n",
            "Minibatch iteration 122/3000: mean batch inertia: 0.004861, ewa inertia: 0.004744 \n",
            "Minibatch iteration 123/3000: mean batch inertia: 0.004156, ewa inertia: 0.004281 \n",
            "Minibatch iteration 124/3000: mean batch inertia: 0.003688, ewa inertia: 0.003815 \n",
            "Minibatch iteration 125/3000: mean batch inertia: 0.003920, ewa inertia: 0.003898 \n",
            "Minibatch iteration 126/3000: mean batch inertia: 0.004526, ewa inertia: 0.004392 \n",
            "Minibatch iteration 127/3000: mean batch inertia: 0.004615, ewa inertia: 0.004567 \n",
            "[MiniBatchKMeans] Reassigning 500 cluster centers.\n",
            "Minibatch iteration 128/3000: mean batch inertia: 0.005442, ewa inertia: 0.005256 \n",
            "Minibatch iteration 129/3000: mean batch inertia: 0.003407, ewa inertia: 0.003801 \n",
            "Minibatch iteration 130/3000: mean batch inertia: 0.005370, ewa inertia: 0.005035 \n",
            "Minibatch iteration 131/3000: mean batch inertia: 0.004177, ewa inertia: 0.004360 \n",
            "Minibatch iteration 132/3000: mean batch inertia: 0.005297, ewa inertia: 0.005097 \n",
            "Minibatch iteration 133/3000: mean batch inertia: 0.003813, ewa inertia: 0.004087 \n",
            "Minibatch iteration 134/3000: mean batch inertia: 0.004590, ewa inertia: 0.004483 \n",
            "[MiniBatchKMeans] Reassigning 500 cluster centers.\n",
            "Minibatch iteration 135/3000: mean batch inertia: 0.004588, ewa inertia: 0.004565 \n",
            "Minibatch iteration 136/3000: mean batch inertia: 0.005334, ewa inertia: 0.005170 \n",
            "Minibatch iteration 137/3000: mean batch inertia: 0.003578, ewa inertia: 0.003918 \n",
            "Minibatch iteration 138/3000: mean batch inertia: 0.004661, ewa inertia: 0.004502 \n",
            "Minibatch iteration 139/3000: mean batch inertia: 0.003120, ewa inertia: 0.003415 \n",
            "Minibatch iteration 140/3000: mean batch inertia: 0.004131, ewa inertia: 0.003978 \n",
            "Minibatch iteration 141/3000: mean batch inertia: 0.004689, ewa inertia: 0.004537 \n",
            "Minibatch iteration 142/3000: mean batch inertia: 0.004084, ewa inertia: 0.004181 \n",
            "[MiniBatchKMeans] Reassigning 500 cluster centers.\n",
            "Minibatch iteration 143/3000: mean batch inertia: 0.003932, ewa inertia: 0.003985 \n",
            "Minibatch iteration 144/3000: mean batch inertia: 0.004830, ewa inertia: 0.004649 \n",
            "Minibatch iteration 145/3000: mean batch inertia: 0.004506, ewa inertia: 0.004536 \n",
            "Minibatch iteration 146/3000: mean batch inertia: 0.004182, ewa inertia: 0.004258 \n",
            "Minibatch iteration 147/3000: mean batch inertia: 0.003497, ewa inertia: 0.003659 \n",
            "Minibatch iteration 148/3000: mean batch inertia: 0.004120, ewa inertia: 0.004021 \n",
            "Minibatch iteration 149/3000: mean batch inertia: 0.004947, ewa inertia: 0.004749 \n",
            "Minibatch iteration 150/3000: mean batch inertia: 0.003884, ewa inertia: 0.004069 \n",
            "[MiniBatchKMeans] Reassigning 500 cluster centers.\n",
            "Minibatch iteration 151/3000: mean batch inertia: 0.004712, ewa inertia: 0.004575 \n",
            "Minibatch iteration 152/3000: mean batch inertia: 0.005137, ewa inertia: 0.005017 \n",
            "Minibatch iteration 153/3000: mean batch inertia: 0.004247, ewa inertia: 0.004411 \n",
            "Minibatch iteration 154/3000: mean batch inertia: 0.004142, ewa inertia: 0.004200 \n",
            "Minibatch iteration 155/3000: mean batch inertia: 0.004801, ewa inertia: 0.004673 \n",
            "Minibatch iteration 156/3000: mean batch inertia: 0.005122, ewa inertia: 0.005026 \n",
            "Minibatch iteration 157/3000: mean batch inertia: 0.004380, ewa inertia: 0.004518 \n",
            "Minibatch iteration 158/3000: mean batch inertia: 0.005002, ewa inertia: 0.004899 \n",
            "Minibatch iteration 159/3000: mean batch inertia: 0.004496, ewa inertia: 0.004582 \n",
            "[MiniBatchKMeans] Reassigning 500 cluster centers.\n",
            "Minibatch iteration 160/3000: mean batch inertia: 0.004146, ewa inertia: 0.004239 \n",
            "Minibatch iteration 161/3000: mean batch inertia: 0.004899, ewa inertia: 0.004758 \n",
            "Minibatch iteration 162/3000: mean batch inertia: 0.004900, ewa inertia: 0.004869 \n",
            "Minibatch iteration 163/3000: mean batch inertia: 0.005088, ewa inertia: 0.005042 \n",
            "Minibatch iteration 164/3000: mean batch inertia: 0.005122, ewa inertia: 0.005105 \n",
            "Minibatch iteration 165/3000: mean batch inertia: 0.002567, ewa inertia: 0.003109 \n",
            "Minibatch iteration 166/3000: mean batch inertia: 0.003934, ewa inertia: 0.003758 \n",
            "Minibatch iteration 167/3000: mean batch inertia: 0.003854, ewa inertia: 0.003833 \n",
            "Minibatch iteration 168/3000: mean batch inertia: 0.003276, ewa inertia: 0.003395 \n",
            "[MiniBatchKMeans] Reassigning 500 cluster centers.\n",
            "Minibatch iteration 169/3000: mean batch inertia: 0.003834, ewa inertia: 0.003740 \n",
            "Minibatch iteration 170/3000: mean batch inertia: 0.005684, ewa inertia: 0.005269 \n",
            "Minibatch iteration 171/3000: mean batch inertia: 0.004442, ewa inertia: 0.004618 \n",
            "Minibatch iteration 172/3000: mean batch inertia: 0.006342, ewa inertia: 0.005974 \n",
            "Minibatch iteration 173/3000: mean batch inertia: 0.003730, ewa inertia: 0.004209 \n",
            "Minibatch iteration 174/3000: mean batch inertia: 0.004181, ewa inertia: 0.004187 \n",
            "Minibatch iteration 175/3000: mean batch inertia: 0.004936, ewa inertia: 0.004776 \n",
            "Minibatch iteration 176/3000: mean batch inertia: 0.004913, ewa inertia: 0.004884 \n",
            "Minibatch iteration 177/3000: mean batch inertia: 0.004881, ewa inertia: 0.004881 \n",
            "Minibatch iteration 178/3000: mean batch inertia: 0.004720, ewa inertia: 0.004754 \n",
            "[MiniBatchKMeans] Reassigning 500 cluster centers.\n",
            "Minibatch iteration 179/3000: mean batch inertia: 0.004723, ewa inertia: 0.004730 \n",
            "Minibatch iteration 180/3000: mean batch inertia: 0.003811, ewa inertia: 0.004008 \n",
            "Minibatch iteration 181/3000: mean batch inertia: 0.004534, ewa inertia: 0.004421 \n",
            "Minibatch iteration 182/3000: mean batch inertia: 0.004079, ewa inertia: 0.004152 \n",
            "Minibatch iteration 183/3000: mean batch inertia: 0.004263, ewa inertia: 0.004239 \n",
            "Minibatch iteration 184/3000: mean batch inertia: 0.003339, ewa inertia: 0.003531 \n",
            "Minibatch iteration 185/3000: mean batch inertia: 0.003099, ewa inertia: 0.003192 \n",
            "Minibatch iteration 186/3000: mean batch inertia: 0.004723, ewa inertia: 0.004396 \n",
            "Minibatch iteration 187/3000: mean batch inertia: 0.004174, ewa inertia: 0.004221 \n",
            "Minibatch iteration 188/3000: mean batch inertia: 0.004127, ewa inertia: 0.004147 \n",
            "Minibatch iteration 189/3000: mean batch inertia: 0.004618, ewa inertia: 0.004517 \n",
            "[MiniBatchKMeans] Reassigning 500 cluster centers.\n",
            "Minibatch iteration 190/3000: mean batch inertia: 0.004633, ewa inertia: 0.004608 \n",
            "Minibatch iteration 191/3000: mean batch inertia: 0.003507, ewa inertia: 0.003742 \n",
            "Minibatch iteration 192/3000: mean batch inertia: 0.003594, ewa inertia: 0.003626 \n",
            "Minibatch iteration 193/3000: mean batch inertia: 0.005073, ewa inertia: 0.004764 \n",
            "Minibatch iteration 194/3000: mean batch inertia: 0.004296, ewa inertia: 0.004396 \n",
            "Minibatch iteration 195/3000: mean batch inertia: 0.004075, ewa inertia: 0.004144 \n",
            "Minibatch iteration 196/3000: mean batch inertia: 0.004056, ewa inertia: 0.004075 \n",
            "Minibatch iteration 197/3000: mean batch inertia: 0.003989, ewa inertia: 0.004008 \n",
            "Minibatch iteration 198/3000: mean batch inertia: 0.005095, ewa inertia: 0.004863 \n",
            "Minibatch iteration 199/3000: mean batch inertia: 0.004010, ewa inertia: 0.004192 \n",
            "Minibatch iteration 200/3000: mean batch inertia: 0.004764, ewa inertia: 0.004642 \n",
            "[MiniBatchKMeans] Reassigning 500 cluster centers.\n",
            "Minibatch iteration 201/3000: mean batch inertia: 0.004182, ewa inertia: 0.004280 \n",
            "Minibatch iteration 202/3000: mean batch inertia: 0.004832, ewa inertia: 0.004714 \n",
            "Converged (lack of improvement in inertia) at iteration 202/3000\n",
            "Computing label assignment and total inertia\n",
            "CPU times: user 13 s, sys: 7.94 s, total: 20.9 s\n",
            "Wall time: 10.8 s\n"
          ],
          "name": "stdout"
        }
      ]
    },
    {
      "cell_type": "code",
      "metadata": {
        "id": "fNTVNG74MeDO",
        "colab_type": "code",
        "colab": {
          "base_uri": "https://localhost:8080/",
          "height": 119
        },
        "outputId": "96bcf8f4-34d7-4d69-90b0-8fa3b9a85993"
      },
      "source": [
        "show_metrics(X=X_nmf, y=y, labels=labels_KMeans_nmf)"
      ],
      "execution_count": 171,
      "outputs": [
        {
          "output_type": "stream",
          "text": [
            "Homogeneity: 0.295\n",
            "Completeness: 0.391\n",
            "V-measure: 0.336\n",
            "Adjusted Rand Index: -0.006\n",
            "Adjusted Mutual Information: 0.259\n",
            "Silhouette Coefficient: 0.696\n"
          ],
          "name": "stdout"
        }
      ]
    },
    {
      "cell_type": "markdown",
      "metadata": {
        "id": "FnCp9j1UOFhQ",
        "colab_type": "text"
      },
      "source": [
        "C MiniBatchKMeans по Homogeneity побеждает SVD, но по силуэтам – NMF. Учитывая, что отрыв по силуэтам у разложений небольшой, полным победителем в этом раунде назову SVD.\n",
        "\n",
        "Итак, в 2 из 3 алгоритмов победил SVD."
      ]
    },
    {
      "cell_type": "markdown",
      "metadata": {
        "id": "IPJVdnIPPSzK",
        "colab_type": "text"
      },
      "source": [
        "## Задание 3.\n",
        "\n",
        "Чтобы выявить выбросы, я решила обратиться к готовым алгоритмам из sklearn – EllipticEnvelope и OneClassSVM, про которые прочитала в [этой статье](https://dyakonov.org/2017/04/19/поиск-аномалий-anomaly-detection/). Правда, не могу сказать, что то, что я получила, действительно похоже на выбросы. Возможно, дело в том, что данные и так разнообразные, поэтому выявить настоящие выбросы проблематично. Во всяком случае интересно, что у обоих алгоритмов есть пересечения по аномальности, но не везде, и OneClassSVM разметил, как выбросы, больше данных, чем EllipticEnvelope. Я также попробовала IsolationForest, но он совсем не справился со своей задачей (не нашел никаких выбросов), поэтому его тут нет."
      ]
    },
    {
      "cell_type": "code",
      "metadata": {
        "id": "W0zRKvQykjK5",
        "colab_type": "code",
        "colab": {}
      },
      "source": [
        "X_tfidf = tfidf.fit_transform(sample['title'])"
      ],
      "execution_count": 0,
      "outputs": []
    },
    {
      "cell_type": "code",
      "metadata": {
        "id": "CZKd7in8ltJ5",
        "colab_type": "code",
        "colab": {}
      },
      "source": [
        "ee = EllipticEnvelope()\n",
        "sample['anomaly'] = ee.fit_predict(X_tfidf.toarray())"
      ],
      "execution_count": 0,
      "outputs": []
    },
    {
      "cell_type": "code",
      "metadata": {
        "id": "J0BXs1sYl7yR",
        "colab_type": "code",
        "colab": {
          "base_uri": "https://localhost:8080/",
          "height": 669
        },
        "outputId": "78db2bde-fb27-4492-d98c-5469f51d8585"
      },
      "source": [
        "sample[sample.anomaly==-1].sample(20)"
      ],
      "execution_count": 89,
      "outputs": [
        {
          "output_type": "execute_result",
          "data": {
            "text/html": [
              "<div>\n",
              "<style scoped>\n",
              "    .dataframe tbody tr th:only-of-type {\n",
              "        vertical-align: middle;\n",
              "    }\n",
              "\n",
              "    .dataframe tbody tr th {\n",
              "        vertical-align: top;\n",
              "    }\n",
              "\n",
              "    .dataframe thead th {\n",
              "        text-align: right;\n",
              "    }\n",
              "</style>\n",
              "<table border=\"1\" class=\"dataframe\">\n",
              "  <thead>\n",
              "    <tr style=\"text-align: right;\">\n",
              "      <th></th>\n",
              "      <th>category_name</th>\n",
              "      <th>title</th>\n",
              "      <th>anomaly</th>\n",
              "      <th>anomaly_svm</th>\n",
              "    </tr>\n",
              "  </thead>\n",
              "  <tbody>\n",
              "    <tr>\n",
              "      <th>206583</th>\n",
              "      <td>Товары для детей и игрушки</td>\n",
              "      <td>Игровой туннель Дракоша</td>\n",
              "      <td>-1</td>\n",
              "      <td>1</td>\n",
              "    </tr>\n",
              "    <tr>\n",
              "      <th>53459</th>\n",
              "      <td>Детская одежда и обувь</td>\n",
              "      <td>Ботиночки</td>\n",
              "      <td>-1</td>\n",
              "      <td>1</td>\n",
              "    </tr>\n",
              "    <tr>\n",
              "      <th>60634</th>\n",
              "      <td>Одежда, обувь, аксессуары</td>\n",
              "      <td>Брюки и джинсы (Германия) art.12apr/44</td>\n",
              "      <td>-1</td>\n",
              "      <td>-1</td>\n",
              "    </tr>\n",
              "    <tr>\n",
              "      <th>180184</th>\n",
              "      <td>Детская одежда и обувь</td>\n",
              "      <td>Костюмчик демисезонний</td>\n",
              "      <td>-1</td>\n",
              "      <td>-1</td>\n",
              "    </tr>\n",
              "    <tr>\n",
              "      <th>229488</th>\n",
              "      <td>Одежда, обувь, аксессуары</td>\n",
              "      <td>Зимние оранжевые ботинки</td>\n",
              "      <td>-1</td>\n",
              "      <td>-1</td>\n",
              "    </tr>\n",
              "    <tr>\n",
              "      <th>192012</th>\n",
              "      <td>Дома, дачи, коттеджи</td>\n",
              "      <td>Дом 45 м² на участке 7 сот.</td>\n",
              "      <td>-1</td>\n",
              "      <td>-1</td>\n",
              "    </tr>\n",
              "    <tr>\n",
              "      <th>100946</th>\n",
              "      <td>Автомобили</td>\n",
              "      <td>ГАЗ ГАЗель 3302, 1997</td>\n",
              "      <td>-1</td>\n",
              "      <td>-1</td>\n",
              "    </tr>\n",
              "    <tr>\n",
              "      <th>19083</th>\n",
              "      <td>Одежда, обувь, аксессуары</td>\n",
              "      <td>Летняя обувь</td>\n",
              "      <td>-1</td>\n",
              "      <td>1</td>\n",
              "    </tr>\n",
              "    <tr>\n",
              "      <th>35437</th>\n",
              "      <td>Бытовая техника</td>\n",
              "      <td>Холодильник</td>\n",
              "      <td>-1</td>\n",
              "      <td>-1</td>\n",
              "    </tr>\n",
              "    <tr>\n",
              "      <th>184213</th>\n",
              "      <td>Аудио и видео</td>\n",
              "      <td>Panasonic NV FS 100</td>\n",
              "      <td>-1</td>\n",
              "      <td>1</td>\n",
              "    </tr>\n",
              "    <tr>\n",
              "      <th>235872</th>\n",
              "      <td>Детская одежда и обувь</td>\n",
              "      <td>Куртка детская</td>\n",
              "      <td>-1</td>\n",
              "      <td>-1</td>\n",
              "    </tr>\n",
              "    <tr>\n",
              "      <th>55923</th>\n",
              "      <td>Дома, дачи, коттеджи</td>\n",
              "      <td>Дом 53.4 м² на участке 15 сот.</td>\n",
              "      <td>-1</td>\n",
              "      <td>-1</td>\n",
              "    </tr>\n",
              "    <tr>\n",
              "      <th>173925</th>\n",
              "      <td>Одежда, обувь, аксессуары</td>\n",
              "      <td>Джинсовая куртка с кружевом из льна. Эксклюзив</td>\n",
              "      <td>-1</td>\n",
              "      <td>-1</td>\n",
              "    </tr>\n",
              "    <tr>\n",
              "      <th>91104</th>\n",
              "      <td>Детская одежда и обувь</td>\n",
              "      <td>Новый весна</td>\n",
              "      <td>-1</td>\n",
              "      <td>-1</td>\n",
              "    </tr>\n",
              "    <tr>\n",
              "      <th>170906</th>\n",
              "      <td>Детская одежда и обувь</td>\n",
              "      <td>Платье новое</td>\n",
              "      <td>-1</td>\n",
              "      <td>-1</td>\n",
              "    </tr>\n",
              "    <tr>\n",
              "      <th>132517</th>\n",
              "      <td>Детская одежда и обувь</td>\n",
              "      <td>Куртка для девочки</td>\n",
              "      <td>-1</td>\n",
              "      <td>-1</td>\n",
              "    </tr>\n",
              "    <tr>\n",
              "      <th>169335</th>\n",
              "      <td>Одежда, обувь, аксессуары</td>\n",
              "      <td>Новое пальто</td>\n",
              "      <td>-1</td>\n",
              "      <td>-1</td>\n",
              "    </tr>\n",
              "    <tr>\n",
              "      <th>248016</th>\n",
              "      <td>Детская одежда и обувь</td>\n",
              "      <td>Куртка подростковая</td>\n",
              "      <td>-1</td>\n",
              "      <td>1</td>\n",
              "    </tr>\n",
              "    <tr>\n",
              "      <th>78549</th>\n",
              "      <td>Одежда, обувь, аксессуары</td>\n",
              "      <td>Ботинки высокие.Антистатик.Электра</td>\n",
              "      <td>-1</td>\n",
              "      <td>1</td>\n",
              "    </tr>\n",
              "    <tr>\n",
              "      <th>158218</th>\n",
              "      <td>Ноутбуки</td>\n",
              "      <td>Lenovo g555</td>\n",
              "      <td>-1</td>\n",
              "      <td>1</td>\n",
              "    </tr>\n",
              "  </tbody>\n",
              "</table>\n",
              "</div>"
            ],
            "text/plain": [
              "                     category_name  ... anomaly_svm\n",
              "206583  Товары для детей и игрушки  ...           1\n",
              "53459       Детская одежда и обувь  ...           1\n",
              "60634    Одежда, обувь, аксессуары  ...          -1\n",
              "180184      Детская одежда и обувь  ...          -1\n",
              "229488   Одежда, обувь, аксессуары  ...          -1\n",
              "192012        Дома, дачи, коттеджи  ...          -1\n",
              "100946                  Автомобили  ...          -1\n",
              "19083    Одежда, обувь, аксессуары  ...           1\n",
              "35437              Бытовая техника  ...          -1\n",
              "184213               Аудио и видео  ...           1\n",
              "235872      Детская одежда и обувь  ...          -1\n",
              "55923         Дома, дачи, коттеджи  ...          -1\n",
              "173925   Одежда, обувь, аксессуары  ...          -1\n",
              "91104       Детская одежда и обувь  ...          -1\n",
              "170906      Детская одежда и обувь  ...          -1\n",
              "132517      Детская одежда и обувь  ...          -1\n",
              "169335   Одежда, обувь, аксессуары  ...          -1\n",
              "248016      Детская одежда и обувь  ...           1\n",
              "78549    Одежда, обувь, аксессуары  ...           1\n",
              "158218                    Ноутбуки  ...           1\n",
              "\n",
              "[20 rows x 4 columns]"
            ]
          },
          "metadata": {
            "tags": []
          },
          "execution_count": 89
        }
      ]
    },
    {
      "cell_type": "code",
      "metadata": {
        "id": "3xnIMHiuafrS",
        "colab_type": "code",
        "colab": {
          "base_uri": "https://localhost:8080/",
          "height": 510
        },
        "outputId": "a4729333-2fcf-4a0f-a242-613d6a1a83a7"
      },
      "source": [
        "sample[sample.anomaly==-1].category_name.value_counts()"
      ],
      "execution_count": 87,
      "outputs": [
        {
          "output_type": "execute_result",
          "data": {
            "text/plain": [
              "Детская одежда и обувь         64\n",
              "Одежда, обувь, аксессуары      58\n",
              "Дома, дачи, коттеджи           41\n",
              "Предложение услуг              16\n",
              "Квартиры                       14\n",
              "Автомобили                      8\n",
              "Ремонт и строительство          7\n",
              "Товары для детей и игрушки      7\n",
              "Бытовая техника                 6\n",
              "Товары для компьютера           5\n",
              "Телефоны                        4\n",
              "Гаражи и машиноместа            3\n",
              "Мебель и интерьер               2\n",
              "Спорт и отдых                   2\n",
              "Красота и здоровье              2\n",
              "Ноутбуки                        2\n",
              "Велосипеды                      2\n",
              "Игры, приставки и программы     2\n",
              "Охота и рыбалка                 1\n",
              "Комнаты                         1\n",
              "Оргтехника и расходники         1\n",
              "Книги и журналы                 1\n",
              "Коллекционирование              1\n",
              "Мотоциклы и мототехника         1\n",
              "Фототехника                     1\n",
              "Аудио и видео                   1\n",
              "Коммерческая недвижимость       1\n",
              "Музыкальные инструменты         1\n",
              "Name: category_name, dtype: int64"
            ]
          },
          "metadata": {
            "tags": []
          },
          "execution_count": 87
        }
      ]
    },
    {
      "cell_type": "code",
      "metadata": {
        "id": "2P_9xrjldQmo",
        "colab_type": "code",
        "colab": {
          "base_uri": "https://localhost:8080/",
          "height": 34
        },
        "outputId": "ae222c17-ccd8-49d7-e76c-9dfc5520fbd8"
      },
      "source": [
        "len(sample[sample.anomaly==-1])"
      ],
      "execution_count": 88,
      "outputs": [
        {
          "output_type": "execute_result",
          "data": {
            "text/plain": [
              "255"
            ]
          },
          "metadata": {
            "tags": []
          },
          "execution_count": 88
        }
      ]
    },
    {
      "cell_type": "code",
      "metadata": {
        "id": "Ox1Y6rvjccYC",
        "colab_type": "code",
        "colab": {}
      },
      "source": [
        "svm = OneClassSVM()\n",
        "sample['anomaly_svm'] = svm.fit_predict(X_tfidf)"
      ],
      "execution_count": 0,
      "outputs": []
    },
    {
      "cell_type": "code",
      "metadata": {
        "id": "oTUplrOycsL2",
        "colab_type": "code",
        "colab": {
          "base_uri": "https://localhost:8080/",
          "height": 669
        },
        "outputId": "5875bbcf-d4d7-494a-b7aa-515daca95cb7"
      },
      "source": [
        "sample[sample.anomaly_svm==-1].sample(20)"
      ],
      "execution_count": 91,
      "outputs": [
        {
          "output_type": "execute_result",
          "data": {
            "text/html": [
              "<div>\n",
              "<style scoped>\n",
              "    .dataframe tbody tr th:only-of-type {\n",
              "        vertical-align: middle;\n",
              "    }\n",
              "\n",
              "    .dataframe tbody tr th {\n",
              "        vertical-align: top;\n",
              "    }\n",
              "\n",
              "    .dataframe thead th {\n",
              "        text-align: right;\n",
              "    }\n",
              "</style>\n",
              "<table border=\"1\" class=\"dataframe\">\n",
              "  <thead>\n",
              "    <tr style=\"text-align: right;\">\n",
              "      <th></th>\n",
              "      <th>category_name</th>\n",
              "      <th>title</th>\n",
              "      <th>anomaly</th>\n",
              "      <th>anomaly_svm</th>\n",
              "    </tr>\n",
              "  </thead>\n",
              "  <tbody>\n",
              "    <tr>\n",
              "      <th>160802</th>\n",
              "      <td>Автомобили</td>\n",
              "      <td>Ford Focus, 2006</td>\n",
              "      <td>1</td>\n",
              "      <td>-1</td>\n",
              "    </tr>\n",
              "    <tr>\n",
              "      <th>71356</th>\n",
              "      <td>Детская одежда и обувь</td>\n",
              "      <td>Кепка розовая</td>\n",
              "      <td>1</td>\n",
              "      <td>-1</td>\n",
              "    </tr>\n",
              "    <tr>\n",
              "      <th>153398</th>\n",
              "      <td>Телефоны</td>\n",
              "      <td>Смартфон Digma Linx C500 3G Новый</td>\n",
              "      <td>1</td>\n",
              "      <td>-1</td>\n",
              "    </tr>\n",
              "    <tr>\n",
              "      <th>192082</th>\n",
              "      <td>Одежда, обувь, аксессуары</td>\n",
              "      <td>Кроссовки; кеды adidas superstar originals</td>\n",
              "      <td>1</td>\n",
              "      <td>-1</td>\n",
              "    </tr>\n",
              "    <tr>\n",
              "      <th>158461</th>\n",
              "      <td>Детская одежда и обувь</td>\n",
              "      <td>Купальник для танцев, гимнастики белый</td>\n",
              "      <td>1</td>\n",
              "      <td>-1</td>\n",
              "    </tr>\n",
              "    <tr>\n",
              "      <th>245628</th>\n",
              "      <td>Одежда, обувь, аксессуары</td>\n",
              "      <td>Плащ</td>\n",
              "      <td>1</td>\n",
              "      <td>-1</td>\n",
              "    </tr>\n",
              "    <tr>\n",
              "      <th>165878</th>\n",
              "      <td>Товары для детей и игрушки</td>\n",
              "      <td>Детская коляска 3 в 1</td>\n",
              "      <td>-1</td>\n",
              "      <td>-1</td>\n",
              "    </tr>\n",
              "    <tr>\n",
              "      <th>142506</th>\n",
              "      <td>Квартиры</td>\n",
              "      <td>1-к квартира, 32 м², 3/6 эт.</td>\n",
              "      <td>1</td>\n",
              "      <td>-1</td>\n",
              "    </tr>\n",
              "    <tr>\n",
              "      <th>152754</th>\n",
              "      <td>Автомобили</td>\n",
              "      <td>LADA Priora, 2008</td>\n",
              "      <td>1</td>\n",
              "      <td>-1</td>\n",
              "    </tr>\n",
              "    <tr>\n",
              "      <th>204910</th>\n",
              "      <td>Фототехника</td>\n",
              "      <td>Фотоэкспонометр свердловск 4 (СССР)</td>\n",
              "      <td>1</td>\n",
              "      <td>-1</td>\n",
              "    </tr>\n",
              "    <tr>\n",
              "      <th>152148</th>\n",
              "      <td>Ноутбуки</td>\n",
              "      <td>Ноутбук Lenovo G50\\A8-6410\\6Gb\\1Tb</td>\n",
              "      <td>1</td>\n",
              "      <td>-1</td>\n",
              "    </tr>\n",
              "    <tr>\n",
              "      <th>235404</th>\n",
              "      <td>Одежда, обувь, аксессуары</td>\n",
              "      <td>Штаны Ladies Choice топ</td>\n",
              "      <td>1</td>\n",
              "      <td>-1</td>\n",
              "    </tr>\n",
              "    <tr>\n",
              "      <th>112541</th>\n",
              "      <td>Квартиры</td>\n",
              "      <td>2-к квартира, 50 м², 6/19 эт.</td>\n",
              "      <td>1</td>\n",
              "      <td>-1</td>\n",
              "    </tr>\n",
              "    <tr>\n",
              "      <th>139076</th>\n",
              "      <td>Одежда, обувь, аксессуары</td>\n",
              "      <td>Полусапоги женские демисезонные замшевые</td>\n",
              "      <td>1</td>\n",
              "      <td>-1</td>\n",
              "    </tr>\n",
              "    <tr>\n",
              "      <th>91473</th>\n",
              "      <td>Товары для детей и игрушки</td>\n",
              "      <td>Коляска 3 в 1 (три блока)</td>\n",
              "      <td>1</td>\n",
              "      <td>-1</td>\n",
              "    </tr>\n",
              "    <tr>\n",
              "      <th>21898</th>\n",
              "      <td>Товары для детей и игрушки</td>\n",
              "      <td>Продам коляску</td>\n",
              "      <td>1</td>\n",
              "      <td>-1</td>\n",
              "    </tr>\n",
              "    <tr>\n",
              "      <th>83692</th>\n",
              "      <td>Настольные компьютеры</td>\n",
              "      <td>Продаю компьютер</td>\n",
              "      <td>1</td>\n",
              "      <td>-1</td>\n",
              "    </tr>\n",
              "    <tr>\n",
              "      <th>212998</th>\n",
              "      <td>Детская одежда и обувь</td>\n",
              "      <td>Кеды Адидас</td>\n",
              "      <td>1</td>\n",
              "      <td>-1</td>\n",
              "    </tr>\n",
              "    <tr>\n",
              "      <th>206583</th>\n",
              "      <td>Товары для детей и игрушки</td>\n",
              "      <td>Игровой туннель Дракоша</td>\n",
              "      <td>-1</td>\n",
              "      <td>-1</td>\n",
              "    </tr>\n",
              "    <tr>\n",
              "      <th>9346</th>\n",
              "      <td>Другие животные</td>\n",
              "      <td>Продается молодой петушок</td>\n",
              "      <td>1</td>\n",
              "      <td>-1</td>\n",
              "    </tr>\n",
              "  </tbody>\n",
              "</table>\n",
              "</div>"
            ],
            "text/plain": [
              "                     category_name  ... anomaly_svm\n",
              "160802                  Автомобили  ...          -1\n",
              "71356       Детская одежда и обувь  ...          -1\n",
              "153398                    Телефоны  ...          -1\n",
              "192082   Одежда, обувь, аксессуары  ...          -1\n",
              "158461      Детская одежда и обувь  ...          -1\n",
              "245628   Одежда, обувь, аксессуары  ...          -1\n",
              "165878  Товары для детей и игрушки  ...          -1\n",
              "142506                    Квартиры  ...          -1\n",
              "152754                  Автомобили  ...          -1\n",
              "204910                 Фототехника  ...          -1\n",
              "152148                    Ноутбуки  ...          -1\n",
              "235404   Одежда, обувь, аксессуары  ...          -1\n",
              "112541                    Квартиры  ...          -1\n",
              "139076   Одежда, обувь, аксессуары  ...          -1\n",
              "91473   Товары для детей и игрушки  ...          -1\n",
              "21898   Товары для детей и игрушки  ...          -1\n",
              "83692        Настольные компьютеры  ...          -1\n",
              "212998      Детская одежда и обувь  ...          -1\n",
              "206583  Товары для детей и игрушки  ...          -1\n",
              "9346               Другие животные  ...          -1\n",
              "\n",
              "[20 rows x 4 columns]"
            ]
          },
          "metadata": {
            "tags": []
          },
          "execution_count": 91
        }
      ]
    },
    {
      "cell_type": "code",
      "metadata": {
        "id": "MNadTOcwcw9U",
        "colab_type": "code",
        "colab": {
          "base_uri": "https://localhost:8080/",
          "height": 765
        },
        "outputId": "780af635-91fd-4c49-bd60-df2b82425493"
      },
      "source": [
        "sample[sample.anomaly_svm==-1].category_name.value_counts()"
      ],
      "execution_count": 92,
      "outputs": [
        {
          "output_type": "execute_result",
          "data": {
            "text/plain": [
              "Детская одежда и обувь          237\n",
              "Одежда, обувь, аксессуары       225\n",
              "Товары для детей и игрушки       99\n",
              "Автомобили                       95\n",
              "Телефоны                         78\n",
              "Квартиры                         69\n",
              "Мебель и интерьер                58\n",
              "Ремонт и строительство           40\n",
              "Предложение услуг                38\n",
              "Товары для компьютера            36\n",
              "Бытовая техника                  30\n",
              "Велосипеды                       23\n",
              "Аудио и видео                    23\n",
              "Земельные участки                23\n",
              "Дома, дачи, коттеджи             22\n",
              "Коллекционирование               19\n",
              "Ноутбуки                         15\n",
              "Спорт и отдых                    14\n",
              "Игры, приставки и программы      11\n",
              "Комнаты                          10\n",
              "Гаражи и машиноместа             10\n",
              "Красота и здоровье               10\n",
              "Фототехника                       9\n",
              "Товары для животных               9\n",
              "Планшеты и электронные книги      9\n",
              "Грузовики и спецтехника           9\n",
              "Книги и журналы                   9\n",
              "Настольные компьютеры             8\n",
              "Кошки                             8\n",
              "Коммерческая недвижимость         8\n",
              "Собаки                            7\n",
              "Часы и украшения                  7\n",
              "Оргтехника и расходники           6\n",
              "Оборудование для бизнеса          5\n",
              "Музыкальные инструменты           4\n",
              "Билеты и путешествия              4\n",
              "Мотоциклы и мототехника           4\n",
              "Посуда и товары для кухни         3\n",
              "Водный транспорт                  2\n",
              "Готовый бизнес                    2\n",
              "Другие животные                   2\n",
              "Охота и рыбалка                   2\n",
              "Аквариум                          1\n",
              "Name: category_name, dtype: int64"
            ]
          },
          "metadata": {
            "tags": []
          },
          "execution_count": 92
        }
      ]
    },
    {
      "cell_type": "code",
      "metadata": {
        "id": "V4Ujn3wNdVEV",
        "colab_type": "code",
        "colab": {
          "base_uri": "https://localhost:8080/",
          "height": 34
        },
        "outputId": "9b82d323-fee6-4fa0-8c76-5322e3fab8e5"
      },
      "source": [
        "len(sample[sample.anomaly_svm==-1])"
      ],
      "execution_count": 93,
      "outputs": [
        {
          "output_type": "execute_result",
          "data": {
            "text/plain": [
              "1303"
            ]
          },
          "metadata": {
            "tags": []
          },
          "execution_count": 93
        }
      ]
    },
    {
      "cell_type": "markdown",
      "metadata": {
        "id": "U2zfnHhigEei",
        "colab_type": "text"
      },
      "source": [
        "Попробуем использовать еще MeanShift, который сам определяет выбросы. Ему как-то верится еще больше, поскольку в качестве выбросов он показывает объявления, в которых заголовок просто повторяет название категории или имеет неожиданные слова, ошибки и т.д."
      ]
    },
    {
      "cell_type": "code",
      "metadata": {
        "id": "gArc8rMVgK0y",
        "colab_type": "code",
        "colab": {
          "base_uri": "https://localhost:8080/",
          "height": 34
        },
        "outputId": "1197cc22-f962-4797-c1b1-08666c276be6"
      },
      "source": [
        "import sklearn\n",
        "sklearn.cluster.estimate_bandwidth(X_svd)"
      ],
      "execution_count": 35,
      "outputs": [
        {
          "output_type": "execute_result",
          "data": {
            "text/plain": [
              "0.7380776573061245"
            ]
          },
          "metadata": {
            "tags": []
          },
          "execution_count": 35
        }
      ]
    },
    {
      "cell_type": "code",
      "metadata": {
        "id": "i3Pm1QK0gVpV",
        "colab_type": "code",
        "colab": {
          "base_uri": "https://localhost:8080/",
          "height": 51
        },
        "outputId": "e996bd12-efc5-4dc5-81ec-dadc877069b5"
      },
      "source": [
        "cluster = MeanShift(cluster_all=False, bandwidth=0.7)\n",
        "cluster.fit(X_svd)"
      ],
      "execution_count": 36,
      "outputs": [
        {
          "output_type": "execute_result",
          "data": {
            "text/plain": [
              "MeanShift(bandwidth=0.7, bin_seeding=False, cluster_all=False, max_iter=300,\n",
              "          min_bin_freq=1, n_jobs=None, seeds=None)"
            ]
          },
          "metadata": {
            "tags": []
          },
          "execution_count": 36
        }
      ]
    },
    {
      "cell_type": "code",
      "metadata": {
        "id": "afc5Zx6TgbEI",
        "colab_type": "code",
        "colab": {}
      },
      "source": [
        "labels = cluster.labels_"
      ],
      "execution_count": 0,
      "outputs": []
    },
    {
      "cell_type": "code",
      "metadata": {
        "id": "fDFEfPlGgdix",
        "colab_type": "code",
        "colab": {}
      },
      "source": [
        "sample['cluster_MS'] = labels"
      ],
      "execution_count": 0,
      "outputs": []
    },
    {
      "cell_type": "code",
      "metadata": {
        "id": "9eO_g3Ilgl3x",
        "colab_type": "code",
        "colab": {
          "base_uri": "https://localhost:8080/",
          "height": 720
        },
        "outputId": "d77864d6-cae6-4aeb-bf95-b58ecf39bf7a"
      },
      "source": [
        "sample[sample.cluster_MS==-1].sample(20)"
      ],
      "execution_count": 96,
      "outputs": [
        {
          "output_type": "execute_result",
          "data": {
            "text/html": [
              "<div>\n",
              "<style scoped>\n",
              "    .dataframe tbody tr th:only-of-type {\n",
              "        vertical-align: middle;\n",
              "    }\n",
              "\n",
              "    .dataframe tbody tr th {\n",
              "        vertical-align: top;\n",
              "    }\n",
              "\n",
              "    .dataframe thead th {\n",
              "        text-align: right;\n",
              "    }\n",
              "</style>\n",
              "<table border=\"1\" class=\"dataframe\">\n",
              "  <thead>\n",
              "    <tr style=\"text-align: right;\">\n",
              "      <th></th>\n",
              "      <th>category_name</th>\n",
              "      <th>title</th>\n",
              "      <th>anomaly</th>\n",
              "      <th>anomaly_svm</th>\n",
              "      <th>cluster_MS</th>\n",
              "    </tr>\n",
              "  </thead>\n",
              "  <tbody>\n",
              "    <tr>\n",
              "      <th>63211</th>\n",
              "      <td>Телефоны</td>\n",
              "      <td>Смартфон ZTE Blade A610 Арт.16992</td>\n",
              "      <td>1</td>\n",
              "      <td>-1</td>\n",
              "      <td>-1</td>\n",
              "    </tr>\n",
              "    <tr>\n",
              "      <th>185628</th>\n",
              "      <td>Детская одежда и обувь</td>\n",
              "      <td>Детские вещи</td>\n",
              "      <td>1</td>\n",
              "      <td>1</td>\n",
              "      <td>-1</td>\n",
              "    </tr>\n",
              "    <tr>\n",
              "      <th>205752</th>\n",
              "      <td>Детская одежда и обувь</td>\n",
              "      <td>Детские вещи</td>\n",
              "      <td>1</td>\n",
              "      <td>1</td>\n",
              "      <td>-1</td>\n",
              "    </tr>\n",
              "    <tr>\n",
              "      <th>184381</th>\n",
              "      <td>Телефоны</td>\n",
              "      <td>Смартфон Apple iPhone 6 Plus 16GB Арт. 39936</td>\n",
              "      <td>1</td>\n",
              "      <td>-1</td>\n",
              "      <td>-1</td>\n",
              "    </tr>\n",
              "    <tr>\n",
              "      <th>42517</th>\n",
              "      <td>Телефоны</td>\n",
              "      <td>Смартфон iPhone 6S 16Gb арт.33261</td>\n",
              "      <td>1</td>\n",
              "      <td>1</td>\n",
              "      <td>-1</td>\n",
              "    </tr>\n",
              "    <tr>\n",
              "      <th>173808</th>\n",
              "      <td>Детская одежда и обувь</td>\n",
              "      <td>Продаю одежду пакетом</td>\n",
              "      <td>1</td>\n",
              "      <td>-1</td>\n",
              "      <td>-1</td>\n",
              "    </tr>\n",
              "    <tr>\n",
              "      <th>214221</th>\n",
              "      <td>Дома, дачи, коттеджи</td>\n",
              "      <td>Дом 33 м² на участке 17 сот.</td>\n",
              "      <td>-1</td>\n",
              "      <td>-1</td>\n",
              "      <td>-1</td>\n",
              "    </tr>\n",
              "    <tr>\n",
              "      <th>157288</th>\n",
              "      <td>Мебель и интерьер</td>\n",
              "      <td>Тумба под тв</td>\n",
              "      <td>1</td>\n",
              "      <td>-1</td>\n",
              "      <td>-1</td>\n",
              "    </tr>\n",
              "    <tr>\n",
              "      <th>17195</th>\n",
              "      <td>Ремонт и строительство</td>\n",
              "      <td>Натяжной потолок арт 65</td>\n",
              "      <td>1</td>\n",
              "      <td>-1</td>\n",
              "      <td>-1</td>\n",
              "    </tr>\n",
              "    <tr>\n",
              "      <th>32207</th>\n",
              "      <td>Коллекционирование</td>\n",
              "      <td>Коробочка ркка под зубной порошок</td>\n",
              "      <td>1</td>\n",
              "      <td>-1</td>\n",
              "      <td>-1</td>\n",
              "    </tr>\n",
              "    <tr>\n",
              "      <th>104335</th>\n",
              "      <td>Одежда, обувь, аксессуары</td>\n",
              "      <td>Платье (40/42)</td>\n",
              "      <td>1</td>\n",
              "      <td>-1</td>\n",
              "      <td>-1</td>\n",
              "    </tr>\n",
              "    <tr>\n",
              "      <th>107701</th>\n",
              "      <td>Ремонт и строительство</td>\n",
              "      <td>Насос скважинный Водомет Дом 55/90 Проф (Джилекс</td>\n",
              "      <td>1</td>\n",
              "      <td>-1</td>\n",
              "      <td>-1</td>\n",
              "    </tr>\n",
              "    <tr>\n",
              "      <th>89986</th>\n",
              "      <td>Предложение услуг</td>\n",
              "      <td>Качественно построим Ваш дом</td>\n",
              "      <td>-1</td>\n",
              "      <td>-1</td>\n",
              "      <td>-1</td>\n",
              "    </tr>\n",
              "    <tr>\n",
              "      <th>225526</th>\n",
              "      <td>Детская одежда и обувь</td>\n",
              "      <td>Осень-зима</td>\n",
              "      <td>1</td>\n",
              "      <td>-1</td>\n",
              "      <td>-1</td>\n",
              "    </tr>\n",
              "    <tr>\n",
              "      <th>209010</th>\n",
              "      <td>Товары для компьютера</td>\n",
              "      <td>Acer Aspire 5551 под восстановление/разбор</td>\n",
              "      <td>1</td>\n",
              "      <td>-1</td>\n",
              "      <td>-1</td>\n",
              "    </tr>\n",
              "    <tr>\n",
              "      <th>135392</th>\n",
              "      <td>Детская одежда и обувь</td>\n",
              "      <td>Рубашка хлопок. Под джинс</td>\n",
              "      <td>1</td>\n",
              "      <td>-1</td>\n",
              "      <td>-1</td>\n",
              "    </tr>\n",
              "    <tr>\n",
              "      <th>246691</th>\n",
              "      <td>Ремонт и строительство</td>\n",
              "      <td>Садовая теплица Флора (20*20) размеры 3х6</td>\n",
              "      <td>1</td>\n",
              "      <td>-1</td>\n",
              "      <td>-1</td>\n",
              "    </tr>\n",
              "    <tr>\n",
              "      <th>146537</th>\n",
              "      <td>Одежда, обувь, аксессуары</td>\n",
              "      <td>Платье новое р.42</td>\n",
              "      <td>1</td>\n",
              "      <td>-1</td>\n",
              "      <td>-1</td>\n",
              "    </tr>\n",
              "    <tr>\n",
              "      <th>18745</th>\n",
              "      <td>Книги и журналы</td>\n",
              "      <td>Детские книги</td>\n",
              "      <td>1</td>\n",
              "      <td>1</td>\n",
              "      <td>-1</td>\n",
              "    </tr>\n",
              "    <tr>\n",
              "      <th>56960</th>\n",
              "      <td>Дома, дачи, коттеджи</td>\n",
              "      <td>Дом 20 м² на участке 44 сот.</td>\n",
              "      <td>-1</td>\n",
              "      <td>1</td>\n",
              "      <td>-1</td>\n",
              "    </tr>\n",
              "  </tbody>\n",
              "</table>\n",
              "</div>"
            ],
            "text/plain": [
              "                    category_name  ... cluster_MS\n",
              "63211                    Телефоны  ...         -1\n",
              "185628     Детская одежда и обувь  ...         -1\n",
              "205752     Детская одежда и обувь  ...         -1\n",
              "184381                   Телефоны  ...         -1\n",
              "42517                    Телефоны  ...         -1\n",
              "173808     Детская одежда и обувь  ...         -1\n",
              "214221       Дома, дачи, коттеджи  ...         -1\n",
              "157288          Мебель и интерьер  ...         -1\n",
              "17195      Ремонт и строительство  ...         -1\n",
              "32207          Коллекционирование  ...         -1\n",
              "104335  Одежда, обувь, аксессуары  ...         -1\n",
              "107701     Ремонт и строительство  ...         -1\n",
              "89986           Предложение услуг  ...         -1\n",
              "225526     Детская одежда и обувь  ...         -1\n",
              "209010      Товары для компьютера  ...         -1\n",
              "135392     Детская одежда и обувь  ...         -1\n",
              "246691     Ремонт и строительство  ...         -1\n",
              "146537  Одежда, обувь, аксессуары  ...         -1\n",
              "18745             Книги и журналы  ...         -1\n",
              "56960        Дома, дачи, коттеджи  ...         -1\n",
              "\n",
              "[20 rows x 5 columns]"
            ]
          },
          "metadata": {
            "tags": []
          },
          "execution_count": 96
        }
      ]
    },
    {
      "cell_type": "code",
      "metadata": {
        "id": "e4osUBTVm-ex",
        "colab_type": "code",
        "colab": {
          "base_uri": "https://localhost:8080/",
          "height": 323
        },
        "outputId": "7eeccc96-5129-4397-81e5-a4d43ebc9d55"
      },
      "source": [
        "sample[sample.cluster_MS==-1].category_name.value_counts()"
      ],
      "execution_count": 97,
      "outputs": [
        {
          "output_type": "execute_result",
          "data": {
            "text/plain": [
              "Детская одежда и обувь        9\n",
              "Телефоны                      7\n",
              "Ремонт и строительство        4\n",
              "Одежда, обувь, аксессуары     4\n",
              "Товары для детей и игрушки    3\n",
              "Гаражи и машиноместа          2\n",
              "Книги и журналы               2\n",
              "Дома, дачи, коттеджи          2\n",
              "Ноутбуки                      1\n",
              "Товары для компьютера         1\n",
              "Коллекционирование            1\n",
              "Предложение услуг             1\n",
              "Мебель и интерьер             1\n",
              "Бытовая техника               1\n",
              "Автомобили                    1\n",
              "Оборудование для бизнеса      1\n",
              "Посуда и товары для кухни     1\n",
              "Name: category_name, dtype: int64"
            ]
          },
          "metadata": {
            "tags": []
          },
          "execution_count": 97
        }
      ]
    },
    {
      "cell_type": "code",
      "metadata": {
        "id": "iwrsbtXmnD-h",
        "colab_type": "code",
        "colab": {
          "base_uri": "https://localhost:8080/",
          "height": 34
        },
        "outputId": "228c529b-6483-4564-feaa-3d49b63a0335"
      },
      "source": [
        "len(sample[sample.cluster_MS==-1])"
      ],
      "execution_count": 98,
      "outputs": [
        {
          "output_type": "execute_result",
          "data": {
            "text/plain": [
              "42"
            ]
          },
          "metadata": {
            "tags": []
          },
          "execution_count": 98
        }
      ]
    },
    {
      "cell_type": "markdown",
      "metadata": {
        "id": "Fj8OX8gboDJF",
        "colab_type": "text"
      },
      "source": [
        "Еще попробуем DBSCAN."
      ]
    },
    {
      "cell_type": "code",
      "metadata": {
        "id": "kDzjQ0cYoCNi",
        "colab_type": "code",
        "colab": {
          "base_uri": "https://localhost:8080/",
          "height": 51
        },
        "outputId": "681eb602-79c2-4d3f-9e38-f6e6f636f037"
      },
      "source": [
        "cluster = DBSCAN(min_samples=10, eps=0.5) \n",
        "cluster.fit(X_svd)"
      ],
      "execution_count": 116,
      "outputs": [
        {
          "output_type": "execute_result",
          "data": {
            "text/plain": [
              "DBSCAN(algorithm='auto', eps=0.5, leaf_size=30, metric='euclidean',\n",
              "       metric_params=None, min_samples=10, n_jobs=None, p=None)"
            ]
          },
          "metadata": {
            "tags": []
          },
          "execution_count": 116
        }
      ]
    },
    {
      "cell_type": "code",
      "metadata": {
        "id": "FVQQXmtboQlR",
        "colab_type": "code",
        "colab": {}
      },
      "source": [
        "labels = cluster.labels_"
      ],
      "execution_count": 0,
      "outputs": []
    },
    {
      "cell_type": "code",
      "metadata": {
        "id": "nXYsNasIoVHg",
        "colab_type": "code",
        "colab": {}
      },
      "source": [
        "sample['cluster_DBSCAN'] = labels"
      ],
      "execution_count": 0,
      "outputs": []
    },
    {
      "cell_type": "markdown",
      "metadata": {
        "id": "nT_IV_T1o_08",
        "colab_type": "text"
      },
      "source": [
        "Его выбросы тоже так себе – не совсем похоже на выбросы."
      ]
    },
    {
      "cell_type": "code",
      "metadata": {
        "id": "eLRy1IUoobNt",
        "colab_type": "code",
        "colab": {
          "base_uri": "https://localhost:8080/",
          "height": 805
        },
        "outputId": "8fe585da-db4e-49b3-e401-6153c468dc99"
      },
      "source": [
        "sample[sample.cluster_DBSCAN==-1].sample(20)"
      ],
      "execution_count": 119,
      "outputs": [
        {
          "output_type": "execute_result",
          "data": {
            "text/html": [
              "<div>\n",
              "<style scoped>\n",
              "    .dataframe tbody tr th:only-of-type {\n",
              "        vertical-align: middle;\n",
              "    }\n",
              "\n",
              "    .dataframe tbody tr th {\n",
              "        vertical-align: top;\n",
              "    }\n",
              "\n",
              "    .dataframe thead th {\n",
              "        text-align: right;\n",
              "    }\n",
              "</style>\n",
              "<table border=\"1\" class=\"dataframe\">\n",
              "  <thead>\n",
              "    <tr style=\"text-align: right;\">\n",
              "      <th></th>\n",
              "      <th>category_name</th>\n",
              "      <th>title</th>\n",
              "      <th>anomaly</th>\n",
              "      <th>anomaly_svm</th>\n",
              "      <th>cluster_MS</th>\n",
              "      <th>cluster_DBSCAN</th>\n",
              "    </tr>\n",
              "  </thead>\n",
              "  <tbody>\n",
              "    <tr>\n",
              "      <th>228833</th>\n",
              "      <td>Квартиры</td>\n",
              "      <td>1-к квартира, 38 м², 10/17 эт.</td>\n",
              "      <td>1</td>\n",
              "      <td>-1</td>\n",
              "      <td>108</td>\n",
              "      <td>-1</td>\n",
              "    </tr>\n",
              "    <tr>\n",
              "      <th>216683</th>\n",
              "      <td>Детская одежда и обувь</td>\n",
              "      <td>Продам ботинки</td>\n",
              "      <td>1</td>\n",
              "      <td>1</td>\n",
              "      <td>74</td>\n",
              "      <td>-1</td>\n",
              "    </tr>\n",
              "    <tr>\n",
              "      <th>70161</th>\n",
              "      <td>Квартиры</td>\n",
              "      <td>2-к квартира, 45 м², 1/5 эт.</td>\n",
              "      <td>1</td>\n",
              "      <td>1</td>\n",
              "      <td>38</td>\n",
              "      <td>-1</td>\n",
              "    </tr>\n",
              "    <tr>\n",
              "      <th>45579</th>\n",
              "      <td>Товары для детей и игрушки</td>\n",
              "      <td>Детский стульчик для кормления</td>\n",
              "      <td>1</td>\n",
              "      <td>1</td>\n",
              "      <td>41</td>\n",
              "      <td>-1</td>\n",
              "    </tr>\n",
              "    <tr>\n",
              "      <th>3983</th>\n",
              "      <td>Квартиры</td>\n",
              "      <td>1-к квартира, 33.7 м², 1/5 эт.</td>\n",
              "      <td>1</td>\n",
              "      <td>1</td>\n",
              "      <td>4</td>\n",
              "      <td>-1</td>\n",
              "    </tr>\n",
              "    <tr>\n",
              "      <th>29057</th>\n",
              "      <td>Дома, дачи, коттеджи</td>\n",
              "      <td>Дом 65 м² на участке 25 сот.</td>\n",
              "      <td>1</td>\n",
              "      <td>1</td>\n",
              "      <td>69</td>\n",
              "      <td>-1</td>\n",
              "    </tr>\n",
              "    <tr>\n",
              "      <th>33258</th>\n",
              "      <td>Комнаты</td>\n",
              "      <td>Комната 60 м² в 3-к, 5/9 эт.</td>\n",
              "      <td>1</td>\n",
              "      <td>-1</td>\n",
              "      <td>119</td>\n",
              "      <td>-1</td>\n",
              "    </tr>\n",
              "    <tr>\n",
              "      <th>8145</th>\n",
              "      <td>Квартиры</td>\n",
              "      <td>2-к квартира, 50 м², 5/5 эт.</td>\n",
              "      <td>1</td>\n",
              "      <td>-1</td>\n",
              "      <td>45</td>\n",
              "      <td>-1</td>\n",
              "    </tr>\n",
              "    <tr>\n",
              "      <th>38143</th>\n",
              "      <td>Квартиры</td>\n",
              "      <td>2-к квартира, 45.5 м², 3/5 эт.</td>\n",
              "      <td>1</td>\n",
              "      <td>1</td>\n",
              "      <td>38</td>\n",
              "      <td>-1</td>\n",
              "    </tr>\n",
              "    <tr>\n",
              "      <th>235872</th>\n",
              "      <td>Детская одежда и обувь</td>\n",
              "      <td>Куртка детская</td>\n",
              "      <td>-1</td>\n",
              "      <td>1</td>\n",
              "      <td>104</td>\n",
              "      <td>-1</td>\n",
              "    </tr>\n",
              "    <tr>\n",
              "      <th>150201</th>\n",
              "      <td>Детская одежда и обувь</td>\n",
              "      <td>Продаю обувь для девочки. Б/у</td>\n",
              "      <td>1</td>\n",
              "      <td>1</td>\n",
              "      <td>21</td>\n",
              "      <td>-1</td>\n",
              "    </tr>\n",
              "    <tr>\n",
              "      <th>8370</th>\n",
              "      <td>Товары для детей и игрушки</td>\n",
              "      <td>Стульчик для кормления Pegperego tatamia</td>\n",
              "      <td>1</td>\n",
              "      <td>1</td>\n",
              "      <td>41</td>\n",
              "      <td>-1</td>\n",
              "    </tr>\n",
              "    <tr>\n",
              "      <th>137800</th>\n",
              "      <td>Автомобили</td>\n",
              "      <td>LADA 4x4 (Нива), 2015</td>\n",
              "      <td>1</td>\n",
              "      <td>-1</td>\n",
              "      <td>62</td>\n",
              "      <td>-1</td>\n",
              "    </tr>\n",
              "    <tr>\n",
              "      <th>245913</th>\n",
              "      <td>Детская одежда и обувь</td>\n",
              "      <td>Куртка весна-осень</td>\n",
              "      <td>-1</td>\n",
              "      <td>-1</td>\n",
              "      <td>75</td>\n",
              "      <td>-1</td>\n",
              "    </tr>\n",
              "    <tr>\n",
              "      <th>55923</th>\n",
              "      <td>Дома, дачи, коттеджи</td>\n",
              "      <td>Дом 53.4 м² на участке 15 сот.</td>\n",
              "      <td>-1</td>\n",
              "      <td>1</td>\n",
              "      <td>85</td>\n",
              "      <td>-1</td>\n",
              "    </tr>\n",
              "    <tr>\n",
              "      <th>168465</th>\n",
              "      <td>Детская одежда и обувь</td>\n",
              "      <td>Рубашки на мальчика</td>\n",
              "      <td>-1</td>\n",
              "      <td>-1</td>\n",
              "      <td>36</td>\n",
              "      <td>-1</td>\n",
              "    </tr>\n",
              "    <tr>\n",
              "      <th>127377</th>\n",
              "      <td>Телефоны</td>\n",
              "      <td>Защитная плёнка на iPhone 4</td>\n",
              "      <td>1</td>\n",
              "      <td>1</td>\n",
              "      <td>-1</td>\n",
              "      <td>-1</td>\n",
              "    </tr>\n",
              "    <tr>\n",
              "      <th>185781</th>\n",
              "      <td>Дома, дачи, коттеджи</td>\n",
              "      <td>Дом 73.2 м² на участке 10 сот.</td>\n",
              "      <td>-1</td>\n",
              "      <td>1</td>\n",
              "      <td>84</td>\n",
              "      <td>-1</td>\n",
              "    </tr>\n",
              "    <tr>\n",
              "      <th>731</th>\n",
              "      <td>Детская одежда и обувь</td>\n",
              "      <td>Ботинки (нат. замша) 19 см по стельке</td>\n",
              "      <td>-1</td>\n",
              "      <td>-1</td>\n",
              "      <td>22</td>\n",
              "      <td>-1</td>\n",
              "    </tr>\n",
              "    <tr>\n",
              "      <th>144826</th>\n",
              "      <td>Квартиры</td>\n",
              "      <td>1-к квартира, 35 м², 2/9 эт.</td>\n",
              "      <td>1</td>\n",
              "      <td>1</td>\n",
              "      <td>35</td>\n",
              "      <td>-1</td>\n",
              "    </tr>\n",
              "  </tbody>\n",
              "</table>\n",
              "</div>"
            ],
            "text/plain": [
              "                     category_name  ... cluster_DBSCAN\n",
              "228833                    Квартиры  ...             -1\n",
              "216683      Детская одежда и обувь  ...             -1\n",
              "70161                     Квартиры  ...             -1\n",
              "45579   Товары для детей и игрушки  ...             -1\n",
              "3983                      Квартиры  ...             -1\n",
              "29057         Дома, дачи, коттеджи  ...             -1\n",
              "33258                      Комнаты  ...             -1\n",
              "8145                      Квартиры  ...             -1\n",
              "38143                     Квартиры  ...             -1\n",
              "235872      Детская одежда и обувь  ...             -1\n",
              "150201      Детская одежда и обувь  ...             -1\n",
              "8370    Товары для детей и игрушки  ...             -1\n",
              "137800                  Автомобили  ...             -1\n",
              "245913      Детская одежда и обувь  ...             -1\n",
              "55923         Дома, дачи, коттеджи  ...             -1\n",
              "168465      Детская одежда и обувь  ...             -1\n",
              "127377                    Телефоны  ...             -1\n",
              "185781        Дома, дачи, коттеджи  ...             -1\n",
              "731         Детская одежда и обувь  ...             -1\n",
              "144826                    Квартиры  ...             -1\n",
              "\n",
              "[20 rows x 6 columns]"
            ]
          },
          "metadata": {
            "tags": []
          },
          "execution_count": 119
        }
      ]
    },
    {
      "cell_type": "code",
      "metadata": {
        "id": "OIUmrgbao5Da",
        "colab_type": "code",
        "colab": {
          "base_uri": "https://localhost:8080/",
          "height": 34
        },
        "outputId": "c2c9c7bf-5b9e-4019-8e84-a89232c86724"
      },
      "source": [
        "len(sample[sample.cluster_DBSCAN==-1])"
      ],
      "execution_count": 120,
      "outputs": [
        {
          "output_type": "execute_result",
          "data": {
            "text/plain": [
              "448"
            ]
          },
          "metadata": {
            "tags": []
          },
          "execution_count": 120
        }
      ]
    },
    {
      "cell_type": "markdown",
      "metadata": {
        "id": "k9eBRZYupaDJ",
        "colab_type": "text"
      },
      "source": [
        "Итог: пока что лучше всех с поисками выбросов справился MeanShift, потому что у него видно больше всего объявлений, отличающихся от большинства. К тому же он нашел меньше всего выбросов, и мне кажется, что 42 выброса – намного более адекватное число, чем 1303 или даже 448."
      ]
    }
  ]
}