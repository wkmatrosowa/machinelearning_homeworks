{
  "nbformat": 4,
  "nbformat_minor": 0,
  "metadata": {
    "kernelspec": {
      "display_name": "Python 3",
      "language": "python",
      "name": "python3"
    },
    "language_info": {
      "codemirror_mode": {
        "name": "ipython",
        "version": 3
      },
      "file_extension": ".py",
      "mimetype": "text/x-python",
      "name": "python",
      "nbconvert_exporter": "python",
      "pygments_lexer": "ipython3",
      "version": "3.6.9"
    },
    "colab": {
      "name": "HW06_nn_intro.ipynb",
      "provenance": [],
      "collapsed_sections": [],
      "include_colab_link": true
    }
  },
  "cells": [
    {
      "cell_type": "markdown",
      "metadata": {
        "id": "view-in-github",
        "colab_type": "text"
      },
      "source": [
        "<a href=\"https://colab.research.google.com/github/wksmirnowa/machinelearning_homeworks/blob/master/HW06_nn_intro.ipynb\" target=\"_parent\"><img src=\"https://colab.research.google.com/assets/colab-badge.svg\" alt=\"Open In Colab\"/></a>"
      ]
    },
    {
      "cell_type": "markdown",
      "metadata": {
        "id": "N5sy1VdCPKBN",
        "colab_type": "text"
      },
      "source": [
        "# Введение в нейронные сети "
      ]
    },
    {
      "cell_type": "markdown",
      "metadata": {
        "id": "gKZm-RMin4pC",
        "colab_type": "text"
      },
      "source": [
        "## Подготовка к работе с данными"
      ]
    },
    {
      "cell_type": "code",
      "metadata": {
        "id": "DB9AjWHNg4Ho",
        "colab_type": "code",
        "outputId": "4fada941-64e1-4564-eee1-4bf2e46c1126",
        "colab": {
          "base_uri": "https://localhost:8080/",
          "height": 122
        }
      },
      "source": [
        "from google.colab import drive\n",
        "drive.mount('/content/drive')"
      ],
      "execution_count": 1,
      "outputs": [
        {
          "output_type": "stream",
          "text": [
            "Go to this URL in a browser: https://accounts.google.com/o/oauth2/auth?client_id=947318989803-6bn6qk8qdgf4n4g3pfee6491hc0brc4i.apps.googleusercontent.com&redirect_uri=urn%3aietf%3awg%3aoauth%3a2.0%3aoob&response_type=code&scope=email%20https%3a%2f%2fwww.googleapis.com%2fauth%2fdocs.test%20https%3a%2f%2fwww.googleapis.com%2fauth%2fdrive%20https%3a%2f%2fwww.googleapis.com%2fauth%2fdrive.photos.readonly%20https%3a%2f%2fwww.googleapis.com%2fauth%2fpeopleapi.readonly\n",
            "\n",
            "Enter your authorization code:\n",
            "··········\n",
            "Mounted at /content/drive\n"
          ],
          "name": "stdout"
        }
      ]
    },
    {
      "cell_type": "code",
      "metadata": {
        "id": "FQhESUTlPKBZ",
        "colab_type": "code",
        "colab": {}
      },
      "source": [
        "import tensorflow as tf\n",
        "import pandas as pd\n",
        "import numpy as np\n",
        "from string import punctuation\n",
        "from sklearn.model_selection import train_test_split\n",
        "from sklearn.metrics import classification_report\n",
        "from collections import Counter\n",
        "import matplotlib.pyplot as plt\n",
        "%matplotlib inline"
      ],
      "execution_count": 0,
      "outputs": []
    },
    {
      "cell_type": "code",
      "metadata": {
        "id": "vEl9aqM3g9Mq",
        "colab_type": "code",
        "colab": {}
      },
      "source": [
        "quora = pd.read_csv('/content/drive/My Drive/quora.csv')"
      ],
      "execution_count": 0,
      "outputs": []
    },
    {
      "cell_type": "code",
      "metadata": {
        "id": "uuE0O9FmhLAz",
        "colab_type": "code",
        "outputId": "215ccd3f-61f7-4dd4-8cf1-f70e5b949e81",
        "colab": {
          "base_uri": "https://localhost:8080/",
          "height": 359
        }
      },
      "source": [
        "quora.head(10)"
      ],
      "execution_count": 0,
      "outputs": [
        {
          "output_type": "execute_result",
          "data": {
            "text/html": [
              "<div>\n",
              "<style scoped>\n",
              "    .dataframe tbody tr th:only-of-type {\n",
              "        vertical-align: middle;\n",
              "    }\n",
              "\n",
              "    .dataframe tbody tr th {\n",
              "        vertical-align: top;\n",
              "    }\n",
              "\n",
              "    .dataframe thead th {\n",
              "        text-align: right;\n",
              "    }\n",
              "</style>\n",
              "<table border=\"1\" class=\"dataframe\">\n",
              "  <thead>\n",
              "    <tr style=\"text-align: right;\">\n",
              "      <th></th>\n",
              "      <th>qid</th>\n",
              "      <th>question_text</th>\n",
              "      <th>target</th>\n",
              "    </tr>\n",
              "  </thead>\n",
              "  <tbody>\n",
              "    <tr>\n",
              "      <th>0</th>\n",
              "      <td>00002165364db923c7e6</td>\n",
              "      <td>How did Quebec nationalists see their province...</td>\n",
              "      <td>0</td>\n",
              "    </tr>\n",
              "    <tr>\n",
              "      <th>1</th>\n",
              "      <td>000032939017120e6e44</td>\n",
              "      <td>Do you have an adopted dog, how would you enco...</td>\n",
              "      <td>0</td>\n",
              "    </tr>\n",
              "    <tr>\n",
              "      <th>2</th>\n",
              "      <td>0000412ca6e4628ce2cf</td>\n",
              "      <td>Why does velocity affect time? Does velocity a...</td>\n",
              "      <td>0</td>\n",
              "    </tr>\n",
              "    <tr>\n",
              "      <th>3</th>\n",
              "      <td>000042bf85aa498cd78e</td>\n",
              "      <td>How did Otto von Guericke used the Magdeburg h...</td>\n",
              "      <td>0</td>\n",
              "    </tr>\n",
              "    <tr>\n",
              "      <th>4</th>\n",
              "      <td>0000455dfa3e01eae3af</td>\n",
              "      <td>Can I convert montra helicon D to a mountain b...</td>\n",
              "      <td>0</td>\n",
              "    </tr>\n",
              "    <tr>\n",
              "      <th>5</th>\n",
              "      <td>00004f9a462a357c33be</td>\n",
              "      <td>Is Gaza slowly becoming Auschwitz, Dachau or T...</td>\n",
              "      <td>0</td>\n",
              "    </tr>\n",
              "    <tr>\n",
              "      <th>6</th>\n",
              "      <td>00005059a06ee19e11ad</td>\n",
              "      <td>Why does Quora automatically ban conservative ...</td>\n",
              "      <td>0</td>\n",
              "    </tr>\n",
              "    <tr>\n",
              "      <th>7</th>\n",
              "      <td>0000559f875832745e2e</td>\n",
              "      <td>Is it crazy if I wash or wipe my groceries off...</td>\n",
              "      <td>0</td>\n",
              "    </tr>\n",
              "    <tr>\n",
              "      <th>8</th>\n",
              "      <td>00005bd3426b2d0c8305</td>\n",
              "      <td>Is there such a thing as dressing moderately, ...</td>\n",
              "      <td>0</td>\n",
              "    </tr>\n",
              "    <tr>\n",
              "      <th>9</th>\n",
              "      <td>00006e6928c5df60eacb</td>\n",
              "      <td>Is it just me or have you ever been in this ph...</td>\n",
              "      <td>0</td>\n",
              "    </tr>\n",
              "  </tbody>\n",
              "</table>\n",
              "</div>"
            ],
            "text/plain": [
              "                    qid  ... target\n",
              "0  00002165364db923c7e6  ...      0\n",
              "1  000032939017120e6e44  ...      0\n",
              "2  0000412ca6e4628ce2cf  ...      0\n",
              "3  000042bf85aa498cd78e  ...      0\n",
              "4  0000455dfa3e01eae3af  ...      0\n",
              "5  00004f9a462a357c33be  ...      0\n",
              "6  00005059a06ee19e11ad  ...      0\n",
              "7  0000559f875832745e2e  ...      0\n",
              "8  00005bd3426b2d0c8305  ...      0\n",
              "9  00006e6928c5df60eacb  ...      0\n",
              "\n",
              "[10 rows x 3 columns]"
            ]
          },
          "metadata": {
            "tags": []
          },
          "execution_count": 32
        }
      ]
    },
    {
      "cell_type": "code",
      "metadata": {
        "id": "_dSMOwi2PKBt",
        "colab_type": "code",
        "colab": {}
      },
      "source": [
        "def preprocess(text):\n",
        "    tokens = text.lower().split()\n",
        "    tokens = [token.strip(punctuation) for token in tokens]\n",
        "    return tokens"
      ],
      "execution_count": 0,
      "outputs": []
    },
    {
      "cell_type": "code",
      "metadata": {
        "id": "arGvMz7mkJzK",
        "colab_type": "code",
        "colab": {}
      },
      "source": [
        "vocab = Counter()\n",
        "\n",
        "for text in quora.question_text:\n",
        "    vocab.update(preprocess(text))"
      ],
      "execution_count": 0,
      "outputs": []
    },
    {
      "cell_type": "code",
      "metadata": {
        "id": "DBkBhj1NPKB4",
        "colab_type": "code",
        "colab": {}
      },
      "source": [
        "filtered_vocab = set()\n",
        "\n",
        "for word in vocab:\n",
        "    if vocab[word] > 20:\n",
        "        filtered_vocab.add(word)"
      ],
      "execution_count": 0,
      "outputs": []
    },
    {
      "cell_type": "code",
      "metadata": {
        "id": "Hf1VkVZUPKB9",
        "colab_type": "code",
        "outputId": "11fab044-8c9f-4220-c4ad-976317fded70",
        "colab": {
          "base_uri": "https://localhost:8080/",
          "height": 34
        }
      },
      "source": [
        "len(filtered_vocab)"
      ],
      "execution_count": 0,
      "outputs": [
        {
          "output_type": "execute_result",
          "data": {
            "text/plain": [
              "23324"
            ]
          },
          "metadata": {
            "tags": []
          },
          "execution_count": 36
        }
      ]
    },
    {
      "cell_type": "code",
      "metadata": {
        "id": "Sa3h8fG-PKCD",
        "colab_type": "code",
        "colab": {}
      },
      "source": [
        "word2id = {'UNK':1, 'PAD':0}\n",
        "\n",
        "for word in filtered_vocab:\n",
        "    word2id[word] = len(word2id)"
      ],
      "execution_count": 0,
      "outputs": []
    },
    {
      "cell_type": "code",
      "metadata": {
        "id": "YpbOb7ZCPKCG",
        "colab_type": "code",
        "colab": {}
      },
      "source": [
        "id2word = {i:word for word, i in word2id.items()}"
      ],
      "execution_count": 0,
      "outputs": []
    },
    {
      "cell_type": "code",
      "metadata": {
        "id": "-UMxkWzO2PM3",
        "colab_type": "code",
        "colab": {}
      },
      "source": [
        "X = []\n",
        "\n",
        "for text in quora.question_text:\n",
        "    tokens = preprocess(text)\n",
        "    ids = [word2id.get(token, 1) for token in tokens]\n",
        "    X.append(ids)"
      ],
      "execution_count": 0,
      "outputs": []
    },
    {
      "cell_type": "code",
      "metadata": {
        "id": "refFk9WhPKCL",
        "colab_type": "code",
        "colab": {}
      },
      "source": [
        "MAX_LEN = max(len(x) for x in X)"
      ],
      "execution_count": 0,
      "outputs": []
    },
    {
      "cell_type": "code",
      "metadata": {
        "id": "lRVlAT0tPKCO",
        "colab_type": "code",
        "outputId": "3d4d4ca7-da95-409e-a0fe-46b09c73dc60",
        "colab": {
          "base_uri": "https://localhost:8080/",
          "height": 34
        }
      },
      "source": [
        "MAX_LEN"
      ],
      "execution_count": 0,
      "outputs": [
        {
          "output_type": "execute_result",
          "data": {
            "text/plain": [
              "134"
            ]
          },
          "metadata": {
            "tags": []
          },
          "execution_count": 41
        }
      ]
    },
    {
      "cell_type": "code",
      "metadata": {
        "id": "cVxIWRUx2cO-",
        "colab_type": "code",
        "colab": {}
      },
      "source": [
        "X = tf.keras.preprocessing.sequence.pad_sequences(X, maxlen=MAX_LEN)"
      ],
      "execution_count": 0,
      "outputs": []
    },
    {
      "cell_type": "code",
      "metadata": {
        "id": "2aAPYh3lPKCV",
        "colab_type": "code",
        "outputId": "66685425-ed4c-48e6-c643-23516ea24b73",
        "colab": {
          "base_uri": "https://localhost:8080/",
          "height": 34
        }
      },
      "source": [
        "X.shape"
      ],
      "execution_count": 0,
      "outputs": [
        {
          "output_type": "execute_result",
          "data": {
            "text/plain": [
              "(1306122, 134)"
            ]
          },
          "metadata": {
            "tags": []
          },
          "execution_count": 43
        }
      ]
    },
    {
      "cell_type": "code",
      "metadata": {
        "id": "ipD1WXtekxaY",
        "colab_type": "code",
        "colab": {}
      },
      "source": [
        "y = quora.target.values"
      ],
      "execution_count": 0,
      "outputs": []
    },
    {
      "cell_type": "code",
      "metadata": {
        "id": "jWsU5BXvPKCZ",
        "colab_type": "code",
        "colab": {}
      },
      "source": [
        "X_train, X_valid, y_train, y_valid = train_test_split(X, y, test_size=0.05, random_state=42)"
      ],
      "execution_count": 0,
      "outputs": []
    },
    {
      "cell_type": "markdown",
      "metadata": {
        "id": "P5ElnBN2nX1A",
        "colab_type": "text"
      },
      "source": [
        "## Задание 1."
      ]
    },
    {
      "cell_type": "markdown",
      "metadata": {
        "id": "ELtWYbSL3wFY",
        "colab_type": "text"
      },
      "source": [
        "### а) Конкатенация эмбедингов в один большой эмбединг\n"
      ]
    },
    {
      "cell_type": "code",
      "metadata": {
        "id": "ZzM0uEIo7WXY",
        "colab_type": "code",
        "colab": {}
      },
      "source": [
        "inputs = tf.keras.layers.Input(shape=(MAX_LEN,))\n",
        "\n",
        "embeddings = tf.keras.layers.Embedding(input_dim=len(word2id), output_dim=100)(inputs)\n",
        "flat = tf.keras.layers.Flatten()(embeddings)\n",
        "dense = tf.keras.layers.Dense(65, activation='relu')(flat)\n",
        "dense = tf.keras.layers.Dense(65, activation='relu')(flat)\n",
        "outputs = tf.keras.layers.Dense(1, activation='sigmoid')(dense)\n",
        "\n",
        "model = tf.keras.Model(inputs=inputs, outputs=outputs)\n",
        "optimizer = tf.keras.optimizers.Adam(learning_rate=0.0001)\n",
        "model.compile(optimizer=optimizer,\n",
        "              loss='binary_crossentropy',\n",
        "              metrics=['accuracy'])\n"
      ],
      "execution_count": 0,
      "outputs": []
    },
    {
      "cell_type": "code",
      "metadata": {
        "scrolled": true,
        "id": "K-nvA4qTPKCd",
        "colab_type": "code",
        "outputId": "5ccd9313-f664-486b-d093-2a992d76a7cd",
        "colab": {
          "base_uri": "https://localhost:8080/",
          "height": 428
        }
      },
      "source": [
        "%%time\n",
        "model.fit(X_train, y_train, \n",
        "          validation_data=(X_valid, y_valid),\n",
        "          batch_size=150,\n",
        "         epochs=10)"
      ],
      "execution_count": 0,
      "outputs": [
        {
          "output_type": "stream",
          "text": [
            "Epoch 1/10\n",
            "8273/8273 [==============================] - 445s 54ms/step - loss: 0.1347 - accuracy: 0.9491 - val_loss: 0.1126 - val_accuracy: 0.9550\n",
            "Epoch 2/10\n",
            "8273/8273 [==============================] - 442s 53ms/step - loss: 0.1098 - accuracy: 0.9555 - val_loss: 0.1103 - val_accuracy: 0.9558\n",
            "Epoch 3/10\n",
            "8273/8273 [==============================] - 445s 54ms/step - loss: 0.1043 - accuracy: 0.9575 - val_loss: 0.1137 - val_accuracy: 0.9562\n",
            "Epoch 4/10\n",
            "8273/8273 [==============================] - 454s 55ms/step - loss: 0.0995 - accuracy: 0.9595 - val_loss: 0.1128 - val_accuracy: 0.9553\n",
            "Epoch 5/10\n",
            "8273/8273 [==============================] - 439s 53ms/step - loss: 0.0940 - accuracy: 0.9617 - val_loss: 0.1153 - val_accuracy: 0.9545\n",
            "Epoch 6/10\n",
            "8273/8273 [==============================] - 435s 53ms/step - loss: 0.0875 - accuracy: 0.9648 - val_loss: 0.1188 - val_accuracy: 0.9548\n",
            "Epoch 7/10\n",
            "8273/8273 [==============================] - 430s 52ms/step - loss: 0.0802 - accuracy: 0.9683 - val_loss: 0.1270 - val_accuracy: 0.9528\n",
            "Epoch 8/10\n",
            "8273/8273 [==============================] - 436s 53ms/step - loss: 0.0732 - accuracy: 0.9717 - val_loss: 0.1423 - val_accuracy: 0.9523\n",
            "Epoch 9/10\n",
            "8273/8273 [==============================] - 445s 54ms/step - loss: 0.0667 - accuracy: 0.9748 - val_loss: 0.1445 - val_accuracy: 0.9493\n",
            "Epoch 10/10\n",
            "8273/8273 [==============================] - 438s 53ms/step - loss: 0.0611 - accuracy: 0.9772 - val_loss: 0.1554 - val_accuracy: 0.9434\n",
            "CPU times: user 2h 4min 32s, sys: 3min 17s, total: 2h 7min 49s\n",
            "Wall time: 1h 13min 30s\n"
          ],
          "name": "stdout"
        },
        {
          "output_type": "execute_result",
          "data": {
            "text/plain": [
              "<tensorflow.python.keras.callbacks.History at 0x7f2f38a359b0>"
            ]
          },
          "metadata": {
            "tags": []
          },
          "execution_count": 105
        }
      ]
    },
    {
      "cell_type": "code",
      "metadata": {
        "id": "2w0NhliYPKCf",
        "colab_type": "code",
        "outputId": "70e70599-cfd9-4554-b92a-366bb44d42a6",
        "colab": {
          "base_uri": "https://localhost:8080/",
          "height": 312
        }
      },
      "source": [
        "print(model.history.history.keys())\n",
        "plt.plot(model.history.history['accuracy'])\n",
        "plt.plot(model.history.history['val_accuracy'])\n",
        "plt.title('model binary_crossentropy')\n",
        "plt.ylabel('accuracy')\n",
        "plt.xlabel('epoch')\n",
        "plt.legend(['train', 'val'], loc='upper left')\n",
        "plt.show()"
      ],
      "execution_count": 0,
      "outputs": [
        {
          "output_type": "stream",
          "text": [
            "dict_keys(['loss', 'accuracy', 'val_loss', 'val_accuracy'])\n"
          ],
          "name": "stdout"
        },
        {
          "output_type": "display_data",
          "data": {
            "image/png": "[encoded data removed]",
            "text/plain": [
              "<Figure size 432x288 with 1 Axes>"
            ]
          },
          "metadata": {
            "tags": [],
            "needs_background": "light"
          }
        }
      ]
    },
    {
      "cell_type": "code",
      "metadata": {
        "id": "3pAsPNvIOYTv",
        "colab_type": "code",
        "colab": {}
      },
      "source": [
        "preds = model.predict(X_valid).reshape(-1)"
      ],
      "execution_count": 0,
      "outputs": []
    },
    {
      "cell_type": "code",
      "metadata": {
        "id": "LwRKWz2qOiWR",
        "colab_type": "code",
        "outputId": "4066494d-64ea-4fa1-99fa-77131d78a26b",
        "colab": {
          "base_uri": "https://localhost:8080/",
          "height": 170
        }
      },
      "source": [
        "print(classification_report(y_valid, (preds > 0.5).astype(int)))"
      ],
      "execution_count": 0,
      "outputs": [
        {
          "output_type": "stream",
          "text": [
            "              precision    recall  f1-score   support\n",
            "\n",
            "           0       0.97      0.97      0.97     61365\n",
            "           1       0.53      0.60      0.56      3942\n",
            "\n",
            "    accuracy                           0.94     65307\n",
            "   macro avg       0.75      0.78      0.77     65307\n",
            "weighted avg       0.95      0.94      0.95     65307\n",
            "\n"
          ],
          "name": "stdout"
        }
      ]
    },
    {
      "cell_type": "markdown",
      "metadata": {
        "id": "Q8FTtM4Al44m",
        "colab_type": "text"
      },
      "source": [
        "### б) Усреднение эмбедингов"
      ]
    },
    {
      "cell_type": "code",
      "metadata": {
        "id": "Bqaf-G-9mMYA",
        "colab_type": "code",
        "colab": {}
      },
      "source": [
        "inputs = tf.keras.layers.Input(shape=(MAX_LEN,))\n",
        "\n",
        "embeddings = tf.keras.layers.Embedding(input_dim=len(word2id), output_dim=100)(inputs)\n",
        "mean = tf.keras.layers.Lambda(lambda x: tf.keras.backend.mean(x,  axis=1))(embeddings)\n",
        "dense = tf.keras.layers.Dense(64, activation='relu')(mean)\n",
        "dense = tf.keras.layers.Dense(64, activation='relu')(mean)\n",
        "outputs = tf.keras.layers.Dense(1, activation='sigmoid')(dense)\n",
        "\n",
        "model = tf.keras.Model(inputs=inputs, outputs=outputs)\n",
        "optimizer = tf.keras.optimizers.Adam(learning_rate=0.0001)\n",
        "model.compile(optimizer=optimizer,\n",
        "              loss='binary_crossentropy',\n",
        "              metrics=['accuracy'])"
      ],
      "execution_count": 0,
      "outputs": []
    },
    {
      "cell_type": "code",
      "metadata": {
        "id": "DQFoeRCRm_ou",
        "colab_type": "code",
        "outputId": "f01b91ed-5734-4192-e243-134999a2df16",
        "colab": {
          "base_uri": "https://localhost:8080/",
          "height": 428
        }
      },
      "source": [
        "%%time\n",
        "model.fit(X_train, y_train, \n",
        "          validation_data=(X_valid, y_valid),\n",
        "          batch_size=130,\n",
        "         epochs=10)"
      ],
      "execution_count": 0,
      "outputs": [
        {
          "output_type": "stream",
          "text": [
            "Epoch 1/10\n",
            "9545/9545 [==============================] - 254s 27ms/step - loss: 0.2013 - accuracy: 0.9400 - val_loss: 0.1437 - val_accuracy: 0.9471\n",
            "Epoch 2/10\n",
            "9545/9545 [==============================] - 260s 27ms/step - loss: 0.1369 - accuracy: 0.9483 - val_loss: 0.1254 - val_accuracy: 0.9522\n",
            "Epoch 3/10\n",
            "9545/9545 [==============================] - 262s 27ms/step - loss: 0.1237 - accuracy: 0.9515 - val_loss: 0.1182 - val_accuracy: 0.9537\n",
            "Epoch 4/10\n",
            "9545/9545 [==============================] - 261s 27ms/step - loss: 0.1177 - accuracy: 0.9533 - val_loss: 0.1155 - val_accuracy: 0.9543\n",
            "Epoch 5/10\n",
            "9545/9545 [==============================] - 274s 29ms/step - loss: 0.1144 - accuracy: 0.9542 - val_loss: 0.1138 - val_accuracy: 0.9548\n",
            "Epoch 6/10\n",
            "9545/9545 [==============================] - 277s 29ms/step - loss: 0.1123 - accuracy: 0.9549 - val_loss: 0.1132 - val_accuracy: 0.9553\n",
            "Epoch 7/10\n",
            "9545/9545 [==============================] - 276s 29ms/step - loss: 0.1108 - accuracy: 0.9554 - val_loss: 0.1128 - val_accuracy: 0.9555\n",
            "Epoch 8/10\n",
            "9545/9545 [==============================] - 268s 28ms/step - loss: 0.1097 - accuracy: 0.9558 - val_loss: 0.1128 - val_accuracy: 0.9558\n",
            "Epoch 9/10\n",
            "9545/9545 [==============================] - 266s 28ms/step - loss: 0.1088 - accuracy: 0.9562 - val_loss: 0.1127 - val_accuracy: 0.9563\n",
            "Epoch 10/10\n",
            "9545/9545 [==============================] - 264s 28ms/step - loss: 0.1080 - accuracy: 0.9565 - val_loss: 0.1130 - val_accuracy: 0.9562\n",
            "CPU times: user 1h 12min 49s, sys: 2min 36s, total: 1h 15min 25s\n",
            "Wall time: 44min 22s\n"
          ],
          "name": "stdout"
        },
        {
          "output_type": "execute_result",
          "data": {
            "text/plain": [
              "<tensorflow.python.keras.callbacks.History at 0x7f2fa782d5c0>"
            ]
          },
          "metadata": {
            "tags": []
          },
          "execution_count": 84
        }
      ]
    },
    {
      "cell_type": "code",
      "metadata": {
        "id": "0UJIN7Z8mxrp",
        "colab_type": "code",
        "outputId": "b347cd36-1384-4dd4-ad47-b3095cd859c5",
        "colab": {
          "base_uri": "https://localhost:8080/",
          "height": 312
        }
      },
      "source": [
        "print(model.history.history.keys())\n",
        "plt.plot(model.history.history['accuracy'])\n",
        "plt.plot(model.history.history['val_accuracy'])\n",
        "plt.title('model binary_crossentropy')\n",
        "plt.ylabel('accuracy')\n",
        "plt.xlabel('epoch')\n",
        "plt.legend(['train', 'val'], loc='upper left')\n",
        "plt.show()"
      ],
      "execution_count": 0,
      "outputs": [
        {
          "output_type": "stream",
          "text": [
            "dict_keys(['loss', 'accuracy', 'val_loss', 'val_accuracy'])\n"
          ],
          "name": "stdout"
        },
        {
          "output_type": "display_data",
          "data": {
            "image/png": "[encoded data removed]",
            "text/plain": [
              "<Figure size 432x288 with 1 Axes>"
            ]
          },
          "metadata": {
            "tags": [],
            "needs_background": "light"
          }
        }
      ]
    },
    {
      "cell_type": "code",
      "metadata": {
        "id": "YHH2BRuQm1qO",
        "colab_type": "code",
        "colab": {}
      },
      "source": [
        "preds = model.predict(X_valid).reshape(-1)"
      ],
      "execution_count": 0,
      "outputs": []
    },
    {
      "cell_type": "code",
      "metadata": {
        "id": "LFkp6rOHm7Jf",
        "colab_type": "code",
        "outputId": "0e113781-29ed-4b6b-92e0-8b0a3664670d",
        "colab": {
          "base_uri": "https://localhost:8080/",
          "height": 170
        }
      },
      "source": [
        "print(classification_report(y_valid, (preds > 0.5).astype(int)))"
      ],
      "execution_count": 0,
      "outputs": [
        {
          "output_type": "stream",
          "text": [
            "              precision    recall  f1-score   support\n",
            "\n",
            "           0       0.97      0.98      0.98     61365\n",
            "           1       0.66      0.56      0.61      3942\n",
            "\n",
            "    accuracy                           0.96     65307\n",
            "   macro avg       0.82      0.77      0.79     65307\n",
            "weighted avg       0.95      0.96      0.95     65307\n",
            "\n"
          ],
          "name": "stdout"
        }
      ]
    },
    {
      "cell_type": "markdown",
      "metadata": {
        "id": "HM3drKeZDfCX",
        "colab_type": "text"
      },
      "source": [
        "### в) Складывание эмбедингов"
      ]
    },
    {
      "cell_type": "code",
      "metadata": {
        "id": "NuT6mYOxPKCi",
        "colab_type": "code",
        "colab": {}
      },
      "source": [
        "inputs = tf.keras.layers.Input(shape=(MAX_LEN,))\n",
        "\n",
        "embeddings = tf.keras.layers.Embedding(input_dim=len(word2id), output_dim=100)(inputs)\n",
        "summ = tf.keras.layers.Lambda(lambda x: tf.keras.backend.sum(x,  axis=1))(embeddings)\n",
        "dense = tf.keras.layers.Dense(64, activation='relu')(summ)\n",
        "dense = tf.keras.layers.Dense(64, activation='relu')(summ)\n",
        "outputs = tf.keras.layers.Dense(1, activation='sigmoid')(dense)\n",
        "\n",
        "model = tf.keras.Model(inputs=inputs, outputs=outputs)\n",
        "optimizer = tf.keras.optimizers.Adam(learning_rate=0.0001)\n",
        "model.compile(optimizer=optimizer,\n",
        "              loss='binary_crossentropy',\n",
        "              metrics=['accuracy'])"
      ],
      "execution_count": 0,
      "outputs": []
    },
    {
      "cell_type": "code",
      "metadata": {
        "id": "9gWXqK5sPKCj",
        "colab_type": "code",
        "outputId": "68ed6aaf-8a0c-4ac9-a9a9-d25244e8de62",
        "colab": {
          "base_uri": "https://localhost:8080/",
          "height": 428
        }
      },
      "source": [
        "%%time\n",
        "model.fit(X_train, y_train, \n",
        "          validation_data=(X_valid, y_valid),\n",
        "          batch_size=150,\n",
        "         epochs=10)"
      ],
      "execution_count": 0,
      "outputs": [
        {
          "output_type": "stream",
          "text": [
            "Epoch 1/10\n",
            "8273/8273 [==============================] - 229s 28ms/step - loss: 0.1349 - accuracy: 0.9492 - val_loss: 0.1165 - val_accuracy: 0.9548\n",
            "Epoch 2/10\n",
            "8273/8273 [==============================] - 227s 27ms/step - loss: 0.1144 - accuracy: 0.9548 - val_loss: 0.1136 - val_accuracy: 0.9556\n",
            "Epoch 3/10\n",
            "8273/8273 [==============================] - 224s 27ms/step - loss: 0.1102 - accuracy: 0.9563 - val_loss: 0.1138 - val_accuracy: 0.9563\n",
            "Epoch 4/10\n",
            "8273/8273 [==============================] - 228s 28ms/step - loss: 0.1076 - accuracy: 0.9573 - val_loss: 0.1137 - val_accuracy: 0.9556\n",
            "Epoch 5/10\n",
            "8273/8273 [==============================] - 232s 28ms/step - loss: 0.1055 - accuracy: 0.9581 - val_loss: 0.1134 - val_accuracy: 0.9557\n",
            "Epoch 6/10\n",
            "8273/8273 [==============================] - 237s 29ms/step - loss: 0.1036 - accuracy: 0.9590 - val_loss: 0.1209 - val_accuracy: 0.9534\n",
            "Epoch 7/10\n",
            "8273/8273 [==============================] - 236s 29ms/step - loss: 0.1014 - accuracy: 0.9598 - val_loss: 0.1170 - val_accuracy: 0.9557\n",
            "Epoch 8/10\n",
            "8273/8273 [==============================] - 221s 27ms/step - loss: 0.0993 - accuracy: 0.9608 - val_loss: 0.1142 - val_accuracy: 0.9566\n",
            "Epoch 9/10\n",
            "8273/8273 [==============================] - 227s 27ms/step - loss: 0.0971 - accuracy: 0.9618 - val_loss: 0.1154 - val_accuracy: 0.9555\n",
            "Epoch 10/10\n",
            "8273/8273 [==============================] - 234s 28ms/step - loss: 0.0949 - accuracy: 0.9627 - val_loss: 0.1155 - val_accuracy: 0.9552\n",
            "CPU times: user 1h 2min 52s, sys: 1min 58s, total: 1h 4min 50s\n",
            "Wall time: 38min 15s\n"
          ],
          "name": "stdout"
        },
        {
          "output_type": "execute_result",
          "data": {
            "text/plain": [
              "<tensorflow.python.keras.callbacks.History at 0x7f2f38bb0a20>"
            ]
          },
          "metadata": {
            "tags": []
          },
          "execution_count": 99
        }
      ]
    },
    {
      "cell_type": "code",
      "metadata": {
        "id": "fHKAheDSFgrg",
        "colab_type": "code",
        "outputId": "85596481-f772-437e-b0f1-5032e3beca97",
        "colab": {
          "base_uri": "https://localhost:8080/",
          "height": 312
        }
      },
      "source": [
        "print(model.history.history.keys())\n",
        "plt.plot(model.history.history['accuracy'])\n",
        "plt.plot(model.history.history['val_accuracy'])\n",
        "plt.title('model binary_crossentropy')\n",
        "plt.ylabel('accuracy')\n",
        "plt.xlabel('epoch')\n",
        "plt.legend(['train', 'val'], loc='upper left')\n",
        "plt.show()"
      ],
      "execution_count": 0,
      "outputs": [
        {
          "output_type": "stream",
          "text": [
            "dict_keys(['loss', 'accuracy', 'val_loss', 'val_accuracy'])\n"
          ],
          "name": "stdout"
        },
        {
          "output_type": "display_data",
          "data": {
            "image/png": "[encoded data removed]",
            "text/plain": [
              "<Figure size 432x288 with 1 Axes>"
            ]
          },
          "metadata": {
            "tags": [],
            "needs_background": "light"
          }
        }
      ]
    },
    {
      "cell_type": "code",
      "metadata": {
        "id": "9_EDDUbGFot7",
        "colab_type": "code",
        "colab": {}
      },
      "source": [
        "preds = model.predict(X_valid).reshape(-1)"
      ],
      "execution_count": 0,
      "outputs": []
    },
    {
      "cell_type": "code",
      "metadata": {
        "id": "lqZ3VM--Fr1m",
        "colab_type": "code",
        "outputId": "b6bbe8ce-32d9-497a-90bd-1ab1683e8802",
        "colab": {
          "base_uri": "https://localhost:8080/",
          "height": 170
        }
      },
      "source": [
        "print(classification_report(y_valid, (preds > 0.5).astype(int)))"
      ],
      "execution_count": 0,
      "outputs": [
        {
          "output_type": "stream",
          "text": [
            "              precision    recall  f1-score   support\n",
            "\n",
            "           0       0.97      0.99      0.98     61365\n",
            "           1       0.70      0.44      0.55      3942\n",
            "\n",
            "    accuracy                           0.96     65307\n",
            "   macro avg       0.83      0.72      0.76     65307\n",
            "weighted avg       0.95      0.96      0.95     65307\n",
            "\n"
          ],
          "name": "stdout"
        }
      ]
    },
    {
      "cell_type": "markdown",
      "metadata": {
        "id": "au_9PTTPu4iY",
        "colab_type": "text"
      },
      "source": [
        "Если судить по графикам, то лучше всего справилось усреднение эмбедингов – там график выглядит адекватнее всего, валидация не падает. По метрикам усредненение эмбедингов тоже, кажется, справилось лучше всего. Попробуем применить разные параметры и посмотреть, сможем ли мы за счет них улучшить метрики для конкатенации и складывания эмбедингов."
      ]
    },
    {
      "cell_type": "code",
      "metadata": {
        "id": "4_vQox9TcbLY",
        "colab_type": "code",
        "colab": {}
      },
      "source": [
        "#конкатенация: пробуем применить regularizers, сделать разные юниты у Dense и увеличить число слоев\n",
        "\n",
        "inputs = tf.keras.layers.Input(shape=(MAX_LEN,))\n",
        "\n",
        "embeddings = tf.keras.layers.Embedding(input_dim=len(word2id), output_dim=100, \\\n",
        "                                       embeddings_regularizer=tf.keras.regularizers.l1_l2(l1=0.01, l2=0.01), \\\n",
        "                                       activity_regularizer=tf.keras.regularizers.l1_l2(l1=0.01, l2=0.01))(inputs)\n",
        "flat = tf.keras.layers.Flatten()(embeddings)\n",
        "dense = tf.keras.layers.Dense(100, activation='relu', activity_regularizer=tf.keras.regularizers.l1_l2(l1=0.01, l2=0.01))(flat)\n",
        "dense = tf.keras.layers.Dense(70, activation='relu', activity_regularizer=tf.keras.regularizers.l1_l2(l1=0.01, l2=0.01))(flat)\n",
        "dense = tf.keras.layers.Dense(40, activation='relu', activity_regularizer=tf.keras.regularizers.l1_l2(l1=0.01, l2=0.01))(flat)\n",
        "outputs = tf.keras.layers.Dense(1, activation='sigmoid', activity_regularizer=tf.keras.regularizers.l1_l2(l1=0.01, l2=0.01))(dense)\n",
        "\n",
        "model = tf.keras.Model(inputs=inputs, outputs=outputs)\n",
        "optimizer = tf.keras.optimizers.Adam(learning_rate=0.0001)\n",
        "model.compile(optimizer=optimizer,\n",
        "              loss='binary_crossentropy',\n",
        "              metrics=['accuracy'])\n",
        "\n"
      ],
      "execution_count": 0,
      "outputs": []
    },
    {
      "cell_type": "code",
      "metadata": {
        "id": "EVhr8c8IcqFw",
        "colab_type": "code",
        "colab": {
          "base_uri": "https://localhost:8080/",
          "height": 462
        },
        "outputId": "cba7de9c-4072-449e-9406-e7e1c419689a"
      },
      "source": [
        "%%time\n",
        "model.fit(X_train, y_train, \n",
        "          validation_data=(X_valid, y_valid),\n",
        "          batch_size=300, #размер батча побольше, чтобы модель побыстрее отработала\n",
        "         epochs=10)"
      ],
      "execution_count": 47,
      "outputs": [
        {
          "output_type": "stream",
          "text": [
            "Epoch 1/10\n"
          ],
          "name": "stdout"
        },
        {
          "output_type": "stream",
          "text": [
            "/usr/local/lib/python3.6/dist-packages/tensorflow/python/framework/indexed_slices.py:434: UserWarning: Converting sparse IndexedSlices to a dense Tensor of unknown shape. This may consume a large amount of memory.\n",
            "  \"Converting sparse IndexedSlices to a dense Tensor of unknown shape. \"\n"
          ],
          "name": "stderr"
        },
        {
          "output_type": "stream",
          "text": [
            "4137/4137 [==============================] - 454s 110ms/step - loss: 25.1725 - accuracy: 0.9380 - val_loss: 0.5648 - val_accuracy: 0.9396\n",
            "Epoch 2/10\n",
            "4137/4137 [==============================] - 454s 110ms/step - loss: 0.5372 - accuracy: 0.9381 - val_loss: 0.5119 - val_accuracy: 0.9399\n",
            "Epoch 3/10\n",
            "4137/4137 [==============================] - 458s 111ms/step - loss: 0.5007 - accuracy: 0.9385 - val_loss: 0.4833 - val_accuracy: 0.9407\n",
            "Epoch 4/10\n",
            "4137/4137 [==============================] - 444s 107ms/step - loss: 0.4760 - accuracy: 0.9393 - val_loss: 0.4617 - val_accuracy: 0.9418\n",
            "Epoch 5/10\n",
            "4137/4137 [==============================] - 444s 107ms/step - loss: 0.4590 - accuracy: 0.9406 - val_loss: 0.4495 - val_accuracy: 0.9434\n",
            "Epoch 6/10\n",
            "4137/4137 [==============================] - 446s 108ms/step - loss: 0.4492 - accuracy: 0.9423 - val_loss: 0.4428 - val_accuracy: 0.9452\n",
            "Epoch 7/10\n",
            "4137/4137 [==============================] - 450s 109ms/step - loss: 0.4439 - accuracy: 0.9437 - val_loss: 0.4389 - val_accuracy: 0.9463\n",
            "Epoch 8/10\n",
            "4137/4137 [==============================] - 452s 109ms/step - loss: 0.4409 - accuracy: 0.9447 - val_loss: 0.4356 - val_accuracy: 0.9468\n",
            "Epoch 9/10\n",
            "4137/4137 [==============================] - 444s 107ms/step - loss: 0.4388 - accuracy: 0.9454 - val_loss: 0.4347 - val_accuracy: 0.9481\n",
            "Epoch 10/10\n",
            "4137/4137 [==============================] - 457s 111ms/step - loss: 0.4369 - accuracy: 0.9460 - val_loss: 0.4331 - val_accuracy: 0.9484\n",
            "CPU times: user 2h 12min 10s, sys: 2min 53s, total: 2h 15min 4s\n",
            "Wall time: 1h 15min 5s\n"
          ],
          "name": "stdout"
        },
        {
          "output_type": "execute_result",
          "data": {
            "text/plain": [
              "<tensorflow.python.keras.callbacks.History at 0x7f0a589514e0>"
            ]
          },
          "metadata": {
            "tags": []
          },
          "execution_count": 47
        }
      ]
    },
    {
      "cell_type": "code",
      "metadata": {
        "id": "si9iqS_1ctyD",
        "colab_type": "code",
        "colab": {
          "base_uri": "https://localhost:8080/",
          "height": 312
        },
        "outputId": "4fbe9409-649d-451d-9700-822c05defcee"
      },
      "source": [
        "print(model.history.history.keys())\n",
        "plt.plot(model.history.history['accuracy'])\n",
        "plt.plot(model.history.history['val_accuracy'])\n",
        "plt.title('model binary_crossentropy')\n",
        "plt.ylabel('accuracy')\n",
        "plt.xlabel('epoch')\n",
        "plt.legend(['train', 'val'], loc='upper left')\n",
        "plt.show()"
      ],
      "execution_count": 48,
      "outputs": [
        {
          "output_type": "stream",
          "text": [
            "dict_keys(['loss', 'accuracy', 'val_loss', 'val_accuracy'])\n"
          ],
          "name": "stdout"
        },
        {
          "output_type": "display_data",
          "data": {
            "image/png": "[encoded data removed]",
            "text/plain": [
              "<Figure size 432x288 with 1 Axes>"
            ]
          },
          "metadata": {
            "tags": [],
            "needs_background": "light"
          }
        }
      ]
    },
    {
      "cell_type": "code",
      "metadata": {
        "id": "bFh-uRaJcw9c",
        "colab_type": "code",
        "colab": {}
      },
      "source": [
        "preds = model.predict(X_valid).reshape(-1)"
      ],
      "execution_count": 0,
      "outputs": []
    },
    {
      "cell_type": "code",
      "metadata": {
        "id": "iYajiSavczRi",
        "colab_type": "code",
        "colab": {
          "base_uri": "https://localhost:8080/",
          "height": 170
        },
        "outputId": "67a0429d-ba90-47b4-e197-917a137235da"
      },
      "source": [
        "print(classification_report(y_valid, (preds > 0.5).astype(int)))"
      ],
      "execution_count": 50,
      "outputs": [
        {
          "output_type": "stream",
          "text": [
            "              precision    recall  f1-score   support\n",
            "\n",
            "           0       0.95      0.99      0.97     61365\n",
            "           1       0.69      0.27      0.38      3942\n",
            "\n",
            "    accuracy                           0.95     65307\n",
            "   macro avg       0.82      0.63      0.68     65307\n",
            "weighted avg       0.94      0.95      0.94     65307\n",
            "\n"
          ],
          "name": "stdout"
        }
      ]
    },
    {
      "cell_type": "markdown",
      "metadata": {
        "id": "3B-9qitD1gn_",
        "colab_type": "text"
      },
      "source": [
        "График стал адекватнее, потому что валидация перестала падать, но некоторые метрики чуть-чуть ухудшились, что, возможно, связано с увеличением размера батча или добавлением некоторых новых параметров. Попробуем еще что-то сделать со сложением эмбедингов"
      ]
    },
    {
      "cell_type": "code",
      "metadata": {
        "id": "T69aukOf8rm_",
        "colab_type": "code",
        "colab": {}
      },
      "source": [
        "inputs = tf.keras.layers.Input(shape=(MAX_LEN,))\n",
        "\n",
        "embeddings = tf.keras.layers.Embedding(input_dim=len(word2id), output_dim=100, \\\n",
        "                                       embeddings_regularizer=tf.keras.regularizers.l1_l2(l1=0.01, l2=0.01), \\\n",
        "                                       activity_regularizer=tf.keras.regularizers.l1_l2(l1=0.01, l2=0.01))(inputs)\n",
        "summ = tf.keras.layers.Lambda(lambda x: tf.keras.backend.sum(x,  axis=1))(embeddings)\n",
        "dense = tf.keras.layers.Dense(100, activation='relu')(summ)\n",
        "dense = tf.keras.layers.Dense(65, activation='relu')(summ)\n",
        "dense = tf.keras.layers.Dense(20, activation='relu')(summ)\n",
        "outputs = tf.keras.layers.Dense(1, activation='sigmoid')(dense)\n",
        "\n",
        "model = tf.keras.Model(inputs=inputs, outputs=outputs)\n",
        "optimizer = tf.keras.optimizers.Adam(learning_rate=0.0001)\n",
        "model.compile(optimizer=optimizer,\n",
        "              loss='binary_crossentropy',\n",
        "              metrics=['accuracy'])"
      ],
      "execution_count": 0,
      "outputs": []
    },
    {
      "cell_type": "code",
      "metadata": {
        "id": "6Tu8iwJu8zdr",
        "colab_type": "code",
        "colab": {
          "base_uri": "https://localhost:8080/",
          "height": 462
        },
        "outputId": "315d34e4-5191-4fa5-f634-f89edb814c86"
      },
      "source": [
        "%%time\n",
        "model.fit(X_train, y_train, \n",
        "          validation_data=(X_valid, y_valid),\n",
        "          batch_size=400, #размер батча побольше, чтобы модель побыстрее отработала\n",
        "         epochs=10)"
      ],
      "execution_count": 57,
      "outputs": [
        {
          "output_type": "stream",
          "text": [
            "Epoch 1/10\n"
          ],
          "name": "stdout"
        },
        {
          "output_type": "stream",
          "text": [
            "/usr/local/lib/python3.6/dist-packages/tensorflow/python/framework/indexed_slices.py:434: UserWarning: Converting sparse IndexedSlices to a dense Tensor of unknown shape. This may consume a large amount of memory.\n",
            "  \"Converting sparse IndexedSlices to a dense Tensor of unknown shape. \"\n"
          ],
          "name": "stderr"
        },
        {
          "output_type": "stream",
          "text": [
            "3103/3103 [==============================] - 312s 101ms/step - loss: 33.2651 - accuracy: 0.9381 - val_loss: 0.4882 - val_accuracy: 0.9396\n",
            "Epoch 2/10\n",
            "3103/3103 [==============================] - 320s 103ms/step - loss: 0.4778 - accuracy: 0.9381 - val_loss: 0.4620 - val_accuracy: 0.9402\n",
            "Epoch 3/10\n",
            "3103/3103 [==============================] - 327s 106ms/step - loss: 0.4592 - accuracy: 0.9388 - val_loss: 0.4481 - val_accuracy: 0.9418\n",
            "Epoch 4/10\n",
            "3103/3103 [==============================] - 341s 110ms/step - loss: 0.4471 - accuracy: 0.9404 - val_loss: 0.4389 - val_accuracy: 0.9428\n",
            "Epoch 5/10\n",
            "3103/3103 [==============================] - 322s 104ms/step - loss: 0.4397 - accuracy: 0.9420 - val_loss: 0.4323 - val_accuracy: 0.9453\n",
            "Epoch 6/10\n",
            "3103/3103 [==============================] - 309s 100ms/step - loss: 0.4343 - accuracy: 0.9431 - val_loss: 0.4288 - val_accuracy: 0.9452\n",
            "Epoch 7/10\n",
            "3103/3103 [==============================] - 313s 101ms/step - loss: 0.4304 - accuracy: 0.9440 - val_loss: 0.4260 - val_accuracy: 0.9463\n",
            "Epoch 8/10\n",
            "3103/3103 [==============================] - 316s 102ms/step - loss: 0.4274 - accuracy: 0.9445 - val_loss: 0.4246 - val_accuracy: 0.9466\n",
            "Epoch 9/10\n",
            "3103/3103 [==============================] - 312s 101ms/step - loss: 0.4254 - accuracy: 0.9451 - val_loss: 0.4263 - val_accuracy: 0.9463\n",
            "Epoch 10/10\n",
            "3103/3103 [==============================] - 318s 103ms/step - loss: 0.4238 - accuracy: 0.9454 - val_loss: 0.4177 - val_accuracy: 0.9473\n",
            "CPU times: user 1h 31min 46s, sys: 2min 32s, total: 1h 34min 18s\n",
            "Wall time: 53min 13s\n"
          ],
          "name": "stdout"
        },
        {
          "output_type": "execute_result",
          "data": {
            "text/plain": [
              "<tensorflow.python.keras.callbacks.History at 0x7f0a5327c208>"
            ]
          },
          "metadata": {
            "tags": []
          },
          "execution_count": 57
        }
      ]
    },
    {
      "cell_type": "code",
      "metadata": {
        "id": "z461bLrw82Jf",
        "colab_type": "code",
        "colab": {
          "base_uri": "https://localhost:8080/",
          "height": 312
        },
        "outputId": "7b09649e-b7ab-467e-c5c3-632419fbae4e"
      },
      "source": [
        "print(model.history.history.keys())\n",
        "plt.plot(model.history.history['accuracy'])\n",
        "plt.plot(model.history.history['val_accuracy'])\n",
        "plt.title('model binary_crossentropy')\n",
        "plt.ylabel('accuracy')\n",
        "plt.xlabel('epoch')\n",
        "plt.legend(['train', 'val'], loc='upper left')\n",
        "plt.show()"
      ],
      "execution_count": 58,
      "outputs": [
        {
          "output_type": "stream",
          "text": [
            "dict_keys(['loss', 'accuracy', 'val_loss', 'val_accuracy'])\n"
          ],
          "name": "stdout"
        },
        {
          "output_type": "display_data",
          "data": {
            "image/png": "[encoded data removed]",
            "text/plain": [
              "<Figure size 432x288 with 1 Axes>"
            ]
          },
          "metadata": {
            "tags": [],
            "needs_background": "light"
          }
        }
      ]
    },
    {
      "cell_type": "code",
      "metadata": {
        "id": "GDiJyAvc84i2",
        "colab_type": "code",
        "colab": {}
      },
      "source": [
        "preds = model.predict(X_valid).reshape(-1)"
      ],
      "execution_count": 0,
      "outputs": []
    },
    {
      "cell_type": "code",
      "metadata": {
        "id": "kNzktsrI86cn",
        "colab_type": "code",
        "colab": {
          "base_uri": "https://localhost:8080/",
          "height": 170
        },
        "outputId": "4c25e3c1-d7bb-4c67-c5a8-47535b25a5b0"
      },
      "source": [
        "print(classification_report(y_valid, (preds > 0.5).astype(int)))"
      ],
      "execution_count": 60,
      "outputs": [
        {
          "output_type": "stream",
          "text": [
            "              precision    recall  f1-score   support\n",
            "\n",
            "           0       0.95      0.99      0.97     61365\n",
            "           1       0.69      0.23      0.34      3942\n",
            "\n",
            "    accuracy                           0.95     65307\n",
            "   macro avg       0.82      0.61      0.66     65307\n",
            "weighted avg       0.94      0.95      0.93     65307\n",
            "\n"
          ],
          "name": "stdout"
        }
      ]
    },
    {
      "cell_type": "markdown",
      "metadata": {
        "id": "uGBSO1rBaTWZ",
        "colab_type": "text"
      },
      "source": [
        "Тут тоже с валидацией, кажется, стало получше, и она перестала падать. Очевидно, регуляризаторы помогают, но меня несколько смущает то, что валидация выше трейна и в том, и в другом случае."
      ]
    },
    {
      "cell_type": "markdown",
      "metadata": {
        "id": "7qp3Na-KFsdk",
        "colab_type": "text"
      },
      "source": [
        "## Задание 2."
      ]
    },
    {
      "cell_type": "code",
      "metadata": {
        "id": "1_LaUuBTPKCp",
        "colab_type": "code",
        "colab": {}
      },
      "source": [
        "import gensim\n",
        "from gensim.models import FastText\n",
        "from gensim.models import Word2Vec"
      ],
      "execution_count": 0,
      "outputs": []
    },
    {
      "cell_type": "code",
      "metadata": {
        "id": "wkHDXTuoPKCq",
        "colab_type": "code",
        "colab": {}
      },
      "source": [
        "texts = quora.question_text.apply(preprocess).tolist()"
      ],
      "execution_count": 0,
      "outputs": []
    },
    {
      "cell_type": "code",
      "metadata": {
        "id": "rSrGSKvkPKCs",
        "colab_type": "code",
        "outputId": "1d107621-b5ac-43eb-e57b-c4e3cf11132c",
        "colab": {
          "base_uri": "https://localhost:8080/",
          "height": 51
        }
      },
      "source": [
        "%%time\n",
        "fasttext = FastText(texts, size=100, window=3, iter=2)\n",
        "w2v = Word2Vec(texts, size=100, window=3, iter=2)"
      ],
      "execution_count": 10,
      "outputs": [
        {
          "output_type": "stream",
          "text": [
            "CPU times: user 6min 23s, sys: 2.01 s, total: 6min 25s\n",
            "Wall time: 3min 41s\n"
          ],
          "name": "stdout"
        }
      ]
    },
    {
      "cell_type": "code",
      "metadata": {
        "id": "DTWJlo5iPKCu",
        "colab_type": "code",
        "outputId": "03d83ed1-e7d3-4950-ccb1-f0a6ca51d75c",
        "colab": {
          "base_uri": "https://localhost:8080/",
          "height": 275
        }
      },
      "source": [
        "fasttext.most_similar('star')"
      ],
      "execution_count": 13,
      "outputs": [
        {
          "output_type": "stream",
          "text": [
            "/usr/local/lib/python3.6/dist-packages/ipykernel_launcher.py:1: DeprecationWarning: Call to deprecated `most_similar` (Method will be removed in 4.0.0, use self.wv.most_similar() instead).\n",
            "  \"\"\"Entry point for launching an IPython kernel.\n",
            "/usr/local/lib/python3.6/dist-packages/gensim/matutils.py:737: FutureWarning: Conversion of the second argument of issubdtype from `int` to `np.signedinteger` is deprecated. In future, it will be treated as `np.int64 == np.dtype(int).type`.\n",
            "  if np.issubdtype(vec.dtype, np.int):\n"
          ],
          "name": "stderr"
        },
        {
          "output_type": "execute_result",
          "data": {
            "text/plain": [
              "[('5-star', 0.9608129262924194),\n",
              " ('starc', 0.9255099892616272),\n",
              " ('stark', 0.9194779396057129),\n",
              " ('starr', 0.9088133573532104),\n",
              " ('rockstar', 0.9032350182533264),\n",
              " ('starcraft', 0.8889644742012024),\n",
              " ('onstar', 0.8889575004577637),\n",
              " ('starfire', 0.8888615369796753),\n",
              " ('stardom', 0.8874017000198364),\n",
              " ('stardew', 0.8848877549171448)]"
            ]
          },
          "metadata": {
            "tags": []
          },
          "execution_count": 13
        }
      ]
    },
    {
      "cell_type": "code",
      "metadata": {
        "id": "uoxvRg_XXN1m",
        "colab_type": "code",
        "colab": {
          "base_uri": "https://localhost:8080/",
          "height": 275
        },
        "outputId": "33b438bf-78a6-4a9b-9f7a-fc0ccc082f36"
      },
      "source": [
        "w2v.most_similar('star')"
      ],
      "execution_count": 23,
      "outputs": [
        {
          "output_type": "stream",
          "text": [
            "/usr/local/lib/python3.6/dist-packages/ipykernel_launcher.py:1: DeprecationWarning: Call to deprecated `most_similar` (Method will be removed in 4.0.0, use self.wv.most_similar() instead).\n",
            "  \"\"\"Entry point for launching an IPython kernel.\n",
            "/usr/local/lib/python3.6/dist-packages/gensim/matutils.py:737: FutureWarning: Conversion of the second argument of issubdtype from `int` to `np.signedinteger` is deprecated. In future, it will be treated as `np.int64 == np.dtype(int).type`.\n",
            "  if np.issubdtype(vec.dtype, np.int):\n"
          ],
          "name": "stderr"
        },
        {
          "output_type": "execute_result",
          "data": {
            "text/plain": [
              "[('marvel', 0.7417364120483398),\n",
              " ('wars', 0.7352331280708313),\n",
              " ('clone', 0.7193706035614014),\n",
              " ('naruto', 0.7189288139343262),\n",
              " ('avengers', 0.712352991104126),\n",
              " ('mcu', 0.7099201083183289),\n",
              " ('trek', 0.7020530700683594),\n",
              " ('comics', 0.6889388561248779),\n",
              " ('superhero', 0.6751447916030884),\n",
              " ('episode', 0.666731595993042)]"
            ]
          },
          "metadata": {
            "tags": []
          },
          "execution_count": 23
        }
      ]
    },
    {
      "cell_type": "code",
      "metadata": {
        "id": "J1jRtfnGPKCw",
        "colab_type": "code",
        "outputId": "615b9c40-a86b-435b-b67d-4819bc4d11aa",
        "colab": {
          "base_uri": "https://localhost:8080/",
          "height": 122
        }
      },
      "source": [
        "weights_w2v = np.zeros((len(word2id), 100))\n",
        "\n",
        "for word, i in word2id.items():\n",
        "    if word == 'PAD':\n",
        "        continue\n",
        "    \n",
        "    if word == 'UNK':\n",
        "        weights_w2v[i] = fasttext['lsjfoigjhgweoirpwjgs']\n",
        "    \n",
        "    try:\n",
        "        weights_w2v[i] = fasttext[word]\n",
        "    \n",
        "    \n",
        "    except KeyError:\n",
        "        weights_w2v[i] = fasttext['kfoeugnhsljif']"
      ],
      "execution_count": 27,
      "outputs": [
        {
          "output_type": "stream",
          "text": [
            "/usr/local/lib/python3.6/dist-packages/ipykernel_launcher.py:10: DeprecationWarning: Call to deprecated `__getitem__` (Method will be removed in 4.0.0, use self.wv.__getitem__() instead).\n",
            "  # Remove the CWD from sys.path while we load stuff.\n",
            "/usr/local/lib/python3.6/dist-packages/ipykernel_launcher.py:13: DeprecationWarning: Call to deprecated `__getitem__` (Method will be removed in 4.0.0, use self.wv.__getitem__() instead).\n",
            "  del sys.path[0]\n",
            "/usr/local/lib/python3.6/dist-packages/ipykernel_launcher.py:18: DeprecationWarning: Call to deprecated `__getitem__` (Method will be removed in 4.0.0, use self.wv.__getitem__() instead).\n"
          ],
          "name": "stderr"
        }
      ]
    },
    {
      "cell_type": "code",
      "metadata": {
        "id": "VFrE0gb8XmuU",
        "colab_type": "code",
        "colab": {
          "base_uri": "https://localhost:8080/",
          "height": 122
        },
        "outputId": "0eadf018-40fc-4a25-c549-2169e7c1fade"
      },
      "source": [
        "weights_ft = np.zeros((len(word2id), 100))\n",
        "\n",
        "for word, i in word2id.items():\n",
        "    if word == 'PAD':\n",
        "        continue\n",
        "    \n",
        "    if word == 'UNK':\n",
        "        weights_ft[i] = fasttext['lsjfoigjhgweoirpwjgs']\n",
        "    \n",
        "    try:\n",
        "        weights_ft[i] = fasttext[word]\n",
        "    \n",
        "    \n",
        "    except KeyError:\n",
        "        weights_ft[i] = fasttext['kfoeugnhsljif']"
      ],
      "execution_count": 26,
      "outputs": [
        {
          "output_type": "stream",
          "text": [
            "/usr/local/lib/python3.6/dist-packages/ipykernel_launcher.py:10: DeprecationWarning: Call to deprecated `__getitem__` (Method will be removed in 4.0.0, use self.wv.__getitem__() instead).\n",
            "  # Remove the CWD from sys.path while we load stuff.\n",
            "/usr/local/lib/python3.6/dist-packages/ipykernel_launcher.py:13: DeprecationWarning: Call to deprecated `__getitem__` (Method will be removed in 4.0.0, use self.wv.__getitem__() instead).\n",
            "  del sys.path[0]\n",
            "/usr/local/lib/python3.6/dist-packages/ipykernel_launcher.py:18: DeprecationWarning: Call to deprecated `__getitem__` (Method will be removed in 4.0.0, use self.wv.__getitem__() instead).\n"
          ],
          "name": "stderr"
        }
      ]
    },
    {
      "cell_type": "markdown",
      "metadata": {
        "id": "o3q91nlWa-6T",
        "colab_type": "text"
      },
      "source": [
        "Попробуем Average"
      ]
    },
    {
      "cell_type": "code",
      "metadata": {
        "id": "xTnLNnilX07C",
        "colab_type": "code",
        "colab": {}
      },
      "source": [
        "inputs = tf.keras.layers.Input(shape=(MAX_LEN,))\n",
        "\n",
        "embeddings_ft = tf.keras.layers.Embedding(input_dim=len(word2id), output_dim=100, trainable=False, weights=[weights_ft])(inputs)\n",
        "embeddings_w2v = tf.keras.layers.Embedding(input_dim=len(word2id), output_dim=100, trainable=False, weights=[weights_w2v])(inputs)\n",
        "embeddings = tf.keras.layers.Average()([embeddings_ft, embeddings_w2v])\n",
        "\n",
        "mean = tf.keras.layers.Lambda(lambda x: tf.keras.backend.mean(x,  axis=1))(embeddings)\n",
        "dense = tf.keras.layers.Dense(100, activation='relu')(mean)\n",
        "dense = tf.keras.layers.Dense(100, activation='relu')(mean)\n",
        "outputs = tf.keras.layers.Dense(1, activation='sigmoid')(dense)\n",
        "\n",
        "model = tf.keras.Model(inputs=inputs, outputs=outputs)\n",
        "optimizer = tf.keras.optimizers.Adam(learning_rate=0.0001)\n",
        "model.compile(optimizer=optimizer,\n",
        "              loss='binary_crossentropy',\n",
        "              metrics=['accuracy'])"
      ],
      "execution_count": 0,
      "outputs": []
    },
    {
      "cell_type": "code",
      "metadata": {
        "id": "efsYhKIfZIDh",
        "colab_type": "code",
        "colab": {
          "base_uri": "https://localhost:8080/",
          "height": 408
        },
        "outputId": "79b8f3f5-cfeb-43e3-ad79-325ff20701b6"
      },
      "source": [
        "%%time\n",
        "model.fit(X_train, y_train, \n",
        "          validation_data=(X_valid, y_valid),\n",
        "          batch_size=150,\n",
        "         epochs=10)"
      ],
      "execution_count": 37,
      "outputs": [
        {
          "output_type": "stream",
          "text": [
            "Epoch 1/10\n",
            "8273/8273 [==============================] - 75s 9ms/step - loss: 0.1927 - accuracy: 0.9395 - val_loss: 0.1487 - val_accuracy: 0.9457\n",
            "Epoch 2/10\n",
            "8273/8273 [==============================] - 81s 10ms/step - loss: 0.1493 - accuracy: 0.9445 - val_loss: 0.1433 - val_accuracy: 0.9468\n",
            "Epoch 3/10\n",
            "8273/8273 [==============================] - 71s 9ms/step - loss: 0.1457 - accuracy: 0.9452 - val_loss: 0.1410 - val_accuracy: 0.9474\n",
            "Epoch 4/10\n",
            "8273/8273 [==============================] - 64s 8ms/step - loss: 0.1437 - accuracy: 0.9457 - val_loss: 0.1391 - val_accuracy: 0.9477\n",
            "Epoch 5/10\n",
            "8273/8273 [==============================] - 66s 8ms/step - loss: 0.1423 - accuracy: 0.9460 - val_loss: 0.1386 - val_accuracy: 0.9482\n",
            "Epoch 6/10\n",
            "8273/8273 [==============================] - 61s 7ms/step - loss: 0.1412 - accuracy: 0.9463 - val_loss: 0.1371 - val_accuracy: 0.9484\n",
            "Epoch 7/10\n",
            "8273/8273 [==============================] - 62s 7ms/step - loss: 0.1403 - accuracy: 0.9465 - val_loss: 0.1363 - val_accuracy: 0.9486\n",
            "Epoch 8/10\n",
            "8273/8273 [==============================] - 63s 8ms/step - loss: 0.1396 - accuracy: 0.9467 - val_loss: 0.1360 - val_accuracy: 0.9489\n",
            "Epoch 9/10\n",
            "8273/8273 [==============================] - 63s 8ms/step - loss: 0.1390 - accuracy: 0.9469 - val_loss: 0.1352 - val_accuracy: 0.9485\n",
            "Epoch 10/10\n",
            "8273/8273 [==============================] - 65s 8ms/step - loss: 0.1384 - accuracy: 0.9470 - val_loss: 0.1348 - val_accuracy: 0.9485\n",
            "CPU times: user 16min 40s, sys: 49 s, total: 17min 29s\n",
            "Wall time: 11min 12s\n"
          ],
          "name": "stdout"
        },
        {
          "output_type": "execute_result",
          "data": {
            "text/plain": [
              "<tensorflow.python.keras.callbacks.History at 0x7f0a5cfcf7b8>"
            ]
          },
          "metadata": {
            "tags": []
          },
          "execution_count": 37
        }
      ]
    },
    {
      "cell_type": "code",
      "metadata": {
        "id": "l9V_NK04bOMg",
        "colab_type": "code",
        "colab": {
          "base_uri": "https://localhost:8080/",
          "height": 312
        },
        "outputId": "b7129c18-f93b-482e-d482-640bef0bbbdc"
      },
      "source": [
        "print(model.history.history.keys())\n",
        "plt.plot(model.history.history['accuracy'])\n",
        "plt.plot(model.history.history['val_accuracy'])\n",
        "plt.title('model binary_crossentropy')\n",
        "plt.ylabel('accuracy')\n",
        "plt.xlabel('epoch')\n",
        "plt.legend(['train', 'val'], loc='upper left')\n",
        "plt.show()"
      ],
      "execution_count": 38,
      "outputs": [
        {
          "output_type": "stream",
          "text": [
            "dict_keys(['loss', 'accuracy', 'val_loss', 'val_accuracy'])\n"
          ],
          "name": "stdout"
        },
        {
          "output_type": "display_data",
          "data": {
            "image/png": "[encoded data removed]",
            "text/plain": [
              "<Figure size 432x288 with 1 Axes>"
            ]
          },
          "metadata": {
            "tags": [],
            "needs_background": "light"
          }
        }
      ]
    },
    {
      "cell_type": "code",
      "metadata": {
        "id": "COAPWjusbXJP",
        "colab_type": "code",
        "colab": {}
      },
      "source": [
        "preds = model.predict(X_valid).reshape(-1)"
      ],
      "execution_count": 0,
      "outputs": []
    },
    {
      "cell_type": "code",
      "metadata": {
        "id": "iPpGRsFWbaYR",
        "colab_type": "code",
        "colab": {
          "base_uri": "https://localhost:8080/",
          "height": 170
        },
        "outputId": "0e97d7a6-a213-4204-9370-2ebb88c9bc38"
      },
      "source": [
        "print(classification_report(y_valid, (preds > 0.5).astype(int)))"
      ],
      "execution_count": 40,
      "outputs": [
        {
          "output_type": "stream",
          "text": [
            "              precision    recall  f1-score   support\n",
            "\n",
            "           0       0.96      0.99      0.97     61365\n",
            "           1       0.66      0.30      0.41      3942\n",
            "\n",
            "    accuracy                           0.95     65307\n",
            "   macro avg       0.81      0.65      0.69     65307\n",
            "weighted avg       0.94      0.95      0.94     65307\n",
            "\n"
          ],
          "name": "stdout"
        }
      ]
    },
    {
      "cell_type": "markdown",
      "metadata": {
        "id": "2qI-hPykbCa6",
        "colab_type": "text"
      },
      "source": [
        "Попробуем Concatenate"
      ]
    },
    {
      "cell_type": "code",
      "metadata": {
        "id": "BopRtAgPbE_K",
        "colab_type": "code",
        "colab": {}
      },
      "source": [
        "inputs = tf.keras.layers.Input(shape=(MAX_LEN,))\n",
        "\n",
        "embeddings_ft = tf.keras.layers.Embedding(input_dim=len(word2id), output_dim=100, trainable=False, weights=[weights_ft])(inputs)\n",
        "embeddings_w2v = tf.keras.layers.Embedding(input_dim=len(word2id), output_dim=100, trainable=False, weights=[weights_w2v])(inputs)\n",
        "embeddings = tf.keras.layers.Concatenate()([embeddings_ft, embeddings_w2v])\n",
        "\n",
        "mean = tf.keras.layers.Lambda(lambda x: tf.keras.backend.mean(x,  axis=1))(embeddings)\n",
        "dense = tf.keras.layers.Dense(100, activation='relu')(mean)\n",
        "dense = tf.keras.layers.Dense(100, activation='relu')(mean)\n",
        "outputs = tf.keras.layers.Dense(1, activation='sigmoid')(dense)\n",
        "\n",
        "model = tf.keras.Model(inputs=inputs, outputs=outputs)\n",
        "optimizer = tf.keras.optimizers.Adam(learning_rate=0.0001)\n",
        "model.compile(optimizer=optimizer,\n",
        "              loss='binary_crossentropy',\n",
        "              metrics=['accuracy'])"
      ],
      "execution_count": 0,
      "outputs": []
    },
    {
      "cell_type": "code",
      "metadata": {
        "id": "KV3FtccebKoJ",
        "colab_type": "code",
        "colab": {
          "base_uri": "https://localhost:8080/",
          "height": 408
        },
        "outputId": "2ae01431-149e-4fc8-a1b4-7d66c14971f5"
      },
      "source": [
        "%%time\n",
        "model.fit(X_train, y_train, \n",
        "          validation_data=(X_valid, y_valid),\n",
        "          batch_size=150,\n",
        "         epochs=10)"
      ],
      "execution_count": 42,
      "outputs": [
        {
          "output_type": "stream",
          "text": [
            "Epoch 1/10\n",
            "8273/8273 [==============================] - 104s 13ms/step - loss: 0.1757 - accuracy: 0.9425 - val_loss: 0.1439 - val_accuracy: 0.9468\n",
            "Epoch 2/10\n",
            "8273/8273 [==============================] - 104s 13ms/step - loss: 0.1454 - accuracy: 0.9453 - val_loss: 0.1399 - val_accuracy: 0.9477\n",
            "Epoch 3/10\n",
            "8273/8273 [==============================] - 105s 13ms/step - loss: 0.1426 - accuracy: 0.9461 - val_loss: 0.1383 - val_accuracy: 0.9479\n",
            "Epoch 4/10\n",
            "8273/8273 [==============================] - 108s 13ms/step - loss: 0.1409 - accuracy: 0.9465 - val_loss: 0.1366 - val_accuracy: 0.9484\n",
            "Epoch 5/10\n",
            "8273/8273 [==============================] - 105s 13ms/step - loss: 0.1396 - accuracy: 0.9469 - val_loss: 0.1354 - val_accuracy: 0.9488\n",
            "Epoch 6/10\n",
            "8273/8273 [==============================] - 110s 13ms/step - loss: 0.1385 - accuracy: 0.9471 - val_loss: 0.1348 - val_accuracy: 0.9489\n",
            "Epoch 7/10\n",
            "8273/8273 [==============================] - 107s 13ms/step - loss: 0.1376 - accuracy: 0.9473 - val_loss: 0.1337 - val_accuracy: 0.9489\n",
            "Epoch 8/10\n",
            "8273/8273 [==============================] - 105s 13ms/step - loss: 0.1368 - accuracy: 0.9476 - val_loss: 0.1330 - val_accuracy: 0.9493\n",
            "Epoch 9/10\n",
            "8273/8273 [==============================] - 103s 12ms/step - loss: 0.1361 - accuracy: 0.9478 - val_loss: 0.1323 - val_accuracy: 0.9497\n",
            "Epoch 10/10\n",
            "8273/8273 [==============================] - 105s 13ms/step - loss: 0.1354 - accuracy: 0.9480 - val_loss: 0.1317 - val_accuracy: 0.9493\n",
            "CPU times: user 28min 13s, sys: 58.2 s, total: 29min 11s\n",
            "Wall time: 17min 35s\n"
          ],
          "name": "stdout"
        },
        {
          "output_type": "execute_result",
          "data": {
            "text/plain": [
              "<tensorflow.python.keras.callbacks.History at 0x7f0a598059e8>"
            ]
          },
          "metadata": {
            "tags": []
          },
          "execution_count": 42
        }
      ]
    },
    {
      "cell_type": "code",
      "metadata": {
        "id": "LG-qKVMzeSGs",
        "colab_type": "code",
        "colab": {
          "base_uri": "https://localhost:8080/",
          "height": 312
        },
        "outputId": "b1e9b67c-91c3-4787-bc3c-345df2bacebc"
      },
      "source": [
        "print(model.history.history.keys())\n",
        "plt.plot(model.history.history['accuracy'])\n",
        "plt.plot(model.history.history['val_accuracy'])\n",
        "plt.title('model binary_crossentropy')\n",
        "plt.ylabel('accuracy')\n",
        "plt.xlabel('epoch')\n",
        "plt.legend(['train', 'val'], loc='upper left')\n",
        "plt.show()"
      ],
      "execution_count": 43,
      "outputs": [
        {
          "output_type": "stream",
          "text": [
            "dict_keys(['loss', 'accuracy', 'val_loss', 'val_accuracy'])\n"
          ],
          "name": "stdout"
        },
        {
          "output_type": "display_data",
          "data": {
            "image/png": "[encoded data removed]",
            "text/plain": [
              "<Figure size 432x288 with 1 Axes>"
            ]
          },
          "metadata": {
            "tags": [],
            "needs_background": "light"
          }
        }
      ]
    },
    {
      "cell_type": "code",
      "metadata": {
        "id": "Y7a1rUHZeT9i",
        "colab_type": "code",
        "colab": {}
      },
      "source": [
        "preds = model.predict(X_valid).reshape(-1)"
      ],
      "execution_count": 0,
      "outputs": []
    },
    {
      "cell_type": "code",
      "metadata": {
        "id": "aCVJm5bKeVui",
        "colab_type": "code",
        "colab": {
          "base_uri": "https://localhost:8080/",
          "height": 170
        },
        "outputId": "47b82108-58fb-461d-c727-897de31467a6"
      },
      "source": [
        "print(classification_report(y_valid, (preds > 0.5).astype(int)))"
      ],
      "execution_count": 45,
      "outputs": [
        {
          "output_type": "stream",
          "text": [
            "              precision    recall  f1-score   support\n",
            "\n",
            "           0       0.96      0.99      0.97     61365\n",
            "           1       0.66      0.33      0.44      3942\n",
            "\n",
            "    accuracy                           0.95     65307\n",
            "   macro avg       0.81      0.66      0.71     65307\n",
            "weighted avg       0.94      0.95      0.94     65307\n",
            "\n"
          ],
          "name": "stdout"
        }
      ]
    },
    {
      "cell_type": "markdown",
      "metadata": {
        "id": "5o15_Axnim6K",
        "colab_type": "text"
      },
      "source": [
        "Метрики и графики у Average и Concatenate очень похожи, немного, правда, непонятно, нормально ли то, что валидация полностью превосходит трейн. В целом метрики у такого способа получились похуже, чем у усреднения эмбедингов из предыдущего задания"
      ]
    }
  ]
}