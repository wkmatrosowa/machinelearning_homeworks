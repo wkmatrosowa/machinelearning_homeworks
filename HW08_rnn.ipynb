{
  "nbformat": 4,
  "nbformat_minor": 0,
  "metadata": {
    "colab": {
      "name": "HW08_rnn.ipynb",
      "provenance": [],
      "collapsed_sections": [],
      "toc_visible": true,
      "include_colab_link": true
    },
    "kernelspec": {
      "name": "python3",
      "display_name": "Python 3"
    }
  },
  "cells": [
    {
      "cell_type": "markdown",
      "metadata": {
        "id": "view-in-github",
        "colab_type": "text"
      },
      "source": [
        "<a href=\"https://colab.research.google.com/github/wksmirnowa/machinelearning_homeworks/blob/master/HW08_rnn.ipynb\" target=\"_parent\"><img src=\"https://colab.research.google.com/assets/colab-badge.svg\" alt=\"Open In Colab\"/></a>"
      ]
    },
    {
      "cell_type": "markdown",
      "metadata": {
        "id": "HhDN699RqCZ_",
        "colab_type": "text"
      },
      "source": [
        "# Реккурентные нейронные сети"
      ]
    },
    {
      "cell_type": "code",
      "metadata": {
        "id": "P7DURgW0Ftzb",
        "colab_type": "code",
        "outputId": "4546bd1a-0770-4042-b9c2-9c13b8d5a352",
        "colab": {
          "base_uri": "https://localhost:8080/",
          "height": 119
        }
      },
      "source": [
        "import tensorflow as tf\n",
        "from tensorflow.keras.models import Sequential\n",
        "from tensorflow.keras.layers import Dense, Activation, Dropout, LSTM, GRU, Bidirectional, TimeDistributed, InputLayer, Embedding, Conv1D, Flatten, Concatenate, Input, concatenate\n",
        "from tensorflow.keras.preprocessing.sequence import pad_sequences\n",
        "from tensorflow.keras.utils import to_categorical\n",
        "from tensorflow.keras.models import Model\n",
        "\n",
        "import numpy as np\n",
        "from itertools import chain\n",
        "from sklearn.model_selection import train_test_split\n",
        "import matplotlib.pyplot as plt\n",
        "from collections import Counter\n",
        "import nltk\n",
        "nltk.download('punkt')\n",
        "nltk.download('treebank')\n",
        "from string import punctuation, ascii_lowercase\n",
        "punct = punctuation+'«»—…“”*№–'"
      ],
      "execution_count": 52,
      "outputs": [
        {
          "output_type": "stream",
          "text": [
            "[nltk_data] Downloading package punkt to /root/nltk_data...\n",
            "[nltk_data]   Package punkt is already up-to-date!\n",
            "[nltk_data] Downloading package stopwords to /root/nltk_data...\n",
            "[nltk_data]   Package stopwords is already up-to-date!\n",
            "[nltk_data] Downloading package treebank to /root/nltk_data...\n",
            "[nltk_data]   Package treebank is already up-to-date!\n"
          ],
          "name": "stdout"
        }
      ]
    },
    {
      "cell_type": "code",
      "metadata": {
        "id": "Pleghxf3J8DU",
        "colab_type": "code",
        "colab": {}
      },
      "source": [
        "from numpy.random import seed\n",
        "seed(0)\n",
        "from tensorflow.random import set_seed\n",
        "set_seed(0)"
      ],
      "execution_count": 0,
      "outputs": []
    },
    {
      "cell_type": "code",
      "metadata": {
        "id": "gw_TzFzHbYM7",
        "colab_type": "code",
        "colab": {}
      },
      "source": [
        "def model_picture(model):\n",
        "  print(model.history.history.keys())\n",
        "  plt.plot(model.history.history['accuracy'])\n",
        "  plt.plot(model.history.history['val_accuracy'])\n",
        "  plt.title('model categorical_crossentropy')\n",
        "  plt.ylabel('accuracy')\n",
        "  plt.xlabel('epoch')\n",
        "  plt.legend(['train', 'val'], loc='upper left')\n",
        "  plt.show()"
      ],
      "execution_count": 0,
      "outputs": []
    },
    {
      "cell_type": "code",
      "metadata": {
        "id": "zpdEYY8TrMTL",
        "colab_type": "code",
        "colab": {}
      },
      "source": [
        "tagged_sentences = nltk.corpus.treebank.tagged_sents()"
      ],
      "execution_count": 0,
      "outputs": []
    },
    {
      "cell_type": "code",
      "metadata": {
        "id": "2XgzWnhnrPdS",
        "colab_type": "code",
        "outputId": "c54b9ce5-080b-4e71-bd79-0c97edea69c4",
        "colab": {
          "base_uri": "https://localhost:8080/",
          "height": 323
        }
      },
      "source": [
        "tagged_sentences[0]"
      ],
      "execution_count": 0,
      "outputs": [
        {
          "output_type": "execute_result",
          "data": {
            "text/plain": [
              "[('Pierre', 'NNP'),\n",
              " ('Vinken', 'NNP'),\n",
              " (',', ','),\n",
              " ('61', 'CD'),\n",
              " ('years', 'NNS'),\n",
              " ('old', 'JJ'),\n",
              " (',', ','),\n",
              " ('will', 'MD'),\n",
              " ('join', 'VB'),\n",
              " ('the', 'DT'),\n",
              " ('board', 'NN'),\n",
              " ('as', 'IN'),\n",
              " ('a', 'DT'),\n",
              " ('nonexecutive', 'JJ'),\n",
              " ('director', 'NN'),\n",
              " ('Nov.', 'NNP'),\n",
              " ('29', 'CD'),\n",
              " ('.', '.')]"
            ]
          },
          "metadata": {
            "tags": []
          },
          "execution_count": 5
        }
      ]
    },
    {
      "cell_type": "code",
      "metadata": {
        "id": "GpOeKGzorn-K",
        "colab_type": "code",
        "colab": {}
      },
      "source": [
        "sentences, sentence_tags =[], [] \n",
        "for tagged_sentence in tagged_sentences:\n",
        "    sentence, tags = zip(*tagged_sentence)\n",
        "    sentences.append(sentence)\n",
        "    sentence_tags.append(tags)"
      ],
      "execution_count": 0,
      "outputs": []
    },
    {
      "cell_type": "code",
      "metadata": {
        "id": "ZwvfV0ArrbaJ",
        "colab_type": "code",
        "outputId": "0b428f1f-0299-42eb-bba5-ab527baf4c41",
        "colab": {
          "base_uri": "https://localhost:8080/",
          "height": 323
        }
      },
      "source": [
        "sentences[0]"
      ],
      "execution_count": 0,
      "outputs": [
        {
          "output_type": "execute_result",
          "data": {
            "text/plain": [
              "('Pierre',\n",
              " 'Vinken',\n",
              " ',',\n",
              " '61',\n",
              " 'years',\n",
              " 'old',\n",
              " ',',\n",
              " 'will',\n",
              " 'join',\n",
              " 'the',\n",
              " 'board',\n",
              " 'as',\n",
              " 'a',\n",
              " 'nonexecutive',\n",
              " 'director',\n",
              " 'Nov.',\n",
              " '29',\n",
              " '.')"
            ]
          },
          "metadata": {
            "tags": []
          },
          "execution_count": 7
        }
      ]
    },
    {
      "cell_type": "code",
      "metadata": {
        "id": "XZ0cV_zO7C11",
        "colab_type": "code",
        "outputId": "2b80408b-7f1f-4673-a365-45e092584c9f",
        "colab": {
          "base_uri": "https://localhost:8080/",
          "height": 34
        }
      },
      "source": [
        "len(sentence_tags)"
      ],
      "execution_count": 0,
      "outputs": [
        {
          "output_type": "execute_result",
          "data": {
            "text/plain": [
              "3914"
            ]
          },
          "metadata": {
            "tags": []
          },
          "execution_count": 8
        }
      ]
    },
    {
      "cell_type": "code",
      "metadata": {
        "id": "N6U9MiGvswZQ",
        "colab_type": "code",
        "colab": {}
      },
      "source": [
        "sent_train, sent_test, tag_train, tag_test = train_test_split(sentences, sentence_tags, test_size=0.2, random_state=0)"
      ],
      "execution_count": 0,
      "outputs": []
    },
    {
      "cell_type": "code",
      "metadata": {
        "id": "zMVyCfBudYx2",
        "colab_type": "code",
        "colab": {}
      },
      "source": [
        "vocab = Counter()\n",
        "for sent in sent_train:\n",
        "    sent = [word.lower() for word in sent]\n",
        "    vocab.update(sent)"
      ],
      "execution_count": 0,
      "outputs": []
    },
    {
      "cell_type": "code",
      "metadata": {
        "id": "kFs5LQa8dtmQ",
        "colab_type": "code",
        "colab": {}
      },
      "source": [
        "filtered_vocab = {word for word in vocab if vocab[word] > 5}"
      ],
      "execution_count": 0,
      "outputs": []
    },
    {
      "cell_type": "code",
      "metadata": {
        "id": "_0CeXTZmrlSA",
        "colab_type": "code",
        "outputId": "63ee3d75-6d1a-49a5-989a-fa3808904d7c",
        "colab": {
          "base_uri": "https://localhost:8080/",
          "height": 34
        }
      },
      "source": [
        "len(filtered_vocab)"
      ],
      "execution_count": 0,
      "outputs": [
        {
          "output_type": "execute_result",
          "data": {
            "text/plain": [
              "1679"
            ]
          },
          "metadata": {
            "tags": []
          },
          "execution_count": 12
        }
      ]
    },
    {
      "cell_type": "code",
      "metadata": {
        "id": "6pI4J0KRbxEH",
        "colab_type": "code",
        "colab": {}
      },
      "source": [
        "word2id = {'PAD':0,'UNK':1}    \n",
        "for i,word in enumerate(filtered_vocab):\n",
        "      word2id[word] = i + 2\n",
        "\n",
        "id2word = {i:word for word, i in word2id.items()}"
      ],
      "execution_count": 0,
      "outputs": []
    },
    {
      "cell_type": "code",
      "metadata": {
        "id": "fq5TYAW47cuE",
        "colab_type": "code",
        "outputId": "35fffc23-77d4-4094-ad87-7157b7d97420",
        "colab": {
          "base_uri": "https://localhost:8080/",
          "height": 34
        }
      },
      "source": [
        "len(id2word)"
      ],
      "execution_count": 0,
      "outputs": [
        {
          "output_type": "execute_result",
          "data": {
            "text/plain": [
              "1681"
            ]
          },
          "metadata": {
            "tags": []
          },
          "execution_count": 14
        }
      ]
    },
    {
      "cell_type": "code",
      "metadata": {
        "id": "kxsX1P2dsy6G",
        "colab_type": "code",
        "colab": {}
      },
      "source": [
        "tag2id = {'PAD':0}  \n",
        "for tags in tag_train:\n",
        "    for tag in tags:\n",
        "      if tag.lower() not in tag2id:\n",
        "        tag2id[tag.lower()] = len(tag2id)\n",
        "\n",
        "id2tag = {i:tag for tag, i in tag2id.items()}"
      ],
      "execution_count": 0,
      "outputs": []
    },
    {
      "cell_type": "code",
      "metadata": {
        "id": "C7BWPXIH7juM",
        "colab_type": "code",
        "outputId": "a8f6ce83-b6ac-4574-8702-500d21296fb6",
        "colab": {
          "base_uri": "https://localhost:8080/",
          "height": 34
        }
      },
      "source": [
        "len(id2tag)"
      ],
      "execution_count": 0,
      "outputs": [
        {
          "output_type": "execute_result",
          "data": {
            "text/plain": [
              "47"
            ]
          },
          "metadata": {
            "tags": []
          },
          "execution_count": 16
        }
      ]
    },
    {
      "cell_type": "code",
      "metadata": {
        "id": "_0jB6kNHG7pc",
        "colab_type": "code",
        "colab": {}
      },
      "source": [
        "def sym_tokenize(text):\n",
        "  text = text.lower()\n",
        "  spaces = '\\t\\n\\r\\x0b\\x0c' #из символов модуля string\n",
        "  result = []\n",
        "\n",
        "  for sym in text:\n",
        "    if sym in spaces or sym == ' ':\n",
        "      result.append(' ')\n",
        "    elif sym in ascii_lowercase:\n",
        "      result.append(sym)\n",
        "    elif sym in digits:\n",
        "      result.append(sym)\n",
        "    elif sym in punct:\n",
        "      result.append(sym)\n",
        "    else:\n",
        "      result.append(sym)\n",
        "  return result"
      ],
      "execution_count": 0,
      "outputs": []
    },
    {
      "cell_type": "code",
      "metadata": {
        "id": "Yvt5bWirG-aA",
        "colab_type": "code",
        "colab": {}
      },
      "source": [
        "def make_vocab(texts):\n",
        "  vocab = Counter()\n",
        "\n",
        "  for tup in texts:\n",
        "    for text in tup:\n",
        "      vocab.update(sym_tokenize(text))\n",
        "\n",
        "  filtered_vocab = set()\n",
        "\n",
        "  for sym in vocab:\n",
        "    if vocab[sym] > 1:\n",
        "        filtered_vocab.add(sym)\n",
        "        \n",
        "  return filtered_vocab"
      ],
      "execution_count": 0,
      "outputs": []
    },
    {
      "cell_type": "code",
      "metadata": {
        "id": "w8U5j1DyHbIG",
        "colab_type": "code",
        "colab": {}
      },
      "source": [
        "filtered_sym_vocab = make_vocab(sent_train)"
      ],
      "execution_count": 0,
      "outputs": []
    },
    {
      "cell_type": "code",
      "metadata": {
        "id": "IExuTJDZIOUX",
        "colab_type": "code",
        "colab": {
          "base_uri": "https://localhost:8080/",
          "height": 34
        },
        "outputId": "978545aa-d314-496d-cbbf-a27e1fbac5a2"
      },
      "source": [
        "len(filtered_sym_vocab)"
      ],
      "execution_count": 14,
      "outputs": [
        {
          "output_type": "execute_result",
          "data": {
            "text/plain": [
              "52"
            ]
          },
          "metadata": {
            "tags": []
          },
          "execution_count": 14
        }
      ]
    },
    {
      "cell_type": "code",
      "metadata": {
        "id": "p-63LwgGGTMU",
        "colab_type": "code",
        "colab": {}
      },
      "source": [
        "sym2id = {'UNK':1, 'PAD':0}\n",
        "for sym in filtered_sym_vocab:\n",
        "  if sym not in sym2id.keys():\n",
        "    sym2id[sym] = len(sym2id)"
      ],
      "execution_count": 0,
      "outputs": []
    },
    {
      "cell_type": "code",
      "metadata": {
        "id": "3Nwh2ZRtGONh",
        "colab_type": "code",
        "colab": {}
      },
      "source": [
        "id2sym = {i:sym for sym, i in sym2id.items()}"
      ],
      "execution_count": 0,
      "outputs": []
    },
    {
      "cell_type": "code",
      "metadata": {
        "id": "eViJLGAM-bow",
        "colab_type": "code",
        "outputId": "568c5871-646c-4659-fc10-61a52bc22ea6",
        "colab": {
          "base_uri": "https://localhost:8080/",
          "height": 34
        }
      },
      "source": [
        "len(id2sym)"
      ],
      "execution_count": 0,
      "outputs": [
        {
          "output_type": "execute_result",
          "data": {
            "text/plain": [
              "54"
            ]
          },
          "metadata": {
            "tags": []
          },
          "execution_count": 28
        }
      ]
    },
    {
      "cell_type": "code",
      "metadata": {
        "id": "uEj5MvnDc4M8",
        "colab_type": "code",
        "colab": {}
      },
      "source": [
        "def data2ints(data, smth2id):\n",
        "  int_data = []\n",
        "  for seq in data:\n",
        "      int_seq = []\n",
        "      for i in seq:\n",
        "          try:\n",
        "            int_seq.append(smth2id[i.lower()])\n",
        "          except KeyError:\n",
        "            int_seq.append(smth2id['UNK'])\n",
        "  \n",
        "      int_data.append(int_seq)\n",
        "  return int_data\n",
        " "
      ],
      "execution_count": 0,
      "outputs": []
    },
    {
      "cell_type": "markdown",
      "metadata": {
        "id": "slGCDdTGx6Ty",
        "colab_type": "text"
      },
      "source": [
        "## Модель"
      ]
    },
    {
      "cell_type": "code",
      "metadata": {
        "id": "HFiUepTGuSig",
        "colab_type": "code",
        "colab": {}
      },
      "source": [
        "# зафиксируем размер\n",
        "max_seq_len = min(max(len(x) for x in sent_train), 100)\n",
        "max_char_len = [[len(word) for word in sent] for sent in sent_train]\n",
        "max_char_len = max(chain(*max_char_len)) #сделаем максимальное для каждого элемента в max_char_len\n",
        "max_char_len = min(max_char_len, 16) #ограничим максимальные значения – до 16"
      ],
      "execution_count": 0,
      "outputs": []
    },
    {
      "cell_type": "code",
      "metadata": {
        "id": "3SOsCe8VuVSq",
        "colab_type": "code",
        "colab": {}
      },
      "source": [
        "X_train_ids, X_test_ids = data2ints(sent_train, word2id), data2ints(sent_test, word2id)\n",
        "y_train_ids, y_test_ids = data2ints(tag_train, tag2id), data2ints(tag_test, tag2id)\n",
        "\n",
        "X_train_ids_sym = [[[sym2id.get(sym.lower(), 1) for sym in word] for word in sent] for sent in sent_train]\n",
        "X_test_ids_sym = [[[sym2id.get(sym.lower(), 1) for sym in word] for word in sent] for sent in sent_test]\n",
        "\n",
        "X_train, X_test = pad_sequences(X_train_ids, maxlen=max_seq_len, padding='post'), pad_sequences(X_test_ids, maxlen=max_seq_len, padding='post')\n",
        "y_train_pad, y_test_pad = pad_sequences(y_train_ids, maxlen=max_seq_len, padding='post', truncating='post'), pad_sequences(y_test_ids, maxlen=max_seq_len, padding='post', truncating='post')\n",
        "\n",
        "X_train_sym = pad_sequences([pad_sequences(ids, maxlen=max_char_len, padding='post') for ids in X_train_ids_sym], maxlen=max_seq_len, padding='post')\n",
        "X_test_sym = pad_sequences([pad_sequences(ids, maxlen=max_char_len, padding='post') for ids in X_test_ids_sym], maxlen=max_seq_len, padding='post')"
      ],
      "execution_count": 0,
      "outputs": []
    },
    {
      "cell_type": "code",
      "metadata": {
        "id": "1ourBFRuuuUt",
        "colab_type": "code",
        "colab": {}
      },
      "source": [
        "y_train, y_test = to_categorical(y_train_pad, num_classes=len(tag2id)), to_categorical(y_test_pad, num_classes=len(tag2id))"
      ],
      "execution_count": 0,
      "outputs": []
    },
    {
      "cell_type": "code",
      "metadata": {
        "id": "KhPb_zCUu1N3",
        "colab_type": "code",
        "colab": {}
      },
      "source": [
        "sentences_input = Input(shape=(max_seq_len,))\n",
        "symbols_input = Input(shape=(max_seq_len, max_char_len))\n",
        "\n",
        "embedding_sents = Embedding(len(word2id), 65, mask_zero=True)(sentences_input)\n",
        "embedding_symbols = TimeDistributed(Embedding(len(sym2id), 8, input_length=max_char_len, mask_zero=False))(symbols_input)\n",
        "\n",
        "bilstm_sentences = Bidirectional(LSTM(256, return_sequences=True))(embedding_sents)\n",
        "drop1 = Dropout(0.2)(bilstm_sentences)\n",
        "conv = TimeDistributed(Conv1D(128, 3, 1, padding='same'))(embedding_symbols)\n",
        "flat = TimeDistributed(Flatten())(conv)\n",
        "drop2 = Dropout(0.2)(flat)\n",
        "drops = concatenate([drop1, drop2])\n",
        "\n",
        "bilstm = Bidirectional(LSTM(256, return_sequences=True))(drops)\n",
        "dense = TimeDistributed(Dense(len(tag2id)*2, activation='selu'))(bilstm)\n",
        "drop = Dropout(0.2)(dense)\n",
        "\n",
        "output = TimeDistributed(Dense(len(tag2id), activation='softmax'))(drop)\n",
        "model = Model(inputs=[sentences_input, symbols_input], outputs=output)\n",
        "optimizer = tf.keras.optimizers.Adam(learning_rate=0.001)\n",
        "\n",
        "checkpoint = tf.keras.callbacks.ModelCheckpoint('model.weights', \n",
        "                                                monitor='val_accuracy', \n",
        "                                                verbose=1, \n",
        "                                                save_weights_only=True, \n",
        "                                                save_best_only=True, \n",
        "                                                mode='max', \n",
        "                                                save_freq='epoch' \n",
        "                                               )\n",
        "early_stop = tf.keras.callbacks.EarlyStopping(monitor='val_accuracy', \n",
        "                                              min_delta=0.01, \n",
        "                                              patience=5, \n",
        "                                              verbose=1, \n",
        "                                              mode='max',\n",
        "                                              )\n",
        "model.compile(optimizer=optimizer,\n",
        "              loss='categorical_crossentropy',\n",
        "              metrics=['accuracy'])"
      ],
      "execution_count": 0,
      "outputs": []
    },
    {
      "cell_type": "code",
      "metadata": {
        "id": "whcDjEKuu4Nc",
        "colab_type": "code",
        "colab": {
          "base_uri": "https://localhost:8080/",
          "height": 646
        },
        "outputId": "bd21f308-7770-49d3-992b-74312942f66c"
      },
      "source": [
        "model.summary()"
      ],
      "execution_count": 41,
      "outputs": [
        {
          "output_type": "stream",
          "text": [
            "Model: \"model_4\"\n",
            "__________________________________________________________________________________________________\n",
            "Layer (type)                    Output Shape         Param #     Connected to                     \n",
            "==================================================================================================\n",
            "input_10 (InputLayer)           [(None, 100, 16)]    0                                            \n",
            "__________________________________________________________________________________________________\n",
            "input_9 (InputLayer)            [(None, 100)]        0                                            \n",
            "__________________________________________________________________________________________________\n",
            "time_distributed_20 (TimeDistri (None, 100, 16, 8)   432         input_10[0][0]                   \n",
            "__________________________________________________________________________________________________\n",
            "embedding_8 (Embedding)         (None, 100, 65)      109265      input_9[0][0]                    \n",
            "__________________________________________________________________________________________________\n",
            "time_distributed_21 (TimeDistri (None, 100, 16, 128) 3200        time_distributed_20[0][0]        \n",
            "__________________________________________________________________________________________________\n",
            "bidirectional_8 (Bidirectional) (None, 100, 512)     659456      embedding_8[0][0]                \n",
            "__________________________________________________________________________________________________\n",
            "time_distributed_22 (TimeDistri (None, 100, 2048)    0           time_distributed_21[0][0]        \n",
            "__________________________________________________________________________________________________\n",
            "dropout_12 (Dropout)            (None, 100, 512)     0           bidirectional_8[0][0]            \n",
            "__________________________________________________________________________________________________\n",
            "dropout_13 (Dropout)            (None, 100, 2048)    0           time_distributed_22[0][0]        \n",
            "__________________________________________________________________________________________________\n",
            "concatenate_4 (Concatenate)     (None, 100, 2560)    0           dropout_12[0][0]                 \n",
            "                                                                 dropout_13[0][0]                 \n",
            "__________________________________________________________________________________________________\n",
            "bidirectional_9 (Bidirectional) (None, 100, 512)     5769216     concatenate_4[0][0]              \n",
            "__________________________________________________________________________________________________\n",
            "time_distributed_23 (TimeDistri (None, 100, 94)      48222       bidirectional_9[0][0]            \n",
            "__________________________________________________________________________________________________\n",
            "dropout_14 (Dropout)            (None, 100, 94)      0           time_distributed_23[0][0]        \n",
            "__________________________________________________________________________________________________\n",
            "time_distributed_24 (TimeDistri (None, 100, 47)      4465        dropout_14[0][0]                 \n",
            "==================================================================================================\n",
            "Total params: 6,594,256\n",
            "Trainable params: 6,594,256\n",
            "Non-trainable params: 0\n",
            "__________________________________________________________________________________________________\n"
          ],
          "name": "stdout"
        }
      ]
    },
    {
      "cell_type": "code",
      "metadata": {
        "id": "yHx5sTDCu7SU",
        "colab_type": "code",
        "colab": {
          "base_uri": "https://localhost:8080/",
          "height": 785
        },
        "outputId": "3644fb55-ce66-4360-89d5-86879af08fad"
      },
      "source": [
        "%%time\n",
        "model.fit(x=[X_train,X_train_sym], y=y_train, \n",
        "          validation_data=([X_test, X_test_sym], y_test),\n",
        "          batch_size=120,\n",
        "         epochs=20,\n",
        "        callbacks=[checkpoint, early_stop])"
      ],
      "execution_count": 42,
      "outputs": [
        {
          "output_type": "stream",
          "text": [
            "Epoch 1/20\n",
            "27/27 [==============================] - ETA: 0s - loss: 0.8024 - accuracy: 0.0645 \n",
            "Epoch 00001: val_accuracy improved from -inf to 0.05824, saving model to model.weights\n",
            "27/27 [==============================] - 374s 14s/step - loss: 0.8024 - accuracy: 0.0645 - val_loss: 0.7319 - val_accuracy: 0.0582\n",
            "Epoch 2/20\n",
            "27/27 [==============================] - ETA: 0s - loss: 0.5951 - accuracy: 0.0914 \n",
            "Epoch 00002: val_accuracy improved from 0.05824 to 0.14335, saving model to model.weights\n",
            "27/27 [==============================] - 368s 14s/step - loss: 0.5951 - accuracy: 0.0914 - val_loss: 0.4175 - val_accuracy: 0.1433\n",
            "Epoch 3/20\n",
            "27/27 [==============================] - ETA: 0s - loss: 0.3100 - accuracy: 0.1642 \n",
            "Epoch 00003: val_accuracy improved from 0.14335 to 0.20057, saving model to model.weights\n",
            "27/27 [==============================] - 371s 14s/step - loss: 0.3100 - accuracy: 0.1642 - val_loss: 0.2209 - val_accuracy: 0.2006\n",
            "Epoch 4/20\n",
            "27/27 [==============================] - ETA: 0s - loss: 0.1783 - accuracy: 0.2046 \n",
            "Epoch 00004: val_accuracy improved from 0.20057 to 0.22147, saving model to model.weights\n",
            "27/27 [==============================] - 368s 14s/step - loss: 0.1783 - accuracy: 0.2046 - val_loss: 0.1465 - val_accuracy: 0.2215\n",
            "Epoch 5/20\n",
            "27/27 [==============================] - ETA: 0s - loss: 0.1236 - accuracy: 0.2210 \n",
            "Epoch 00005: val_accuracy improved from 0.22147 to 0.23249, saving model to model.weights\n",
            "27/27 [==============================] - 372s 14s/step - loss: 0.1236 - accuracy: 0.2210 - val_loss: 0.1137 - val_accuracy: 0.2325\n",
            "Epoch 6/20\n",
            "27/27 [==============================] - ETA: 0s - loss: 0.0965 - accuracy: 0.2283 \n",
            "Epoch 00006: val_accuracy improved from 0.23249 to 0.23512, saving model to model.weights\n",
            "27/27 [==============================] - 372s 14s/step - loss: 0.0965 - accuracy: 0.2283 - val_loss: 0.1001 - val_accuracy: 0.2351\n",
            "Epoch 7/20\n",
            "27/27 [==============================] - ETA: 0s - loss: 0.0830 - accuracy: 0.2318 \n",
            "Epoch 00007: val_accuracy improved from 0.23512 to 0.23845, saving model to model.weights\n",
            "27/27 [==============================] - 370s 14s/step - loss: 0.0830 - accuracy: 0.2318 - val_loss: 0.0876 - val_accuracy: 0.2385\n",
            "Epoch 8/20\n",
            "27/27 [==============================] - ETA: 0s - loss: 0.0713 - accuracy: 0.2347 \n",
            "Epoch 00008: val_accuracy improved from 0.23845 to 0.24008, saving model to model.weights\n",
            "27/27 [==============================] - 371s 14s/step - loss: 0.0713 - accuracy: 0.2347 - val_loss: 0.0839 - val_accuracy: 0.2401\n",
            "Epoch 9/20\n",
            "27/27 [==============================] - ETA: 0s - loss: 0.0636 - accuracy: 0.2367 \n",
            "Epoch 00009: val_accuracy did not improve from 0.24008\n",
            "27/27 [==============================] - 371s 14s/step - loss: 0.0636 - accuracy: 0.2367 - val_loss: 0.0818 - val_accuracy: 0.2400\n",
            "Epoch 10/20\n",
            "27/27 [==============================] - ETA: 0s - loss: 0.0573 - accuracy: 0.2381 \n",
            "Epoch 00010: val_accuracy improved from 0.24008 to 0.24142, saving model to model.weights\n",
            "27/27 [==============================] - 369s 14s/step - loss: 0.0573 - accuracy: 0.2381 - val_loss: 0.0758 - val_accuracy: 0.2414\n",
            "Epoch 00010: early stopping\n",
            "CPU times: user 2h 3min 8s, sys: 2min 1s, total: 2h 5min 9s\n",
            "Wall time: 1h 4min 16s\n"
          ],
          "name": "stdout"
        },
        {
          "output_type": "execute_result",
          "data": {
            "text/plain": [
              "<tensorflow.python.keras.callbacks.History at 0x7f5a7e5f20b8>"
            ]
          },
          "metadata": {
            "tags": []
          },
          "execution_count": 42
        }
      ]
    },
    {
      "cell_type": "code",
      "metadata": {
        "id": "vUB-k1wFu-4n",
        "colab_type": "code",
        "colab": {
          "base_uri": "https://localhost:8080/",
          "height": 312
        },
        "outputId": "58883254-d5d5-484a-aeef-f0b998cc886c"
      },
      "source": [
        "model_picture(model)"
      ],
      "execution_count": 43,
      "outputs": [
        {
          "output_type": "stream",
          "text": [
            "dict_keys(['loss', 'accuracy', 'val_loss', 'val_accuracy'])\n"
          ],
          "name": "stdout"
        },
        {
          "output_type": "display_data",
          "data": {
            "image/png": "[encoded data removed]",
            "text/plain": [
              "<Figure size 432x288 with 1 Axes>"
            ]
          },
          "metadata": {
            "tags": [],
            "needs_background": "light"
          }
        }
      ]
    },
    {
      "cell_type": "markdown",
      "metadata": {
        "id": "4fW2q9xwqyko",
        "colab_type": "text"
      },
      "source": [
        "## Проверка работы"
      ]
    },
    {
      "cell_type": "code",
      "metadata": {
        "id": "j3aTlmT1Y3MY",
        "colab_type": "code",
        "colab": {}
      },
      "source": [
        "def tokenize(text):\n",
        "    \n",
        "    words = [word.strip(punct) for word in text.lower().split() if word]\n",
        "    words = [word for word in words if word]\n",
        "\n",
        "    return words\n",
        "\n",
        "def check_morph_tagging(text: str, model=model_1):\n",
        "    \n",
        "    tokenized_text = tokenize(text)\n",
        "\n",
        "    symbols = [[sym2id.get(sym.lower(), 1) for sym in word] for word in tokenized_text]\n",
        "    pad_symbols = pad_sequences([pad_sequences(ids, maxlen=max_char_len, padding='post') for ids in [symbols]], maxlen=max_seq_len, padding='post')\n",
        "    sentence = [word2id.get(word.lower(), 1) for word in tokenized_text]\n",
        "    pad_sentence = pad_sequences([sentence], maxlen=max_seq_len, padding='post')\n",
        "\n",
        "    predicted_tags = model.predict([pad_sentence, pad_symbols])\n",
        "    predicted_tags = [id2tag[tag] for tag in np.argmax(predicted_tags, axis=2)[0, :len(tokenized_text)]]\n",
        "\n",
        "    return list(zip(tokenized_text, predicted_tags))"
      ],
      "execution_count": 0,
      "outputs": []
    },
    {
      "cell_type": "code",
      "metadata": {
        "id": "STFYa9ETiDlg",
        "colab_type": "code",
        "colab": {
          "base_uri": "https://localhost:8080/",
          "height": 306
        },
        "outputId": "300dc214-85e3-4acc-c812-8e8b4ee92a14"
      },
      "source": [
        "check_morph_tagging('There is no one thing that will fix this virus, it is layer upon layer, upon layer.')"
      ],
      "execution_count": 112,
      "outputs": [
        {
          "output_type": "execute_result",
          "data": {
            "text/plain": [
              "[('there', 'ex'),\n",
              " ('is', 'vbz'),\n",
              " ('no', 'dt'),\n",
              " ('one', 'cd'),\n",
              " ('thing', 'nn'),\n",
              " ('that', 'in'),\n",
              " ('will', 'md'),\n",
              " ('fix', 'vb'),\n",
              " ('this', 'dt'),\n",
              " ('virus', 'nn'),\n",
              " ('it', 'prp'),\n",
              " ('is', 'vbz'),\n",
              " ('layer', 'jj'),\n",
              " ('upon', 'jj'),\n",
              " ('layer', 'nn'),\n",
              " ('upon', 'in'),\n",
              " ('layer', 'nn')]"
            ]
          },
          "metadata": {
            "tags": []
          },
          "execution_count": 112
        }
      ]
    },
    {
      "cell_type": "code",
      "metadata": {
        "id": "TFSVus_7pMS7",
        "colab_type": "code",
        "colab": {
          "base_uri": "https://localhost:8080/",
          "height": 544
        },
        "outputId": "29f2c800-7e46-4c7f-da44-c91297619144"
      },
      "source": [
        "check_morph_tagging('The Courier wonders whether, in light of warnings that Scotland\\'s economy might not return to pre-coronavirus levels until 2023, the first minister expects Scotland to be an independent country by then.')"
      ],
      "execution_count": 116,
      "outputs": [
        {
          "output_type": "execute_result",
          "data": {
            "text/plain": [
              "[('the', 'dt'),\n",
              " ('courier', 'nn'),\n",
              " ('wonders', 'vbz'),\n",
              " ('whether', 'in'),\n",
              " ('in', 'in'),\n",
              " ('light', 'nn'),\n",
              " ('of', 'in'),\n",
              " ('warnings', 'nns'),\n",
              " ('that', 'in'),\n",
              " (\"scotland's\", 'rb'),\n",
              " ('economy', 'nn'),\n",
              " ('might', 'md'),\n",
              " ('not', 'rb'),\n",
              " ('return', 'vb'),\n",
              " ('to', 'to'),\n",
              " ('pre-coronavirus', 'jj'),\n",
              " ('levels', 'nns'),\n",
              " ('until', 'in'),\n",
              " ('2023', 'cd'),\n",
              " ('the', 'dt'),\n",
              " ('first', 'jj'),\n",
              " ('minister', 'nn'),\n",
              " ('expects', 'vbz'),\n",
              " ('scotland', 'vbd'),\n",
              " ('to', 'to'),\n",
              " ('be', 'vb'),\n",
              " ('an', 'dt'),\n",
              " ('independent', 'jj'),\n",
              " ('country', 'nn'),\n",
              " ('by', 'in'),\n",
              " ('then', 'rb')]"
            ]
          },
          "metadata": {
            "tags": []
          },
          "execution_count": 116
        }
      ]
    }
  ]
}