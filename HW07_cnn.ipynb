{
  "nbformat": 4,
  "nbformat_minor": 0,
  "metadata": {
    "kernelspec": {
      "display_name": "Python 3",
      "language": "python",
      "name": "python3"
    },
    "language_info": {
      "codemirror_mode": {
        "name": "ipython",
        "version": 3
      },
      "file_extension": ".py",
      "mimetype": "text/x-python",
      "name": "python",
      "nbconvert_exporter": "python",
      "pygments_lexer": "ipython3",
      "version": "3.6.9"
    },
    "colab": {
      "name": "HW07_cnn.ipynb",
      "provenance": [],
      "collapsed_sections": [],
      "toc_visible": true,
      "include_colab_link": true
    },
    "accelerator": "GPU"
  },
  "cells": [
    {
      "cell_type": "markdown",
      "metadata": {
        "id": "view-in-github",
        "colab_type": "text"
      },
      "source": [
        "<a href=\"https://colab.research.google.com/github/wksmirnowa/machinelearning_homeworks/blob/master/HW07_cnn.ipynb\" target=\"_parent\"><img src=\"https://colab.research.google.com/assets/colab-badge.svg\" alt=\"Open In Colab\"/></a>"
      ]
    },
    {
      "cell_type": "markdown",
      "metadata": {
        "id": "VwKTPnu2Qc1P",
        "colab_type": "text"
      },
      "source": [
        "# Сверточные нейронные сети"
      ]
    },
    {
      "cell_type": "code",
      "metadata": {
        "id": "G3C6NagFifjb",
        "colab_type": "code",
        "outputId": "92263e8d-20e1-4f93-8c6e-58862991290a",
        "colab": {
          "base_uri": "https://localhost:8080/",
          "height": 122
        }
      },
      "source": [
        "from google.colab import drive\n",
        "drive.mount('/content/drive')"
      ],
      "execution_count": 0,
      "outputs": [
        {
          "output_type": "stream",
          "text": [
            "Go to this URL in a browser: https://accounts.google.com/o/oauth2/auth?client_id=947318989803-6bn6qk8qdgf4n4g3pfee6491hc0brc4i.apps.googleusercontent.com&redirect_uri=urn%3aietf%3awg%3aoauth%3a2.0%3aoob&response_type=code&scope=email%20https%3a%2f%2fwww.googleapis.com%2fauth%2fdocs.test%20https%3a%2f%2fwww.googleapis.com%2fauth%2fdrive%20https%3a%2f%2fwww.googleapis.com%2fauth%2fdrive.photos.readonly%20https%3a%2f%2fwww.googleapis.com%2fauth%2fpeopleapi.readonly\n",
            "\n",
            "Enter your authorization code:\n",
            "··········\n",
            "Mounted at /content/drive\n"
          ],
          "name": "stdout"
        }
      ]
    },
    {
      "cell_type": "code",
      "metadata": {
        "scrolled": true,
        "id": "cYckZUKcQc1H",
        "colab_type": "code",
        "colab": {}
      },
      "source": [
        "!pip install pandas scikit-learn matplotlib"
      ],
      "execution_count": 0,
      "outputs": []
    },
    {
      "cell_type": "code",
      "metadata": {
        "id": "RAwzRSNvQc1h",
        "colab_type": "code",
        "colab": {}
      },
      "source": [
        "import tensorflow as tf\n",
        "import pandas as pd\n",
        "import numpy as np\n",
        "from string import punctuation\n",
        "from sklearn.model_selection import train_test_split\n",
        "from sklearn.metrics import classification_report\n",
        "from collections import Counter\n",
        "import matplotlib.pyplot as plt\n",
        "%matplotlib inline\n",
        "from string import punctuation, digits, ascii_lowercase\n",
        "punct = punctuation+'«»—…“”*№–'"
      ],
      "execution_count": 0,
      "outputs": []
    },
    {
      "cell_type": "code",
      "metadata": {
        "id": "0fFZFZ441aKY",
        "colab_type": "code",
        "colab": {}
      },
      "source": [
        "def model_picture(model):\n",
        "  print(model.history.history.keys())\n",
        "  plt.plot(model.history.history['f1'])\n",
        "  plt.plot(model.history.history['val_f1'])\n",
        "  plt.title('model f1')\n",
        "  plt.ylabel('f1')\n",
        "  plt.xlabel('epoch')\n",
        "  plt.legend(['train', 'val'], loc='upper left')\n",
        "  plt.show()"
      ],
      "execution_count": 0,
      "outputs": []
    },
    {
      "cell_type": "code",
      "metadata": {
        "id": "hpXA5Cm9Qc1r",
        "colab_type": "code",
        "colab": {}
      },
      "source": [
        "from tensorflow.keras import backend as K\n",
        "def f1(y_true, y_pred):\n",
        "    def recall(y_true, y_pred):\n",
        "        \"\"\"Recall metric.\n",
        "\n",
        "        Only computes a batch-wise average of recall.\n",
        "\n",
        "        Computes the recall, a metric for multi-label classification of\n",
        "        how many relevant items are selected.\n",
        "        \"\"\"\n",
        "        true_positives = K.sum(K.round(K.clip(y_true * y_pred, 0, 1)))\n",
        "        possible_positives = K.sum(K.round(K.clip(y_true, 0, 1)))\n",
        "        recall = true_positives / (possible_positives + K.epsilon())\n",
        "        return recall\n",
        "\n",
        "    def precision(y_true, y_pred):\n",
        "        \"\"\"Precision metric.\n",
        "\n",
        "        Only computes a batch-wise average of precision.\n",
        "\n",
        "        Computes the precision, a metric for multi-label classification of\n",
        "        how many selected items are relevant.\n",
        "        \"\"\"\n",
        "        true_positives = K.sum(K.round(K.clip(y_true * y_pred, 0, 1)))\n",
        "        predicted_positives = K.sum(K.round(K.clip(y_pred, 0, 1)))\n",
        "        precision = true_positives / (predicted_positives + K.epsilon())\n",
        "        return precision\n",
        "    precision = precision(y_true, y_pred)\n",
        "    recall = recall(y_true, y_pred)\n",
        "    return 2*((precision*recall)/(precision+recall+K.epsilon()))"
      ],
      "execution_count": 0,
      "outputs": []
    },
    {
      "cell_type": "code",
      "metadata": {
        "id": "92_Tb78JipoD",
        "colab_type": "code",
        "colab": {}
      },
      "source": [
        "quora = pd.read_csv('/content/drive/My Drive/quora.csv')"
      ],
      "execution_count": 0,
      "outputs": []
    },
    {
      "cell_type": "markdown",
      "metadata": {
        "id": "qmVGhU1EIJ3d",
        "colab_type": "text"
      },
      "source": [
        "## Посимвольная токенизация с сохранением всех символов"
      ]
    },
    {
      "cell_type": "code",
      "metadata": {
        "id": "4RPzEoFKq-1X",
        "colab_type": "code",
        "colab": {}
      },
      "source": [
        "def sym_tokenize(text):\n",
        "  text = text.lower()\n",
        "  spaces = '\\t\\n\\r\\x0b\\x0c' #из символов модуля string\n",
        "  result = []\n",
        "\n",
        "  for sym in text:\n",
        "    if sym in spaces or sym == ' ':\n",
        "      result.append(' ')\n",
        "    else:\n",
        "      result.append(sym)\n",
        "  return result\n"
      ],
      "execution_count": 0,
      "outputs": []
    },
    {
      "cell_type": "code",
      "metadata": {
        "id": "o4SUIlbuQc12",
        "colab_type": "code",
        "colab": {}
      },
      "source": [
        "# словарь\n",
        "\n",
        "def make_vocab(texts):\n",
        "  vocab = Counter()\n",
        "\n",
        "  for text in texts:\n",
        "      vocab.update(sym_tokenize(text))\n",
        "\n",
        "  filtered_vocab = set()\n",
        "\n",
        "  for sym in vocab:\n",
        "    if vocab[sym] > 1:\n",
        "        filtered_vocab.add(sym)\n",
        "        \n",
        "  return filtered_vocab"
      ],
      "execution_count": 0,
      "outputs": []
    },
    {
      "cell_type": "code",
      "metadata": {
        "id": "GWzm_JpayKEp",
        "colab_type": "code",
        "colab": {}
      },
      "source": [
        "quora_vocab = make_vocab(quora.question_text)"
      ],
      "execution_count": 0,
      "outputs": []
    },
    {
      "cell_type": "code",
      "metadata": {
        "id": "-_syogUkQc15",
        "colab_type": "code",
        "outputId": "fc0f367d-85e4-4a70-d170-ad50ee816022",
        "colab": {
          "base_uri": "https://localhost:8080/",
          "height": 34
        }
      },
      "source": [
        "len(quora_vocab)"
      ],
      "execution_count": 0,
      "outputs": [
        {
          "output_type": "execute_result",
          "data": {
            "text/plain": [
              "77"
            ]
          },
          "metadata": {
            "tags": []
          },
          "execution_count": 18
        }
      ]
    },
    {
      "cell_type": "code",
      "metadata": {
        "id": "Zly7Giz9y0Zu",
        "colab_type": "code",
        "colab": {}
      },
      "source": [
        "sym2id = {'UNK':1, 'PAD':0}\n",
        "for sym in quora_vocab:\n",
        "    sym2id[sym] = len(sym2id)"
      ],
      "execution_count": 0,
      "outputs": []
    },
    {
      "cell_type": "code",
      "metadata": {
        "id": "9S8tk-_wzvue",
        "colab_type": "code",
        "colab": {}
      },
      "source": [
        "id2sym = {i:sym for sym, i in sym2id.items()}"
      ],
      "execution_count": 0,
      "outputs": []
    },
    {
      "cell_type": "code",
      "metadata": {
        "id": "EZ_kbkPGQc2I",
        "colab_type": "code",
        "colab": {}
      },
      "source": [
        "# переводим тексты в последовательности индексов\n",
        "X = []\n",
        "\n",
        "for text in quora.question_text:\n",
        "    tokens = sym_tokenize(text)\n",
        "    ids = [sym2id.get(token, 1) for token in tokens]\n",
        "    X.append(ids)"
      ],
      "execution_count": 0,
      "outputs": []
    },
    {
      "cell_type": "code",
      "metadata": {
        "id": "Wfz1IVyYQc2L",
        "colab_type": "code",
        "colab": {}
      },
      "source": [
        "MAX_LEN = max(len(x) for x in X)"
      ],
      "execution_count": 0,
      "outputs": []
    },
    {
      "cell_type": "code",
      "metadata": {
        "id": "5S-8GTvl0kqc",
        "colab_type": "code",
        "outputId": "213e6e58-0009-4437-d004-6306085c68f2",
        "colab": {
          "base_uri": "https://localhost:8080/",
          "height": 34
        }
      },
      "source": [
        "MAX_LEN"
      ],
      "execution_count": 0,
      "outputs": [
        {
          "output_type": "execute_result",
          "data": {
            "text/plain": [
              "1017"
            ]
          },
          "metadata": {
            "tags": []
          },
          "execution_count": 18
        }
      ]
    },
    {
      "cell_type": "code",
      "metadata": {
        "id": "hZ6vA93-Qc2P",
        "colab_type": "code",
        "colab": {}
      },
      "source": [
        "MEAN_LEN = np.median([len(x) for x in X])"
      ],
      "execution_count": 0,
      "outputs": []
    },
    {
      "cell_type": "code",
      "metadata": {
        "id": "V-r3wJsKQc2T",
        "colab_type": "code",
        "colab": {}
      },
      "source": [
        "MAX_LEN = int(MEAN_LEN + 5)"
      ],
      "execution_count": 0,
      "outputs": []
    },
    {
      "cell_type": "code",
      "metadata": {
        "id": "KFeOYJM_yQtz",
        "colab_type": "code",
        "outputId": "1eec7a9a-8110-4c66-8a7c-b1d68124f0a6",
        "colab": {
          "base_uri": "https://localhost:8080/",
          "height": 34
        }
      },
      "source": [
        "MAX_LEN"
      ],
      "execution_count": 0,
      "outputs": [
        {
          "output_type": "execute_result",
          "data": {
            "text/plain": [
              "65"
            ]
          },
          "metadata": {
            "tags": []
          },
          "execution_count": 25
        }
      ]
    },
    {
      "cell_type": "code",
      "metadata": {
        "id": "JXwCC0J7Qc2V",
        "colab_type": "code",
        "colab": {}
      },
      "source": [
        "# паддинг\n",
        "X = tf.keras.preprocessing.sequence.pad_sequences(X, maxlen=MAX_LEN)"
      ],
      "execution_count": 0,
      "outputs": []
    },
    {
      "cell_type": "code",
      "metadata": {
        "id": "bJWeO0iCQc2Y",
        "colab_type": "code",
        "outputId": "ac59138a-2857-4f67-9774-58d7152986ee",
        "colab": {
          "base_uri": "https://localhost:8080/",
          "height": 34
        }
      },
      "source": [
        "X.shape"
      ],
      "execution_count": 0,
      "outputs": [
        {
          "output_type": "execute_result",
          "data": {
            "text/plain": [
              "(1306122, 65)"
            ]
          },
          "metadata": {
            "tags": []
          },
          "execution_count": 20
        }
      ]
    },
    {
      "cell_type": "code",
      "metadata": {
        "id": "KyXf33hLQc2a",
        "colab_type": "code",
        "colab": {}
      },
      "source": [
        "y = quora.target.values"
      ],
      "execution_count": 0,
      "outputs": []
    },
    {
      "cell_type": "code",
      "metadata": {
        "id": "DrZAeOdFQc2c",
        "colab_type": "code",
        "colab": {}
      },
      "source": [
        "X_train, X_valid, y_train, y_valid = train_test_split(X, y, test_size=0.05, stratify=y, random_state=42)"
      ],
      "execution_count": 0,
      "outputs": []
    },
    {
      "cell_type": "markdown",
      "metadata": {
        "id": "MGEWMMhOiVsj",
        "colab_type": "text"
      },
      "source": [
        "### 1 попытка собрать все слои"
      ]
    },
    {
      "cell_type": "code",
      "metadata": {
        "id": "95VElA4tGOe6",
        "colab_type": "code",
        "colab": {}
      },
      "source": [
        "checkpoint = tf.keras.callbacks.ModelCheckpoint('model.weights', \n",
        "                                                monitor='val_f1', \n",
        "                                                verbose=1, \n",
        "                                                save_weights_only=True, \n",
        "                                                save_best_only=True, \n",
        "                                                mode='max', \n",
        "                                                save_freq='epoch' \n",
        "                                               )\n",
        "\n",
        "early_stop = tf.keras.callbacks.EarlyStopping(monitor='val_f1', \n",
        "                                              min_delta=0.01, \n",
        "                                              patience=5, \n",
        "                                              verbose=1, \n",
        "                                              mode='max',\n",
        "                                              )\n"
      ],
      "execution_count": 0,
      "outputs": []
    },
    {
      "cell_type": "code",
      "metadata": {
        "id": "fJJtSadUQc2n",
        "colab_type": "code",
        "colab": {}
      },
      "source": [
        "inputs = tf.keras.layers.Input(shape=(MAX_LEN,))\n",
        "embeddings = tf.keras.layers.Embedding(input_dim=len(sym2id), output_dim=50)(inputs, )\n",
        "\n",
        "convs = []\n",
        "\n",
        "conv1 = tf.keras.layers.Conv1D(kernel_size=5, filters=8, strides=1, activation='relu')(embeddings)\n",
        "conv2 = tf.keras.layers.Conv1D(kernel_size=5, filters=8, strides=1, activation='relu')(conv1)\n",
        "conv3 = tf.keras.layers.Conv1D(kernel_size=5, filters=8, strides=1, activation='relu')(conv2)\n",
        "pool1 = tf.keras.layers.AveragePooling1D()(conv3)\n",
        "drop1 = tf.keras.layers.Dropout(0.2)(pool1)\n",
        "convs.append(drop1)\n",
        "\n",
        "conv4 = tf.keras.layers.Conv1D(kernel_size=5, filters=16, strides=1, activation='relu')(embeddings)\n",
        "conv5 = tf.keras.layers.Conv1D(kernel_size=5, filters=16, strides=1, activation='relu')(conv4)\n",
        "conv6 = tf.keras.layers.Conv1D(kernel_size=5, filters=16, strides=1, activation='relu')(conv5)\n",
        "pool2 = tf.keras.layers.AveragePooling1D()(conv6)\n",
        "drop2 = tf.keras.layers.Dropout(0.2)(pool2)\n",
        "convs.append(drop2)\n",
        "\n",
        "conv7 = tf.keras.layers.Conv1D(kernel_size=5, filters=32, strides=1, activation='relu')(embeddings)\n",
        "conv8 = tf.keras.layers.Conv1D(kernel_size=5, filters=32, strides=1, activation='relu')(conv7)\n",
        "conv9 = tf.keras.layers.Conv1D(kernel_size=5, filters=32, strides=1, activation='relu')(conv8)\n",
        "pool3 = tf.keras.layers.AveragePooling1D()(conv9)\n",
        "drop3 = tf.keras.layers.Dropout(0.2)(pool3)\n",
        "convs.append(drop3)\n",
        "\n",
        "concat = tf.keras.layers.Concatenate()(convs)\n",
        "dense1 = tf.keras.layers.Dense(64, activation='relu')(concat)\n",
        "\n",
        "outputs = tf.keras.layers.Dense(1, activation='sigmoid')(dense1)\n",
        "\n",
        "model = tf.keras.Model(inputs=inputs, outputs=outputs)\n",
        "optimizer = tf.keras.optimizers.Adam(learning_rate=0.001)\n",
        "\n",
        "model.compile(optimizer=optimizer,\n",
        "              loss='binary_crossentropy',\n",
        "              metrics=[f1])\n"
      ],
      "execution_count": 0,
      "outputs": []
    },
    {
      "cell_type": "code",
      "metadata": {
        "id": "W9WDopTiQc2q",
        "colab_type": "code",
        "outputId": "acda0911-7c72-4391-cb29-d559e04afc69",
        "colab": {
          "base_uri": "https://localhost:8080/",
          "height": 867
        }
      },
      "source": [
        "model.summary()"
      ],
      "execution_count": 0,
      "outputs": [
        {
          "output_type": "stream",
          "text": [
            "Model: \"model_4\"\n",
            "__________________________________________________________________________________________________\n",
            "Layer (type)                    Output Shape         Param #     Connected to                     \n",
            "==================================================================================================\n",
            "input_6 (InputLayer)            [(None, 65)]         0                                            \n",
            "__________________________________________________________________________________________________\n",
            "embedding_5 (Embedding)         (None, 65, 50)       52900       input_6[0][0]                    \n",
            "__________________________________________________________________________________________________\n",
            "conv1d_45 (Conv1D)              (None, 61, 8)        2008        embedding_5[0][0]                \n",
            "__________________________________________________________________________________________________\n",
            "conv1d_48 (Conv1D)              (None, 61, 16)       4016        embedding_5[0][0]                \n",
            "__________________________________________________________________________________________________\n",
            "conv1d_51 (Conv1D)              (None, 61, 32)       8032        embedding_5[0][0]                \n",
            "__________________________________________________________________________________________________\n",
            "conv1d_46 (Conv1D)              (None, 57, 8)        328         conv1d_45[0][0]                  \n",
            "__________________________________________________________________________________________________\n",
            "conv1d_49 (Conv1D)              (None, 57, 16)       1296        conv1d_48[0][0]                  \n",
            "__________________________________________________________________________________________________\n",
            "conv1d_52 (Conv1D)              (None, 57, 32)       5152        conv1d_51[0][0]                  \n",
            "__________________________________________________________________________________________________\n",
            "conv1d_47 (Conv1D)              (None, 53, 8)        328         conv1d_46[0][0]                  \n",
            "__________________________________________________________________________________________________\n",
            "conv1d_50 (Conv1D)              (None, 53, 16)       1296        conv1d_49[0][0]                  \n",
            "__________________________________________________________________________________________________\n",
            "conv1d_53 (Conv1D)              (None, 53, 32)       5152        conv1d_52[0][0]                  \n",
            "__________________________________________________________________________________________________\n",
            "average_pooling1d_15 (AveragePo (None, 26, 8)        0           conv1d_47[0][0]                  \n",
            "__________________________________________________________________________________________________\n",
            "average_pooling1d_16 (AveragePo (None, 26, 16)       0           conv1d_50[0][0]                  \n",
            "__________________________________________________________________________________________________\n",
            "average_pooling1d_17 (AveragePo (None, 26, 32)       0           conv1d_53[0][0]                  \n",
            "__________________________________________________________________________________________________\n",
            "dropout_15 (Dropout)            (None, 26, 8)        0           average_pooling1d_15[0][0]       \n",
            "__________________________________________________________________________________________________\n",
            "dropout_16 (Dropout)            (None, 26, 16)       0           average_pooling1d_16[0][0]       \n",
            "__________________________________________________________________________________________________\n",
            "dropout_17 (Dropout)            (None, 26, 32)       0           average_pooling1d_17[0][0]       \n",
            "__________________________________________________________________________________________________\n",
            "concatenate_5 (Concatenate)     (None, 26, 56)       0           dropout_15[0][0]                 \n",
            "                                                                 dropout_16[0][0]                 \n",
            "                                                                 dropout_17[0][0]                 \n",
            "__________________________________________________________________________________________________\n",
            "dense_8 (Dense)                 (None, 26, 64)       3648        concatenate_5[0][0]              \n",
            "__________________________________________________________________________________________________\n",
            "dense_9 (Dense)                 (None, 26, 1)        65          dense_8[0][0]                    \n",
            "==================================================================================================\n",
            "Total params: 84,221\n",
            "Trainable params: 84,221\n",
            "Non-trainable params: 0\n",
            "__________________________________________________________________________________________________\n"
          ],
          "name": "stdout"
        }
      ]
    },
    {
      "cell_type": "code",
      "metadata": {
        "scrolled": true,
        "id": "KJ8hP7L7Qc2s",
        "colab_type": "code",
        "outputId": "57965a9e-f130-4373-8505-84b93e4545a9",
        "colab": {
          "base_uri": "https://localhost:8080/",
          "height": 768
        }
      },
      "source": [
        "%%time\n",
        "model.fit(X_train, y_train, \n",
        "          validation_data=(X_valid, y_valid),\n",
        "          batch_size=500,\n",
        "         epochs=10,\n",
        "        callbacks=[checkpoint, early_stop])"
      ],
      "execution_count": 0,
      "outputs": [
        {
          "output_type": "stream",
          "text": [
            "Epoch 1/10\n",
            "2480/2482 [============================>.] - ETA: 0s - loss: 0.2187 - f1: 0.1617\n",
            "Epoch 00001: val_f1 improved from -inf to 0.61276, saving model to model.weights\n",
            "2482/2482 [==============================] - 41s 17ms/step - loss: 0.2186 - f1: 0.1621 - val_loss: 0.2068 - val_f1: 0.6128\n",
            "Epoch 2/10\n",
            "2481/2482 [============================>.] - ETA: 0s - loss: 0.2053 - f1: 0.6607\n",
            "Epoch 00002: val_f1 improved from 0.61276 to 0.72278, saving model to model.weights\n",
            "2482/2482 [==============================] - 40s 16ms/step - loss: 0.2053 - f1: 0.6609 - val_loss: 0.2044 - val_f1: 0.7228\n",
            "Epoch 3/10\n",
            "2481/2482 [============================>.] - ETA: 0s - loss: 0.2023 - f1: 0.7252\n",
            "Epoch 00003: val_f1 did not improve from 0.72278\n",
            "2482/2482 [==============================] - 40s 16ms/step - loss: 0.2023 - f1: 0.7252 - val_loss: 0.2013 - val_f1: 0.7170\n",
            "Epoch 4/10\n",
            "2482/2482 [==============================] - ETA: 0s - loss: 0.2009 - f1: 0.7518\n",
            "Epoch 00004: val_f1 improved from 0.72278 to 0.75321, saving model to model.weights\n",
            "2482/2482 [==============================] - 40s 16ms/step - loss: 0.2009 - f1: 0.7518 - val_loss: 0.2026 - val_f1: 0.7532\n",
            "Epoch 5/10\n",
            "2480/2482 [============================>.] - ETA: 0s - loss: 0.1997 - f1: 0.7698\n",
            "Epoch 00005: val_f1 did not improve from 0.75321\n",
            "2482/2482 [==============================] - 40s 16ms/step - loss: 0.1997 - f1: 0.7697 - val_loss: 0.2000 - val_f1: 0.6918\n",
            "Epoch 6/10\n",
            "2482/2482 [==============================] - ETA: 0s - loss: 0.1991 - f1: 0.7831\n",
            "Epoch 00006: val_f1 did not improve from 0.75321\n",
            "2482/2482 [==============================] - 40s 16ms/step - loss: 0.1991 - f1: 0.7831 - val_loss: 0.2002 - val_f1: 0.7091\n",
            "Epoch 7/10\n",
            "2481/2482 [============================>.] - ETA: 0s - loss: 0.1984 - f1: 0.7931\n",
            "Epoch 00007: val_f1 did not improve from 0.75321\n",
            "2482/2482 [==============================] - 40s 16ms/step - loss: 0.1984 - f1: 0.7932 - val_loss: 0.1986 - val_f1: 0.6611\n",
            "Epoch 8/10\n",
            "2481/2482 [============================>.] - ETA: 0s - loss: 0.1979 - f1: 0.8015\n",
            "Epoch 00008: val_f1 did not improve from 0.75321\n",
            "2482/2482 [==============================] - 40s 16ms/step - loss: 0.1979 - f1: 0.8014 - val_loss: 0.1978 - val_f1: 0.7238\n",
            "Epoch 9/10\n",
            "2480/2482 [============================>.] - ETA: 0s - loss: 0.1976 - f1: 0.8058\n",
            "Epoch 00009: val_f1 improved from 0.75321 to 0.76490, saving model to model.weights\n",
            "2482/2482 [==============================] - 40s 16ms/step - loss: 0.1976 - f1: 0.8059 - val_loss: 0.1990 - val_f1: 0.7649\n",
            "Epoch 10/10\n",
            "2479/2482 [============================>.] - ETA: 0s - loss: 0.1972 - f1: 0.8135\n",
            "Epoch 00010: val_f1 did not improve from 0.76490\n",
            "2482/2482 [==============================] - 40s 16ms/step - loss: 0.1972 - f1: 0.8137 - val_loss: 0.2004 - val_f1: 0.6684\n",
            "CPU times: user 4min 47s, sys: 27.8 s, total: 5min 15s\n",
            "Wall time: 6min 43s\n"
          ],
          "name": "stdout"
        },
        {
          "output_type": "execute_result",
          "data": {
            "text/plain": [
              "<tensorflow.python.keras.callbacks.History at 0x7ff0695771d0>"
            ]
          },
          "metadata": {
            "tags": []
          },
          "execution_count": 66
        }
      ]
    },
    {
      "cell_type": "code",
      "metadata": {
        "id": "TwGBXThZ1o-_",
        "colab_type": "code",
        "outputId": "d72be5fa-bb43-47d2-9200-90e26162e61d",
        "colab": {
          "base_uri": "https://localhost:8080/",
          "height": 312
        }
      },
      "source": [
        "model_picture(model)"
      ],
      "execution_count": 0,
      "outputs": [
        {
          "output_type": "stream",
          "text": [
            "dict_keys(['loss', 'f1', 'val_loss', 'val_f1'])\n"
          ],
          "name": "stdout"
        },
        {
          "output_type": "display_data",
          "data": {
            "image/png": "[encoded data removed]",
            "text/plain": [
              "<Figure size 432x288 with 1 Axes>"
            ]
          },
          "metadata": {
            "tags": [],
            "needs_background": "light"
          }
        }
      ]
    },
    {
      "cell_type": "markdown",
      "metadata": {
        "id": "1Zcr3-v2kYLu",
        "colab_type": "text"
      },
      "source": [
        "Валидация скачет, и обучение не сильно продвигается после второй эпохи."
      ]
    },
    {
      "cell_type": "markdown",
      "metadata": {
        "id": "u2YvcdgriemI",
        "colab_type": "text"
      },
      "source": [
        "### 2 попытка собрать все слои"
      ]
    },
    {
      "cell_type": "code",
      "metadata": {
        "id": "iPPW2RtPGSae",
        "colab_type": "code",
        "colab": {}
      },
      "source": [
        "checkpoint = tf.keras.callbacks.ModelCheckpoint('model.weights',  \n",
        "                                                monitor='val_f1', \n",
        "                                                verbose=1, \n",
        "                                                save_weights_only=True, \n",
        "                                                save_best_only=True, \n",
        "                                                mode='max', \n",
        "                                                save_freq='epoch' \n",
        "                                               )\n",
        "\n",
        "early_stop = tf.keras.callbacks.EarlyStopping(monitor='val_f1', \n",
        "                                              min_delta=0.01,\n",
        "                                              patience=5, \n",
        "                                              verbose=1, \n",
        "                                              mode='max',\n",
        "                                              )"
      ],
      "execution_count": 0,
      "outputs": []
    },
    {
      "cell_type": "code",
      "metadata": {
        "id": "aP4P589yiize",
        "colab_type": "code",
        "colab": {}
      },
      "source": [
        "inputs = tf.keras.layers.Input(shape=(MAX_LEN,))\n",
        "embeddings = tf.keras.layers.Embedding(input_dim=len(sym2id), output_dim=50)(inputs, )\n",
        "\n",
        "convs = []\n",
        "\n",
        "conv1 = tf.keras.layers.Conv1D(kernel_size=3, filters=32, strides=1, activation='relu')(embeddings)\n",
        "conv2 = tf.keras.layers.Conv1D(kernel_size=3, filters=32, strides=1, activation='relu')(conv1)\n",
        "conv3 = tf.keras.layers.Conv1D(kernel_size=3, filters=32, strides=1, activation='relu')(conv2)\n",
        "pool1 = tf.keras.layers.AveragePooling1D()(conv3)\n",
        "drop1 = tf.keras.layers.Dropout(0.2)(pool1)\n",
        "convs.append(drop1)\n",
        "\n",
        "conv4 = tf.keras.layers.Conv1D(kernel_size=3, filters=64, strides=1, activation='relu')(embeddings)\n",
        "conv5 = tf.keras.layers.Conv1D(kernel_size=3, filters=64, strides=1, activation='relu')(conv4)\n",
        "conv6 = tf.keras.layers.Conv1D(kernel_size=3, filters=64, strides=1, activation='relu')(conv5)\n",
        "pool2 = tf.keras.layers.AveragePooling1D()(conv6)\n",
        "drop2 = tf.keras.layers.Dropout(0.2)(pool2)\n",
        "convs.append(drop2)\n",
        "\n",
        "conv7 = tf.keras.layers.Conv1D(kernel_size=3, filters=16, strides=1, activation='relu')(embeddings)\n",
        "conv8 = tf.keras.layers.Conv1D(kernel_size=3, filters=16, strides=1, activation='relu')(conv7)\n",
        "conv9 = tf.keras.layers.Conv1D(kernel_size=3, filters=16, strides=1, activation='relu')(conv8)\n",
        "pool3 = tf.keras.layers.AveragePooling1D()(conv9)\n",
        "drop3 = tf.keras.layers.Dropout(0.2)(pool3)\n",
        "convs.append(drop3)\n",
        "\n",
        "\n",
        "concat = tf.keras.layers.Concatenate()(convs)\n",
        "dense1 = tf.keras.layers.Dense(64, activation='relu')(concat)\n",
        "\n",
        "outputs = tf.keras.layers.Dense(1, activation='sigmoid')(dense1)\n",
        "\n",
        "model = tf.keras.Model(inputs=inputs, outputs=outputs)\n",
        "optimizer = tf.keras.optimizers.Adam(learning_rate=0.001)\n",
        "\n",
        "model.compile(optimizer=optimizer,\n",
        "              loss='binary_crossentropy',\n",
        "              metrics=[f1])\n"
      ],
      "execution_count": 0,
      "outputs": []
    },
    {
      "cell_type": "code",
      "metadata": {
        "id": "KCKOIdFOi5DJ",
        "colab_type": "code",
        "outputId": "b5d6c93e-597d-4edc-beef-e2212095a252",
        "colab": {
          "base_uri": "https://localhost:8080/",
          "height": 867
        }
      },
      "source": [
        "model.summary()"
      ],
      "execution_count": 0,
      "outputs": [
        {
          "output_type": "stream",
          "text": [
            "Model: \"model\"\n",
            "__________________________________________________________________________________________________\n",
            "Layer (type)                    Output Shape         Param #     Connected to                     \n",
            "==================================================================================================\n",
            "input_1 (InputLayer)            [(None, 65)]         0                                            \n",
            "__________________________________________________________________________________________________\n",
            "embedding (Embedding)           (None, 65, 50)       52900       input_1[0][0]                    \n",
            "__________________________________________________________________________________________________\n",
            "conv1d (Conv1D)                 (None, 63, 32)       4832        embedding[0][0]                  \n",
            "__________________________________________________________________________________________________\n",
            "conv1d_3 (Conv1D)               (None, 63, 64)       9664        embedding[0][0]                  \n",
            "__________________________________________________________________________________________________\n",
            "conv1d_6 (Conv1D)               (None, 63, 8)        1208        embedding[0][0]                  \n",
            "__________________________________________________________________________________________________\n",
            "conv1d_1 (Conv1D)               (None, 61, 32)       3104        conv1d[0][0]                     \n",
            "__________________________________________________________________________________________________\n",
            "conv1d_4 (Conv1D)               (None, 61, 64)       12352       conv1d_3[0][0]                   \n",
            "__________________________________________________________________________________________________\n",
            "conv1d_7 (Conv1D)               (None, 61, 8)        200         conv1d_6[0][0]                   \n",
            "__________________________________________________________________________________________________\n",
            "conv1d_2 (Conv1D)               (None, 59, 32)       3104        conv1d_1[0][0]                   \n",
            "__________________________________________________________________________________________________\n",
            "conv1d_5 (Conv1D)               (None, 59, 64)       12352       conv1d_4[0][0]                   \n",
            "__________________________________________________________________________________________________\n",
            "conv1d_8 (Conv1D)               (None, 59, 8)        200         conv1d_7[0][0]                   \n",
            "__________________________________________________________________________________________________\n",
            "average_pooling1d (AveragePooli (None, 29, 32)       0           conv1d_2[0][0]                   \n",
            "__________________________________________________________________________________________________\n",
            "average_pooling1d_1 (AveragePoo (None, 29, 64)       0           conv1d_5[0][0]                   \n",
            "__________________________________________________________________________________________________\n",
            "average_pooling1d_2 (AveragePoo (None, 29, 8)        0           conv1d_8[0][0]                   \n",
            "__________________________________________________________________________________________________\n",
            "dropout (Dropout)               (None, 29, 32)       0           average_pooling1d[0][0]          \n",
            "__________________________________________________________________________________________________\n",
            "dropout_1 (Dropout)             (None, 29, 64)       0           average_pooling1d_1[0][0]        \n",
            "__________________________________________________________________________________________________\n",
            "dropout_2 (Dropout)             (None, 29, 8)        0           average_pooling1d_2[0][0]        \n",
            "__________________________________________________________________________________________________\n",
            "concatenate (Concatenate)       (None, 29, 104)      0           dropout[0][0]                    \n",
            "                                                                 dropout_1[0][0]                  \n",
            "                                                                 dropout_2[0][0]                  \n",
            "__________________________________________________________________________________________________\n",
            "dense (Dense)                   (None, 29, 64)       6720        concatenate[0][0]                \n",
            "__________________________________________________________________________________________________\n",
            "dense_1 (Dense)                 (None, 29, 1)        65          dense[0][0]                      \n",
            "==================================================================================================\n",
            "Total params: 106,701\n",
            "Trainable params: 106,701\n",
            "Non-trainable params: 0\n",
            "__________________________________________________________________________________________________\n"
          ],
          "name": "stdout"
        }
      ]
    },
    {
      "cell_type": "code",
      "metadata": {
        "id": "ufdvI_-5i72O",
        "colab_type": "code",
        "outputId": "63704770-d1b3-43b8-8812-93ded3dec1b4",
        "colab": {
          "base_uri": "https://localhost:8080/",
          "height": 768
        }
      },
      "source": [
        "%%time\n",
        "model.fit(X_train, y_train, \n",
        "          validation_data=(X_valid, y_valid),\n",
        "          batch_size=1000,\n",
        "         epochs=10,\n",
        "        callbacks=[checkpoint, early_stop])"
      ],
      "execution_count": 0,
      "outputs": [
        {
          "output_type": "stream",
          "text": [
            "Epoch 1/10\n",
            "1241/1241 [==============================] - ETA: 0s - loss: 0.2281 - f1: 8.1559e-05\n",
            "Epoch 00001: val_f1 improved from -inf to 0.00000, saving model to model.weights\n",
            "1241/1241 [==============================] - 27s 21ms/step - loss: 0.2281 - f1: 8.1559e-05 - val_loss: 0.2164 - val_f1: 0.0000e+00\n",
            "Epoch 2/10\n",
            "1241/1241 [==============================] - ETA: 0s - loss: 0.2153 - f1: 0.2135\n",
            "Epoch 00002: val_f1 improved from 0.00000 to 0.56082, saving model to model.weights\n",
            "1241/1241 [==============================] - 26s 21ms/step - loss: 0.2153 - f1: 0.2135 - val_loss: 0.2124 - val_f1: 0.5608\n",
            "Epoch 3/10\n",
            "1240/1241 [============================>.] - ETA: 0s - loss: 0.2120 - f1: 0.4886\n",
            "Epoch 00003: val_f1 improved from 0.56082 to 0.61214, saving model to model.weights\n",
            "1241/1241 [==============================] - 26s 21ms/step - loss: 0.2120 - f1: 0.4886 - val_loss: 0.2107 - val_f1: 0.6121\n",
            "Epoch 4/10\n",
            "1239/1241 [============================>.] - ETA: 0s - loss: 0.2104 - f1: 0.5615\n",
            "Epoch 00004: val_f1 improved from 0.61214 to 0.63523, saving model to model.weights\n",
            "1241/1241 [==============================] - 26s 21ms/step - loss: 0.2104 - f1: 0.5616 - val_loss: 0.2099 - val_f1: 0.6352\n",
            "Epoch 5/10\n",
            "1240/1241 [============================>.] - ETA: 0s - loss: 0.2093 - f1: 0.5979\n",
            "Epoch 00005: val_f1 improved from 0.63523 to 0.65682, saving model to model.weights\n",
            "1241/1241 [==============================] - 26s 21ms/step - loss: 0.2093 - f1: 0.5978 - val_loss: 0.2081 - val_f1: 0.6568\n",
            "Epoch 6/10\n",
            "1239/1241 [============================>.] - ETA: 0s - loss: 0.2086 - f1: 0.6192\n",
            "Epoch 00006: val_f1 did not improve from 0.65682\n",
            "1241/1241 [==============================] - 26s 21ms/step - loss: 0.2086 - f1: 0.6192 - val_loss: 0.2076 - val_f1: 0.6478\n",
            "Epoch 7/10\n",
            "1240/1241 [============================>.] - ETA: 0s - loss: 0.2081 - f1: 0.6256\n",
            "Epoch 00007: val_f1 did not improve from 0.65682\n",
            "1241/1241 [==============================] - 25s 20ms/step - loss: 0.2081 - f1: 0.6255 - val_loss: 0.2072 - val_f1: 0.6105\n",
            "Epoch 8/10\n",
            "1239/1241 [============================>.] - ETA: 0s - loss: 0.2077 - f1: 0.6277\n",
            "Epoch 00008: val_f1 did not improve from 0.65682\n",
            "1241/1241 [==============================] - 26s 21ms/step - loss: 0.2076 - f1: 0.6274 - val_loss: 0.2074 - val_f1: 0.5187\n",
            "Epoch 9/10\n",
            "1241/1241 [==============================] - ETA: 0s - loss: 0.2073 - f1: 0.6366\n",
            "Epoch 00009: val_f1 did not improve from 0.65682\n",
            "1241/1241 [==============================] - 26s 21ms/step - loss: 0.2073 - f1: 0.6366 - val_loss: 0.2072 - val_f1: 0.6144\n",
            "Epoch 10/10\n",
            "1240/1241 [============================>.] - ETA: 0s - loss: 0.2070 - f1: 0.6414\n",
            "Epoch 00010: val_f1 improved from 0.65682 to 0.69191, saving model to model.weights\n",
            "1241/1241 [==============================] - 26s 21ms/step - loss: 0.2070 - f1: 0.6416 - val_loss: 0.2064 - val_f1: 0.6919\n",
            "CPU times: user 2min 58s, sys: 15.9 s, total: 3min 14s\n",
            "Wall time: 4min 18s\n"
          ],
          "name": "stdout"
        },
        {
          "output_type": "execute_result",
          "data": {
            "text/plain": [
              "<tensorflow.python.keras.callbacks.History at 0x7fd54c01c588>"
            ]
          },
          "metadata": {
            "tags": []
          },
          "execution_count": 27
        }
      ]
    },
    {
      "cell_type": "code",
      "metadata": {
        "id": "NGq0kN5Ej0bq",
        "colab_type": "code",
        "outputId": "e3c56663-1194-4444-8704-98f3c306b6fd",
        "colab": {
          "base_uri": "https://localhost:8080/",
          "height": 312
        }
      },
      "source": [
        "model_picture(model)"
      ],
      "execution_count": 0,
      "outputs": [
        {
          "output_type": "stream",
          "text": [
            "dict_keys(['loss', 'f1', 'val_loss', 'val_f1'])\n"
          ],
          "name": "stdout"
        },
        {
          "output_type": "display_data",
          "data": {
            "image/png": "[encoded data removed]",
            "text/plain": [
              "<Figure size 432x288 with 1 Axes>"
            ]
          },
          "metadata": {
            "tags": [],
            "needs_background": "light"
          }
        }
      ]
    },
    {
      "cell_type": "markdown",
      "metadata": {
        "id": "kevE9iah3IWa",
        "colab_type": "text"
      },
      "source": [
        "### 3 попытка собрать все слои"
      ]
    },
    {
      "cell_type": "code",
      "metadata": {
        "id": "MkbRz7azGXa0",
        "colab_type": "code",
        "colab": {}
      },
      "source": [
        "checkpoint = tf.keras.callbacks.ModelCheckpoint('model.weights', \n",
        "                                                monitor='val_f1', \n",
        "                                                verbose=1, \n",
        "                                                save_weights_only=True, \n",
        "                                                save_best_only=True, \n",
        "                                                mode='max', \n",
        "                                                save_freq='epoch' \n",
        "                                               )\n",
        "\n",
        "early_stop = tf.keras.callbacks.EarlyStopping(monitor='val_f1', \n",
        "                                              min_delta=0.01, \n",
        "                                              patience=5, \n",
        "                                              verbose=1, \n",
        "                                              mode='max',\n",
        "                                              )"
      ],
      "execution_count": 0,
      "outputs": []
    },
    {
      "cell_type": "code",
      "metadata": {
        "id": "ZCbUqejT3F77",
        "colab_type": "code",
        "colab": {}
      },
      "source": [
        "inputs = tf.keras.layers.Input(shape=(MAX_LEN,))\n",
        "embeddings = tf.keras.layers.Embedding(input_dim=len(sym2id), output_dim=50)(inputs, )\n",
        "\n",
        "convs = []\n",
        "\n",
        "conv1 = tf.keras.layers.Conv1D(kernel_size=5, filters=16, strides=1, padding='same', activation='relu')(embeddings)\n",
        "conv2 = tf.keras.layers.Conv1D(kernel_size=5, filters=16, strides=1, padding='same', activation='relu')(conv1)\n",
        "conv3 = tf.keras.layers.Conv1D(kernel_size=5, filters=16, strides=1, padding='same', activation='relu')(conv2)\n",
        "pool1 = tf.keras.layers.AveragePooling1D()(conv3)\n",
        "drop1 = tf.keras.layers.Dropout(0.2)(pool1)\n",
        "convs.append(drop1)\n",
        "\n",
        "conv4 = tf.keras.layers.Conv1D(kernel_size=5, filters=32, strides=1, padding='same', activation='relu')(embeddings)\n",
        "conv5 = tf.keras.layers.Conv1D(kernel_size=5, filters=32, strides=1, padding='same', activation='relu')(conv4)\n",
        "conv6 = tf.keras.layers.Conv1D(kernel_size=5, filters=32, strides=1, padding='same', activation='relu')(conv5)\n",
        "pool2 = tf.keras.layers.AveragePooling1D()(conv6)\n",
        "drop2 = tf.keras.layers.Dropout(0.2)(pool2)\n",
        "convs.append(drop2)\n",
        "\n",
        "conv7 = tf.keras.layers.Conv1D(kernel_size=5, filters=16, strides=1, padding='same', activation='relu')(embeddings)\n",
        "conv8 = tf.keras.layers.Conv1D(kernel_size=5, filters=16, strides=1, padding='same', activation='relu')(conv7)\n",
        "conv9 = tf.keras.layers.Conv1D(kernel_size=5, filters=16, strides=1, padding='same', activation='relu')(conv8)\n",
        "pool3 = tf.keras.layers.AveragePooling1D()(conv9)\n",
        "drop3 = tf.keras.layers.Dropout(0.2)(pool3)\n",
        "convs.append(drop3)\n",
        "\n",
        "\n",
        "concat = tf.keras.layers.Concatenate()(convs)\n",
        "dense1 = tf.keras.layers.Dense(64, activation='relu')(concat)\n",
        "\n",
        "outputs = tf.keras.layers.Dense(1, activation='sigmoid')(dense1)\n",
        "\n",
        "model = tf.keras.Model(inputs=inputs, outputs=outputs)\n",
        "optimizer = tf.keras.optimizers.Adam(learning_rate=0.001)\n",
        "\n",
        "model.compile(optimizer=optimizer,\n",
        "              loss='binary_crossentropy',\n",
        "              metrics=[f1])\n"
      ],
      "execution_count": 0,
      "outputs": []
    },
    {
      "cell_type": "code",
      "metadata": {
        "id": "8t9abBaA3Qo3",
        "colab_type": "code",
        "outputId": "c03a6074-ff98-4357-a1f2-f192e2b54e01",
        "colab": {
          "base_uri": "https://localhost:8080/",
          "height": 867
        }
      },
      "source": [
        "model.summary()"
      ],
      "execution_count": 0,
      "outputs": [
        {
          "output_type": "stream",
          "text": [
            "Model: \"model\"\n",
            "__________________________________________________________________________________________________\n",
            "Layer (type)                    Output Shape         Param #     Connected to                     \n",
            "==================================================================================================\n",
            "input_1 (InputLayer)            [(None, 65)]         0                                            \n",
            "__________________________________________________________________________________________________\n",
            "embedding (Embedding)           (None, 65, 50)       3900        input_1[0][0]                    \n",
            "__________________________________________________________________________________________________\n",
            "conv1d (Conv1D)                 (None, 65, 16)       4016        embedding[0][0]                  \n",
            "__________________________________________________________________________________________________\n",
            "conv1d_3 (Conv1D)               (None, 65, 32)       8032        embedding[0][0]                  \n",
            "__________________________________________________________________________________________________\n",
            "conv1d_6 (Conv1D)               (None, 65, 16)       4016        embedding[0][0]                  \n",
            "__________________________________________________________________________________________________\n",
            "conv1d_1 (Conv1D)               (None, 65, 16)       1296        conv1d[0][0]                     \n",
            "__________________________________________________________________________________________________\n",
            "conv1d_4 (Conv1D)               (None, 65, 32)       5152        conv1d_3[0][0]                   \n",
            "__________________________________________________________________________________________________\n",
            "conv1d_7 (Conv1D)               (None, 65, 16)       1296        conv1d_6[0][0]                   \n",
            "__________________________________________________________________________________________________\n",
            "conv1d_2 (Conv1D)               (None, 65, 16)       1296        conv1d_1[0][0]                   \n",
            "__________________________________________________________________________________________________\n",
            "conv1d_5 (Conv1D)               (None, 65, 32)       5152        conv1d_4[0][0]                   \n",
            "__________________________________________________________________________________________________\n",
            "conv1d_8 (Conv1D)               (None, 65, 16)       1296        conv1d_7[0][0]                   \n",
            "__________________________________________________________________________________________________\n",
            "average_pooling1d (AveragePooli (None, 32, 16)       0           conv1d_2[0][0]                   \n",
            "__________________________________________________________________________________________________\n",
            "average_pooling1d_1 (AveragePoo (None, 32, 32)       0           conv1d_5[0][0]                   \n",
            "__________________________________________________________________________________________________\n",
            "average_pooling1d_2 (AveragePoo (None, 32, 16)       0           conv1d_8[0][0]                   \n",
            "__________________________________________________________________________________________________\n",
            "dropout (Dropout)               (None, 32, 16)       0           average_pooling1d[0][0]          \n",
            "__________________________________________________________________________________________________\n",
            "dropout_1 (Dropout)             (None, 32, 32)       0           average_pooling1d_1[0][0]        \n",
            "__________________________________________________________________________________________________\n",
            "dropout_2 (Dropout)             (None, 32, 16)       0           average_pooling1d_2[0][0]        \n",
            "__________________________________________________________________________________________________\n",
            "concatenate (Concatenate)       (None, 32, 64)       0           dropout[0][0]                    \n",
            "                                                                 dropout_1[0][0]                  \n",
            "                                                                 dropout_2[0][0]                  \n",
            "__________________________________________________________________________________________________\n",
            "dense (Dense)                   (None, 32, 64)       4160        concatenate[0][0]                \n",
            "__________________________________________________________________________________________________\n",
            "dense_1 (Dense)                 (None, 32, 1)        65          dense[0][0]                      \n",
            "==================================================================================================\n",
            "Total params: 39,677\n",
            "Trainable params: 39,677\n",
            "Non-trainable params: 0\n",
            "__________________________________________________________________________________________________\n"
          ],
          "name": "stdout"
        }
      ]
    },
    {
      "cell_type": "code",
      "metadata": {
        "id": "loJHXtut3Vk4",
        "colab_type": "code",
        "outputId": "3182f099-ae1a-4f73-c103-bca1d7daa666",
        "colab": {
          "base_uri": "https://localhost:8080/",
          "height": 785
        }
      },
      "source": [
        "%%time\n",
        "model.fit(X_train, y_train, \n",
        "          validation_data=(X_valid, y_valid),\n",
        "          batch_size=1000,\n",
        "         epochs=10,\n",
        "        callbacks=[checkpoint, early_stop])"
      ],
      "execution_count": 0,
      "outputs": [
        {
          "output_type": "stream",
          "text": [
            "Epoch 1/10\n",
            "1241/1241 [==============================] - ETA: 0s - loss: 0.2259 - f1: 1.6090e-04\n",
            "Epoch 00001: val_f1 improved from -inf to 0.00000, saving model to model.weights\n",
            "1241/1241 [==============================] - 59s 47ms/step - loss: 0.2259 - f1: 1.6090e-04 - val_loss: 0.2108 - val_f1: 0.0000e+00\n",
            "Epoch 2/10\n",
            "1240/1241 [============================>.] - ETA: 0s - loss: 0.2089 - f1: 0.4042\n",
            "Epoch 00002: val_f1 improved from 0.00000 to 0.69839, saving model to model.weights\n",
            "1241/1241 [==============================] - 57s 46ms/step - loss: 0.2089 - f1: 0.4045 - val_loss: 0.2066 - val_f1: 0.6984\n",
            "Epoch 3/10\n",
            "1240/1241 [============================>.] - ETA: 0s - loss: 0.2053 - f1: 0.7151\n",
            "Epoch 00003: val_f1 improved from 0.69839 to 0.80809, saving model to model.weights\n",
            "1241/1241 [==============================] - 58s 47ms/step - loss: 0.2053 - f1: 0.7150 - val_loss: 0.2076 - val_f1: 0.8081\n",
            "Epoch 4/10\n",
            "1240/1241 [============================>.] - ETA: 0s - loss: 0.2033 - f1: 0.7705\n",
            "Epoch 00004: val_f1 improved from 0.80809 to 0.83711, saving model to model.weights\n",
            "1241/1241 [==============================] - 58s 46ms/step - loss: 0.2033 - f1: 0.7706 - val_loss: 0.2047 - val_f1: 0.8371\n",
            "Epoch 5/10\n",
            "1240/1241 [============================>.] - ETA: 0s - loss: 0.2020 - f1: 0.7950\n",
            "Epoch 00005: val_f1 improved from 0.83711 to 0.85272, saving model to model.weights\n",
            "1241/1241 [==============================] - 58s 47ms/step - loss: 0.2021 - f1: 0.7950 - val_loss: 0.2045 - val_f1: 0.8527\n",
            "Epoch 6/10\n",
            "1240/1241 [============================>.] - ETA: 0s - loss: 0.2012 - f1: 0.8126\n",
            "Epoch 00006: val_f1 did not improve from 0.85272\n",
            "1241/1241 [==============================] - 58s 47ms/step - loss: 0.2012 - f1: 0.8128 - val_loss: 0.2009 - val_f1: 0.7920\n",
            "Epoch 7/10\n",
            "1240/1241 [============================>.] - ETA: 0s - loss: 0.2007 - f1: 0.8151\n",
            "Epoch 00007: val_f1 did not improve from 0.85272\n",
            "1241/1241 [==============================] - 58s 47ms/step - loss: 0.2007 - f1: 0.8151 - val_loss: 0.2016 - val_f1: 0.8273\n",
            "Epoch 8/10\n",
            "1240/1241 [============================>.] - ETA: 0s - loss: 0.2001 - f1: 0.8301\n",
            "Epoch 00008: val_f1 did not improve from 0.85272\n",
            "1241/1241 [==============================] - 58s 47ms/step - loss: 0.2001 - f1: 0.8300 - val_loss: 0.2002 - val_f1: 0.7872\n",
            "Epoch 9/10\n",
            "1240/1241 [============================>.] - ETA: 0s - loss: 0.1997 - f1: 0.8315\n",
            "Epoch 00009: val_f1 did not improve from 0.85272\n",
            "1241/1241 [==============================] - 59s 47ms/step - loss: 0.1998 - f1: 0.8316 - val_loss: 0.2007 - val_f1: 0.7785\n",
            "Epoch 10/10\n",
            "1241/1241 [==============================] - ETA: 0s - loss: 0.1993 - f1: 0.8425\n",
            "Epoch 00010: val_f1 did not improve from 0.85272\n",
            "1241/1241 [==============================] - 58s 47ms/step - loss: 0.1993 - f1: 0.8425 - val_loss: 0.1997 - val_f1: 0.7766\n",
            "Epoch 00010: early stopping\n",
            "CPU times: user 4min 10s, sys: 33.6 s, total: 4min 44s\n",
            "Wall time: 9min 49s\n"
          ],
          "name": "stdout"
        },
        {
          "output_type": "execute_result",
          "data": {
            "text/plain": [
              "<tensorflow.python.keras.callbacks.History at 0x7fa183d54d68>"
            ]
          },
          "metadata": {
            "tags": []
          },
          "execution_count": 31
        }
      ]
    },
    {
      "cell_type": "code",
      "metadata": {
        "id": "KWS01iX83Xw_",
        "colab_type": "code",
        "outputId": "871434b4-3e6a-4b41-d4fd-16789165662f",
        "colab": {
          "base_uri": "https://localhost:8080/",
          "height": 312
        }
      },
      "source": [
        "model_picture(model)"
      ],
      "execution_count": 0,
      "outputs": [
        {
          "output_type": "stream",
          "text": [
            "dict_keys(['loss', 'f1', 'val_loss', 'val_f1'])\n"
          ],
          "name": "stdout"
        },
        {
          "output_type": "display_data",
          "data": {
            "image/png": "[encoded data removed]",
            "text/plain": [
              "<Figure size 432x288 with 1 Axes>"
            ]
          },
          "metadata": {
            "tags": [],
            "needs_background": "light"
          }
        }
      ]
    },
    {
      "cell_type": "markdown",
      "metadata": {
        "id": "d5iekNg-HmQN",
        "colab_type": "text"
      },
      "source": [
        "## Посимвольная токенизация с заменой особых символов на особые токены"
      ]
    },
    {
      "cell_type": "markdown",
      "metadata": {
        "id": "NEjO6X0hH3r2",
        "colab_type": "text"
      },
      "source": [
        "Предобработка"
      ]
    },
    {
      "cell_type": "code",
      "metadata": {
        "id": "M5kl_Pi7HlYw",
        "colab_type": "code",
        "colab": {}
      },
      "source": [
        "def spec_sym_tokenize(text):\n",
        "  text = text.lower()\n",
        "  spaces = '\\t\\n\\r\\x0b\\x0c'\n",
        "  result = []\n",
        "\n",
        "  for sym in text:\n",
        "    if sym in spaces or sym == ' ':\n",
        "      result.append(' ')\n",
        "    elif sym in punct:\n",
        "      result.append('PCT')\n",
        "    elif sym in ascii_lowercase:\n",
        "      result.append(sym)\n",
        "    elif sym in digits:\n",
        "      result.append('DGT')\n",
        "    else:\n",
        "      result.append('UNK')\n",
        "  return result\n"
      ],
      "execution_count": 0,
      "outputs": []
    },
    {
      "cell_type": "code",
      "metadata": {
        "id": "rmdyizEIH-hd",
        "colab_type": "code",
        "colab": {}
      },
      "source": [
        "# словарь\n",
        "\n",
        "def make_vocab(texts):\n",
        "  vocab = Counter()\n",
        "\n",
        "  for text in texts:\n",
        "      vocab.update(spec_sym_tokenize(text))\n",
        "\n",
        "  filtered_vocab = set()\n",
        "\n",
        "  for sym in vocab:\n",
        "    if vocab[sym] > 1:\n",
        "        filtered_vocab.add(sym)\n",
        "        \n",
        "  return filtered_vocab"
      ],
      "execution_count": 0,
      "outputs": []
    },
    {
      "cell_type": "code",
      "metadata": {
        "id": "kmN96HqlIBRg",
        "colab_type": "code",
        "colab": {}
      },
      "source": [
        "quora_vocab = make_vocab(quora.question_text)"
      ],
      "execution_count": 0,
      "outputs": []
    },
    {
      "cell_type": "code",
      "metadata": {
        "id": "FjJPZ0OgIEG3",
        "colab_type": "code",
        "outputId": "7cf207e0-761f-4dce-9b39-a4ec58493386",
        "colab": {
          "base_uri": "https://localhost:8080/",
          "height": 34
        }
      },
      "source": [
        "len(quora_vocab)"
      ],
      "execution_count": 0,
      "outputs": [
        {
          "output_type": "execute_result",
          "data": {
            "text/plain": [
              "30"
            ]
          },
          "metadata": {
            "tags": []
          },
          "execution_count": 32
        }
      ]
    },
    {
      "cell_type": "code",
      "metadata": {
        "id": "uTEH5padtSq0",
        "colab_type": "code",
        "outputId": "d4e8cfd2-70ae-40c5-ea1f-150cbcfe5990",
        "colab": {
          "base_uri": "https://localhost:8080/",
          "height": 527
        }
      },
      "source": [
        "quora_vocab"
      ],
      "execution_count": 0,
      "outputs": [
        {
          "output_type": "execute_result",
          "data": {
            "text/plain": [
              "{' ',\n",
              " 'DGT',\n",
              " 'PCT',\n",
              " 'UNK',\n",
              " 'a',\n",
              " 'b',\n",
              " 'c',\n",
              " 'd',\n",
              " 'e',\n",
              " 'f',\n",
              " 'g',\n",
              " 'h',\n",
              " 'i',\n",
              " 'j',\n",
              " 'k',\n",
              " 'l',\n",
              " 'm',\n",
              " 'n',\n",
              " 'o',\n",
              " 'p',\n",
              " 'q',\n",
              " 'r',\n",
              " 's',\n",
              " 't',\n",
              " 'u',\n",
              " 'v',\n",
              " 'w',\n",
              " 'x',\n",
              " 'y',\n",
              " 'z'}"
            ]
          },
          "metadata": {
            "tags": []
          },
          "execution_count": 14
        }
      ]
    },
    {
      "cell_type": "code",
      "metadata": {
        "id": "2jk-cl2HIQA6",
        "colab_type": "code",
        "colab": {}
      },
      "source": [
        "sym2id = {'PCT': 3, 'DGT': 2, 'UNK': 1, 'PAD': 0}\n",
        "for sym in quora_vocab:\n",
        "  sym2id[sym] = len(sym2id)"
      ],
      "execution_count": 0,
      "outputs": []
    },
    {
      "cell_type": "code",
      "metadata": {
        "id": "fu3UrfptIYga",
        "colab_type": "code",
        "colab": {}
      },
      "source": [
        "id2sym = {i:sym for sym, i in sym2id.items()}"
      ],
      "execution_count": 0,
      "outputs": []
    },
    {
      "cell_type": "code",
      "metadata": {
        "id": "3AY2zrGWIbiF",
        "colab_type": "code",
        "colab": {}
      },
      "source": [
        "# переводим тексты в последовательности индексов\n",
        "X = []\n",
        "\n",
        "for text in quora.question_text:\n",
        "    tokens = spec_sym_tokenize(text)\n",
        "    ids = [sym2id.get(token, 1) for token in tokens]\n",
        "    X.append(ids)"
      ],
      "execution_count": 0,
      "outputs": []
    },
    {
      "cell_type": "code",
      "metadata": {
        "id": "l23GTlhQIej6",
        "colab_type": "code",
        "colab": {}
      },
      "source": [
        "MAX_LEN = max(len(x) for x in X)"
      ],
      "execution_count": 0,
      "outputs": []
    },
    {
      "cell_type": "code",
      "metadata": {
        "id": "T8Xx8YxoIflX",
        "colab_type": "code",
        "outputId": "8af8477a-ec51-4d2d-9ec2-9a7a12c0a219",
        "colab": {
          "base_uri": "https://localhost:8080/",
          "height": 34
        }
      },
      "source": [
        "MAX_LEN"
      ],
      "execution_count": 0,
      "outputs": [
        {
          "output_type": "execute_result",
          "data": {
            "text/plain": [
              "1017"
            ]
          },
          "metadata": {
            "tags": []
          },
          "execution_count": 60
        }
      ]
    },
    {
      "cell_type": "code",
      "metadata": {
        "id": "74p44SYAIizh",
        "colab_type": "code",
        "colab": {}
      },
      "source": [
        "MEAN_LEN = np.median([len(x) for x in X])"
      ],
      "execution_count": 0,
      "outputs": []
    },
    {
      "cell_type": "code",
      "metadata": {
        "id": "KsqpzXAXIlEj",
        "colab_type": "code",
        "colab": {}
      },
      "source": [
        "MAX_LEN = int(MEAN_LEN + 5)"
      ],
      "execution_count": 0,
      "outputs": []
    },
    {
      "cell_type": "code",
      "metadata": {
        "id": "qakeDRuFInwL",
        "colab_type": "code",
        "colab": {}
      },
      "source": [
        "# паддинг\n",
        "X = tf.keras.preprocessing.sequence.pad_sequences(X, maxlen=MAX_LEN)"
      ],
      "execution_count": 0,
      "outputs": []
    },
    {
      "cell_type": "code",
      "metadata": {
        "id": "zlauLG8YIqe_",
        "colab_type": "code",
        "outputId": "0e4a6589-f3de-49ef-bc12-54ccc37a11e4",
        "colab": {
          "base_uri": "https://localhost:8080/",
          "height": 34
        }
      },
      "source": [
        "X.shape"
      ],
      "execution_count": 0,
      "outputs": [
        {
          "output_type": "execute_result",
          "data": {
            "text/plain": [
              "(1306122, 65)"
            ]
          },
          "metadata": {
            "tags": []
          },
          "execution_count": 64
        }
      ]
    },
    {
      "cell_type": "code",
      "metadata": {
        "id": "-tqsf2BQIsgM",
        "colab_type": "code",
        "colab": {}
      },
      "source": [
        "y = quora.target.values"
      ],
      "execution_count": 0,
      "outputs": []
    },
    {
      "cell_type": "code",
      "metadata": {
        "id": "nU1Qw8sLIyD9",
        "colab_type": "code",
        "colab": {}
      },
      "source": [
        "X_train, X_valid, y_train, y_valid = train_test_split(X, y, test_size=0.05, stratify=y, random_state=42)"
      ],
      "execution_count": 0,
      "outputs": []
    },
    {
      "cell_type": "markdown",
      "metadata": {
        "id": "k8eK-1y6ncHm",
        "colab_type": "text"
      },
      "source": [
        "### 1 попытка собрать все слои"
      ]
    },
    {
      "cell_type": "code",
      "metadata": {
        "id": "GIvbb0BQG4gC",
        "colab_type": "code",
        "colab": {}
      },
      "source": [
        "checkpoint = tf.keras.callbacks.ModelCheckpoint('model.weights',  \n",
        "                                                monitor='val_f1',\n",
        "                                                verbose=1, \n",
        "                                                save_weights_only=True, \n",
        "                                                save_best_only=True, \n",
        "                                                mode='max', \n",
        "                                                save_freq='epoch' \n",
        "                                               )\n",
        "\n",
        "early_stop = tf.keras.callbacks.EarlyStopping(monitor='val_f1', \n",
        "                                              min_delta=0.01, \n",
        "                                              patience=5,\n",
        "                                              verbose=1, \n",
        "                                              mode='max',\n",
        "                                              )\n"
      ],
      "execution_count": 0,
      "outputs": []
    },
    {
      "cell_type": "code",
      "metadata": {
        "id": "XnJ5H8QsI3w2",
        "colab_type": "code",
        "colab": {}
      },
      "source": [
        "inputs = tf.keras.layers.Input(shape=(MAX_LEN,))\n",
        "embeddings = tf.keras.layers.Embedding(input_dim=len(sym2id), output_dim=50)(inputs, )\n",
        "\n",
        "convs = []\n",
        "\n",
        "conv1 = tf.keras.layers.Conv1D(kernel_size=5, filters=32, strides=1, activation='relu')(embeddings)\n",
        "conv2 = tf.keras.layers.Conv1D(kernel_size=5, filters=32, strides=1, activation='relu')(conv1)\n",
        "conv3 = tf.keras.layers.Conv1D(kernel_size=5, filters=32, strides=1, activation='relu')(conv2)\n",
        "pool1 = tf.keras.layers.AveragePooling1D()(conv3)\n",
        "drop1 = tf.keras.layers.Dropout(0.2)(pool1)\n",
        "convs.append(drop1)\n",
        "\n",
        "conv4 = tf.keras.layers.Conv1D(kernel_size=5, filters=64, strides=1, activation='relu')(embeddings)\n",
        "conv5 = tf.keras.layers.Conv1D(kernel_size=5, filters=64, strides=1, activation='relu')(conv4)\n",
        "conv6 = tf.keras.layers.Conv1D(kernel_size=5, filters=64, strides=1, activation='relu')(conv5)\n",
        "pool2 = tf.keras.layers.AveragePooling1D()(conv6)\n",
        "drop2 = tf.keras.layers.Dropout(0.2)(pool2)\n",
        "convs.append(drop2)\n",
        "\n",
        "conv7 = tf.keras.layers.Conv1D(kernel_size=5, filters=32, strides=1, activation='relu')(embeddings)\n",
        "conv8 = tf.keras.layers.Conv1D(kernel_size=5, filters=32, strides=1, activation='relu')(conv7)\n",
        "conv9 = tf.keras.layers.Conv1D(kernel_size=5, filters=32, strides=1, activation='relu')(conv8)\n",
        "pool3 = tf.keras.layers.AveragePooling1D()(conv9)\n",
        "drop3 = tf.keras.layers.Dropout(0.2)(pool3)\n",
        "convs.append(drop3)\n",
        "\n",
        "\n",
        "concat = tf.keras.layers.Concatenate()(convs)\n",
        "conv_global = tf.keras.layers.Conv1D(kernel_size=2, filters=32, strides=1)(concat)\n",
        "dense = tf.keras.layers.Dense(64, activation='relu')(conv_global)\n",
        "\n",
        "outputs = tf.keras.layers.Dense(1, activation='sigmoid')(dense)\n",
        "\n",
        "model = tf.keras.Model(inputs=inputs, outputs=outputs)\n",
        "optimizer = tf.keras.optimizers.Adam(learning_rate=0.001)\n",
        "\n",
        "model.compile(optimizer=optimizer,\n",
        "              loss='binary_crossentropy',\n",
        "              metrics=[f1])\n"
      ],
      "execution_count": 0,
      "outputs": []
    },
    {
      "cell_type": "code",
      "metadata": {
        "id": "P76L1jYxJZVM",
        "colab_type": "code",
        "outputId": "7bc1de7a-4d71-4bd5-8997-a4892eefcb14",
        "colab": {
          "base_uri": "https://localhost:8080/",
          "height": 768
        }
      },
      "source": [
        "%%time\n",
        "model.fit(X_train, y_train, \n",
        "          validation_data=(X_valid, y_valid),\n",
        "          batch_size=1000,\n",
        "         epochs=10,\n",
        "        callbacks=[checkpoint, early_stop])"
      ],
      "execution_count": 0,
      "outputs": [
        {
          "output_type": "stream",
          "text": [
            "Epoch 1/10\n",
            "1241/1241 [==============================] - ETA: 0s - loss: 0.2171 - f1: 0.2188\n",
            "Epoch 00001: val_f1 improved from -inf to 0.79207, saving model to model.weights\n",
            "1241/1241 [==============================] - 30s 24ms/step - loss: 0.2171 - f1: 0.2188 - val_loss: 0.2033 - val_f1: 0.7921\n",
            "Epoch 2/10\n",
            "1240/1241 [============================>.] - ETA: 0s - loss: 0.2007 - f1: 0.7495\n",
            "Epoch 00002: val_f1 did not improve from 0.79207\n",
            "1241/1241 [==============================] - 30s 24ms/step - loss: 0.2007 - f1: 0.7495 - val_loss: 0.1972 - val_f1: 0.7863\n",
            "Epoch 3/10\n",
            "1241/1241 [==============================] - ETA: 0s - loss: 0.1968 - f1: 0.8187\n",
            "Epoch 00003: val_f1 improved from 0.79207 to 0.80439, saving model to model.weights\n",
            "1241/1241 [==============================] - 29s 24ms/step - loss: 0.1968 - f1: 0.8187 - val_loss: 0.1953 - val_f1: 0.8044\n",
            "Epoch 4/10\n",
            "1241/1241 [==============================] - ETA: 0s - loss: 0.1943 - f1: 0.8520\n",
            "Epoch 00004: val_f1 improved from 0.80439 to 0.84784, saving model to model.weights\n",
            "1241/1241 [==============================] - 29s 24ms/step - loss: 0.1943 - f1: 0.8520 - val_loss: 0.1934 - val_f1: 0.8478\n",
            "Epoch 5/10\n",
            "1240/1241 [============================>.] - ETA: 0s - loss: 0.1928 - f1: 0.8680\n",
            "Epoch 00005: val_f1 improved from 0.84784 to 0.90787, saving model to model.weights\n",
            "1241/1241 [==============================] - 29s 24ms/step - loss: 0.1929 - f1: 0.8680 - val_loss: 0.1936 - val_f1: 0.9079\n",
            "Epoch 6/10\n",
            "1241/1241 [==============================] - ETA: 0s - loss: 0.1919 - f1: 0.8837\n",
            "Epoch 00006: val_f1 did not improve from 0.90787\n",
            "1241/1241 [==============================] - 29s 24ms/step - loss: 0.1919 - f1: 0.8837 - val_loss: 0.1972 - val_f1: 0.8505\n",
            "Epoch 7/10\n",
            "1240/1241 [============================>.] - ETA: 0s - loss: 0.1911 - f1: 0.8906\n",
            "Epoch 00007: val_f1 improved from 0.90787 to 0.91603, saving model to model.weights\n",
            "1241/1241 [==============================] - 29s 24ms/step - loss: 0.1911 - f1: 0.8907 - val_loss: 0.1928 - val_f1: 0.9160\n",
            "Epoch 8/10\n",
            "1240/1241 [============================>.] - ETA: 0s - loss: 0.1904 - f1: 0.9015\n",
            "Epoch 00008: val_f1 did not improve from 0.91603\n",
            "1241/1241 [==============================] - 29s 24ms/step - loss: 0.1903 - f1: 0.9013 - val_loss: 0.1921 - val_f1: 0.9071\n",
            "Epoch 9/10\n",
            "1241/1241 [==============================] - ETA: 0s - loss: 0.1897 - f1: 0.9075\n",
            "Epoch 00009: val_f1 improved from 0.91603 to 0.91846, saving model to model.weights\n",
            "1241/1241 [==============================] - 29s 24ms/step - loss: 0.1897 - f1: 0.9075 - val_loss: 0.1906 - val_f1: 0.9185\n",
            "Epoch 10/10\n",
            "1240/1241 [============================>.] - ETA: 0s - loss: 0.1894 - f1: 0.9110\n",
            "Epoch 00010: val_f1 did not improve from 0.91846\n",
            "1241/1241 [==============================] - 29s 24ms/step - loss: 0.1894 - f1: 0.9109 - val_loss: 0.1910 - val_f1: 0.8195\n",
            "CPU times: user 3min, sys: 16.7 s, total: 3min 17s\n",
            "Wall time: 4min 55s\n"
          ],
          "name": "stdout"
        },
        {
          "output_type": "execute_result",
          "data": {
            "text/plain": [
              "<tensorflow.python.keras.callbacks.History at 0x7fd407e23f98>"
            ]
          },
          "metadata": {
            "tags": []
          },
          "execution_count": 87
        }
      ]
    },
    {
      "cell_type": "code",
      "metadata": {
        "id": "RHQMu8AxhrAK",
        "colab_type": "code",
        "outputId": "e7f01576-696e-4e4f-c7a3-8aeb3fb46d7b",
        "colab": {
          "base_uri": "https://localhost:8080/",
          "height": 901
        }
      },
      "source": [
        "model.summary()"
      ],
      "execution_count": 0,
      "outputs": [
        {
          "output_type": "stream",
          "text": [
            "Model: \"model_13\"\n",
            "__________________________________________________________________________________________________\n",
            "Layer (type)                    Output Shape         Param #     Connected to                     \n",
            "==================================================================================================\n",
            "input_16 (InputLayer)           [(None, 65)]         0                                            \n",
            "__________________________________________________________________________________________________\n",
            "embedding_15 (Embedding)        (None, 65, 50)       1550        input_16[0][0]                   \n",
            "__________________________________________________________________________________________________\n",
            "conv1d_135 (Conv1D)             (None, 61, 32)       8032        embedding_15[0][0]               \n",
            "__________________________________________________________________________________________________\n",
            "conv1d_138 (Conv1D)             (None, 61, 64)       16064       embedding_15[0][0]               \n",
            "__________________________________________________________________________________________________\n",
            "conv1d_141 (Conv1D)             (None, 61, 32)       8032        embedding_15[0][0]               \n",
            "__________________________________________________________________________________________________\n",
            "conv1d_136 (Conv1D)             (None, 57, 32)       5152        conv1d_135[0][0]                 \n",
            "__________________________________________________________________________________________________\n",
            "conv1d_139 (Conv1D)             (None, 57, 64)       20544       conv1d_138[0][0]                 \n",
            "__________________________________________________________________________________________________\n",
            "conv1d_142 (Conv1D)             (None, 57, 32)       5152        conv1d_141[0][0]                 \n",
            "__________________________________________________________________________________________________\n",
            "conv1d_137 (Conv1D)             (None, 53, 32)       5152        conv1d_136[0][0]                 \n",
            "__________________________________________________________________________________________________\n",
            "conv1d_140 (Conv1D)             (None, 53, 64)       20544       conv1d_139[0][0]                 \n",
            "__________________________________________________________________________________________________\n",
            "conv1d_143 (Conv1D)             (None, 53, 32)       5152        conv1d_142[0][0]                 \n",
            "__________________________________________________________________________________________________\n",
            "average_pooling1d_45 (AveragePo (None, 26, 32)       0           conv1d_137[0][0]                 \n",
            "__________________________________________________________________________________________________\n",
            "average_pooling1d_46 (AveragePo (None, 26, 64)       0           conv1d_140[0][0]                 \n",
            "__________________________________________________________________________________________________\n",
            "average_pooling1d_47 (AveragePo (None, 26, 32)       0           conv1d_143[0][0]                 \n",
            "__________________________________________________________________________________________________\n",
            "dropout_45 (Dropout)            (None, 26, 32)       0           average_pooling1d_45[0][0]       \n",
            "__________________________________________________________________________________________________\n",
            "dropout_46 (Dropout)            (None, 26, 64)       0           average_pooling1d_46[0][0]       \n",
            "__________________________________________________________________________________________________\n",
            "dropout_47 (Dropout)            (None, 26, 32)       0           average_pooling1d_47[0][0]       \n",
            "__________________________________________________________________________________________________\n",
            "concatenate_15 (Concatenate)    (None, 26, 128)      0           dropout_45[0][0]                 \n",
            "                                                                 dropout_46[0][0]                 \n",
            "                                                                 dropout_47[0][0]                 \n",
            "__________________________________________________________________________________________________\n",
            "conv1d_144 (Conv1D)             (None, 25, 32)       8224        concatenate_15[0][0]             \n",
            "__________________________________________________________________________________________________\n",
            "dense_26 (Dense)                (None, 25, 64)       2112        conv1d_144[0][0]                 \n",
            "__________________________________________________________________________________________________\n",
            "dense_27 (Dense)                (None, 25, 1)        65          dense_26[0][0]                   \n",
            "==================================================================================================\n",
            "Total params: 105,775\n",
            "Trainable params: 105,775\n",
            "Non-trainable params: 0\n",
            "__________________________________________________________________________________________________\n"
          ],
          "name": "stdout"
        }
      ]
    },
    {
      "cell_type": "code",
      "metadata": {
        "id": "01YXL-gvhu-q",
        "colab_type": "code",
        "outputId": "a2cb053f-9cb6-4b8f-82c2-61e8ac324c29",
        "colab": {
          "base_uri": "https://localhost:8080/",
          "height": 312
        }
      },
      "source": [
        "model_picture(model)"
      ],
      "execution_count": 0,
      "outputs": [
        {
          "output_type": "stream",
          "text": [
            "dict_keys(['loss', 'f1', 'val_loss', 'val_f1'])\n"
          ],
          "name": "stdout"
        },
        {
          "output_type": "display_data",
          "data": {
            "image/png": "[encoded data removed]",
            "text/plain": [
              "<Figure size 432x288 with 1 Axes>"
            ]
          },
          "metadata": {
            "tags": [],
            "needs_background": "light"
          }
        }
      ]
    },
    {
      "cell_type": "markdown",
      "metadata": {
        "id": "J7aZOwUwniNi",
        "colab_type": "text"
      },
      "source": [
        "### 2 попытка собрать все слои"
      ]
    },
    {
      "cell_type": "code",
      "metadata": {
        "id": "MN-hJQY5HByl",
        "colab_type": "code",
        "colab": {}
      },
      "source": [
        "checkpoint = tf.keras.callbacks.ModelCheckpoint('model.weights', \n",
        "                                                monitor='val_f1', \n",
        "                                                verbose=1, \n",
        "                                                save_weights_only=True, \n",
        "                                                save_best_only=True, \n",
        "                                                mode='max', \n",
        "                                                save_freq='epoch' \n",
        "                                               )\n",
        "\n",
        "early_stop = tf.keras.callbacks.EarlyStopping(monitor='val_f1', \n",
        "                                              min_delta=0.01, \n",
        "                                              patience=5, \n",
        "                                              verbose=1, \n",
        "                                              mode='max',\n",
        "                                              )\n"
      ],
      "execution_count": 0,
      "outputs": []
    },
    {
      "cell_type": "code",
      "metadata": {
        "id": "6IZupWYBnmnE",
        "colab_type": "code",
        "colab": {}
      },
      "source": [
        "inputs = tf.keras.layers.Input(shape=(MAX_LEN,))\n",
        "embeddings = tf.keras.layers.Embedding(input_dim=len(sym2id), output_dim=50)(inputs, )\n",
        "\n",
        "convs = []\n",
        "\n",
        "conv1 = tf.keras.layers.Conv1D(kernel_size=5, filters=32, strides=1, activation='relu')(embeddings)\n",
        "conv2 = tf.keras.layers.Conv1D(kernel_size=5, filters=32, strides=1, activation='relu')(conv1)\n",
        "conv3 = tf.keras.layers.Conv1D(kernel_size=5, filters=32, strides=1, activation='relu')(conv2)\n",
        "pool1 = tf.keras.layers.AveragePooling1D()(conv3)\n",
        "drop1 = tf.keras.layers.Dropout(0.2)(pool1)\n",
        "convs.append(drop1)\n",
        "\n",
        "conv4 = tf.keras.layers.Conv1D(kernel_size=5, filters=64, strides=1, activation='relu')(embeddings)\n",
        "conv5 = tf.keras.layers.Conv1D(kernel_size=5, filters=64, strides=1, activation='relu')(conv4)\n",
        "conv6 = tf.keras.layers.Conv1D(kernel_size=5, filters=64, strides=1, activation='relu')(conv5)\n",
        "pool2 = tf.keras.layers.AveragePooling1D()(conv6)\n",
        "drop2 = tf.keras.layers.Dropout(0.2)(pool2)\n",
        "convs.append(drop2)\n",
        "\n",
        "conv7 = tf.keras.layers.Conv1D(kernel_size=5, filters=32, strides=1, activation='relu')(embeddings)\n",
        "conv8 = tf.keras.layers.Conv1D(kernel_size=5, filters=32, strides=1, activation='relu')(conv7)\n",
        "conv9 = tf.keras.layers.Conv1D(kernel_size=5, filters=32, strides=1, activation='relu')(conv8)\n",
        "pool3 = tf.keras.layers.AveragePooling1D()(conv9)\n",
        "drop3 = tf.keras.layers.Dropout(0.2)(pool3)\n",
        "convs.append(drop3)\n",
        "\n",
        "\n",
        "concat = tf.keras.layers.Concatenate()(convs)\n",
        "dense1 = tf.keras.layers.Dense(64, activation='relu')(concat)\n",
        "\n",
        "outputs = tf.keras.layers.Dense(1, activation='sigmoid')(dense1)\n",
        "\n",
        "model = tf.keras.Model(inputs=inputs, outputs=outputs)\n",
        "optimizer = tf.keras.optimizers.Adam(learning_rate=0.001)\n",
        "\n",
        "model.compile(optimizer=optimizer,\n",
        "              loss='binary_crossentropy',\n",
        "              metrics=[f1])\n"
      ],
      "execution_count": 0,
      "outputs": []
    },
    {
      "cell_type": "code",
      "metadata": {
        "id": "lyy_Hv1Wnscl",
        "colab_type": "code",
        "outputId": "1f04df09-d3b2-4c12-ef70-2690a1c2108b",
        "colab": {
          "base_uri": "https://localhost:8080/",
          "height": 867
        }
      },
      "source": [
        "model.summary()"
      ],
      "execution_count": 0,
      "outputs": [
        {
          "output_type": "stream",
          "text": [
            "Model: \"model_12\"\n",
            "__________________________________________________________________________________________________\n",
            "Layer (type)                    Output Shape         Param #     Connected to                     \n",
            "==================================================================================================\n",
            "input_15 (InputLayer)           [(None, 65)]         0                                            \n",
            "__________________________________________________________________________________________________\n",
            "embedding_14 (Embedding)        (None, 65, 50)       1550        input_15[0][0]                   \n",
            "__________________________________________________________________________________________________\n",
            "conv1d_126 (Conv1D)             (None, 61, 32)       8032        embedding_14[0][0]               \n",
            "__________________________________________________________________________________________________\n",
            "conv1d_129 (Conv1D)             (None, 61, 64)       16064       embedding_14[0][0]               \n",
            "__________________________________________________________________________________________________\n",
            "conv1d_132 (Conv1D)             (None, 61, 32)       8032        embedding_14[0][0]               \n",
            "__________________________________________________________________________________________________\n",
            "conv1d_127 (Conv1D)             (None, 57, 32)       5152        conv1d_126[0][0]                 \n",
            "__________________________________________________________________________________________________\n",
            "conv1d_130 (Conv1D)             (None, 57, 64)       20544       conv1d_129[0][0]                 \n",
            "__________________________________________________________________________________________________\n",
            "conv1d_133 (Conv1D)             (None, 57, 32)       5152        conv1d_132[0][0]                 \n",
            "__________________________________________________________________________________________________\n",
            "conv1d_128 (Conv1D)             (None, 53, 32)       5152        conv1d_127[0][0]                 \n",
            "__________________________________________________________________________________________________\n",
            "conv1d_131 (Conv1D)             (None, 53, 64)       20544       conv1d_130[0][0]                 \n",
            "__________________________________________________________________________________________________\n",
            "conv1d_134 (Conv1D)             (None, 53, 32)       5152        conv1d_133[0][0]                 \n",
            "__________________________________________________________________________________________________\n",
            "average_pooling1d_42 (AveragePo (None, 26, 32)       0           conv1d_128[0][0]                 \n",
            "__________________________________________________________________________________________________\n",
            "average_pooling1d_43 (AveragePo (None, 26, 64)       0           conv1d_131[0][0]                 \n",
            "__________________________________________________________________________________________________\n",
            "average_pooling1d_44 (AveragePo (None, 26, 32)       0           conv1d_134[0][0]                 \n",
            "__________________________________________________________________________________________________\n",
            "dropout_42 (Dropout)            (None, 26, 32)       0           average_pooling1d_42[0][0]       \n",
            "__________________________________________________________________________________________________\n",
            "dropout_43 (Dropout)            (None, 26, 64)       0           average_pooling1d_43[0][0]       \n",
            "__________________________________________________________________________________________________\n",
            "dropout_44 (Dropout)            (None, 26, 32)       0           average_pooling1d_44[0][0]       \n",
            "__________________________________________________________________________________________________\n",
            "concatenate_14 (Concatenate)    (None, 26, 128)      0           dropout_42[0][0]                 \n",
            "                                                                 dropout_43[0][0]                 \n",
            "                                                                 dropout_44[0][0]                 \n",
            "__________________________________________________________________________________________________\n",
            "dense_24 (Dense)                (None, 26, 64)       8256        concatenate_14[0][0]             \n",
            "__________________________________________________________________________________________________\n",
            "dense_25 (Dense)                (None, 26, 1)        65          dense_24[0][0]                   \n",
            "==================================================================================================\n",
            "Total params: 103,695\n",
            "Trainable params: 103,695\n",
            "Non-trainable params: 0\n",
            "__________________________________________________________________________________________________\n"
          ],
          "name": "stdout"
        }
      ]
    },
    {
      "cell_type": "code",
      "metadata": {
        "id": "JRlrbLHjnpSQ",
        "colab_type": "code",
        "outputId": "124cca42-aec1-48ad-e1e3-dab7faafd8be",
        "colab": {
          "base_uri": "https://localhost:8080/",
          "height": 768
        }
      },
      "source": [
        "%%time\n",
        "model.fit(X_train, y_train, \n",
        "          validation_data=(X_valid, y_valid),\n",
        "          batch_size=1000,\n",
        "         epochs=10,\n",
        "          callbacks=[checkpoint, early_stop])"
      ],
      "execution_count": 0,
      "outputs": [
        {
          "output_type": "stream",
          "text": [
            "Epoch 1/10\n",
            "1240/1241 [============================>.] - ETA: 0s - loss: 0.2209 - f1: 0.0542\n",
            "Epoch 00001: val_f1 improved from -inf to 0.31546, saving model to model.weights\n",
            "1241/1241 [==============================] - 29s 24ms/step - loss: 0.2209 - f1: 0.0545 - val_loss: 0.2085 - val_f1: 0.3155\n",
            "Epoch 2/10\n",
            "1240/1241 [============================>.] - ETA: 0s - loss: 0.2046 - f1: 0.6501\n",
            "Epoch 00002: val_f1 improved from 0.31546 to 0.72937, saving model to model.weights\n",
            "1241/1241 [==============================] - 29s 23ms/step - loss: 0.2046 - f1: 0.6502 - val_loss: 0.2013 - val_f1: 0.7294\n",
            "Epoch 3/10\n",
            "1240/1241 [============================>.] - ETA: 0s - loss: 0.2003 - f1: 0.7638\n",
            "Epoch 00003: val_f1 improved from 0.72937 to 0.82247, saving model to model.weights\n",
            "1241/1241 [==============================] - 29s 23ms/step - loss: 0.2004 - f1: 0.7638 - val_loss: 0.1993 - val_f1: 0.8225\n",
            "Epoch 4/10\n",
            "1240/1241 [============================>.] - ETA: 0s - loss: 0.1984 - f1: 0.8018\n",
            "Epoch 00004: val_f1 did not improve from 0.82247\n",
            "1241/1241 [==============================] - 29s 23ms/step - loss: 0.1984 - f1: 0.8018 - val_loss: 0.1971 - val_f1: 0.7957\n",
            "Epoch 5/10\n",
            "1240/1241 [============================>.] - ETA: 0s - loss: 0.1968 - f1: 0.8248\n",
            "Epoch 00005: val_f1 did not improve from 0.82247\n",
            "1241/1241 [==============================] - 29s 23ms/step - loss: 0.1968 - f1: 0.8248 - val_loss: 0.1965 - val_f1: 0.7535\n",
            "Epoch 6/10\n",
            "1240/1241 [============================>.] - ETA: 0s - loss: 0.1958 - f1: 0.8368\n",
            "Epoch 00006: val_f1 improved from 0.82247 to 0.84038, saving model to model.weights\n",
            "1241/1241 [==============================] - 29s 23ms/step - loss: 0.1958 - f1: 0.8368 - val_loss: 0.1956 - val_f1: 0.8404\n",
            "Epoch 7/10\n",
            "1241/1241 [==============================] - ETA: 0s - loss: 0.1952 - f1: 0.8421\n",
            "Epoch 00007: val_f1 improved from 0.84038 to 0.85125, saving model to model.weights\n",
            "1241/1241 [==============================] - 29s 23ms/step - loss: 0.1952 - f1: 0.8421 - val_loss: 0.1952 - val_f1: 0.8512\n",
            "Epoch 8/10\n",
            "1241/1241 [==============================] - ETA: 0s - loss: 0.1945 - f1: 0.8540\n",
            "Epoch 00008: val_f1 improved from 0.85125 to 0.86058, saving model to model.weights\n",
            "1241/1241 [==============================] - 29s 23ms/step - loss: 0.1945 - f1: 0.8540 - val_loss: 0.1946 - val_f1: 0.8606\n",
            "Epoch 9/10\n",
            "1241/1241 [==============================] - ETA: 0s - loss: 0.1939 - f1: 0.8635\n",
            "Epoch 00009: val_f1 improved from 0.86058 to 0.87401, saving model to model.weights\n",
            "1241/1241 [==============================] - 29s 23ms/step - loss: 0.1939 - f1: 0.8635 - val_loss: 0.1944 - val_f1: 0.8740\n",
            "Epoch 10/10\n",
            "1239/1241 [============================>.] - ETA: 0s - loss: 0.1936 - f1: 0.8690\n",
            "Epoch 00010: val_f1 improved from 0.87401 to 0.89178, saving model to model.weights\n",
            "1241/1241 [==============================] - 29s 23ms/step - loss: 0.1936 - f1: 0.8691 - val_loss: 0.1945 - val_f1: 0.8918\n",
            "CPU times: user 2min 59s, sys: 16.6 s, total: 3min 16s\n",
            "Wall time: 4min 50s\n"
          ],
          "name": "stdout"
        },
        {
          "output_type": "execute_result",
          "data": {
            "text/plain": [
              "<tensorflow.python.keras.callbacks.History at 0x7fd407a7eb70>"
            ]
          },
          "metadata": {
            "tags": []
          },
          "execution_count": 84
        }
      ]
    },
    {
      "cell_type": "code",
      "metadata": {
        "id": "HekT_U_Invos",
        "colab_type": "code",
        "outputId": "1c66265c-80e6-4f03-8ba8-a2aa270bb611",
        "colab": {
          "base_uri": "https://localhost:8080/",
          "height": 312
        }
      },
      "source": [
        "model_picture(model)"
      ],
      "execution_count": 0,
      "outputs": [
        {
          "output_type": "stream",
          "text": [
            "dict_keys(['loss', 'f1', 'val_loss', 'val_f1'])\n"
          ],
          "name": "stdout"
        },
        {
          "output_type": "display_data",
          "data": {
            "image/png": "[encoded data removed]",
            "text/plain": [
              "<Figure size 432x288 with 1 Axes>"
            ]
          },
          "metadata": {
            "tags": [],
            "needs_background": "light"
          }
        }
      ]
    },
    {
      "cell_type": "code",
      "metadata": {
        "id": "xNwIQVDqspxl",
        "colab_type": "code",
        "colab": {}
      },
      "source": [
        "# model.save_weights('model.weights')"
      ],
      "execution_count": 0,
      "outputs": []
    },
    {
      "cell_type": "markdown",
      "metadata": {
        "id": "7_vFZXEVsT8o",
        "colab_type": "text"
      },
      "source": [
        "### 3 попытка собрать все слои"
      ]
    },
    {
      "cell_type": "code",
      "metadata": {
        "id": "JqfdvtHzG-zC",
        "colab_type": "code",
        "colab": {}
      },
      "source": [
        "checkpoint = tf.keras.callbacks.ModelCheckpoint('model.weights', \n",
        "                                                monitor='val_f1', \n",
        "                                                verbose=1,\n",
        "                                                save_weights_only=True, \n",
        "                                                save_best_only=True, \n",
        "                                                mode='max', \n",
        "                                                save_freq='epoch' \n",
        "                                               )\n",
        "\n",
        "early_stop = tf.keras.callbacks.EarlyStopping(monitor='val_f1', \n",
        "                                              min_delta=0.01, \n",
        "                                              patience=5,\n",
        "                                              verbose=1, \n",
        "                                              mode='max',\n",
        "                                              )"
      ],
      "execution_count": 0,
      "outputs": []
    },
    {
      "cell_type": "code",
      "metadata": {
        "id": "yyPrGOgUsW4t",
        "colab_type": "code",
        "colab": {}
      },
      "source": [
        "inputs = tf.keras.layers.Input(shape=(MAX_LEN,))\n",
        "embeddings = tf.keras.layers.Embedding(input_dim=len(sym2id), output_dim=50)(inputs, )\n",
        "\n",
        "convs = []\n",
        "\n",
        "conv1 = tf.keras.layers.Conv1D(kernel_size=5, filters=16, padding='same', strides=1, activation='relu')(embeddings)\n",
        "conv2 = tf.keras.layers.Conv1D(kernel_size=5, filters=16, padding='same', strides=1, activation='relu')(conv1)\n",
        "conv3 = tf.keras.layers.Conv1D(kernel_size=5, filters=16, padding='same', strides=1, activation='relu')(conv2)\n",
        "pool1 = tf.keras.layers.AveragePooling1D()(conv3)\n",
        "drop1 = tf.keras.layers.Dropout(0.2)(pool1)\n",
        "convs.append(drop1)\n",
        "\n",
        "conv4 = tf.keras.layers.Conv1D(kernel_size=5, filters=32, padding='same',  strides=1, activation='relu')(embeddings)\n",
        "conv5 = tf.keras.layers.Conv1D(kernel_size=5, filters=32, padding='same',  strides=1, activation='relu')(conv4)\n",
        "conv6 = tf.keras.layers.Conv1D(kernel_size=5, filters=32, padding='same', strides=1, activation='relu')(conv5)\n",
        "pool2 = tf.keras.layers.AveragePooling1D()(conv6)\n",
        "drop2 = tf.keras.layers.Dropout(0.2)(pool2)\n",
        "convs.append(drop2)\n",
        "\n",
        "conv7 = tf.keras.layers.Conv1D(kernel_size=5, filters=16, padding='same', strides=1, activation='relu')(embeddings)\n",
        "conv8 = tf.keras.layers.Conv1D(kernel_size=5, filters=16, padding='same', strides=1, activation='relu')(conv7)\n",
        "conv9 = tf.keras.layers.Conv1D(kernel_size=5, filters=16, padding='same', strides=1, activation='relu')(conv8)\n",
        "pool3 = tf.keras.layers.AveragePooling1D()(conv9)\n",
        "drop3 = tf.keras.layers.Dropout(0.2)(pool3)\n",
        "convs.append(drop3)\n",
        "\n",
        "\n",
        "concat = tf.keras.layers.Concatenate()(convs)\n",
        "dense1 = tf.keras.layers.Dense(64, activation='relu')(concat)\n",
        "\n",
        "outputs = tf.keras.layers.Dense(1, activation='sigmoid')(dense1)\n",
        "\n",
        "model = tf.keras.Model(inputs=inputs, outputs=outputs)\n",
        "optimizer = tf.keras.optimizers.Adam(learning_rate=0.001)\n",
        "\n",
        "model.compile(optimizer=optimizer,\n",
        "              loss='binary_crossentropy',\n",
        "              metrics=[f1],)\n"
      ],
      "execution_count": 0,
      "outputs": []
    },
    {
      "cell_type": "code",
      "metadata": {
        "id": "fh5zByD7s3k9",
        "colab_type": "code",
        "outputId": "a5d0aab3-839e-403f-f222-9c4fec1eb3bb",
        "colab": {
          "base_uri": "https://localhost:8080/",
          "height": 34
        }
      },
      "source": [
        "# model.load_weights('model.weights')"
      ],
      "execution_count": 0,
      "outputs": [
        {
          "output_type": "execute_result",
          "data": {
            "text/plain": [
              "<tensorflow.python.training.tracking.util.CheckpointLoadStatus at 0x7fd537e42cf8>"
            ]
          },
          "metadata": {
            "tags": []
          },
          "execution_count": 57
        }
      ]
    },
    {
      "cell_type": "code",
      "metadata": {
        "id": "msMGtQWpsZhl",
        "colab_type": "code",
        "outputId": "bd5f4ca0-d691-4d71-c320-48f861ac1f71",
        "colab": {
          "base_uri": "https://localhost:8080/",
          "height": 867
        }
      },
      "source": [
        "model.summary()"
      ],
      "execution_count": 0,
      "outputs": [
        {
          "output_type": "stream",
          "text": [
            "Model: \"model_11\"\n",
            "__________________________________________________________________________________________________\n",
            "Layer (type)                    Output Shape         Param #     Connected to                     \n",
            "==================================================================================================\n",
            "input_14 (InputLayer)           [(None, 65)]         0                                            \n",
            "__________________________________________________________________________________________________\n",
            "embedding_13 (Embedding)        (None, 65, 50)       1550        input_14[0][0]                   \n",
            "__________________________________________________________________________________________________\n",
            "conv1d_117 (Conv1D)             (None, 65, 16)       4016        embedding_13[0][0]               \n",
            "__________________________________________________________________________________________________\n",
            "conv1d_120 (Conv1D)             (None, 65, 32)       8032        embedding_13[0][0]               \n",
            "__________________________________________________________________________________________________\n",
            "conv1d_123 (Conv1D)             (None, 65, 16)       4016        embedding_13[0][0]               \n",
            "__________________________________________________________________________________________________\n",
            "conv1d_118 (Conv1D)             (None, 65, 16)       1296        conv1d_117[0][0]                 \n",
            "__________________________________________________________________________________________________\n",
            "conv1d_121 (Conv1D)             (None, 65, 32)       5152        conv1d_120[0][0]                 \n",
            "__________________________________________________________________________________________________\n",
            "conv1d_124 (Conv1D)             (None, 65, 16)       1296        conv1d_123[0][0]                 \n",
            "__________________________________________________________________________________________________\n",
            "conv1d_119 (Conv1D)             (None, 65, 16)       1296        conv1d_118[0][0]                 \n",
            "__________________________________________________________________________________________________\n",
            "conv1d_122 (Conv1D)             (None, 65, 32)       5152        conv1d_121[0][0]                 \n",
            "__________________________________________________________________________________________________\n",
            "conv1d_125 (Conv1D)             (None, 65, 16)       1296        conv1d_124[0][0]                 \n",
            "__________________________________________________________________________________________________\n",
            "average_pooling1d_39 (AveragePo (None, 32, 16)       0           conv1d_119[0][0]                 \n",
            "__________________________________________________________________________________________________\n",
            "average_pooling1d_40 (AveragePo (None, 32, 32)       0           conv1d_122[0][0]                 \n",
            "__________________________________________________________________________________________________\n",
            "average_pooling1d_41 (AveragePo (None, 32, 16)       0           conv1d_125[0][0]                 \n",
            "__________________________________________________________________________________________________\n",
            "dropout_39 (Dropout)            (None, 32, 16)       0           average_pooling1d_39[0][0]       \n",
            "__________________________________________________________________________________________________\n",
            "dropout_40 (Dropout)            (None, 32, 32)       0           average_pooling1d_40[0][0]       \n",
            "__________________________________________________________________________________________________\n",
            "dropout_41 (Dropout)            (None, 32, 16)       0           average_pooling1d_41[0][0]       \n",
            "__________________________________________________________________________________________________\n",
            "concatenate_13 (Concatenate)    (None, 32, 64)       0           dropout_39[0][0]                 \n",
            "                                                                 dropout_40[0][0]                 \n",
            "                                                                 dropout_41[0][0]                 \n",
            "__________________________________________________________________________________________________\n",
            "dense_22 (Dense)                (None, 32, 64)       4160        concatenate_13[0][0]             \n",
            "__________________________________________________________________________________________________\n",
            "dense_23 (Dense)                (None, 32, 1)        65          dense_22[0][0]                   \n",
            "==================================================================================================\n",
            "Total params: 37,327\n",
            "Trainable params: 37,327\n",
            "Non-trainable params: 0\n",
            "__________________________________________________________________________________________________\n"
          ],
          "name": "stdout"
        }
      ]
    },
    {
      "cell_type": "code",
      "metadata": {
        "id": "LwgDJRyhs9RD",
        "colab_type": "code",
        "outputId": "8dee5f6f-1f91-42b8-e068-9622f5e2ff3f",
        "colab": {
          "base_uri": "https://localhost:8080/",
          "height": 768
        }
      },
      "source": [
        "%%time\n",
        "model.fit(X_train, y_train, \n",
        "          validation_data=(X_valid, y_valid),\n",
        "          batch_size=1000,\n",
        "         epochs=10,\n",
        "          callbacks=[checkpoint, early_stop])"
      ],
      "execution_count": 0,
      "outputs": [
        {
          "output_type": "stream",
          "text": [
            "Epoch 1/10\n",
            "1239/1241 [============================>.] - ETA: 0s - loss: 0.2266 - f1: 9.8529e-04\n",
            "Epoch 00001: val_f1 improved from -inf to 0.01524, saving model to model.weights\n",
            "1241/1241 [==============================] - 24s 19ms/step - loss: 0.2266 - f1: 9.8370e-04 - val_loss: 0.2114 - val_f1: 0.0152\n",
            "Epoch 2/10\n",
            "1240/1241 [============================>.] - ETA: 0s - loss: 0.2093 - f1: 0.5331\n",
            "Epoch 00002: val_f1 improved from 0.01524 to 0.77880, saving model to model.weights\n",
            "1241/1241 [==============================] - 23s 19ms/step - loss: 0.2093 - f1: 0.5332 - val_loss: 0.2104 - val_f1: 0.7788\n",
            "Epoch 3/10\n",
            "1240/1241 [============================>.] - ETA: 0s - loss: 0.2055 - f1: 0.7396\n",
            "Epoch 00003: val_f1 improved from 0.77880 to 0.82157, saving model to model.weights\n",
            "1241/1241 [==============================] - 23s 19ms/step - loss: 0.2055 - f1: 0.7398 - val_loss: 0.2061 - val_f1: 0.8216\n",
            "Epoch 4/10\n",
            "1240/1241 [============================>.] - ETA: 0s - loss: 0.2035 - f1: 0.7774\n",
            "Epoch 00004: val_f1 did not improve from 0.82157\n",
            "1241/1241 [==============================] - 23s 19ms/step - loss: 0.2035 - f1: 0.7775 - val_loss: 0.2033 - val_f1: 0.7636\n",
            "Epoch 5/10\n",
            "1240/1241 [============================>.] - ETA: 0s - loss: 0.2024 - f1: 0.7975\n",
            "Epoch 00005: val_f1 did not improve from 0.82157\n",
            "1241/1241 [==============================] - 23s 19ms/step - loss: 0.2024 - f1: 0.7975 - val_loss: 0.2044 - val_f1: 0.8184\n",
            "Epoch 6/10\n",
            "1240/1241 [============================>.] - ETA: 0s - loss: 0.2017 - f1: 0.8109\n",
            "Epoch 00006: val_f1 did not improve from 0.82157\n",
            "1241/1241 [==============================] - 23s 19ms/step - loss: 0.2017 - f1: 0.8108 - val_loss: 0.2017 - val_f1: 0.8178\n",
            "Epoch 7/10\n",
            "1240/1241 [============================>.] - ETA: 0s - loss: 0.2010 - f1: 0.8174\n",
            "Epoch 00007: val_f1 did not improve from 0.82157\n",
            "1241/1241 [==============================] - 23s 19ms/step - loss: 0.2010 - f1: 0.8175 - val_loss: 0.2014 - val_f1: 0.6688\n",
            "Epoch 8/10\n",
            "1240/1241 [============================>.] - ETA: 0s - loss: 0.2006 - f1: 0.8269\n",
            "Epoch 00008: val_f1 improved from 0.82157 to 0.84012, saving model to model.weights\n",
            "1241/1241 [==============================] - 23s 19ms/step - loss: 0.2006 - f1: 0.8271 - val_loss: 0.2017 - val_f1: 0.8401\n",
            "Epoch 9/10\n",
            "1240/1241 [============================>.] - ETA: 0s - loss: 0.2000 - f1: 0.8381\n",
            "Epoch 00009: val_f1 did not improve from 0.84012\n",
            "1241/1241 [==============================] - 23s 19ms/step - loss: 0.2000 - f1: 0.8381 - val_loss: 0.2012 - val_f1: 0.7531\n",
            "Epoch 10/10\n",
            "1240/1241 [============================>.] - ETA: 0s - loss: 0.1998 - f1: 0.8403\n",
            "Epoch 00010: val_f1 did not improve from 0.84012\n",
            "1241/1241 [==============================] - 23s 19ms/step - loss: 0.1998 - f1: 0.8402 - val_loss: 0.1999 - val_f1: 0.7700\n",
            "CPU times: user 2min 53s, sys: 15.4 s, total: 3min 9s\n",
            "Wall time: 3min 54s\n"
          ],
          "name": "stdout"
        },
        {
          "output_type": "execute_result",
          "data": {
            "text/plain": [
              "<tensorflow.python.keras.callbacks.History at 0x7fd40a75b2b0>"
            ]
          },
          "metadata": {
            "tags": []
          },
          "execution_count": 80
        }
      ]
    },
    {
      "cell_type": "code",
      "metadata": {
        "id": "MLMGVeI3s_kp",
        "colab_type": "code",
        "outputId": "6a49fbc2-3b02-4a46-f6ae-449e14002c67",
        "colab": {
          "base_uri": "https://localhost:8080/",
          "height": 312
        }
      },
      "source": [
        "model_picture(model)"
      ],
      "execution_count": 0,
      "outputs": [
        {
          "output_type": "stream",
          "text": [
            "dict_keys(['loss', 'f1', 'val_loss', 'val_f1'])\n"
          ],
          "name": "stdout"
        },
        {
          "output_type": "display_data",
          "data": {
            "image/png": "[encoded data removed]",
            "text/plain": [
              "<Figure size 432x288 with 1 Axes>"
            ]
          },
          "metadata": {
            "tags": [],
            "needs_background": "light"
          }
        }
      ]
    },
    {
      "cell_type": "markdown",
      "metadata": {
        "id": "rcmOhmEW-Z5p",
        "colab_type": "text"
      },
      "source": [
        "## Итоги\n",
        "\n",
        "1. По какой-то неведомой причине использование каких-либо регуляризаторов заставляло всё падать, график трейна выглядел как упавшая прямая. Поэтому все результаты были достигнуты без использования регуляризаторов.\n",
        "\n",
        "2. Кажется, модель с заменой знаков препинания и цифр на особые токены в целом меньше переобучается и падает, чем модель без них. При этом у моделей с параметром padding='same' ситуация обратная – лучше выглядит график модели с сохранением почти всех символов.\n",
        "\n",
        "3. Пробовала сохранять веса лучшей, на мой взгляд, модели и использовать их. Выяснилось, что для использования сохраненных весов необходимо сохранять те же параметры kernel и filters, что и у лучшей модели, а валидация при этом падает. Поэтому все нейронки в дальнейшем обучались отдельно.\n",
        "\n",
        "4. Изменение параметров Pooling и Dropout также негативно влияло на обучение, графики были очень странными, скачущими"
      ]
    }
  ]
}