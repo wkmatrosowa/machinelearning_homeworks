{
  "nbformat": 4,
  "nbformat_minor": 0,
  "metadata": {
    "colab": {
      "name": "HW01-02",
      "provenance": [],
      "collapsed_sections": [],
      "toc_visible": true,
      "authorship_tag": "ABX9TyPzMPoSzAiXsbQcAFa5kB5s",
      "include_colab_link": true
    },
    "kernelspec": {
      "name": "python3",
      "display_name": "Python 3"
    }
  },
  "cells": [
    {
      "cell_type": "markdown",
      "metadata": {
        "id": "view-in-github",
        "colab_type": "text"
      },
      "source": [
        "<a href=\"https://colab.research.google.com/github/wksmirnowa/machinelearning_homeworks/blob/master/HW01.ipynb\" target=\"_parent\"><img src=\"https://colab.research.google.com/assets/colab-badge.svg\" alt=\"Open In Colab\"/></a>"
      ]
    },
    {
      "cell_type": "markdown",
      "metadata": {
        "id": "WOFBkDb87iXo",
        "colab_type": "text"
      },
      "source": [
        "\n",
        "## Домашнее задание 1\n",
        "\n",
        "Проанализируйте данные и найдите самый холодный и самый ветренный дни в Сегеде за всю имеющуюся историю.\n",
        "Узнайте сколько раз шел дождь летом 2014 года.\n",
        "Сгруппируйтей данные по годам, месяцам и неделям (по отдельности) и найдите:\n",
        "\n",
        "1. самый холодный день в Сегеде (366-ой – 31.12)\n",
        "2. самый ветренный день в Сегеде (5)\n",
        "3. сколько раз шел дождь летом 2014 года\n",
        "4. самый ветрянный месяц (март)\n",
        "5. самый влажный год (2005)\n",
        "6. неделю с самой переменчивой погодой (там, где отклонение какого-то или нескольких признаков самое большое) (6 неделя)\n",
        "\n"
      ]
    },
    {
      "cell_type": "code",
      "metadata": {
        "id": "MOBCkwUax2wX",
        "colab_type": "code",
        "colab": {}
      },
      "source": [
        "#!pip install pandas"
      ],
      "execution_count": 0,
      "outputs": []
    },
    {
      "cell_type": "code",
      "metadata": {
        "id": "5DuEq_wf10x4",
        "colab_type": "code",
        "colab": {}
      },
      "source": [
        "import pandas as pd\n",
        "import datetime"
      ],
      "execution_count": 0,
      "outputs": []
    },
    {
      "cell_type": "markdown",
      "metadata": {
        "id": "7W2OA55f6gD2",
        "colab_type": "text"
      },
      "source": [
        "Подгружаем данные из kaggle"
      ]
    },
    {
      "cell_type": "code",
      "metadata": {
        "id": "LEQvC9MD9jrg",
        "colab_type": "code",
        "outputId": "4e8e624f-72cd-447c-c3c3-2ec102646172",
        "colab": {
          "base_uri": "https://localhost:8080/",
          "height": 122
        }
      },
      "source": [
        "from google.colab import drive\n",
        "drive.mount('/content/drive/')"
      ],
      "execution_count": 0,
      "outputs": [
        {
          "output_type": "stream",
          "text": [
            "Go to this URL in a browser: https://accounts.google.com/o/oauth2/auth?client_id=947318989803-6bn6qk8qdgf4n4g3pfee6491hc0brc4i.apps.googleusercontent.com&redirect_uri=urn%3aietf%3awg%3aoauth%3a2.0%3aoob&response_type=code&scope=email%20https%3a%2f%2fwww.googleapis.com%2fauth%2fdocs.test%20https%3a%2f%2fwww.googleapis.com%2fauth%2fdrive%20https%3a%2f%2fwww.googleapis.com%2fauth%2fdrive.photos.readonly%20https%3a%2f%2fwww.googleapis.com%2fauth%2fpeopleapi.readonly\n",
            "\n",
            "Enter your authorization code:\n",
            "··········\n",
            "Mounted at /content/drive/\n"
          ],
          "name": "stdout"
        }
      ]
    },
    {
      "cell_type": "code",
      "metadata": {
        "id": "X6Hhn8yf_NlM",
        "colab_type": "code",
        "outputId": "bd3ebe48-390e-40f0-cc84-d396a0ce7ba4",
        "colab": {
          "resources": {
            "http://localhost:8080/nbextensions/google.colab/files.js": {
              "data": "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",
              "ok": true,
              "headers": [
                [
                  "content-type",
                  "application/javascript"
                ]
              ],
              "status": 200,
              "status_text": ""
            }
          },
          "base_uri": "https://localhost:8080/",
          "height": 75
        }
      },
      "source": [
        "from google.colab import files\n",
        "uploaded = files.upload()"
      ],
      "execution_count": 0,
      "outputs": [
        {
          "output_type": "display_data",
          "data": {
            "text/html": [
              "\n",
              "     <input type=\"file\" id=\"files-49138265-a0cb-456d-a735-a3c6206e23cd\" name=\"files[]\" multiple disabled />\n",
              "     <output id=\"result-49138265-a0cb-456d-a735-a3c6206e23cd\">\n",
              "      Upload widget is only available when the cell has been executed in the\n",
              "      current browser session. Please rerun this cell to enable.\n",
              "      </output>\n",
              "      <script src=\"/nbextensions/google.colab/files.js\"></script> "
            ],
            "text/plain": [
              "<IPython.core.display.HTML object>"
            ]
          },
          "metadata": {
            "tags": []
          }
        },
        {
          "output_type": "stream",
          "text": [
            "Saving kaggle.json to kaggle.json\n"
          ],
          "name": "stdout"
        }
      ]
    },
    {
      "cell_type": "code",
      "metadata": {
        "id": "Jspxtipz_WpW",
        "colab_type": "code",
        "outputId": "46093858-8aea-46d8-bd9e-72a3f54fd8a2",
        "colab": {
          "base_uri": "https://localhost:8080/",
          "height": 34
        }
      },
      "source": [
        "!pip install -q kaggle\n",
        "!mkdir -p ~/.kaggle\n",
        "!cp kaggle.json ~/.kaggle/\n",
        "!ls ~/.kaggle\n",
        "!chmod 600 /root/.kaggle/kaggle.json  # set permission"
      ],
      "execution_count": 0,
      "outputs": [
        {
          "output_type": "stream",
          "text": [
            "kaggle.json\n"
          ],
          "name": "stdout"
        }
      ]
    },
    {
      "cell_type": "code",
      "metadata": {
        "id": "GwO0wCp0_dne",
        "colab_type": "code",
        "outputId": "7402ab1b-9b47-46de-d5d3-93cbf22038a3",
        "colab": {
          "base_uri": "https://localhost:8080/",
          "height": 68
        }
      },
      "source": [
        "!kaggle datasets download -d budincsevity/szeged-weather -p /content/gdrive/My\\ Drive/kaggle/szeged-weather"
      ],
      "execution_count": 0,
      "outputs": [
        {
          "output_type": "stream",
          "text": [
            "Downloading szeged-weather.zip to /content/gdrive/My Drive/kaggle/szeged-weather\n",
            "\r  0% 0.00/2.23M [00:00<?, ?B/s]\n",
            "\r100% 2.23M/2.23M [00:00<00:00, 71.2MB/s]\n"
          ],
          "name": "stdout"
        }
      ]
    },
    {
      "cell_type": "code",
      "metadata": {
        "id": "VzYiuVMyFDEH",
        "colab_type": "code",
        "outputId": "0fbe0ab0-01e6-406b-95dd-023b7d6d8584",
        "colab": {
          "base_uri": "https://localhost:8080/",
          "height": 51
        }
      },
      "source": [
        "!unzip '/content/gdrive/My Drive/kaggle/szeged-weather/szeged-weather.zip'"
      ],
      "execution_count": 0,
      "outputs": [
        {
          "output_type": "stream",
          "text": [
            "Archive:  /content/gdrive/My Drive/kaggle/szeged-weather/szeged-weather.zip\n",
            "  inflating: weatherHistory.csv      \n"
          ],
          "name": "stdout"
        }
      ]
    },
    {
      "cell_type": "code",
      "metadata": {
        "id": "d4d5xg-ZDGVe",
        "colab_type": "code",
        "colab": {}
      },
      "source": [
        "import os\n",
        "os.chdir('/content/gdrive/My Drive/kaggle/szeged-weather')"
      ],
      "execution_count": 0,
      "outputs": []
    },
    {
      "cell_type": "code",
      "metadata": {
        "id": "J9HIR0DHGzpO",
        "colab_type": "code",
        "colab": {}
      },
      "source": [
        "!unzip -q szeged-weather.zip"
      ],
      "execution_count": 0,
      "outputs": []
    },
    {
      "cell_type": "markdown",
      "metadata": {
        "id": "M48uObLm6osS",
        "colab_type": "text"
      },
      "source": [
        "Читаем и редактируем данные из таблички"
      ]
    },
    {
      "cell_type": "code",
      "metadata": {
        "id": "J-y-I2jy72Ii",
        "colab_type": "code",
        "colab": {}
      },
      "source": [
        "weather_hist = pd.read_csv('weatherHistory.csv')"
      ],
      "execution_count": 0,
      "outputs": []
    },
    {
      "cell_type": "code",
      "metadata": {
        "id": "uVgj7lFrIZZg",
        "colab_type": "code",
        "colab": {}
      },
      "source": [
        "weather_hist.rename({'Formatted Date':'date', 'Temperature (C)':'temp', 'Apparent Temperature (C)':'temp_app',\n",
        "                    'Precip Type':'weather_type', 'Wind Speed (km/h)':'wind_speed', 'Humidity':'humidity',\n",
        "                    'Daily Summary':'summary'}, \n",
        "                    axis=1, inplace=True)"
      ],
      "execution_count": 0,
      "outputs": []
    },
    {
      "cell_type": "code",
      "metadata": {
        "id": "QuBRSVLnIfDQ",
        "colab_type": "code",
        "colab": {}
      },
      "source": [
        "weather_hist.drop(['Loud Cover'], axis=1, inplace=True)"
      ],
      "execution_count": 0,
      "outputs": []
    },
    {
      "cell_type": "markdown",
      "metadata": {
        "id": "JISa3gDj6uWI",
        "colab_type": "text"
      },
      "source": [
        "Группируем данные по дате и меняем тип даты на Datetime"
      ]
    },
    {
      "cell_type": "code",
      "metadata": {
        "id": "SwRJ1qPWDKoI",
        "colab_type": "code",
        "colab": {}
      },
      "source": [
        "weather_hist['date'] = pd.to_datetime(weather_hist['date'], utc=True)"
      ],
      "execution_count": 0,
      "outputs": []
    },
    {
      "cell_type": "code",
      "metadata": {
        "id": "2_Bt6K16DWHj",
        "colab_type": "code",
        "outputId": "b65a18f7-99c7-4791-861d-5fdc317d612c",
        "colab": {
          "base_uri": "https://localhost:8080/",
          "height": 221
        }
      },
      "source": [
        "weather_hist.dtypes #проверяем"
      ],
      "execution_count": 0,
      "outputs": [
        {
          "output_type": "execute_result",
          "data": {
            "text/plain": [
              "date                      datetime64[ns, UTC]\n",
              "Summary                                object\n",
              "weather_type                           object\n",
              "temp                                  float64\n",
              "temp_app                              float64\n",
              "humidity                              float64\n",
              "wind_speed                            float64\n",
              "Wind Bearing (degrees)                float64\n",
              "Visibility (km)                       float64\n",
              "Pressure (millibars)                  float64\n",
              "summary                                object\n",
              "dtype: object"
            ]
          },
          "metadata": {
            "tags": []
          },
          "execution_count": 18
        }
      ]
    },
    {
      "cell_type": "markdown",
      "metadata": {
        "id": "IR9cNX66YKA7",
        "colab_type": "text"
      },
      "source": [
        "### Самый влажный год\n",
        "\n",
        "Найдем самый влажный год. Для этого сгруппируем данные по годам и средним значениям."
      ]
    },
    {
      "cell_type": "code",
      "metadata": {
        "id": "SjYRvbITTB2t",
        "colab_type": "code",
        "colab": {}
      },
      "source": [
        "weather_hist['year'] = weather_hist['date'].dt.year\n",
        "group_by_year = weather_hist.groupby('year').mean()"
      ],
      "execution_count": 0,
      "outputs": []
    },
    {
      "cell_type": "code",
      "metadata": {
        "id": "IIfcDDPWVO66",
        "colab_type": "code",
        "outputId": "05d1f946-3ed0-4f84-ad1a-e871b83c30f2",
        "colab": {
          "base_uri": "https://localhost:8080/",
          "height": 469
        }
      },
      "source": [
        "group_by_year"
      ],
      "execution_count": 0,
      "outputs": [
        {
          "output_type": "execute_result",
          "data": {
            "text/html": [
              "<div>\n",
              "<style scoped>\n",
              "    .dataframe tbody tr th:only-of-type {\n",
              "        vertical-align: middle;\n",
              "    }\n",
              "\n",
              "    .dataframe tbody tr th {\n",
              "        vertical-align: top;\n",
              "    }\n",
              "\n",
              "    .dataframe thead th {\n",
              "        text-align: right;\n",
              "    }\n",
              "</style>\n",
              "<table border=\"1\" class=\"dataframe\">\n",
              "  <thead>\n",
              "    <tr style=\"text-align: right;\">\n",
              "      <th></th>\n",
              "      <th>temp</th>\n",
              "      <th>temp_app</th>\n",
              "      <th>humidity</th>\n",
              "      <th>wind_speed</th>\n",
              "      <th>Wind Bearing (degrees)</th>\n",
              "      <th>Visibility (km)</th>\n",
              "      <th>Pressure (millibars)</th>\n",
              "    </tr>\n",
              "    <tr>\n",
              "      <th>year</th>\n",
              "      <th></th>\n",
              "      <th></th>\n",
              "      <th></th>\n",
              "      <th></th>\n",
              "      <th></th>\n",
              "      <th></th>\n",
              "      <th></th>\n",
              "    </tr>\n",
              "  </thead>\n",
              "  <tbody>\n",
              "    <tr>\n",
              "      <th>2005</th>\n",
              "      <td>0.577778</td>\n",
              "      <td>-4.050000</td>\n",
              "      <td>0.890000</td>\n",
              "      <td>17.114300</td>\n",
              "      <td>140.000000</td>\n",
              "      <td>9.982000</td>\n",
              "      <td>1016.660000</td>\n",
              "    </tr>\n",
              "    <tr>\n",
              "      <th>2006</th>\n",
              "      <td>11.215225</td>\n",
              "      <td>10.158189</td>\n",
              "      <td>0.767349</td>\n",
              "      <td>10.189128</td>\n",
              "      <td>189.339726</td>\n",
              "      <td>9.757280</td>\n",
              "      <td>992.545486</td>\n",
              "    </tr>\n",
              "    <tr>\n",
              "      <th>2007</th>\n",
              "      <td>12.134677</td>\n",
              "      <td>11.062986</td>\n",
              "      <td>0.689647</td>\n",
              "      <td>10.824162</td>\n",
              "      <td>194.106393</td>\n",
              "      <td>10.408192</td>\n",
              "      <td>1001.639412</td>\n",
              "    </tr>\n",
              "    <tr>\n",
              "      <th>2008</th>\n",
              "      <td>12.161819</td>\n",
              "      <td>11.053128</td>\n",
              "      <td>0.701239</td>\n",
              "      <td>11.304172</td>\n",
              "      <td>193.860997</td>\n",
              "      <td>10.266882</td>\n",
              "      <td>1007.734488</td>\n",
              "    </tr>\n",
              "    <tr>\n",
              "      <th>2009</th>\n",
              "      <td>12.269682</td>\n",
              "      <td>11.070866</td>\n",
              "      <td>0.707247</td>\n",
              "      <td>11.507326</td>\n",
              "      <td>180.477740</td>\n",
              "      <td>10.002187</td>\n",
              "      <td>1002.605055</td>\n",
              "    </tr>\n",
              "    <tr>\n",
              "      <th>2010</th>\n",
              "      <td>11.200176</td>\n",
              "      <td>10.097002</td>\n",
              "      <td>0.796861</td>\n",
              "      <td>11.014343</td>\n",
              "      <td>192.078780</td>\n",
              "      <td>9.140282</td>\n",
              "      <td>1004.815439</td>\n",
              "    </tr>\n",
              "    <tr>\n",
              "      <th>2011</th>\n",
              "      <td>11.524934</td>\n",
              "      <td>10.584490</td>\n",
              "      <td>0.736008</td>\n",
              "      <td>9.898596</td>\n",
              "      <td>189.334475</td>\n",
              "      <td>9.508237</td>\n",
              "      <td>1014.183506</td>\n",
              "    </tr>\n",
              "    <tr>\n",
              "      <th>2012</th>\n",
              "      <td>11.986824</td>\n",
              "      <td>10.753117</td>\n",
              "      <td>0.689513</td>\n",
              "      <td>11.264745</td>\n",
              "      <td>187.746926</td>\n",
              "      <td>10.362670</td>\n",
              "      <td>999.341404</td>\n",
              "    </tr>\n",
              "    <tr>\n",
              "      <th>2013</th>\n",
              "      <td>11.941017</td>\n",
              "      <td>10.825509</td>\n",
              "      <td>0.754197</td>\n",
              "      <td>10.970036</td>\n",
              "      <td>187.862557</td>\n",
              "      <td>10.892672</td>\n",
              "      <td>1004.951297</td>\n",
              "    </tr>\n",
              "    <tr>\n",
              "      <th>2014</th>\n",
              "      <td>12.528228</td>\n",
              "      <td>11.627649</td>\n",
              "      <td>0.748571</td>\n",
              "      <td>10.501276</td>\n",
              "      <td>178.241064</td>\n",
              "      <td>11.320400</td>\n",
              "      <td>987.277688</td>\n",
              "    </tr>\n",
              "    <tr>\n",
              "      <th>2015</th>\n",
              "      <td>12.312088</td>\n",
              "      <td>11.341286</td>\n",
              "      <td>0.732354</td>\n",
              "      <td>10.735590</td>\n",
              "      <td>184.084589</td>\n",
              "      <td>10.914116</td>\n",
              "      <td>1005.297210</td>\n",
              "    </tr>\n",
              "    <tr>\n",
              "      <th>2016</th>\n",
              "      <td>11.987381</td>\n",
              "      <td>10.834928</td>\n",
              "      <td>0.760868</td>\n",
              "      <td>10.703967</td>\n",
              "      <td>185.445406</td>\n",
              "      <td>11.249147</td>\n",
              "      <td>1015.160243</td>\n",
              "    </tr>\n",
              "  </tbody>\n",
              "</table>\n",
              "</div>"
            ],
            "text/plain": [
              "           temp   temp_app  ...  Visibility (km)  Pressure (millibars)\n",
              "year                        ...                                       \n",
              "2005   0.577778  -4.050000  ...         9.982000           1016.660000\n",
              "2006  11.215225  10.158189  ...         9.757280            992.545486\n",
              "2007  12.134677  11.062986  ...        10.408192           1001.639412\n",
              "2008  12.161819  11.053128  ...        10.266882           1007.734488\n",
              "2009  12.269682  11.070866  ...        10.002187           1002.605055\n",
              "2010  11.200176  10.097002  ...         9.140282           1004.815439\n",
              "2011  11.524934  10.584490  ...         9.508237           1014.183506\n",
              "2012  11.986824  10.753117  ...        10.362670            999.341404\n",
              "2013  11.941017  10.825509  ...        10.892672           1004.951297\n",
              "2014  12.528228  11.627649  ...        11.320400            987.277688\n",
              "2015  12.312088  11.341286  ...        10.914116           1005.297210\n",
              "2016  11.987381  10.834928  ...        11.249147           1015.160243\n",
              "\n",
              "[12 rows x 7 columns]"
            ]
          },
          "metadata": {
            "tags": []
          },
          "execution_count": 20
        }
      ]
    },
    {
      "cell_type": "code",
      "metadata": {
        "id": "Lyfcs6BUTjEX",
        "colab_type": "code",
        "colab": {}
      },
      "source": [
        "most_humidity_year = group_by_year.loc[group_by_year['humidity'] == group_by_year['humidity'].max()]"
      ],
      "execution_count": 0,
      "outputs": []
    },
    {
      "cell_type": "code",
      "metadata": {
        "id": "0FOseRY6UlxQ",
        "colab_type": "code",
        "outputId": "bc3e5d09-147c-43a0-e264-f194c65ef6fc",
        "colab": {
          "base_uri": "https://localhost:8080/",
          "height": 34
        }
      },
      "source": [
        "most_humidity_year.index #самый влажный год 2005"
      ],
      "execution_count": 0,
      "outputs": [
        {
          "output_type": "execute_result",
          "data": {
            "text/plain": [
              "Int64Index([2005], dtype='int64', name='year')"
            ]
          },
          "metadata": {
            "tags": []
          },
          "execution_count": 22
        }
      ]
    },
    {
      "cell_type": "markdown",
      "metadata": {
        "id": "xDeKdBuFYcUY",
        "colab_type": "text"
      },
      "source": [
        "### Самый ветреный месяц\n"
      ]
    },
    {
      "cell_type": "code",
      "metadata": {
        "id": "DAr1OYgyYbPh",
        "colab_type": "code",
        "colab": {}
      },
      "source": [
        "weather_hist['month'] = weather_hist['date'].dt.month\n",
        "group_by_month = weather_hist.groupby('month').mean()"
      ],
      "execution_count": 0,
      "outputs": []
    },
    {
      "cell_type": "code",
      "metadata": {
        "id": "w-3qA3MIY0HL",
        "colab_type": "code",
        "outputId": "588ffac1-ffda-47c9-dd16-cc79761ee850",
        "colab": {
          "base_uri": "https://localhost:8080/",
          "height": 506
        }
      },
      "source": [
        "group_by_month"
      ],
      "execution_count": 0,
      "outputs": [
        {
          "output_type": "execute_result",
          "data": {
            "text/html": [
              "<div>\n",
              "<style scoped>\n",
              "    .dataframe tbody tr th:only-of-type {\n",
              "        vertical-align: middle;\n",
              "    }\n",
              "\n",
              "    .dataframe tbody tr th {\n",
              "        vertical-align: top;\n",
              "    }\n",
              "\n",
              "    .dataframe thead th {\n",
              "        text-align: right;\n",
              "    }\n",
              "</style>\n",
              "<table border=\"1\" class=\"dataframe\">\n",
              "  <thead>\n",
              "    <tr style=\"text-align: right;\">\n",
              "      <th></th>\n",
              "      <th>temp</th>\n",
              "      <th>temp_app</th>\n",
              "      <th>humidity</th>\n",
              "      <th>wind_speed</th>\n",
              "      <th>Wind Bearing (degrees)</th>\n",
              "      <th>Visibility (km)</th>\n",
              "      <th>Pressure (millibars)</th>\n",
              "      <th>year</th>\n",
              "      <th>day</th>\n",
              "      <th>dayofyear</th>\n",
              "      <th>week</th>\n",
              "    </tr>\n",
              "    <tr>\n",
              "      <th>month</th>\n",
              "      <th></th>\n",
              "      <th></th>\n",
              "      <th></th>\n",
              "      <th></th>\n",
              "      <th></th>\n",
              "      <th></th>\n",
              "      <th></th>\n",
              "      <th></th>\n",
              "      <th></th>\n",
              "      <th></th>\n",
              "      <th></th>\n",
              "    </tr>\n",
              "  </thead>\n",
              "  <tbody>\n",
              "    <tr>\n",
              "      <th>1</th>\n",
              "      <td>0.815678</td>\n",
              "      <td>-1.938761</td>\n",
              "      <td>0.850698</td>\n",
              "      <td>11.515865</td>\n",
              "      <td>180.460655</td>\n",
              "      <td>7.835825</td>\n",
              "      <td>1006.245222</td>\n",
              "      <td>2011.000000</td>\n",
              "      <td>16.000000</td>\n",
              "      <td>16.000000</td>\n",
              "      <td>4.255132</td>\n",
              "    </tr>\n",
              "    <tr>\n",
              "      <th>2</th>\n",
              "      <td>2.166880</td>\n",
              "      <td>-0.555908</td>\n",
              "      <td>0.813407</td>\n",
              "      <td>12.180815</td>\n",
              "      <td>188.733253</td>\n",
              "      <td>8.730536</td>\n",
              "      <td>1003.925126</td>\n",
              "      <td>2011.009646</td>\n",
              "      <td>45.639871</td>\n",
              "      <td>45.639871</td>\n",
              "      <td>6.948553</td>\n",
              "    </tr>\n",
              "    <tr>\n",
              "      <th>3</th>\n",
              "      <td>6.914976</td>\n",
              "      <td>5.082583</td>\n",
              "      <td>0.702849</td>\n",
              "      <td>13.415825</td>\n",
              "      <td>186.632698</td>\n",
              "      <td>10.922231</td>\n",
              "      <td>1001.564999</td>\n",
              "      <td>2011.000000</td>\n",
              "      <td>75.272727</td>\n",
              "      <td>75.272727</td>\n",
              "      <td>11.181818</td>\n",
              "    </tr>\n",
              "    <tr>\n",
              "      <th>4</th>\n",
              "      <td>12.769200</td>\n",
              "      <td>12.158287</td>\n",
              "      <td>0.641051</td>\n",
              "      <td>11.876139</td>\n",
              "      <td>186.435859</td>\n",
              "      <td>11.784991</td>\n",
              "      <td>1009.995154</td>\n",
              "      <td>2011.000000</td>\n",
              "      <td>105.772727</td>\n",
              "      <td>105.772727</td>\n",
              "      <td>15.539394</td>\n",
              "    </tr>\n",
              "    <tr>\n",
              "      <th>5</th>\n",
              "      <td>16.874455</td>\n",
              "      <td>16.733265</td>\n",
              "      <td>0.691650</td>\n",
              "      <td>10.953186</td>\n",
              "      <td>188.143328</td>\n",
              "      <td>11.889730</td>\n",
              "      <td>1003.376970</td>\n",
              "      <td>2011.000000</td>\n",
              "      <td>136.272727</td>\n",
              "      <td>136.272727</td>\n",
              "      <td>19.894428</td>\n",
              "    </tr>\n",
              "    <tr>\n",
              "      <th>6</th>\n",
              "      <td>20.728510</td>\n",
              "      <td>20.755415</td>\n",
              "      <td>0.686418</td>\n",
              "      <td>9.632453</td>\n",
              "      <td>202.804924</td>\n",
              "      <td>11.994000</td>\n",
              "      <td>1002.019582</td>\n",
              "      <td>2011.000000</td>\n",
              "      <td>166.772727</td>\n",
              "      <td>166.772727</td>\n",
              "      <td>24.254545</td>\n",
              "    </tr>\n",
              "    <tr>\n",
              "      <th>7</th>\n",
              "      <td>22.965462</td>\n",
              "      <td>22.977605</td>\n",
              "      <td>0.639593</td>\n",
              "      <td>9.637124</td>\n",
              "      <td>202.937049</td>\n",
              "      <td>12.188605</td>\n",
              "      <td>1008.562854</td>\n",
              "      <td>2010.998900</td>\n",
              "      <td>197.273805</td>\n",
              "      <td>197.273805</td>\n",
              "      <td>28.610072</td>\n",
              "    </tr>\n",
              "    <tr>\n",
              "      <th>8</th>\n",
              "      <td>22.339134</td>\n",
              "      <td>22.264600</td>\n",
              "      <td>0.635300</td>\n",
              "      <td>8.942707</td>\n",
              "      <td>195.211135</td>\n",
              "      <td>12.454307</td>\n",
              "      <td>1001.470591</td>\n",
              "      <td>2010.997076</td>\n",
              "      <td>228.230750</td>\n",
              "      <td>228.230750</td>\n",
              "      <td>33.031920</td>\n",
              "    </tr>\n",
              "    <tr>\n",
              "      <th>9</th>\n",
              "      <td>17.503458</td>\n",
              "      <td>17.389856</td>\n",
              "      <td>0.689163</td>\n",
              "      <td>9.610204</td>\n",
              "      <td>187.515025</td>\n",
              "      <td>11.598414</td>\n",
              "      <td>1000.835433</td>\n",
              "      <td>2011.000000</td>\n",
              "      <td>258.772727</td>\n",
              "      <td>258.772727</td>\n",
              "      <td>37.396970</td>\n",
              "    </tr>\n",
              "    <tr>\n",
              "      <th>10</th>\n",
              "      <td>11.334119</td>\n",
              "      <td>10.684673</td>\n",
              "      <td>0.774443</td>\n",
              "      <td>10.008495</td>\n",
              "      <td>177.004765</td>\n",
              "      <td>9.729957</td>\n",
              "      <td>1003.099488</td>\n",
              "      <td>2011.000000</td>\n",
              "      <td>289.272727</td>\n",
              "      <td>289.272727</td>\n",
              "      <td>41.753666</td>\n",
              "    </tr>\n",
              "    <tr>\n",
              "      <th>11</th>\n",
              "      <td>6.587549</td>\n",
              "      <td>5.020255</td>\n",
              "      <td>0.827917</td>\n",
              "      <td>10.947953</td>\n",
              "      <td>173.176389</td>\n",
              "      <td>8.191922</td>\n",
              "      <td>1012.420129</td>\n",
              "      <td>2011.000000</td>\n",
              "      <td>319.772727</td>\n",
              "      <td>319.772727</td>\n",
              "      <td>46.109091</td>\n",
              "    </tr>\n",
              "    <tr>\n",
              "      <th>12</th>\n",
              "      <td>1.625086</td>\n",
              "      <td>-0.960443</td>\n",
              "      <td>0.870398</td>\n",
              "      <td>11.094578</td>\n",
              "      <td>181.143084</td>\n",
              "      <td>6.769961</td>\n",
              "      <td>985.781311</td>\n",
              "      <td>2010.998656</td>\n",
              "      <td>350.272605</td>\n",
              "      <td>350.272605</td>\n",
              "      <td>48.944282</td>\n",
              "    </tr>\n",
              "  </tbody>\n",
              "</table>\n",
              "</div>"
            ],
            "text/plain": [
              "            temp   temp_app  humidity  ...         day   dayofyear       week\n",
              "month                                  ...                                   \n",
              "1       0.815678  -1.938761  0.850698  ...   16.000000   16.000000   4.255132\n",
              "2       2.166880  -0.555908  0.813407  ...   45.639871   45.639871   6.948553\n",
              "3       6.914976   5.082583  0.702849  ...   75.272727   75.272727  11.181818\n",
              "4      12.769200  12.158287  0.641051  ...  105.772727  105.772727  15.539394\n",
              "5      16.874455  16.733265  0.691650  ...  136.272727  136.272727  19.894428\n",
              "6      20.728510  20.755415  0.686418  ...  166.772727  166.772727  24.254545\n",
              "7      22.965462  22.977605  0.639593  ...  197.273805  197.273805  28.610072\n",
              "8      22.339134  22.264600  0.635300  ...  228.230750  228.230750  33.031920\n",
              "9      17.503458  17.389856  0.689163  ...  258.772727  258.772727  37.396970\n",
              "10     11.334119  10.684673  0.774443  ...  289.272727  289.272727  41.753666\n",
              "11      6.587549   5.020255  0.827917  ...  319.772727  319.772727  46.109091\n",
              "12      1.625086  -0.960443  0.870398  ...  350.272605  350.272605  48.944282\n",
              "\n",
              "[12 rows x 11 columns]"
            ]
          },
          "metadata": {
            "tags": []
          },
          "execution_count": 454
        }
      ]
    },
    {
      "cell_type": "code",
      "metadata": {
        "id": "7d3cz0iqYvww",
        "colab_type": "code",
        "colab": {}
      },
      "source": [
        "group_by_month_info = group_by_month.loc[group_by_month['wind_speed'] == group_by_month['wind_speed'].max()]\n",
        "most_windy_month = group_by_month_info.index"
      ],
      "execution_count": 0,
      "outputs": []
    },
    {
      "cell_type": "code",
      "metadata": {
        "id": "qgUKm5R9ZZMm",
        "colab_type": "code",
        "outputId": "e0cd7d09-2b02-4903-be56-4c114715ac9f",
        "colab": {
          "base_uri": "https://localhost:8080/",
          "height": 34
        }
      },
      "source": [
        "most_windy_month #Самый ветреный месяц – март (3)"
      ],
      "execution_count": 0,
      "outputs": [
        {
          "output_type": "execute_result",
          "data": {
            "text/plain": [
              "Int64Index([3], dtype='int64', name='month')"
            ]
          },
          "metadata": {
            "tags": []
          },
          "execution_count": 26
        }
      ]
    },
    {
      "cell_type": "markdown",
      "metadata": {
        "id": "irtmZULJbOkp",
        "colab_type": "text"
      },
      "source": [
        "### Самый холодный день"
      ]
    },
    {
      "cell_type": "code",
      "metadata": {
        "id": "PF0R3sLzbwKU",
        "colab_type": "code",
        "colab": {}
      },
      "source": [
        "weather_hist['dayofyear'] = weather_hist['date'].dt.dayofyear\n",
        "group_by_day = weather_hist.groupby('dayofyear').mean()"
      ],
      "execution_count": 0,
      "outputs": []
    },
    {
      "cell_type": "code",
      "metadata": {
        "id": "xWhJ_YQAvjIF",
        "colab_type": "code",
        "outputId": "dbddd616-f73a-4ac5-caca-3c83edfb565e",
        "colab": {
          "base_uri": "https://localhost:8080/",
          "height": 504
        }
      },
      "source": [
        "group_by_day"
      ],
      "execution_count": 0,
      "outputs": [
        {
          "output_type": "execute_result",
          "data": {
            "text/html": [
              "<div>\n",
              "<style scoped>\n",
              "    .dataframe tbody tr th:only-of-type {\n",
              "        vertical-align: middle;\n",
              "    }\n",
              "\n",
              "    .dataframe tbody tr th {\n",
              "        vertical-align: top;\n",
              "    }\n",
              "\n",
              "    .dataframe thead th {\n",
              "        text-align: right;\n",
              "    }\n",
              "</style>\n",
              "<table border=\"1\" class=\"dataframe\">\n",
              "  <thead>\n",
              "    <tr style=\"text-align: right;\">\n",
              "      <th></th>\n",
              "      <th>temp</th>\n",
              "      <th>temp_app</th>\n",
              "      <th>humidity</th>\n",
              "      <th>wind_speed</th>\n",
              "      <th>Wind Bearing (degrees)</th>\n",
              "      <th>Visibility (km)</th>\n",
              "      <th>Pressure (millibars)</th>\n",
              "      <th>year</th>\n",
              "      <th>month</th>\n",
              "      <th>day</th>\n",
              "    </tr>\n",
              "    <tr>\n",
              "      <th>dayofyear</th>\n",
              "      <th></th>\n",
              "      <th></th>\n",
              "      <th></th>\n",
              "      <th></th>\n",
              "      <th></th>\n",
              "      <th></th>\n",
              "      <th></th>\n",
              "      <th></th>\n",
              "      <th></th>\n",
              "      <th></th>\n",
              "    </tr>\n",
              "  </thead>\n",
              "  <tbody>\n",
              "    <tr>\n",
              "      <th>1</th>\n",
              "      <td>-1.115867</td>\n",
              "      <td>-3.870328</td>\n",
              "      <td>0.862121</td>\n",
              "      <td>9.990172</td>\n",
              "      <td>175.746212</td>\n",
              "      <td>6.737362</td>\n",
              "      <td>966.192614</td>\n",
              "      <td>2011.000000</td>\n",
              "      <td>1.0</td>\n",
              "      <td>1.0</td>\n",
              "    </tr>\n",
              "    <tr>\n",
              "      <th>2</th>\n",
              "      <td>-0.329861</td>\n",
              "      <td>-3.148548</td>\n",
              "      <td>0.871023</td>\n",
              "      <td>10.961417</td>\n",
              "      <td>204.556818</td>\n",
              "      <td>6.492691</td>\n",
              "      <td>957.603333</td>\n",
              "      <td>2011.000000</td>\n",
              "      <td>1.0</td>\n",
              "      <td>2.0</td>\n",
              "    </tr>\n",
              "    <tr>\n",
              "      <th>3</th>\n",
              "      <td>-0.459680</td>\n",
              "      <td>-3.098506</td>\n",
              "      <td>0.860189</td>\n",
              "      <td>10.185628</td>\n",
              "      <td>209.162879</td>\n",
              "      <td>8.015239</td>\n",
              "      <td>965.126326</td>\n",
              "      <td>2011.000000</td>\n",
              "      <td>1.0</td>\n",
              "      <td>3.0</td>\n",
              "    </tr>\n",
              "    <tr>\n",
              "      <th>4</th>\n",
              "      <td>-0.689352</td>\n",
              "      <td>-4.051557</td>\n",
              "      <td>0.839242</td>\n",
              "      <td>13.498752</td>\n",
              "      <td>170.761364</td>\n",
              "      <td>8.591545</td>\n",
              "      <td>951.901288</td>\n",
              "      <td>2011.000000</td>\n",
              "      <td>1.0</td>\n",
              "      <td>4.0</td>\n",
              "    </tr>\n",
              "    <tr>\n",
              "      <th>5</th>\n",
              "      <td>0.455324</td>\n",
              "      <td>-3.002567</td>\n",
              "      <td>0.840682</td>\n",
              "      <td>14.045664</td>\n",
              "      <td>178.053030</td>\n",
              "      <td>8.240822</td>\n",
              "      <td>966.847121</td>\n",
              "      <td>2011.000000</td>\n",
              "      <td>1.0</td>\n",
              "      <td>5.0</td>\n",
              "    </tr>\n",
              "    <tr>\n",
              "      <th>...</th>\n",
              "      <td>...</td>\n",
              "      <td>...</td>\n",
              "      <td>...</td>\n",
              "      <td>...</td>\n",
              "      <td>...</td>\n",
              "      <td>...</td>\n",
              "      <td>...</td>\n",
              "      <td>...</td>\n",
              "      <td>...</td>\n",
              "      <td>...</td>\n",
              "    </tr>\n",
              "    <tr>\n",
              "      <th>362</th>\n",
              "      <td>-0.677715</td>\n",
              "      <td>-3.036111</td>\n",
              "      <td>0.899735</td>\n",
              "      <td>9.576390</td>\n",
              "      <td>167.034091</td>\n",
              "      <td>5.228719</td>\n",
              "      <td>978.635833</td>\n",
              "      <td>2011.000000</td>\n",
              "      <td>12.0</td>\n",
              "      <td>362.0</td>\n",
              "    </tr>\n",
              "    <tr>\n",
              "      <th>363</th>\n",
              "      <td>-0.794949</td>\n",
              "      <td>-3.342003</td>\n",
              "      <td>0.872803</td>\n",
              "      <td>9.597552</td>\n",
              "      <td>191.753788</td>\n",
              "      <td>5.890039</td>\n",
              "      <td>963.357083</td>\n",
              "      <td>2011.000000</td>\n",
              "      <td>12.0</td>\n",
              "      <td>363.0</td>\n",
              "    </tr>\n",
              "    <tr>\n",
              "      <th>364</th>\n",
              "      <td>-1.610375</td>\n",
              "      <td>-4.338678</td>\n",
              "      <td>0.856932</td>\n",
              "      <td>9.417463</td>\n",
              "      <td>149.363636</td>\n",
              "      <td>6.254850</td>\n",
              "      <td>960.693788</td>\n",
              "      <td>2011.000000</td>\n",
              "      <td>12.0</td>\n",
              "      <td>364.0</td>\n",
              "    </tr>\n",
              "    <tr>\n",
              "      <th>365</th>\n",
              "      <td>-1.953669</td>\n",
              "      <td>-4.134423</td>\n",
              "      <td>0.860151</td>\n",
              "      <td>7.864759</td>\n",
              "      <td>166.188679</td>\n",
              "      <td>7.152410</td>\n",
              "      <td>964.237698</td>\n",
              "      <td>2010.977358</td>\n",
              "      <td>12.0</td>\n",
              "      <td>365.0</td>\n",
              "    </tr>\n",
              "    <tr>\n",
              "      <th>366</th>\n",
              "      <td>-3.163459</td>\n",
              "      <td>-6.020579</td>\n",
              "      <td>0.930141</td>\n",
              "      <td>8.178346</td>\n",
              "      <td>185.647887</td>\n",
              "      <td>3.472611</td>\n",
              "      <td>1022.983803</td>\n",
              "      <td>2011.943662</td>\n",
              "      <td>12.0</td>\n",
              "      <td>366.0</td>\n",
              "    </tr>\n",
              "  </tbody>\n",
              "</table>\n",
              "<p>366 rows × 10 columns</p>\n",
              "</div>"
            ],
            "text/plain": [
              "               temp  temp_app  humidity  ...         year  month    day\n",
              "dayofyear                                ...                           \n",
              "1         -1.115867 -3.870328  0.862121  ...  2011.000000    1.0    1.0\n",
              "2         -0.329861 -3.148548  0.871023  ...  2011.000000    1.0    2.0\n",
              "3         -0.459680 -3.098506  0.860189  ...  2011.000000    1.0    3.0\n",
              "4         -0.689352 -4.051557  0.839242  ...  2011.000000    1.0    4.0\n",
              "5          0.455324 -3.002567  0.840682  ...  2011.000000    1.0    5.0\n",
              "...             ...       ...       ...  ...          ...    ...    ...\n",
              "362       -0.677715 -3.036111  0.899735  ...  2011.000000   12.0  362.0\n",
              "363       -0.794949 -3.342003  0.872803  ...  2011.000000   12.0  363.0\n",
              "364       -1.610375 -4.338678  0.856932  ...  2011.000000   12.0  364.0\n",
              "365       -1.953669 -4.134423  0.860151  ...  2010.977358   12.0  365.0\n",
              "366       -3.163459 -6.020579  0.930141  ...  2011.943662   12.0  366.0\n",
              "\n",
              "[366 rows x 10 columns]"
            ]
          },
          "metadata": {
            "tags": []
          },
          "execution_count": 32
        }
      ]
    },
    {
      "cell_type": "code",
      "metadata": {
        "id": "3_PgUIAw1Y3Y",
        "colab_type": "code",
        "outputId": "348509eb-9604-4ff5-e30e-fa9934b00577",
        "colab": {
          "base_uri": "https://localhost:8080/",
          "height": 34
        }
      },
      "source": [
        "coldest_day_info = group_by_day.loc[group_by_day['temp'] == group_by_day['temp'].min()]\n",
        "coldest_day_info.index"
      ],
      "execution_count": 0,
      "outputs": [
        {
          "output_type": "execute_result",
          "data": {
            "text/plain": [
              "Int64Index([366], dtype='int64', name='dayofyear')"
            ]
          },
          "metadata": {
            "tags": []
          },
          "execution_count": 34
        }
      ]
    },
    {
      "cell_type": "code",
      "metadata": {
        "id": "ylh5xRg20HEX",
        "colab_type": "code",
        "colab": {}
      },
      "source": [
        "# можно посчитать просто день с самой минимальной температурой, но мне кажется, что это\n",
        "# не самое верное решение и что нужно смотреть день, у которого в среднем самая низкая температура\n",
        "# weather_hist['day'] = weather_hist['date'].dt.day\n",
        "# group_by_day_d = weather_hist.groupby('day').min()\n",
        "# coldest_day_d_info = group_by_day_d.loc[group_by_day_d['temp'] == group_by_day_d['temp'].min()]\n",
        "# coldest_day_d_info"
      ],
      "execution_count": 0,
      "outputs": []
    },
    {
      "cell_type": "markdown",
      "metadata": {
        "id": "XzUQWxVrsQxo",
        "colab_type": "text"
      },
      "source": [
        "### Самый ветреный день"
      ]
    },
    {
      "cell_type": "code",
      "metadata": {
        "id": "7vzI1aEmruZH",
        "colab_type": "code",
        "outputId": "11b799ac-353d-46f0-bc77-4d4660495485",
        "colab": {
          "base_uri": "https://localhost:8080/",
          "height": 34
        }
      },
      "source": [
        "fastest_day = group_by_day.loc[group_by_day['wind_speed'] == group_by_day['wind_speed'].max()]\n",
        "fastest_day.index"
      ],
      "execution_count": 0,
      "outputs": [
        {
          "output_type": "execute_result",
          "data": {
            "text/plain": [
              "Int64Index([5], dtype='int64', name='dayofyear')"
            ]
          },
          "metadata": {
            "tags": []
          },
          "execution_count": 220
        }
      ]
    },
    {
      "cell_type": "markdown",
      "metadata": {
        "id": "BK-AsfL6EJ5X",
        "colab_type": "text"
      },
      "source": [
        "Если нужно будет посмотреть точные даты, можно сгруппировать данные сразу по 3 признакам, но, к сожалению, тогда появляются проблемы с вытаскиванием индекса."
      ]
    },
    {
      "cell_type": "code",
      "metadata": {
        "id": "dW7uOvNGvQ_S",
        "colab_type": "code",
        "outputId": "50914e58-5920-42a7-d9c8-09d306d484ed",
        "colab": {
          "base_uri": "https://localhost:8080/",
          "height": 535
        }
      },
      "source": [
        "weather_hist['year'] = weather_hist['date'].dt.year\n",
        "weather_hist['month'] = weather_hist['date'].dt.month\n",
        "weather_hist['day'] = weather_hist['date'].dt.day\n",
        "group_by_day = weather_hist.groupby(['year','month','day']).agg(['mean'])\n",
        "group_by_date"
      ],
      "execution_count": 0,
      "outputs": [
        {
          "output_type": "execute_result",
          "data": {
            "text/html": [
              "<div>\n",
              "<style scoped>\n",
              "    .dataframe tbody tr th:only-of-type {\n",
              "        vertical-align: middle;\n",
              "    }\n",
              "\n",
              "    .dataframe tbody tr th {\n",
              "        vertical-align: top;\n",
              "    }\n",
              "\n",
              "    .dataframe thead tr th {\n",
              "        text-align: left;\n",
              "    }\n",
              "\n",
              "    .dataframe thead tr:last-of-type th {\n",
              "        text-align: right;\n",
              "    }\n",
              "</style>\n",
              "<table border=\"1\" class=\"dataframe\">\n",
              "  <thead>\n",
              "    <tr>\n",
              "      <th></th>\n",
              "      <th></th>\n",
              "      <th></th>\n",
              "      <th>temp</th>\n",
              "      <th>temp_app</th>\n",
              "      <th>humidity</th>\n",
              "      <th>wind_speed</th>\n",
              "      <th>Wind Bearing (degrees)</th>\n",
              "      <th>Visibility (km)</th>\n",
              "      <th>Pressure (millibars)</th>\n",
              "      <th>week</th>\n",
              "      <th>hour</th>\n",
              "      <th>minute</th>\n",
              "      <th>second</th>\n",
              "    </tr>\n",
              "    <tr>\n",
              "      <th></th>\n",
              "      <th></th>\n",
              "      <th></th>\n",
              "      <th>mean</th>\n",
              "      <th>mean</th>\n",
              "      <th>mean</th>\n",
              "      <th>mean</th>\n",
              "      <th>mean</th>\n",
              "      <th>mean</th>\n",
              "      <th>mean</th>\n",
              "      <th>mean</th>\n",
              "      <th>mean</th>\n",
              "      <th>mean</th>\n",
              "      <th>mean</th>\n",
              "    </tr>\n",
              "    <tr>\n",
              "      <th>year</th>\n",
              "      <th>month</th>\n",
              "      <th>day</th>\n",
              "      <th></th>\n",
              "      <th></th>\n",
              "      <th></th>\n",
              "      <th></th>\n",
              "      <th></th>\n",
              "      <th></th>\n",
              "      <th></th>\n",
              "      <th></th>\n",
              "      <th></th>\n",
              "      <th></th>\n",
              "      <th></th>\n",
              "    </tr>\n",
              "  </thead>\n",
              "  <tbody>\n",
              "    <tr>\n",
              "      <th>2005</th>\n",
              "      <th>12</th>\n",
              "      <th>31</th>\n",
              "      <td>0.577778</td>\n",
              "      <td>-4.050000</td>\n",
              "      <td>0.890000</td>\n",
              "      <td>17.114300</td>\n",
              "      <td>140.000000</td>\n",
              "      <td>9.982000</td>\n",
              "      <td>1016.660000</td>\n",
              "      <td>52</td>\n",
              "      <td>23.0</td>\n",
              "      <td>0</td>\n",
              "      <td>0</td>\n",
              "    </tr>\n",
              "    <tr>\n",
              "      <th rowspan=\"4\" valign=\"top\">2006</th>\n",
              "      <th rowspan=\"4\" valign=\"top\">1</th>\n",
              "      <th>1</th>\n",
              "      <td>4.075000</td>\n",
              "      <td>-0.174537</td>\n",
              "      <td>0.817083</td>\n",
              "      <td>21.229192</td>\n",
              "      <td>142.750000</td>\n",
              "      <td>11.348487</td>\n",
              "      <td>1011.985000</td>\n",
              "      <td>52</td>\n",
              "      <td>11.5</td>\n",
              "      <td>0</td>\n",
              "      <td>0</td>\n",
              "    </tr>\n",
              "    <tr>\n",
              "      <th>2</th>\n",
              "      <td>5.263194</td>\n",
              "      <td>1.808796</td>\n",
              "      <td>0.847083</td>\n",
              "      <td>17.824713</td>\n",
              "      <td>164.583333</td>\n",
              "      <td>8.492079</td>\n",
              "      <td>1010.384167</td>\n",
              "      <td>1</td>\n",
              "      <td>11.5</td>\n",
              "      <td>0</td>\n",
              "      <td>0</td>\n",
              "    </tr>\n",
              "    <tr>\n",
              "      <th>3</th>\n",
              "      <td>2.340509</td>\n",
              "      <td>0.445370</td>\n",
              "      <td>0.897083</td>\n",
              "      <td>7.726658</td>\n",
              "      <td>252.541667</td>\n",
              "      <td>9.223958</td>\n",
              "      <td>1021.170833</td>\n",
              "      <td>1</td>\n",
              "      <td>11.5</td>\n",
              "      <td>0</td>\n",
              "      <td>0</td>\n",
              "    </tr>\n",
              "    <tr>\n",
              "      <th>4</th>\n",
              "      <td>2.251852</td>\n",
              "      <td>-0.663194</td>\n",
              "      <td>0.906667</td>\n",
              "      <td>12.152817</td>\n",
              "      <td>35.000000</td>\n",
              "      <td>8.352546</td>\n",
              "      <td>981.770833</td>\n",
              "      <td>1</td>\n",
              "      <td>11.5</td>\n",
              "      <td>0</td>\n",
              "      <td>0</td>\n",
              "    </tr>\n",
              "    <tr>\n",
              "      <th>...</th>\n",
              "      <th>...</th>\n",
              "      <th>...</th>\n",
              "      <td>...</td>\n",
              "      <td>...</td>\n",
              "      <td>...</td>\n",
              "      <td>...</td>\n",
              "      <td>...</td>\n",
              "      <td>...</td>\n",
              "      <td>...</td>\n",
              "      <td>...</td>\n",
              "      <td>...</td>\n",
              "      <td>...</td>\n",
              "      <td>...</td>\n",
              "    </tr>\n",
              "    <tr>\n",
              "      <th rowspan=\"5\" valign=\"top\">2016</th>\n",
              "      <th rowspan=\"5\" valign=\"top\">12</th>\n",
              "      <th>27</th>\n",
              "      <td>0.278009</td>\n",
              "      <td>-3.160417</td>\n",
              "      <td>0.890000</td>\n",
              "      <td>10.979529</td>\n",
              "      <td>185.875000</td>\n",
              "      <td>7.303363</td>\n",
              "      <td>1020.305833</td>\n",
              "      <td>52</td>\n",
              "      <td>11.5</td>\n",
              "      <td>0</td>\n",
              "      <td>0</td>\n",
              "    </tr>\n",
              "    <tr>\n",
              "      <th>28</th>\n",
              "      <td>0.222222</td>\n",
              "      <td>-3.225926</td>\n",
              "      <td>0.890000</td>\n",
              "      <td>10.968125</td>\n",
              "      <td>186.083333</td>\n",
              "      <td>7.304704</td>\n",
              "      <td>1020.335833</td>\n",
              "      <td>52</td>\n",
              "      <td>11.5</td>\n",
              "      <td>0</td>\n",
              "      <td>0</td>\n",
              "    </tr>\n",
              "    <tr>\n",
              "      <th>29</th>\n",
              "      <td>0.167824</td>\n",
              "      <td>-3.265509</td>\n",
              "      <td>0.889583</td>\n",
              "      <td>10.876892</td>\n",
              "      <td>186.041667</td>\n",
              "      <td>7.310071</td>\n",
              "      <td>1020.367083</td>\n",
              "      <td>52</td>\n",
              "      <td>11.5</td>\n",
              "      <td>0</td>\n",
              "      <td>0</td>\n",
              "    </tr>\n",
              "    <tr>\n",
              "      <th>30</th>\n",
              "      <td>0.117593</td>\n",
              "      <td>-3.309259</td>\n",
              "      <td>0.889167</td>\n",
              "      <td>10.810479</td>\n",
              "      <td>186.000000</td>\n",
              "      <td>7.316779</td>\n",
              "      <td>1020.396250</td>\n",
              "      <td>52</td>\n",
              "      <td>11.5</td>\n",
              "      <td>0</td>\n",
              "      <td>0</td>\n",
              "    </tr>\n",
              "    <tr>\n",
              "      <th>31</th>\n",
              "      <td>0.113527</td>\n",
              "      <td>-3.320773</td>\n",
              "      <td>0.886522</td>\n",
              "      <td>10.836700</td>\n",
              "      <td>185.782609</td>\n",
              "      <td>7.213500</td>\n",
              "      <td>1020.413043</td>\n",
              "      <td>52</td>\n",
              "      <td>11.0</td>\n",
              "      <td>0</td>\n",
              "      <td>0</td>\n",
              "    </tr>\n",
              "  </tbody>\n",
              "</table>\n",
              "<p>4019 rows × 11 columns</p>\n",
              "</div>"
            ],
            "text/plain": [
              "                    temp  temp_app  humidity  ...  hour minute second\n",
              "                    mean      mean      mean  ...  mean   mean   mean\n",
              "year month day                                ...                    \n",
              "2005 12    31   0.577778 -4.050000  0.890000  ...  23.0      0      0\n",
              "2006 1     1    4.075000 -0.174537  0.817083  ...  11.5      0      0\n",
              "           2    5.263194  1.808796  0.847083  ...  11.5      0      0\n",
              "           3    2.340509  0.445370  0.897083  ...  11.5      0      0\n",
              "           4    2.251852 -0.663194  0.906667  ...  11.5      0      0\n",
              "...                  ...       ...       ...  ...   ...    ...    ...\n",
              "2016 12    27   0.278009 -3.160417  0.890000  ...  11.5      0      0\n",
              "           28   0.222222 -3.225926  0.890000  ...  11.5      0      0\n",
              "           29   0.167824 -3.265509  0.889583  ...  11.5      0      0\n",
              "           30   0.117593 -3.309259  0.889167  ...  11.5      0      0\n",
              "           31   0.113527 -3.320773  0.886522  ...  11.0      0      0\n",
              "\n",
              "[4019 rows x 11 columns]"
            ]
          },
          "metadata": {
            "tags": []
          },
          "execution_count": 431
        }
      ]
    },
    {
      "cell_type": "markdown",
      "metadata": {
        "id": "dTN4xte9uHde",
        "colab_type": "text"
      },
      "source": [
        "### Неделя с самой переменчивой погодой"
      ]
    },
    {
      "cell_type": "code",
      "metadata": {
        "id": "516I0VbsuGbf",
        "colab_type": "code",
        "colab": {}
      },
      "source": [
        "weather_hist['week'] = weather_hist['date'].dt.week\n",
        "group_by_week = weather_hist.groupby('week').std()"
      ],
      "execution_count": 0,
      "outputs": []
    },
    {
      "cell_type": "code",
      "metadata": {
        "id": "qYqb29g1wMgf",
        "colab_type": "code",
        "outputId": "10031256-960f-4e48-abf8-e5109ce19e78",
        "colab": {
          "base_uri": "https://localhost:8080/",
          "height": 1000
        }
      },
      "source": [
        "group_by_week"
      ],
      "execution_count": 0,
      "outputs": [
        {
          "output_type": "execute_result",
          "data": {
            "text/html": [
              "<div>\n",
              "<style scoped>\n",
              "    .dataframe tbody tr th:only-of-type {\n",
              "        vertical-align: middle;\n",
              "    }\n",
              "\n",
              "    .dataframe tbody tr th {\n",
              "        vertical-align: top;\n",
              "    }\n",
              "\n",
              "    .dataframe thead th {\n",
              "        text-align: right;\n",
              "    }\n",
              "</style>\n",
              "<table border=\"1\" class=\"dataframe\">\n",
              "  <thead>\n",
              "    <tr style=\"text-align: right;\">\n",
              "      <th></th>\n",
              "      <th>temp</th>\n",
              "      <th>temp_app</th>\n",
              "      <th>humidity</th>\n",
              "      <th>wind_speed</th>\n",
              "      <th>Wind Bearing (degrees)</th>\n",
              "      <th>Visibility (km)</th>\n",
              "      <th>Pressure (millibars)</th>\n",
              "      <th>year</th>\n",
              "      <th>month</th>\n",
              "      <th>day</th>\n",
              "      <th>dayofyear</th>\n",
              "    </tr>\n",
              "    <tr>\n",
              "      <th>week</th>\n",
              "      <th></th>\n",
              "      <th></th>\n",
              "      <th></th>\n",
              "      <th></th>\n",
              "      <th></th>\n",
              "      <th></th>\n",
              "      <th></th>\n",
              "      <th></th>\n",
              "      <th></th>\n",
              "      <th></th>\n",
              "      <th></th>\n",
              "    </tr>\n",
              "  </thead>\n",
              "  <tbody>\n",
              "    <tr>\n",
              "      <th>1</th>\n",
              "      <td>5.008042</td>\n",
              "      <td>5.530550</td>\n",
              "      <td>0.101536</td>\n",
              "      <td>7.393594</td>\n",
              "      <td>97.107004</td>\n",
              "      <td>4.314909</td>\n",
              "      <td>246.685649</td>\n",
              "      <td>3.135699</td>\n",
              "      <td>3.698766</td>\n",
              "      <td>121.071078</td>\n",
              "      <td>121.071078</td>\n",
              "    </tr>\n",
              "    <tr>\n",
              "      <th>2</th>\n",
              "      <td>4.811115</td>\n",
              "      <td>5.394467</td>\n",
              "      <td>0.113069</td>\n",
              "      <td>6.531584</td>\n",
              "      <td>99.837951</td>\n",
              "      <td>4.991813</td>\n",
              "      <td>89.103028</td>\n",
              "      <td>3.163134</td>\n",
              "      <td>0.000000</td>\n",
              "      <td>2.892778</td>\n",
              "      <td>2.892778</td>\n",
              "    </tr>\n",
              "    <tr>\n",
              "      <th>3</th>\n",
              "      <td>4.532339</td>\n",
              "      <td>5.165160</td>\n",
              "      <td>0.107841</td>\n",
              "      <td>6.884513</td>\n",
              "      <td>91.283170</td>\n",
              "      <td>4.638049</td>\n",
              "      <td>67.561625</td>\n",
              "      <td>3.163134</td>\n",
              "      <td>0.000000</td>\n",
              "      <td>2.892778</td>\n",
              "      <td>2.892778</td>\n",
              "    </tr>\n",
              "    <tr>\n",
              "      <th>4</th>\n",
              "      <td>5.482606</td>\n",
              "      <td>6.102784</td>\n",
              "      <td>0.118193</td>\n",
              "      <td>7.777317</td>\n",
              "      <td>111.060259</td>\n",
              "      <td>4.480531</td>\n",
              "      <td>42.686836</td>\n",
              "      <td>3.163134</td>\n",
              "      <td>0.000000</td>\n",
              "      <td>2.892778</td>\n",
              "      <td>2.892778</td>\n",
              "    </tr>\n",
              "    <tr>\n",
              "      <th>5</th>\n",
              "      <td>5.251543</td>\n",
              "      <td>5.925691</td>\n",
              "      <td>0.132209</td>\n",
              "      <td>8.692668</td>\n",
              "      <td>104.658320</td>\n",
              "      <td>4.409161</td>\n",
              "      <td>122.760869</td>\n",
              "      <td>3.163134</td>\n",
              "      <td>0.495006</td>\n",
              "      <td>2.892778</td>\n",
              "      <td>2.892778</td>\n",
              "    </tr>\n",
              "    <tr>\n",
              "      <th>6</th>\n",
              "      <td>6.456311</td>\n",
              "      <td>7.246163</td>\n",
              "      <td>0.129590</td>\n",
              "      <td>7.094790</td>\n",
              "      <td>99.705722</td>\n",
              "      <td>4.623077</td>\n",
              "      <td>110.584848</td>\n",
              "      <td>3.163134</td>\n",
              "      <td>0.000000</td>\n",
              "      <td>2.892778</td>\n",
              "      <td>2.892778</td>\n",
              "    </tr>\n",
              "    <tr>\n",
              "      <th>7</th>\n",
              "      <td>4.628565</td>\n",
              "      <td>5.535001</td>\n",
              "      <td>0.127673</td>\n",
              "      <td>7.037540</td>\n",
              "      <td>99.560439</td>\n",
              "      <td>4.267868</td>\n",
              "      <td>160.344471</td>\n",
              "      <td>3.163134</td>\n",
              "      <td>0.000000</td>\n",
              "      <td>2.892778</td>\n",
              "      <td>2.892778</td>\n",
              "    </tr>\n",
              "    <tr>\n",
              "      <th>8</th>\n",
              "      <td>4.967552</td>\n",
              "      <td>5.908516</td>\n",
              "      <td>0.148057</td>\n",
              "      <td>7.138245</td>\n",
              "      <td>105.554739</td>\n",
              "      <td>4.156512</td>\n",
              "      <td>48.021065</td>\n",
              "      <td>3.163134</td>\n",
              "      <td>0.000000</td>\n",
              "      <td>2.892778</td>\n",
              "      <td>2.892778</td>\n",
              "    </tr>\n",
              "    <tr>\n",
              "      <th>9</th>\n",
              "      <td>4.839419</td>\n",
              "      <td>5.658514</td>\n",
              "      <td>0.153718</td>\n",
              "      <td>7.207053</td>\n",
              "      <td>98.208495</td>\n",
              "      <td>3.995919</td>\n",
              "      <td>105.512072</td>\n",
              "      <td>3.163134</td>\n",
              "      <td>0.499080</td>\n",
              "      <td>2.892778</td>\n",
              "      <td>2.892778</td>\n",
              "    </tr>\n",
              "    <tr>\n",
              "      <th>10</th>\n",
              "      <td>4.947341</td>\n",
              "      <td>6.001244</td>\n",
              "      <td>0.157593</td>\n",
              "      <td>8.092508</td>\n",
              "      <td>115.921219</td>\n",
              "      <td>3.534835</td>\n",
              "      <td>113.255560</td>\n",
              "      <td>3.163134</td>\n",
              "      <td>0.000000</td>\n",
              "      <td>2.892778</td>\n",
              "      <td>2.892778</td>\n",
              "    </tr>\n",
              "    <tr>\n",
              "      <th>11</th>\n",
              "      <td>5.265073</td>\n",
              "      <td>6.399644</td>\n",
              "      <td>0.191548</td>\n",
              "      <td>8.342104</td>\n",
              "      <td>108.675366</td>\n",
              "      <td>3.675687</td>\n",
              "      <td>122.570227</td>\n",
              "      <td>3.163134</td>\n",
              "      <td>0.000000</td>\n",
              "      <td>2.892778</td>\n",
              "      <td>2.892778</td>\n",
              "    </tr>\n",
              "    <tr>\n",
              "      <th>12</th>\n",
              "      <td>5.452593</td>\n",
              "      <td>6.789302</td>\n",
              "      <td>0.190884</td>\n",
              "      <td>8.363720</td>\n",
              "      <td>111.510796</td>\n",
              "      <td>3.303816</td>\n",
              "      <td>146.403166</td>\n",
              "      <td>3.163134</td>\n",
              "      <td>0.000000</td>\n",
              "      <td>2.892778</td>\n",
              "      <td>2.892778</td>\n",
              "    </tr>\n",
              "    <tr>\n",
              "      <th>13</th>\n",
              "      <td>5.334651</td>\n",
              "      <td>6.508104</td>\n",
              "      <td>0.197237</td>\n",
              "      <td>8.477027</td>\n",
              "      <td>99.867989</td>\n",
              "      <td>3.500306</td>\n",
              "      <td>107.712620</td>\n",
              "      <td>3.163134</td>\n",
              "      <td>0.385799</td>\n",
              "      <td>2.892778</td>\n",
              "      <td>2.892778</td>\n",
              "    </tr>\n",
              "    <tr>\n",
              "      <th>14</th>\n",
              "      <td>5.272616</td>\n",
              "      <td>6.310754</td>\n",
              "      <td>0.193015</td>\n",
              "      <td>8.070549</td>\n",
              "      <td>112.966202</td>\n",
              "      <td>3.309238</td>\n",
              "      <td>41.245168</td>\n",
              "      <td>3.163134</td>\n",
              "      <td>0.268121</td>\n",
              "      <td>2.892778</td>\n",
              "      <td>2.892778</td>\n",
              "    </tr>\n",
              "    <tr>\n",
              "      <th>15</th>\n",
              "      <td>5.270850</td>\n",
              "      <td>6.040311</td>\n",
              "      <td>0.197066</td>\n",
              "      <td>7.490980</td>\n",
              "      <td>105.546389</td>\n",
              "      <td>3.267526</td>\n",
              "      <td>94.238453</td>\n",
              "      <td>3.163134</td>\n",
              "      <td>0.000000</td>\n",
              "      <td>2.892778</td>\n",
              "      <td>2.892778</td>\n",
              "    </tr>\n",
              "    <tr>\n",
              "      <th>16</th>\n",
              "      <td>5.020456</td>\n",
              "      <td>5.607845</td>\n",
              "      <td>0.208602</td>\n",
              "      <td>6.792677</td>\n",
              "      <td>116.996924</td>\n",
              "      <td>3.559322</td>\n",
              "      <td>6.580682</td>\n",
              "      <td>3.163134</td>\n",
              "      <td>0.000000</td>\n",
              "      <td>2.892778</td>\n",
              "      <td>2.892778</td>\n",
              "    </tr>\n",
              "    <tr>\n",
              "      <th>17</th>\n",
              "      <td>5.413772</td>\n",
              "      <td>5.765406</td>\n",
              "      <td>0.204314</td>\n",
              "      <td>6.125820</td>\n",
              "      <td>95.453471</td>\n",
              "      <td>3.032426</td>\n",
              "      <td>78.377524</td>\n",
              "      <td>3.163134</td>\n",
              "      <td>0.221982</td>\n",
              "      <td>2.892778</td>\n",
              "      <td>2.892778</td>\n",
              "    </tr>\n",
              "    <tr>\n",
              "      <th>18</th>\n",
              "      <td>5.522132</td>\n",
              "      <td>5.814538</td>\n",
              "      <td>0.205129</td>\n",
              "      <td>6.891334</td>\n",
              "      <td>111.801960</td>\n",
              "      <td>3.013022</td>\n",
              "      <td>166.223026</td>\n",
              "      <td>3.163134</td>\n",
              "      <td>0.423340</td>\n",
              "      <td>2.892778</td>\n",
              "      <td>2.892778</td>\n",
              "    </tr>\n",
              "    <tr>\n",
              "      <th>19</th>\n",
              "      <td>5.025860</td>\n",
              "      <td>5.253456</td>\n",
              "      <td>0.199540</td>\n",
              "      <td>7.063987</td>\n",
              "      <td>109.984406</td>\n",
              "      <td>3.161776</td>\n",
              "      <td>81.778383</td>\n",
              "      <td>3.163134</td>\n",
              "      <td>0.000000</td>\n",
              "      <td>2.892778</td>\n",
              "      <td>2.892778</td>\n",
              "    </tr>\n",
              "    <tr>\n",
              "      <th>20</th>\n",
              "      <td>5.262296</td>\n",
              "      <td>5.506798</td>\n",
              "      <td>0.184618</td>\n",
              "      <td>7.416471</td>\n",
              "      <td>118.379217</td>\n",
              "      <td>2.965180</td>\n",
              "      <td>24.043112</td>\n",
              "      <td>3.163134</td>\n",
              "      <td>0.000000</td>\n",
              "      <td>2.892778</td>\n",
              "      <td>2.892778</td>\n",
              "    </tr>\n",
              "    <tr>\n",
              "      <th>21</th>\n",
              "      <td>4.923256</td>\n",
              "      <td>4.905467</td>\n",
              "      <td>0.188684</td>\n",
              "      <td>6.277847</td>\n",
              "      <td>106.126279</td>\n",
              "      <td>2.858820</td>\n",
              "      <td>74.507895</td>\n",
              "      <td>3.163134</td>\n",
              "      <td>0.000000</td>\n",
              "      <td>2.892778</td>\n",
              "      <td>2.892778</td>\n",
              "    </tr>\n",
              "    <tr>\n",
              "      <th>22</th>\n",
              "      <td>5.221413</td>\n",
              "      <td>5.287079</td>\n",
              "      <td>0.183340</td>\n",
              "      <td>5.478476</td>\n",
              "      <td>102.724662</td>\n",
              "      <td>2.969616</td>\n",
              "      <td>99.612098</td>\n",
              "      <td>3.163134</td>\n",
              "      <td>0.487794</td>\n",
              "      <td>2.892778</td>\n",
              "      <td>2.892778</td>\n",
              "    </tr>\n",
              "    <tr>\n",
              "      <th>23</th>\n",
              "      <td>5.599345</td>\n",
              "      <td>5.678155</td>\n",
              "      <td>0.194851</td>\n",
              "      <td>5.596402</td>\n",
              "      <td>108.420233</td>\n",
              "      <td>3.176042</td>\n",
              "      <td>33.686783</td>\n",
              "      <td>3.163134</td>\n",
              "      <td>0.000000</td>\n",
              "      <td>2.892778</td>\n",
              "      <td>2.892778</td>\n",
              "    </tr>\n",
              "    <tr>\n",
              "      <th>24</th>\n",
              "      <td>5.158063</td>\n",
              "      <td>5.128353</td>\n",
              "      <td>0.203184</td>\n",
              "      <td>5.791146</td>\n",
              "      <td>110.424590</td>\n",
              "      <td>2.896006</td>\n",
              "      <td>130.318992</td>\n",
              "      <td>3.163134</td>\n",
              "      <td>0.000000</td>\n",
              "      <td>2.892778</td>\n",
              "      <td>2.892778</td>\n",
              "    </tr>\n",
              "    <tr>\n",
              "      <th>25</th>\n",
              "      <td>5.794001</td>\n",
              "      <td>6.013124</td>\n",
              "      <td>0.204837</td>\n",
              "      <td>5.872436</td>\n",
              "      <td>112.345306</td>\n",
              "      <td>2.883095</td>\n",
              "      <td>166.398242</td>\n",
              "      <td>3.163134</td>\n",
              "      <td>0.000000</td>\n",
              "      <td>2.892778</td>\n",
              "      <td>2.892778</td>\n",
              "    </tr>\n",
              "    <tr>\n",
              "      <th>26</th>\n",
              "      <td>5.538135</td>\n",
              "      <td>5.616053</td>\n",
              "      <td>0.207666</td>\n",
              "      <td>5.843644</td>\n",
              "      <td>114.052529</td>\n",
              "      <td>2.888135</td>\n",
              "      <td>74.544189</td>\n",
              "      <td>3.163134</td>\n",
              "      <td>0.385799</td>\n",
              "      <td>2.892778</td>\n",
              "      <td>2.892778</td>\n",
              "    </tr>\n",
              "    <tr>\n",
              "      <th>27</th>\n",
              "      <td>5.677395</td>\n",
              "      <td>5.604498</td>\n",
              "      <td>0.216169</td>\n",
              "      <td>6.027635</td>\n",
              "      <td>112.726747</td>\n",
              "      <td>3.015309</td>\n",
              "      <td>52.981288</td>\n",
              "      <td>3.163134</td>\n",
              "      <td>0.268121</td>\n",
              "      <td>2.892778</td>\n",
              "      <td>2.892778</td>\n",
              "    </tr>\n",
              "    <tr>\n",
              "      <th>28</th>\n",
              "      <td>5.755464</td>\n",
              "      <td>5.898430</td>\n",
              "      <td>0.205628</td>\n",
              "      <td>5.776108</td>\n",
              "      <td>108.671245</td>\n",
              "      <td>2.853128</td>\n",
              "      <td>105.067709</td>\n",
              "      <td>3.163304</td>\n",
              "      <td>0.000000</td>\n",
              "      <td>2.894158</td>\n",
              "      <td>2.894158</td>\n",
              "    </tr>\n",
              "    <tr>\n",
              "      <th>29</th>\n",
              "      <td>5.864455</td>\n",
              "      <td>5.895502</td>\n",
              "      <td>0.216166</td>\n",
              "      <td>6.088937</td>\n",
              "      <td>111.021057</td>\n",
              "      <td>2.827400</td>\n",
              "      <td>102.531259</td>\n",
              "      <td>3.163219</td>\n",
              "      <td>0.000000</td>\n",
              "      <td>2.891219</td>\n",
              "      <td>2.891219</td>\n",
              "    </tr>\n",
              "    <tr>\n",
              "      <th>30</th>\n",
              "      <td>5.587042</td>\n",
              "      <td>5.563011</td>\n",
              "      <td>0.221947</td>\n",
              "      <td>6.041617</td>\n",
              "      <td>111.881199</td>\n",
              "      <td>3.207886</td>\n",
              "      <td>23.811323</td>\n",
              "      <td>3.161593</td>\n",
              "      <td>0.117746</td>\n",
              "      <td>2.897932</td>\n",
              "      <td>2.897932</td>\n",
              "    </tr>\n",
              "    <tr>\n",
              "      <th>31</th>\n",
              "      <td>5.383029</td>\n",
              "      <td>5.370217</td>\n",
              "      <td>0.210266</td>\n",
              "      <td>5.263082</td>\n",
              "      <td>119.307987</td>\n",
              "      <td>2.935712</td>\n",
              "      <td>74.070267</td>\n",
              "      <td>3.146311</td>\n",
              "      <td>0.471657</td>\n",
              "      <td>2.875702</td>\n",
              "      <td>2.875702</td>\n",
              "    </tr>\n",
              "    <tr>\n",
              "      <th>32</th>\n",
              "      <td>5.709605</td>\n",
              "      <td>5.716168</td>\n",
              "      <td>0.212906</td>\n",
              "      <td>5.425355</td>\n",
              "      <td>123.368583</td>\n",
              "      <td>2.922807</td>\n",
              "      <td>107.605653</td>\n",
              "      <td>3.163134</td>\n",
              "      <td>0.000000</td>\n",
              "      <td>2.892778</td>\n",
              "      <td>2.892778</td>\n",
              "    </tr>\n",
              "    <tr>\n",
              "      <th>33</th>\n",
              "      <td>5.925675</td>\n",
              "      <td>5.762977</td>\n",
              "      <td>0.216900</td>\n",
              "      <td>5.591991</td>\n",
              "      <td>117.547275</td>\n",
              "      <td>2.980866</td>\n",
              "      <td>57.886752</td>\n",
              "      <td>3.163134</td>\n",
              "      <td>0.000000</td>\n",
              "      <td>2.892778</td>\n",
              "      <td>2.892778</td>\n",
              "    </tr>\n",
              "    <tr>\n",
              "      <th>34</th>\n",
              "      <td>6.149509</td>\n",
              "      <td>5.916474</td>\n",
              "      <td>0.223476</td>\n",
              "      <td>6.005965</td>\n",
              "      <td>115.534163</td>\n",
              "      <td>2.936343</td>\n",
              "      <td>121.962378</td>\n",
              "      <td>3.163134</td>\n",
              "      <td>0.000000</td>\n",
              "      <td>2.892778</td>\n",
              "      <td>2.892778</td>\n",
              "    </tr>\n",
              "    <tr>\n",
              "      <th>35</th>\n",
              "      <td>5.875341</td>\n",
              "      <td>5.673549</td>\n",
              "      <td>0.221038</td>\n",
              "      <td>6.228777</td>\n",
              "      <td>114.785929</td>\n",
              "      <td>3.106645</td>\n",
              "      <td>174.319196</td>\n",
              "      <td>3.163134</td>\n",
              "      <td>0.445482</td>\n",
              "      <td>2.892778</td>\n",
              "      <td>2.892778</td>\n",
              "    </tr>\n",
              "    <tr>\n",
              "      <th>36</th>\n",
              "      <td>6.043471</td>\n",
              "      <td>5.967835</td>\n",
              "      <td>0.216281</td>\n",
              "      <td>5.979321</td>\n",
              "      <td>115.037783</td>\n",
              "      <td>3.507573</td>\n",
              "      <td>99.924434</td>\n",
              "      <td>3.163134</td>\n",
              "      <td>0.159101</td>\n",
              "      <td>2.892778</td>\n",
              "      <td>2.892778</td>\n",
              "    </tr>\n",
              "    <tr>\n",
              "      <th>37</th>\n",
              "      <td>5.163760</td>\n",
              "      <td>5.136622</td>\n",
              "      <td>0.209729</td>\n",
              "      <td>6.085962</td>\n",
              "      <td>114.579830</td>\n",
              "      <td>3.506689</td>\n",
              "      <td>174.367014</td>\n",
              "      <td>3.163134</td>\n",
              "      <td>0.000000</td>\n",
              "      <td>2.892778</td>\n",
              "      <td>2.892778</td>\n",
              "    </tr>\n",
              "    <tr>\n",
              "      <th>38</th>\n",
              "      <td>5.689703</td>\n",
              "      <td>5.848190</td>\n",
              "      <td>0.188260</td>\n",
              "      <td>6.303168</td>\n",
              "      <td>115.272724</td>\n",
              "      <td>3.632398</td>\n",
              "      <td>153.414098</td>\n",
              "      <td>3.163134</td>\n",
              "      <td>0.000000</td>\n",
              "      <td>2.892778</td>\n",
              "      <td>2.892778</td>\n",
              "    </tr>\n",
              "    <tr>\n",
              "      <th>39</th>\n",
              "      <td>5.315730</td>\n",
              "      <td>5.388077</td>\n",
              "      <td>0.194418</td>\n",
              "      <td>6.206881</td>\n",
              "      <td>119.699321</td>\n",
              "      <td>3.339016</td>\n",
              "      <td>24.364101</td>\n",
              "      <td>3.163134</td>\n",
              "      <td>0.305208</td>\n",
              "      <td>2.892778</td>\n",
              "      <td>2.892778</td>\n",
              "    </tr>\n",
              "    <tr>\n",
              "      <th>40</th>\n",
              "      <td>5.486404</td>\n",
              "      <td>5.932160</td>\n",
              "      <td>0.183379</td>\n",
              "      <td>6.465498</td>\n",
              "      <td>112.980725</td>\n",
              "      <td>3.510895</td>\n",
              "      <td>122.502358</td>\n",
              "      <td>3.163134</td>\n",
              "      <td>0.350022</td>\n",
              "      <td>2.892778</td>\n",
              "      <td>2.892778</td>\n",
              "    </tr>\n",
              "    <tr>\n",
              "      <th>41</th>\n",
              "      <td>5.161809</td>\n",
              "      <td>5.596601</td>\n",
              "      <td>0.174645</td>\n",
              "      <td>5.479907</td>\n",
              "      <td>113.519218</td>\n",
              "      <td>4.103450</td>\n",
              "      <td>108.252108</td>\n",
              "      <td>3.163134</td>\n",
              "      <td>0.000000</td>\n",
              "      <td>2.892778</td>\n",
              "      <td>2.892778</td>\n",
              "    </tr>\n",
              "    <tr>\n",
              "      <th>42</th>\n",
              "      <td>5.234595</td>\n",
              "      <td>6.054321</td>\n",
              "      <td>0.167927</td>\n",
              "      <td>7.430465</td>\n",
              "      <td>94.753756</td>\n",
              "      <td>3.933922</td>\n",
              "      <td>78.628116</td>\n",
              "      <td>3.163134</td>\n",
              "      <td>0.000000</td>\n",
              "      <td>2.892778</td>\n",
              "      <td>2.892778</td>\n",
              "    </tr>\n",
              "    <tr>\n",
              "      <th>43</th>\n",
              "      <td>4.911441</td>\n",
              "      <td>5.653080</td>\n",
              "      <td>0.140614</td>\n",
              "      <td>6.717006</td>\n",
              "      <td>101.453535</td>\n",
              "      <td>4.554591</td>\n",
              "      <td>118.073410</td>\n",
              "      <td>3.163134</td>\n",
              "      <td>0.000000</td>\n",
              "      <td>2.892778</td>\n",
              "      <td>2.892778</td>\n",
              "    </tr>\n",
              "    <tr>\n",
              "      <th>44</th>\n",
              "      <td>5.231834</td>\n",
              "      <td>6.106931</td>\n",
              "      <td>0.144379</td>\n",
              "      <td>7.299589</td>\n",
              "      <td>97.532059</td>\n",
              "      <td>4.426513</td>\n",
              "      <td>181.023391</td>\n",
              "      <td>3.163134</td>\n",
              "      <td>0.499080</td>\n",
              "      <td>2.892778</td>\n",
              "      <td>2.892778</td>\n",
              "    </tr>\n",
              "    <tr>\n",
              "      <th>45</th>\n",
              "      <td>4.951843</td>\n",
              "      <td>5.719654</td>\n",
              "      <td>0.128664</td>\n",
              "      <td>7.402578</td>\n",
              "      <td>84.429960</td>\n",
              "      <td>4.294965</td>\n",
              "      <td>53.756782</td>\n",
              "      <td>3.163134</td>\n",
              "      <td>0.000000</td>\n",
              "      <td>2.892778</td>\n",
              "      <td>2.892778</td>\n",
              "    </tr>\n",
              "    <tr>\n",
              "      <th>46</th>\n",
              "      <td>4.762689</td>\n",
              "      <td>5.507786</td>\n",
              "      <td>0.120901</td>\n",
              "      <td>6.068201</td>\n",
              "      <td>94.005725</td>\n",
              "      <td>4.326724</td>\n",
              "      <td>34.255564</td>\n",
              "      <td>3.163134</td>\n",
              "      <td>0.000000</td>\n",
              "      <td>2.892778</td>\n",
              "      <td>2.892778</td>\n",
              "    </tr>\n",
              "    <tr>\n",
              "      <th>47</th>\n",
              "      <td>4.133849</td>\n",
              "      <td>4.822966</td>\n",
              "      <td>0.108823</td>\n",
              "      <td>6.485779</td>\n",
              "      <td>83.797797</td>\n",
              "      <td>4.281548</td>\n",
              "      <td>110.825902</td>\n",
              "      <td>3.163134</td>\n",
              "      <td>0.000000</td>\n",
              "      <td>2.892778</td>\n",
              "      <td>2.892778</td>\n",
              "    </tr>\n",
              "    <tr>\n",
              "      <th>48</th>\n",
              "      <td>3.617409</td>\n",
              "      <td>4.412850</td>\n",
              "      <td>0.105251</td>\n",
              "      <td>6.351566</td>\n",
              "      <td>97.758820</td>\n",
              "      <td>4.396175</td>\n",
              "      <td>58.604245</td>\n",
              "      <td>3.163134</td>\n",
              "      <td>0.445482</td>\n",
              "      <td>2.892778</td>\n",
              "      <td>2.892778</td>\n",
              "    </tr>\n",
              "    <tr>\n",
              "      <th>49</th>\n",
              "      <td>4.155522</td>\n",
              "      <td>5.293422</td>\n",
              "      <td>0.103713</td>\n",
              "      <td>7.918307</td>\n",
              "      <td>89.751549</td>\n",
              "      <td>4.245074</td>\n",
              "      <td>97.432926</td>\n",
              "      <td>3.163134</td>\n",
              "      <td>0.159101</td>\n",
              "      <td>2.892778</td>\n",
              "      <td>2.892778</td>\n",
              "    </tr>\n",
              "    <tr>\n",
              "      <th>50</th>\n",
              "      <td>4.280489</td>\n",
              "      <td>5.230743</td>\n",
              "      <td>0.100274</td>\n",
              "      <td>7.077564</td>\n",
              "      <td>97.881158</td>\n",
              "      <td>4.478506</td>\n",
              "      <td>122.970632</td>\n",
              "      <td>3.163134</td>\n",
              "      <td>0.000000</td>\n",
              "      <td>2.892778</td>\n",
              "      <td>2.892778</td>\n",
              "    </tr>\n",
              "    <tr>\n",
              "      <th>51</th>\n",
              "      <td>4.211092</td>\n",
              "      <td>4.843199</td>\n",
              "      <td>0.084308</td>\n",
              "      <td>6.394904</td>\n",
              "      <td>98.759685</td>\n",
              "      <td>3.601052</td>\n",
              "      <td>219.360546</td>\n",
              "      <td>3.163134</td>\n",
              "      <td>0.000000</td>\n",
              "      <td>2.892778</td>\n",
              "      <td>2.892778</td>\n",
              "    </tr>\n",
              "    <tr>\n",
              "      <th>52</th>\n",
              "      <td>4.982740</td>\n",
              "      <td>5.411689</td>\n",
              "      <td>0.108186</td>\n",
              "      <td>7.435814</td>\n",
              "      <td>85.995485</td>\n",
              "      <td>4.574607</td>\n",
              "      <td>239.578330</td>\n",
              "      <td>3.160536</td>\n",
              "      <td>2.441805</td>\n",
              "      <td>79.833068</td>\n",
              "      <td>79.833068</td>\n",
              "    </tr>\n",
              "    <tr>\n",
              "      <th>53</th>\n",
              "      <td>5.182074</td>\n",
              "      <td>6.185802</td>\n",
              "      <td>0.115782</td>\n",
              "      <td>6.664950</td>\n",
              "      <td>105.927199</td>\n",
              "      <td>4.928993</td>\n",
              "      <td>14.736563</td>\n",
              "      <td>3.045077</td>\n",
              "      <td>5.451707</td>\n",
              "      <td>179.165714</td>\n",
              "      <td>179.165714</td>\n",
              "    </tr>\n",
              "  </tbody>\n",
              "</table>\n",
              "</div>"
            ],
            "text/plain": [
              "          temp  temp_app  humidity  ...     month         day   dayofyear\n",
              "week                                ...                                  \n",
              "1     5.008042  5.530550  0.101536  ...  3.698766  121.071078  121.071078\n",
              "2     4.811115  5.394467  0.113069  ...  0.000000    2.892778    2.892778\n",
              "3     4.532339  5.165160  0.107841  ...  0.000000    2.892778    2.892778\n",
              "4     5.482606  6.102784  0.118193  ...  0.000000    2.892778    2.892778\n",
              "5     5.251543  5.925691  0.132209  ...  0.495006    2.892778    2.892778\n",
              "6     6.456311  7.246163  0.129590  ...  0.000000    2.892778    2.892778\n",
              "7     4.628565  5.535001  0.127673  ...  0.000000    2.892778    2.892778\n",
              "8     4.967552  5.908516  0.148057  ...  0.000000    2.892778    2.892778\n",
              "9     4.839419  5.658514  0.153718  ...  0.499080    2.892778    2.892778\n",
              "10    4.947341  6.001244  0.157593  ...  0.000000    2.892778    2.892778\n",
              "11    5.265073  6.399644  0.191548  ...  0.000000    2.892778    2.892778\n",
              "12    5.452593  6.789302  0.190884  ...  0.000000    2.892778    2.892778\n",
              "13    5.334651  6.508104  0.197237  ...  0.385799    2.892778    2.892778\n",
              "14    5.272616  6.310754  0.193015  ...  0.268121    2.892778    2.892778\n",
              "15    5.270850  6.040311  0.197066  ...  0.000000    2.892778    2.892778\n",
              "16    5.020456  5.607845  0.208602  ...  0.000000    2.892778    2.892778\n",
              "17    5.413772  5.765406  0.204314  ...  0.221982    2.892778    2.892778\n",
              "18    5.522132  5.814538  0.205129  ...  0.423340    2.892778    2.892778\n",
              "19    5.025860  5.253456  0.199540  ...  0.000000    2.892778    2.892778\n",
              "20    5.262296  5.506798  0.184618  ...  0.000000    2.892778    2.892778\n",
              "21    4.923256  4.905467  0.188684  ...  0.000000    2.892778    2.892778\n",
              "22    5.221413  5.287079  0.183340  ...  0.487794    2.892778    2.892778\n",
              "23    5.599345  5.678155  0.194851  ...  0.000000    2.892778    2.892778\n",
              "24    5.158063  5.128353  0.203184  ...  0.000000    2.892778    2.892778\n",
              "25    5.794001  6.013124  0.204837  ...  0.000000    2.892778    2.892778\n",
              "26    5.538135  5.616053  0.207666  ...  0.385799    2.892778    2.892778\n",
              "27    5.677395  5.604498  0.216169  ...  0.268121    2.892778    2.892778\n",
              "28    5.755464  5.898430  0.205628  ...  0.000000    2.894158    2.894158\n",
              "29    5.864455  5.895502  0.216166  ...  0.000000    2.891219    2.891219\n",
              "30    5.587042  5.563011  0.221947  ...  0.117746    2.897932    2.897932\n",
              "31    5.383029  5.370217  0.210266  ...  0.471657    2.875702    2.875702\n",
              "32    5.709605  5.716168  0.212906  ...  0.000000    2.892778    2.892778\n",
              "33    5.925675  5.762977  0.216900  ...  0.000000    2.892778    2.892778\n",
              "34    6.149509  5.916474  0.223476  ...  0.000000    2.892778    2.892778\n",
              "35    5.875341  5.673549  0.221038  ...  0.445482    2.892778    2.892778\n",
              "36    6.043471  5.967835  0.216281  ...  0.159101    2.892778    2.892778\n",
              "37    5.163760  5.136622  0.209729  ...  0.000000    2.892778    2.892778\n",
              "38    5.689703  5.848190  0.188260  ...  0.000000    2.892778    2.892778\n",
              "39    5.315730  5.388077  0.194418  ...  0.305208    2.892778    2.892778\n",
              "40    5.486404  5.932160  0.183379  ...  0.350022    2.892778    2.892778\n",
              "41    5.161809  5.596601  0.174645  ...  0.000000    2.892778    2.892778\n",
              "42    5.234595  6.054321  0.167927  ...  0.000000    2.892778    2.892778\n",
              "43    4.911441  5.653080  0.140614  ...  0.000000    2.892778    2.892778\n",
              "44    5.231834  6.106931  0.144379  ...  0.499080    2.892778    2.892778\n",
              "45    4.951843  5.719654  0.128664  ...  0.000000    2.892778    2.892778\n",
              "46    4.762689  5.507786  0.120901  ...  0.000000    2.892778    2.892778\n",
              "47    4.133849  4.822966  0.108823  ...  0.000000    2.892778    2.892778\n",
              "48    3.617409  4.412850  0.105251  ...  0.445482    2.892778    2.892778\n",
              "49    4.155522  5.293422  0.103713  ...  0.159101    2.892778    2.892778\n",
              "50    4.280489  5.230743  0.100274  ...  0.000000    2.892778    2.892778\n",
              "51    4.211092  4.843199  0.084308  ...  0.000000    2.892778    2.892778\n",
              "52    4.982740  5.411689  0.108186  ...  2.441805   79.833068   79.833068\n",
              "53    5.182074  6.185802  0.115782  ...  5.451707  179.165714  179.165714\n",
              "\n",
              "[53 rows x 11 columns]"
            ]
          },
          "metadata": {
            "tags": []
          },
          "execution_count": 40
        }
      ]
    },
    {
      "cell_type": "code",
      "metadata": {
        "id": "5R8aGBCbwxF-",
        "colab_type": "code",
        "outputId": "e54e7393-ff16-4081-be67-6d56149be21b",
        "colab": {
          "base_uri": "https://localhost:8080/",
          "height": 34
        }
      },
      "source": [
        "crazy_week = group_by_week.loc[group_by_week['temp'] == group_by_week['temp'].max()]\n",
        "crazy_week.index"
      ],
      "execution_count": 0,
      "outputs": [
        {
          "output_type": "execute_result",
          "data": {
            "text/plain": [
              "Int64Index([6], dtype='int64', name='week')"
            ]
          },
          "metadata": {
            "tags": []
          },
          "execution_count": 42
        }
      ]
    },
    {
      "cell_type": "markdown",
      "metadata": {
        "id": "7zKAFmjLZy3V",
        "colab_type": "text"
      },
      "source": [
        "### Сколько раз шел дождь летом 2014\n",
        "\n",
        "Можно пойти простым путем: просто посчитать, сколько строк с типом погоды 'rain' есть в данных. К сожалению, с нашими данными так мы не сможем узнать точное число дождливых дней. Для этого нам нужно перейти к категориальным переменным, с подсчетом которых возникают свои трудности.\n"
      ]
    },
    {
      "cell_type": "code",
      "metadata": {
        "id": "Jet34rdcZzd6",
        "colab_type": "code",
        "colab": {}
      },
      "source": [
        "summer = weather_hist.loc[weather_hist['weather_type'] == 'rain']\n",
        "#можно пойти этим путем и посчитать, сколько строк с типом погоды 'rain', но так\n",
        "#мы не сможем узнать точное число дождливых дней, нам нужно перейти к \n",
        "#категориальным переменным"
      ],
      "execution_count": 0,
      "outputs": []
    },
    {
      "cell_type": "code",
      "metadata": {
        "id": "PQ6WYXiMJd2Y",
        "colab_type": "code",
        "colab": {}
      },
      "source": [
        "summer.count"
      ],
      "execution_count": 0,
      "outputs": []
    },
    {
      "cell_type": "code",
      "metadata": {
        "id": "SFo1OZhoqMsn",
        "colab_type": "code",
        "colab": {}
      },
      "source": [
        "weather_hist['year'] = weather_hist['date'].dt.year\n",
        "weather_hist['month'] = weather_hist['date'].dt.month\n",
        "weather_hist['day'] = weather_hist['date'].dt.day\n",
        "group_by_date1 = weather_hist.groupby('year').count()"
      ],
      "execution_count": 0,
      "outputs": []
    },
    {
      "cell_type": "code",
      "metadata": {
        "id": "REUzHs9eGNT5",
        "colab_type": "code",
        "outputId": "6870071d-ce3e-46ef-cc65-edfc71784e82",
        "colab": {
          "base_uri": "https://localhost:8080/",
          "height": 506
        }
      },
      "source": [
        "group_by_date1"
      ],
      "execution_count": 0,
      "outputs": [
        {
          "output_type": "execute_result",
          "data": {
            "text/html": [
              "<div>\n",
              "<style scoped>\n",
              "    .dataframe tbody tr th:only-of-type {\n",
              "        vertical-align: middle;\n",
              "    }\n",
              "\n",
              "    .dataframe tbody tr th {\n",
              "        vertical-align: top;\n",
              "    }\n",
              "\n",
              "    .dataframe thead th {\n",
              "        text-align: right;\n",
              "    }\n",
              "</style>\n",
              "<table border=\"1\" class=\"dataframe\">\n",
              "  <thead>\n",
              "    <tr style=\"text-align: right;\">\n",
              "      <th></th>\n",
              "      <th>date</th>\n",
              "      <th>Summary</th>\n",
              "      <th>weather_type</th>\n",
              "      <th>temp</th>\n",
              "      <th>temp_app</th>\n",
              "      <th>humidity</th>\n",
              "      <th>wind_speed</th>\n",
              "      <th>Wind Bearing (degrees)</th>\n",
              "      <th>Visibility (km)</th>\n",
              "      <th>Pressure (millibars)</th>\n",
              "      <th>summary</th>\n",
              "      <th>month</th>\n",
              "      <th>day</th>\n",
              "      <th>dayofyear</th>\n",
              "      <th>week</th>\n",
              "    </tr>\n",
              "    <tr>\n",
              "      <th>year</th>\n",
              "      <th></th>\n",
              "      <th></th>\n",
              "      <th></th>\n",
              "      <th></th>\n",
              "      <th></th>\n",
              "      <th></th>\n",
              "      <th></th>\n",
              "      <th></th>\n",
              "      <th></th>\n",
              "      <th></th>\n",
              "      <th></th>\n",
              "      <th></th>\n",
              "      <th></th>\n",
              "      <th></th>\n",
              "      <th></th>\n",
              "    </tr>\n",
              "  </thead>\n",
              "  <tbody>\n",
              "    <tr>\n",
              "      <th>2005</th>\n",
              "      <td>1</td>\n",
              "      <td>1</td>\n",
              "      <td>1</td>\n",
              "      <td>1</td>\n",
              "      <td>1</td>\n",
              "      <td>1</td>\n",
              "      <td>1</td>\n",
              "      <td>1</td>\n",
              "      <td>1</td>\n",
              "      <td>1</td>\n",
              "      <td>1</td>\n",
              "      <td>1</td>\n",
              "      <td>1</td>\n",
              "      <td>1</td>\n",
              "      <td>1</td>\n",
              "    </tr>\n",
              "    <tr>\n",
              "      <th>2006</th>\n",
              "      <td>8760</td>\n",
              "      <td>8760</td>\n",
              "      <td>8760</td>\n",
              "      <td>8760</td>\n",
              "      <td>8760</td>\n",
              "      <td>8760</td>\n",
              "      <td>8760</td>\n",
              "      <td>8760</td>\n",
              "      <td>8760</td>\n",
              "      <td>8760</td>\n",
              "      <td>8760</td>\n",
              "      <td>8760</td>\n",
              "      <td>8760</td>\n",
              "      <td>8760</td>\n",
              "      <td>8760</td>\n",
              "    </tr>\n",
              "    <tr>\n",
              "      <th>2007</th>\n",
              "      <td>8760</td>\n",
              "      <td>8760</td>\n",
              "      <td>8760</td>\n",
              "      <td>8760</td>\n",
              "      <td>8760</td>\n",
              "      <td>8760</td>\n",
              "      <td>8760</td>\n",
              "      <td>8760</td>\n",
              "      <td>8760</td>\n",
              "      <td>8760</td>\n",
              "      <td>8760</td>\n",
              "      <td>8760</td>\n",
              "      <td>8760</td>\n",
              "      <td>8760</td>\n",
              "      <td>8760</td>\n",
              "    </tr>\n",
              "    <tr>\n",
              "      <th>2008</th>\n",
              "      <td>8784</td>\n",
              "      <td>8784</td>\n",
              "      <td>8784</td>\n",
              "      <td>8784</td>\n",
              "      <td>8784</td>\n",
              "      <td>8784</td>\n",
              "      <td>8784</td>\n",
              "      <td>8784</td>\n",
              "      <td>8784</td>\n",
              "      <td>8784</td>\n",
              "      <td>8784</td>\n",
              "      <td>8784</td>\n",
              "      <td>8784</td>\n",
              "      <td>8784</td>\n",
              "      <td>8784</td>\n",
              "    </tr>\n",
              "    <tr>\n",
              "      <th>2009</th>\n",
              "      <td>8760</td>\n",
              "      <td>8760</td>\n",
              "      <td>8760</td>\n",
              "      <td>8760</td>\n",
              "      <td>8760</td>\n",
              "      <td>8760</td>\n",
              "      <td>8760</td>\n",
              "      <td>8760</td>\n",
              "      <td>8760</td>\n",
              "      <td>8760</td>\n",
              "      <td>8760</td>\n",
              "      <td>8760</td>\n",
              "      <td>8760</td>\n",
              "      <td>8760</td>\n",
              "      <td>8760</td>\n",
              "    </tr>\n",
              "    <tr>\n",
              "      <th>2010</th>\n",
              "      <td>8784</td>\n",
              "      <td>8784</td>\n",
              "      <td>8784</td>\n",
              "      <td>8784</td>\n",
              "      <td>8784</td>\n",
              "      <td>8784</td>\n",
              "      <td>8784</td>\n",
              "      <td>8784</td>\n",
              "      <td>8784</td>\n",
              "      <td>8784</td>\n",
              "      <td>8784</td>\n",
              "      <td>8784</td>\n",
              "      <td>8784</td>\n",
              "      <td>8784</td>\n",
              "      <td>8784</td>\n",
              "    </tr>\n",
              "    <tr>\n",
              "      <th>2011</th>\n",
              "      <td>8760</td>\n",
              "      <td>8760</td>\n",
              "      <td>8760</td>\n",
              "      <td>8760</td>\n",
              "      <td>8760</td>\n",
              "      <td>8760</td>\n",
              "      <td>8760</td>\n",
              "      <td>8760</td>\n",
              "      <td>8760</td>\n",
              "      <td>8760</td>\n",
              "      <td>8760</td>\n",
              "      <td>8760</td>\n",
              "      <td>8760</td>\n",
              "      <td>8760</td>\n",
              "      <td>8760</td>\n",
              "    </tr>\n",
              "    <tr>\n",
              "      <th>2012</th>\n",
              "      <td>8784</td>\n",
              "      <td>8784</td>\n",
              "      <td>8641</td>\n",
              "      <td>8784</td>\n",
              "      <td>8784</td>\n",
              "      <td>8784</td>\n",
              "      <td>8784</td>\n",
              "      <td>8784</td>\n",
              "      <td>8784</td>\n",
              "      <td>8784</td>\n",
              "      <td>8784</td>\n",
              "      <td>8784</td>\n",
              "      <td>8784</td>\n",
              "      <td>8784</td>\n",
              "      <td>8784</td>\n",
              "    </tr>\n",
              "    <tr>\n",
              "      <th>2013</th>\n",
              "      <td>8760</td>\n",
              "      <td>8760</td>\n",
              "      <td>8760</td>\n",
              "      <td>8760</td>\n",
              "      <td>8760</td>\n",
              "      <td>8760</td>\n",
              "      <td>8760</td>\n",
              "      <td>8760</td>\n",
              "      <td>8760</td>\n",
              "      <td>8760</td>\n",
              "      <td>8760</td>\n",
              "      <td>8760</td>\n",
              "      <td>8760</td>\n",
              "      <td>8760</td>\n",
              "      <td>8760</td>\n",
              "    </tr>\n",
              "    <tr>\n",
              "      <th>2014</th>\n",
              "      <td>8757</td>\n",
              "      <td>8757</td>\n",
              "      <td>8757</td>\n",
              "      <td>8757</td>\n",
              "      <td>8757</td>\n",
              "      <td>8757</td>\n",
              "      <td>8757</td>\n",
              "      <td>8757</td>\n",
              "      <td>8757</td>\n",
              "      <td>8757</td>\n",
              "      <td>8757</td>\n",
              "      <td>8757</td>\n",
              "      <td>8757</td>\n",
              "      <td>8757</td>\n",
              "      <td>8757</td>\n",
              "    </tr>\n",
              "    <tr>\n",
              "      <th>2015</th>\n",
              "      <td>8760</td>\n",
              "      <td>8760</td>\n",
              "      <td>8760</td>\n",
              "      <td>8760</td>\n",
              "      <td>8760</td>\n",
              "      <td>8760</td>\n",
              "      <td>8760</td>\n",
              "      <td>8760</td>\n",
              "      <td>8760</td>\n",
              "      <td>8760</td>\n",
              "      <td>8760</td>\n",
              "      <td>8760</td>\n",
              "      <td>8760</td>\n",
              "      <td>8760</td>\n",
              "      <td>8760</td>\n",
              "    </tr>\n",
              "    <tr>\n",
              "      <th>2016</th>\n",
              "      <td>8783</td>\n",
              "      <td>8783</td>\n",
              "      <td>8409</td>\n",
              "      <td>8783</td>\n",
              "      <td>8783</td>\n",
              "      <td>8783</td>\n",
              "      <td>8783</td>\n",
              "      <td>8783</td>\n",
              "      <td>8783</td>\n",
              "      <td>8783</td>\n",
              "      <td>8783</td>\n",
              "      <td>8783</td>\n",
              "      <td>8783</td>\n",
              "      <td>8783</td>\n",
              "      <td>8783</td>\n",
              "    </tr>\n",
              "  </tbody>\n",
              "</table>\n",
              "</div>"
            ],
            "text/plain": [
              "      date  Summary  weather_type  temp  ...  month   day  dayofyear  week\n",
              "year                                     ...                              \n",
              "2005     1        1             1     1  ...      1     1          1     1\n",
              "2006  8760     8760          8760  8760  ...   8760  8760       8760  8760\n",
              "2007  8760     8760          8760  8760  ...   8760  8760       8760  8760\n",
              "2008  8784     8784          8784  8784  ...   8784  8784       8784  8784\n",
              "2009  8760     8760          8760  8760  ...   8760  8760       8760  8760\n",
              "2010  8784     8784          8784  8784  ...   8784  8784       8784  8784\n",
              "2011  8760     8760          8760  8760  ...   8760  8760       8760  8760\n",
              "2012  8784     8784          8641  8784  ...   8784  8784       8784  8784\n",
              "2013  8760     8760          8760  8760  ...   8760  8760       8760  8760\n",
              "2014  8757     8757          8757  8757  ...   8757  8757       8757  8757\n",
              "2015  8760     8760          8760  8760  ...   8760  8760       8760  8760\n",
              "2016  8783     8783          8409  8783  ...   8783  8783       8783  8783\n",
              "\n",
              "[12 rows x 15 columns]"
            ]
          },
          "metadata": {
            "tags": []
          },
          "execution_count": 475
        }
      ]
    },
    {
      "cell_type": "code",
      "metadata": {
        "id": "RQb-FWXUxg51",
        "colab_type": "code",
        "colab": {}
      },
      "source": [
        "# year2014 = group_by_date1.loc[group_by_date1['year'] == group_by_date1['2014']]\n",
        "# year2014"
      ],
      "execution_count": 0,
      "outputs": []
    },
    {
      "cell_type": "markdown",
      "metadata": {
        "id": "QpEB2e1f8Ll6",
        "colab_type": "text"
      },
      "source": [
        "## Домашнее задание 2\n",
        "\n",
        "Придумать признаки (как минимум 5), которые можно извлечь из текста, помимо тех 4, которые мы уже использовали. \n",
        "\n",
        "Обучите модель на них и проверьте, улучашается ли качество. \n",
        "\n",
        "Опишите признаки, которое придумали и почему считаете, что они должны показывать вероятность покупки.\n",
        "\n",
        "Побробуйте подобрать параметры векторизатора (TfidfVectorizer или CountVectorizer, или обоих) и параметры алгоритма так, чтобы качество, которое у нас получилось (0.248) улучшилось. \n",
        "\n",
        "Опишите то, что попробовали.\n"
      ]
    },
    {
      "cell_type": "code",
      "metadata": {
        "id": "e4ueMHD_yERL",
        "colab_type": "code",
        "colab": {}
      },
      "source": [
        "import pandas as pd"
      ],
      "execution_count": 0,
      "outputs": []
    },
    {
      "cell_type": "code",
      "metadata": {
        "id": "zwuuUVXV0B7Y",
        "colab_type": "code",
        "colab": {}
      },
      "source": [
        "import numpy as np\n",
        "from sklearn.metrics import mean_squared_error\n",
        "from sklearn.metrics import mean_absolute_error\n",
        "from sklearn.preprocessing import StandardScaler\n",
        "from sklearn.linear_model import LinearRegression, Ridge, Lasso, ElasticNet\n",
        "from sklearn.svm import LinearSVR\n",
        "from sklearn.model_selection import train_test_split\n",
        "from sklearn.feature_extraction.text import CountVectorizer, TfidfVectorizer\n",
        "from scipy.sparse import hstack\n",
        "from sklearn.metrics import r2_score\n",
        "from sklearn.linear_model import SGDRegressor\n",
        "import string\n"
      ],
      "execution_count": 0,
      "outputs": []
    },
    {
      "cell_type": "code",
      "metadata": {
        "id": "B3kn2nz74S-0",
        "colab_type": "code",
        "colab": {}
      },
      "source": [
        "import os\n",
        "os.chdir('/content/gdrive/')"
      ],
      "execution_count": 0,
      "outputs": []
    },
    {
      "cell_type": "code",
      "metadata": {
        "id": "mVXsbtZ8zxQJ",
        "colab_type": "code",
        "colab": {}
      },
      "source": [
        "data = pd.read_csv('data.csv')\n",
        "data.dropna(subset=['description'], inplace=True)\n",
        "data = data.sample(frac=0.08)\n",
        "data.to_csv('data.csv', index=None)\n",
        "data = pd.read_csv('data.csv')"
      ],
      "execution_count": 0,
      "outputs": []
    },
    {
      "cell_type": "code",
      "metadata": {
        "id": "b4l_gQuESDnX",
        "colab_type": "code",
        "colab": {}
      },
      "source": [
        "sorted_data = data.sort_values('deal_probability', ascending=False) #посмотрим на данные"
      ],
      "execution_count": 0,
      "outputs": []
    },
    {
      "cell_type": "code",
      "metadata": {
        "id": "INH9-817SIey",
        "colab_type": "code",
        "outputId": "d16578cf-7f41-4deb-dc3c-a17d2c5d2241",
        "colab": {
          "base_uri": "https://localhost:8080/",
          "height": 719
        }
      },
      "source": [
        "sorted_data[:10]"
      ],
      "execution_count": 0,
      "outputs": [
        {
          "output_type": "execute_result",
          "data": {
            "text/html": [
              "<div>\n",
              "<style scoped>\n",
              "    .dataframe tbody tr th:only-of-type {\n",
              "        vertical-align: middle;\n",
              "    }\n",
              "\n",
              "    .dataframe tbody tr th {\n",
              "        vertical-align: top;\n",
              "    }\n",
              "\n",
              "    .dataframe thead th {\n",
              "        text-align: right;\n",
              "    }\n",
              "</style>\n",
              "<table border=\"1\" class=\"dataframe\">\n",
              "  <thead>\n",
              "    <tr style=\"text-align: right;\">\n",
              "      <th></th>\n",
              "      <th>item_id</th>\n",
              "      <th>user_id</th>\n",
              "      <th>region</th>\n",
              "      <th>city</th>\n",
              "      <th>parent_category_name</th>\n",
              "      <th>category_name</th>\n",
              "      <th>param_1</th>\n",
              "      <th>param_2</th>\n",
              "      <th>param_3</th>\n",
              "      <th>title</th>\n",
              "      <th>description</th>\n",
              "      <th>price</th>\n",
              "      <th>item_seq_number</th>\n",
              "      <th>activation_date</th>\n",
              "      <th>user_type</th>\n",
              "      <th>image</th>\n",
              "      <th>image_top_1</th>\n",
              "      <th>deal_probability</th>\n",
              "      <th>text_len</th>\n",
              "      <th>text_len_tokens</th>\n",
              "      <th>number_of_caps</th>\n",
              "      <th>number_of_nonalphanum</th>\n",
              "      <th>number_of_noncaps</th>\n",
              "      <th>number_of_nums</th>\n",
              "      <th>number_of_spaces</th>\n",
              "      <th>number_of_punct</th>\n",
              "      <th>words</th>\n",
              "    </tr>\n",
              "  </thead>\n",
              "  <tbody>\n",
              "    <tr>\n",
              "      <th>8719</th>\n",
              "      <td>d486827679d6</td>\n",
              "      <td>068fca56e063</td>\n",
              "      <td>Ханты-Мансийский АО</td>\n",
              "      <td>Сургут</td>\n",
              "      <td>Услуги</td>\n",
              "      <td>Предложение услуг</td>\n",
              "      <td>Реклама, полиграфия</td>\n",
              "      <td>Полиграфия, дизайн</td>\n",
              "      <td>NaN</td>\n",
              "      <td>Печать визиток</td>\n",
              "      <td>Печать визиток от 0,552руб/шт /\\nПечать листов...</td>\n",
              "      <td>1.0</td>\n",
              "      <td>216</td>\n",
              "      <td>2017-03-22</td>\n",
              "      <td>Company</td>\n",
              "      <td>0ee870e2c5be5b051eaec70859f6b29fe0a73d22fc1f04...</td>\n",
              "      <td>689.0</td>\n",
              "      <td>1.0</td>\n",
              "      <td>131</td>\n",
              "      <td>22</td>\n",
              "      <td>5</td>\n",
              "      <td>29</td>\n",
              "      <td>88</td>\n",
              "      <td>9</td>\n",
              "      <td>21</td>\n",
              "      <td>131</td>\n",
              "      <td>0</td>\n",
              "    </tr>\n",
              "    <tr>\n",
              "      <th>9747</th>\n",
              "      <td>fb21cf55769f</td>\n",
              "      <td>60bcc306dc65</td>\n",
              "      <td>Нижегородская область</td>\n",
              "      <td>Нижний Новгород</td>\n",
              "      <td>Услуги</td>\n",
              "      <td>Предложение услуг</td>\n",
              "      <td>Обучение, курсы</td>\n",
              "      <td>Профессиональная подготовка</td>\n",
              "      <td>NaN</td>\n",
              "      <td>Курсы сварщиков</td>\n",
              "      <td>Форма обучения: Вечерняя/\\nО программе./\\nОбуч...</td>\n",
              "      <td>7500.0</td>\n",
              "      <td>1</td>\n",
              "      <td>2017-03-28</td>\n",
              "      <td>Private</td>\n",
              "      <td>13596cbd6187bfe9dbfff5f6e7fa9da3750f9c97088675...</td>\n",
              "      <td>2266.0</td>\n",
              "      <td>1.0</td>\n",
              "      <td>868</td>\n",
              "      <td>99</td>\n",
              "      <td>12</td>\n",
              "      <td>126</td>\n",
              "      <td>730</td>\n",
              "      <td>0</td>\n",
              "      <td>98</td>\n",
              "      <td>868</td>\n",
              "      <td>0</td>\n",
              "    </tr>\n",
              "    <tr>\n",
              "      <th>8090</th>\n",
              "      <td>57916d9f508c</td>\n",
              "      <td>816a0e58be0b</td>\n",
              "      <td>Белгородская область</td>\n",
              "      <td>Белгород</td>\n",
              "      <td>Услуги</td>\n",
              "      <td>Предложение услуг</td>\n",
              "      <td>Ремонт, строительство</td>\n",
              "      <td>Строительство домов, коттеджей</td>\n",
              "      <td>NaN</td>\n",
              "      <td>Забор и навес</td>\n",
              "      <td>Заборы и навесы. Звоните договоримся. Цена от ...</td>\n",
              "      <td>300.0</td>\n",
              "      <td>63</td>\n",
              "      <td>2017-03-21</td>\n",
              "      <td>Company</td>\n",
              "      <td>15bdf0b5b874bf90745388ecad2db6803f0f555802eb52...</td>\n",
              "      <td>1284.0</td>\n",
              "      <td>1.0</td>\n",
              "      <td>63</td>\n",
              "      <td>11</td>\n",
              "      <td>4</td>\n",
              "      <td>14</td>\n",
              "      <td>42</td>\n",
              "      <td>3</td>\n",
              "      <td>10</td>\n",
              "      <td>63</td>\n",
              "      <td>0</td>\n",
              "    </tr>\n",
              "    <tr>\n",
              "      <th>4808</th>\n",
              "      <td>7aec22aca86f</td>\n",
              "      <td>0810319602ff</td>\n",
              "      <td>Тульская область</td>\n",
              "      <td>Тула</td>\n",
              "      <td>Услуги</td>\n",
              "      <td>Предложение услуг</td>\n",
              "      <td>Уборка</td>\n",
              "      <td>Генеральная уборка</td>\n",
              "      <td>NaN</td>\n",
              "      <td>Уборка квартиры,дома,офиса</td>\n",
              "      <td>Качественно и не дорого окажу услугу по уборке...</td>\n",
              "      <td>1000.0</td>\n",
              "      <td>52</td>\n",
              "      <td>2017-03-27</td>\n",
              "      <td>Private</td>\n",
              "      <td>745f86509048f7287387e9849ac26a4b4ce8faa3c78efa...</td>\n",
              "      <td>1404.0</td>\n",
              "      <td>1.0</td>\n",
              "      <td>159</td>\n",
              "      <td>18</td>\n",
              "      <td>7</td>\n",
              "      <td>26</td>\n",
              "      <td>126</td>\n",
              "      <td>0</td>\n",
              "      <td>17</td>\n",
              "      <td>159</td>\n",
              "      <td>0</td>\n",
              "    </tr>\n",
              "    <tr>\n",
              "      <th>611</th>\n",
              "      <td>dee8c64f9865</td>\n",
              "      <td>52cacb0c9cc0</td>\n",
              "      <td>Пермский край</td>\n",
              "      <td>Пермь</td>\n",
              "      <td>Услуги</td>\n",
              "      <td>Предложение услуг</td>\n",
              "      <td>Транспорт, перевозки</td>\n",
              "      <td>Аренда авто</td>\n",
              "      <td>NaN</td>\n",
              "      <td>Сдам в аренду</td>\n",
              "      <td>Авто в полной комплектации аренда 800 руб/суто...</td>\n",
              "      <td>800.0</td>\n",
              "      <td>1</td>\n",
              "      <td>2017-03-21</td>\n",
              "      <td>Private</td>\n",
              "      <td>52a22912d9734a269334b03fab2c4eb6f9d229d9a58926...</td>\n",
              "      <td>1113.0</td>\n",
              "      <td>1.0</td>\n",
              "      <td>106</td>\n",
              "      <td>13</td>\n",
              "      <td>1</td>\n",
              "      <td>16</td>\n",
              "      <td>82</td>\n",
              "      <td>7</td>\n",
              "      <td>12</td>\n",
              "      <td>106</td>\n",
              "      <td>0</td>\n",
              "    </tr>\n",
              "    <tr>\n",
              "      <th>857</th>\n",
              "      <td>5c8080f58fcc</td>\n",
              "      <td>b8209bcae085</td>\n",
              "      <td>Воронежская область</td>\n",
              "      <td>Калач</td>\n",
              "      <td>Услуги</td>\n",
              "      <td>Предложение услуг</td>\n",
              "      <td>Ремонт, строительство</td>\n",
              "      <td>Отделочные работы</td>\n",
              "      <td>NaN</td>\n",
              "      <td>Натяжные потолки, окна, балконы, кровля, стройка</td>\n",
              "      <td>Натяжные потолки в Калаче, Воронеже, и чернозе...</td>\n",
              "      <td>295.0</td>\n",
              "      <td>17</td>\n",
              "      <td>2017-03-18</td>\n",
              "      <td>Company</td>\n",
              "      <td>b365ab98ef152fbadf425c9e0bb86e08a5023796b0e291...</td>\n",
              "      <td>1191.0</td>\n",
              "      <td>1.0</td>\n",
              "      <td>760</td>\n",
              "      <td>90</td>\n",
              "      <td>27</td>\n",
              "      <td>149</td>\n",
              "      <td>577</td>\n",
              "      <td>7</td>\n",
              "      <td>95</td>\n",
              "      <td>760</td>\n",
              "      <td>0</td>\n",
              "    </tr>\n",
              "    <tr>\n",
              "      <th>3965</th>\n",
              "      <td>3894474d3cfa</td>\n",
              "      <td>cf938759bf23</td>\n",
              "      <td>Ханты-Мансийский АО</td>\n",
              "      <td>Нижневартовск</td>\n",
              "      <td>Услуги</td>\n",
              "      <td>Предложение услуг</td>\n",
              "      <td>Другое</td>\n",
              "      <td>NaN</td>\n",
              "      <td>NaN</td>\n",
              "      <td>Курсовые, дипломные</td>\n",
              "      <td>Помогу в написании курсовых, дипломных работ в...</td>\n",
              "      <td>1.0</td>\n",
              "      <td>2</td>\n",
              "      <td>2017-03-16</td>\n",
              "      <td>Private</td>\n",
              "      <td>NaN</td>\n",
              "      <td>NaN</td>\n",
              "      <td>1.0</td>\n",
              "      <td>70</td>\n",
              "      <td>10</td>\n",
              "      <td>1</td>\n",
              "      <td>12</td>\n",
              "      <td>57</td>\n",
              "      <td>0</td>\n",
              "      <td>9</td>\n",
              "      <td>70</td>\n",
              "      <td>0</td>\n",
              "    </tr>\n",
              "    <tr>\n",
              "      <th>4556</th>\n",
              "      <td>bf63f3c50ee9</td>\n",
              "      <td>7fd1447f1690</td>\n",
              "      <td>Пермский край</td>\n",
              "      <td>Пермь</td>\n",
              "      <td>Услуги</td>\n",
              "      <td>Предложение услуг</td>\n",
              "      <td>Транспорт, перевозки</td>\n",
              "      <td>Аренда авто</td>\n",
              "      <td>NaN</td>\n",
              "      <td>Логан. Аренда-выкуп.Под такси</td>\n",
              "      <td>Декабрь 2016 г.в.Белый.Без пробега.Пропан.Цент...</td>\n",
              "      <td>1500.0</td>\n",
              "      <td>71</td>\n",
              "      <td>2017-03-28</td>\n",
              "      <td>Company</td>\n",
              "      <td>NaN</td>\n",
              "      <td>NaN</td>\n",
              "      <td>1.0</td>\n",
              "      <td>272</td>\n",
              "      <td>28</td>\n",
              "      <td>24</td>\n",
              "      <td>47</td>\n",
              "      <td>183</td>\n",
              "      <td>18</td>\n",
              "      <td>27</td>\n",
              "      <td>272</td>\n",
              "      <td>0</td>\n",
              "    </tr>\n",
              "    <tr>\n",
              "      <th>2491</th>\n",
              "      <td>a9f8e0995349</td>\n",
              "      <td>2ca104d4276f</td>\n",
              "      <td>Ханты-Мансийский АО</td>\n",
              "      <td>Сургут</td>\n",
              "      <td>Услуги</td>\n",
              "      <td>Предложение услуг</td>\n",
              "      <td>Деловые услуги</td>\n",
              "      <td>Бухгалтерия, финансы</td>\n",
              "      <td>NaN</td>\n",
              "      <td>Декларация 3 ндфл</td>\n",
              "      <td>Быстро и качественно заполню декларацию 3 НДФЛ...</td>\n",
              "      <td>300.0</td>\n",
              "      <td>6</td>\n",
              "      <td>2017-03-25</td>\n",
              "      <td>Private</td>\n",
              "      <td>a6978586a943e6c9097b3f35af3628dcbc4117e0c3a680...</td>\n",
              "      <td>2890.0</td>\n",
              "      <td>1.0</td>\n",
              "      <td>182</td>\n",
              "      <td>25</td>\n",
              "      <td>6</td>\n",
              "      <td>32</td>\n",
              "      <td>140</td>\n",
              "      <td>4</td>\n",
              "      <td>24</td>\n",
              "      <td>182</td>\n",
              "      <td>1</td>\n",
              "    </tr>\n",
              "    <tr>\n",
              "      <th>8305</th>\n",
              "      <td>f9723ec81c0f</td>\n",
              "      <td>a41036293337</td>\n",
              "      <td>Ростовская область</td>\n",
              "      <td>Ростов-на-Дону</td>\n",
              "      <td>Услуги</td>\n",
              "      <td>Предложение услуг</td>\n",
              "      <td>Уборка</td>\n",
              "      <td>Генеральная уборка</td>\n",
              "      <td>NaN</td>\n",
              "      <td>Клининг</td>\n",
              "      <td>Уборка (в т..ч. генеральная) квартир, домов, о...</td>\n",
              "      <td>NaN</td>\n",
              "      <td>109</td>\n",
              "      <td>2017-03-23</td>\n",
              "      <td>Private</td>\n",
              "      <td>61ec9aaef4f63e4c735ecbc180e7041f7c1f0d85ae32f7...</td>\n",
              "      <td>2272.0</td>\n",
              "      <td>1.0</td>\n",
              "      <td>164</td>\n",
              "      <td>19</td>\n",
              "      <td>5</td>\n",
              "      <td>35</td>\n",
              "      <td>124</td>\n",
              "      <td>0</td>\n",
              "      <td>19</td>\n",
              "      <td>164</td>\n",
              "      <td>0</td>\n",
              "    </tr>\n",
              "  </tbody>\n",
              "</table>\n",
              "</div>"
            ],
            "text/plain": [
              "           item_id       user_id  ... number_of_punct words\n",
              "8719  d486827679d6  068fca56e063  ...             131     0\n",
              "9747  fb21cf55769f  60bcc306dc65  ...             868     0\n",
              "8090  57916d9f508c  816a0e58be0b  ...              63     0\n",
              "4808  7aec22aca86f  0810319602ff  ...             159     0\n",
              "611   dee8c64f9865  52cacb0c9cc0  ...             106     0\n",
              "857   5c8080f58fcc  b8209bcae085  ...             760     0\n",
              "3965  3894474d3cfa  cf938759bf23  ...              70     0\n",
              "4556  bf63f3c50ee9  7fd1447f1690  ...             272     0\n",
              "2491  a9f8e0995349  2ca104d4276f  ...             182     1\n",
              "8305  f9723ec81c0f  a41036293337  ...             164     0\n",
              "\n",
              "[10 rows x 27 columns]"
            ]
          },
          "metadata": {
            "tags": []
          },
          "execution_count": 191
        }
      ]
    },
    {
      "cell_type": "markdown",
      "metadata": {
        "id": "Y0al4qrZ8Ziv",
        "colab_type": "text"
      },
      "source": [
        "Изначально в качестве дополнительных параметров я брала:\n",
        "\n",
        "* число маленьких букв\n",
        "\n",
        "Моя логика такова: в тексте объявления, по которому будут что-то покупать, не должны быть только маленькие буквы, но их должно быть больше, чем больших. То есть вероятность того, что купят что-то по объявлению, больше у того объявления, у которого количество больших и маленьких букв сбалансированно в пользу большего количества маленьких букв.\n",
        "\n",
        "* число цифр\n",
        "\n",
        "Думаю, что использование числовых признаков/параметров товаров и услуг может повлиять на вероятность покупки в сторону увеличения.\n",
        "\n",
        "* число пробелов\n",
        "\n",
        "Если в тексте мало пробелов, это должно отразиться на продаваемости, так как текст будет менее читабельный.\n",
        "\n",
        "* пунктуация\n",
        "\n",
        "Знаки препинания должны быть в более продаваемом тексте, но в умеренном количестве.\n",
        "\n",
        "* специальные слова\n",
        "\n",
        "Возможно, слова \"внимание\", \"срочно\" и т.д. повлияют на вероятность покупки товара/услуги.\n",
        "\n",
        "Если выбрать какой-то один дополнительный параметр, то можно улучшить модель, не сломав при этом изначальную метрику."
      ]
    },
    {
      "cell_type": "code",
      "metadata": {
        "id": "8akk5rJ7_w9x",
        "colab_type": "code",
        "colab": {}
      },
      "source": [
        "data['text_len'] = data['description'].apply(len)\n",
        "data['text_len_tokens'] = data['description'].apply(lambda x: len(x.split()))\n",
        "data['number_of_caps'] = data['description'].apply(lambda x: len([ch for ch in x if ch.isupper()]))\n",
        "data['number_of_nonalphanum'] = data['description'].apply(lambda x: len([ch for ch in x if not ch.isalnum()]))\n",
        "data['number_of_noncaps'] = data['description'].apply(lambda x: len([ch for ch in x if ch.islower()]))\n",
        "# data['number_of_nums'] = data['description'].apply(lambda x: len([ch for ch in x if ch.isdigit()]))\n",
        "# data['number_of_spaces'] = data['description'].apply(lambda x: len([ch for ch in x if ch.isspace()]))\n",
        "# selling_words = ('внимание', 'срочно', 'недорого', 'быстро', 'дешево', 'скидка') \n",
        "# data['words'] = data['description'].apply(lambda x: len([w for w in x.lower().split() if w in selling_words]))\n",
        "# data['number_of_spaces'] = data['description'].apply(lambda x: len([ch for ch in x if ch.isspace()]))\n",
        "# data['number_of_punct'] = data['description'].apply(lambda x: len([ch for ch in x if ch in string.punctuation]))"
      ],
      "execution_count": 0,
      "outputs": []
    },
    {
      "cell_type": "code",
      "metadata": {
        "id": "EaKSL-Q-_zHv",
        "colab_type": "code",
        "colab": {}
      },
      "source": [
        "X = data[['text_len', 'text_len_tokens', 'number_of_caps', 'number_of_nonalphanum', 'number_of_noncaps']].values\n",
        "y = data.deal_probability.values"
      ],
      "execution_count": 0,
      "outputs": []
    },
    {
      "cell_type": "code",
      "metadata": {
        "id": "Fc8lFk_65pzI",
        "colab_type": "code",
        "outputId": "cbccda22-17f1-400e-df56-72442e20d058",
        "colab": {
          "base_uri": "https://localhost:8080/",
          "height": 34
        }
      },
      "source": [
        "X.shape"
      ],
      "execution_count": 0,
      "outputs": [
        {
          "output_type": "execute_result",
          "data": {
            "text/plain": [
              "(11097, 7)"
            ]
          },
          "metadata": {
            "tags": []
          },
          "execution_count": 274
        }
      ]
    },
    {
      "cell_type": "code",
      "metadata": {
        "id": "9J6B4BTg_1w-",
        "colab_type": "code",
        "colab": {}
      },
      "source": [
        "cv = CountVectorizer(max_features=1000, min_df=5, max_df=0.4, ngram_range=(1,2))\n",
        "tfidf = TfidfVectorizer(max_features=1000, min_df=5,analyzer='char', ngram_range=(3,3), max_df=0.4)\n",
        "y = data.deal_probability.values\n",
        "X_cv = cv.fit_transform(data.description)\n",
        "X_tfidf = tfidf.fit_transform(data.description)\n",
        "\n",
        "X = hstack([X_cv, X_tfidf])"
      ],
      "execution_count": 0,
      "outputs": []
    },
    {
      "cell_type": "code",
      "metadata": {
        "id": "EusBH-1e_3oK",
        "colab_type": "code",
        "colab": {}
      },
      "source": [
        "X_train, X_test, y_train, y_test = train_test_split(X, y, random_state=42)"
      ],
      "execution_count": 0,
      "outputs": []
    },
    {
      "cell_type": "code",
      "metadata": {
        "id": "eoajPcj2_5bb",
        "colab_type": "code",
        "outputId": "5b057ea3-4587-4c4d-fe0a-99ecc2ee8fe9",
        "colab": {
          "base_uri": "https://localhost:8080/",
          "height": 34
        }
      },
      "source": [
        "regressor = SGDRegressor(max_iter=50, alpha=0.00001)\n",
        "regressor.fit(X_train, y_train)\n",
        "preds = regressor.predict(X_test)\n",
        "np.sqrt(mean_squared_error(y_test, preds)) #должно быть лучше 0.248"
      ],
      "execution_count": 0,
      "outputs": [
        {
          "output_type": "execute_result",
          "data": {
            "text/plain": [
              "0.2673904377705585"
            ]
          },
          "metadata": {
            "tags": []
          },
          "execution_count": 429
        }
      ]
    },
    {
      "cell_type": "code",
      "metadata": {
        "id": "HIX9bgJA_7DA",
        "colab_type": "code",
        "colab": {}
      },
      "source": [
        "regressor = Ridge(alpha=1)\n",
        "regressor.fit(X_train, y_train)\n",
        "preds = regressor.predict(X_test)\n",
        "np.sqrt(mean_squared_error(y_test, preds))  #должно быть лучше 0.248"
      ],
      "execution_count": 0,
      "outputs": []
    },
    {
      "cell_type": "code",
      "metadata": {
        "id": "nr73kXM3_8xn",
        "colab_type": "code",
        "outputId": "bd37c7c9-f3da-4fbe-a95b-9a0596070c47",
        "colab": {
          "base_uri": "https://localhost:8080/",
          "height": 34
        }
      },
      "source": [
        "r2_score(y_test, preds)"
      ],
      "execution_count": 0,
      "outputs": [
        {
          "output_type": "execute_result",
          "data": {
            "text/plain": [
              "0.0416272004751459"
            ]
          },
          "metadata": {
            "tags": []
          },
          "execution_count": 430
        }
      ]
    },
    {
      "cell_type": "markdown",
      "metadata": {
        "id": "QpYoF6b1B06d",
        "colab_type": "text"
      },
      "source": [
        "Но как только я добавляю все оставшиеся параметры, происходит вот это."
      ]
    },
    {
      "cell_type": "code",
      "metadata": {
        "id": "cGZv0Ha8B5cT",
        "colab_type": "code",
        "colab": {}
      },
      "source": [
        "data['text_len'] = data['description'].apply(len)\n",
        "data['text_len_tokens'] = data['description'].apply(lambda x: len(x.split()))\n",
        "data['number_of_caps'] = data['description'].apply(lambda x: len([ch for ch in x if ch.isupper()]))\n",
        "data['number_of_nonalphanum'] = data['description'].apply(lambda x: len([ch for ch in x if not ch.isalnum()]))\n",
        "data['number_of_noncaps'] = data['description'].apply(lambda x: len([ch for ch in x if ch.islower()]))\n",
        "data['number_of_nums'] = data['description'].apply(lambda x: len([ch for ch in x if ch.isdigit()]))\n",
        "data['number_of_spaces'] = data['description'].apply(lambda x: len([ch for ch in x if ch.isspace()]))\n",
        "selling_words = ('внимание', 'срочно', 'недорого', 'быстро', 'дешево', 'скидка') \n",
        "data['words'] = data['description'].apply(lambda x: len([w for w in x.lower().split() if w in selling_words]))\n",
        "data['number_of_punct'] = data['description'].apply(lambda x: len([ch for ch in x if ch in string.punctuation]))\n",
        "X = data[['text_len', 'text_len_tokens', 'number_of_caps', 'number_of_nonalphanum', 'number_of_noncaps', 'number_of_nums', 'number_of_spaces', 'words', 'number_of_punct']].values\n",
        "y = data.deal_probability.values\n",
        "cv = CountVectorizer(max_features=1000, min_df=5, max_df=0.4, ngram_range=(1,2))\n",
        "tfidf = TfidfVectorizer(max_features=1000, min_df=5,analyzer='char', ngram_range=(3,3), max_df=0.4)\n",
        "y = data.deal_probability.values\n",
        "X_cv = cv.fit_transform(data.description)\n",
        "X_tfidf = tfidf.fit_transform(data.description)\n",
        "\n",
        "X = hstack([X_cv, X_tfidf])\n",
        "X_train, X_test, y_train, y_test = train_test_split(X, y, random_state=42)"
      ],
      "execution_count": 0,
      "outputs": []
    },
    {
      "cell_type": "code",
      "metadata": {
        "id": "ZKEqucvUCBY7",
        "colab_type": "code",
        "outputId": "4564428a-9cb5-48e0-ed17-5f7d16de05ab",
        "colab": {
          "base_uri": "https://localhost:8080/",
          "height": 34
        }
      },
      "source": [
        "regressor = SGDRegressor(max_iter=50, alpha=0.00001)\n",
        "regressor.fit(X_train, y_train)\n",
        "preds = regressor.predict(X_test)\n",
        "np.sqrt(mean_squared_error(y_test, preds)) #должно быть лучше 0.248"
      ],
      "execution_count": 0,
      "outputs": [
        {
          "output_type": "execute_result",
          "data": {
            "text/plain": [
              "0.45752954259566464"
            ]
          },
          "metadata": {
            "tags": []
          },
          "execution_count": 432
        }
      ]
    },
    {
      "cell_type": "code",
      "metadata": {
        "id": "T7ExSQxZCCzW",
        "colab_type": "code",
        "outputId": "2fe45aa7-81e8-426b-d9f0-9c26a40b22c7",
        "colab": {
          "base_uri": "https://localhost:8080/",
          "height": 34
        }
      },
      "source": [
        "regressor = Ridge(alpha=1)\n",
        "regressor.fit(X_train, y_train)\n",
        "preds = regressor.predict(X_test)\n",
        "np.sqrt(mean_squared_error(y_test, preds))  #должно быть лучше 0.248"
      ],
      "execution_count": 0,
      "outputs": [
        {
          "output_type": "execute_result",
          "data": {
            "text/plain": [
              "0.2807670339275486"
            ]
          },
          "metadata": {
            "tags": []
          },
          "execution_count": 433
        }
      ]
    },
    {
      "cell_type": "code",
      "metadata": {
        "id": "MrAf9OBhCEkc",
        "colab_type": "code",
        "outputId": "e42de6ec-961b-42c0-b601-44e7ba6b082e",
        "colab": {
          "base_uri": "https://localhost:8080/",
          "height": 34
        }
      },
      "source": [
        "r2_score(y_test, preds)"
      ],
      "execution_count": 0,
      "outputs": [
        {
          "output_type": "execute_result",
          "data": {
            "text/plain": [
              "-0.05665925844742703"
            ]
          },
          "metadata": {
            "tags": []
          },
          "execution_count": 434
        }
      ]
    },
    {
      "cell_type": "markdown",
      "metadata": {
        "id": "Dom7Zh7CCUtm",
        "colab_type": "text"
      },
      "source": [
        "То есть частично что-то ломается, хотя SGDRegressor увеличился почти вдвое. Попробуем поменять параметры векторайзера."
      ]
    },
    {
      "cell_type": "code",
      "metadata": {
        "id": "9QsJUJwOC24R",
        "colab_type": "code",
        "colab": {}
      },
      "source": [
        "data['text_len'] = data['description'].apply(len)\n",
        "data['text_len_tokens'] = data['description'].apply(lambda x: len(x.split()))\n",
        "data['number_of_caps'] = data['description'].apply(lambda x: len([ch for ch in x if ch.isupper()]))\n",
        "data['number_of_nonalphanum'] = data['description'].apply(lambda x: len([ch for ch in x if not ch.isalnum()]))\n",
        "data['number_of_noncaps'] = data['description'].apply(lambda x: len([ch for ch in x if ch.islower()]))\n",
        "data['number_of_nums'] = data['description'].apply(lambda x: len([ch for ch in x if ch.isdigit()]))\n",
        "data['number_of_spaces'] = data['description'].apply(lambda x: len([ch for ch in x if ch.isspace()]))\n",
        "selling_words = ('внимание', 'срочно', 'недорого', 'быстро', 'дешево', 'скидка') \n",
        "data['words'] = data['description'].apply(lambda x: len([w for w in x.lower().split() if w in selling_words]))\n",
        "data['number_of_punct'] = data['description'].apply(lambda x: len([ch for ch in x if ch in string.punctuation]))\n",
        "X = data[['text_len', 'text_len_tokens', 'number_of_caps', 'number_of_nonalphanum', 'number_of_noncaps', 'number_of_nums', 'number_of_spaces', 'words', 'number_of_punct']].values\n",
        "y = data.deal_probability.values\n",
        "cv = CountVectorizer(max_features=10000, min_df=4, max_df=0.4, ngram_range=(3,3))\n",
        "tfidf = TfidfVectorizer(max_features=10000, min_df=4,analyzer='char', ngram_range=(3,3), max_df=0.4)\n",
        "y = data.deal_probability.values\n",
        "X_cv = cv.fit_transform(data.description)\n",
        "X_tfidf = tfidf.fit_transform(data.description)\n",
        "\n",
        "X = hstack([X_cv, X_tfidf])\n",
        "X_train, X_test, y_train, y_test = train_test_split(X, y, random_state=42)"
      ],
      "execution_count": 0,
      "outputs": []
    },
    {
      "cell_type": "code",
      "metadata": {
        "id": "C5ylFda2C6NS",
        "colab_type": "code",
        "outputId": "3296edd3-c5f7-447c-8184-167285dc3d01",
        "colab": {
          "base_uri": "https://localhost:8080/",
          "height": 34
        }
      },
      "source": [
        "regressor = SGDRegressor(max_iter=50, alpha=0.00001)\n",
        "regressor.fit(X_train, y_train)\n",
        "preds = regressor.predict(X_test)\n",
        "np.sqrt(mean_squared_error(y_test, preds)) #должно быть лучше 0.248"
      ],
      "execution_count": 0,
      "outputs": [
        {
          "output_type": "execute_result",
          "data": {
            "text/plain": [
              "0.2700575141779264"
            ]
          },
          "metadata": {
            "tags": []
          },
          "execution_count": 451
        }
      ]
    },
    {
      "cell_type": "code",
      "metadata": {
        "id": "AQI34sVHC7gH",
        "colab_type": "code",
        "outputId": "fe30b18a-4ea5-4a9d-97a6-d03deb40f018",
        "colab": {
          "base_uri": "https://localhost:8080/",
          "height": 34
        }
      },
      "source": [
        "regressor = Ridge(alpha=1)\n",
        "regressor.fit(X_train, y_train)\n",
        "preds = regressor.predict(X_test)\n",
        "np.sqrt(mean_squared_error(y_test, preds))  #должно быть лучше 0.248"
      ],
      "execution_count": 0,
      "outputs": [
        {
          "output_type": "execute_result",
          "data": {
            "text/plain": [
              "0.27784457193950585"
            ]
          },
          "metadata": {
            "tags": []
          },
          "execution_count": 449
        }
      ]
    },
    {
      "cell_type": "code",
      "metadata": {
        "id": "aEelaUB0C8zU",
        "colab_type": "code",
        "outputId": "f6d6473d-7d25-4b6e-ee1d-b5a72d02bc8b",
        "colab": {
          "base_uri": "https://localhost:8080/",
          "height": 34
        }
      },
      "source": [
        "r2_score(y_test, preds)"
      ],
      "execution_count": 0,
      "outputs": [
        {
          "output_type": "execute_result",
          "data": {
            "text/plain": [
              "0.022413341245524965"
            ]
          },
          "metadata": {
            "tags": []
          },
          "execution_count": 452
        }
      ]
    },
    {
      "cell_type": "markdown",
      "metadata": {
        "id": "E_8Bq4csDeov",
        "colab_type": "text"
      },
      "source": [
        "Вот так значение метрики стало гораздо лучше."
      ]
    }
  ]
}